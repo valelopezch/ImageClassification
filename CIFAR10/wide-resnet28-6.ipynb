{
 "cells": [
  {
   "cell_type": "markdown",
   "metadata": {},
   "source": [
    "<div style=\"text-align: right\"><b> Ana Valentina López Chacón </b></div>\n",
    "<div style=\"text-align: right\"><b> Visión por Computadora, 2024 - 2025 </b></div>\n",
    "\n",
    "## **Visión por Computadora: Wide ResNet**"
   ]
  },
  {
   "cell_type": "code",
   "execution_count": 1,
   "metadata": {
    "_cell_guid": "b1076dfc-b9ad-4769-8c92-a6c4dae69d19",
    "_uuid": "8f2839f25d086af736a60e9eeb907d3b93b6e0e5",
    "execution": {
     "iopub.execute_input": "2025-04-14T09:41:21.932812Z",
     "iopub.status.busy": "2025-04-14T09:41:21.932052Z",
     "iopub.status.idle": "2025-04-14T09:41:30.133866Z",
     "shell.execute_reply": "2025-04-14T09:41:30.132910Z",
     "shell.execute_reply.started": "2025-04-14T09:41:21.932777Z"
    },
    "trusted": true
   },
   "outputs": [
    {
     "name": "stdout",
     "output_type": "stream",
     "text": [
      "Torch version:  2.5.1+cu124\n",
      "Device:  cuda\n"
     ]
    }
   ],
   "source": [
    "import torch\n",
    "import torchvision\n",
    "import torch.nn as nn\n",
    "from tqdm import tqdm\n",
    "import multiprocessing\n",
    "import torch.optim as optim\n",
    "import torch.nn.functional as  F\n",
    "from torchvision import transforms\n",
    "from torch.utils.data import Dataset\n",
    "from torch.utils.data import DataLoader\n",
    "\n",
    "print(\"Torch version: \", torch. __version__)\n",
    "device = torch.device(\"cuda\" if torch.cuda.is_available() else \"cpu\")\n",
    "print(\"Device: \", device)"
   ]
  },
  {
   "cell_type": "code",
   "execution_count": 2,
   "metadata": {
    "execution": {
     "iopub.execute_input": "2025-04-14T09:41:30.135465Z",
     "iopub.status.busy": "2025-04-14T09:41:30.135050Z",
     "iopub.status.idle": "2025-04-14T09:41:30.146513Z",
     "shell.execute_reply": "2025-04-14T09:41:30.145832Z",
     "shell.execute_reply.started": "2025-04-14T09:41:30.135442Z"
    },
    "trusted": true
   },
   "outputs": [],
   "source": [
    "seed = 42\n",
    "torch.manual_seed(seed)\n",
    "\n",
    "if torch.cuda.is_available():\n",
    "    torch.cuda.manual_seed(seed)\n",
    "    torch.cuda.manual_seed_all(seed)\n",
    "    torch.backends.cudnn.deterministic = True\n",
    "    torch.backends.cudnn.benchmark = False"
   ]
  },
  {
   "cell_type": "code",
   "execution_count": 3,
   "metadata": {
    "execution": {
     "iopub.execute_input": "2025-04-14T09:41:30.147406Z",
     "iopub.status.busy": "2025-04-14T09:41:30.147230Z",
     "iopub.status.idle": "2025-04-14T09:41:30.173028Z",
     "shell.execute_reply": "2025-04-14T09:41:30.172269Z",
     "shell.execute_reply.started": "2025-04-14T09:41:30.147391Z"
    },
    "trusted": true
   },
   "outputs": [],
   "source": [
    "da_train = transforms.Compose([\n",
    "    transforms.RandomHorizontalFlip(),\n",
    "    transforms.RandomAffine(degrees=15, translate=(0.2, 0.2), scale=(0.9, 1.1)),\n",
    "    transforms.RandomResizedCrop(size=32, scale=(0.8, 1.0)),\n",
    "    transforms.ToTensor(),\n",
    "])\n",
    "\n",
    "da_test = transforms.Compose([\n",
    "    transforms.ToTensor(),\n",
    "])"
   ]
  },
  {
   "cell_type": "markdown",
   "metadata": {},
   "source": [
    "### **Carga de Datos**"
   ]
  },
  {
   "cell_type": "code",
   "execution_count": 4,
   "metadata": {
    "execution": {
     "iopub.execute_input": "2025-04-14T09:41:30.175807Z",
     "iopub.status.busy": "2025-04-14T09:41:30.175164Z",
     "iopub.status.idle": "2025-04-14T09:41:35.600585Z",
     "shell.execute_reply": "2025-04-14T09:41:35.599940Z",
     "shell.execute_reply.started": "2025-04-14T09:41:30.175777Z"
    },
    "trusted": true
   },
   "outputs": [
    {
     "name": "stdout",
     "output_type": "stream",
     "text": [
      "\n",
      "Loading CIFAR10  train  Dataset...\n",
      "Downloading https://www.cs.toronto.edu/~kriz/cifar-10-python.tar.gz to .data/cifar-10-python.tar.gz\n"
     ]
    },
    {
     "name": "stderr",
     "output_type": "stream",
     "text": [
      "100%|██████████| 170M/170M [00:02<00:00, 84.8MB/s] \n"
     ]
    },
    {
     "name": "stdout",
     "output_type": "stream",
     "text": [
      "Extracting .data/cifar-10-python.tar.gz to .data/\n",
      "\tTotal Len.:  50000 \n",
      " --------------------------------------------------\n",
      "\n",
      "Loading CIFAR10  test  Dataset...\n",
      "Files already downloaded and verified\n",
      "\tTotal Len.:  10000 \n",
      " --------------------------------------------------\n"
     ]
    }
   ],
   "source": [
    "class CIFAR10_dataset(Dataset):\n",
    "\n",
    "    def __init__(self, transform, partition = \"train\"):\n",
    "\n",
    "        print(\"\\nLoading CIFAR10 \", partition, \" Dataset...\")\n",
    "        self.partition = partition\n",
    "        self.transform = transform\n",
    "        if self.partition == \"train\":\n",
    "            self.data = torchvision.datasets.CIFAR10('.data/', \n",
    "                                                     train=True,\n",
    "                                                     download=True)\n",
    "        else:\n",
    "            self.data = torchvision.datasets.CIFAR10('.data/', \n",
    "                                                     train=False,\n",
    "                                                     download=True)\n",
    "        print(\"\\tTotal Len.: \", len(self.data), \"\\n\", 50*\"-\")\n",
    "    \n",
    "    def __len__(self):\n",
    "        return len(self.data)\n",
    "\n",
    "    def __getitem__(self, idx):\n",
    "\n",
    "        # Image\n",
    "        image = self.data[idx][0]\n",
    "        image_tensor = self.transform(image)\n",
    "\n",
    "        # Label\n",
    "        label = torch.tensor(self.data[idx][1])\n",
    "        label = F.one_hot(label, num_classes=10).float()\n",
    "\n",
    "        return {\"img\": image_tensor, \"label\": label}\n",
    "\n",
    "train_dataset = CIFAR10_dataset(da_train, partition=\"train\")\n",
    "test_dataset = CIFAR10_dataset(da_test, partition=\"test\")"
   ]
  },
  {
   "cell_type": "code",
   "execution_count": 5,
   "metadata": {
    "execution": {
     "iopub.execute_input": "2025-04-14T09:41:35.602132Z",
     "iopub.status.busy": "2025-04-14T09:41:35.601335Z",
     "iopub.status.idle": "2025-04-14T09:41:35.606746Z",
     "shell.execute_reply": "2025-04-14T09:41:35.606162Z",
     "shell.execute_reply.started": "2025-04-14T09:41:35.602110Z"
    },
    "trusted": true
   },
   "outputs": [
    {
     "name": "stdout",
     "output_type": "stream",
     "text": [
      "Num workers 3\n"
     ]
    }
   ],
   "source": [
    "batch_size = 100\n",
    "num_workers = multiprocessing.cpu_count()-1\n",
    "print(\"Num workers\", num_workers)\n",
    "train_dataloader = DataLoader(train_dataset, batch_size, shuffle=True, num_workers=num_workers)\n",
    "test_dataloader = DataLoader(test_dataset, batch_size, shuffle=False, num_workers=num_workers)"
   ]
  },
  {
   "cell_type": "markdown",
   "metadata": {},
   "source": [
    "### **Creación de Red**"
   ]
  },
  {
   "cell_type": "code",
   "execution_count": 6,
   "metadata": {
    "execution": {
     "iopub.execute_input": "2025-04-14T09:41:35.607643Z",
     "iopub.status.busy": "2025-04-14T09:41:35.607382Z",
     "iopub.status.idle": "2025-04-14T09:41:35.623655Z",
     "shell.execute_reply": "2025-04-14T09:41:35.622989Z",
     "shell.execute_reply.started": "2025-04-14T09:41:35.607611Z"
    },
    "trusted": true
   },
   "outputs": [],
   "source": [
    "class WideResidualBlock(nn.Module):\n",
    "    def __init__(self, in_planes, out_planes, stride):\n",
    "        super(WideResidualBlock, self).__init__()\n",
    "        self.bn1 = nn.BatchNorm2d(in_planes)\n",
    "        self.conv1 = nn.Conv2d(in_planes, out_planes, kernel_size=3, stride=stride, padding=1, bias=False)\n",
    "        self.bn2 = nn.BatchNorm2d(out_planes)\n",
    "        self.conv2 = nn.Conv2d(out_planes, out_planes, kernel_size=3, stride=1, padding=1, bias=False)\n",
    "\n",
    "        self.shortcut = nn.Sequential()\n",
    "        if stride != 1 or in_planes != out_planes:\n",
    "            self.shortcut = nn.Conv2d(in_planes, out_planes, kernel_size=1, stride=stride, bias=False)\n",
    "\n",
    "    def forward(self, x):\n",
    "        out = self.conv1(F.relu(self.bn1(x)))\n",
    "        out = self.conv2(F.relu(self.bn2(out)))\n",
    "        out += self.shortcut(x)\n",
    "        return out"
   ]
  },
  {
   "cell_type": "code",
   "execution_count": 7,
   "metadata": {
    "execution": {
     "iopub.execute_input": "2025-04-14T09:41:35.624701Z",
     "iopub.status.busy": "2025-04-14T09:41:35.624444Z",
     "iopub.status.idle": "2025-04-14T09:41:35.645229Z",
     "shell.execute_reply": "2025-04-14T09:41:35.644417Z",
     "shell.execute_reply.started": "2025-04-14T09:41:35.624674Z"
    },
    "trusted": true
   },
   "outputs": [],
   "source": [
    "class WideResNet(nn.Module):\n",
    "    def __init__(self, depth=28, widen_factor=10, num_classes=10):\n",
    "        super(WideResNet, self).__init__()\n",
    "        self.in_planes = 16\n",
    "\n",
    "        assert (depth - 4) % 6 == 0\n",
    "        n = (depth - 4) // 6\n",
    "\n",
    "        k = widen_factor\n",
    "        nStages = [16, 16 * k, 32 * k, 64 * k]\n",
    "\n",
    "        self.conv1 = nn.Conv2d(3, nStages[0], kernel_size=3, stride=1, padding=1, bias=False)\n",
    "        self.layer1 = self._make_layer(nStages[1], n, stride=1)\n",
    "        self.layer2 = self._make_layer(nStages[2], n, stride=2)\n",
    "        self.layer3 = self._make_layer(nStages[3], n, stride=2)\n",
    "        self.bn1 = nn.BatchNorm2d(nStages[3])\n",
    "        self.linear = nn.Linear(nStages[3], num_classes)\n",
    "\n",
    "    def _make_layer(self, out_planes, num_blocks, stride):\n",
    "        strides = [stride] + [1] * (num_blocks - 1)\n",
    "        layers = []\n",
    "        for stride in strides:\n",
    "            layers.append(WideResidualBlock(self.in_planes, out_planes, stride))\n",
    "            self.in_planes = out_planes\n",
    "        return nn.Sequential(*layers)\n",
    "\n",
    "    def forward(self, x):\n",
    "        out = self.conv1(x)\n",
    "        out = self.layer1(out)\n",
    "        out = self.layer2(out)\n",
    "        out = self.layer3(out)\n",
    "        out = F.relu(self.bn1(out))\n",
    "        out = F.avg_pool2d(out, 8)\n",
    "        out = out.view(out.size(0), -1)\n",
    "        out = self.linear(out)\n",
    "        return out\n"
   ]
  },
  {
   "cell_type": "code",
   "execution_count": 8,
   "metadata": {
    "execution": {
     "iopub.execute_input": "2025-04-14T09:41:35.646551Z",
     "iopub.status.busy": "2025-04-14T09:41:35.646304Z",
     "iopub.status.idle": "2025-04-14T09:41:35.823517Z",
     "shell.execute_reply": "2025-04-14T09:41:35.822872Z",
     "shell.execute_reply.started": "2025-04-14T09:41:35.646531Z"
    },
    "trusted": true
   },
   "outputs": [
    {
     "name": "stdout",
     "output_type": "stream",
     "text": [
      "WideResNet(\n",
      "  (conv1): Conv2d(3, 16, kernel_size=(3, 3), stride=(1, 1), padding=(1, 1), bias=False)\n",
      "  (layer1): Sequential(\n",
      "    (0): WideResidualBlock(\n",
      "      (bn1): BatchNorm2d(16, eps=1e-05, momentum=0.1, affine=True, track_running_stats=True)\n",
      "      (conv1): Conv2d(16, 96, kernel_size=(3, 3), stride=(1, 1), padding=(1, 1), bias=False)\n",
      "      (bn2): BatchNorm2d(96, eps=1e-05, momentum=0.1, affine=True, track_running_stats=True)\n",
      "      (conv2): Conv2d(96, 96, kernel_size=(3, 3), stride=(1, 1), padding=(1, 1), bias=False)\n",
      "      (shortcut): Conv2d(16, 96, kernel_size=(1, 1), stride=(1, 1), bias=False)\n",
      "    )\n",
      "    (1): WideResidualBlock(\n",
      "      (bn1): BatchNorm2d(96, eps=1e-05, momentum=0.1, affine=True, track_running_stats=True)\n",
      "      (conv1): Conv2d(96, 96, kernel_size=(3, 3), stride=(1, 1), padding=(1, 1), bias=False)\n",
      "      (bn2): BatchNorm2d(96, eps=1e-05, momentum=0.1, affine=True, track_running_stats=True)\n",
      "      (conv2): Conv2d(96, 96, kernel_size=(3, 3), stride=(1, 1), padding=(1, 1), bias=False)\n",
      "      (shortcut): Sequential()\n",
      "    )\n",
      "    (2): WideResidualBlock(\n",
      "      (bn1): BatchNorm2d(96, eps=1e-05, momentum=0.1, affine=True, track_running_stats=True)\n",
      "      (conv1): Conv2d(96, 96, kernel_size=(3, 3), stride=(1, 1), padding=(1, 1), bias=False)\n",
      "      (bn2): BatchNorm2d(96, eps=1e-05, momentum=0.1, affine=True, track_running_stats=True)\n",
      "      (conv2): Conv2d(96, 96, kernel_size=(3, 3), stride=(1, 1), padding=(1, 1), bias=False)\n",
      "      (shortcut): Sequential()\n",
      "    )\n",
      "    (3): WideResidualBlock(\n",
      "      (bn1): BatchNorm2d(96, eps=1e-05, momentum=0.1, affine=True, track_running_stats=True)\n",
      "      (conv1): Conv2d(96, 96, kernel_size=(3, 3), stride=(1, 1), padding=(1, 1), bias=False)\n",
      "      (bn2): BatchNorm2d(96, eps=1e-05, momentum=0.1, affine=True, track_running_stats=True)\n",
      "      (conv2): Conv2d(96, 96, kernel_size=(3, 3), stride=(1, 1), padding=(1, 1), bias=False)\n",
      "      (shortcut): Sequential()\n",
      "    )\n",
      "  )\n",
      "  (layer2): Sequential(\n",
      "    (0): WideResidualBlock(\n",
      "      (bn1): BatchNorm2d(96, eps=1e-05, momentum=0.1, affine=True, track_running_stats=True)\n",
      "      (conv1): Conv2d(96, 192, kernel_size=(3, 3), stride=(2, 2), padding=(1, 1), bias=False)\n",
      "      (bn2): BatchNorm2d(192, eps=1e-05, momentum=0.1, affine=True, track_running_stats=True)\n",
      "      (conv2): Conv2d(192, 192, kernel_size=(3, 3), stride=(1, 1), padding=(1, 1), bias=False)\n",
      "      (shortcut): Conv2d(96, 192, kernel_size=(1, 1), stride=(2, 2), bias=False)\n",
      "    )\n",
      "    (1): WideResidualBlock(\n",
      "      (bn1): BatchNorm2d(192, eps=1e-05, momentum=0.1, affine=True, track_running_stats=True)\n",
      "      (conv1): Conv2d(192, 192, kernel_size=(3, 3), stride=(1, 1), padding=(1, 1), bias=False)\n",
      "      (bn2): BatchNorm2d(192, eps=1e-05, momentum=0.1, affine=True, track_running_stats=True)\n",
      "      (conv2): Conv2d(192, 192, kernel_size=(3, 3), stride=(1, 1), padding=(1, 1), bias=False)\n",
      "      (shortcut): Sequential()\n",
      "    )\n",
      "    (2): WideResidualBlock(\n",
      "      (bn1): BatchNorm2d(192, eps=1e-05, momentum=0.1, affine=True, track_running_stats=True)\n",
      "      (conv1): Conv2d(192, 192, kernel_size=(3, 3), stride=(1, 1), padding=(1, 1), bias=False)\n",
      "      (bn2): BatchNorm2d(192, eps=1e-05, momentum=0.1, affine=True, track_running_stats=True)\n",
      "      (conv2): Conv2d(192, 192, kernel_size=(3, 3), stride=(1, 1), padding=(1, 1), bias=False)\n",
      "      (shortcut): Sequential()\n",
      "    )\n",
      "    (3): WideResidualBlock(\n",
      "      (bn1): BatchNorm2d(192, eps=1e-05, momentum=0.1, affine=True, track_running_stats=True)\n",
      "      (conv1): Conv2d(192, 192, kernel_size=(3, 3), stride=(1, 1), padding=(1, 1), bias=False)\n",
      "      (bn2): BatchNorm2d(192, eps=1e-05, momentum=0.1, affine=True, track_running_stats=True)\n",
      "      (conv2): Conv2d(192, 192, kernel_size=(3, 3), stride=(1, 1), padding=(1, 1), bias=False)\n",
      "      (shortcut): Sequential()\n",
      "    )\n",
      "  )\n",
      "  (layer3): Sequential(\n",
      "    (0): WideResidualBlock(\n",
      "      (bn1): BatchNorm2d(192, eps=1e-05, momentum=0.1, affine=True, track_running_stats=True)\n",
      "      (conv1): Conv2d(192, 384, kernel_size=(3, 3), stride=(2, 2), padding=(1, 1), bias=False)\n",
      "      (bn2): BatchNorm2d(384, eps=1e-05, momentum=0.1, affine=True, track_running_stats=True)\n",
      "      (conv2): Conv2d(384, 384, kernel_size=(3, 3), stride=(1, 1), padding=(1, 1), bias=False)\n",
      "      (shortcut): Conv2d(192, 384, kernel_size=(1, 1), stride=(2, 2), bias=False)\n",
      "    )\n",
      "    (1): WideResidualBlock(\n",
      "      (bn1): BatchNorm2d(384, eps=1e-05, momentum=0.1, affine=True, track_running_stats=True)\n",
      "      (conv1): Conv2d(384, 384, kernel_size=(3, 3), stride=(1, 1), padding=(1, 1), bias=False)\n",
      "      (bn2): BatchNorm2d(384, eps=1e-05, momentum=0.1, affine=True, track_running_stats=True)\n",
      "      (conv2): Conv2d(384, 384, kernel_size=(3, 3), stride=(1, 1), padding=(1, 1), bias=False)\n",
      "      (shortcut): Sequential()\n",
      "    )\n",
      "    (2): WideResidualBlock(\n",
      "      (bn1): BatchNorm2d(384, eps=1e-05, momentum=0.1, affine=True, track_running_stats=True)\n",
      "      (conv1): Conv2d(384, 384, kernel_size=(3, 3), stride=(1, 1), padding=(1, 1), bias=False)\n",
      "      (bn2): BatchNorm2d(384, eps=1e-05, momentum=0.1, affine=True, track_running_stats=True)\n",
      "      (conv2): Conv2d(384, 384, kernel_size=(3, 3), stride=(1, 1), padding=(1, 1), bias=False)\n",
      "      (shortcut): Sequential()\n",
      "    )\n",
      "    (3): WideResidualBlock(\n",
      "      (bn1): BatchNorm2d(384, eps=1e-05, momentum=0.1, affine=True, track_running_stats=True)\n",
      "      (conv1): Conv2d(384, 384, kernel_size=(3, 3), stride=(1, 1), padding=(1, 1), bias=False)\n",
      "      (bn2): BatchNorm2d(384, eps=1e-05, momentum=0.1, affine=True, track_running_stats=True)\n",
      "      (conv2): Conv2d(384, 384, kernel_size=(3, 3), stride=(1, 1), padding=(1, 1), bias=False)\n",
      "      (shortcut): Sequential()\n",
      "    )\n",
      "  )\n",
      "  (bn1): BatchNorm2d(384, eps=1e-05, momentum=0.1, affine=True, track_running_stats=True)\n",
      "  (linear): Linear(in_features=384, out_features=10, bias=True)\n",
      ")\n",
      "Params:  13144794\n"
     ]
    }
   ],
   "source": [
    "num_classes = 10\n",
    "net = WideResNet(depth = 28, \n",
    "                 widen_factor = 6, \n",
    "                 num_classes=num_classes)\n",
    "print(net)\n",
    "\n",
    "def count_parameters(model):\n",
    "    return sum(p.numel() for p in model.parameters() if p.requires_grad)\n",
    "print(\"Params: \", count_parameters(net))"
   ]
  },
  {
   "cell_type": "code",
   "execution_count": 9,
   "metadata": {
    "execution": {
     "iopub.execute_input": "2025-04-14T09:41:35.824402Z",
     "iopub.status.busy": "2025-04-14T09:41:35.824189Z",
     "iopub.status.idle": "2025-04-14T09:41:35.828958Z",
     "shell.execute_reply": "2025-04-14T09:41:35.828340Z",
     "shell.execute_reply.started": "2025-04-14T09:41:35.824386Z"
    },
    "trusted": true
   },
   "outputs": [],
   "source": [
    "criterion = nn.CrossEntropyLoss()\n",
    "optimizer = optim.Adam(net.parameters(), lr=0.001, weight_decay=1e-6)\n",
    "lr_scheduler = optim.lr_scheduler.ReduceLROnPlateau(optimizer, factor=0.1, patience=10, min_lr=0.00001)\n",
    "epochs = 100"
   ]
  },
  {
   "cell_type": "markdown",
   "metadata": {},
   "source": [
    "### **Entrenamiento**"
   ]
  },
  {
   "cell_type": "code",
   "execution_count": 10,
   "metadata": {
    "execution": {
     "iopub.execute_input": "2025-04-14T09:41:35.830970Z",
     "iopub.status.busy": "2025-04-14T09:41:35.830751Z",
     "iopub.status.idle": "2025-04-14T13:55:49.949207Z",
     "shell.execute_reply": "2025-04-14T13:55:49.948217Z",
     "shell.execute_reply.started": "2025-04-14T09:41:35.830947Z"
    },
    "trusted": true
   },
   "outputs": [
    {
     "name": "stdout",
     "output_type": "stream",
     "text": [
      "\n",
      "---- Start Training ----\n"
     ]
    },
    {
     "name": "stderr",
     "output_type": "stream",
     "text": [
      "Epoch 0: 100%|██████████| 500/500 [02:07<00:00,  3.92batch/s]\n",
      "Test 0: 100%|██████████| 100/100 [00:08<00:00, 12.24batch/s]"
     ]
    },
    {
     "name": "stdout",
     "output_type": "stream",
     "text": [
      "[Epoch 1] Train Loss: 1.678593 - Test Loss: 1.946828 - Train Accuracy: 36.86% - Test Accuracy: 37.29%\n"
     ]
    },
    {
     "name": "stderr",
     "output_type": "stream",
     "text": [
      "\n",
      "Epoch 1: 100%|██████████| 500/500 [02:24<00:00,  3.45batch/s]\n",
      "Test 1: 100%|██████████| 100/100 [00:08<00:00, 12.32batch/s]\n"
     ]
    },
    {
     "name": "stdout",
     "output_type": "stream",
     "text": [
      "[Epoch 2] Train Loss: 1.328656 - Test Loss: 1.531178 - Train Accuracy: 51.76% - Test Accuracy: 50.49%\n"
     ]
    },
    {
     "name": "stderr",
     "output_type": "stream",
     "text": [
      "Epoch 2: 100%|██████████| 500/500 [02:25<00:00,  3.44batch/s]\n",
      "Test 2: 100%|██████████| 100/100 [00:08<00:00, 12.31batch/s]\n"
     ]
    },
    {
     "name": "stdout",
     "output_type": "stream",
     "text": [
      "[Epoch 3] Train Loss: 1.140155 - Test Loss: 1.389191 - Train Accuracy: 59.36% - Test Accuracy: 57.24%\n"
     ]
    },
    {
     "name": "stderr",
     "output_type": "stream",
     "text": [
      "Epoch 3: 100%|██████████| 500/500 [02:25<00:00,  3.44batch/s]\n",
      "Test 3: 100%|██████████| 100/100 [00:08<00:00, 12.32batch/s]"
     ]
    },
    {
     "name": "stdout",
     "output_type": "stream",
     "text": [
      "[Epoch 4] Train Loss: 1.032459 - Test Loss: 1.555770 - Train Accuracy: 63.44% - Test Accuracy: 54.81%\n"
     ]
    },
    {
     "name": "stderr",
     "output_type": "stream",
     "text": [
      "\n",
      "Epoch 4: 100%|██████████| 500/500 [02:25<00:00,  3.44batch/s]\n",
      "Test 4: 100%|██████████| 100/100 [00:08<00:00, 12.27batch/s]\n"
     ]
    },
    {
     "name": "stdout",
     "output_type": "stream",
     "text": [
      "[Epoch 5] Train Loss: 0.933087 - Test Loss: 0.917617 - Train Accuracy: 67.06% - Test Accuracy: 69.47%\n"
     ]
    },
    {
     "name": "stderr",
     "output_type": "stream",
     "text": [
      "Epoch 5: 100%|██████████| 500/500 [02:25<00:00,  3.43batch/s]\n",
      "Test 5: 100%|██████████| 100/100 [00:08<00:00, 12.28batch/s]\n"
     ]
    },
    {
     "name": "stdout",
     "output_type": "stream",
     "text": [
      "[Epoch 6] Train Loss: 0.843197 - Test Loss: 0.892686 - Train Accuracy: 70.37% - Test Accuracy: 71.04%\n"
     ]
    },
    {
     "name": "stderr",
     "output_type": "stream",
     "text": [
      "Epoch 6: 100%|██████████| 500/500 [02:26<00:00,  3.42batch/s]\n",
      "Test 6: 100%|██████████| 100/100 [00:08<00:00, 12.26batch/s]\n"
     ]
    },
    {
     "name": "stdout",
     "output_type": "stream",
     "text": [
      "[Epoch 7] Train Loss: 0.761508 - Test Loss: 0.791103 - Train Accuracy: 73.31% - Test Accuracy: 74.68%\n"
     ]
    },
    {
     "name": "stderr",
     "output_type": "stream",
     "text": [
      "Epoch 7: 100%|██████████| 500/500 [02:25<00:00,  3.43batch/s]\n",
      "Test 7: 100%|██████████| 100/100 [00:08<00:00, 12.30batch/s]"
     ]
    },
    {
     "name": "stdout",
     "output_type": "stream",
     "text": [
      "[Epoch 8] Train Loss: 0.695992 - Test Loss: 0.836148 - Train Accuracy: 75.72% - Test Accuracy: 74.22%\n"
     ]
    },
    {
     "name": "stderr",
     "output_type": "stream",
     "text": [
      "\n",
      "Epoch 8: 100%|██████████| 500/500 [02:25<00:00,  3.43batch/s]\n",
      "Test 8: 100%|██████████| 100/100 [00:08<00:00, 12.30batch/s]\n"
     ]
    },
    {
     "name": "stdout",
     "output_type": "stream",
     "text": [
      "[Epoch 9] Train Loss: 0.643286 - Test Loss: 0.654251 - Train Accuracy: 77.62% - Test Accuracy: 78.19%\n"
     ]
    },
    {
     "name": "stderr",
     "output_type": "stream",
     "text": [
      "Epoch 9: 100%|██████████| 500/500 [02:25<00:00,  3.43batch/s]\n",
      "Test 9: 100%|██████████| 100/100 [00:08<00:00, 12.31batch/s]\n"
     ]
    },
    {
     "name": "stdout",
     "output_type": "stream",
     "text": [
      "[Epoch 10] Train Loss: 0.599924 - Test Loss: 0.671822 - Train Accuracy: 79.08% - Test Accuracy: 78.32%\n"
     ]
    },
    {
     "name": "stderr",
     "output_type": "stream",
     "text": [
      "Epoch 10: 100%|██████████| 500/500 [02:25<00:00,  3.43batch/s]\n",
      "Test 10: 100%|██████████| 100/100 [00:08<00:00, 12.25batch/s]\n"
     ]
    },
    {
     "name": "stdout",
     "output_type": "stream",
     "text": [
      "[Epoch 11] Train Loss: 0.559132 - Test Loss: 0.559211 - Train Accuracy: 80.56% - Test Accuracy: 81.55%\n"
     ]
    },
    {
     "name": "stderr",
     "output_type": "stream",
     "text": [
      "Epoch 11: 100%|██████████| 500/500 [02:26<00:00,  3.42batch/s]\n",
      "Test 11: 100%|██████████| 100/100 [00:08<00:00, 12.28batch/s]"
     ]
    },
    {
     "name": "stdout",
     "output_type": "stream",
     "text": [
      "[Epoch 12] Train Loss: 0.529599 - Test Loss: 0.579216 - Train Accuracy: 81.64% - Test Accuracy: 80.85%\n"
     ]
    },
    {
     "name": "stderr",
     "output_type": "stream",
     "text": [
      "\n",
      "Epoch 12: 100%|██████████| 500/500 [02:25<00:00,  3.45batch/s]\n",
      "Test 12: 100%|██████████| 100/100 [00:08<00:00, 12.28batch/s]\n"
     ]
    },
    {
     "name": "stdout",
     "output_type": "stream",
     "text": [
      "[Epoch 13] Train Loss: 0.497315 - Test Loss: 0.468288 - Train Accuracy: 82.54% - Test Accuracy: 84.70%\n"
     ]
    },
    {
     "name": "stderr",
     "output_type": "stream",
     "text": [
      "Epoch 13: 100%|██████████| 500/500 [02:24<00:00,  3.45batch/s]\n",
      "Test 13: 100%|██████████| 100/100 [00:08<00:00, 12.27batch/s]"
     ]
    },
    {
     "name": "stdout",
     "output_type": "stream",
     "text": [
      "[Epoch 14] Train Loss: 0.476055 - Test Loss: 0.507465 - Train Accuracy: 83.55% - Test Accuracy: 84.10%\n"
     ]
    },
    {
     "name": "stderr",
     "output_type": "stream",
     "text": [
      "\n",
      "Epoch 14: 100%|██████████| 500/500 [02:25<00:00,  3.45batch/s]\n",
      "Test 14: 100%|██████████| 100/100 [00:08<00:00, 12.30batch/s]\n"
     ]
    },
    {
     "name": "stdout",
     "output_type": "stream",
     "text": [
      "[Epoch 15] Train Loss: 0.453728 - Test Loss: 0.411687 - Train Accuracy: 84.25% - Test Accuracy: 86.21%\n"
     ]
    },
    {
     "name": "stderr",
     "output_type": "stream",
     "text": [
      "Epoch 15: 100%|██████████| 500/500 [02:25<00:00,  3.44batch/s]\n",
      "Test 15: 100%|██████████| 100/100 [00:08<00:00, 12.32batch/s]"
     ]
    },
    {
     "name": "stdout",
     "output_type": "stream",
     "text": [
      "[Epoch 16] Train Loss: 0.429646 - Test Loss: 0.522918 - Train Accuracy: 85.08% - Test Accuracy: 83.41%\n"
     ]
    },
    {
     "name": "stderr",
     "output_type": "stream",
     "text": [
      "\n",
      "Epoch 16: 100%|██████████| 500/500 [02:25<00:00,  3.45batch/s]\n",
      "Test 16: 100%|██████████| 100/100 [00:08<00:00, 12.28batch/s]"
     ]
    },
    {
     "name": "stdout",
     "output_type": "stream",
     "text": [
      "[Epoch 17] Train Loss: 0.410729 - Test Loss: 0.471212 - Train Accuracy: 85.76% - Test Accuracy: 84.91%\n"
     ]
    },
    {
     "name": "stderr",
     "output_type": "stream",
     "text": [
      "\n",
      "Epoch 17: 100%|██████████| 500/500 [02:25<00:00,  3.44batch/s]\n",
      "Test 17: 100%|██████████| 100/100 [00:08<00:00, 12.30batch/s]\n"
     ]
    },
    {
     "name": "stdout",
     "output_type": "stream",
     "text": [
      "[Epoch 18] Train Loss: 0.395850 - Test Loss: 0.415650 - Train Accuracy: 86.38% - Test Accuracy: 86.50%\n"
     ]
    },
    {
     "name": "stderr",
     "output_type": "stream",
     "text": [
      "Epoch 18: 100%|██████████| 500/500 [02:25<00:00,  3.45batch/s]\n",
      "Test 18: 100%|██████████| 100/100 [00:08<00:00, 12.29batch/s]\n"
     ]
    },
    {
     "name": "stdout",
     "output_type": "stream",
     "text": [
      "[Epoch 19] Train Loss: 0.374800 - Test Loss: 0.413785 - Train Accuracy: 86.95% - Test Accuracy: 86.79%\n"
     ]
    },
    {
     "name": "stderr",
     "output_type": "stream",
     "text": [
      "Epoch 19: 100%|██████████| 500/500 [02:24<00:00,  3.46batch/s]\n",
      "Test 19: 100%|██████████| 100/100 [00:08<00:00, 12.29batch/s]\n"
     ]
    },
    {
     "name": "stdout",
     "output_type": "stream",
     "text": [
      "[Epoch 20] Train Loss: 0.359724 - Test Loss: 0.377571 - Train Accuracy: 87.40% - Test Accuracy: 87.89%\n"
     ]
    },
    {
     "name": "stderr",
     "output_type": "stream",
     "text": [
      "Epoch 20: 100%|██████████| 500/500 [02:24<00:00,  3.45batch/s]\n",
      "Test 20: 100%|██████████| 100/100 [00:08<00:00, 12.24batch/s]\n"
     ]
    },
    {
     "name": "stdout",
     "output_type": "stream",
     "text": [
      "[Epoch 21] Train Loss: 0.350226 - Test Loss: 0.370063 - Train Accuracy: 87.78% - Test Accuracy: 87.91%\n"
     ]
    },
    {
     "name": "stderr",
     "output_type": "stream",
     "text": [
      "Epoch 21: 100%|██████████| 500/500 [02:24<00:00,  3.45batch/s]\n",
      "Test 21: 100%|██████████| 100/100 [00:08<00:00, 12.32batch/s]"
     ]
    },
    {
     "name": "stdout",
     "output_type": "stream",
     "text": [
      "[Epoch 22] Train Loss: 0.335275 - Test Loss: 0.375533 - Train Accuracy: 88.33% - Test Accuracy: 87.75%\n"
     ]
    },
    {
     "name": "stderr",
     "output_type": "stream",
     "text": [
      "\n",
      "Epoch 22: 100%|██████████| 500/500 [02:24<00:00,  3.45batch/s]\n",
      "Test 22: 100%|██████████| 100/100 [00:08<00:00, 12.31batch/s]\n"
     ]
    },
    {
     "name": "stdout",
     "output_type": "stream",
     "text": [
      "[Epoch 23] Train Loss: 0.322234 - Test Loss: 0.393346 - Train Accuracy: 88.73% - Test Accuracy: 88.02%\n"
     ]
    },
    {
     "name": "stderr",
     "output_type": "stream",
     "text": [
      "Epoch 23: 100%|██████████| 500/500 [02:24<00:00,  3.45batch/s]\n",
      "Test 23: 100%|██████████| 100/100 [00:08<00:00, 12.30batch/s]"
     ]
    },
    {
     "name": "stdout",
     "output_type": "stream",
     "text": [
      "[Epoch 24] Train Loss: 0.305704 - Test Loss: 0.374776 - Train Accuracy: 89.37% - Test Accuracy: 87.91%\n"
     ]
    },
    {
     "name": "stderr",
     "output_type": "stream",
     "text": [
      "\n",
      "Epoch 24: 100%|██████████| 500/500 [02:24<00:00,  3.46batch/s]\n",
      "Test 24: 100%|██████████| 100/100 [00:08<00:00, 12.30batch/s]\n"
     ]
    },
    {
     "name": "stdout",
     "output_type": "stream",
     "text": [
      "[Epoch 25] Train Loss: 0.306741 - Test Loss: 0.327764 - Train Accuracy: 89.42% - Test Accuracy: 89.51%\n"
     ]
    },
    {
     "name": "stderr",
     "output_type": "stream",
     "text": [
      "Epoch 25: 100%|██████████| 500/500 [02:24<00:00,  3.46batch/s]\n",
      "Test 25: 100%|██████████| 100/100 [00:08<00:00, 12.32batch/s]\n"
     ]
    },
    {
     "name": "stdout",
     "output_type": "stream",
     "text": [
      "[Epoch 26] Train Loss: 0.291338 - Test Loss: 0.312120 - Train Accuracy: 89.90% - Test Accuracy: 89.80%\n"
     ]
    },
    {
     "name": "stderr",
     "output_type": "stream",
     "text": [
      "Epoch 26: 100%|██████████| 500/500 [02:24<00:00,  3.46batch/s]\n",
      "Test 26: 100%|██████████| 100/100 [00:08<00:00, 12.31batch/s]"
     ]
    },
    {
     "name": "stdout",
     "output_type": "stream",
     "text": [
      "[Epoch 27] Train Loss: 0.279470 - Test Loss: 0.352823 - Train Accuracy: 90.19% - Test Accuracy: 89.10%\n"
     ]
    },
    {
     "name": "stderr",
     "output_type": "stream",
     "text": [
      "\n",
      "Epoch 27: 100%|██████████| 500/500 [02:24<00:00,  3.47batch/s]\n",
      "Test 27: 100%|██████████| 100/100 [00:08<00:00, 12.26batch/s]"
     ]
    },
    {
     "name": "stdout",
     "output_type": "stream",
     "text": [
      "[Epoch 28] Train Loss: 0.271747 - Test Loss: 0.369106 - Train Accuracy: 90.44% - Test Accuracy: 89.24%\n"
     ]
    },
    {
     "name": "stderr",
     "output_type": "stream",
     "text": [
      "\n",
      "Epoch 28: 100%|██████████| 500/500 [02:24<00:00,  3.47batch/s]\n",
      "Test 28: 100%|██████████| 100/100 [00:08<00:00, 12.34batch/s]"
     ]
    },
    {
     "name": "stdout",
     "output_type": "stream",
     "text": [
      "[Epoch 29] Train Loss: 0.264452 - Test Loss: 0.356180 - Train Accuracy: 90.85% - Test Accuracy: 88.86%\n"
     ]
    },
    {
     "name": "stderr",
     "output_type": "stream",
     "text": [
      "\n",
      "Epoch 29: 100%|██████████| 500/500 [02:24<00:00,  3.47batch/s]\n",
      "Test 29: 100%|██████████| 100/100 [00:08<00:00, 12.29batch/s]"
     ]
    },
    {
     "name": "stdout",
     "output_type": "stream",
     "text": [
      "[Epoch 30] Train Loss: 0.254099 - Test Loss: 0.329449 - Train Accuracy: 91.17% - Test Accuracy: 89.73%\n"
     ]
    },
    {
     "name": "stderr",
     "output_type": "stream",
     "text": [
      "\n",
      "Epoch 30: 100%|██████████| 500/500 [02:24<00:00,  3.47batch/s]\n",
      "Test 30: 100%|██████████| 100/100 [00:08<00:00, 12.31batch/s]"
     ]
    },
    {
     "name": "stdout",
     "output_type": "stream",
     "text": [
      "[Epoch 31] Train Loss: 0.243284 - Test Loss: 0.352346 - Train Accuracy: 91.41% - Test Accuracy: 89.61%\n"
     ]
    },
    {
     "name": "stderr",
     "output_type": "stream",
     "text": [
      "\n",
      "Epoch 31: 100%|██████████| 500/500 [02:24<00:00,  3.47batch/s]\n",
      "Test 31: 100%|██████████| 100/100 [00:08<00:00, 12.30batch/s]"
     ]
    },
    {
     "name": "stdout",
     "output_type": "stream",
     "text": [
      "[Epoch 32] Train Loss: 0.238783 - Test Loss: 0.388376 - Train Accuracy: 91.67% - Test Accuracy: 88.70%\n"
     ]
    },
    {
     "name": "stderr",
     "output_type": "stream",
     "text": [
      "\n",
      "Epoch 32: 100%|██████████| 500/500 [02:24<00:00,  3.47batch/s]\n",
      "Test 32: 100%|██████████| 100/100 [00:08<00:00, 12.33batch/s]"
     ]
    },
    {
     "name": "stdout",
     "output_type": "stream",
     "text": [
      "[Epoch 33] Train Loss: 0.233416 - Test Loss: 0.350174 - Train Accuracy: 91.84% - Test Accuracy: 89.59%\n"
     ]
    },
    {
     "name": "stderr",
     "output_type": "stream",
     "text": [
      "\n",
      "Epoch 33: 100%|██████████| 500/500 [02:24<00:00,  3.46batch/s]\n",
      "Test 33: 100%|██████████| 100/100 [00:08<00:00, 12.30batch/s]\n"
     ]
    },
    {
     "name": "stdout",
     "output_type": "stream",
     "text": [
      "[Epoch 34] Train Loss: 0.227209 - Test Loss: 0.296243 - Train Accuracy: 92.04% - Test Accuracy: 91.02%\n"
     ]
    },
    {
     "name": "stderr",
     "output_type": "stream",
     "text": [
      "Epoch 34: 100%|██████████| 500/500 [02:24<00:00,  3.46batch/s]\n",
      "Test 34: 100%|██████████| 100/100 [00:08<00:00, 12.32batch/s]"
     ]
    },
    {
     "name": "stdout",
     "output_type": "stream",
     "text": [
      "[Epoch 35] Train Loss: 0.220217 - Test Loss: 0.330362 - Train Accuracy: 92.26% - Test Accuracy: 90.04%\n"
     ]
    },
    {
     "name": "stderr",
     "output_type": "stream",
     "text": [
      "\n",
      "Epoch 35: 100%|██████████| 500/500 [02:25<00:00,  3.45batch/s]\n",
      "Test 35: 100%|██████████| 100/100 [00:08<00:00, 12.25batch/s]"
     ]
    },
    {
     "name": "stdout",
     "output_type": "stream",
     "text": [
      "[Epoch 36] Train Loss: 0.213663 - Test Loss: 0.335871 - Train Accuracy: 92.53% - Test Accuracy: 90.27%\n"
     ]
    },
    {
     "name": "stderr",
     "output_type": "stream",
     "text": [
      "\n",
      "Epoch 36: 100%|██████████| 500/500 [02:24<00:00,  3.46batch/s]\n",
      "Test 36: 100%|██████████| 100/100 [00:08<00:00, 12.27batch/s]"
     ]
    },
    {
     "name": "stdout",
     "output_type": "stream",
     "text": [
      "[Epoch 37] Train Loss: 0.204174 - Test Loss: 0.329768 - Train Accuracy: 92.78% - Test Accuracy: 90.14%\n"
     ]
    },
    {
     "name": "stderr",
     "output_type": "stream",
     "text": [
      "\n",
      "Epoch 37: 100%|██████████| 500/500 [02:25<00:00,  3.45batch/s]\n",
      "Test 37: 100%|██████████| 100/100 [00:08<00:00, 12.31batch/s]"
     ]
    },
    {
     "name": "stdout",
     "output_type": "stream",
     "text": [
      "[Epoch 38] Train Loss: 0.205089 - Test Loss: 0.369560 - Train Accuracy: 92.68% - Test Accuracy: 89.77%\n"
     ]
    },
    {
     "name": "stderr",
     "output_type": "stream",
     "text": [
      "\n",
      "Epoch 38: 100%|██████████| 500/500 [02:24<00:00,  3.46batch/s]\n",
      "Test 38: 100%|██████████| 100/100 [00:08<00:00, 12.32batch/s]"
     ]
    },
    {
     "name": "stdout",
     "output_type": "stream",
     "text": [
      "[Epoch 39] Train Loss: 0.195956 - Test Loss: 0.314752 - Train Accuracy: 93.13% - Test Accuracy: 90.57%\n"
     ]
    },
    {
     "name": "stderr",
     "output_type": "stream",
     "text": [
      "\n",
      "Epoch 39: 100%|██████████| 500/500 [02:24<00:00,  3.45batch/s]\n",
      "Test 39: 100%|██████████| 100/100 [00:08<00:00, 12.30batch/s]"
     ]
    },
    {
     "name": "stdout",
     "output_type": "stream",
     "text": [
      "[Epoch 40] Train Loss: 0.196607 - Test Loss: 0.386062 - Train Accuracy: 93.17% - Test Accuracy: 89.20%\n"
     ]
    },
    {
     "name": "stderr",
     "output_type": "stream",
     "text": [
      "\n",
      "Epoch 40: 100%|██████████| 500/500 [02:24<00:00,  3.47batch/s]\n",
      "Test 40: 100%|██████████| 100/100 [00:08<00:00, 12.42batch/s]"
     ]
    },
    {
     "name": "stdout",
     "output_type": "stream",
     "text": [
      "[Epoch 41] Train Loss: 0.185118 - Test Loss: 0.356877 - Train Accuracy: 93.45% - Test Accuracy: 89.79%\n"
     ]
    },
    {
     "name": "stderr",
     "output_type": "stream",
     "text": [
      "\n",
      "Epoch 41: 100%|██████████| 500/500 [02:24<00:00,  3.46batch/s]\n",
      "Test 41: 100%|██████████| 100/100 [00:08<00:00, 12.31batch/s]\n"
     ]
    },
    {
     "name": "stdout",
     "output_type": "stream",
     "text": [
      "[Epoch 42] Train Loss: 0.183129 - Test Loss: 0.313810 - Train Accuracy: 93.58% - Test Accuracy: 91.12%\n"
     ]
    },
    {
     "name": "stderr",
     "output_type": "stream",
     "text": [
      "Epoch 42: 100%|██████████| 500/500 [02:24<00:00,  3.46batch/s]\n",
      "Test 42: 100%|██████████| 100/100 [00:08<00:00, 12.34batch/s]\n"
     ]
    },
    {
     "name": "stdout",
     "output_type": "stream",
     "text": [
      "[Epoch 43] Train Loss: 0.176670 - Test Loss: 0.302751 - Train Accuracy: 93.83% - Test Accuracy: 91.23%\n"
     ]
    },
    {
     "name": "stderr",
     "output_type": "stream",
     "text": [
      "Epoch 43: 100%|██████████| 500/500 [02:23<00:00,  3.48batch/s]\n",
      "Test 43: 100%|██████████| 100/100 [00:08<00:00, 12.38batch/s]"
     ]
    },
    {
     "name": "stdout",
     "output_type": "stream",
     "text": [
      "[Epoch 44] Train Loss: 0.173990 - Test Loss: 0.322466 - Train Accuracy: 93.85% - Test Accuracy: 91.03%\n"
     ]
    },
    {
     "name": "stderr",
     "output_type": "stream",
     "text": [
      "\n",
      "Epoch 44: 100%|██████████| 500/500 [02:24<00:00,  3.45batch/s]\n",
      "Test 44: 100%|██████████| 100/100 [00:08<00:00, 12.33batch/s]\n"
     ]
    },
    {
     "name": "stdout",
     "output_type": "stream",
     "text": [
      "[Epoch 45] Train Loss: 0.166586 - Test Loss: 0.287171 - Train Accuracy: 94.04% - Test Accuracy: 91.70%\n"
     ]
    },
    {
     "name": "stderr",
     "output_type": "stream",
     "text": [
      "Epoch 45: 100%|██████████| 500/500 [02:23<00:00,  3.48batch/s]\n",
      "Test 45: 100%|██████████| 100/100 [00:08<00:00, 12.44batch/s]"
     ]
    },
    {
     "name": "stdout",
     "output_type": "stream",
     "text": [
      "[Epoch 46] Train Loss: 0.162804 - Test Loss: 0.338681 - Train Accuracy: 94.22% - Test Accuracy: 90.42%\n"
     ]
    },
    {
     "name": "stderr",
     "output_type": "stream",
     "text": [
      "\n",
      "Epoch 46: 100%|██████████| 500/500 [02:23<00:00,  3.49batch/s]\n",
      "Test 46: 100%|██████████| 100/100 [00:08<00:00, 12.46batch/s]"
     ]
    },
    {
     "name": "stdout",
     "output_type": "stream",
     "text": [
      "[Epoch 47] Train Loss: 0.160740 - Test Loss: 0.337550 - Train Accuracy: 94.38% - Test Accuracy: 90.82%\n"
     ]
    },
    {
     "name": "stderr",
     "output_type": "stream",
     "text": [
      "\n",
      "Epoch 47: 100%|██████████| 500/500 [02:23<00:00,  3.48batch/s]\n",
      "Test 47: 100%|██████████| 100/100 [00:08<00:00, 12.41batch/s]\n"
     ]
    },
    {
     "name": "stdout",
     "output_type": "stream",
     "text": [
      "[Epoch 48] Train Loss: 0.158532 - Test Loss: 0.297049 - Train Accuracy: 94.35% - Test Accuracy: 91.76%\n"
     ]
    },
    {
     "name": "stderr",
     "output_type": "stream",
     "text": [
      "Epoch 48: 100%|██████████| 500/500 [02:24<00:00,  3.46batch/s]\n",
      "Test 48: 100%|██████████| 100/100 [00:08<00:00, 12.30batch/s]"
     ]
    },
    {
     "name": "stdout",
     "output_type": "stream",
     "text": [
      "[Epoch 49] Train Loss: 0.151425 - Test Loss: 0.345557 - Train Accuracy: 94.74% - Test Accuracy: 90.52%\n"
     ]
    },
    {
     "name": "stderr",
     "output_type": "stream",
     "text": [
      "\n",
      "Epoch 49: 100%|██████████| 500/500 [02:24<00:00,  3.47batch/s]\n",
      "Test 49: 100%|██████████| 100/100 [00:08<00:00, 12.39batch/s]"
     ]
    },
    {
     "name": "stdout",
     "output_type": "stream",
     "text": [
      "[Epoch 50] Train Loss: 0.150097 - Test Loss: 0.318137 - Train Accuracy: 94.73% - Test Accuracy: 91.41%\n"
     ]
    },
    {
     "name": "stderr",
     "output_type": "stream",
     "text": [
      "\n",
      "Epoch 50: 100%|██████████| 500/500 [02:23<00:00,  3.48batch/s]\n",
      "Test 50: 100%|██████████| 100/100 [00:08<00:00, 12.38batch/s]"
     ]
    },
    {
     "name": "stdout",
     "output_type": "stream",
     "text": [
      "[Epoch 51] Train Loss: 0.146920 - Test Loss: 0.314574 - Train Accuracy: 94.71% - Test Accuracy: 91.29%\n"
     ]
    },
    {
     "name": "stderr",
     "output_type": "stream",
     "text": [
      "\n",
      "Epoch 51: 100%|██████████| 500/500 [02:23<00:00,  3.48batch/s]\n",
      "Test 51: 100%|██████████| 100/100 [00:08<00:00, 12.43batch/s]"
     ]
    },
    {
     "name": "stdout",
     "output_type": "stream",
     "text": [
      "[Epoch 52] Train Loss: 0.146540 - Test Loss: 0.308868 - Train Accuracy: 94.88% - Test Accuracy: 91.46%\n"
     ]
    },
    {
     "name": "stderr",
     "output_type": "stream",
     "text": [
      "\n",
      "Epoch 52: 100%|██████████| 500/500 [02:23<00:00,  3.48batch/s]\n",
      "Test 52: 100%|██████████| 100/100 [00:08<00:00, 12.37batch/s]"
     ]
    },
    {
     "name": "stdout",
     "output_type": "stream",
     "text": [
      "[Epoch 53] Train Loss: 0.143635 - Test Loss: 0.332839 - Train Accuracy: 94.93% - Test Accuracy: 90.71%\n"
     ]
    },
    {
     "name": "stderr",
     "output_type": "stream",
     "text": [
      "\n",
      "Epoch 53: 100%|██████████| 500/500 [02:23<00:00,  3.48batch/s]\n",
      "Test 53: 100%|██████████| 100/100 [00:08<00:00, 12.39batch/s]"
     ]
    },
    {
     "name": "stdout",
     "output_type": "stream",
     "text": [
      "[Epoch 54] Train Loss: 0.135874 - Test Loss: 0.326466 - Train Accuracy: 95.12% - Test Accuracy: 91.22%\n"
     ]
    },
    {
     "name": "stderr",
     "output_type": "stream",
     "text": [
      "\n",
      "Epoch 54: 100%|██████████| 500/500 [02:24<00:00,  3.46batch/s]\n",
      "Test 54: 100%|██████████| 100/100 [00:08<00:00, 12.31batch/s]"
     ]
    },
    {
     "name": "stdout",
     "output_type": "stream",
     "text": [
      "[Epoch 55] Train Loss: 0.138275 - Test Loss: 0.318004 - Train Accuracy: 95.07% - Test Accuracy: 91.13%\n"
     ]
    },
    {
     "name": "stderr",
     "output_type": "stream",
     "text": [
      "\n",
      "Epoch 55: 100%|██████████| 500/500 [02:24<00:00,  3.45batch/s]\n",
      "Test 55: 100%|██████████| 100/100 [00:08<00:00, 12.36batch/s]\n"
     ]
    },
    {
     "name": "stdout",
     "output_type": "stream",
     "text": [
      "[Epoch 56] Train Loss: 0.134620 - Test Loss: 0.294128 - Train Accuracy: 95.27% - Test Accuracy: 92.14%\n"
     ]
    },
    {
     "name": "stderr",
     "output_type": "stream",
     "text": [
      "Epoch 56: 100%|██████████| 500/500 [02:24<00:00,  3.46batch/s]\n",
      "Test 56: 100%|██████████| 100/100 [00:07<00:00, 12.51batch/s]\n"
     ]
    },
    {
     "name": "stdout",
     "output_type": "stream",
     "text": [
      "[Epoch 57] Train Loss: 0.088847 - Test Loss: 0.237349 - Train Accuracy: 96.90% - Test Accuracy: 93.50%\n"
     ]
    },
    {
     "name": "stderr",
     "output_type": "stream",
     "text": [
      "Epoch 57: 100%|██████████| 500/500 [02:23<00:00,  3.49batch/s]\n",
      "Test 57: 100%|██████████| 100/100 [00:08<00:00, 12.44batch/s]\n"
     ]
    },
    {
     "name": "stdout",
     "output_type": "stream",
     "text": [
      "[Epoch 58] Train Loss: 0.070223 - Test Loss: 0.232594 - Train Accuracy: 97.61% - Test Accuracy: 93.74%\n"
     ]
    },
    {
     "name": "stderr",
     "output_type": "stream",
     "text": [
      "Epoch 58: 100%|██████████| 500/500 [02:24<00:00,  3.46batch/s]\n",
      "Test 58: 100%|██████████| 100/100 [00:08<00:00, 12.29batch/s]"
     ]
    },
    {
     "name": "stdout",
     "output_type": "stream",
     "text": [
      "[Epoch 59] Train Loss: 0.061073 - Test Loss: 0.243869 - Train Accuracy: 97.91% - Test Accuracy: 93.38%\n"
     ]
    },
    {
     "name": "stderr",
     "output_type": "stream",
     "text": [
      "\n",
      "Epoch 59: 100%|██████████| 500/500 [02:24<00:00,  3.47batch/s]\n",
      "Test 59: 100%|██████████| 100/100 [00:08<00:00, 12.32batch/s]"
     ]
    },
    {
     "name": "stdout",
     "output_type": "stream",
     "text": [
      "[Epoch 60] Train Loss: 0.058411 - Test Loss: 0.244187 - Train Accuracy: 98.02% - Test Accuracy: 93.57%\n"
     ]
    },
    {
     "name": "stderr",
     "output_type": "stream",
     "text": [
      "\n",
      "Epoch 60: 100%|██████████| 500/500 [02:24<00:00,  3.47batch/s]\n",
      "Test 60: 100%|██████████| 100/100 [00:08<00:00, 12.38batch/s]"
     ]
    },
    {
     "name": "stdout",
     "output_type": "stream",
     "text": [
      "[Epoch 61] Train Loss: 0.054164 - Test Loss: 0.250475 - Train Accuracy: 98.19% - Test Accuracy: 93.38%\n"
     ]
    },
    {
     "name": "stderr",
     "output_type": "stream",
     "text": [
      "\n",
      "Epoch 61: 100%|██████████| 500/500 [02:24<00:00,  3.46batch/s]\n",
      "Test 61: 100%|██████████| 100/100 [00:08<00:00, 12.36batch/s]"
     ]
    },
    {
     "name": "stdout",
     "output_type": "stream",
     "text": [
      "[Epoch 62] Train Loss: 0.049481 - Test Loss: 0.256078 - Train Accuracy: 98.29% - Test Accuracy: 93.29%\n"
     ]
    },
    {
     "name": "stderr",
     "output_type": "stream",
     "text": [
      "\n",
      "Epoch 62: 100%|██████████| 500/500 [02:23<00:00,  3.48batch/s]\n",
      "Test 62: 100%|██████████| 100/100 [00:08<00:00, 12.47batch/s]"
     ]
    },
    {
     "name": "stdout",
     "output_type": "stream",
     "text": [
      "[Epoch 63] Train Loss: 0.048567 - Test Loss: 0.251959 - Train Accuracy: 98.37% - Test Accuracy: 93.46%\n"
     ]
    },
    {
     "name": "stderr",
     "output_type": "stream",
     "text": [
      "\n",
      "Epoch 63: 100%|██████████| 500/500 [02:23<00:00,  3.49batch/s]\n",
      "Test 63: 100%|██████████| 100/100 [00:08<00:00, 12.45batch/s]"
     ]
    },
    {
     "name": "stdout",
     "output_type": "stream",
     "text": [
      "[Epoch 64] Train Loss: 0.048325 - Test Loss: 0.253019 - Train Accuracy: 98.39% - Test Accuracy: 93.56%\n"
     ]
    },
    {
     "name": "stderr",
     "output_type": "stream",
     "text": [
      "\n",
      "Epoch 64: 100%|██████████| 500/500 [02:23<00:00,  3.48batch/s]\n",
      "Test 64: 100%|██████████| 100/100 [00:08<00:00, 12.40batch/s]"
     ]
    },
    {
     "name": "stdout",
     "output_type": "stream",
     "text": [
      "[Epoch 65] Train Loss: 0.046523 - Test Loss: 0.255608 - Train Accuracy: 98.42% - Test Accuracy: 93.65%\n"
     ]
    },
    {
     "name": "stderr",
     "output_type": "stream",
     "text": [
      "\n",
      "Epoch 65: 100%|██████████| 500/500 [02:23<00:00,  3.48batch/s]\n",
      "Test 65: 100%|██████████| 100/100 [00:08<00:00, 12.33batch/s]"
     ]
    },
    {
     "name": "stdout",
     "output_type": "stream",
     "text": [
      "[Epoch 66] Train Loss: 0.043220 - Test Loss: 0.258036 - Train Accuracy: 98.55% - Test Accuracy: 93.67%\n"
     ]
    },
    {
     "name": "stderr",
     "output_type": "stream",
     "text": [
      "\n",
      "Epoch 66: 100%|██████████| 500/500 [02:23<00:00,  3.48batch/s]\n",
      "Test 66: 100%|██████████| 100/100 [00:08<00:00, 12.40batch/s]"
     ]
    },
    {
     "name": "stdout",
     "output_type": "stream",
     "text": [
      "[Epoch 67] Train Loss: 0.042088 - Test Loss: 0.258798 - Train Accuracy: 98.55% - Test Accuracy: 93.63%\n"
     ]
    },
    {
     "name": "stderr",
     "output_type": "stream",
     "text": [
      "\n",
      "Epoch 67: 100%|██████████| 500/500 [02:24<00:00,  3.47batch/s]\n",
      "Test 67: 100%|██████████| 100/100 [00:08<00:00, 12.33batch/s]"
     ]
    },
    {
     "name": "stdout",
     "output_type": "stream",
     "text": [
      "[Epoch 68] Train Loss: 0.040892 - Test Loss: 0.262362 - Train Accuracy: 98.56% - Test Accuracy: 93.67%\n"
     ]
    },
    {
     "name": "stderr",
     "output_type": "stream",
     "text": [
      "\n",
      "Epoch 68: 100%|██████████| 500/500 [02:24<00:00,  3.46batch/s]\n",
      "Test 68: 100%|██████████| 100/100 [00:08<00:00, 12.31batch/s]"
     ]
    },
    {
     "name": "stdout",
     "output_type": "stream",
     "text": [
      "[Epoch 69] Train Loss: 0.040733 - Test Loss: 0.264533 - Train Accuracy: 98.60% - Test Accuracy: 93.66%\n"
     ]
    },
    {
     "name": "stderr",
     "output_type": "stream",
     "text": [
      "\n",
      "Epoch 69: 100%|██████████| 500/500 [02:24<00:00,  3.47batch/s]\n",
      "Test 69: 100%|██████████| 100/100 [00:08<00:00, 12.32batch/s]"
     ]
    },
    {
     "name": "stdout",
     "output_type": "stream",
     "text": [
      "[Epoch 70] Train Loss: 0.037682 - Test Loss: 0.259514 - Train Accuracy: 98.67% - Test Accuracy: 93.55%\n"
     ]
    },
    {
     "name": "stderr",
     "output_type": "stream",
     "text": [
      "\n",
      "Epoch 70: 100%|██████████| 500/500 [02:23<00:00,  3.47batch/s]\n",
      "Test 70: 100%|██████████| 100/100 [00:08<00:00, 12.30batch/s]"
     ]
    },
    {
     "name": "stdout",
     "output_type": "stream",
     "text": [
      "[Epoch 71] Train Loss: 0.036014 - Test Loss: 0.255937 - Train Accuracy: 98.81% - Test Accuracy: 93.70%\n"
     ]
    },
    {
     "name": "stderr",
     "output_type": "stream",
     "text": [
      "\n",
      "Epoch 71: 100%|██████████| 500/500 [02:24<00:00,  3.46batch/s]\n",
      "Test 71: 100%|██████████| 100/100 [00:08<00:00, 12.46batch/s]"
     ]
    },
    {
     "name": "stdout",
     "output_type": "stream",
     "text": [
      "[Epoch 72] Train Loss: 0.035282 - Test Loss: 0.260303 - Train Accuracy: 98.78% - Test Accuracy: 93.57%\n"
     ]
    },
    {
     "name": "stderr",
     "output_type": "stream",
     "text": [
      "\n",
      "Epoch 72: 100%|██████████| 500/500 [02:24<00:00,  3.46batch/s]\n",
      "Test 72: 100%|██████████| 100/100 [00:08<00:00, 12.29batch/s]"
     ]
    },
    {
     "name": "stdout",
     "output_type": "stream",
     "text": [
      "[Epoch 73] Train Loss: 0.037171 - Test Loss: 0.254957 - Train Accuracy: 98.72% - Test Accuracy: 93.70%\n"
     ]
    },
    {
     "name": "stderr",
     "output_type": "stream",
     "text": [
      "\n",
      "Epoch 73: 100%|██████████| 500/500 [02:24<00:00,  3.46batch/s]\n",
      "Test 73: 100%|██████████| 100/100 [00:08<00:00, 12.33batch/s]"
     ]
    },
    {
     "name": "stdout",
     "output_type": "stream",
     "text": [
      "[Epoch 74] Train Loss: 0.036508 - Test Loss: 0.259629 - Train Accuracy: 98.78% - Test Accuracy: 93.64%\n"
     ]
    },
    {
     "name": "stderr",
     "output_type": "stream",
     "text": [
      "\n",
      "Epoch 74: 100%|██████████| 500/500 [02:24<00:00,  3.46batch/s]\n",
      "Test 74: 100%|██████████| 100/100 [00:08<00:00, 12.34batch/s]"
     ]
    },
    {
     "name": "stdout",
     "output_type": "stream",
     "text": [
      "[Epoch 75] Train Loss: 0.035466 - Test Loss: 0.260102 - Train Accuracy: 98.77% - Test Accuracy: 93.65%\n"
     ]
    },
    {
     "name": "stderr",
     "output_type": "stream",
     "text": [
      "\n",
      "Epoch 75: 100%|██████████| 500/500 [02:23<00:00,  3.47batch/s]\n",
      "Test 75: 100%|██████████| 100/100 [00:08<00:00, 12.31batch/s]"
     ]
    },
    {
     "name": "stdout",
     "output_type": "stream",
     "text": [
      "[Epoch 76] Train Loss: 0.035997 - Test Loss: 0.265658 - Train Accuracy: 98.81% - Test Accuracy: 93.34%\n"
     ]
    },
    {
     "name": "stderr",
     "output_type": "stream",
     "text": [
      "\n",
      "Epoch 76: 100%|██████████| 500/500 [02:23<00:00,  3.47batch/s]\n",
      "Test 76: 100%|██████████| 100/100 [00:08<00:00, 12.48batch/s]\n"
     ]
    },
    {
     "name": "stdout",
     "output_type": "stream",
     "text": [
      "[Epoch 77] Train Loss: 0.035845 - Test Loss: 0.255734 - Train Accuracy: 98.78% - Test Accuracy: 93.75%\n"
     ]
    },
    {
     "name": "stderr",
     "output_type": "stream",
     "text": [
      "Epoch 77: 100%|██████████| 500/500 [02:23<00:00,  3.49batch/s]\n",
      "Test 77: 100%|██████████| 100/100 [00:08<00:00, 12.45batch/s]"
     ]
    },
    {
     "name": "stdout",
     "output_type": "stream",
     "text": [
      "[Epoch 78] Train Loss: 0.033092 - Test Loss: 0.262842 - Train Accuracy: 98.93% - Test Accuracy: 93.67%\n"
     ]
    },
    {
     "name": "stderr",
     "output_type": "stream",
     "text": [
      "\n",
      "Epoch 78: 100%|██████████| 500/500 [02:23<00:00,  3.48batch/s]\n",
      "Test 78: 100%|██████████| 100/100 [00:08<00:00, 12.39batch/s]"
     ]
    },
    {
     "name": "stdout",
     "output_type": "stream",
     "text": [
      "[Epoch 79] Train Loss: 0.033337 - Test Loss: 0.261078 - Train Accuracy: 98.90% - Test Accuracy: 93.66%\n"
     ]
    },
    {
     "name": "stderr",
     "output_type": "stream",
     "text": [
      "\n",
      "Epoch 79: 100%|██████████| 500/500 [02:24<00:00,  3.47batch/s]\n",
      "Test 79: 100%|██████████| 100/100 [00:08<00:00, 12.33batch/s]"
     ]
    },
    {
     "name": "stdout",
     "output_type": "stream",
     "text": [
      "[Epoch 80] Train Loss: 0.034237 - Test Loss: 0.260178 - Train Accuracy: 98.91% - Test Accuracy: 93.64%\n"
     ]
    },
    {
     "name": "stderr",
     "output_type": "stream",
     "text": [
      "\n",
      "Epoch 80: 100%|██████████| 500/500 [02:24<00:00,  3.45batch/s]\n",
      "Test 80: 100%|██████████| 100/100 [00:08<00:00, 12.30batch/s]\n"
     ]
    },
    {
     "name": "stdout",
     "output_type": "stream",
     "text": [
      "[Epoch 81] Train Loss: 0.034150 - Test Loss: 0.257045 - Train Accuracy: 98.86% - Test Accuracy: 93.78%\n"
     ]
    },
    {
     "name": "stderr",
     "output_type": "stream",
     "text": [
      "Epoch 81: 100%|██████████| 500/500 [02:24<00:00,  3.46batch/s]\n",
      "Test 81: 100%|██████████| 100/100 [00:08<00:00, 12.32batch/s]"
     ]
    },
    {
     "name": "stdout",
     "output_type": "stream",
     "text": [
      "[Epoch 82] Train Loss: 0.034196 - Test Loss: 0.263904 - Train Accuracy: 98.82% - Test Accuracy: 93.63%\n"
     ]
    },
    {
     "name": "stderr",
     "output_type": "stream",
     "text": [
      "\n",
      "Epoch 82: 100%|██████████| 500/500 [02:24<00:00,  3.46batch/s]\n",
      "Test 82: 100%|██████████| 100/100 [00:08<00:00, 12.33batch/s]\n"
     ]
    },
    {
     "name": "stdout",
     "output_type": "stream",
     "text": [
      "[Epoch 83] Train Loss: 0.032860 - Test Loss: 0.260305 - Train Accuracy: 98.88% - Test Accuracy: 93.81%\n"
     ]
    },
    {
     "name": "stderr",
     "output_type": "stream",
     "text": [
      "Epoch 83: 100%|██████████| 500/500 [02:24<00:00,  3.46batch/s]\n",
      "Test 83: 100%|██████████| 100/100 [00:08<00:00, 12.47batch/s]"
     ]
    },
    {
     "name": "stdout",
     "output_type": "stream",
     "text": [
      "[Epoch 84] Train Loss: 0.031893 - Test Loss: 0.257888 - Train Accuracy: 98.94% - Test Accuracy: 93.71%\n"
     ]
    },
    {
     "name": "stderr",
     "output_type": "stream",
     "text": [
      "\n",
      "Epoch 84: 100%|██████████| 500/500 [02:23<00:00,  3.49batch/s]\n",
      "Test 84: 100%|██████████| 100/100 [00:08<00:00, 12.44batch/s]"
     ]
    },
    {
     "name": "stdout",
     "output_type": "stream",
     "text": [
      "[Epoch 85] Train Loss: 0.032705 - Test Loss: 0.259668 - Train Accuracy: 98.92% - Test Accuracy: 93.68%\n"
     ]
    },
    {
     "name": "stderr",
     "output_type": "stream",
     "text": [
      "\n",
      "Epoch 85: 100%|██████████| 500/500 [02:23<00:00,  3.47batch/s]\n",
      "Test 85: 100%|██████████| 100/100 [00:08<00:00, 12.33batch/s]"
     ]
    },
    {
     "name": "stdout",
     "output_type": "stream",
     "text": [
      "[Epoch 86] Train Loss: 0.033704 - Test Loss: 0.260335 - Train Accuracy: 98.88% - Test Accuracy: 93.78%\n"
     ]
    },
    {
     "name": "stderr",
     "output_type": "stream",
     "text": [
      "\n",
      "Epoch 86: 100%|██████████| 500/500 [02:24<00:00,  3.47batch/s]\n",
      "Test 86: 100%|██████████| 100/100 [00:08<00:00, 12.31batch/s]"
     ]
    },
    {
     "name": "stdout",
     "output_type": "stream",
     "text": [
      "[Epoch 87] Train Loss: 0.031978 - Test Loss: 0.261312 - Train Accuracy: 98.88% - Test Accuracy: 93.72%\n"
     ]
    },
    {
     "name": "stderr",
     "output_type": "stream",
     "text": [
      "\n",
      "Epoch 87: 100%|██████████| 500/500 [02:23<00:00,  3.48batch/s]\n",
      "Test 87: 100%|██████████| 100/100 [00:08<00:00, 12.40batch/s]"
     ]
    },
    {
     "name": "stdout",
     "output_type": "stream",
     "text": [
      "[Epoch 88] Train Loss: 0.031847 - Test Loss: 0.260764 - Train Accuracy: 98.89% - Test Accuracy: 93.73%\n"
     ]
    },
    {
     "name": "stderr",
     "output_type": "stream",
     "text": [
      "\n",
      "Epoch 88: 100%|██████████| 500/500 [02:24<00:00,  3.45batch/s]\n",
      "Test 88: 100%|██████████| 100/100 [00:08<00:00, 12.29batch/s]"
     ]
    },
    {
     "name": "stdout",
     "output_type": "stream",
     "text": [
      "[Epoch 89] Train Loss: 0.032789 - Test Loss: 0.261331 - Train Accuracy: 98.89% - Test Accuracy: 93.64%\n"
     ]
    },
    {
     "name": "stderr",
     "output_type": "stream",
     "text": [
      "\n",
      "Epoch 89: 100%|██████████| 500/500 [02:23<00:00,  3.48batch/s]\n",
      "Test 89: 100%|██████████| 100/100 [00:07<00:00, 12.53batch/s]"
     ]
    },
    {
     "name": "stdout",
     "output_type": "stream",
     "text": [
      "[Epoch 90] Train Loss: 0.033817 - Test Loss: 0.262859 - Train Accuracy: 98.88% - Test Accuracy: 93.74%\n"
     ]
    },
    {
     "name": "stderr",
     "output_type": "stream",
     "text": [
      "\n",
      "Epoch 90: 100%|██████████| 500/500 [02:23<00:00,  3.48batch/s]\n",
      "Test 90: 100%|██████████| 100/100 [00:08<00:00, 12.33batch/s]"
     ]
    },
    {
     "name": "stdout",
     "output_type": "stream",
     "text": [
      "[Epoch 91] Train Loss: 0.034255 - Test Loss: 0.260843 - Train Accuracy: 98.92% - Test Accuracy: 93.74%\n"
     ]
    },
    {
     "name": "stderr",
     "output_type": "stream",
     "text": [
      "\n",
      "Epoch 91: 100%|██████████| 500/500 [02:24<00:00,  3.45batch/s]\n",
      "Test 91: 100%|██████████| 100/100 [00:08<00:00, 12.30batch/s]"
     ]
    },
    {
     "name": "stdout",
     "output_type": "stream",
     "text": [
      "[Epoch 92] Train Loss: 0.032591 - Test Loss: 0.259054 - Train Accuracy: 98.87% - Test Accuracy: 93.79%\n"
     ]
    },
    {
     "name": "stderr",
     "output_type": "stream",
     "text": [
      "\n",
      "Epoch 92: 100%|██████████| 500/500 [02:23<00:00,  3.47batch/s]\n",
      "Test 92: 100%|██████████| 100/100 [00:08<00:00, 12.44batch/s]"
     ]
    },
    {
     "name": "stdout",
     "output_type": "stream",
     "text": [
      "[Epoch 93] Train Loss: 0.031175 - Test Loss: 0.265966 - Train Accuracy: 98.96% - Test Accuracy: 93.66%\n"
     ]
    },
    {
     "name": "stderr",
     "output_type": "stream",
     "text": [
      "\n",
      "Epoch 93: 100%|██████████| 500/500 [02:24<00:00,  3.47batch/s]\n",
      "Test 93: 100%|██████████| 100/100 [00:08<00:00, 12.36batch/s]"
     ]
    },
    {
     "name": "stdout",
     "output_type": "stream",
     "text": [
      "[Epoch 94] Train Loss: 0.032367 - Test Loss: 0.263364 - Train Accuracy: 98.90% - Test Accuracy: 93.65%\n"
     ]
    },
    {
     "name": "stderr",
     "output_type": "stream",
     "text": [
      "\n",
      "Epoch 94: 100%|██████████| 500/500 [02:23<00:00,  3.48batch/s]\n",
      "Test 94: 100%|██████████| 100/100 [00:08<00:00, 12.37batch/s]"
     ]
    },
    {
     "name": "stdout",
     "output_type": "stream",
     "text": [
      "[Epoch 95] Train Loss: 0.033760 - Test Loss: 0.264201 - Train Accuracy: 98.84% - Test Accuracy: 93.76%\n"
     ]
    },
    {
     "name": "stderr",
     "output_type": "stream",
     "text": [
      "\n",
      "Epoch 95: 100%|██████████| 500/500 [02:23<00:00,  3.47batch/s]\n",
      "Test 95: 100%|██████████| 100/100 [00:08<00:00, 12.34batch/s]\n"
     ]
    },
    {
     "name": "stdout",
     "output_type": "stream",
     "text": [
      "[Epoch 96] Train Loss: 0.030153 - Test Loss: 0.260910 - Train Accuracy: 99.01% - Test Accuracy: 93.89%\n"
     ]
    },
    {
     "name": "stderr",
     "output_type": "stream",
     "text": [
      "Epoch 96: 100%|██████████| 500/500 [02:24<00:00,  3.47batch/s]\n",
      "Test 96: 100%|██████████| 100/100 [00:08<00:00, 12.34batch/s]"
     ]
    },
    {
     "name": "stdout",
     "output_type": "stream",
     "text": [
      "[Epoch 97] Train Loss: 0.032539 - Test Loss: 0.262749 - Train Accuracy: 98.91% - Test Accuracy: 93.64%\n"
     ]
    },
    {
     "name": "stderr",
     "output_type": "stream",
     "text": [
      "\n",
      "Epoch 97: 100%|██████████| 500/500 [02:24<00:00,  3.47batch/s]\n",
      "Test 97: 100%|██████████| 100/100 [00:08<00:00, 12.34batch/s]"
     ]
    },
    {
     "name": "stdout",
     "output_type": "stream",
     "text": [
      "[Epoch 98] Train Loss: 0.031909 - Test Loss: 0.265034 - Train Accuracy: 98.98% - Test Accuracy: 93.71%\n"
     ]
    },
    {
     "name": "stderr",
     "output_type": "stream",
     "text": [
      "\n",
      "Epoch 98: 100%|██████████| 500/500 [02:23<00:00,  3.47batch/s]\n",
      "Test 98: 100%|██████████| 100/100 [00:08<00:00, 12.37batch/s]"
     ]
    },
    {
     "name": "stdout",
     "output_type": "stream",
     "text": [
      "[Epoch 99] Train Loss: 0.030814 - Test Loss: 0.265618 - Train Accuracy: 98.97% - Test Accuracy: 93.73%\n"
     ]
    },
    {
     "name": "stderr",
     "output_type": "stream",
     "text": [
      "\n",
      "Epoch 99: 100%|██████████| 500/500 [02:23<00:00,  3.48batch/s]\n",
      "Test 99: 100%|██████████| 100/100 [00:08<00:00, 12.46batch/s]"
     ]
    },
    {
     "name": "stdout",
     "output_type": "stream",
     "text": [
      "[Epoch 100] Train Loss: 0.032018 - Test Loss: 0.259458 - Train Accuracy: 98.91% - Test Accuracy: 93.74%\n",
      "\n",
      "BEST TEST ACCURACY:  93.89  in epoch  95\n"
     ]
    },
    {
     "name": "stderr",
     "output_type": "stream",
     "text": [
      "\n"
     ]
    }
   ],
   "source": [
    "net.to(device)\n",
    "\n",
    "print(\"\\n---- Start Training ----\")\n",
    "best_accuracy = -1\n",
    "best_epoch = 0\n",
    "for epoch in range(epochs):\n",
    "\n",
    "    train_loss, train_correct = 0, 0\n",
    "    net.train()\n",
    "    with tqdm(iter(train_dataloader), desc=\"Epoch \" + str(epoch), unit=\"batch\") as tepoch:\n",
    "        for batch in tepoch:\n",
    "            \n",
    "            images = batch[\"img\"].to(device)\n",
    "            labels = batch[\"label\"].to(device)\n",
    "\n",
    "            optimizer.zero_grad()\n",
    "\n",
    "            outputs = net(images)\n",
    "            loss = criterion(outputs, labels)\n",
    "\n",
    "            loss.backward()\n",
    "\n",
    "            optimizer.step()\n",
    "\n",
    "            labels = torch.argmax(labels, dim=1)\n",
    "            pred = torch.argmax(outputs, dim=1)\n",
    "            train_correct += pred.eq(labels).sum().item()\n",
    "\n",
    "            train_loss += loss.item()\n",
    "\n",
    "    train_loss /= (len(train_dataloader.dataset) / batch_size)\n",
    "\n",
    "    test_loss, test_correct = 0, 0\n",
    "    net.eval()\n",
    "    with torch.no_grad():\n",
    "      with tqdm(iter(test_dataloader), desc=\"Test \" + str(epoch), unit=\"batch\") as tepoch:\n",
    "          for batch in tepoch:\n",
    "\n",
    "            images = batch[\"img\"].to(device)\n",
    "            labels = batch[\"label\"].to(device)\n",
    "\n",
    "            outputs = net(images)\n",
    "            test_loss += criterion(outputs, labels)\n",
    "\n",
    "            labels = torch.argmax(labels, dim=1)\n",
    "            pred = torch.argmax(outputs, dim=1)\n",
    "\n",
    "            test_correct += pred.eq(labels).sum().item()\n",
    "\n",
    "    lr_scheduler.step(test_loss)\n",
    "\n",
    "    test_loss /= (len(test_dataloader.dataset) / batch_size)\n",
    "    test_accuracy = 100. * test_correct / len(test_dataloader.dataset)\n",
    "\n",
    "    print(\"[Epoch {}] Train Loss: {:.6f} - Test Loss: {:.6f} - Train Accuracy: {:.2f}% - Test Accuracy: {:.2f}%\".format(\n",
    "        epoch + 1, train_loss, test_loss, 100. * train_correct / len(train_dataloader.dataset), test_accuracy\n",
    "    ))\n",
    "\n",
    "    if test_accuracy > best_accuracy:\n",
    "        best_accuracy = test_accuracy\n",
    "        best_epoch = epoch\n",
    "\n",
    "        torch.save(net.state_dict(), \"model_wideresnet28-6.pt\")\n",
    "\n",
    "print(\"\\nBEST TEST ACCURACY: \", best_accuracy, \" in epoch \", best_epoch)"
   ]
  },
  {
   "cell_type": "markdown",
   "metadata": {},
   "source": [
    "### **Mejor Modelo**"
   ]
  },
  {
   "cell_type": "code",
   "execution_count": 11,
   "metadata": {
    "execution": {
     "iopub.execute_input": "2025-04-14T13:55:49.950886Z",
     "iopub.status.busy": "2025-04-14T13:55:49.950510Z",
     "iopub.status.idle": "2025-04-14T13:55:58.135807Z",
     "shell.execute_reply": "2025-04-14T13:55:58.134995Z",
     "shell.execute_reply.started": "2025-04-14T13:55:49.950859Z"
    },
    "trusted": true
   },
   "outputs": [
    {
     "name": "stderr",
     "output_type": "stream",
     "text": [
      "/tmp/ipykernel_31/4061149071.py:1: FutureWarning: You are using `torch.load` with `weights_only=False` (the current default value), which uses the default pickle module implicitly. It is possible to construct malicious pickle data which will execute arbitrary code during unpickling (See https://github.com/pytorch/pytorch/blob/main/SECURITY.md#untrusted-models for more details). In a future release, the default value for `weights_only` will be flipped to `True`. This limits the functions that could be executed during unpickling. Arbitrary objects will no longer be allowed to be loaded via this mode unless they are explicitly allowlisted by the user via `torch.serialization.add_safe_globals`. We recommend you start setting `weights_only=True` for any use case where you don't have full control of the loaded file. Please open an issue on GitHub for any issues related to this experimental feature.\n",
      "  net.load_state_dict(torch.load(\"model_wideresnet28-6.pt\"))\n",
      "Test 99: 100%|██████████| 100/100 [00:08<00:00, 12.43batch/s]"
     ]
    },
    {
     "name": "stdout",
     "output_type": "stream",
     "text": [
      "Final best acc:  93.89\n"
     ]
    },
    {
     "name": "stderr",
     "output_type": "stream",
     "text": [
      "\n"
     ]
    }
   ],
   "source": [
    "net.load_state_dict(torch.load(\"model_wideresnet28-6.pt\"))\n",
    "\n",
    "test_loss, test_correct = 0, 0\n",
    "net.eval()\n",
    "with torch.no_grad():\n",
    "    with tqdm(iter(test_dataloader), desc=\"Test \" + str(epoch), unit=\"batch\") as tepoch:\n",
    "        for batch in tepoch:\n",
    "\n",
    "            images = batch[\"img\"].to(device)\n",
    "            labels = batch[\"label\"].to(device)\n",
    "\n",
    "            # Forward\n",
    "            outputs = net(images)\n",
    "            test_loss += criterion(outputs, labels)\n",
    "\n",
    "            # one hot -> labels\n",
    "            labels = torch.argmax(labels, dim=1)\n",
    "            pred = torch.argmax(outputs, dim=1)\n",
    "\n",
    "            test_correct += pred.eq(labels).sum().item()\n",
    "\n",
    "    test_loss /= len(test_dataloader.dataset)\n",
    "    test_accuracy = 100. * test_correct / len(test_dataloader.dataset)\n",
    "print(\"Final best acc: \", test_accuracy)"
   ]
  }
 ],
 "metadata": {
  "kaggle": {
   "accelerator": "nvidiaTeslaT4",
   "dataSources": [],
   "dockerImageVersionId": 31011,
   "isGpuEnabled": true,
   "isInternetEnabled": true,
   "language": "python",
   "sourceType": "notebook"
  },
  "kernelspec": {
   "display_name": "Python 3",
   "language": "python",
   "name": "python3"
  },
  "language_info": {
   "codemirror_mode": {
    "name": "ipython",
    "version": 3
   },
   "file_extension": ".py",
   "mimetype": "text/x-python",
   "name": "python",
   "nbconvert_exporter": "python",
   "pygments_lexer": "ipython3",
   "version": "3.11.11"
  }
 },
 "nbformat": 4,
 "nbformat_minor": 4
}
