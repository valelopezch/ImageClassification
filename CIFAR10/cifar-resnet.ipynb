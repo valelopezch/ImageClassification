{
 "cells": [
  {
   "cell_type": "markdown",
   "metadata": {},
   "source": [
    "<div style=\"text-align: right\"><b> Ana Valentina López Chacón </b></div>\n",
    "<div style=\"text-align: right\"><b> Redes Neuronales Artificiales, 2024 - 2025 </b></div>\n",
    "\n",
    "## **Práctica CIFAR: CNNs con Bloques ResNet**"
   ]
  },
  {
   "cell_type": "code",
   "execution_count": 1,
   "metadata": {
    "_cell_guid": "b1076dfc-b9ad-4769-8c92-a6c4dae69d19",
    "_uuid": "8f2839f25d086af736a60e9eeb907d3b93b6e0e5",
    "execution": {
     "iopub.execute_input": "2025-01-17T21:26:07.586841Z",
     "iopub.status.busy": "2025-01-17T21:26:07.586600Z",
     "iopub.status.idle": "2025-01-17T21:26:16.895304Z",
     "shell.execute_reply": "2025-01-17T21:26:16.894310Z",
     "shell.execute_reply.started": "2025-01-17T21:26:07.586819Z"
    },
    "trusted": true
   },
   "outputs": [
    {
     "name": "stdout",
     "output_type": "stream",
     "text": [
      "Torch version:  2.5.1+cu121\n",
      "Device:  cuda\n"
     ]
    }
   ],
   "source": [
    "import torch\n",
    "import torchvision\n",
    "import torch.nn as nn\n",
    "from tqdm import tqdm\n",
    "import multiprocessing\n",
    "import torch.optim as optim\n",
    "import torch.nn.functional as  F\n",
    "from torchvision import transforms\n",
    "from torch.utils.data import Dataset\n",
    "from torch.utils.data import DataLoader\n",
    "\n",
    "print(\"Torch version: \", torch. __version__)\n",
    "device = torch.device(\"cuda\" if torch.cuda.is_available() else \"cpu\")\n",
    "print(\"Device: \", device)"
   ]
  },
  {
   "cell_type": "code",
   "execution_count": 2,
   "metadata": {
    "execution": {
     "iopub.execute_input": "2025-01-17T21:26:16.896715Z",
     "iopub.status.busy": "2025-01-17T21:26:16.896306Z",
     "iopub.status.idle": "2025-01-17T21:26:16.911272Z",
     "shell.execute_reply": "2025-01-17T21:26:16.910495Z",
     "shell.execute_reply.started": "2025-01-17T21:26:16.896693Z"
    },
    "trusted": true
   },
   "outputs": [],
   "source": [
    "seed = 42\n",
    "torch.manual_seed(seed)\n",
    "\n",
    "if torch.cuda.is_available():\n",
    "    torch.cuda.manual_seed(seed)\n",
    "    torch.cuda.manual_seed_all(seed)\n",
    "    torch.backends.cudnn.deterministic = True\n",
    "    torch.backends.cudnn.benchmark = False"
   ]
  },
  {
   "cell_type": "code",
   "execution_count": 3,
   "metadata": {
    "execution": {
     "iopub.execute_input": "2025-01-17T21:26:16.912519Z",
     "iopub.status.busy": "2025-01-17T21:26:16.912286Z",
     "iopub.status.idle": "2025-01-17T21:26:16.930586Z",
     "shell.execute_reply": "2025-01-17T21:26:16.929843Z",
     "shell.execute_reply.started": "2025-01-17T21:26:16.912489Z"
    },
    "trusted": true
   },
   "outputs": [],
   "source": [
    "da_train = transforms.Compose([\n",
    "    transforms.RandomCrop(32, padding=4),\n",
    "    transforms.RandomHorizontalFlip(),\n",
    "    transforms.ColorJitter(brightness=0.2, contrast=0.2, saturation=0.2, hue=0.1),\n",
    "    transforms.RandomAffine(degrees=5, translate=(0.2, 0.2)),\n",
    "    transforms.ToTensor()\n",
    "])\n",
    "\n",
    "da_test = transforms.Compose([\n",
    "    transforms.ToTensor(),\n",
    "])"
   ]
  },
  {
   "cell_type": "markdown",
   "metadata": {},
   "source": [
    "### **Cargar los Datos**"
   ]
  },
  {
   "cell_type": "code",
   "execution_count": 4,
   "metadata": {
    "execution": {
     "iopub.execute_input": "2025-01-17T21:26:16.933151Z",
     "iopub.status.busy": "2025-01-17T21:26:16.932919Z",
     "iopub.status.idle": "2025-01-17T21:26:22.657951Z",
     "shell.execute_reply": "2025-01-17T21:26:22.657039Z",
     "shell.execute_reply.started": "2025-01-17T21:26:16.933132Z"
    },
    "trusted": true
   },
   "outputs": [
    {
     "name": "stdout",
     "output_type": "stream",
     "text": [
      "\n",
      "Loading CIFAR10  train  Dataset...\n",
      "Downloading https://www.cs.toronto.edu/~kriz/cifar-10-python.tar.gz to .data/cifar-10-python.tar.gz\n"
     ]
    },
    {
     "name": "stderr",
     "output_type": "stream",
     "text": [
      "100%|██████████| 170M/170M [00:02<00:00, 79.2MB/s] \n"
     ]
    },
    {
     "name": "stdout",
     "output_type": "stream",
     "text": [
      "Extracting .data/cifar-10-python.tar.gz to .data/\n",
      "\tTotal Len.:  50000 \n",
      " --------------------------------------------------\n",
      "\n",
      "Loading CIFAR10  test  Dataset...\n",
      "Files already downloaded and verified\n",
      "\tTotal Len.:  10000 \n",
      " --------------------------------------------------\n"
     ]
    }
   ],
   "source": [
    "class CIFAR10_dataset(Dataset):\n",
    "\n",
    "    def __init__(self, transform, partition = \"train\"):\n",
    "\n",
    "        print(\"\\nLoading CIFAR10 \", partition, \" Dataset...\")\n",
    "        self.partition = partition\n",
    "        self.transform = transform\n",
    "        if self.partition == \"train\":\n",
    "            self.data = torchvision.datasets.CIFAR10('.data/', \n",
    "                                                     train=True,\n",
    "                                                     download=True)\n",
    "        else:\n",
    "            self.data = torchvision.datasets.CIFAR10('.data/', \n",
    "                                                     train=False,\n",
    "                                                     download=True)\n",
    "        print(\"\\tTotal Len.: \", len(self.data), \"\\n\", 50*\"-\")\n",
    "    \n",
    "    def __len__(self):\n",
    "        return len(self.data)\n",
    "\n",
    "    def __getitem__(self, idx):\n",
    "\n",
    "        # Image\n",
    "        image = self.data[idx][0]\n",
    "        image_tensor = self.transform(image)\n",
    "\n",
    "        # Label\n",
    "        label = torch.tensor(self.data[idx][1])\n",
    "        label = F.one_hot(label, num_classes=10).float()\n",
    "\n",
    "        return {\"img\": image_tensor, \"label\": label}\n",
    "\n",
    "train_dataset = CIFAR10_dataset(da_train, partition=\"train\")\n",
    "test_dataset = CIFAR10_dataset(da_test, partition=\"test\")"
   ]
  },
  {
   "cell_type": "code",
   "execution_count": 5,
   "metadata": {
    "execution": {
     "iopub.execute_input": "2025-01-17T21:26:22.659585Z",
     "iopub.status.busy": "2025-01-17T21:26:22.659343Z",
     "iopub.status.idle": "2025-01-17T21:26:22.665574Z",
     "shell.execute_reply": "2025-01-17T21:26:22.664513Z",
     "shell.execute_reply.started": "2025-01-17T21:26:22.659565Z"
    },
    "trusted": true
   },
   "outputs": [
    {
     "name": "stdout",
     "output_type": "stream",
     "text": [
      "Num workers 3\n"
     ]
    }
   ],
   "source": [
    "batch_size = 100\n",
    "num_workers = multiprocessing.cpu_count()-1\n",
    "print(\"Num workers\", num_workers)\n",
    "train_dataloader = DataLoader(train_dataset, batch_size, shuffle=True, num_workers=num_workers)\n",
    "test_dataloader = DataLoader(test_dataset, batch_size, shuffle=False, num_workers=num_workers)"
   ]
  },
  {
   "cell_type": "markdown",
   "metadata": {},
   "source": [
    "### **Creación De Red**"
   ]
  },
  {
   "cell_type": "code",
   "execution_count": 6,
   "metadata": {
    "execution": {
     "iopub.execute_input": "2025-01-17T21:26:22.666953Z",
     "iopub.status.busy": "2025-01-17T21:26:22.666596Z",
     "iopub.status.idle": "2025-01-17T21:26:22.681707Z",
     "shell.execute_reply": "2025-01-17T21:26:22.680813Z",
     "shell.execute_reply.started": "2025-01-17T21:26:22.666920Z"
    },
    "trusted": true
   },
   "outputs": [],
   "source": [
    "class ConvBlock(nn.Module):\n",
    "    def __init__(self, in_channels, out_channels):\n",
    "        super(ConvBlock, self).__init__()\n",
    "        \n",
    "        self.conv = nn.Conv2d(in_channels, out_channels, kernel_size=3, stride=1, padding=1)\n",
    "        self.bn = nn.BatchNorm2d(out_channels)\n",
    "        self.relu = nn.ReLU()\n",
    "        self.pool = nn.MaxPool2d(kernel_size=2, stride=2)\n",
    "        \n",
    "    def forward(self, x):\n",
    "        \n",
    "        x = self.conv(x)\n",
    "        x = self.bn(x)\n",
    "        x = self.relu(x)\n",
    "        x = self.pool(x)\n",
    "\n",
    "        return x"
   ]
  },
  {
   "cell_type": "code",
   "execution_count": 7,
   "metadata": {
    "execution": {
     "iopub.execute_input": "2025-01-17T21:26:22.683074Z",
     "iopub.status.busy": "2025-01-17T21:26:22.682751Z",
     "iopub.status.idle": "2025-01-17T21:26:22.698222Z",
     "shell.execute_reply": "2025-01-17T21:26:22.697297Z",
     "shell.execute_reply.started": "2025-01-17T21:26:22.683041Z"
    },
    "trusted": true
   },
   "outputs": [],
   "source": [
    "class ResNetBlock(nn.Module):\n",
    "    def __init__(self, in_channels, out_channels):\n",
    "        super(ResNetBlock, self).__init__()\n",
    "\n",
    "        self.conv1 = nn.Conv2d(in_channels, out_channels, kernel_size=3, padding='same')\n",
    "        self.bn1 = nn.BatchNorm2d(out_channels)\n",
    "        \n",
    "        self.conv2 = nn.Conv2d(out_channels, out_channels, kernel_size=3, padding='same')\n",
    "        self.bn2 = nn.BatchNorm2d(out_channels)\n",
    "        \n",
    "        self.conv_shortcut = nn.Conv2d(in_channels, out_channels, kernel_size=1, padding='same')\n",
    "        self.relu = nn.ReLU()\n",
    "\n",
    "    def forward(self, x):\n",
    "        previous_x = x\n",
    "\n",
    "        out = self.conv1(x)\n",
    "        out = self.bn1(out)\n",
    "        out = self.relu(out)\n",
    "\n",
    "        out = self.conv2(out)\n",
    "        out = self.bn2(out)\n",
    "\n",
    "        previous_x = self.conv_shortcut(previous_x)\n",
    "\n",
    "        out += previous_x\n",
    "        out = self.relu(out)\n",
    "\n",
    "        return out"
   ]
  },
  {
   "cell_type": "code",
   "execution_count": 12,
   "metadata": {
    "execution": {
     "iopub.execute_input": "2025-01-17T21:27:07.171164Z",
     "iopub.status.busy": "2025-01-17T21:27:07.170843Z",
     "iopub.status.idle": "2025-01-17T21:27:07.177681Z",
     "shell.execute_reply": "2025-01-17T21:27:07.176857Z",
     "shell.execute_reply.started": "2025-01-17T21:27:07.171122Z"
    },
    "trusted": true
   },
   "outputs": [],
   "source": [
    "class ResNetCNN(nn.Module):\n",
    "    def __init__(self, num_classes=10):\n",
    "        super(ResNetCNN, self).__init__()\n",
    "        \n",
    "        # First, apply ConvBlocks\n",
    "        self.conv_layers = nn.Sequential(\n",
    "            ConvBlock(3, 32),\n",
    "            ConvBlock(32, 64),\n",
    "            ConvBlock(64, 128)\n",
    "        )\n",
    "        \n",
    "        self.resnet_layers = nn.Sequential(\n",
    "            ResNetBlock(128, 256),\n",
    "            ResNetBlock(256, 512)\n",
    "        )\n",
    "\n",
    "        flattened_size = 512 * 4 * 4\n",
    "\n",
    "        self.fc1 = nn.Linear(flattened_size, 512)\n",
    "        self.fc2 = nn.Linear(512, num_classes)\n",
    "\n",
    "    def forward(self, x):\n",
    "        x = self.conv_layers(x) \n",
    "        x = self.resnet_layers(x)  \n",
    "        x = torch.flatten(x, start_dim=1)  \n",
    "        x = F.relu(self.fc1(x))  \n",
    "        x = self.fc2(x)  \n",
    "        return x\n"
   ]
  },
  {
   "cell_type": "code",
   "execution_count": 13,
   "metadata": {
    "execution": {
     "iopub.execute_input": "2025-01-17T21:27:11.923414Z",
     "iopub.status.busy": "2025-01-17T21:27:11.923093Z",
     "iopub.status.idle": "2025-01-17T21:27:12.012460Z",
     "shell.execute_reply": "2025-01-17T21:27:12.011649Z",
     "shell.execute_reply.started": "2025-01-17T21:27:11.923388Z"
    },
    "trusted": true
   },
   "outputs": [
    {
     "name": "stdout",
     "output_type": "stream",
     "text": [
      "ResNetCNN(\n",
      "  (conv_layers): Sequential(\n",
      "    (0): ConvBlock(\n",
      "      (conv): Conv2d(3, 32, kernel_size=(3, 3), stride=(1, 1), padding=(1, 1))\n",
      "      (bn): BatchNorm2d(32, eps=1e-05, momentum=0.1, affine=True, track_running_stats=True)\n",
      "      (relu): ReLU()\n",
      "      (pool): MaxPool2d(kernel_size=2, stride=2, padding=0, dilation=1, ceil_mode=False)\n",
      "    )\n",
      "    (1): ConvBlock(\n",
      "      (conv): Conv2d(32, 64, kernel_size=(3, 3), stride=(1, 1), padding=(1, 1))\n",
      "      (bn): BatchNorm2d(64, eps=1e-05, momentum=0.1, affine=True, track_running_stats=True)\n",
      "      (relu): ReLU()\n",
      "      (pool): MaxPool2d(kernel_size=2, stride=2, padding=0, dilation=1, ceil_mode=False)\n",
      "    )\n",
      "    (2): ConvBlock(\n",
      "      (conv): Conv2d(64, 128, kernel_size=(3, 3), stride=(1, 1), padding=(1, 1))\n",
      "      (bn): BatchNorm2d(128, eps=1e-05, momentum=0.1, affine=True, track_running_stats=True)\n",
      "      (relu): ReLU()\n",
      "      (pool): MaxPool2d(kernel_size=2, stride=2, padding=0, dilation=1, ceil_mode=False)\n",
      "    )\n",
      "  )\n",
      "  (resnet_layers): Sequential(\n",
      "    (0): ResNetBlock(\n",
      "      (conv1): Conv2d(128, 256, kernel_size=(3, 3), stride=(1, 1), padding=same)\n",
      "      (bn1): BatchNorm2d(256, eps=1e-05, momentum=0.1, affine=True, track_running_stats=True)\n",
      "      (conv2): Conv2d(256, 256, kernel_size=(3, 3), stride=(1, 1), padding=same)\n",
      "      (bn2): BatchNorm2d(256, eps=1e-05, momentum=0.1, affine=True, track_running_stats=True)\n",
      "      (conv_shortcut): Conv2d(128, 256, kernel_size=(1, 1), stride=(1, 1), padding=same)\n",
      "      (relu): ReLU()\n",
      "    )\n",
      "    (1): ResNetBlock(\n",
      "      (conv1): Conv2d(256, 512, kernel_size=(3, 3), stride=(1, 1), padding=same)\n",
      "      (bn1): BatchNorm2d(512, eps=1e-05, momentum=0.1, affine=True, track_running_stats=True)\n",
      "      (conv2): Conv2d(512, 512, kernel_size=(3, 3), stride=(1, 1), padding=same)\n",
      "      (bn2): BatchNorm2d(512, eps=1e-05, momentum=0.1, affine=True, track_running_stats=True)\n",
      "      (conv_shortcut): Conv2d(256, 512, kernel_size=(1, 1), stride=(1, 1), padding=same)\n",
      "      (relu): ReLU()\n",
      "    )\n",
      "  )\n",
      "  (fc1): Linear(in_features=8192, out_features=512, bias=True)\n",
      "  (fc2): Linear(in_features=512, out_features=10, bias=True)\n",
      ")\n",
      "Params:  8886538\n"
     ]
    }
   ],
   "source": [
    "num_classes = 10\n",
    "net = ResNetCNN(\n",
    "    num_classes\n",
    "    )\n",
    "print(net)\n",
    "\n",
    "def count_parameters(model):\n",
    "    return sum(p.numel() for p in model.parameters() if p.requires_grad)\n",
    "print(\"Params: \", count_parameters(net))"
   ]
  },
  {
   "cell_type": "code",
   "execution_count": 14,
   "metadata": {
    "execution": {
     "iopub.execute_input": "2025-01-17T21:27:17.570859Z",
     "iopub.status.busy": "2025-01-17T21:27:17.570475Z",
     "iopub.status.idle": "2025-01-17T21:27:17.575588Z",
     "shell.execute_reply": "2025-01-17T21:27:17.574841Z",
     "shell.execute_reply.started": "2025-01-17T21:27:17.570832Z"
    },
    "trusted": true
   },
   "outputs": [],
   "source": [
    "criterion = nn.CrossEntropyLoss()\n",
    "optimizer = optim.SGD(net.parameters(), lr=0.01, weight_decay=1e-6, momentum=0.9)\n",
    "lr_scheduler = optim.lr_scheduler.ReduceLROnPlateau(optimizer, factor=0.1, patience=10, min_lr=0.00001)\n",
    "epochs = 100"
   ]
  },
  {
   "cell_type": "markdown",
   "metadata": {},
   "source": [
    "### **Entrenamiento**"
   ]
  },
  {
   "cell_type": "code",
   "execution_count": 15,
   "metadata": {
    "execution": {
     "iopub.execute_input": "2025-01-17T21:27:20.197971Z",
     "iopub.status.busy": "2025-01-17T21:27:20.197603Z",
     "iopub.status.idle": "2025-01-17T22:11:55.779249Z",
     "shell.execute_reply": "2025-01-17T22:11:55.778011Z",
     "shell.execute_reply.started": "2025-01-17T21:27:20.197943Z"
    },
    "trusted": true
   },
   "outputs": [
    {
     "name": "stdout",
     "output_type": "stream",
     "text": [
      "\n",
      "---- Start Training ----\n"
     ]
    },
    {
     "name": "stderr",
     "output_type": "stream",
     "text": [
      "Epoch 0: 100%|██████████| 500/500 [00:26<00:00, 19.09batch/s]\n",
      "Test 0: 100%|██████████| 100/100 [00:01<00:00, 65.84batch/s]\n"
     ]
    },
    {
     "name": "stdout",
     "output_type": "stream",
     "text": [
      "[Epoch 1] Train Loss: 1.633756 - Test Loss: 1.580536 - Train Accuracy: 39.69% - Test Accuracy: 46.21%\n"
     ]
    },
    {
     "name": "stderr",
     "output_type": "stream",
     "text": [
      "Epoch 1: 100%|██████████| 500/500 [00:25<00:00, 19.80batch/s]\n",
      "Test 1: 100%|██████████| 100/100 [00:01<00:00, 63.79batch/s]\n"
     ]
    },
    {
     "name": "stdout",
     "output_type": "stream",
     "text": [
      "[Epoch 2] Train Loss: 1.268323 - Test Loss: 1.407291 - Train Accuracy: 54.21% - Test Accuracy: 52.92%\n"
     ]
    },
    {
     "name": "stderr",
     "output_type": "stream",
     "text": [
      "Epoch 2: 100%|██████████| 500/500 [00:25<00:00, 19.93batch/s]\n",
      "Test 2: 100%|██████████| 100/100 [00:01<00:00, 67.03batch/s]\n"
     ]
    },
    {
     "name": "stdout",
     "output_type": "stream",
     "text": [
      "[Epoch 3] Train Loss: 1.107069 - Test Loss: 1.168907 - Train Accuracy: 60.71% - Test Accuracy: 59.81%\n"
     ]
    },
    {
     "name": "stderr",
     "output_type": "stream",
     "text": [
      "Epoch 3: 100%|██████████| 500/500 [00:26<00:00, 19.22batch/s]\n",
      "Test 3: 100%|██████████| 100/100 [00:01<00:00, 68.97batch/s]\n"
     ]
    },
    {
     "name": "stdout",
     "output_type": "stream",
     "text": [
      "[Epoch 4] Train Loss: 0.992754 - Test Loss: 1.054460 - Train Accuracy: 64.97% - Test Accuracy: 64.84%\n"
     ]
    },
    {
     "name": "stderr",
     "output_type": "stream",
     "text": [
      "Epoch 4: 100%|██████████| 500/500 [00:25<00:00, 19.30batch/s]\n",
      "Test 4: 100%|██████████| 100/100 [00:01<00:00, 67.16batch/s]"
     ]
    },
    {
     "name": "stdout",
     "output_type": "stream",
     "text": [
      "[Epoch 5] Train Loss: 0.922097 - Test Loss: 1.131117 - Train Accuracy: 67.62% - Test Accuracy: 63.12%\n"
     ]
    },
    {
     "name": "stderr",
     "output_type": "stream",
     "text": [
      "\n",
      "Epoch 5: 100%|██████████| 500/500 [00:25<00:00, 19.62batch/s]\n",
      "Test 5: 100%|██████████| 100/100 [00:01<00:00, 68.94batch/s]\n"
     ]
    },
    {
     "name": "stdout",
     "output_type": "stream",
     "text": [
      "[Epoch 6] Train Loss: 0.862624 - Test Loss: 0.847703 - Train Accuracy: 69.99% - Test Accuracy: 71.07%\n"
     ]
    },
    {
     "name": "stderr",
     "output_type": "stream",
     "text": [
      "Epoch 6: 100%|██████████| 500/500 [00:25<00:00, 19.41batch/s]\n",
      "Test 6: 100%|██████████| 100/100 [00:01<00:00, 66.92batch/s]"
     ]
    },
    {
     "name": "stdout",
     "output_type": "stream",
     "text": [
      "[Epoch 7] Train Loss: 0.816864 - Test Loss: 1.157838 - Train Accuracy: 71.54% - Test Accuracy: 63.45%\n"
     ]
    },
    {
     "name": "stderr",
     "output_type": "stream",
     "text": [
      "\n",
      "Epoch 7: 100%|██████████| 500/500 [00:25<00:00, 19.85batch/s]\n",
      "Test 7: 100%|██████████| 100/100 [00:01<00:00, 68.06batch/s]\n"
     ]
    },
    {
     "name": "stdout",
     "output_type": "stream",
     "text": [
      "[Epoch 8] Train Loss: 0.777225 - Test Loss: 0.723823 - Train Accuracy: 72.70% - Test Accuracy: 75.29%\n"
     ]
    },
    {
     "name": "stderr",
     "output_type": "stream",
     "text": [
      "Epoch 8: 100%|██████████| 500/500 [00:25<00:00, 19.80batch/s]\n",
      "Test 8: 100%|██████████| 100/100 [00:01<00:00, 56.10batch/s]"
     ]
    },
    {
     "name": "stdout",
     "output_type": "stream",
     "text": [
      "[Epoch 9] Train Loss: 0.741970 - Test Loss: 0.877972 - Train Accuracy: 73.88% - Test Accuracy: 70.78%\n"
     ]
    },
    {
     "name": "stderr",
     "output_type": "stream",
     "text": [
      "\n",
      "Epoch 9: 100%|██████████| 500/500 [00:25<00:00, 19.57batch/s]\n",
      "Test 9: 100%|██████████| 100/100 [00:01<00:00, 67.33batch/s]"
     ]
    },
    {
     "name": "stdout",
     "output_type": "stream",
     "text": [
      "[Epoch 10] Train Loss: 0.708704 - Test Loss: 0.879049 - Train Accuracy: 75.22% - Test Accuracy: 71.50%\n"
     ]
    },
    {
     "name": "stderr",
     "output_type": "stream",
     "text": [
      "\n",
      "Epoch 10: 100%|██████████| 500/500 [00:25<00:00, 19.73batch/s]\n",
      "Test 10: 100%|██████████| 100/100 [00:01<00:00, 67.79batch/s]\n"
     ]
    },
    {
     "name": "stdout",
     "output_type": "stream",
     "text": [
      "[Epoch 11] Train Loss: 0.684716 - Test Loss: 0.708898 - Train Accuracy: 75.96% - Test Accuracy: 75.79%\n"
     ]
    },
    {
     "name": "stderr",
     "output_type": "stream",
     "text": [
      "Epoch 11: 100%|██████████| 500/500 [00:25<00:00, 19.33batch/s]\n",
      "Test 11: 100%|██████████| 100/100 [00:01<00:00, 67.41batch/s]\n"
     ]
    },
    {
     "name": "stdout",
     "output_type": "stream",
     "text": [
      "[Epoch 12] Train Loss: 0.656863 - Test Loss: 0.649019 - Train Accuracy: 77.08% - Test Accuracy: 77.78%\n"
     ]
    },
    {
     "name": "stderr",
     "output_type": "stream",
     "text": [
      "Epoch 12: 100%|██████████| 500/500 [00:25<00:00, 19.60batch/s]\n",
      "Test 12: 100%|██████████| 100/100 [00:01<00:00, 64.37batch/s]"
     ]
    },
    {
     "name": "stdout",
     "output_type": "stream",
     "text": [
      "[Epoch 13] Train Loss: 0.634900 - Test Loss: 0.872928 - Train Accuracy: 77.82% - Test Accuracy: 72.17%\n"
     ]
    },
    {
     "name": "stderr",
     "output_type": "stream",
     "text": [
      "\n",
      "Epoch 13: 100%|██████████| 500/500 [00:25<00:00, 19.27batch/s]\n",
      "Test 13: 100%|██████████| 100/100 [00:01<00:00, 65.50batch/s]\n"
     ]
    },
    {
     "name": "stdout",
     "output_type": "stream",
     "text": [
      "[Epoch 14] Train Loss: 0.622196 - Test Loss: 0.610652 - Train Accuracy: 78.19% - Test Accuracy: 78.82%\n"
     ]
    },
    {
     "name": "stderr",
     "output_type": "stream",
     "text": [
      "Epoch 14: 100%|██████████| 500/500 [00:25<00:00, 19.54batch/s]\n",
      "Test 14: 100%|██████████| 100/100 [00:01<00:00, 68.85batch/s]"
     ]
    },
    {
     "name": "stdout",
     "output_type": "stream",
     "text": [
      "[Epoch 15] Train Loss: 0.604344 - Test Loss: 0.725631 - Train Accuracy: 79.14% - Test Accuracy: 76.47%\n"
     ]
    },
    {
     "name": "stderr",
     "output_type": "stream",
     "text": [
      "\n",
      "Epoch 15: 100%|██████████| 500/500 [00:25<00:00, 19.60batch/s]\n",
      "Test 15: 100%|██████████| 100/100 [00:01<00:00, 64.93batch/s]"
     ]
    },
    {
     "name": "stdout",
     "output_type": "stream",
     "text": [
      "[Epoch 16] Train Loss: 0.581195 - Test Loss: 0.683518 - Train Accuracy: 79.72% - Test Accuracy: 77.41%\n"
     ]
    },
    {
     "name": "stderr",
     "output_type": "stream",
     "text": [
      "\n",
      "Epoch 16: 100%|██████████| 500/500 [00:25<00:00, 19.70batch/s]\n",
      "Test 16: 100%|██████████| 100/100 [00:01<00:00, 66.76batch/s]\n"
     ]
    },
    {
     "name": "stdout",
     "output_type": "stream",
     "text": [
      "[Epoch 17] Train Loss: 0.569708 - Test Loss: 0.521235 - Train Accuracy: 80.30% - Test Accuracy: 82.19%\n"
     ]
    },
    {
     "name": "stderr",
     "output_type": "stream",
     "text": [
      "Epoch 17: 100%|██████████| 500/500 [00:25<00:00, 19.29batch/s]\n",
      "Test 17: 100%|██████████| 100/100 [00:01<00:00, 68.78batch/s]\n"
     ]
    },
    {
     "name": "stdout",
     "output_type": "stream",
     "text": [
      "[Epoch 18] Train Loss: 0.559096 - Test Loss: 0.507117 - Train Accuracy: 80.39% - Test Accuracy: 83.19%\n"
     ]
    },
    {
     "name": "stderr",
     "output_type": "stream",
     "text": [
      "Epoch 18: 100%|██████████| 500/500 [00:25<00:00, 19.63batch/s]\n",
      "Test 18: 100%|██████████| 100/100 [00:01<00:00, 68.64batch/s]"
     ]
    },
    {
     "name": "stdout",
     "output_type": "stream",
     "text": [
      "[Epoch 19] Train Loss: 0.536880 - Test Loss: 0.541039 - Train Accuracy: 81.07% - Test Accuracy: 82.06%\n"
     ]
    },
    {
     "name": "stderr",
     "output_type": "stream",
     "text": [
      "\n",
      "Epoch 19: 100%|██████████| 500/500 [00:25<00:00, 19.93batch/s]\n",
      "Test 19: 100%|██████████| 100/100 [00:01<00:00, 64.33batch/s]"
     ]
    },
    {
     "name": "stdout",
     "output_type": "stream",
     "text": [
      "[Epoch 20] Train Loss: 0.529622 - Test Loss: 0.554308 - Train Accuracy: 81.46% - Test Accuracy: 81.49%\n"
     ]
    },
    {
     "name": "stderr",
     "output_type": "stream",
     "text": [
      "\n",
      "Epoch 20: 100%|██████████| 500/500 [00:25<00:00, 19.33batch/s]\n",
      "Test 20: 100%|██████████| 100/100 [00:01<00:00, 67.03batch/s]"
     ]
    },
    {
     "name": "stdout",
     "output_type": "stream",
     "text": [
      "[Epoch 21] Train Loss: 0.515491 - Test Loss: 0.548039 - Train Accuracy: 81.95% - Test Accuracy: 81.65%\n"
     ]
    },
    {
     "name": "stderr",
     "output_type": "stream",
     "text": [
      "\n",
      "Epoch 21: 100%|██████████| 500/500 [00:25<00:00, 19.93batch/s]\n",
      "Test 21: 100%|██████████| 100/100 [00:01<00:00, 59.54batch/s]"
     ]
    },
    {
     "name": "stdout",
     "output_type": "stream",
     "text": [
      "[Epoch 22] Train Loss: 0.497161 - Test Loss: 0.583459 - Train Accuracy: 82.46% - Test Accuracy: 80.81%\n"
     ]
    },
    {
     "name": "stderr",
     "output_type": "stream",
     "text": [
      "\n",
      "Epoch 22: 100%|██████████| 500/500 [00:24<00:00, 20.00batch/s]\n",
      "Test 22: 100%|██████████| 100/100 [00:01<00:00, 68.43batch/s]"
     ]
    },
    {
     "name": "stdout",
     "output_type": "stream",
     "text": [
      "[Epoch 23] Train Loss: 0.492939 - Test Loss: 0.504909 - Train Accuracy: 82.67% - Test Accuracy: 82.79%\n"
     ]
    },
    {
     "name": "stderr",
     "output_type": "stream",
     "text": [
      "\n",
      "Epoch 23: 100%|██████████| 500/500 [00:25<00:00, 19.37batch/s]\n",
      "Test 23: 100%|██████████| 100/100 [00:01<00:00, 68.80batch/s]"
     ]
    },
    {
     "name": "stdout",
     "output_type": "stream",
     "text": [
      "[Epoch 24] Train Loss: 0.482315 - Test Loss: 0.557995 - Train Accuracy: 82.88% - Test Accuracy: 81.70%\n"
     ]
    },
    {
     "name": "stderr",
     "output_type": "stream",
     "text": [
      "\n",
      "Epoch 24: 100%|██████████| 500/500 [00:25<00:00, 19.41batch/s]\n",
      "Test 24: 100%|██████████| 100/100 [00:01<00:00, 66.57batch/s]\n"
     ]
    },
    {
     "name": "stdout",
     "output_type": "stream",
     "text": [
      "[Epoch 25] Train Loss: 0.472395 - Test Loss: 0.472488 - Train Accuracy: 83.41% - Test Accuracy: 83.82%\n"
     ]
    },
    {
     "name": "stderr",
     "output_type": "stream",
     "text": [
      "Epoch 25: 100%|██████████| 500/500 [00:25<00:00, 19.36batch/s]\n",
      "Test 25: 100%|██████████| 100/100 [00:01<00:00, 68.01batch/s]\n"
     ]
    },
    {
     "name": "stdout",
     "output_type": "stream",
     "text": [
      "[Epoch 26] Train Loss: 0.462388 - Test Loss: 0.461820 - Train Accuracy: 83.77% - Test Accuracy: 84.43%\n"
     ]
    },
    {
     "name": "stderr",
     "output_type": "stream",
     "text": [
      "Epoch 26: 100%|██████████| 500/500 [00:25<00:00, 19.61batch/s]\n",
      "Test 26: 100%|██████████| 100/100 [00:01<00:00, 64.56batch/s]"
     ]
    },
    {
     "name": "stdout",
     "output_type": "stream",
     "text": [
      "[Epoch 27] Train Loss: 0.453416 - Test Loss: 0.477426 - Train Accuracy: 84.06% - Test Accuracy: 83.89%\n"
     ]
    },
    {
     "name": "stderr",
     "output_type": "stream",
     "text": [
      "\n",
      "Epoch 27: 100%|██████████| 500/500 [00:25<00:00, 19.44batch/s]\n",
      "Test 27: 100%|██████████| 100/100 [00:01<00:00, 66.80batch/s]"
     ]
    },
    {
     "name": "stdout",
     "output_type": "stream",
     "text": [
      "[Epoch 28] Train Loss: 0.440544 - Test Loss: 0.475406 - Train Accuracy: 84.62% - Test Accuracy: 84.00%\n"
     ]
    },
    {
     "name": "stderr",
     "output_type": "stream",
     "text": [
      "\n",
      "Epoch 28: 100%|██████████| 500/500 [00:25<00:00, 19.52batch/s]\n",
      "Test 28: 100%|██████████| 100/100 [00:01<00:00, 66.47batch/s]\n"
     ]
    },
    {
     "name": "stdout",
     "output_type": "stream",
     "text": [
      "[Epoch 29] Train Loss: 0.428327 - Test Loss: 0.511695 - Train Accuracy: 85.03% - Test Accuracy: 83.55%\n"
     ]
    },
    {
     "name": "stderr",
     "output_type": "stream",
     "text": [
      "Epoch 29: 100%|██████████| 500/500 [00:25<00:00, 19.62batch/s]\n",
      "Test 29: 100%|██████████| 100/100 [00:01<00:00, 67.99batch/s]\n"
     ]
    },
    {
     "name": "stdout",
     "output_type": "stream",
     "text": [
      "[Epoch 30] Train Loss: 0.429331 - Test Loss: 0.435035 - Train Accuracy: 84.91% - Test Accuracy: 85.56%\n"
     ]
    },
    {
     "name": "stderr",
     "output_type": "stream",
     "text": [
      "Epoch 30: 100%|██████████| 500/500 [00:25<00:00, 19.66batch/s]\n",
      "Test 30: 100%|██████████| 100/100 [00:01<00:00, 65.10batch/s]"
     ]
    },
    {
     "name": "stdout",
     "output_type": "stream",
     "text": [
      "[Epoch 31] Train Loss: 0.416209 - Test Loss: 0.477518 - Train Accuracy: 85.30% - Test Accuracy: 83.85%\n"
     ]
    },
    {
     "name": "stderr",
     "output_type": "stream",
     "text": [
      "\n",
      "Epoch 31: 100%|██████████| 500/500 [00:25<00:00, 19.87batch/s]\n",
      "Test 31: 100%|██████████| 100/100 [00:01<00:00, 68.87batch/s]"
     ]
    },
    {
     "name": "stdout",
     "output_type": "stream",
     "text": [
      "[Epoch 32] Train Loss: 0.406789 - Test Loss: 0.447478 - Train Accuracy: 85.71% - Test Accuracy: 85.28%\n"
     ]
    },
    {
     "name": "stderr",
     "output_type": "stream",
     "text": [
      "\n",
      "Epoch 32: 100%|██████████| 500/500 [00:25<00:00, 19.62batch/s]\n",
      "Test 32: 100%|██████████| 100/100 [00:01<00:00, 68.17batch/s]"
     ]
    },
    {
     "name": "stdout",
     "output_type": "stream",
     "text": [
      "[Epoch 33] Train Loss: 0.405350 - Test Loss: 0.474075 - Train Accuracy: 85.73% - Test Accuracy: 84.99%\n"
     ]
    },
    {
     "name": "stderr",
     "output_type": "stream",
     "text": [
      "\n",
      "Epoch 33: 100%|██████████| 500/500 [00:25<00:00, 19.76batch/s]\n",
      "Test 33: 100%|██████████| 100/100 [00:01<00:00, 66.83batch/s]"
     ]
    },
    {
     "name": "stdout",
     "output_type": "stream",
     "text": [
      "[Epoch 34] Train Loss: 0.395762 - Test Loss: 0.466973 - Train Accuracy: 86.14% - Test Accuracy: 84.91%\n"
     ]
    },
    {
     "name": "stderr",
     "output_type": "stream",
     "text": [
      "\n",
      "Epoch 34: 100%|██████████| 500/500 [00:25<00:00, 19.52batch/s]\n",
      "Test 34: 100%|██████████| 100/100 [00:01<00:00, 61.26batch/s]"
     ]
    },
    {
     "name": "stdout",
     "output_type": "stream",
     "text": [
      "[Epoch 35] Train Loss: 0.387387 - Test Loss: 0.508513 - Train Accuracy: 86.37% - Test Accuracy: 83.99%\n"
     ]
    },
    {
     "name": "stderr",
     "output_type": "stream",
     "text": [
      "\n",
      "Epoch 35: 100%|██████████| 500/500 [00:25<00:00, 19.77batch/s]\n",
      "Test 35: 100%|██████████| 100/100 [00:01<00:00, 68.83batch/s]"
     ]
    },
    {
     "name": "stdout",
     "output_type": "stream",
     "text": [
      "[Epoch 36] Train Loss: 0.376827 - Test Loss: 0.522765 - Train Accuracy: 86.82% - Test Accuracy: 83.40%\n"
     ]
    },
    {
     "name": "stderr",
     "output_type": "stream",
     "text": [
      "\n",
      "Epoch 36: 100%|██████████| 500/500 [00:25<00:00, 19.58batch/s]\n",
      "Test 36: 100%|██████████| 100/100 [00:01<00:00, 67.10batch/s]"
     ]
    },
    {
     "name": "stdout",
     "output_type": "stream",
     "text": [
      "[Epoch 37] Train Loss: 0.373968 - Test Loss: 0.488845 - Train Accuracy: 86.85% - Test Accuracy: 84.36%\n"
     ]
    },
    {
     "name": "stderr",
     "output_type": "stream",
     "text": [
      "\n",
      "Epoch 37: 100%|██████████| 500/500 [00:25<00:00, 19.98batch/s]\n",
      "Test 37: 100%|██████████| 100/100 [00:01<00:00, 68.53batch/s]"
     ]
    },
    {
     "name": "stdout",
     "output_type": "stream",
     "text": [
      "[Epoch 38] Train Loss: 0.371362 - Test Loss: 0.472743 - Train Accuracy: 86.91% - Test Accuracy: 84.96%\n"
     ]
    },
    {
     "name": "stderr",
     "output_type": "stream",
     "text": [
      "\n",
      "Epoch 38: 100%|██████████| 500/500 [00:25<00:00, 19.90batch/s]\n",
      "Test 38: 100%|██████████| 100/100 [00:01<00:00, 67.74batch/s]"
     ]
    },
    {
     "name": "stdout",
     "output_type": "stream",
     "text": [
      "[Epoch 39] Train Loss: 0.358967 - Test Loss: 0.475180 - Train Accuracy: 87.11% - Test Accuracy: 84.73%\n"
     ]
    },
    {
     "name": "stderr",
     "output_type": "stream",
     "text": [
      "\n",
      "Epoch 39: 100%|██████████| 500/500 [00:25<00:00, 19.56batch/s]\n",
      "Test 39: 100%|██████████| 100/100 [00:01<00:00, 68.56batch/s]\n"
     ]
    },
    {
     "name": "stdout",
     "output_type": "stream",
     "text": [
      "[Epoch 40] Train Loss: 0.355103 - Test Loss: 0.437839 - Train Accuracy: 87.33% - Test Accuracy: 85.72%\n"
     ]
    },
    {
     "name": "stderr",
     "output_type": "stream",
     "text": [
      "Epoch 40: 100%|██████████| 500/500 [00:25<00:00, 19.65batch/s]\n",
      "Test 40: 100%|██████████| 100/100 [00:01<00:00, 56.00batch/s]"
     ]
    },
    {
     "name": "stdout",
     "output_type": "stream",
     "text": [
      "[Epoch 41] Train Loss: 0.351667 - Test Loss: 0.517855 - Train Accuracy: 87.64% - Test Accuracy: 84.39%\n"
     ]
    },
    {
     "name": "stderr",
     "output_type": "stream",
     "text": [
      "\n",
      "Epoch 41: 100%|██████████| 500/500 [00:24<00:00, 20.04batch/s]\n",
      "Test 41: 100%|██████████| 100/100 [00:01<00:00, 69.45batch/s]"
     ]
    },
    {
     "name": "stdout",
     "output_type": "stream",
     "text": [
      "[Epoch 42] Train Loss: 0.286638 - Test Loss: 0.375712 - Train Accuracy: 89.90% - Test Accuracy: 88.25%\n"
     ]
    },
    {
     "name": "stderr",
     "output_type": "stream",
     "text": [
      "\n",
      "Epoch 42: 100%|██████████| 500/500 [00:25<00:00, 19.46batch/s]\n",
      "Test 42: 100%|██████████| 100/100 [00:01<00:00, 68.58batch/s]\n"
     ]
    },
    {
     "name": "stdout",
     "output_type": "stream",
     "text": [
      "[Epoch 43] Train Loss: 0.266589 - Test Loss: 0.372029 - Train Accuracy: 90.68% - Test Accuracy: 88.39%\n"
     ]
    },
    {
     "name": "stderr",
     "output_type": "stream",
     "text": [
      "Epoch 43: 100%|██████████| 500/500 [00:25<00:00, 19.70batch/s]\n",
      "Test 43: 100%|██████████| 100/100 [00:01<00:00, 66.33batch/s]"
     ]
    },
    {
     "name": "stdout",
     "output_type": "stream",
     "text": [
      "[Epoch 44] Train Loss: 0.264469 - Test Loss: 0.381529 - Train Accuracy: 90.63% - Test Accuracy: 88.32%\n"
     ]
    },
    {
     "name": "stderr",
     "output_type": "stream",
     "text": [
      "\n",
      "Epoch 44: 100%|██████████| 500/500 [00:25<00:00, 19.96batch/s]\n",
      "Test 44: 100%|██████████| 100/100 [00:01<00:00, 68.97batch/s]"
     ]
    },
    {
     "name": "stdout",
     "output_type": "stream",
     "text": [
      "[Epoch 45] Train Loss: 0.254584 - Test Loss: 0.377054 - Train Accuracy: 90.86% - Test Accuracy: 88.35%\n"
     ]
    },
    {
     "name": "stderr",
     "output_type": "stream",
     "text": [
      "\n",
      "Epoch 45: 100%|██████████| 500/500 [00:25<00:00, 19.70batch/s]\n",
      "Test 45: 100%|██████████| 100/100 [00:01<00:00, 70.23batch/s]\n"
     ]
    },
    {
     "name": "stdout",
     "output_type": "stream",
     "text": [
      "[Epoch 46] Train Loss: 0.254677 - Test Loss: 0.372391 - Train Accuracy: 91.02% - Test Accuracy: 88.57%\n"
     ]
    },
    {
     "name": "stderr",
     "output_type": "stream",
     "text": [
      "Epoch 46: 100%|██████████| 500/500 [00:25<00:00, 19.43batch/s]\n",
      "Test 46: 100%|██████████| 100/100 [00:01<00:00, 68.12batch/s]"
     ]
    },
    {
     "name": "stdout",
     "output_type": "stream",
     "text": [
      "[Epoch 47] Train Loss: 0.242933 - Test Loss: 0.374812 - Train Accuracy: 91.32% - Test Accuracy: 88.35%\n"
     ]
    },
    {
     "name": "stderr",
     "output_type": "stream",
     "text": [
      "\n",
      "Epoch 47: 100%|██████████| 500/500 [00:25<00:00, 19.93batch/s]\n",
      "Test 47: 100%|██████████| 100/100 [00:01<00:00, 69.39batch/s]"
     ]
    },
    {
     "name": "stdout",
     "output_type": "stream",
     "text": [
      "[Epoch 48] Train Loss: 0.244839 - Test Loss: 0.373263 - Train Accuracy: 91.35% - Test Accuracy: 88.55%\n"
     ]
    },
    {
     "name": "stderr",
     "output_type": "stream",
     "text": [
      "\n",
      "Epoch 48: 100%|██████████| 500/500 [00:25<00:00, 19.71batch/s]\n",
      "Test 48: 100%|██████████| 100/100 [00:01<00:00, 68.33batch/s]"
     ]
    },
    {
     "name": "stdout",
     "output_type": "stream",
     "text": [
      "[Epoch 49] Train Loss: 0.236003 - Test Loss: 0.379288 - Train Accuracy: 91.63% - Test Accuracy: 88.44%\n"
     ]
    },
    {
     "name": "stderr",
     "output_type": "stream",
     "text": [
      "\n",
      "Epoch 49: 100%|██████████| 500/500 [00:24<00:00, 20.08batch/s]\n",
      "Test 49: 100%|██████████| 100/100 [00:01<00:00, 67.35batch/s]"
     ]
    },
    {
     "name": "stdout",
     "output_type": "stream",
     "text": [
      "[Epoch 50] Train Loss: 0.238264 - Test Loss: 0.388113 - Train Accuracy: 91.61% - Test Accuracy: 88.32%\n"
     ]
    },
    {
     "name": "stderr",
     "output_type": "stream",
     "text": [
      "\n",
      "Epoch 50: 100%|██████████| 500/500 [00:25<00:00, 19.54batch/s]\n",
      "Test 50: 100%|██████████| 100/100 [00:01<00:00, 66.07batch/s]"
     ]
    },
    {
     "name": "stdout",
     "output_type": "stream",
     "text": [
      "[Epoch 51] Train Loss: 0.234802 - Test Loss: 0.379051 - Train Accuracy: 91.61% - Test Accuracy: 88.47%\n"
     ]
    },
    {
     "name": "stderr",
     "output_type": "stream",
     "text": [
      "\n",
      "Epoch 51: 100%|██████████| 500/500 [00:25<00:00, 19.26batch/s]\n",
      "Test 51: 100%|██████████| 100/100 [00:01<00:00, 65.11batch/s]"
     ]
    },
    {
     "name": "stdout",
     "output_type": "stream",
     "text": [
      "[Epoch 52] Train Loss: 0.231725 - Test Loss: 0.379220 - Train Accuracy: 91.97% - Test Accuracy: 88.55%\n"
     ]
    },
    {
     "name": "stderr",
     "output_type": "stream",
     "text": [
      "\n",
      "Epoch 52: 100%|██████████| 500/500 [00:25<00:00, 19.69batch/s]\n",
      "Test 52: 100%|██████████| 100/100 [00:01<00:00, 66.76batch/s]"
     ]
    },
    {
     "name": "stdout",
     "output_type": "stream",
     "text": [
      "[Epoch 53] Train Loss: 0.231901 - Test Loss: 0.378658 - Train Accuracy: 91.70% - Test Accuracy: 88.48%\n"
     ]
    },
    {
     "name": "stderr",
     "output_type": "stream",
     "text": [
      "\n",
      "Epoch 53: 100%|██████████| 500/500 [00:25<00:00, 19.48batch/s]\n",
      "Test 53: 100%|██████████| 100/100 [00:01<00:00, 67.41batch/s]"
     ]
    },
    {
     "name": "stdout",
     "output_type": "stream",
     "text": [
      "[Epoch 54] Train Loss: 0.226412 - Test Loss: 0.378603 - Train Accuracy: 91.84% - Test Accuracy: 88.36%\n"
     ]
    },
    {
     "name": "stderr",
     "output_type": "stream",
     "text": [
      "\n",
      "Epoch 54: 100%|██████████| 500/500 [00:25<00:00, 19.24batch/s]\n",
      "Test 54: 100%|██████████| 100/100 [00:01<00:00, 66.64batch/s]"
     ]
    },
    {
     "name": "stdout",
     "output_type": "stream",
     "text": [
      "[Epoch 55] Train Loss: 0.220269 - Test Loss: 0.374090 - Train Accuracy: 92.13% - Test Accuracy: 88.67%\n"
     ]
    },
    {
     "name": "stderr",
     "output_type": "stream",
     "text": [
      "\n",
      "Epoch 55: 100%|██████████| 500/500 [00:24<00:00, 20.02batch/s]\n",
      "Test 55: 100%|██████████| 100/100 [00:01<00:00, 70.75batch/s]\n"
     ]
    },
    {
     "name": "stdout",
     "output_type": "stream",
     "text": [
      "[Epoch 56] Train Loss: 0.219976 - Test Loss: 0.375468 - Train Accuracy: 92.16% - Test Accuracy: 88.75%\n"
     ]
    },
    {
     "name": "stderr",
     "output_type": "stream",
     "text": [
      "Epoch 56: 100%|██████████| 500/500 [00:24<00:00, 20.43batch/s]\n",
      "Test 56: 100%|██████████| 100/100 [00:01<00:00, 67.68batch/s]"
     ]
    },
    {
     "name": "stdout",
     "output_type": "stream",
     "text": [
      "[Epoch 57] Train Loss: 0.220305 - Test Loss: 0.375374 - Train Accuracy: 92.08% - Test Accuracy: 88.61%\n"
     ]
    },
    {
     "name": "stderr",
     "output_type": "stream",
     "text": [
      "\n",
      "Epoch 57: 100%|██████████| 500/500 [00:24<00:00, 20.38batch/s]\n",
      "Test 57: 100%|██████████| 100/100 [00:01<00:00, 71.04batch/s]"
     ]
    },
    {
     "name": "stdout",
     "output_type": "stream",
     "text": [
      "[Epoch 58] Train Loss: 0.220106 - Test Loss: 0.372966 - Train Accuracy: 92.08% - Test Accuracy: 88.69%\n"
     ]
    },
    {
     "name": "stderr",
     "output_type": "stream",
     "text": [
      "\n",
      "Epoch 58: 100%|██████████| 500/500 [00:24<00:00, 20.77batch/s]\n",
      "Test 58: 100%|██████████| 100/100 [00:01<00:00, 73.73batch/s]"
     ]
    },
    {
     "name": "stdout",
     "output_type": "stream",
     "text": [
      "[Epoch 59] Train Loss: 0.216654 - Test Loss: 0.375154 - Train Accuracy: 92.31% - Test Accuracy: 88.63%\n"
     ]
    },
    {
     "name": "stderr",
     "output_type": "stream",
     "text": [
      "\n",
      "Epoch 59: 100%|██████████| 500/500 [00:23<00:00, 21.05batch/s]\n",
      "Test 59: 100%|██████████| 100/100 [00:01<00:00, 72.23batch/s]"
     ]
    },
    {
     "name": "stdout",
     "output_type": "stream",
     "text": [
      "[Epoch 60] Train Loss: 0.215540 - Test Loss: 0.376074 - Train Accuracy: 92.37% - Test Accuracy: 88.65%\n"
     ]
    },
    {
     "name": "stderr",
     "output_type": "stream",
     "text": [
      "\n",
      "Epoch 60: 100%|██████████| 500/500 [00:23<00:00, 21.18batch/s]\n",
      "Test 60: 100%|██████████| 100/100 [00:01<00:00, 73.12batch/s]\n"
     ]
    },
    {
     "name": "stdout",
     "output_type": "stream",
     "text": [
      "[Epoch 61] Train Loss: 0.219496 - Test Loss: 0.375411 - Train Accuracy: 92.09% - Test Accuracy: 88.86%\n"
     ]
    },
    {
     "name": "stderr",
     "output_type": "stream",
     "text": [
      "Epoch 61: 100%|██████████| 500/500 [00:23<00:00, 20.94batch/s]\n",
      "Test 61: 100%|██████████| 100/100 [00:01<00:00, 73.92batch/s]"
     ]
    },
    {
     "name": "stdout",
     "output_type": "stream",
     "text": [
      "[Epoch 62] Train Loss: 0.217329 - Test Loss: 0.378238 - Train Accuracy: 92.37% - Test Accuracy: 88.68%\n"
     ]
    },
    {
     "name": "stderr",
     "output_type": "stream",
     "text": [
      "\n",
      "Epoch 62: 100%|██████████| 500/500 [00:23<00:00, 21.32batch/s]\n",
      "Test 62: 100%|██████████| 100/100 [00:01<00:00, 73.87batch/s]"
     ]
    },
    {
     "name": "stdout",
     "output_type": "stream",
     "text": [
      "[Epoch 63] Train Loss: 0.217102 - Test Loss: 0.379163 - Train Accuracy: 92.30% - Test Accuracy: 88.66%\n"
     ]
    },
    {
     "name": "stderr",
     "output_type": "stream",
     "text": [
      "\n",
      "Epoch 63: 100%|██████████| 500/500 [00:23<00:00, 21.36batch/s]\n",
      "Test 63: 100%|██████████| 100/100 [00:01<00:00, 65.81batch/s]"
     ]
    },
    {
     "name": "stdout",
     "output_type": "stream",
     "text": [
      "[Epoch 64] Train Loss: 0.213622 - Test Loss: 0.378165 - Train Accuracy: 92.45% - Test Accuracy: 88.67%\n"
     ]
    },
    {
     "name": "stderr",
     "output_type": "stream",
     "text": [
      "\n",
      "Epoch 64: 100%|██████████| 500/500 [00:23<00:00, 21.29batch/s]\n",
      "Test 64: 100%|██████████| 100/100 [00:01<00:00, 73.74batch/s]\n"
     ]
    },
    {
     "name": "stdout",
     "output_type": "stream",
     "text": [
      "[Epoch 65] Train Loss: 0.217560 - Test Loss: 0.378342 - Train Accuracy: 92.29% - Test Accuracy: 88.81%\n"
     ]
    },
    {
     "name": "stderr",
     "output_type": "stream",
     "text": [
      "Epoch 65: 100%|██████████| 500/500 [00:23<00:00, 21.59batch/s]\n",
      "Test 65: 100%|██████████| 100/100 [00:01<00:00, 73.82batch/s]"
     ]
    },
    {
     "name": "stdout",
     "output_type": "stream",
     "text": [
      "[Epoch 66] Train Loss: 0.213263 - Test Loss: 0.376410 - Train Accuracy: 92.41% - Test Accuracy: 88.72%\n"
     ]
    },
    {
     "name": "stderr",
     "output_type": "stream",
     "text": [
      "\n",
      "Epoch 66: 100%|██████████| 500/500 [00:23<00:00, 21.29batch/s]\n",
      "Test 66: 100%|██████████| 100/100 [00:01<00:00, 72.36batch/s]"
     ]
    },
    {
     "name": "stdout",
     "output_type": "stream",
     "text": [
      "[Epoch 67] Train Loss: 0.212832 - Test Loss: 0.377401 - Train Accuracy: 92.48% - Test Accuracy: 88.78%\n"
     ]
    },
    {
     "name": "stderr",
     "output_type": "stream",
     "text": [
      "\n",
      "Epoch 67: 100%|██████████| 500/500 [00:23<00:00, 20.85batch/s]\n",
      "Test 67: 100%|██████████| 100/100 [00:01<00:00, 73.89batch/s]"
     ]
    },
    {
     "name": "stdout",
     "output_type": "stream",
     "text": [
      "[Epoch 68] Train Loss: 0.214656 - Test Loss: 0.378319 - Train Accuracy: 92.40% - Test Accuracy: 88.66%\n"
     ]
    },
    {
     "name": "stderr",
     "output_type": "stream",
     "text": [
      "\n",
      "Epoch 68: 100%|██████████| 500/500 [00:24<00:00, 20.44batch/s]\n",
      "Test 68: 100%|██████████| 100/100 [00:01<00:00, 69.72batch/s]"
     ]
    },
    {
     "name": "stdout",
     "output_type": "stream",
     "text": [
      "[Epoch 69] Train Loss: 0.215821 - Test Loss: 0.379647 - Train Accuracy: 92.38% - Test Accuracy: 88.70%\n"
     ]
    },
    {
     "name": "stderr",
     "output_type": "stream",
     "text": [
      "\n",
      "Epoch 69: 100%|██████████| 500/500 [00:25<00:00, 19.97batch/s]\n",
      "Test 69: 100%|██████████| 100/100 [00:01<00:00, 68.97batch/s]"
     ]
    },
    {
     "name": "stdout",
     "output_type": "stream",
     "text": [
      "[Epoch 70] Train Loss: 0.216360 - Test Loss: 0.377409 - Train Accuracy: 92.41% - Test Accuracy: 88.73%\n"
     ]
    },
    {
     "name": "stderr",
     "output_type": "stream",
     "text": [
      "\n",
      "Epoch 70: 100%|██████████| 500/500 [00:25<00:00, 19.29batch/s]\n",
      "Test 70: 100%|██████████| 100/100 [00:01<00:00, 70.57batch/s]"
     ]
    },
    {
     "name": "stdout",
     "output_type": "stream",
     "text": [
      "[Epoch 71] Train Loss: 0.213370 - Test Loss: 0.377331 - Train Accuracy: 92.40% - Test Accuracy: 88.73%\n"
     ]
    },
    {
     "name": "stderr",
     "output_type": "stream",
     "text": [
      "\n",
      "Epoch 71: 100%|██████████| 500/500 [00:25<00:00, 19.88batch/s]\n",
      "Test 71: 100%|██████████| 100/100 [00:01<00:00, 68.91batch/s]"
     ]
    },
    {
     "name": "stdout",
     "output_type": "stream",
     "text": [
      "[Epoch 72] Train Loss: 0.213269 - Test Loss: 0.379453 - Train Accuracy: 92.49% - Test Accuracy: 88.61%\n"
     ]
    },
    {
     "name": "stderr",
     "output_type": "stream",
     "text": [
      "\n",
      "Epoch 72: 100%|██████████| 500/500 [00:24<00:00, 20.15batch/s]\n",
      "Test 72: 100%|██████████| 100/100 [00:01<00:00, 71.36batch/s]"
     ]
    },
    {
     "name": "stdout",
     "output_type": "stream",
     "text": [
      "[Epoch 73] Train Loss: 0.212979 - Test Loss: 0.377519 - Train Accuracy: 92.42% - Test Accuracy: 88.71%\n"
     ]
    },
    {
     "name": "stderr",
     "output_type": "stream",
     "text": [
      "\n",
      "Epoch 73: 100%|██████████| 500/500 [00:26<00:00, 19.23batch/s]\n",
      "Test 73: 100%|██████████| 100/100 [00:01<00:00, 67.71batch/s]"
     ]
    },
    {
     "name": "stdout",
     "output_type": "stream",
     "text": [
      "[Epoch 74] Train Loss: 0.214690 - Test Loss: 0.376186 - Train Accuracy: 92.43% - Test Accuracy: 88.71%\n"
     ]
    },
    {
     "name": "stderr",
     "output_type": "stream",
     "text": [
      "\n",
      "Epoch 74: 100%|██████████| 500/500 [00:24<00:00, 20.06batch/s]\n",
      "Test 74: 100%|██████████| 100/100 [00:01<00:00, 66.49batch/s]"
     ]
    },
    {
     "name": "stdout",
     "output_type": "stream",
     "text": [
      "[Epoch 75] Train Loss: 0.215829 - Test Loss: 0.377477 - Train Accuracy: 92.24% - Test Accuracy: 88.67%\n"
     ]
    },
    {
     "name": "stderr",
     "output_type": "stream",
     "text": [
      "\n",
      "Epoch 75: 100%|██████████| 500/500 [00:25<00:00, 19.98batch/s]\n",
      "Test 75: 100%|██████████| 100/100 [00:01<00:00, 70.71batch/s]"
     ]
    },
    {
     "name": "stdout",
     "output_type": "stream",
     "text": [
      "[Epoch 76] Train Loss: 0.215098 - Test Loss: 0.378331 - Train Accuracy: 92.29% - Test Accuracy: 88.59%\n"
     ]
    },
    {
     "name": "stderr",
     "output_type": "stream",
     "text": [
      "\n",
      "Epoch 76: 100%|██████████| 500/500 [00:25<00:00, 19.97batch/s]\n",
      "Test 76: 100%|██████████| 100/100 [00:01<00:00, 64.50batch/s]"
     ]
    },
    {
     "name": "stdout",
     "output_type": "stream",
     "text": [
      "[Epoch 77] Train Loss: 0.216061 - Test Loss: 0.375768 - Train Accuracy: 92.34% - Test Accuracy: 88.67%\n"
     ]
    },
    {
     "name": "stderr",
     "output_type": "stream",
     "text": [
      "\n",
      "Epoch 77: 100%|██████████| 500/500 [00:25<00:00, 19.44batch/s]\n",
      "Test 77: 100%|██████████| 100/100 [00:01<00:00, 69.24batch/s]"
     ]
    },
    {
     "name": "stdout",
     "output_type": "stream",
     "text": [
      "[Epoch 78] Train Loss: 0.212907 - Test Loss: 0.379084 - Train Accuracy: 92.52% - Test Accuracy: 88.65%\n"
     ]
    },
    {
     "name": "stderr",
     "output_type": "stream",
     "text": [
      "\n",
      "Epoch 78: 100%|██████████| 500/500 [00:25<00:00, 19.88batch/s]\n",
      "Test 78: 100%|██████████| 100/100 [00:01<00:00, 69.97batch/s]"
     ]
    },
    {
     "name": "stdout",
     "output_type": "stream",
     "text": [
      "[Epoch 79] Train Loss: 0.210152 - Test Loss: 0.379807 - Train Accuracy: 92.66% - Test Accuracy: 88.54%\n"
     ]
    },
    {
     "name": "stderr",
     "output_type": "stream",
     "text": [
      "\n",
      "Epoch 79: 100%|██████████| 500/500 [00:25<00:00, 19.49batch/s]\n",
      "Test 79: 100%|██████████| 100/100 [00:01<00:00, 65.33batch/s]"
     ]
    },
    {
     "name": "stdout",
     "output_type": "stream",
     "text": [
      "[Epoch 80] Train Loss: 0.212811 - Test Loss: 0.379316 - Train Accuracy: 92.34% - Test Accuracy: 88.68%\n"
     ]
    },
    {
     "name": "stderr",
     "output_type": "stream",
     "text": [
      "\n",
      "Epoch 80: 100%|██████████| 500/500 [00:25<00:00, 19.77batch/s]\n",
      "Test 80: 100%|██████████| 100/100 [00:01<00:00, 62.64batch/s]"
     ]
    },
    {
     "name": "stdout",
     "output_type": "stream",
     "text": [
      "[Epoch 81] Train Loss: 0.211473 - Test Loss: 0.378330 - Train Accuracy: 92.50% - Test Accuracy: 88.68%\n"
     ]
    },
    {
     "name": "stderr",
     "output_type": "stream",
     "text": [
      "\n",
      "Epoch 81: 100%|██████████| 500/500 [00:25<00:00, 19.52batch/s]\n",
      "Test 81: 100%|██████████| 100/100 [00:01<00:00, 68.41batch/s]"
     ]
    },
    {
     "name": "stdout",
     "output_type": "stream",
     "text": [
      "[Epoch 82] Train Loss: 0.215082 - Test Loss: 0.377249 - Train Accuracy: 92.24% - Test Accuracy: 88.64%\n"
     ]
    },
    {
     "name": "stderr",
     "output_type": "stream",
     "text": [
      "\n",
      "Epoch 82: 100%|██████████| 500/500 [00:25<00:00, 19.28batch/s]\n",
      "Test 82: 100%|██████████| 100/100 [00:01<00:00, 67.83batch/s]"
     ]
    },
    {
     "name": "stdout",
     "output_type": "stream",
     "text": [
      "[Epoch 83] Train Loss: 0.216406 - Test Loss: 0.378653 - Train Accuracy: 92.31% - Test Accuracy: 88.72%\n"
     ]
    },
    {
     "name": "stderr",
     "output_type": "stream",
     "text": [
      "\n",
      "Epoch 83: 100%|██████████| 500/500 [00:25<00:00, 19.85batch/s]\n",
      "Test 83: 100%|██████████| 100/100 [00:01<00:00, 70.50batch/s]"
     ]
    },
    {
     "name": "stdout",
     "output_type": "stream",
     "text": [
      "[Epoch 84] Train Loss: 0.214844 - Test Loss: 0.378397 - Train Accuracy: 92.33% - Test Accuracy: 88.70%\n"
     ]
    },
    {
     "name": "stderr",
     "output_type": "stream",
     "text": [
      "\n",
      "Epoch 84: 100%|██████████| 500/500 [00:24<00:00, 20.44batch/s]\n",
      "Test 84: 100%|██████████| 100/100 [00:01<00:00, 72.25batch/s]"
     ]
    },
    {
     "name": "stdout",
     "output_type": "stream",
     "text": [
      "[Epoch 85] Train Loss: 0.211319 - Test Loss: 0.378268 - Train Accuracy: 92.60% - Test Accuracy: 88.67%\n"
     ]
    },
    {
     "name": "stderr",
     "output_type": "stream",
     "text": [
      "\n",
      "Epoch 85: 100%|██████████| 500/500 [00:24<00:00, 20.47batch/s]\n",
      "Test 85: 100%|██████████| 100/100 [00:01<00:00, 67.78batch/s]"
     ]
    },
    {
     "name": "stdout",
     "output_type": "stream",
     "text": [
      "[Epoch 86] Train Loss: 0.213071 - Test Loss: 0.378544 - Train Accuracy: 92.29% - Test Accuracy: 88.61%\n"
     ]
    },
    {
     "name": "stderr",
     "output_type": "stream",
     "text": [
      "\n",
      "Epoch 86: 100%|██████████| 500/500 [00:25<00:00, 19.59batch/s]\n",
      "Test 86: 100%|██████████| 100/100 [00:01<00:00, 65.23batch/s]"
     ]
    },
    {
     "name": "stdout",
     "output_type": "stream",
     "text": [
      "[Epoch 87] Train Loss: 0.210348 - Test Loss: 0.377271 - Train Accuracy: 92.58% - Test Accuracy: 88.67%\n"
     ]
    },
    {
     "name": "stderr",
     "output_type": "stream",
     "text": [
      "\n",
      "Epoch 87: 100%|██████████| 500/500 [00:25<00:00, 19.56batch/s]\n",
      "Test 87: 100%|██████████| 100/100 [00:01<00:00, 68.01batch/s]"
     ]
    },
    {
     "name": "stdout",
     "output_type": "stream",
     "text": [
      "[Epoch 88] Train Loss: 0.212650 - Test Loss: 0.377484 - Train Accuracy: 92.46% - Test Accuracy: 88.67%\n"
     ]
    },
    {
     "name": "stderr",
     "output_type": "stream",
     "text": [
      "\n",
      "Epoch 88: 100%|██████████| 500/500 [00:25<00:00, 19.57batch/s]\n",
      "Test 88: 100%|██████████| 100/100 [00:01<00:00, 68.05batch/s]"
     ]
    },
    {
     "name": "stdout",
     "output_type": "stream",
     "text": [
      "[Epoch 89] Train Loss: 0.213798 - Test Loss: 0.379468 - Train Accuracy: 92.46% - Test Accuracy: 88.68%\n"
     ]
    },
    {
     "name": "stderr",
     "output_type": "stream",
     "text": [
      "\n",
      "Epoch 89: 100%|██████████| 500/500 [00:25<00:00, 19.66batch/s]\n",
      "Test 89: 100%|██████████| 100/100 [00:01<00:00, 65.40batch/s]"
     ]
    },
    {
     "name": "stdout",
     "output_type": "stream",
     "text": [
      "[Epoch 90] Train Loss: 0.218811 - Test Loss: 0.380013 - Train Accuracy: 92.27% - Test Accuracy: 88.65%\n"
     ]
    },
    {
     "name": "stderr",
     "output_type": "stream",
     "text": [
      "\n",
      "Epoch 90: 100%|██████████| 500/500 [00:25<00:00, 19.45batch/s]\n",
      "Test 90: 100%|██████████| 100/100 [00:01<00:00, 67.86batch/s]"
     ]
    },
    {
     "name": "stdout",
     "output_type": "stream",
     "text": [
      "[Epoch 91] Train Loss: 0.212229 - Test Loss: 0.378110 - Train Accuracy: 92.30% - Test Accuracy: 88.71%\n"
     ]
    },
    {
     "name": "stderr",
     "output_type": "stream",
     "text": [
      "\n",
      "Epoch 91: 100%|██████████| 500/500 [00:25<00:00, 19.58batch/s]\n",
      "Test 91: 100%|██████████| 100/100 [00:01<00:00, 66.07batch/s]"
     ]
    },
    {
     "name": "stdout",
     "output_type": "stream",
     "text": [
      "[Epoch 92] Train Loss: 0.213479 - Test Loss: 0.377158 - Train Accuracy: 92.44% - Test Accuracy: 88.71%\n"
     ]
    },
    {
     "name": "stderr",
     "output_type": "stream",
     "text": [
      "\n",
      "Epoch 92: 100%|██████████| 500/500 [00:24<00:00, 20.50batch/s]\n",
      "Test 92: 100%|██████████| 100/100 [00:01<00:00, 59.06batch/s]"
     ]
    },
    {
     "name": "stdout",
     "output_type": "stream",
     "text": [
      "[Epoch 93] Train Loss: 0.211900 - Test Loss: 0.376642 - Train Accuracy: 92.57% - Test Accuracy: 88.70%\n"
     ]
    },
    {
     "name": "stderr",
     "output_type": "stream",
     "text": [
      "\n",
      "Epoch 93: 100%|██████████| 500/500 [00:23<00:00, 20.85batch/s]\n",
      "Test 93: 100%|██████████| 100/100 [00:01<00:00, 71.94batch/s]"
     ]
    },
    {
     "name": "stdout",
     "output_type": "stream",
     "text": [
      "[Epoch 94] Train Loss: 0.214835 - Test Loss: 0.377838 - Train Accuracy: 92.48% - Test Accuracy: 88.58%\n"
     ]
    },
    {
     "name": "stderr",
     "output_type": "stream",
     "text": [
      "\n",
      "Epoch 94: 100%|██████████| 500/500 [00:24<00:00, 20.33batch/s]\n",
      "Test 94: 100%|██████████| 100/100 [00:01<00:00, 70.75batch/s]"
     ]
    },
    {
     "name": "stdout",
     "output_type": "stream",
     "text": [
      "[Epoch 95] Train Loss: 0.215100 - Test Loss: 0.377050 - Train Accuracy: 92.34% - Test Accuracy: 88.68%\n"
     ]
    },
    {
     "name": "stderr",
     "output_type": "stream",
     "text": [
      "\n",
      "Epoch 95: 100%|██████████| 500/500 [00:23<00:00, 20.86batch/s]\n",
      "Test 95: 100%|██████████| 100/100 [00:01<00:00, 72.61batch/s]"
     ]
    },
    {
     "name": "stdout",
     "output_type": "stream",
     "text": [
      "[Epoch 96] Train Loss: 0.210150 - Test Loss: 0.378526 - Train Accuracy: 92.59% - Test Accuracy: 88.65%\n"
     ]
    },
    {
     "name": "stderr",
     "output_type": "stream",
     "text": [
      "\n",
      "Epoch 96: 100%|██████████| 500/500 [00:24<00:00, 20.43batch/s]\n",
      "Test 96: 100%|██████████| 100/100 [00:01<00:00, 69.93batch/s]"
     ]
    },
    {
     "name": "stdout",
     "output_type": "stream",
     "text": [
      "[Epoch 97] Train Loss: 0.208915 - Test Loss: 0.378072 - Train Accuracy: 92.53% - Test Accuracy: 88.67%\n"
     ]
    },
    {
     "name": "stderr",
     "output_type": "stream",
     "text": [
      "\n",
      "Epoch 97: 100%|██████████| 500/500 [00:23<00:00, 21.02batch/s]\n",
      "Test 97: 100%|██████████| 100/100 [00:01<00:00, 58.18batch/s]"
     ]
    },
    {
     "name": "stdout",
     "output_type": "stream",
     "text": [
      "[Epoch 98] Train Loss: 0.212974 - Test Loss: 0.376243 - Train Accuracy: 92.33% - Test Accuracy: 88.71%\n"
     ]
    },
    {
     "name": "stderr",
     "output_type": "stream",
     "text": [
      "\n",
      "Epoch 98: 100%|██████████| 500/500 [00:23<00:00, 21.09batch/s]\n",
      "Test 98: 100%|██████████| 100/100 [00:01<00:00, 71.97batch/s]"
     ]
    },
    {
     "name": "stdout",
     "output_type": "stream",
     "text": [
      "[Epoch 99] Train Loss: 0.215900 - Test Loss: 0.377833 - Train Accuracy: 92.31% - Test Accuracy: 88.70%\n"
     ]
    },
    {
     "name": "stderr",
     "output_type": "stream",
     "text": [
      "\n",
      "Epoch 99: 100%|██████████| 500/500 [00:24<00:00, 20.82batch/s]\n",
      "Test 99: 100%|██████████| 100/100 [00:01<00:00, 68.87batch/s]"
     ]
    },
    {
     "name": "stdout",
     "output_type": "stream",
     "text": [
      "[Epoch 100] Train Loss: 0.213301 - Test Loss: 0.377351 - Train Accuracy: 92.50% - Test Accuracy: 88.71%\n",
      "\n",
      "BEST TEST ACCURACY:  88.86  in epoch  60\n"
     ]
    },
    {
     "name": "stderr",
     "output_type": "stream",
     "text": [
      "\n"
     ]
    }
   ],
   "source": [
    "net.to(device)\n",
    "\n",
    "print(\"\\n---- Start Training ----\")\n",
    "best_accuracy = -1\n",
    "best_epoch = 0\n",
    "for epoch in range(epochs):\n",
    "\n",
    "    train_loss, train_correct = 0, 0\n",
    "    net.train()\n",
    "    with tqdm(iter(train_dataloader), desc=\"Epoch \" + str(epoch), unit=\"batch\") as tepoch:\n",
    "        for batch in tepoch:\n",
    "            \n",
    "            images = batch[\"img\"].to(device)\n",
    "            labels = batch[\"label\"].to(device)\n",
    "\n",
    "            optimizer.zero_grad()\n",
    "\n",
    "            outputs = net(images)\n",
    "            loss = criterion(outputs, labels)\n",
    "\n",
    "            loss.backward()\n",
    "\n",
    "            optimizer.step()\n",
    "\n",
    "            labels = torch.argmax(labels, dim=1)\n",
    "            pred = torch.argmax(outputs, dim=1)\n",
    "            train_correct += pred.eq(labels).sum().item()\n",
    "\n",
    "            train_loss += loss.item()\n",
    "\n",
    "    train_loss /= (len(train_dataloader.dataset) / batch_size)\n",
    "\n",
    "    test_loss, test_correct = 0, 0\n",
    "    net.eval()\n",
    "    with torch.no_grad():\n",
    "      with tqdm(iter(test_dataloader), desc=\"Test \" + str(epoch), unit=\"batch\") as tepoch:\n",
    "          for batch in tepoch:\n",
    "\n",
    "            images = batch[\"img\"].to(device)\n",
    "            labels = batch[\"label\"].to(device)\n",
    "\n",
    "            outputs = net(images)\n",
    "            test_loss += criterion(outputs, labels)\n",
    "\n",
    "            labels = torch.argmax(labels, dim=1)\n",
    "            pred = torch.argmax(outputs, dim=1)\n",
    "\n",
    "            test_correct += pred.eq(labels).sum().item()\n",
    "\n",
    "    lr_scheduler.step(test_loss)\n",
    "\n",
    "    test_loss /= (len(test_dataloader.dataset) / batch_size)\n",
    "    test_accuracy = 100. * test_correct / len(test_dataloader.dataset)\n",
    "\n",
    "    print(\"[Epoch {}] Train Loss: {:.6f} - Test Loss: {:.6f} - Train Accuracy: {:.2f}% - Test Accuracy: {:.2f}%\".format(\n",
    "        epoch + 1, train_loss, test_loss, 100. * train_correct / len(train_dataloader.dataset), test_accuracy\n",
    "    ))\n",
    "\n",
    "    if test_accuracy > best_accuracy:\n",
    "        best_accuracy = test_accuracy\n",
    "        best_epoch = epoch\n",
    "\n",
    "        torch.save(net.state_dict(), \"best_model_cifar_resnet.pt\")\n",
    "\n",
    "print(\"\\nBEST TEST ACCURACY: \", best_accuracy, \" in epoch \", best_epoch)"
   ]
  },
  {
   "cell_type": "markdown",
   "metadata": {},
   "source": [
    "### **Mejor Modelo**"
   ]
  },
  {
   "cell_type": "code",
   "execution_count": 16,
   "metadata": {
    "execution": {
     "iopub.execute_input": "2025-01-17T22:33:46.538083Z",
     "iopub.status.busy": "2025-01-17T22:33:46.537670Z",
     "iopub.status.idle": "2025-01-17T22:33:48.080788Z",
     "shell.execute_reply": "2025-01-17T22:33:48.079805Z",
     "shell.execute_reply.started": "2025-01-17T22:33:46.538048Z"
    },
    "trusted": true
   },
   "outputs": [
    {
     "name": "stderr",
     "output_type": "stream",
     "text": [
      "<ipython-input-16-302b46d89734>:1: FutureWarning: You are using `torch.load` with `weights_only=False` (the current default value), which uses the default pickle module implicitly. It is possible to construct malicious pickle data which will execute arbitrary code during unpickling (See https://github.com/pytorch/pytorch/blob/main/SECURITY.md#untrusted-models for more details). In a future release, the default value for `weights_only` will be flipped to `True`. This limits the functions that could be executed during unpickling. Arbitrary objects will no longer be allowed to be loaded via this mode unless they are explicitly allowlisted by the user via `torch.serialization.add_safe_globals`. We recommend you start setting `weights_only=True` for any use case where you don't have full control of the loaded file. Please open an issue on GitHub for any issues related to this experimental feature.\n",
      "  net.load_state_dict(torch.load(\"best_model_cifar_resnet.pt\"))\n",
      "Test 99: 100%|██████████| 100/100 [00:01<00:00, 70.20batch/s]"
     ]
    },
    {
     "name": "stdout",
     "output_type": "stream",
     "text": [
      "Final best acc:  88.86\n"
     ]
    },
    {
     "name": "stderr",
     "output_type": "stream",
     "text": [
      "\n"
     ]
    }
   ],
   "source": [
    "net.load_state_dict(torch.load(\"best_model_cifar_resnet.pt\"))\n",
    "\n",
    "test_loss, test_correct = 0, 0\n",
    "net.eval()\n",
    "with torch.no_grad():\n",
    "    with tqdm(iter(test_dataloader), desc=\"Test \" + str(epoch), unit=\"batch\") as tepoch:\n",
    "        for batch in tepoch:\n",
    "\n",
    "            images = batch[\"img\"].to(device)\n",
    "            labels = batch[\"label\"].to(device)\n",
    "\n",
    "            # Forward\n",
    "            outputs = net(images)\n",
    "            test_loss += criterion(outputs, labels)\n",
    "\n",
    "            # one hot -> labels\n",
    "            labels = torch.argmax(labels, dim=1)\n",
    "            pred = torch.argmax(outputs, dim=1)\n",
    "\n",
    "            test_correct += pred.eq(labels).sum().item()\n",
    "\n",
    "    test_loss /= len(test_dataloader.dataset)\n",
    "    test_accuracy = 100. * test_correct / len(test_dataloader.dataset)\n",
    "print(\"Final best acc: \", test_accuracy)"
   ]
  }
 ],
 "metadata": {
  "kaggle": {
   "accelerator": "nvidiaTeslaT4",
   "dataSources": [],
   "dockerImageVersionId": 30840,
   "isGpuEnabled": true,
   "isInternetEnabled": true,
   "language": "python",
   "sourceType": "notebook"
  },
  "kernelspec": {
   "display_name": "Python 3",
   "language": "python",
   "name": "python3"
  },
  "language_info": {
   "codemirror_mode": {
    "name": "ipython",
    "version": 3
   },
   "file_extension": ".py",
   "mimetype": "text/x-python",
   "name": "python",
   "nbconvert_exporter": "python",
   "pygments_lexer": "ipython3",
   "version": "3.10.12"
  }
 },
 "nbformat": 4,
 "nbformat_minor": 4
}
