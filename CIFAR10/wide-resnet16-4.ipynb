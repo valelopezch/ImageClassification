{
 "cells": [
  {
   "cell_type": "markdown",
   "metadata": {},
   "source": [
    "<div style=\"text-align: right\"><b> Ana Valentina López Chacón </b></div>\n",
    "<div style=\"text-align: right\"><b> Visión por Computadora, 2024 - 2025 </b></div>\n",
    "\n",
    "## **Visión por Computadora: Wide ResNet**"
   ]
  },
  {
   "cell_type": "code",
   "execution_count": 1,
   "metadata": {
    "_cell_guid": "b1076dfc-b9ad-4769-8c92-a6c4dae69d19",
    "_uuid": "8f2839f25d086af736a60e9eeb907d3b93b6e0e5",
    "execution": {
     "iopub.execute_input": "2025-04-12T23:42:16.130373Z",
     "iopub.status.busy": "2025-04-12T23:42:16.130045Z",
     "iopub.status.idle": "2025-04-12T23:42:22.914739Z",
     "shell.execute_reply": "2025-04-12T23:42:22.913844Z",
     "shell.execute_reply.started": "2025-04-12T23:42:16.130348Z"
    },
    "trusted": true
   },
   "outputs": [
    {
     "name": "stdout",
     "output_type": "stream",
     "text": [
      "Torch version:  2.5.1+cu121\n",
      "Device:  cuda\n"
     ]
    }
   ],
   "source": [
    "import torch\n",
    "import torchvision\n",
    "import torch.nn as nn\n",
    "from tqdm import tqdm\n",
    "import multiprocessing\n",
    "import torch.optim as optim\n",
    "import torch.nn.functional as  F\n",
    "from torchvision import transforms\n",
    "from torch.utils.data import Dataset\n",
    "from torch.utils.data import DataLoader\n",
    "\n",
    "print(\"Torch version: \", torch. __version__)\n",
    "device = torch.device(\"cuda\" if torch.cuda.is_available() else \"cpu\")\n",
    "print(\"Device: \", device)"
   ]
  },
  {
   "cell_type": "code",
   "execution_count": 2,
   "metadata": {
    "execution": {
     "iopub.execute_input": "2025-04-12T23:42:22.916589Z",
     "iopub.status.busy": "2025-04-12T23:42:22.916131Z",
     "iopub.status.idle": "2025-04-12T23:42:22.926966Z",
     "shell.execute_reply": "2025-04-12T23:42:22.926313Z",
     "shell.execute_reply.started": "2025-04-12T23:42:22.916535Z"
    },
    "trusted": true
   },
   "outputs": [],
   "source": [
    "seed = 42\n",
    "torch.manual_seed(seed)\n",
    "\n",
    "if torch.cuda.is_available():\n",
    "    torch.cuda.manual_seed(seed)\n",
    "    torch.cuda.manual_seed_all(seed)\n",
    "    torch.backends.cudnn.deterministic = True\n",
    "    torch.backends.cudnn.benchmark = False"
   ]
  },
  {
   "cell_type": "code",
   "execution_count": 3,
   "metadata": {
    "execution": {
     "iopub.execute_input": "2025-04-12T23:42:22.928477Z",
     "iopub.status.busy": "2025-04-12T23:42:22.928220Z",
     "iopub.status.idle": "2025-04-12T23:42:22.939583Z",
     "shell.execute_reply": "2025-04-12T23:42:22.938888Z",
     "shell.execute_reply.started": "2025-04-12T23:42:22.928459Z"
    },
    "trusted": true
   },
   "outputs": [],
   "source": [
    "da_train = transforms.Compose([\n",
    "    transforms.RandomHorizontalFlip(),\n",
    "    transforms.RandomAffine(degrees=15, translate=(0.2, 0.2), scale=(0.9, 1.1)),\n",
    "    transforms.RandomResizedCrop(size=32, scale=(0.8, 1.0)),\n",
    "    transforms.ToTensor(),\n",
    "])\n",
    "\n",
    "da_test = transforms.Compose([\n",
    "    transforms.ToTensor(),\n",
    "])"
   ]
  },
  {
   "cell_type": "markdown",
   "metadata": {},
   "source": [
    "### **Carga de Datos**"
   ]
  },
  {
   "cell_type": "code",
   "execution_count": 4,
   "metadata": {
    "execution": {
     "iopub.execute_input": "2025-04-12T23:42:22.940852Z",
     "iopub.status.busy": "2025-04-12T23:42:22.940631Z",
     "iopub.status.idle": "2025-04-12T23:42:27.881758Z",
     "shell.execute_reply": "2025-04-12T23:42:27.880839Z",
     "shell.execute_reply.started": "2025-04-12T23:42:22.940834Z"
    },
    "trusted": true
   },
   "outputs": [
    {
     "name": "stdout",
     "output_type": "stream",
     "text": [
      "\n",
      "Loading CIFAR10  train  Dataset...\n",
      "Downloading https://www.cs.toronto.edu/~kriz/cifar-10-python.tar.gz to .data/cifar-10-python.tar.gz\n"
     ]
    },
    {
     "name": "stderr",
     "output_type": "stream",
     "text": [
      "100%|██████████| 170M/170M [00:01<00:00, 106MB/s]  \n"
     ]
    },
    {
     "name": "stdout",
     "output_type": "stream",
     "text": [
      "Extracting .data/cifar-10-python.tar.gz to .data/\n",
      "\tTotal Len.:  50000 \n",
      " --------------------------------------------------\n",
      "\n",
      "Loading CIFAR10  test  Dataset...\n",
      "Files already downloaded and verified\n",
      "\tTotal Len.:  10000 \n",
      " --------------------------------------------------\n"
     ]
    }
   ],
   "source": [
    "class CIFAR10_dataset(Dataset):\n",
    "\n",
    "    def __init__(self, transform, partition = \"train\"):\n",
    "\n",
    "        print(\"\\nLoading CIFAR10 \", partition, \" Dataset...\")\n",
    "        self.partition = partition\n",
    "        self.transform = transform\n",
    "        if self.partition == \"train\":\n",
    "            self.data = torchvision.datasets.CIFAR10('.data/', \n",
    "                                                     train=True,\n",
    "                                                     download=True)\n",
    "        else:\n",
    "            self.data = torchvision.datasets.CIFAR10('.data/', \n",
    "                                                     train=False,\n",
    "                                                     download=True)\n",
    "        print(\"\\tTotal Len.: \", len(self.data), \"\\n\", 50*\"-\")\n",
    "    \n",
    "    def __len__(self):\n",
    "        return len(self.data)\n",
    "\n",
    "    def __getitem__(self, idx):\n",
    "\n",
    "        # Image\n",
    "        image = self.data[idx][0]\n",
    "        image_tensor = self.transform(image)\n",
    "\n",
    "        # Label\n",
    "        label = torch.tensor(self.data[idx][1])\n",
    "        label = F.one_hot(label, num_classes=10).float()\n",
    "\n",
    "        return {\"img\": image_tensor, \"label\": label}\n",
    "\n",
    "train_dataset = CIFAR10_dataset(da_train, partition=\"train\")\n",
    "test_dataset = CIFAR10_dataset(da_test, partition=\"test\")"
   ]
  },
  {
   "cell_type": "code",
   "execution_count": 5,
   "metadata": {
    "execution": {
     "iopub.execute_input": "2025-04-12T23:42:27.883022Z",
     "iopub.status.busy": "2025-04-12T23:42:27.882703Z",
     "iopub.status.idle": "2025-04-12T23:42:27.888346Z",
     "shell.execute_reply": "2025-04-12T23:42:27.887565Z",
     "shell.execute_reply.started": "2025-04-12T23:42:27.882992Z"
    },
    "trusted": true
   },
   "outputs": [
    {
     "name": "stdout",
     "output_type": "stream",
     "text": [
      "Num workers 4\n"
     ]
    }
   ],
   "source": [
    "batch_size = 100\n",
    "num_workers = multiprocessing.cpu_count()\n",
    "print(\"Num workers\", num_workers)\n",
    "train_dataloader = DataLoader(train_dataset, batch_size, shuffle=True, num_workers=num_workers)\n",
    "test_dataloader = DataLoader(test_dataset, batch_size, shuffle=False, num_workers=num_workers)"
   ]
  },
  {
   "cell_type": "markdown",
   "metadata": {},
   "source": [
    "### **Creación de Red**"
   ]
  },
  {
   "cell_type": "code",
   "execution_count": 6,
   "metadata": {
    "execution": {
     "iopub.execute_input": "2025-04-12T23:42:27.889744Z",
     "iopub.status.busy": "2025-04-12T23:42:27.889365Z",
     "iopub.status.idle": "2025-04-12T23:42:27.903265Z",
     "shell.execute_reply": "2025-04-12T23:42:27.902620Z",
     "shell.execute_reply.started": "2025-04-12T23:42:27.889710Z"
    },
    "trusted": true
   },
   "outputs": [],
   "source": [
    "class WideResidualBlock(nn.Module):\n",
    "    def __init__(self, in_planes, out_planes, stride):\n",
    "        super(WideResidualBlock, self).__init__()\n",
    "        self.bn1 = nn.BatchNorm2d(in_planes)\n",
    "        self.conv1 = nn.Conv2d(in_planes, out_planes, kernel_size=3, stride=stride, padding=1, bias=False)\n",
    "        self.bn2 = nn.BatchNorm2d(out_planes)\n",
    "        self.conv2 = nn.Conv2d(out_planes, out_planes, kernel_size=3, stride=1, padding=1, bias=False)\n",
    "\n",
    "        self.shortcut = nn.Sequential()\n",
    "        if stride != 1 or in_planes != out_planes:\n",
    "            self.shortcut = nn.Conv2d(in_planes, out_planes, kernel_size=1, stride=stride, bias=False)\n",
    "\n",
    "    def forward(self, x):\n",
    "        out = self.conv1(F.relu(self.bn1(x)))\n",
    "        out = self.conv2(F.relu(self.bn2(out)))\n",
    "        out += self.shortcut(x)\n",
    "        return out"
   ]
  },
  {
   "cell_type": "code",
   "execution_count": 7,
   "metadata": {
    "execution": {
     "iopub.execute_input": "2025-04-12T23:42:27.904157Z",
     "iopub.status.busy": "2025-04-12T23:42:27.903975Z",
     "iopub.status.idle": "2025-04-12T23:42:27.923440Z",
     "shell.execute_reply": "2025-04-12T23:42:27.922777Z",
     "shell.execute_reply.started": "2025-04-12T23:42:27.904141Z"
    },
    "trusted": true
   },
   "outputs": [],
   "source": [
    "class WideResNet(nn.Module):\n",
    "    def __init__(self, depth=28, widen_factor=10, num_classes=10):\n",
    "        super(WideResNet, self).__init__()\n",
    "        self.in_planes = 16\n",
    "\n",
    "        assert (depth - 4) % 6 == 0\n",
    "        n = (depth - 4) // 6\n",
    "\n",
    "        k = widen_factor\n",
    "        nStages = [16, 16 * k, 32 * k, 64 * k]\n",
    "\n",
    "        self.conv1 = nn.Conv2d(3, nStages[0], kernel_size=3, stride=1, padding=1, bias=False)\n",
    "        self.layer1 = self._make_layer(nStages[1], n, stride=1)\n",
    "        self.layer2 = self._make_layer(nStages[2], n, stride=2)\n",
    "        self.layer3 = self._make_layer(nStages[3], n, stride=2)\n",
    "        self.bn1 = nn.BatchNorm2d(nStages[3])\n",
    "        self.linear = nn.Linear(nStages[3], num_classes)\n",
    "\n",
    "    def _make_layer(self, out_planes, num_blocks, stride, dropout_rate):\n",
    "        strides = [stride] + [1] * (num_blocks - 1)\n",
    "        layers = []\n",
    "        for stride in strides:\n",
    "            layers.append(WideResidualBlock(self.in_planes, out_planes, stride))\n",
    "            self.in_planes = out_planes\n",
    "        return nn.Sequential(*layers)\n",
    "\n",
    "    def forward(self, x):\n",
    "        out = self.conv1(x)\n",
    "        out = self.layer1(out)\n",
    "        out = self.layer2(out)\n",
    "        out = self.layer3(out)\n",
    "        out = F.relu(self.bn1(out))\n",
    "        out = F.avg_pool2d(out, 8)\n",
    "        out = out.view(out.size(0), -1)\n",
    "        out = self.linear(out)\n",
    "        return out\n"
   ]
  },
  {
   "cell_type": "code",
   "execution_count": 8,
   "metadata": {
    "execution": {
     "iopub.execute_input": "2025-04-12T23:42:27.925652Z",
     "iopub.status.busy": "2025-04-12T23:42:27.925370Z",
     "iopub.status.idle": "2025-04-12T23:42:28.019854Z",
     "shell.execute_reply": "2025-04-12T23:42:28.019136Z",
     "shell.execute_reply.started": "2025-04-12T23:42:27.925632Z"
    },
    "trusted": true
   },
   "outputs": [
    {
     "name": "stdout",
     "output_type": "stream",
     "text": [
      "WideResNet(\n",
      "  (conv1): Conv2d(3, 16, kernel_size=(3, 3), stride=(1, 1), padding=(1, 1), bias=False)\n",
      "  (layer1): Sequential(\n",
      "    (0): WideResidualBlock(\n",
      "      (bn1): BatchNorm2d(16, eps=1e-05, momentum=0.1, affine=True, track_running_stats=True)\n",
      "      (conv1): Conv2d(16, 64, kernel_size=(3, 3), stride=(1, 1), padding=(1, 1), bias=False)\n",
      "      (dropout): Dropout(p=0, inplace=False)\n",
      "      (bn2): BatchNorm2d(64, eps=1e-05, momentum=0.1, affine=True, track_running_stats=True)\n",
      "      (conv2): Conv2d(64, 64, kernel_size=(3, 3), stride=(1, 1), padding=(1, 1), bias=False)\n",
      "      (shortcut): Conv2d(16, 64, kernel_size=(1, 1), stride=(1, 1), bias=False)\n",
      "    )\n",
      "    (1): WideResidualBlock(\n",
      "      (bn1): BatchNorm2d(64, eps=1e-05, momentum=0.1, affine=True, track_running_stats=True)\n",
      "      (conv1): Conv2d(64, 64, kernel_size=(3, 3), stride=(1, 1), padding=(1, 1), bias=False)\n",
      "      (dropout): Dropout(p=0, inplace=False)\n",
      "      (bn2): BatchNorm2d(64, eps=1e-05, momentum=0.1, affine=True, track_running_stats=True)\n",
      "      (conv2): Conv2d(64, 64, kernel_size=(3, 3), stride=(1, 1), padding=(1, 1), bias=False)\n",
      "      (shortcut): Sequential()\n",
      "    )\n",
      "  )\n",
      "  (layer2): Sequential(\n",
      "    (0): WideResidualBlock(\n",
      "      (bn1): BatchNorm2d(64, eps=1e-05, momentum=0.1, affine=True, track_running_stats=True)\n",
      "      (conv1): Conv2d(64, 128, kernel_size=(3, 3), stride=(2, 2), padding=(1, 1), bias=False)\n",
      "      (dropout): Dropout(p=0, inplace=False)\n",
      "      (bn2): BatchNorm2d(128, eps=1e-05, momentum=0.1, affine=True, track_running_stats=True)\n",
      "      (conv2): Conv2d(128, 128, kernel_size=(3, 3), stride=(1, 1), padding=(1, 1), bias=False)\n",
      "      (shortcut): Conv2d(64, 128, kernel_size=(1, 1), stride=(2, 2), bias=False)\n",
      "    )\n",
      "    (1): WideResidualBlock(\n",
      "      (bn1): BatchNorm2d(128, eps=1e-05, momentum=0.1, affine=True, track_running_stats=True)\n",
      "      (conv1): Conv2d(128, 128, kernel_size=(3, 3), stride=(1, 1), padding=(1, 1), bias=False)\n",
      "      (dropout): Dropout(p=0, inplace=False)\n",
      "      (bn2): BatchNorm2d(128, eps=1e-05, momentum=0.1, affine=True, track_running_stats=True)\n",
      "      (conv2): Conv2d(128, 128, kernel_size=(3, 3), stride=(1, 1), padding=(1, 1), bias=False)\n",
      "      (shortcut): Sequential()\n",
      "    )\n",
      "  )\n",
      "  (layer3): Sequential(\n",
      "    (0): WideResidualBlock(\n",
      "      (bn1): BatchNorm2d(128, eps=1e-05, momentum=0.1, affine=True, track_running_stats=True)\n",
      "      (conv1): Conv2d(128, 256, kernel_size=(3, 3), stride=(2, 2), padding=(1, 1), bias=False)\n",
      "      (dropout): Dropout(p=0, inplace=False)\n",
      "      (bn2): BatchNorm2d(256, eps=1e-05, momentum=0.1, affine=True, track_running_stats=True)\n",
      "      (conv2): Conv2d(256, 256, kernel_size=(3, 3), stride=(1, 1), padding=(1, 1), bias=False)\n",
      "      (shortcut): Conv2d(128, 256, kernel_size=(1, 1), stride=(2, 2), bias=False)\n",
      "    )\n",
      "    (1): WideResidualBlock(\n",
      "      (bn1): BatchNorm2d(256, eps=1e-05, momentum=0.1, affine=True, track_running_stats=True)\n",
      "      (conv1): Conv2d(256, 256, kernel_size=(3, 3), stride=(1, 1), padding=(1, 1), bias=False)\n",
      "      (dropout): Dropout(p=0, inplace=False)\n",
      "      (bn2): BatchNorm2d(256, eps=1e-05, momentum=0.1, affine=True, track_running_stats=True)\n",
      "      (conv2): Conv2d(256, 256, kernel_size=(3, 3), stride=(1, 1), padding=(1, 1), bias=False)\n",
      "      (shortcut): Sequential()\n",
      "    )\n",
      "  )\n",
      "  (bn1): BatchNorm2d(256, eps=1e-05, momentum=0.1, affine=True, track_running_stats=True)\n",
      "  (linear): Linear(in_features=256, out_features=10, bias=True)\n",
      ")\n",
      "Params:  2748890\n"
     ]
    }
   ],
   "source": [
    "num_classes = 10\n",
    "net = WideResNet(depth = 16, \n",
    "                 widen_factor = 4, \n",
    "                 num_classes=num_classes)\n",
    "print(net)\n",
    "\n",
    "def count_parameters(model):\n",
    "    return sum(p.numel() for p in model.parameters() if p.requires_grad)\n",
    "print(\"Params: \", count_parameters(net))"
   ]
  },
  {
   "cell_type": "code",
   "execution_count": 9,
   "metadata": {
    "execution": {
     "iopub.execute_input": "2025-04-12T23:42:28.021048Z",
     "iopub.status.busy": "2025-04-12T23:42:28.020833Z",
     "iopub.status.idle": "2025-04-12T23:42:28.025314Z",
     "shell.execute_reply": "2025-04-12T23:42:28.024461Z",
     "shell.execute_reply.started": "2025-04-12T23:42:28.021019Z"
    },
    "trusted": true
   },
   "outputs": [],
   "source": [
    "criterion = nn.CrossEntropyLoss()\n",
    "optimizer = optim.Adam(net.parameters(), lr=0.001, weight_decay=1e-6)\n",
    "lr_scheduler = optim.lr_scheduler.ReduceLROnPlateau(optimizer, factor=0.1, patience=10, min_lr=0.00001)\n",
    "epochs = 100"
   ]
  },
  {
   "cell_type": "markdown",
   "metadata": {},
   "source": [
    "### **Entrenamiento**"
   ]
  },
  {
   "cell_type": "code",
   "execution_count": 10,
   "metadata": {
    "execution": {
     "iopub.execute_input": "2025-04-12T23:42:28.026345Z",
     "iopub.status.busy": "2025-04-12T23:42:28.026119Z",
     "iopub.status.idle": "2025-04-13T00:53:47.833620Z",
     "shell.execute_reply": "2025-04-13T00:53:47.832614Z",
     "shell.execute_reply.started": "2025-04-12T23:42:28.026326Z"
    },
    "trusted": true
   },
   "outputs": [
    {
     "name": "stdout",
     "output_type": "stream",
     "text": [
      "\n",
      "---- Start Training ----\n"
     ]
    },
    {
     "name": "stderr",
     "output_type": "stream",
     "text": [
      "Epoch 0: 100%|██████████| 500/500 [00:39<00:00, 12.53batch/s]\n",
      "Test 0: 100%|██████████| 100/100 [00:01<00:00, 51.21batch/s]\n"
     ]
    },
    {
     "name": "stdout",
     "output_type": "stream",
     "text": [
      "[Epoch 1] Train Loss: 1.579889 - Test Loss: 1.791463 - Train Accuracy: 41.52% - Test Accuracy: 43.78%\n"
     ]
    },
    {
     "name": "stderr",
     "output_type": "stream",
     "text": [
      "Epoch 1: 100%|██████████| 500/500 [00:38<00:00, 12.92batch/s]\n",
      "Test 1: 100%|██████████| 100/100 [00:01<00:00, 51.01batch/s]\n"
     ]
    },
    {
     "name": "stdout",
     "output_type": "stream",
     "text": [
      "[Epoch 2] Train Loss: 1.225369 - Test Loss: 1.154369 - Train Accuracy: 55.86% - Test Accuracy: 60.28%\n"
     ]
    },
    {
     "name": "stderr",
     "output_type": "stream",
     "text": [
      "Epoch 2: 100%|██████████| 500/500 [00:39<00:00, 12.69batch/s]\n",
      "Test 2: 100%|██████████| 100/100 [00:01<00:00, 50.68batch/s]"
     ]
    },
    {
     "name": "stdout",
     "output_type": "stream",
     "text": [
      "[Epoch 3] Train Loss: 1.058013 - Test Loss: 1.317029 - Train Accuracy: 62.31% - Test Accuracy: 59.21%\n"
     ]
    },
    {
     "name": "stderr",
     "output_type": "stream",
     "text": [
      "\n",
      "Epoch 3: 100%|██████████| 500/500 [00:40<00:00, 12.48batch/s]\n",
      "Test 3: 100%|██████████| 100/100 [00:02<00:00, 49.77batch/s]\n"
     ]
    },
    {
     "name": "stdout",
     "output_type": "stream",
     "text": [
      "[Epoch 4] Train Loss: 0.938331 - Test Loss: 1.177110 - Train Accuracy: 66.94% - Test Accuracy: 64.76%\n"
     ]
    },
    {
     "name": "stderr",
     "output_type": "stream",
     "text": [
      "Epoch 4: 100%|██████████| 500/500 [00:40<00:00, 12.33batch/s]\n",
      "Test 4: 100%|██████████| 100/100 [00:01<00:00, 50.25batch/s]\n"
     ]
    },
    {
     "name": "stdout",
     "output_type": "stream",
     "text": [
      "[Epoch 5] Train Loss: 0.835499 - Test Loss: 0.917525 - Train Accuracy: 70.50% - Test Accuracy: 70.56%\n"
     ]
    },
    {
     "name": "stderr",
     "output_type": "stream",
     "text": [
      "Epoch 5: 100%|██████████| 500/500 [00:40<00:00, 12.33batch/s]\n",
      "Test 5: 100%|██████████| 100/100 [00:02<00:00, 49.97batch/s]\n"
     ]
    },
    {
     "name": "stdout",
     "output_type": "stream",
     "text": [
      "[Epoch 6] Train Loss: 0.762542 - Test Loss: 0.768455 - Train Accuracy: 73.48% - Test Accuracy: 74.11%\n"
     ]
    },
    {
     "name": "stderr",
     "output_type": "stream",
     "text": [
      "Epoch 6: 100%|██████████| 500/500 [00:40<00:00, 12.32batch/s]\n",
      "Test 6: 100%|██████████| 100/100 [00:01<00:00, 50.13batch/s]\n"
     ]
    },
    {
     "name": "stdout",
     "output_type": "stream",
     "text": [
      "[Epoch 7] Train Loss: 0.701784 - Test Loss: 0.718328 - Train Accuracy: 75.50% - Test Accuracy: 75.93%\n"
     ]
    },
    {
     "name": "stderr",
     "output_type": "stream",
     "text": [
      "Epoch 7: 100%|██████████| 500/500 [00:40<00:00, 12.31batch/s]\n",
      "Test 7: 100%|██████████| 100/100 [00:01<00:00, 50.12batch/s]"
     ]
    },
    {
     "name": "stdout",
     "output_type": "stream",
     "text": [
      "[Epoch 8] Train Loss: 0.660930 - Test Loss: 0.903299 - Train Accuracy: 77.01% - Test Accuracy: 71.76%\n"
     ]
    },
    {
     "name": "stderr",
     "output_type": "stream",
     "text": [
      "\n",
      "Epoch 8: 100%|██████████| 500/500 [00:40<00:00, 12.31batch/s]\n",
      "Test 8: 100%|██████████| 100/100 [00:02<00:00, 49.49batch/s]"
     ]
    },
    {
     "name": "stdout",
     "output_type": "stream",
     "text": [
      "[Epoch 9] Train Loss: 0.611617 - Test Loss: 0.690121 - Train Accuracy: 78.73% - Test Accuracy: 78.69%\n"
     ]
    },
    {
     "name": "stderr",
     "output_type": "stream",
     "text": [
      "\n",
      "Epoch 9: 100%|██████████| 500/500 [00:41<00:00, 12.19batch/s]\n",
      "Test 9: 100%|██████████| 100/100 [00:02<00:00, 49.46batch/s]"
     ]
    },
    {
     "name": "stdout",
     "output_type": "stream",
     "text": [
      "[Epoch 10] Train Loss: 0.582691 - Test Loss: 0.699044 - Train Accuracy: 79.64% - Test Accuracy: 77.83%\n"
     ]
    },
    {
     "name": "stderr",
     "output_type": "stream",
     "text": [
      "\n",
      "Epoch 10: 100%|██████████| 500/500 [00:40<00:00, 12.31batch/s]\n",
      "Test 10: 100%|██████████| 100/100 [00:02<00:00, 48.18batch/s]\n"
     ]
    },
    {
     "name": "stdout",
     "output_type": "stream",
     "text": [
      "[Epoch 11] Train Loss: 0.550605 - Test Loss: 0.624888 - Train Accuracy: 80.83% - Test Accuracy: 80.42%\n"
     ]
    },
    {
     "name": "stderr",
     "output_type": "stream",
     "text": [
      "Epoch 11: 100%|██████████| 500/500 [00:40<00:00, 12.23batch/s]\n",
      "Test 11: 100%|██████████| 100/100 [00:02<00:00, 49.32batch/s]\n"
     ]
    },
    {
     "name": "stdout",
     "output_type": "stream",
     "text": [
      "[Epoch 12] Train Loss: 0.528109 - Test Loss: 0.594371 - Train Accuracy: 81.72% - Test Accuracy: 81.55%\n"
     ]
    },
    {
     "name": "stderr",
     "output_type": "stream",
     "text": [
      "Epoch 12: 100%|██████████| 500/500 [00:40<00:00, 12.29batch/s]\n",
      "Test 12: 100%|██████████| 100/100 [00:02<00:00, 49.48batch/s]"
     ]
    },
    {
     "name": "stdout",
     "output_type": "stream",
     "text": [
      "[Epoch 13] Train Loss: 0.502579 - Test Loss: 0.476948 - Train Accuracy: 82.63% - Test Accuracy: 83.97%\n"
     ]
    },
    {
     "name": "stderr",
     "output_type": "stream",
     "text": [
      "\n",
      "Epoch 13: 100%|██████████| 500/500 [00:40<00:00, 12.29batch/s]\n",
      "Test 13: 100%|██████████| 100/100 [00:02<00:00, 49.15batch/s]"
     ]
    },
    {
     "name": "stdout",
     "output_type": "stream",
     "text": [
      "[Epoch 14] Train Loss: 0.481791 - Test Loss: 0.676514 - Train Accuracy: 83.36% - Test Accuracy: 79.74%\n"
     ]
    },
    {
     "name": "stderr",
     "output_type": "stream",
     "text": [
      "\n",
      "Epoch 14: 100%|██████████| 500/500 [00:40<00:00, 12.29batch/s]\n",
      "Test 14: 100%|██████████| 100/100 [00:02<00:00, 49.43batch/s]"
     ]
    },
    {
     "name": "stdout",
     "output_type": "stream",
     "text": [
      "[Epoch 15] Train Loss: 0.464998 - Test Loss: 0.588281 - Train Accuracy: 83.93% - Test Accuracy: 82.26%\n"
     ]
    },
    {
     "name": "stderr",
     "output_type": "stream",
     "text": [
      "\n",
      "Epoch 15: 100%|██████████| 500/500 [00:40<00:00, 12.27batch/s]\n",
      "Test 15: 100%|██████████| 100/100 [00:02<00:00, 49.33batch/s]"
     ]
    },
    {
     "name": "stdout",
     "output_type": "stream",
     "text": [
      "[Epoch 16] Train Loss: 0.446989 - Test Loss: 0.591620 - Train Accuracy: 84.54% - Test Accuracy: 82.30%\n"
     ]
    },
    {
     "name": "stderr",
     "output_type": "stream",
     "text": [
      "\n",
      "Epoch 16: 100%|██████████| 500/500 [00:40<00:00, 12.26batch/s]\n",
      "Test 16: 100%|██████████| 100/100 [00:02<00:00, 49.41batch/s]\n"
     ]
    },
    {
     "name": "stdout",
     "output_type": "stream",
     "text": [
      "[Epoch 17] Train Loss: 0.431117 - Test Loss: 0.467691 - Train Accuracy: 85.16% - Test Accuracy: 85.12%\n"
     ]
    },
    {
     "name": "stderr",
     "output_type": "stream",
     "text": [
      "Epoch 17: 100%|██████████| 500/500 [00:40<00:00, 12.25batch/s]\n",
      "Test 17: 100%|██████████| 100/100 [00:01<00:00, 50.08batch/s]"
     ]
    },
    {
     "name": "stdout",
     "output_type": "stream",
     "text": [
      "[Epoch 18] Train Loss: 0.416245 - Test Loss: 0.431054 - Train Accuracy: 85.51% - Test Accuracy: 86.36%\n"
     ]
    },
    {
     "name": "stderr",
     "output_type": "stream",
     "text": [
      "\n",
      "Epoch 18: 100%|██████████| 500/500 [00:40<00:00, 12.28batch/s]\n",
      "Test 18: 100%|██████████| 100/100 [00:02<00:00, 49.34batch/s]"
     ]
    },
    {
     "name": "stdout",
     "output_type": "stream",
     "text": [
      "[Epoch 19] Train Loss: 0.402625 - Test Loss: 0.486377 - Train Accuracy: 85.92% - Test Accuracy: 84.35%\n"
     ]
    },
    {
     "name": "stderr",
     "output_type": "stream",
     "text": [
      "\n",
      "Epoch 19: 100%|██████████| 500/500 [00:40<00:00, 12.30batch/s]\n",
      "Test 19: 100%|██████████| 100/100 [00:02<00:00, 49.84batch/s]"
     ]
    },
    {
     "name": "stdout",
     "output_type": "stream",
     "text": [
      "[Epoch 20] Train Loss: 0.387197 - Test Loss: 0.449474 - Train Accuracy: 86.63% - Test Accuracy: 85.82%\n"
     ]
    },
    {
     "name": "stderr",
     "output_type": "stream",
     "text": [
      "\n",
      "Epoch 20: 100%|██████████| 500/500 [00:40<00:00, 12.26batch/s]\n",
      "Test 20: 100%|██████████| 100/100 [00:02<00:00, 49.15batch/s]\n"
     ]
    },
    {
     "name": "stdout",
     "output_type": "stream",
     "text": [
      "[Epoch 21] Train Loss: 0.375530 - Test Loss: 0.416479 - Train Accuracy: 86.98% - Test Accuracy: 86.56%\n"
     ]
    },
    {
     "name": "stderr",
     "output_type": "stream",
     "text": [
      "Epoch 21: 100%|██████████| 500/500 [00:40<00:00, 12.28batch/s]\n",
      "Test 21: 100%|██████████| 100/100 [00:02<00:00, 49.27batch/s]"
     ]
    },
    {
     "name": "stdout",
     "output_type": "stream",
     "text": [
      "[Epoch 22] Train Loss: 0.366524 - Test Loss: 0.472149 - Train Accuracy: 87.42% - Test Accuracy: 85.20%\n"
     ]
    },
    {
     "name": "stderr",
     "output_type": "stream",
     "text": [
      "\n",
      "Epoch 22: 100%|██████████| 500/500 [00:40<00:00, 12.27batch/s]\n",
      "Test 22: 100%|██████████| 100/100 [00:02<00:00, 48.16batch/s]\n"
     ]
    },
    {
     "name": "stdout",
     "output_type": "stream",
     "text": [
      "[Epoch 23] Train Loss: 0.356054 - Test Loss: 0.404596 - Train Accuracy: 87.49% - Test Accuracy: 87.16%\n"
     ]
    },
    {
     "name": "stderr",
     "output_type": "stream",
     "text": [
      "Epoch 23: 100%|██████████| 500/500 [00:40<00:00, 12.26batch/s]\n",
      "Test 23: 100%|██████████| 100/100 [00:02<00:00, 49.34batch/s]"
     ]
    },
    {
     "name": "stdout",
     "output_type": "stream",
     "text": [
      "[Epoch 24] Train Loss: 0.343078 - Test Loss: 0.423538 - Train Accuracy: 88.06% - Test Accuracy: 86.93%\n"
     ]
    },
    {
     "name": "stderr",
     "output_type": "stream",
     "text": [
      "\n",
      "Epoch 24: 100%|██████████| 500/500 [00:40<00:00, 12.27batch/s]\n",
      "Test 24: 100%|██████████| 100/100 [00:02<00:00, 49.20batch/s]"
     ]
    },
    {
     "name": "stdout",
     "output_type": "stream",
     "text": [
      "[Epoch 25] Train Loss: 0.338846 - Test Loss: 0.452109 - Train Accuracy: 88.17% - Test Accuracy: 85.91%\n"
     ]
    },
    {
     "name": "stderr",
     "output_type": "stream",
     "text": [
      "\n",
      "Epoch 25: 100%|██████████| 500/500 [00:40<00:00, 12.22batch/s]\n",
      "Test 25: 100%|██████████| 100/100 [00:02<00:00, 48.08batch/s]"
     ]
    },
    {
     "name": "stdout",
     "output_type": "stream",
     "text": [
      "[Epoch 26] Train Loss: 0.325774 - Test Loss: 0.400935 - Train Accuracy: 88.59% - Test Accuracy: 88.10%\n"
     ]
    },
    {
     "name": "stderr",
     "output_type": "stream",
     "text": [
      "\n",
      "Epoch 26: 100%|██████████| 500/500 [00:40<00:00, 12.25batch/s]\n",
      "Test 26: 100%|██████████| 100/100 [00:02<00:00, 49.18batch/s]"
     ]
    },
    {
     "name": "stdout",
     "output_type": "stream",
     "text": [
      "[Epoch 27] Train Loss: 0.319483 - Test Loss: 0.401987 - Train Accuracy: 88.80% - Test Accuracy: 87.57%\n"
     ]
    },
    {
     "name": "stderr",
     "output_type": "stream",
     "text": [
      "\n",
      "Epoch 27: 100%|██████████| 500/500 [00:40<00:00, 12.23batch/s]\n",
      "Test 27: 100%|██████████| 100/100 [00:02<00:00, 48.47batch/s]\n"
     ]
    },
    {
     "name": "stdout",
     "output_type": "stream",
     "text": [
      "[Epoch 28] Train Loss: 0.312578 - Test Loss: 0.380105 - Train Accuracy: 89.07% - Test Accuracy: 88.28%\n"
     ]
    },
    {
     "name": "stderr",
     "output_type": "stream",
     "text": [
      "Epoch 28: 100%|██████████| 500/500 [00:40<00:00, 12.24batch/s]\n",
      "Test 28: 100%|██████████| 100/100 [00:02<00:00, 48.75batch/s]"
     ]
    },
    {
     "name": "stdout",
     "output_type": "stream",
     "text": [
      "[Epoch 29] Train Loss: 0.305905 - Test Loss: 0.435496 - Train Accuracy: 89.38% - Test Accuracy: 87.11%\n"
     ]
    },
    {
     "name": "stderr",
     "output_type": "stream",
     "text": [
      "\n",
      "Epoch 29: 100%|██████████| 500/500 [00:40<00:00, 12.26batch/s]\n",
      "Test 29: 100%|██████████| 100/100 [00:02<00:00, 49.29batch/s]"
     ]
    },
    {
     "name": "stdout",
     "output_type": "stream",
     "text": [
      "[Epoch 30] Train Loss: 0.298420 - Test Loss: 0.386296 - Train Accuracy: 89.49% - Test Accuracy: 88.14%\n"
     ]
    },
    {
     "name": "stderr",
     "output_type": "stream",
     "text": [
      "\n",
      "Epoch 30: 100%|██████████| 500/500 [00:40<00:00, 12.25batch/s]\n",
      "Test 30: 100%|██████████| 100/100 [00:02<00:00, 48.99batch/s]\n"
     ]
    },
    {
     "name": "stdout",
     "output_type": "stream",
     "text": [
      "[Epoch 31] Train Loss: 0.286183 - Test Loss: 0.372174 - Train Accuracy: 90.06% - Test Accuracy: 88.56%\n"
     ]
    },
    {
     "name": "stderr",
     "output_type": "stream",
     "text": [
      "Epoch 31: 100%|██████████| 500/500 [00:40<00:00, 12.30batch/s]\n",
      "Test 31: 100%|██████████| 100/100 [00:02<00:00, 49.55batch/s]\n"
     ]
    },
    {
     "name": "stdout",
     "output_type": "stream",
     "text": [
      "[Epoch 32] Train Loss: 0.282010 - Test Loss: 0.365361 - Train Accuracy: 90.12% - Test Accuracy: 88.67%\n"
     ]
    },
    {
     "name": "stderr",
     "output_type": "stream",
     "text": [
      "Epoch 32: 100%|██████████| 500/500 [00:40<00:00, 12.31batch/s]\n",
      "Test 32: 100%|██████████| 100/100 [00:02<00:00, 49.53batch/s]"
     ]
    },
    {
     "name": "stdout",
     "output_type": "stream",
     "text": [
      "[Epoch 33] Train Loss: 0.271090 - Test Loss: 0.467637 - Train Accuracy: 90.42% - Test Accuracy: 86.60%\n"
     ]
    },
    {
     "name": "stderr",
     "output_type": "stream",
     "text": [
      "\n",
      "Epoch 33: 100%|██████████| 500/500 [00:40<00:00, 12.32batch/s]\n",
      "Test 33: 100%|██████████| 100/100 [00:02<00:00, 49.66batch/s]\n"
     ]
    },
    {
     "name": "stdout",
     "output_type": "stream",
     "text": [
      "[Epoch 34] Train Loss: 0.266832 - Test Loss: 0.374941 - Train Accuracy: 90.51% - Test Accuracy: 89.02%\n"
     ]
    },
    {
     "name": "stderr",
     "output_type": "stream",
     "text": [
      "Epoch 34: 100%|██████████| 500/500 [00:40<00:00, 12.31batch/s]\n",
      "Test 34: 100%|██████████| 100/100 [00:02<00:00, 49.57batch/s]\n"
     ]
    },
    {
     "name": "stdout",
     "output_type": "stream",
     "text": [
      "[Epoch 35] Train Loss: 0.261484 - Test Loss: 0.352094 - Train Accuracy: 90.74% - Test Accuracy: 89.05%\n"
     ]
    },
    {
     "name": "stderr",
     "output_type": "stream",
     "text": [
      "Epoch 35: 100%|██████████| 500/500 [00:40<00:00, 12.31batch/s]\n",
      "Test 35: 100%|██████████| 100/100 [00:02<00:00, 49.84batch/s]"
     ]
    },
    {
     "name": "stdout",
     "output_type": "stream",
     "text": [
      "[Epoch 36] Train Loss: 0.254836 - Test Loss: 0.405990 - Train Accuracy: 91.03% - Test Accuracy: 88.05%\n"
     ]
    },
    {
     "name": "stderr",
     "output_type": "stream",
     "text": [
      "\n",
      "Epoch 36: 100%|██████████| 500/500 [00:40<00:00, 12.32batch/s]\n",
      "Test 36: 100%|██████████| 100/100 [00:02<00:00, 49.83batch/s]"
     ]
    },
    {
     "name": "stdout",
     "output_type": "stream",
     "text": [
      "[Epoch 37] Train Loss: 0.251777 - Test Loss: 0.386206 - Train Accuracy: 91.09% - Test Accuracy: 88.31%\n"
     ]
    },
    {
     "name": "stderr",
     "output_type": "stream",
     "text": [
      "\n",
      "Epoch 37: 100%|██████████| 500/500 [00:40<00:00, 12.31batch/s]\n",
      "Test 37: 100%|██████████| 100/100 [00:02<00:00, 49.43batch/s]"
     ]
    },
    {
     "name": "stdout",
     "output_type": "stream",
     "text": [
      "[Epoch 38] Train Loss: 0.240945 - Test Loss: 0.367725 - Train Accuracy: 91.52% - Test Accuracy: 88.96%\n"
     ]
    },
    {
     "name": "stderr",
     "output_type": "stream",
     "text": [
      "\n",
      "Epoch 38: 100%|██████████| 500/500 [00:40<00:00, 12.31batch/s]\n",
      "Test 38: 100%|██████████| 100/100 [00:02<00:00, 49.91batch/s]\n"
     ]
    },
    {
     "name": "stdout",
     "output_type": "stream",
     "text": [
      "[Epoch 39] Train Loss: 0.240023 - Test Loss: 0.330120 - Train Accuracy: 91.53% - Test Accuracy: 90.02%\n"
     ]
    },
    {
     "name": "stderr",
     "output_type": "stream",
     "text": [
      "Epoch 39: 100%|██████████| 500/500 [00:40<00:00, 12.31batch/s]\n",
      "Test 39: 100%|██████████| 100/100 [00:02<00:00, 49.81batch/s]"
     ]
    },
    {
     "name": "stdout",
     "output_type": "stream",
     "text": [
      "[Epoch 40] Train Loss: 0.237286 - Test Loss: 0.368249 - Train Accuracy: 91.68% - Test Accuracy: 89.18%\n"
     ]
    },
    {
     "name": "stderr",
     "output_type": "stream",
     "text": [
      "\n",
      "Epoch 40: 100%|██████████| 500/500 [00:40<00:00, 12.31batch/s]\n",
      "Test 40: 100%|██████████| 100/100 [00:01<00:00, 50.05batch/s]"
     ]
    },
    {
     "name": "stdout",
     "output_type": "stream",
     "text": [
      "[Epoch 41] Train Loss: 0.232077 - Test Loss: 0.379240 - Train Accuracy: 91.80% - Test Accuracy: 88.76%\n"
     ]
    },
    {
     "name": "stderr",
     "output_type": "stream",
     "text": [
      "\n",
      "Epoch 41: 100%|██████████| 500/500 [00:40<00:00, 12.31batch/s]\n",
      "Test 41: 100%|██████████| 100/100 [00:02<00:00, 49.46batch/s]"
     ]
    },
    {
     "name": "stdout",
     "output_type": "stream",
     "text": [
      "[Epoch 42] Train Loss: 0.229775 - Test Loss: 0.356358 - Train Accuracy: 91.83% - Test Accuracy: 89.68%\n"
     ]
    },
    {
     "name": "stderr",
     "output_type": "stream",
     "text": [
      "\n",
      "Epoch 42: 100%|██████████| 500/500 [00:40<00:00, 12.31batch/s]\n",
      "Test 42: 100%|██████████| 100/100 [00:02<00:00, 49.95batch/s]"
     ]
    },
    {
     "name": "stdout",
     "output_type": "stream",
     "text": [
      "[Epoch 43] Train Loss: 0.222177 - Test Loss: 0.354140 - Train Accuracy: 92.17% - Test Accuracy: 89.74%\n"
     ]
    },
    {
     "name": "stderr",
     "output_type": "stream",
     "text": [
      "\n",
      "Epoch 43: 100%|██████████| 500/500 [00:40<00:00, 12.31batch/s]\n",
      "Test 43: 100%|██████████| 100/100 [00:01<00:00, 50.24batch/s]"
     ]
    },
    {
     "name": "stdout",
     "output_type": "stream",
     "text": [
      "[Epoch 44] Train Loss: 0.218529 - Test Loss: 0.365390 - Train Accuracy: 92.26% - Test Accuracy: 89.31%\n"
     ]
    },
    {
     "name": "stderr",
     "output_type": "stream",
     "text": [
      "\n",
      "Epoch 44: 100%|██████████| 500/500 [00:40<00:00, 12.32batch/s]\n",
      "Test 44: 100%|██████████| 100/100 [00:01<00:00, 50.16batch/s]"
     ]
    },
    {
     "name": "stdout",
     "output_type": "stream",
     "text": [
      "[Epoch 45] Train Loss: 0.215214 - Test Loss: 0.347424 - Train Accuracy: 92.46% - Test Accuracy: 89.97%\n"
     ]
    },
    {
     "name": "stderr",
     "output_type": "stream",
     "text": [
      "\n",
      "Epoch 45: 100%|██████████| 500/500 [00:40<00:00, 12.31batch/s]\n",
      "Test 45: 100%|██████████| 100/100 [00:02<00:00, 49.89batch/s]\n"
     ]
    },
    {
     "name": "stdout",
     "output_type": "stream",
     "text": [
      "[Epoch 46] Train Loss: 0.208357 - Test Loss: 0.328060 - Train Accuracy: 92.71% - Test Accuracy: 90.35%\n"
     ]
    },
    {
     "name": "stderr",
     "output_type": "stream",
     "text": [
      "Epoch 46: 100%|██████████| 500/500 [00:40<00:00, 12.31batch/s]\n",
      "Test 46: 100%|██████████| 100/100 [00:02<00:00, 49.53batch/s]\n"
     ]
    },
    {
     "name": "stdout",
     "output_type": "stream",
     "text": [
      "[Epoch 47] Train Loss: 0.205161 - Test Loss: 0.355479 - Train Accuracy: 92.77% - Test Accuracy: 89.70%\n"
     ]
    },
    {
     "name": "stderr",
     "output_type": "stream",
     "text": [
      "Epoch 47: 100%|██████████| 500/500 [00:40<00:00, 12.32batch/s]\n",
      "Test 47: 100%|██████████| 100/100 [00:02<00:00, 49.92batch/s]"
     ]
    },
    {
     "name": "stdout",
     "output_type": "stream",
     "text": [
      "[Epoch 48] Train Loss: 0.202750 - Test Loss: 0.332355 - Train Accuracy: 92.87% - Test Accuracy: 90.18%\n"
     ]
    },
    {
     "name": "stderr",
     "output_type": "stream",
     "text": [
      "\n",
      "Epoch 48: 100%|██████████| 500/500 [00:40<00:00, 12.31batch/s]\n",
      "Test 48: 100%|██████████| 100/100 [00:02<00:00, 49.86batch/s]"
     ]
    },
    {
     "name": "stdout",
     "output_type": "stream",
     "text": [
      "[Epoch 49] Train Loss: 0.202029 - Test Loss: 0.388421 - Train Accuracy: 92.95% - Test Accuracy: 89.11%\n"
     ]
    },
    {
     "name": "stderr",
     "output_type": "stream",
     "text": [
      "\n",
      "Epoch 49: 100%|██████████| 500/500 [00:40<00:00, 12.31batch/s]\n",
      "Test 49: 100%|██████████| 100/100 [00:01<00:00, 50.09batch/s]"
     ]
    },
    {
     "name": "stdout",
     "output_type": "stream",
     "text": [
      "[Epoch 50] Train Loss: 0.191856 - Test Loss: 0.345047 - Train Accuracy: 93.15% - Test Accuracy: 90.25%\n"
     ]
    },
    {
     "name": "stderr",
     "output_type": "stream",
     "text": [
      "\n",
      "Epoch 50: 100%|██████████| 500/500 [00:40<00:00, 12.31batch/s]\n",
      "Test 50: 100%|██████████| 100/100 [00:01<00:00, 50.35batch/s]"
     ]
    },
    {
     "name": "stdout",
     "output_type": "stream",
     "text": [
      "[Epoch 51] Train Loss: 0.182667 - Test Loss: 0.341464 - Train Accuracy: 93.55% - Test Accuracy: 90.33%\n"
     ]
    },
    {
     "name": "stderr",
     "output_type": "stream",
     "text": [
      "\n",
      "Epoch 51: 100%|██████████| 500/500 [00:40<00:00, 12.31batch/s]\n",
      "Test 51: 100%|██████████| 100/100 [00:02<00:00, 49.89batch/s]"
     ]
    },
    {
     "name": "stdout",
     "output_type": "stream",
     "text": [
      "[Epoch 52] Train Loss: 0.189269 - Test Loss: 0.366179 - Train Accuracy: 93.37% - Test Accuracy: 90.12%\n"
     ]
    },
    {
     "name": "stderr",
     "output_type": "stream",
     "text": [
      "\n",
      "Epoch 52: 100%|██████████| 500/500 [00:40<00:00, 12.31batch/s]\n",
      "Test 52: 100%|██████████| 100/100 [00:01<00:00, 50.37batch/s]"
     ]
    },
    {
     "name": "stdout",
     "output_type": "stream",
     "text": [
      "[Epoch 53] Train Loss: 0.182854 - Test Loss: 0.360907 - Train Accuracy: 93.58% - Test Accuracy: 89.93%\n"
     ]
    },
    {
     "name": "stderr",
     "output_type": "stream",
     "text": [
      "\n",
      "Epoch 53: 100%|██████████| 500/500 [00:40<00:00, 12.31batch/s]\n",
      "Test 53: 100%|██████████| 100/100 [00:02<00:00, 49.84batch/s]"
     ]
    },
    {
     "name": "stdout",
     "output_type": "stream",
     "text": [
      "[Epoch 54] Train Loss: 0.185781 - Test Loss: 0.349999 - Train Accuracy: 93.50% - Test Accuracy: 90.34%\n"
     ]
    },
    {
     "name": "stderr",
     "output_type": "stream",
     "text": [
      "\n",
      "Epoch 54: 100%|██████████| 500/500 [00:40<00:00, 12.31batch/s]\n",
      "Test 54: 100%|██████████| 100/100 [00:01<00:00, 50.13batch/s]"
     ]
    },
    {
     "name": "stdout",
     "output_type": "stream",
     "text": [
      "[Epoch 55] Train Loss: 0.176379 - Test Loss: 0.407495 - Train Accuracy: 93.83% - Test Accuracy: 89.04%\n"
     ]
    },
    {
     "name": "stderr",
     "output_type": "stream",
     "text": [
      "\n",
      "Epoch 55: 100%|██████████| 500/500 [00:40<00:00, 12.31batch/s]\n",
      "Test 55: 100%|██████████| 100/100 [00:02<00:00, 49.83batch/s]"
     ]
    },
    {
     "name": "stdout",
     "output_type": "stream",
     "text": [
      "[Epoch 56] Train Loss: 0.175458 - Test Loss: 0.370080 - Train Accuracy: 93.84% - Test Accuracy: 90.11%\n"
     ]
    },
    {
     "name": "stderr",
     "output_type": "stream",
     "text": [
      "\n",
      "Epoch 56: 100%|██████████| 500/500 [00:40<00:00, 12.31batch/s]\n",
      "Test 56: 100%|██████████| 100/100 [00:02<00:00, 49.97batch/s]\n"
     ]
    },
    {
     "name": "stdout",
     "output_type": "stream",
     "text": [
      "[Epoch 57] Train Loss: 0.172143 - Test Loss: 0.405747 - Train Accuracy: 93.85% - Test Accuracy: 88.98%\n"
     ]
    },
    {
     "name": "stderr",
     "output_type": "stream",
     "text": [
      "Epoch 57: 100%|██████████| 500/500 [00:40<00:00, 12.31batch/s]\n",
      "Test 57: 100%|██████████| 100/100 [00:02<00:00, 49.78batch/s]\n"
     ]
    },
    {
     "name": "stdout",
     "output_type": "stream",
     "text": [
      "[Epoch 58] Train Loss: 0.125795 - Test Loss: 0.299562 - Train Accuracy: 95.63% - Test Accuracy: 91.69%\n"
     ]
    },
    {
     "name": "stderr",
     "output_type": "stream",
     "text": [
      "Epoch 58: 100%|██████████| 500/500 [00:40<00:00, 12.31batch/s]\n",
      "Test 58: 100%|██████████| 100/100 [00:01<00:00, 50.33batch/s]"
     ]
    },
    {
     "name": "stdout",
     "output_type": "stream",
     "text": [
      "[Epoch 59] Train Loss: 0.107867 - Test Loss: 0.296823 - Train Accuracy: 96.29% - Test Accuracy: 91.82%\n"
     ]
    },
    {
     "name": "stderr",
     "output_type": "stream",
     "text": [
      "\n",
      "Epoch 59: 100%|██████████| 500/500 [00:40<00:00, 12.31batch/s]\n",
      "Test 59: 100%|██████████| 100/100 [00:02<00:00, 49.53batch/s]\n"
     ]
    },
    {
     "name": "stdout",
     "output_type": "stream",
     "text": [
      "[Epoch 60] Train Loss: 0.103090 - Test Loss: 0.289907 - Train Accuracy: 96.51% - Test Accuracy: 92.26%\n"
     ]
    },
    {
     "name": "stderr",
     "output_type": "stream",
     "text": [
      "Epoch 60: 100%|██████████| 500/500 [00:40<00:00, 12.32batch/s]\n",
      "Test 60: 100%|██████████| 100/100 [00:02<00:00, 49.03batch/s]\n"
     ]
    },
    {
     "name": "stdout",
     "output_type": "stream",
     "text": [
      "[Epoch 61] Train Loss: 0.098182 - Test Loss: 0.286509 - Train Accuracy: 96.65% - Test Accuracy: 92.29%\n"
     ]
    },
    {
     "name": "stderr",
     "output_type": "stream",
     "text": [
      "Epoch 61: 100%|██████████| 500/500 [00:40<00:00, 12.30batch/s]\n",
      "Test 61: 100%|██████████| 100/100 [00:02<00:00, 50.00batch/s]\n"
     ]
    },
    {
     "name": "stdout",
     "output_type": "stream",
     "text": [
      "[Epoch 62] Train Loss: 0.095191 - Test Loss: 0.286567 - Train Accuracy: 96.72% - Test Accuracy: 92.36%\n"
     ]
    },
    {
     "name": "stderr",
     "output_type": "stream",
     "text": [
      "Epoch 62: 100%|██████████| 500/500 [00:40<00:00, 12.32batch/s]\n",
      "Test 62: 100%|██████████| 100/100 [00:02<00:00, 49.63batch/s]"
     ]
    },
    {
     "name": "stdout",
     "output_type": "stream",
     "text": [
      "[Epoch 63] Train Loss: 0.089304 - Test Loss: 0.292974 - Train Accuracy: 96.87% - Test Accuracy: 92.19%\n"
     ]
    },
    {
     "name": "stderr",
     "output_type": "stream",
     "text": [
      "\n",
      "Epoch 63: 100%|██████████| 500/500 [00:40<00:00, 12.31batch/s]\n",
      "Test 63: 100%|██████████| 100/100 [00:02<00:00, 48.69batch/s]"
     ]
    },
    {
     "name": "stdout",
     "output_type": "stream",
     "text": [
      "[Epoch 64] Train Loss: 0.087833 - Test Loss: 0.295268 - Train Accuracy: 96.96% - Test Accuracy: 92.32%\n"
     ]
    },
    {
     "name": "stderr",
     "output_type": "stream",
     "text": [
      "\n",
      "Epoch 64: 100%|██████████| 500/500 [00:40<00:00, 12.31batch/s]\n",
      "Test 64: 100%|██████████| 100/100 [00:01<00:00, 50.27batch/s]"
     ]
    },
    {
     "name": "stdout",
     "output_type": "stream",
     "text": [
      "[Epoch 65] Train Loss: 0.088657 - Test Loss: 0.300673 - Train Accuracy: 97.05% - Test Accuracy: 92.13%\n"
     ]
    },
    {
     "name": "stderr",
     "output_type": "stream",
     "text": [
      "\n",
      "Epoch 65: 100%|██████████| 500/500 [00:40<00:00, 12.31batch/s]\n",
      "Test 65: 100%|██████████| 100/100 [00:02<00:00, 49.82batch/s]\n"
     ]
    },
    {
     "name": "stdout",
     "output_type": "stream",
     "text": [
      "[Epoch 66] Train Loss: 0.083902 - Test Loss: 0.292250 - Train Accuracy: 97.09% - Test Accuracy: 92.32%\n"
     ]
    },
    {
     "name": "stderr",
     "output_type": "stream",
     "text": [
      "Epoch 66: 100%|██████████| 500/500 [00:40<00:00, 12.32batch/s]\n",
      "Test 66: 100%|██████████| 100/100 [00:02<00:00, 47.11batch/s]"
     ]
    },
    {
     "name": "stdout",
     "output_type": "stream",
     "text": [
      "[Epoch 67] Train Loss: 0.082513 - Test Loss: 0.301810 - Train Accuracy: 97.11% - Test Accuracy: 92.12%\n"
     ]
    },
    {
     "name": "stderr",
     "output_type": "stream",
     "text": [
      "\n",
      "Epoch 67: 100%|██████████| 500/500 [00:40<00:00, 12.31batch/s]\n",
      "Test 67: 100%|██████████| 100/100 [00:01<00:00, 50.31batch/s]"
     ]
    },
    {
     "name": "stdout",
     "output_type": "stream",
     "text": [
      "[Epoch 68] Train Loss: 0.080606 - Test Loss: 0.299106 - Train Accuracy: 97.18% - Test Accuracy: 92.40%\n"
     ]
    },
    {
     "name": "stderr",
     "output_type": "stream",
     "text": [
      "\n",
      "Epoch 68: 100%|██████████| 500/500 [00:40<00:00, 12.32batch/s]\n",
      "Test 68: 100%|██████████| 100/100 [00:02<00:00, 49.70batch/s]\n"
     ]
    },
    {
     "name": "stdout",
     "output_type": "stream",
     "text": [
      "[Epoch 69] Train Loss: 0.078380 - Test Loss: 0.307138 - Train Accuracy: 97.30% - Test Accuracy: 92.31%\n"
     ]
    },
    {
     "name": "stderr",
     "output_type": "stream",
     "text": [
      "Epoch 69: 100%|██████████| 500/500 [00:40<00:00, 12.31batch/s]\n",
      "Test 69: 100%|██████████| 100/100 [00:02<00:00, 48.60batch/s]"
     ]
    },
    {
     "name": "stdout",
     "output_type": "stream",
     "text": [
      "[Epoch 70] Train Loss: 0.079270 - Test Loss: 0.309191 - Train Accuracy: 97.32% - Test Accuracy: 92.29%\n"
     ]
    },
    {
     "name": "stderr",
     "output_type": "stream",
     "text": [
      "\n",
      "Epoch 70: 100%|██████████| 500/500 [00:40<00:00, 12.31batch/s]\n",
      "Test 70: 100%|██████████| 100/100 [00:02<00:00, 49.99batch/s]"
     ]
    },
    {
     "name": "stdout",
     "output_type": "stream",
     "text": [
      "[Epoch 71] Train Loss: 0.078970 - Test Loss: 0.315257 - Train Accuracy: 97.29% - Test Accuracy: 92.22%\n"
     ]
    },
    {
     "name": "stderr",
     "output_type": "stream",
     "text": [
      "\n",
      "Epoch 71: 100%|██████████| 500/500 [00:40<00:00, 12.32batch/s]\n",
      "Test 71: 100%|██████████| 100/100 [00:02<00:00, 49.88batch/s]"
     ]
    },
    {
     "name": "stdout",
     "output_type": "stream",
     "text": [
      "[Epoch 72] Train Loss: 0.076383 - Test Loss: 0.312588 - Train Accuracy: 97.37% - Test Accuracy: 92.16%\n"
     ]
    },
    {
     "name": "stderr",
     "output_type": "stream",
     "text": [
      "\n",
      "Epoch 72: 100%|██████████| 500/500 [00:40<00:00, 12.31batch/s]\n",
      "Test 72: 100%|██████████| 100/100 [00:02<00:00, 48.79batch/s]"
     ]
    },
    {
     "name": "stdout",
     "output_type": "stream",
     "text": [
      "[Epoch 73] Train Loss: 0.073667 - Test Loss: 0.314066 - Train Accuracy: 97.46% - Test Accuracy: 92.06%\n"
     ]
    },
    {
     "name": "stderr",
     "output_type": "stream",
     "text": [
      "\n",
      "Epoch 73: 100%|██████████| 500/500 [00:40<00:00, 12.31batch/s]\n",
      "Test 73: 100%|██████████| 100/100 [00:01<00:00, 50.03batch/s]"
     ]
    },
    {
     "name": "stdout",
     "output_type": "stream",
     "text": [
      "[Epoch 74] Train Loss: 0.073456 - Test Loss: 0.310941 - Train Accuracy: 97.46% - Test Accuracy: 92.26%\n"
     ]
    },
    {
     "name": "stderr",
     "output_type": "stream",
     "text": [
      "\n",
      "Epoch 74: 100%|██████████| 500/500 [00:40<00:00, 12.32batch/s]\n",
      "Test 74: 100%|██████████| 100/100 [00:01<00:00, 50.16batch/s]"
     ]
    },
    {
     "name": "stdout",
     "output_type": "stream",
     "text": [
      "[Epoch 75] Train Loss: 0.068301 - Test Loss: 0.305484 - Train Accuracy: 97.61% - Test Accuracy: 92.30%\n"
     ]
    },
    {
     "name": "stderr",
     "output_type": "stream",
     "text": [
      "\n",
      "Epoch 75: 100%|██████████| 500/500 [00:40<00:00, 12.31batch/s]\n",
      "Test 75: 100%|██████████| 100/100 [00:02<00:00, 49.93batch/s]\n"
     ]
    },
    {
     "name": "stdout",
     "output_type": "stream",
     "text": [
      "[Epoch 76] Train Loss: 0.071524 - Test Loss: 0.300749 - Train Accuracy: 97.57% - Test Accuracy: 92.42%\n"
     ]
    },
    {
     "name": "stderr",
     "output_type": "stream",
     "text": [
      "Epoch 76: 100%|██████████| 500/500 [00:40<00:00, 12.31batch/s]\n",
      "Test 76: 100%|██████████| 100/100 [00:02<00:00, 49.96batch/s]"
     ]
    },
    {
     "name": "stdout",
     "output_type": "stream",
     "text": [
      "[Epoch 77] Train Loss: 0.069962 - Test Loss: 0.297887 - Train Accuracy: 97.54% - Test Accuracy: 92.41%\n"
     ]
    },
    {
     "name": "stderr",
     "output_type": "stream",
     "text": [
      "\n",
      "Epoch 77: 100%|██████████| 500/500 [00:40<00:00, 12.32batch/s]\n",
      "Test 77: 100%|██████████| 100/100 [00:01<00:00, 50.23batch/s]"
     ]
    },
    {
     "name": "stdout",
     "output_type": "stream",
     "text": [
      "[Epoch 78] Train Loss: 0.069833 - Test Loss: 0.304786 - Train Accuracy: 97.57% - Test Accuracy: 92.33%\n"
     ]
    },
    {
     "name": "stderr",
     "output_type": "stream",
     "text": [
      "\n",
      "Epoch 78: 100%|██████████| 500/500 [00:40<00:00, 12.31batch/s]\n",
      "Test 78: 100%|██████████| 100/100 [00:01<00:00, 50.09batch/s]"
     ]
    },
    {
     "name": "stdout",
     "output_type": "stream",
     "text": [
      "[Epoch 79] Train Loss: 0.072248 - Test Loss: 0.306319 - Train Accuracy: 97.55% - Test Accuracy: 92.41%\n"
     ]
    },
    {
     "name": "stderr",
     "output_type": "stream",
     "text": [
      "\n",
      "Epoch 79: 100%|██████████| 500/500 [00:40<00:00, 12.31batch/s]\n",
      "Test 79: 100%|██████████| 100/100 [00:01<00:00, 50.61batch/s]"
     ]
    },
    {
     "name": "stdout",
     "output_type": "stream",
     "text": [
      "[Epoch 80] Train Loss: 0.069265 - Test Loss: 0.305158 - Train Accuracy: 97.63% - Test Accuracy: 92.37%\n"
     ]
    },
    {
     "name": "stderr",
     "output_type": "stream",
     "text": [
      "\n",
      "Epoch 80: 100%|██████████| 500/500 [00:40<00:00, 12.31batch/s]\n",
      "Test 80: 100%|██████████| 100/100 [00:02<00:00, 49.83batch/s]\n"
     ]
    },
    {
     "name": "stdout",
     "output_type": "stream",
     "text": [
      "[Epoch 81] Train Loss: 0.068363 - Test Loss: 0.299598 - Train Accuracy: 97.63% - Test Accuracy: 92.53%\n"
     ]
    },
    {
     "name": "stderr",
     "output_type": "stream",
     "text": [
      "Epoch 81: 100%|██████████| 500/500 [00:40<00:00, 12.31batch/s]\n",
      "Test 81: 100%|██████████| 100/100 [00:01<00:00, 50.23batch/s]"
     ]
    },
    {
     "name": "stdout",
     "output_type": "stream",
     "text": [
      "[Epoch 82] Train Loss: 0.068227 - Test Loss: 0.299552 - Train Accuracy: 97.64% - Test Accuracy: 92.48%\n"
     ]
    },
    {
     "name": "stderr",
     "output_type": "stream",
     "text": [
      "\n",
      "Epoch 82: 100%|██████████| 500/500 [00:40<00:00, 12.32batch/s]\n",
      "Test 82: 100%|██████████| 100/100 [00:02<00:00, 49.96batch/s]\n"
     ]
    },
    {
     "name": "stdout",
     "output_type": "stream",
     "text": [
      "[Epoch 83] Train Loss: 0.068948 - Test Loss: 0.303162 - Train Accuracy: 97.67% - Test Accuracy: 92.55%\n"
     ]
    },
    {
     "name": "stderr",
     "output_type": "stream",
     "text": [
      "Epoch 83: 100%|██████████| 500/500 [00:40<00:00, 12.32batch/s]\n",
      "Test 83: 100%|██████████| 100/100 [00:01<00:00, 50.52batch/s]"
     ]
    },
    {
     "name": "stdout",
     "output_type": "stream",
     "text": [
      "[Epoch 84] Train Loss: 0.068363 - Test Loss: 0.301017 - Train Accuracy: 97.66% - Test Accuracy: 92.54%\n"
     ]
    },
    {
     "name": "stderr",
     "output_type": "stream",
     "text": [
      "\n",
      "Epoch 84: 100%|██████████| 500/500 [00:40<00:00, 12.31batch/s]\n",
      "Test 84: 100%|██████████| 100/100 [00:02<00:00, 49.48batch/s]"
     ]
    },
    {
     "name": "stdout",
     "output_type": "stream",
     "text": [
      "[Epoch 85] Train Loss: 0.069551 - Test Loss: 0.301552 - Train Accuracy: 97.66% - Test Accuracy: 92.51%\n"
     ]
    },
    {
     "name": "stderr",
     "output_type": "stream",
     "text": [
      "\n",
      "Epoch 85: 100%|██████████| 500/500 [00:40<00:00, 12.32batch/s]\n",
      "Test 85: 100%|██████████| 100/100 [00:01<00:00, 50.05batch/s]\n"
     ]
    },
    {
     "name": "stdout",
     "output_type": "stream",
     "text": [
      "[Epoch 86] Train Loss: 0.067308 - Test Loss: 0.301980 - Train Accuracy: 97.67% - Test Accuracy: 92.56%\n"
     ]
    },
    {
     "name": "stderr",
     "output_type": "stream",
     "text": [
      "Epoch 86: 100%|██████████| 500/500 [00:40<00:00, 12.31batch/s]\n",
      "Test 86: 100%|██████████| 100/100 [00:01<00:00, 50.03batch/s]"
     ]
    },
    {
     "name": "stdout",
     "output_type": "stream",
     "text": [
      "[Epoch 87] Train Loss: 0.067362 - Test Loss: 0.305349 - Train Accuracy: 97.71% - Test Accuracy: 92.58%\n"
     ]
    },
    {
     "name": "stderr",
     "output_type": "stream",
     "text": [
      "\n",
      "Epoch 87: 100%|██████████| 500/500 [00:40<00:00, 12.31batch/s]\n",
      "Test 87: 100%|██████████| 100/100 [00:01<00:00, 50.08batch/s]\n"
     ]
    },
    {
     "name": "stdout",
     "output_type": "stream",
     "text": [
      "[Epoch 88] Train Loss: 0.067598 - Test Loss: 0.298455 - Train Accuracy: 97.63% - Test Accuracy: 92.61%\n"
     ]
    },
    {
     "name": "stderr",
     "output_type": "stream",
     "text": [
      "Epoch 88: 100%|██████████| 500/500 [00:40<00:00, 12.32batch/s]\n",
      "Test 88: 100%|██████████| 100/100 [00:02<00:00, 49.90batch/s]"
     ]
    },
    {
     "name": "stdout",
     "output_type": "stream",
     "text": [
      "[Epoch 89] Train Loss: 0.067009 - Test Loss: 0.299927 - Train Accuracy: 97.75% - Test Accuracy: 92.59%\n"
     ]
    },
    {
     "name": "stderr",
     "output_type": "stream",
     "text": [
      "\n",
      "Epoch 89: 100%|██████████| 500/500 [00:40<00:00, 12.31batch/s]\n",
      "Test 89: 100%|██████████| 100/100 [00:02<00:00, 49.76batch/s]"
     ]
    },
    {
     "name": "stdout",
     "output_type": "stream",
     "text": [
      "[Epoch 90] Train Loss: 0.068056 - Test Loss: 0.307134 - Train Accuracy: 97.66% - Test Accuracy: 92.45%\n"
     ]
    },
    {
     "name": "stderr",
     "output_type": "stream",
     "text": [
      "\n",
      "Epoch 90: 100%|██████████| 500/500 [00:40<00:00, 12.31batch/s]\n",
      "Test 90: 100%|██████████| 100/100 [00:01<00:00, 50.03batch/s]"
     ]
    },
    {
     "name": "stdout",
     "output_type": "stream",
     "text": [
      "[Epoch 91] Train Loss: 0.068277 - Test Loss: 0.313178 - Train Accuracy: 97.71% - Test Accuracy: 92.31%\n"
     ]
    },
    {
     "name": "stderr",
     "output_type": "stream",
     "text": [
      "\n",
      "Epoch 91: 100%|██████████| 500/500 [00:40<00:00, 12.31batch/s]\n",
      "Test 91: 100%|██████████| 100/100 [00:02<00:00, 49.87batch/s]"
     ]
    },
    {
     "name": "stdout",
     "output_type": "stream",
     "text": [
      "[Epoch 92] Train Loss: 0.066830 - Test Loss: 0.305224 - Train Accuracy: 97.74% - Test Accuracy: 92.34%\n"
     ]
    },
    {
     "name": "stderr",
     "output_type": "stream",
     "text": [
      "\n",
      "Epoch 92: 100%|██████████| 500/500 [00:40<00:00, 12.30batch/s]\n",
      "Test 92: 100%|██████████| 100/100 [00:01<00:00, 50.11batch/s]"
     ]
    },
    {
     "name": "stdout",
     "output_type": "stream",
     "text": [
      "[Epoch 93] Train Loss: 0.065491 - Test Loss: 0.309747 - Train Accuracy: 97.80% - Test Accuracy: 92.41%\n"
     ]
    },
    {
     "name": "stderr",
     "output_type": "stream",
     "text": [
      "\n",
      "Epoch 93: 100%|██████████| 500/500 [00:40<00:00, 12.31batch/s]\n",
      "Test 93: 100%|██████████| 100/100 [00:02<00:00, 49.91batch/s]\n"
     ]
    },
    {
     "name": "stdout",
     "output_type": "stream",
     "text": [
      "[Epoch 94] Train Loss: 0.067118 - Test Loss: 0.301602 - Train Accuracy: 97.73% - Test Accuracy: 92.72%\n"
     ]
    },
    {
     "name": "stderr",
     "output_type": "stream",
     "text": [
      "Epoch 94: 100%|██████████| 500/500 [00:40<00:00, 12.20batch/s]\n",
      "Test 94: 100%|██████████| 100/100 [00:02<00:00, 49.45batch/s]"
     ]
    },
    {
     "name": "stdout",
     "output_type": "stream",
     "text": [
      "[Epoch 95] Train Loss: 0.065272 - Test Loss: 0.300958 - Train Accuracy: 97.78% - Test Accuracy: 92.43%\n"
     ]
    },
    {
     "name": "stderr",
     "output_type": "stream",
     "text": [
      "\n",
      "Epoch 95: 100%|██████████| 500/500 [00:40<00:00, 12.29batch/s]\n",
      "Test 95: 100%|██████████| 100/100 [00:02<00:00, 49.44batch/s]"
     ]
    },
    {
     "name": "stdout",
     "output_type": "stream",
     "text": [
      "[Epoch 96] Train Loss: 0.066022 - Test Loss: 0.302285 - Train Accuracy: 97.71% - Test Accuracy: 92.54%\n"
     ]
    },
    {
     "name": "stderr",
     "output_type": "stream",
     "text": [
      "\n",
      "Epoch 96: 100%|██████████| 500/500 [00:40<00:00, 12.27batch/s]\n",
      "Test 96: 100%|██████████| 100/100 [00:02<00:00, 49.29batch/s]\n"
     ]
    },
    {
     "name": "stdout",
     "output_type": "stream",
     "text": [
      "[Epoch 97] Train Loss: 0.066536 - Test Loss: 0.303667 - Train Accuracy: 97.72% - Test Accuracy: 92.54%\n"
     ]
    },
    {
     "name": "stderr",
     "output_type": "stream",
     "text": [
      "Epoch 97: 100%|██████████| 500/500 [00:40<00:00, 12.30batch/s]\n",
      "Test 97: 100%|██████████| 100/100 [00:02<00:00, 49.42batch/s]"
     ]
    },
    {
     "name": "stdout",
     "output_type": "stream",
     "text": [
      "[Epoch 98] Train Loss: 0.066236 - Test Loss: 0.303574 - Train Accuracy: 97.73% - Test Accuracy: 92.61%\n"
     ]
    },
    {
     "name": "stderr",
     "output_type": "stream",
     "text": [
      "\n",
      "Epoch 98: 100%|██████████| 500/500 [00:40<00:00, 12.30batch/s]\n",
      "Test 98: 100%|██████████| 100/100 [00:02<00:00, 49.52batch/s]"
     ]
    },
    {
     "name": "stdout",
     "output_type": "stream",
     "text": [
      "[Epoch 99] Train Loss: 0.065951 - Test Loss: 0.303677 - Train Accuracy: 97.71% - Test Accuracy: 92.64%\n"
     ]
    },
    {
     "name": "stderr",
     "output_type": "stream",
     "text": [
      "\n",
      "Epoch 99: 100%|██████████| 500/500 [00:40<00:00, 12.29batch/s]\n",
      "Test 99: 100%|██████████| 100/100 [00:02<00:00, 49.42batch/s]"
     ]
    },
    {
     "name": "stdout",
     "output_type": "stream",
     "text": [
      "[Epoch 100] Train Loss: 0.065288 - Test Loss: 0.311693 - Train Accuracy: 97.79% - Test Accuracy: 92.45%\n",
      "\n",
      "BEST TEST ACCURACY:  92.72  in epoch  93\n"
     ]
    },
    {
     "name": "stderr",
     "output_type": "stream",
     "text": [
      "\n"
     ]
    }
   ],
   "source": [
    "net.to(device)\n",
    "\n",
    "print(\"\\n---- Start Training ----\")\n",
    "best_accuracy = -1\n",
    "best_epoch = 0\n",
    "for epoch in range(epochs):\n",
    "\n",
    "    train_loss, train_correct = 0, 0\n",
    "    net.train()\n",
    "    with tqdm(iter(train_dataloader), desc=\"Epoch \" + str(epoch), unit=\"batch\") as tepoch:\n",
    "        for batch in tepoch:\n",
    "            \n",
    "            images = batch[\"img\"].to(device)\n",
    "            labels = batch[\"label\"].to(device)\n",
    "\n",
    "            optimizer.zero_grad()\n",
    "\n",
    "            outputs = net(images)\n",
    "            loss = criterion(outputs, labels)\n",
    "\n",
    "            loss.backward()\n",
    "\n",
    "            optimizer.step()\n",
    "\n",
    "            labels = torch.argmax(labels, dim=1)\n",
    "            pred = torch.argmax(outputs, dim=1)\n",
    "            train_correct += pred.eq(labels).sum().item()\n",
    "\n",
    "            train_loss += loss.item()\n",
    "\n",
    "    train_loss /= (len(train_dataloader.dataset) / batch_size)\n",
    "\n",
    "    test_loss, test_correct = 0, 0\n",
    "    net.eval()\n",
    "    with torch.no_grad():\n",
    "      with tqdm(iter(test_dataloader), desc=\"Test \" + str(epoch), unit=\"batch\") as tepoch:\n",
    "          for batch in tepoch:\n",
    "\n",
    "            images = batch[\"img\"].to(device)\n",
    "            labels = batch[\"label\"].to(device)\n",
    "\n",
    "            outputs = net(images)\n",
    "            test_loss += criterion(outputs, labels)\n",
    "\n",
    "            labels = torch.argmax(labels, dim=1)\n",
    "            pred = torch.argmax(outputs, dim=1)\n",
    "\n",
    "            test_correct += pred.eq(labels).sum().item()\n",
    "\n",
    "    lr_scheduler.step(test_loss)\n",
    "\n",
    "    test_loss /= (len(test_dataloader.dataset) / batch_size)\n",
    "    test_accuracy = 100. * test_correct / len(test_dataloader.dataset)\n",
    "\n",
    "    print(\"[Epoch {}] Train Loss: {:.6f} - Test Loss: {:.6f} - Train Accuracy: {:.2f}% - Test Accuracy: {:.2f}%\".format(\n",
    "        epoch + 1, train_loss, test_loss, 100. * train_correct / len(train_dataloader.dataset), test_accuracy\n",
    "    ))\n",
    "\n",
    "    if test_accuracy > best_accuracy:\n",
    "        best_accuracy = test_accuracy\n",
    "        best_epoch = epoch\n",
    "\n",
    "        torch.save(net.state_dict(), \"model_wideresnet.pt\")\n",
    "\n",
    "print(\"\\nBEST TEST ACCURACY: \", best_accuracy, \" in epoch \", best_epoch)"
   ]
  },
  {
   "cell_type": "markdown",
   "metadata": {},
   "source": [
    "### **Mejor Modelo**"
   ]
  },
  {
   "cell_type": "code",
   "execution_count": 11,
   "metadata": {
    "execution": {
     "iopub.execute_input": "2025-04-13T00:53:47.834911Z",
     "iopub.status.busy": "2025-04-13T00:53:47.834667Z",
     "iopub.status.idle": "2025-04-13T00:53:49.951618Z",
     "shell.execute_reply": "2025-04-13T00:53:49.950665Z",
     "shell.execute_reply.started": "2025-04-13T00:53:47.834889Z"
    },
    "trusted": true
   },
   "outputs": [
    {
     "name": "stderr",
     "output_type": "stream",
     "text": [
      "<ipython-input-11-c8eb2858c64d>:1: FutureWarning: You are using `torch.load` with `weights_only=False` (the current default value), which uses the default pickle module implicitly. It is possible to construct malicious pickle data which will execute arbitrary code during unpickling (See https://github.com/pytorch/pytorch/blob/main/SECURITY.md#untrusted-models for more details). In a future release, the default value for `weights_only` will be flipped to `True`. This limits the functions that could be executed during unpickling. Arbitrary objects will no longer be allowed to be loaded via this mode unless they are explicitly allowlisted by the user via `torch.serialization.add_safe_globals`. We recommend you start setting `weights_only=True` for any use case where you don't have full control of the loaded file. Please open an issue on GitHub for any issues related to this experimental feature.\n",
      "  net.load_state_dict(torch.load(\"model_wideresnet.pt\"))\n",
      "Test 99: 100%|██████████| 100/100 [00:02<00:00, 49.87batch/s]"
     ]
    },
    {
     "name": "stdout",
     "output_type": "stream",
     "text": [
      "Final best acc:  92.72\n"
     ]
    },
    {
     "name": "stderr",
     "output_type": "stream",
     "text": [
      "\n"
     ]
    }
   ],
   "source": [
    "net.load_state_dict(torch.load(\"model_wideresnet.pt\"))\n",
    "\n",
    "test_loss, test_correct = 0, 0\n",
    "net.eval()\n",
    "with torch.no_grad():\n",
    "    with tqdm(iter(test_dataloader), desc=\"Test \" + str(epoch), unit=\"batch\") as tepoch:\n",
    "        for batch in tepoch:\n",
    "\n",
    "            images = batch[\"img\"].to(device)\n",
    "            labels = batch[\"label\"].to(device)\n",
    "\n",
    "            # Forward\n",
    "            outputs = net(images)\n",
    "            test_loss += criterion(outputs, labels)\n",
    "\n",
    "            # one hot -> labels\n",
    "            labels = torch.argmax(labels, dim=1)\n",
    "            pred = torch.argmax(outputs, dim=1)\n",
    "\n",
    "            test_correct += pred.eq(labels).sum().item()\n",
    "\n",
    "    test_loss /= len(test_dataloader.dataset)\n",
    "    test_accuracy = 100. * test_correct / len(test_dataloader.dataset)\n",
    "print(\"Final best acc: \", test_accuracy)"
   ]
  }
 ],
 "metadata": {
  "kaggle": {
   "accelerator": "nvidiaTeslaT4",
   "dataSources": [],
   "dockerImageVersionId": 30919,
   "isGpuEnabled": true,
   "isInternetEnabled": true,
   "language": "python",
   "sourceType": "notebook"
  },
  "kernelspec": {
   "display_name": "Python 3",
   "language": "python",
   "name": "python3"
  },
  "language_info": {
   "codemirror_mode": {
    "name": "ipython",
    "version": 3
   },
   "file_extension": ".py",
   "mimetype": "text/x-python",
   "name": "python",
   "nbconvert_exporter": "python",
   "pygments_lexer": "ipython3",
   "version": "3.10.12"
  }
 },
 "nbformat": 4,
 "nbformat_minor": 4
}
