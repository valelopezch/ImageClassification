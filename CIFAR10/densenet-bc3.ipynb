{
 "cells": [
  {
   "cell_type": "markdown",
   "metadata": {},
   "source": [
    "<div style=\"text-align: right\"><b> Ana Valentina López Chacón </b></div>\n",
    "<div style=\"text-align: right\"><b> Visión por Computadora, 2024 - 2025 </b></div>\n",
    "\n",
    "## **Visión por Computadora: Dense Net**"
   ]
  },
  {
   "cell_type": "code",
   "execution_count": 1,
   "metadata": {
    "_cell_guid": "b1076dfc-b9ad-4769-8c92-a6c4dae69d19",
    "_uuid": "8f2839f25d086af736a60e9eeb907d3b93b6e0e5",
    "execution": {
     "iopub.execute_input": "2025-05-01T23:10:47.939502Z",
     "iopub.status.busy": "2025-05-01T23:10:47.939084Z",
     "iopub.status.idle": "2025-05-01T23:10:55.119087Z",
     "shell.execute_reply": "2025-05-01T23:10:55.118266Z",
     "shell.execute_reply.started": "2025-05-01T23:10:47.939477Z"
    },
    "trusted": true
   },
   "outputs": [
    {
     "name": "stdout",
     "output_type": "stream",
     "text": [
      "Torch version:  2.5.1+cu124\n",
      "Device:  cuda\n"
     ]
    }
   ],
   "source": [
    "import torch\n",
    "import torchvision\n",
    "import torch.nn as nn\n",
    "from tqdm import tqdm\n",
    "import multiprocessing\n",
    "import torch.optim as optim\n",
    "import torch.nn.functional as  F\n",
    "from torchvision import transforms\n",
    "from torch.utils.data import Dataset\n",
    "from torch.utils.data import DataLoader\n",
    "from torch.optim.lr_scheduler import StepLR\n",
    "\n",
    "print(\"Torch version: \", torch. __version__)\n",
    "device = torch.device(\"cuda\" if torch.cuda.is_available() else \"cpu\")\n",
    "print(\"Device: \", device)"
   ]
  },
  {
   "cell_type": "code",
   "execution_count": 2,
   "metadata": {
    "execution": {
     "iopub.execute_input": "2025-05-01T23:10:55.121019Z",
     "iopub.status.busy": "2025-05-01T23:10:55.120647Z",
     "iopub.status.idle": "2025-05-01T23:10:55.130242Z",
     "shell.execute_reply": "2025-05-01T23:10:55.129750Z",
     "shell.execute_reply.started": "2025-05-01T23:10:55.121000Z"
    },
    "trusted": true
   },
   "outputs": [],
   "source": [
    "seed = 42\n",
    "torch.manual_seed(seed)\n",
    "\n",
    "if torch.cuda.is_available():\n",
    "    torch.cuda.manual_seed(seed)\n",
    "    torch.cuda.manual_seed_all(seed)\n",
    "    torch.backends.cudnn.deterministic = True\n",
    "    torch.backends.cudnn.benchmark = False"
   ]
  },
  {
   "cell_type": "code",
   "execution_count": 3,
   "metadata": {
    "execution": {
     "iopub.execute_input": "2025-05-01T23:10:55.131053Z",
     "iopub.status.busy": "2025-05-01T23:10:55.130818Z",
     "iopub.status.idle": "2025-05-01T23:10:55.142596Z",
     "shell.execute_reply": "2025-05-01T23:10:55.142034Z",
     "shell.execute_reply.started": "2025-05-01T23:10:55.131036Z"
    },
    "trusted": true
   },
   "outputs": [],
   "source": [
    "da_train = transforms.Compose([\n",
    "    transforms.RandomHorizontalFlip(),\n",
    "    transforms.RandomAffine(degrees=15, translate=(0.2, 0.2), scale=(0.9, 1.1)),\n",
    "    transforms.RandomResizedCrop(size=32, scale=(0.8, 1.0)),\n",
    "    transforms.ToTensor(),\n",
    "])\n",
    "\n",
    "da_test = transforms.Compose([\n",
    "    transforms.ToTensor(),\n",
    "])"
   ]
  },
  {
   "cell_type": "markdown",
   "metadata": {},
   "source": [
    "### **Carga de Datos**"
   ]
  },
  {
   "cell_type": "code",
   "execution_count": 4,
   "metadata": {
    "execution": {
     "iopub.execute_input": "2025-05-01T23:10:55.143457Z",
     "iopub.status.busy": "2025-05-01T23:10:55.143210Z",
     "iopub.status.idle": "2025-05-01T23:11:00.613807Z",
     "shell.execute_reply": "2025-05-01T23:11:00.613100Z",
     "shell.execute_reply.started": "2025-05-01T23:10:55.143418Z"
    },
    "trusted": true
   },
   "outputs": [
    {
     "name": "stdout",
     "output_type": "stream",
     "text": [
      "\n",
      "Loading CIFAR10  train  Dataset...\n",
      "Downloading https://www.cs.toronto.edu/~kriz/cifar-10-python.tar.gz to .data/cifar-10-python.tar.gz\n"
     ]
    },
    {
     "name": "stderr",
     "output_type": "stream",
     "text": [
      "100%|██████████| 170M/170M [00:02<00:00, 80.2MB/s] \n"
     ]
    },
    {
     "name": "stdout",
     "output_type": "stream",
     "text": [
      "Extracting .data/cifar-10-python.tar.gz to .data/\n",
      "\tTotal Len.:  50000 \n",
      " --------------------------------------------------\n",
      "\n",
      "Loading CIFAR10  test  Dataset...\n",
      "Files already downloaded and verified\n",
      "\tTotal Len.:  10000 \n",
      " --------------------------------------------------\n"
     ]
    }
   ],
   "source": [
    "class CIFAR10_dataset(Dataset):\n",
    "\n",
    "    def __init__(self, transform, partition = \"train\"):\n",
    "\n",
    "        print(\"\\nLoading CIFAR10 \", partition, \" Dataset...\")\n",
    "        self.partition = partition\n",
    "        self.transform = transform\n",
    "        if self.partition == \"train\":\n",
    "            self.data = torchvision.datasets.CIFAR10('.data/', \n",
    "                                                     train=True,\n",
    "                                                     download=True)\n",
    "        else:\n",
    "            self.data = torchvision.datasets.CIFAR10('.data/', \n",
    "                                                     train=False,\n",
    "                                                     download=True)\n",
    "        print(\"\\tTotal Len.: \", len(self.data), \"\\n\", 50*\"-\")\n",
    "    \n",
    "    def __len__(self):\n",
    "        return len(self.data)\n",
    "\n",
    "    def __getitem__(self, idx):\n",
    "\n",
    "        # Image\n",
    "        image = self.data[idx][0]\n",
    "        image_tensor = self.transform(image)\n",
    "\n",
    "        # Label\n",
    "        label = torch.tensor(self.data[idx][1])\n",
    "        label = F.one_hot(label, num_classes=10).float()\n",
    "\n",
    "        return {\"img\": image_tensor, \"label\": label}\n",
    "\n",
    "train_dataset = CIFAR10_dataset(da_train, partition=\"train\")\n",
    "test_dataset = CIFAR10_dataset(da_test, partition=\"test\")"
   ]
  },
  {
   "cell_type": "code",
   "execution_count": 5,
   "metadata": {
    "execution": {
     "iopub.execute_input": "2025-05-01T23:11:00.616269Z",
     "iopub.status.busy": "2025-05-01T23:11:00.615815Z",
     "iopub.status.idle": "2025-05-01T23:11:00.621394Z",
     "shell.execute_reply": "2025-05-01T23:11:00.620572Z",
     "shell.execute_reply.started": "2025-05-01T23:11:00.616250Z"
    },
    "trusted": true
   },
   "outputs": [
    {
     "name": "stdout",
     "output_type": "stream",
     "text": [
      "Num workers 3\n"
     ]
    }
   ],
   "source": [
    "batch_size = 64\n",
    "num_workers = multiprocessing.cpu_count()-1\n",
    "print(\"Num workers\", num_workers)\n",
    "train_dataloader = DataLoader(train_dataset, batch_size, shuffle=True, num_workers=num_workers)\n",
    "test_dataloader = DataLoader(test_dataset, batch_size, shuffle=False, num_workers=num_workers)"
   ]
  },
  {
   "cell_type": "markdown",
   "metadata": {},
   "source": [
    "### **Creación de Red**"
   ]
  },
  {
   "cell_type": "code",
   "execution_count": 6,
   "metadata": {
    "execution": {
     "iopub.execute_input": "2025-05-01T23:11:00.622470Z",
     "iopub.status.busy": "2025-05-01T23:11:00.622244Z",
     "iopub.status.idle": "2025-05-01T23:11:00.635789Z",
     "shell.execute_reply": "2025-05-01T23:11:00.635234Z",
     "shell.execute_reply.started": "2025-05-01T23:11:00.622435Z"
    },
    "trusted": true
   },
   "outputs": [],
   "source": [
    "class Bottleneck(nn.Module):\n",
    "    def __init__(self, in_channels, growth_rate):\n",
    "        super().__init__()\n",
    "        inner_channel = 4 * growth_rate\n",
    "        \n",
    "        self.bottle_neck = nn.Sequential(\n",
    "            nn.BatchNorm2d(in_channels),\n",
    "            nn.ReLU(inplace=True),\n",
    "            nn.Conv2d(in_channels, inner_channel, kernel_size=1, bias=False),\n",
    "            nn.BatchNorm2d(inner_channel),\n",
    "            nn.ReLU(inplace=True),\n",
    "            nn.Conv2d(inner_channel, growth_rate, kernel_size=3, padding=1, bias=False)\n",
    "        )\n",
    "\n",
    "    def forward(self, x):\n",
    "        return torch.cat([x, self.bottle_neck(x)], 1)\n",
    "\n",
    "\n",
    "class Transition(nn.Module):\n",
    "    def __init__(self, in_channels, out_channels):\n",
    "        super().__init__()\n",
    "        self.transition_block = nn.Sequential(\n",
    "            nn.BatchNorm2d(in_channels),\n",
    "            nn.Conv2d(in_channels, out_channels, 1, bias=False),\n",
    "            nn.AvgPool2d(2, stride=2)\n",
    "        )\n",
    "\n",
    "    def forward(self, x):\n",
    "        return self.transition_block(x)\n",
    "\n",
    "\n",
    "class DenseNet(nn.Module):\n",
    "    def __init__(self, nblocks, growth_rate=12, reduction=0.5, num_class=10):\n",
    "        super(DenseNet, self).__init__()\n",
    "        self.growth_rate = growth_rate\n",
    "        inner_channels = 2 * growth_rate\n",
    "\n",
    "        self.conv1 = nn.Conv2d(3, inner_channels, kernel_size=3, padding=1, bias=False)\n",
    "\n",
    "        self.features = nn.Sequential()\n",
    "\n",
    "        for index in range(len(nblocks) - 1):\n",
    "            for i in range(nblocks[index]):\n",
    "                self.features.append(Bottleneck(inner_channels, self.growth_rate))\n",
    "                inner_channels += self.growth_rate\n",
    "            \n",
    "            out_channels = int(reduction * inner_channels)\n",
    "            self.features.append(Transition(inner_channels, out_channels))\n",
    "            inner_channels = out_channels\n",
    "\n",
    "        for i in range(nblocks[len(nblocks) - 1]):\n",
    "            self.features.append(Bottleneck(inner_channels, self.growth_rate))\n",
    "            inner_channels += self.growth_rate\n",
    "\n",
    "        self.features.append(nn.BatchNorm2d(inner_channels))\n",
    "        self.features.append(nn.ReLU(inplace=True))\n",
    "        self.avgpool = nn.AdaptiveAvgPool2d((1, 1))\n",
    "        self.linear = nn.Linear(inner_channels, num_class)\n",
    "\n",
    "    def forward(self, x):\n",
    "        x = self.conv1(x)\n",
    "\n",
    "        for layer in self.features:\n",
    "            x = layer(x)\n",
    "\n",
    "        x = self.avgpool(x)\n",
    "        x = x.view(x.size(0), -1)\n",
    "        x = self.linear(x)\n",
    "        return x"
   ]
  },
  {
   "cell_type": "code",
   "execution_count": 7,
   "metadata": {
    "execution": {
     "iopub.execute_input": "2025-05-01T23:11:00.636751Z",
     "iopub.status.busy": "2025-05-01T23:11:00.636549Z",
     "iopub.status.idle": "2025-05-01T23:11:00.742347Z",
     "shell.execute_reply": "2025-05-01T23:11:00.741645Z",
     "shell.execute_reply.started": "2025-05-01T23:11:00.636733Z"
    },
    "trusted": true
   },
   "outputs": [
    {
     "name": "stdout",
     "output_type": "stream",
     "text": [
      "DenseNet(\n",
      "  (conv1): Conv2d(3, 48, kernel_size=(3, 3), stride=(1, 1), padding=(1, 1), bias=False)\n",
      "  (features): Sequential(\n",
      "    (0): Bottleneck(\n",
      "      (bottle_neck): Sequential(\n",
      "        (0): BatchNorm2d(48, eps=1e-05, momentum=0.1, affine=True, track_running_stats=True)\n",
      "        (1): ReLU(inplace=True)\n",
      "        (2): Conv2d(48, 96, kernel_size=(1, 1), stride=(1, 1), bias=False)\n",
      "        (3): BatchNorm2d(96, eps=1e-05, momentum=0.1, affine=True, track_running_stats=True)\n",
      "        (4): ReLU(inplace=True)\n",
      "        (5): Conv2d(96, 24, kernel_size=(3, 3), stride=(1, 1), padding=(1, 1), bias=False)\n",
      "      )\n",
      "    )\n",
      "    (1): Bottleneck(\n",
      "      (bottle_neck): Sequential(\n",
      "        (0): BatchNorm2d(72, eps=1e-05, momentum=0.1, affine=True, track_running_stats=True)\n",
      "        (1): ReLU(inplace=True)\n",
      "        (2): Conv2d(72, 96, kernel_size=(1, 1), stride=(1, 1), bias=False)\n",
      "        (3): BatchNorm2d(96, eps=1e-05, momentum=0.1, affine=True, track_running_stats=True)\n",
      "        (4): ReLU(inplace=True)\n",
      "        (5): Conv2d(96, 24, kernel_size=(3, 3), stride=(1, 1), padding=(1, 1), bias=False)\n",
      "      )\n",
      "    )\n",
      "    (2): Bottleneck(\n",
      "      (bottle_neck): Sequential(\n",
      "        (0): BatchNorm2d(96, eps=1e-05, momentum=0.1, affine=True, track_running_stats=True)\n",
      "        (1): ReLU(inplace=True)\n",
      "        (2): Conv2d(96, 96, kernel_size=(1, 1), stride=(1, 1), bias=False)\n",
      "        (3): BatchNorm2d(96, eps=1e-05, momentum=0.1, affine=True, track_running_stats=True)\n",
      "        (4): ReLU(inplace=True)\n",
      "        (5): Conv2d(96, 24, kernel_size=(3, 3), stride=(1, 1), padding=(1, 1), bias=False)\n",
      "      )\n",
      "    )\n",
      "    (3): Bottleneck(\n",
      "      (bottle_neck): Sequential(\n",
      "        (0): BatchNorm2d(120, eps=1e-05, momentum=0.1, affine=True, track_running_stats=True)\n",
      "        (1): ReLU(inplace=True)\n",
      "        (2): Conv2d(120, 96, kernel_size=(1, 1), stride=(1, 1), bias=False)\n",
      "        (3): BatchNorm2d(96, eps=1e-05, momentum=0.1, affine=True, track_running_stats=True)\n",
      "        (4): ReLU(inplace=True)\n",
      "        (5): Conv2d(96, 24, kernel_size=(3, 3), stride=(1, 1), padding=(1, 1), bias=False)\n",
      "      )\n",
      "    )\n",
      "    (4): Bottleneck(\n",
      "      (bottle_neck): Sequential(\n",
      "        (0): BatchNorm2d(144, eps=1e-05, momentum=0.1, affine=True, track_running_stats=True)\n",
      "        (1): ReLU(inplace=True)\n",
      "        (2): Conv2d(144, 96, kernel_size=(1, 1), stride=(1, 1), bias=False)\n",
      "        (3): BatchNorm2d(96, eps=1e-05, momentum=0.1, affine=True, track_running_stats=True)\n",
      "        (4): ReLU(inplace=True)\n",
      "        (5): Conv2d(96, 24, kernel_size=(3, 3), stride=(1, 1), padding=(1, 1), bias=False)\n",
      "      )\n",
      "    )\n",
      "    (5): Bottleneck(\n",
      "      (bottle_neck): Sequential(\n",
      "        (0): BatchNorm2d(168, eps=1e-05, momentum=0.1, affine=True, track_running_stats=True)\n",
      "        (1): ReLU(inplace=True)\n",
      "        (2): Conv2d(168, 96, kernel_size=(1, 1), stride=(1, 1), bias=False)\n",
      "        (3): BatchNorm2d(96, eps=1e-05, momentum=0.1, affine=True, track_running_stats=True)\n",
      "        (4): ReLU(inplace=True)\n",
      "        (5): Conv2d(96, 24, kernel_size=(3, 3), stride=(1, 1), padding=(1, 1), bias=False)\n",
      "      )\n",
      "    )\n",
      "    (6): Transition(\n",
      "      (transition_block): Sequential(\n",
      "        (0): BatchNorm2d(192, eps=1e-05, momentum=0.1, affine=True, track_running_stats=True)\n",
      "        (1): Conv2d(192, 96, kernel_size=(1, 1), stride=(1, 1), bias=False)\n",
      "        (2): AvgPool2d(kernel_size=2, stride=2, padding=0)\n",
      "      )\n",
      "    )\n",
      "    (7): Bottleneck(\n",
      "      (bottle_neck): Sequential(\n",
      "        (0): BatchNorm2d(96, eps=1e-05, momentum=0.1, affine=True, track_running_stats=True)\n",
      "        (1): ReLU(inplace=True)\n",
      "        (2): Conv2d(96, 96, kernel_size=(1, 1), stride=(1, 1), bias=False)\n",
      "        (3): BatchNorm2d(96, eps=1e-05, momentum=0.1, affine=True, track_running_stats=True)\n",
      "        (4): ReLU(inplace=True)\n",
      "        (5): Conv2d(96, 24, kernel_size=(3, 3), stride=(1, 1), padding=(1, 1), bias=False)\n",
      "      )\n",
      "    )\n",
      "    (8): Bottleneck(\n",
      "      (bottle_neck): Sequential(\n",
      "        (0): BatchNorm2d(120, eps=1e-05, momentum=0.1, affine=True, track_running_stats=True)\n",
      "        (1): ReLU(inplace=True)\n",
      "        (2): Conv2d(120, 96, kernel_size=(1, 1), stride=(1, 1), bias=False)\n",
      "        (3): BatchNorm2d(96, eps=1e-05, momentum=0.1, affine=True, track_running_stats=True)\n",
      "        (4): ReLU(inplace=True)\n",
      "        (5): Conv2d(96, 24, kernel_size=(3, 3), stride=(1, 1), padding=(1, 1), bias=False)\n",
      "      )\n",
      "    )\n",
      "    (9): Bottleneck(\n",
      "      (bottle_neck): Sequential(\n",
      "        (0): BatchNorm2d(144, eps=1e-05, momentum=0.1, affine=True, track_running_stats=True)\n",
      "        (1): ReLU(inplace=True)\n",
      "        (2): Conv2d(144, 96, kernel_size=(1, 1), stride=(1, 1), bias=False)\n",
      "        (3): BatchNorm2d(96, eps=1e-05, momentum=0.1, affine=True, track_running_stats=True)\n",
      "        (4): ReLU(inplace=True)\n",
      "        (5): Conv2d(96, 24, kernel_size=(3, 3), stride=(1, 1), padding=(1, 1), bias=False)\n",
      "      )\n",
      "    )\n",
      "    (10): Bottleneck(\n",
      "      (bottle_neck): Sequential(\n",
      "        (0): BatchNorm2d(168, eps=1e-05, momentum=0.1, affine=True, track_running_stats=True)\n",
      "        (1): ReLU(inplace=True)\n",
      "        (2): Conv2d(168, 96, kernel_size=(1, 1), stride=(1, 1), bias=False)\n",
      "        (3): BatchNorm2d(96, eps=1e-05, momentum=0.1, affine=True, track_running_stats=True)\n",
      "        (4): ReLU(inplace=True)\n",
      "        (5): Conv2d(96, 24, kernel_size=(3, 3), stride=(1, 1), padding=(1, 1), bias=False)\n",
      "      )\n",
      "    )\n",
      "    (11): Bottleneck(\n",
      "      (bottle_neck): Sequential(\n",
      "        (0): BatchNorm2d(192, eps=1e-05, momentum=0.1, affine=True, track_running_stats=True)\n",
      "        (1): ReLU(inplace=True)\n",
      "        (2): Conv2d(192, 96, kernel_size=(1, 1), stride=(1, 1), bias=False)\n",
      "        (3): BatchNorm2d(96, eps=1e-05, momentum=0.1, affine=True, track_running_stats=True)\n",
      "        (4): ReLU(inplace=True)\n",
      "        (5): Conv2d(96, 24, kernel_size=(3, 3), stride=(1, 1), padding=(1, 1), bias=False)\n",
      "      )\n",
      "    )\n",
      "    (12): Bottleneck(\n",
      "      (bottle_neck): Sequential(\n",
      "        (0): BatchNorm2d(216, eps=1e-05, momentum=0.1, affine=True, track_running_stats=True)\n",
      "        (1): ReLU(inplace=True)\n",
      "        (2): Conv2d(216, 96, kernel_size=(1, 1), stride=(1, 1), bias=False)\n",
      "        (3): BatchNorm2d(96, eps=1e-05, momentum=0.1, affine=True, track_running_stats=True)\n",
      "        (4): ReLU(inplace=True)\n",
      "        (5): Conv2d(96, 24, kernel_size=(3, 3), stride=(1, 1), padding=(1, 1), bias=False)\n",
      "      )\n",
      "    )\n",
      "    (13): Bottleneck(\n",
      "      (bottle_neck): Sequential(\n",
      "        (0): BatchNorm2d(240, eps=1e-05, momentum=0.1, affine=True, track_running_stats=True)\n",
      "        (1): ReLU(inplace=True)\n",
      "        (2): Conv2d(240, 96, kernel_size=(1, 1), stride=(1, 1), bias=False)\n",
      "        (3): BatchNorm2d(96, eps=1e-05, momentum=0.1, affine=True, track_running_stats=True)\n",
      "        (4): ReLU(inplace=True)\n",
      "        (5): Conv2d(96, 24, kernel_size=(3, 3), stride=(1, 1), padding=(1, 1), bias=False)\n",
      "      )\n",
      "    )\n",
      "    (14): Bottleneck(\n",
      "      (bottle_neck): Sequential(\n",
      "        (0): BatchNorm2d(264, eps=1e-05, momentum=0.1, affine=True, track_running_stats=True)\n",
      "        (1): ReLU(inplace=True)\n",
      "        (2): Conv2d(264, 96, kernel_size=(1, 1), stride=(1, 1), bias=False)\n",
      "        (3): BatchNorm2d(96, eps=1e-05, momentum=0.1, affine=True, track_running_stats=True)\n",
      "        (4): ReLU(inplace=True)\n",
      "        (5): Conv2d(96, 24, kernel_size=(3, 3), stride=(1, 1), padding=(1, 1), bias=False)\n",
      "      )\n",
      "    )\n",
      "    (15): Bottleneck(\n",
      "      (bottle_neck): Sequential(\n",
      "        (0): BatchNorm2d(288, eps=1e-05, momentum=0.1, affine=True, track_running_stats=True)\n",
      "        (1): ReLU(inplace=True)\n",
      "        (2): Conv2d(288, 96, kernel_size=(1, 1), stride=(1, 1), bias=False)\n",
      "        (3): BatchNorm2d(96, eps=1e-05, momentum=0.1, affine=True, track_running_stats=True)\n",
      "        (4): ReLU(inplace=True)\n",
      "        (5): Conv2d(96, 24, kernel_size=(3, 3), stride=(1, 1), padding=(1, 1), bias=False)\n",
      "      )\n",
      "    )\n",
      "    (16): Bottleneck(\n",
      "      (bottle_neck): Sequential(\n",
      "        (0): BatchNorm2d(312, eps=1e-05, momentum=0.1, affine=True, track_running_stats=True)\n",
      "        (1): ReLU(inplace=True)\n",
      "        (2): Conv2d(312, 96, kernel_size=(1, 1), stride=(1, 1), bias=False)\n",
      "        (3): BatchNorm2d(96, eps=1e-05, momentum=0.1, affine=True, track_running_stats=True)\n",
      "        (4): ReLU(inplace=True)\n",
      "        (5): Conv2d(96, 24, kernel_size=(3, 3), stride=(1, 1), padding=(1, 1), bias=False)\n",
      "      )\n",
      "    )\n",
      "    (17): Bottleneck(\n",
      "      (bottle_neck): Sequential(\n",
      "        (0): BatchNorm2d(336, eps=1e-05, momentum=0.1, affine=True, track_running_stats=True)\n",
      "        (1): ReLU(inplace=True)\n",
      "        (2): Conv2d(336, 96, kernel_size=(1, 1), stride=(1, 1), bias=False)\n",
      "        (3): BatchNorm2d(96, eps=1e-05, momentum=0.1, affine=True, track_running_stats=True)\n",
      "        (4): ReLU(inplace=True)\n",
      "        (5): Conv2d(96, 24, kernel_size=(3, 3), stride=(1, 1), padding=(1, 1), bias=False)\n",
      "      )\n",
      "    )\n",
      "    (18): Bottleneck(\n",
      "      (bottle_neck): Sequential(\n",
      "        (0): BatchNorm2d(360, eps=1e-05, momentum=0.1, affine=True, track_running_stats=True)\n",
      "        (1): ReLU(inplace=True)\n",
      "        (2): Conv2d(360, 96, kernel_size=(1, 1), stride=(1, 1), bias=False)\n",
      "        (3): BatchNorm2d(96, eps=1e-05, momentum=0.1, affine=True, track_running_stats=True)\n",
      "        (4): ReLU(inplace=True)\n",
      "        (5): Conv2d(96, 24, kernel_size=(3, 3), stride=(1, 1), padding=(1, 1), bias=False)\n",
      "      )\n",
      "    )\n",
      "    (19): Transition(\n",
      "      (transition_block): Sequential(\n",
      "        (0): BatchNorm2d(384, eps=1e-05, momentum=0.1, affine=True, track_running_stats=True)\n",
      "        (1): Conv2d(384, 192, kernel_size=(1, 1), stride=(1, 1), bias=False)\n",
      "        (2): AvgPool2d(kernel_size=2, stride=2, padding=0)\n",
      "      )\n",
      "    )\n",
      "    (20): Bottleneck(\n",
      "      (bottle_neck): Sequential(\n",
      "        (0): BatchNorm2d(192, eps=1e-05, momentum=0.1, affine=True, track_running_stats=True)\n",
      "        (1): ReLU(inplace=True)\n",
      "        (2): Conv2d(192, 96, kernel_size=(1, 1), stride=(1, 1), bias=False)\n",
      "        (3): BatchNorm2d(96, eps=1e-05, momentum=0.1, affine=True, track_running_stats=True)\n",
      "        (4): ReLU(inplace=True)\n",
      "        (5): Conv2d(96, 24, kernel_size=(3, 3), stride=(1, 1), padding=(1, 1), bias=False)\n",
      "      )\n",
      "    )\n",
      "    (21): Bottleneck(\n",
      "      (bottle_neck): Sequential(\n",
      "        (0): BatchNorm2d(216, eps=1e-05, momentum=0.1, affine=True, track_running_stats=True)\n",
      "        (1): ReLU(inplace=True)\n",
      "        (2): Conv2d(216, 96, kernel_size=(1, 1), stride=(1, 1), bias=False)\n",
      "        (3): BatchNorm2d(96, eps=1e-05, momentum=0.1, affine=True, track_running_stats=True)\n",
      "        (4): ReLU(inplace=True)\n",
      "        (5): Conv2d(96, 24, kernel_size=(3, 3), stride=(1, 1), padding=(1, 1), bias=False)\n",
      "      )\n",
      "    )\n",
      "    (22): Bottleneck(\n",
      "      (bottle_neck): Sequential(\n",
      "        (0): BatchNorm2d(240, eps=1e-05, momentum=0.1, affine=True, track_running_stats=True)\n",
      "        (1): ReLU(inplace=True)\n",
      "        (2): Conv2d(240, 96, kernel_size=(1, 1), stride=(1, 1), bias=False)\n",
      "        (3): BatchNorm2d(96, eps=1e-05, momentum=0.1, affine=True, track_running_stats=True)\n",
      "        (4): ReLU(inplace=True)\n",
      "        (5): Conv2d(96, 24, kernel_size=(3, 3), stride=(1, 1), padding=(1, 1), bias=False)\n",
      "      )\n",
      "    )\n",
      "    (23): Bottleneck(\n",
      "      (bottle_neck): Sequential(\n",
      "        (0): BatchNorm2d(264, eps=1e-05, momentum=0.1, affine=True, track_running_stats=True)\n",
      "        (1): ReLU(inplace=True)\n",
      "        (2): Conv2d(264, 96, kernel_size=(1, 1), stride=(1, 1), bias=False)\n",
      "        (3): BatchNorm2d(96, eps=1e-05, momentum=0.1, affine=True, track_running_stats=True)\n",
      "        (4): ReLU(inplace=True)\n",
      "        (5): Conv2d(96, 24, kernel_size=(3, 3), stride=(1, 1), padding=(1, 1), bias=False)\n",
      "      )\n",
      "    )\n",
      "    (24): Bottleneck(\n",
      "      (bottle_neck): Sequential(\n",
      "        (0): BatchNorm2d(288, eps=1e-05, momentum=0.1, affine=True, track_running_stats=True)\n",
      "        (1): ReLU(inplace=True)\n",
      "        (2): Conv2d(288, 96, kernel_size=(1, 1), stride=(1, 1), bias=False)\n",
      "        (3): BatchNorm2d(96, eps=1e-05, momentum=0.1, affine=True, track_running_stats=True)\n",
      "        (4): ReLU(inplace=True)\n",
      "        (5): Conv2d(96, 24, kernel_size=(3, 3), stride=(1, 1), padding=(1, 1), bias=False)\n",
      "      )\n",
      "    )\n",
      "    (25): Bottleneck(\n",
      "      (bottle_neck): Sequential(\n",
      "        (0): BatchNorm2d(312, eps=1e-05, momentum=0.1, affine=True, track_running_stats=True)\n",
      "        (1): ReLU(inplace=True)\n",
      "        (2): Conv2d(312, 96, kernel_size=(1, 1), stride=(1, 1), bias=False)\n",
      "        (3): BatchNorm2d(96, eps=1e-05, momentum=0.1, affine=True, track_running_stats=True)\n",
      "        (4): ReLU(inplace=True)\n",
      "        (5): Conv2d(96, 24, kernel_size=(3, 3), stride=(1, 1), padding=(1, 1), bias=False)\n",
      "      )\n",
      "    )\n",
      "    (26): Bottleneck(\n",
      "      (bottle_neck): Sequential(\n",
      "        (0): BatchNorm2d(336, eps=1e-05, momentum=0.1, affine=True, track_running_stats=True)\n",
      "        (1): ReLU(inplace=True)\n",
      "        (2): Conv2d(336, 96, kernel_size=(1, 1), stride=(1, 1), bias=False)\n",
      "        (3): BatchNorm2d(96, eps=1e-05, momentum=0.1, affine=True, track_running_stats=True)\n",
      "        (4): ReLU(inplace=True)\n",
      "        (5): Conv2d(96, 24, kernel_size=(3, 3), stride=(1, 1), padding=(1, 1), bias=False)\n",
      "      )\n",
      "    )\n",
      "    (27): Bottleneck(\n",
      "      (bottle_neck): Sequential(\n",
      "        (0): BatchNorm2d(360, eps=1e-05, momentum=0.1, affine=True, track_running_stats=True)\n",
      "        (1): ReLU(inplace=True)\n",
      "        (2): Conv2d(360, 96, kernel_size=(1, 1), stride=(1, 1), bias=False)\n",
      "        (3): BatchNorm2d(96, eps=1e-05, momentum=0.1, affine=True, track_running_stats=True)\n",
      "        (4): ReLU(inplace=True)\n",
      "        (5): Conv2d(96, 24, kernel_size=(3, 3), stride=(1, 1), padding=(1, 1), bias=False)\n",
      "      )\n",
      "    )\n",
      "    (28): Bottleneck(\n",
      "      (bottle_neck): Sequential(\n",
      "        (0): BatchNorm2d(384, eps=1e-05, momentum=0.1, affine=True, track_running_stats=True)\n",
      "        (1): ReLU(inplace=True)\n",
      "        (2): Conv2d(384, 96, kernel_size=(1, 1), stride=(1, 1), bias=False)\n",
      "        (3): BatchNorm2d(96, eps=1e-05, momentum=0.1, affine=True, track_running_stats=True)\n",
      "        (4): ReLU(inplace=True)\n",
      "        (5): Conv2d(96, 24, kernel_size=(3, 3), stride=(1, 1), padding=(1, 1), bias=False)\n",
      "      )\n",
      "    )\n",
      "    (29): Bottleneck(\n",
      "      (bottle_neck): Sequential(\n",
      "        (0): BatchNorm2d(408, eps=1e-05, momentum=0.1, affine=True, track_running_stats=True)\n",
      "        (1): ReLU(inplace=True)\n",
      "        (2): Conv2d(408, 96, kernel_size=(1, 1), stride=(1, 1), bias=False)\n",
      "        (3): BatchNorm2d(96, eps=1e-05, momentum=0.1, affine=True, track_running_stats=True)\n",
      "        (4): ReLU(inplace=True)\n",
      "        (5): Conv2d(96, 24, kernel_size=(3, 3), stride=(1, 1), padding=(1, 1), bias=False)\n",
      "      )\n",
      "    )\n",
      "    (30): Bottleneck(\n",
      "      (bottle_neck): Sequential(\n",
      "        (0): BatchNorm2d(432, eps=1e-05, momentum=0.1, affine=True, track_running_stats=True)\n",
      "        (1): ReLU(inplace=True)\n",
      "        (2): Conv2d(432, 96, kernel_size=(1, 1), stride=(1, 1), bias=False)\n",
      "        (3): BatchNorm2d(96, eps=1e-05, momentum=0.1, affine=True, track_running_stats=True)\n",
      "        (4): ReLU(inplace=True)\n",
      "        (5): Conv2d(96, 24, kernel_size=(3, 3), stride=(1, 1), padding=(1, 1), bias=False)\n",
      "      )\n",
      "    )\n",
      "    (31): Bottleneck(\n",
      "      (bottle_neck): Sequential(\n",
      "        (0): BatchNorm2d(456, eps=1e-05, momentum=0.1, affine=True, track_running_stats=True)\n",
      "        (1): ReLU(inplace=True)\n",
      "        (2): Conv2d(456, 96, kernel_size=(1, 1), stride=(1, 1), bias=False)\n",
      "        (3): BatchNorm2d(96, eps=1e-05, momentum=0.1, affine=True, track_running_stats=True)\n",
      "        (4): ReLU(inplace=True)\n",
      "        (5): Conv2d(96, 24, kernel_size=(3, 3), stride=(1, 1), padding=(1, 1), bias=False)\n",
      "      )\n",
      "    )\n",
      "    (32): Bottleneck(\n",
      "      (bottle_neck): Sequential(\n",
      "        (0): BatchNorm2d(480, eps=1e-05, momentum=0.1, affine=True, track_running_stats=True)\n",
      "        (1): ReLU(inplace=True)\n",
      "        (2): Conv2d(480, 96, kernel_size=(1, 1), stride=(1, 1), bias=False)\n",
      "        (3): BatchNorm2d(96, eps=1e-05, momentum=0.1, affine=True, track_running_stats=True)\n",
      "        (4): ReLU(inplace=True)\n",
      "        (5): Conv2d(96, 24, kernel_size=(3, 3), stride=(1, 1), padding=(1, 1), bias=False)\n",
      "      )\n",
      "    )\n",
      "    (33): Bottleneck(\n",
      "      (bottle_neck): Sequential(\n",
      "        (0): BatchNorm2d(504, eps=1e-05, momentum=0.1, affine=True, track_running_stats=True)\n",
      "        (1): ReLU(inplace=True)\n",
      "        (2): Conv2d(504, 96, kernel_size=(1, 1), stride=(1, 1), bias=False)\n",
      "        (3): BatchNorm2d(96, eps=1e-05, momentum=0.1, affine=True, track_running_stats=True)\n",
      "        (4): ReLU(inplace=True)\n",
      "        (5): Conv2d(96, 24, kernel_size=(3, 3), stride=(1, 1), padding=(1, 1), bias=False)\n",
      "      )\n",
      "    )\n",
      "    (34): Bottleneck(\n",
      "      (bottle_neck): Sequential(\n",
      "        (0): BatchNorm2d(528, eps=1e-05, momentum=0.1, affine=True, track_running_stats=True)\n",
      "        (1): ReLU(inplace=True)\n",
      "        (2): Conv2d(528, 96, kernel_size=(1, 1), stride=(1, 1), bias=False)\n",
      "        (3): BatchNorm2d(96, eps=1e-05, momentum=0.1, affine=True, track_running_stats=True)\n",
      "        (4): ReLU(inplace=True)\n",
      "        (5): Conv2d(96, 24, kernel_size=(3, 3), stride=(1, 1), padding=(1, 1), bias=False)\n",
      "      )\n",
      "    )\n",
      "    (35): Bottleneck(\n",
      "      (bottle_neck): Sequential(\n",
      "        (0): BatchNorm2d(552, eps=1e-05, momentum=0.1, affine=True, track_running_stats=True)\n",
      "        (1): ReLU(inplace=True)\n",
      "        (2): Conv2d(552, 96, kernel_size=(1, 1), stride=(1, 1), bias=False)\n",
      "        (3): BatchNorm2d(96, eps=1e-05, momentum=0.1, affine=True, track_running_stats=True)\n",
      "        (4): ReLU(inplace=True)\n",
      "        (5): Conv2d(96, 24, kernel_size=(3, 3), stride=(1, 1), padding=(1, 1), bias=False)\n",
      "      )\n",
      "    )\n",
      "    (36): Bottleneck(\n",
      "      (bottle_neck): Sequential(\n",
      "        (0): BatchNorm2d(576, eps=1e-05, momentum=0.1, affine=True, track_running_stats=True)\n",
      "        (1): ReLU(inplace=True)\n",
      "        (2): Conv2d(576, 96, kernel_size=(1, 1), stride=(1, 1), bias=False)\n",
      "        (3): BatchNorm2d(96, eps=1e-05, momentum=0.1, affine=True, track_running_stats=True)\n",
      "        (4): ReLU(inplace=True)\n",
      "        (5): Conv2d(96, 24, kernel_size=(3, 3), stride=(1, 1), padding=(1, 1), bias=False)\n",
      "      )\n",
      "    )\n",
      "    (37): Bottleneck(\n",
      "      (bottle_neck): Sequential(\n",
      "        (0): BatchNorm2d(600, eps=1e-05, momentum=0.1, affine=True, track_running_stats=True)\n",
      "        (1): ReLU(inplace=True)\n",
      "        (2): Conv2d(600, 96, kernel_size=(1, 1), stride=(1, 1), bias=False)\n",
      "        (3): BatchNorm2d(96, eps=1e-05, momentum=0.1, affine=True, track_running_stats=True)\n",
      "        (4): ReLU(inplace=True)\n",
      "        (5): Conv2d(96, 24, kernel_size=(3, 3), stride=(1, 1), padding=(1, 1), bias=False)\n",
      "      )\n",
      "    )\n",
      "    (38): Bottleneck(\n",
      "      (bottle_neck): Sequential(\n",
      "        (0): BatchNorm2d(624, eps=1e-05, momentum=0.1, affine=True, track_running_stats=True)\n",
      "        (1): ReLU(inplace=True)\n",
      "        (2): Conv2d(624, 96, kernel_size=(1, 1), stride=(1, 1), bias=False)\n",
      "        (3): BatchNorm2d(96, eps=1e-05, momentum=0.1, affine=True, track_running_stats=True)\n",
      "        (4): ReLU(inplace=True)\n",
      "        (5): Conv2d(96, 24, kernel_size=(3, 3), stride=(1, 1), padding=(1, 1), bias=False)\n",
      "      )\n",
      "    )\n",
      "    (39): Bottleneck(\n",
      "      (bottle_neck): Sequential(\n",
      "        (0): BatchNorm2d(648, eps=1e-05, momentum=0.1, affine=True, track_running_stats=True)\n",
      "        (1): ReLU(inplace=True)\n",
      "        (2): Conv2d(648, 96, kernel_size=(1, 1), stride=(1, 1), bias=False)\n",
      "        (3): BatchNorm2d(96, eps=1e-05, momentum=0.1, affine=True, track_running_stats=True)\n",
      "        (4): ReLU(inplace=True)\n",
      "        (5): Conv2d(96, 24, kernel_size=(3, 3), stride=(1, 1), padding=(1, 1), bias=False)\n",
      "      )\n",
      "    )\n",
      "    (40): Bottleneck(\n",
      "      (bottle_neck): Sequential(\n",
      "        (0): BatchNorm2d(672, eps=1e-05, momentum=0.1, affine=True, track_running_stats=True)\n",
      "        (1): ReLU(inplace=True)\n",
      "        (2): Conv2d(672, 96, kernel_size=(1, 1), stride=(1, 1), bias=False)\n",
      "        (3): BatchNorm2d(96, eps=1e-05, momentum=0.1, affine=True, track_running_stats=True)\n",
      "        (4): ReLU(inplace=True)\n",
      "        (5): Conv2d(96, 24, kernel_size=(3, 3), stride=(1, 1), padding=(1, 1), bias=False)\n",
      "      )\n",
      "    )\n",
      "    (41): Bottleneck(\n",
      "      (bottle_neck): Sequential(\n",
      "        (0): BatchNorm2d(696, eps=1e-05, momentum=0.1, affine=True, track_running_stats=True)\n",
      "        (1): ReLU(inplace=True)\n",
      "        (2): Conv2d(696, 96, kernel_size=(1, 1), stride=(1, 1), bias=False)\n",
      "        (3): BatchNorm2d(96, eps=1e-05, momentum=0.1, affine=True, track_running_stats=True)\n",
      "        (4): ReLU(inplace=True)\n",
      "        (5): Conv2d(96, 24, kernel_size=(3, 3), stride=(1, 1), padding=(1, 1), bias=False)\n",
      "      )\n",
      "    )\n",
      "    (42): Bottleneck(\n",
      "      (bottle_neck): Sequential(\n",
      "        (0): BatchNorm2d(720, eps=1e-05, momentum=0.1, affine=True, track_running_stats=True)\n",
      "        (1): ReLU(inplace=True)\n",
      "        (2): Conv2d(720, 96, kernel_size=(1, 1), stride=(1, 1), bias=False)\n",
      "        (3): BatchNorm2d(96, eps=1e-05, momentum=0.1, affine=True, track_running_stats=True)\n",
      "        (4): ReLU(inplace=True)\n",
      "        (5): Conv2d(96, 24, kernel_size=(3, 3), stride=(1, 1), padding=(1, 1), bias=False)\n",
      "      )\n",
      "    )\n",
      "    (43): Bottleneck(\n",
      "      (bottle_neck): Sequential(\n",
      "        (0): BatchNorm2d(744, eps=1e-05, momentum=0.1, affine=True, track_running_stats=True)\n",
      "        (1): ReLU(inplace=True)\n",
      "        (2): Conv2d(744, 96, kernel_size=(1, 1), stride=(1, 1), bias=False)\n",
      "        (3): BatchNorm2d(96, eps=1e-05, momentum=0.1, affine=True, track_running_stats=True)\n",
      "        (4): ReLU(inplace=True)\n",
      "        (5): Conv2d(96, 24, kernel_size=(3, 3), stride=(1, 1), padding=(1, 1), bias=False)\n",
      "      )\n",
      "    )\n",
      "    (44): Transition(\n",
      "      (transition_block): Sequential(\n",
      "        (0): BatchNorm2d(768, eps=1e-05, momentum=0.1, affine=True, track_running_stats=True)\n",
      "        (1): Conv2d(768, 384, kernel_size=(1, 1), stride=(1, 1), bias=False)\n",
      "        (2): AvgPool2d(kernel_size=2, stride=2, padding=0)\n",
      "      )\n",
      "    )\n",
      "    (45): Bottleneck(\n",
      "      (bottle_neck): Sequential(\n",
      "        (0): BatchNorm2d(384, eps=1e-05, momentum=0.1, affine=True, track_running_stats=True)\n",
      "        (1): ReLU(inplace=True)\n",
      "        (2): Conv2d(384, 96, kernel_size=(1, 1), stride=(1, 1), bias=False)\n",
      "        (3): BatchNorm2d(96, eps=1e-05, momentum=0.1, affine=True, track_running_stats=True)\n",
      "        (4): ReLU(inplace=True)\n",
      "        (5): Conv2d(96, 24, kernel_size=(3, 3), stride=(1, 1), padding=(1, 1), bias=False)\n",
      "      )\n",
      "    )\n",
      "    (46): Bottleneck(\n",
      "      (bottle_neck): Sequential(\n",
      "        (0): BatchNorm2d(408, eps=1e-05, momentum=0.1, affine=True, track_running_stats=True)\n",
      "        (1): ReLU(inplace=True)\n",
      "        (2): Conv2d(408, 96, kernel_size=(1, 1), stride=(1, 1), bias=False)\n",
      "        (3): BatchNorm2d(96, eps=1e-05, momentum=0.1, affine=True, track_running_stats=True)\n",
      "        (4): ReLU(inplace=True)\n",
      "        (5): Conv2d(96, 24, kernel_size=(3, 3), stride=(1, 1), padding=(1, 1), bias=False)\n",
      "      )\n",
      "    )\n",
      "    (47): Bottleneck(\n",
      "      (bottle_neck): Sequential(\n",
      "        (0): BatchNorm2d(432, eps=1e-05, momentum=0.1, affine=True, track_running_stats=True)\n",
      "        (1): ReLU(inplace=True)\n",
      "        (2): Conv2d(432, 96, kernel_size=(1, 1), stride=(1, 1), bias=False)\n",
      "        (3): BatchNorm2d(96, eps=1e-05, momentum=0.1, affine=True, track_running_stats=True)\n",
      "        (4): ReLU(inplace=True)\n",
      "        (5): Conv2d(96, 24, kernel_size=(3, 3), stride=(1, 1), padding=(1, 1), bias=False)\n",
      "      )\n",
      "    )\n",
      "    (48): Bottleneck(\n",
      "      (bottle_neck): Sequential(\n",
      "        (0): BatchNorm2d(456, eps=1e-05, momentum=0.1, affine=True, track_running_stats=True)\n",
      "        (1): ReLU(inplace=True)\n",
      "        (2): Conv2d(456, 96, kernel_size=(1, 1), stride=(1, 1), bias=False)\n",
      "        (3): BatchNorm2d(96, eps=1e-05, momentum=0.1, affine=True, track_running_stats=True)\n",
      "        (4): ReLU(inplace=True)\n",
      "        (5): Conv2d(96, 24, kernel_size=(3, 3), stride=(1, 1), padding=(1, 1), bias=False)\n",
      "      )\n",
      "    )\n",
      "    (49): Bottleneck(\n",
      "      (bottle_neck): Sequential(\n",
      "        (0): BatchNorm2d(480, eps=1e-05, momentum=0.1, affine=True, track_running_stats=True)\n",
      "        (1): ReLU(inplace=True)\n",
      "        (2): Conv2d(480, 96, kernel_size=(1, 1), stride=(1, 1), bias=False)\n",
      "        (3): BatchNorm2d(96, eps=1e-05, momentum=0.1, affine=True, track_running_stats=True)\n",
      "        (4): ReLU(inplace=True)\n",
      "        (5): Conv2d(96, 24, kernel_size=(3, 3), stride=(1, 1), padding=(1, 1), bias=False)\n",
      "      )\n",
      "    )\n",
      "    (50): Bottleneck(\n",
      "      (bottle_neck): Sequential(\n",
      "        (0): BatchNorm2d(504, eps=1e-05, momentum=0.1, affine=True, track_running_stats=True)\n",
      "        (1): ReLU(inplace=True)\n",
      "        (2): Conv2d(504, 96, kernel_size=(1, 1), stride=(1, 1), bias=False)\n",
      "        (3): BatchNorm2d(96, eps=1e-05, momentum=0.1, affine=True, track_running_stats=True)\n",
      "        (4): ReLU(inplace=True)\n",
      "        (5): Conv2d(96, 24, kernel_size=(3, 3), stride=(1, 1), padding=(1, 1), bias=False)\n",
      "      )\n",
      "    )\n",
      "    (51): Bottleneck(\n",
      "      (bottle_neck): Sequential(\n",
      "        (0): BatchNorm2d(528, eps=1e-05, momentum=0.1, affine=True, track_running_stats=True)\n",
      "        (1): ReLU(inplace=True)\n",
      "        (2): Conv2d(528, 96, kernel_size=(1, 1), stride=(1, 1), bias=False)\n",
      "        (3): BatchNorm2d(96, eps=1e-05, momentum=0.1, affine=True, track_running_stats=True)\n",
      "        (4): ReLU(inplace=True)\n",
      "        (5): Conv2d(96, 24, kernel_size=(3, 3), stride=(1, 1), padding=(1, 1), bias=False)\n",
      "      )\n",
      "    )\n",
      "    (52): Bottleneck(\n",
      "      (bottle_neck): Sequential(\n",
      "        (0): BatchNorm2d(552, eps=1e-05, momentum=0.1, affine=True, track_running_stats=True)\n",
      "        (1): ReLU(inplace=True)\n",
      "        (2): Conv2d(552, 96, kernel_size=(1, 1), stride=(1, 1), bias=False)\n",
      "        (3): BatchNorm2d(96, eps=1e-05, momentum=0.1, affine=True, track_running_stats=True)\n",
      "        (4): ReLU(inplace=True)\n",
      "        (5): Conv2d(96, 24, kernel_size=(3, 3), stride=(1, 1), padding=(1, 1), bias=False)\n",
      "      )\n",
      "    )\n",
      "    (53): Bottleneck(\n",
      "      (bottle_neck): Sequential(\n",
      "        (0): BatchNorm2d(576, eps=1e-05, momentum=0.1, affine=True, track_running_stats=True)\n",
      "        (1): ReLU(inplace=True)\n",
      "        (2): Conv2d(576, 96, kernel_size=(1, 1), stride=(1, 1), bias=False)\n",
      "        (3): BatchNorm2d(96, eps=1e-05, momentum=0.1, affine=True, track_running_stats=True)\n",
      "        (4): ReLU(inplace=True)\n",
      "        (5): Conv2d(96, 24, kernel_size=(3, 3), stride=(1, 1), padding=(1, 1), bias=False)\n",
      "      )\n",
      "    )\n",
      "    (54): Bottleneck(\n",
      "      (bottle_neck): Sequential(\n",
      "        (0): BatchNorm2d(600, eps=1e-05, momentum=0.1, affine=True, track_running_stats=True)\n",
      "        (1): ReLU(inplace=True)\n",
      "        (2): Conv2d(600, 96, kernel_size=(1, 1), stride=(1, 1), bias=False)\n",
      "        (3): BatchNorm2d(96, eps=1e-05, momentum=0.1, affine=True, track_running_stats=True)\n",
      "        (4): ReLU(inplace=True)\n",
      "        (5): Conv2d(96, 24, kernel_size=(3, 3), stride=(1, 1), padding=(1, 1), bias=False)\n",
      "      )\n",
      "    )\n",
      "    (55): Bottleneck(\n",
      "      (bottle_neck): Sequential(\n",
      "        (0): BatchNorm2d(624, eps=1e-05, momentum=0.1, affine=True, track_running_stats=True)\n",
      "        (1): ReLU(inplace=True)\n",
      "        (2): Conv2d(624, 96, kernel_size=(1, 1), stride=(1, 1), bias=False)\n",
      "        (3): BatchNorm2d(96, eps=1e-05, momentum=0.1, affine=True, track_running_stats=True)\n",
      "        (4): ReLU(inplace=True)\n",
      "        (5): Conv2d(96, 24, kernel_size=(3, 3), stride=(1, 1), padding=(1, 1), bias=False)\n",
      "      )\n",
      "    )\n",
      "    (56): Bottleneck(\n",
      "      (bottle_neck): Sequential(\n",
      "        (0): BatchNorm2d(648, eps=1e-05, momentum=0.1, affine=True, track_running_stats=True)\n",
      "        (1): ReLU(inplace=True)\n",
      "        (2): Conv2d(648, 96, kernel_size=(1, 1), stride=(1, 1), bias=False)\n",
      "        (3): BatchNorm2d(96, eps=1e-05, momentum=0.1, affine=True, track_running_stats=True)\n",
      "        (4): ReLU(inplace=True)\n",
      "        (5): Conv2d(96, 24, kernel_size=(3, 3), stride=(1, 1), padding=(1, 1), bias=False)\n",
      "      )\n",
      "    )\n",
      "    (57): Bottleneck(\n",
      "      (bottle_neck): Sequential(\n",
      "        (0): BatchNorm2d(672, eps=1e-05, momentum=0.1, affine=True, track_running_stats=True)\n",
      "        (1): ReLU(inplace=True)\n",
      "        (2): Conv2d(672, 96, kernel_size=(1, 1), stride=(1, 1), bias=False)\n",
      "        (3): BatchNorm2d(96, eps=1e-05, momentum=0.1, affine=True, track_running_stats=True)\n",
      "        (4): ReLU(inplace=True)\n",
      "        (5): Conv2d(96, 24, kernel_size=(3, 3), stride=(1, 1), padding=(1, 1), bias=False)\n",
      "      )\n",
      "    )\n",
      "    (58): Bottleneck(\n",
      "      (bottle_neck): Sequential(\n",
      "        (0): BatchNorm2d(696, eps=1e-05, momentum=0.1, affine=True, track_running_stats=True)\n",
      "        (1): ReLU(inplace=True)\n",
      "        (2): Conv2d(696, 96, kernel_size=(1, 1), stride=(1, 1), bias=False)\n",
      "        (3): BatchNorm2d(96, eps=1e-05, momentum=0.1, affine=True, track_running_stats=True)\n",
      "        (4): ReLU(inplace=True)\n",
      "        (5): Conv2d(96, 24, kernel_size=(3, 3), stride=(1, 1), padding=(1, 1), bias=False)\n",
      "      )\n",
      "    )\n",
      "    (59): Bottleneck(\n",
      "      (bottle_neck): Sequential(\n",
      "        (0): BatchNorm2d(720, eps=1e-05, momentum=0.1, affine=True, track_running_stats=True)\n",
      "        (1): ReLU(inplace=True)\n",
      "        (2): Conv2d(720, 96, kernel_size=(1, 1), stride=(1, 1), bias=False)\n",
      "        (3): BatchNorm2d(96, eps=1e-05, momentum=0.1, affine=True, track_running_stats=True)\n",
      "        (4): ReLU(inplace=True)\n",
      "        (5): Conv2d(96, 24, kernel_size=(3, 3), stride=(1, 1), padding=(1, 1), bias=False)\n",
      "      )\n",
      "    )\n",
      "    (60): Bottleneck(\n",
      "      (bottle_neck): Sequential(\n",
      "        (0): BatchNorm2d(744, eps=1e-05, momentum=0.1, affine=True, track_running_stats=True)\n",
      "        (1): ReLU(inplace=True)\n",
      "        (2): Conv2d(744, 96, kernel_size=(1, 1), stride=(1, 1), bias=False)\n",
      "        (3): BatchNorm2d(96, eps=1e-05, momentum=0.1, affine=True, track_running_stats=True)\n",
      "        (4): ReLU(inplace=True)\n",
      "        (5): Conv2d(96, 24, kernel_size=(3, 3), stride=(1, 1), padding=(1, 1), bias=False)\n",
      "      )\n",
      "    )\n",
      "    (61): BatchNorm2d(768, eps=1e-05, momentum=0.1, affine=True, track_running_stats=True)\n",
      "    (62): ReLU(inplace=True)\n",
      "  )\n",
      "  (avgpool): AdaptiveAvgPool2d(output_size=(1, 1))\n",
      "  (linear): Linear(in_features=768, out_features=10, bias=True)\n",
      ")\n",
      "Params:  3930826\n"
     ]
    }
   ],
   "source": [
    "nblocks = [6, 12, 24, 16]\n",
    "growth_rate = 24\n",
    "net = DenseNet(nblocks, growth_rate)\n",
    "print(net)\n",
    "\n",
    "def count_parameters(model):\n",
    "    return sum(p.numel() for p in model.parameters() if p.requires_grad)\n",
    "print(\"Params: \", count_parameters(net))"
   ]
  },
  {
   "cell_type": "code",
   "execution_count": 8,
   "metadata": {
    "execution": {
     "iopub.execute_input": "2025-05-01T23:11:00.743387Z",
     "iopub.status.busy": "2025-05-01T23:11:00.743144Z",
     "iopub.status.idle": "2025-05-01T23:11:00.748774Z",
     "shell.execute_reply": "2025-05-01T23:11:00.748040Z",
     "shell.execute_reply.started": "2025-05-01T23:11:00.743369Z"
    },
    "trusted": true
   },
   "outputs": [],
   "source": [
    "criterion = nn.CrossEntropyLoss()\n",
    "optimizer = optim.Adam(net.parameters(), lr=0.001, weight_decay=1e-6)\n",
    "lr_scheduler = optim.lr_scheduler.ReduceLROnPlateau(optimizer, factor=0.1, patience=10, min_lr=0.00001)\n",
    "epochs = 100"
   ]
  },
  {
   "cell_type": "markdown",
   "metadata": {},
   "source": [
    "### **Entrenamiento**"
   ]
  },
  {
   "cell_type": "code",
   "execution_count": 9,
   "metadata": {
    "execution": {
     "iopub.execute_input": "2025-05-01T23:11:00.749823Z",
     "iopub.status.busy": "2025-05-01T23:11:00.749526Z",
     "iopub.status.idle": "2025-05-02T03:05:34.167412Z",
     "shell.execute_reply": "2025-05-02T03:05:34.166596Z",
     "shell.execute_reply.started": "2025-05-01T23:11:00.749780Z"
    },
    "trusted": true
   },
   "outputs": [
    {
     "name": "stdout",
     "output_type": "stream",
     "text": [
      "\n",
      "---- Start Training ----\n"
     ]
    },
    {
     "name": "stderr",
     "output_type": "stream",
     "text": [
      "Epoch 0: 100%|██████████| 782/782 [02:08<00:00,  6.10batch/s]\n",
      "Test 0: 100%|██████████| 157/157 [00:09<00:00, 17.35batch/s]\n"
     ]
    },
    {
     "name": "stdout",
     "output_type": "stream",
     "text": [
      "[Epoch 1] Train Loss: 1.552376 - Test Loss: 1.348371 - Train Accuracy: 42.73% - Test Accuracy: 52.72%\n"
     ]
    },
    {
     "name": "stderr",
     "output_type": "stream",
     "text": [
      "Epoch 1: 100%|██████████| 782/782 [02:11<00:00,  5.93batch/s]\n",
      "Test 1: 100%|██████████| 157/157 [00:09<00:00, 17.26batch/s]"
     ]
    },
    {
     "name": "stdout",
     "output_type": "stream",
     "text": [
      "[Epoch 2] Train Loss: 1.192162 - Test Loss: 1.626044 - Train Accuracy: 57.40% - Test Accuracy: 52.07%\n"
     ]
    },
    {
     "name": "stderr",
     "output_type": "stream",
     "text": [
      "\n",
      "Epoch 2: 100%|██████████| 782/782 [02:11<00:00,  5.93batch/s]\n",
      "Test 2: 100%|██████████| 157/157 [00:09<00:00, 17.33batch/s]\n"
     ]
    },
    {
     "name": "stdout",
     "output_type": "stream",
     "text": [
      "[Epoch 3] Train Loss: 1.025812 - Test Loss: 1.124429 - Train Accuracy: 63.80% - Test Accuracy: 63.70%\n"
     ]
    },
    {
     "name": "stderr",
     "output_type": "stream",
     "text": [
      "Epoch 3: 100%|██████████| 782/782 [02:11<00:00,  5.94batch/s]\n",
      "Test 3: 100%|██████████| 157/157 [00:09<00:00, 17.36batch/s]\n"
     ]
    },
    {
     "name": "stdout",
     "output_type": "stream",
     "text": [
      "[Epoch 4] Train Loss: 0.908153 - Test Loss: 0.979145 - Train Accuracy: 68.13% - Test Accuracy: 68.15%\n"
     ]
    },
    {
     "name": "stderr",
     "output_type": "stream",
     "text": [
      "Epoch 4: 100%|██████████| 782/782 [02:11<00:00,  5.93batch/s]\n",
      "Test 4: 100%|██████████| 157/157 [00:09<00:00, 17.26batch/s]\n"
     ]
    },
    {
     "name": "stdout",
     "output_type": "stream",
     "text": [
      "[Epoch 5] Train Loss: 0.811666 - Test Loss: 0.846097 - Train Accuracy: 71.64% - Test Accuracy: 72.16%\n"
     ]
    },
    {
     "name": "stderr",
     "output_type": "stream",
     "text": [
      "Epoch 5: 100%|██████████| 782/782 [02:12<00:00,  5.90batch/s]\n",
      "Test 5: 100%|██████████| 157/157 [00:09<00:00, 17.20batch/s]\n"
     ]
    },
    {
     "name": "stdout",
     "output_type": "stream",
     "text": [
      "[Epoch 6] Train Loss: 0.733009 - Test Loss: 0.747894 - Train Accuracy: 74.43% - Test Accuracy: 75.97%\n"
     ]
    },
    {
     "name": "stderr",
     "output_type": "stream",
     "text": [
      "Epoch 6: 100%|██████████| 782/782 [02:12<00:00,  5.90batch/s]\n",
      "Test 6: 100%|██████████| 157/157 [00:09<00:00, 17.16batch/s]\n"
     ]
    },
    {
     "name": "stdout",
     "output_type": "stream",
     "text": [
      "[Epoch 7] Train Loss: 0.667779 - Test Loss: 0.706822 - Train Accuracy: 76.67% - Test Accuracy: 77.46%\n"
     ]
    },
    {
     "name": "stderr",
     "output_type": "stream",
     "text": [
      "Epoch 7: 100%|██████████| 782/782 [02:11<00:00,  5.93batch/s]\n",
      "Test 7: 100%|██████████| 157/157 [00:09<00:00, 17.28batch/s]\n"
     ]
    },
    {
     "name": "stdout",
     "output_type": "stream",
     "text": [
      "[Epoch 8] Train Loss: 0.622634 - Test Loss: 0.613352 - Train Accuracy: 78.20% - Test Accuracy: 80.16%\n"
     ]
    },
    {
     "name": "stderr",
     "output_type": "stream",
     "text": [
      "Epoch 8: 100%|██████████| 782/782 [02:11<00:00,  5.95batch/s]\n",
      "Test 8: 100%|██████████| 157/157 [00:09<00:00, 17.31batch/s]\n"
     ]
    },
    {
     "name": "stdout",
     "output_type": "stream",
     "text": [
      "[Epoch 9] Train Loss: 0.582020 - Test Loss: 0.585468 - Train Accuracy: 79.79% - Test Accuracy: 80.86%\n"
     ]
    },
    {
     "name": "stderr",
     "output_type": "stream",
     "text": [
      "Epoch 9: 100%|██████████| 782/782 [02:11<00:00,  5.96batch/s]\n",
      "Test 9: 100%|██████████| 157/157 [00:09<00:00, 17.35batch/s]\n"
     ]
    },
    {
     "name": "stdout",
     "output_type": "stream",
     "text": [
      "[Epoch 10] Train Loss: 0.547573 - Test Loss: 0.601501 - Train Accuracy: 81.03% - Test Accuracy: 81.00%\n"
     ]
    },
    {
     "name": "stderr",
     "output_type": "stream",
     "text": [
      "Epoch 10: 100%|██████████| 782/782 [02:11<00:00,  5.95batch/s]\n",
      "Test 10: 100%|██████████| 157/157 [00:09<00:00, 17.33batch/s]\n"
     ]
    },
    {
     "name": "stdout",
     "output_type": "stream",
     "text": [
      "[Epoch 11] Train Loss: 0.516860 - Test Loss: 0.512805 - Train Accuracy: 82.15% - Test Accuracy: 83.05%\n"
     ]
    },
    {
     "name": "stderr",
     "output_type": "stream",
     "text": [
      "Epoch 11: 100%|██████████| 782/782 [02:11<00:00,  5.93batch/s]\n",
      "Test 11: 100%|██████████| 157/157 [00:09<00:00, 17.25batch/s]\n"
     ]
    },
    {
     "name": "stdout",
     "output_type": "stream",
     "text": [
      "[Epoch 12] Train Loss: 0.490166 - Test Loss: 0.475883 - Train Accuracy: 82.87% - Test Accuracy: 84.18%\n"
     ]
    },
    {
     "name": "stderr",
     "output_type": "stream",
     "text": [
      "Epoch 12: 100%|██████████| 782/782 [02:12<00:00,  5.92batch/s]\n",
      "Test 12: 100%|██████████| 157/157 [00:09<00:00, 17.32batch/s]\n"
     ]
    },
    {
     "name": "stdout",
     "output_type": "stream",
     "text": [
      "[Epoch 13] Train Loss: 0.463802 - Test Loss: 0.478143 - Train Accuracy: 83.74% - Test Accuracy: 84.68%\n"
     ]
    },
    {
     "name": "stderr",
     "output_type": "stream",
     "text": [
      "Epoch 13: 100%|██████████| 782/782 [02:11<00:00,  5.94batch/s]\n",
      "Test 13: 100%|██████████| 157/157 [00:09<00:00, 17.36batch/s]\n"
     ]
    },
    {
     "name": "stdout",
     "output_type": "stream",
     "text": [
      "[Epoch 14] Train Loss: 0.446115 - Test Loss: 0.443671 - Train Accuracy: 84.46% - Test Accuracy: 85.65%\n"
     ]
    },
    {
     "name": "stderr",
     "output_type": "stream",
     "text": [
      "Epoch 14: 100%|██████████| 782/782 [02:11<00:00,  5.95batch/s]\n",
      "Test 14: 100%|██████████| 157/157 [00:09<00:00, 17.41batch/s]\n"
     ]
    },
    {
     "name": "stdout",
     "output_type": "stream",
     "text": [
      "[Epoch 15] Train Loss: 0.428698 - Test Loss: 0.431682 - Train Accuracy: 85.06% - Test Accuracy: 86.00%\n"
     ]
    },
    {
     "name": "stderr",
     "output_type": "stream",
     "text": [
      "Epoch 15: 100%|██████████| 782/782 [02:11<00:00,  5.94batch/s]\n",
      "Test 15: 100%|██████████| 157/157 [00:09<00:00, 17.28batch/s]\n"
     ]
    },
    {
     "name": "stdout",
     "output_type": "stream",
     "text": [
      "[Epoch 16] Train Loss: 0.407480 - Test Loss: 0.420309 - Train Accuracy: 85.69% - Test Accuracy: 86.98%\n"
     ]
    },
    {
     "name": "stderr",
     "output_type": "stream",
     "text": [
      "Epoch 16: 100%|██████████| 782/782 [02:12<00:00,  5.92batch/s]\n",
      "Test 16: 100%|██████████| 157/157 [00:09<00:00, 17.25batch/s]"
     ]
    },
    {
     "name": "stdout",
     "output_type": "stream",
     "text": [
      "[Epoch 17] Train Loss: 0.391924 - Test Loss: 0.428369 - Train Accuracy: 86.46% - Test Accuracy: 86.15%\n"
     ]
    },
    {
     "name": "stderr",
     "output_type": "stream",
     "text": [
      "\n",
      "Epoch 17: 100%|██████████| 782/782 [02:12<00:00,  5.92batch/s]\n",
      "Test 17: 100%|██████████| 157/157 [00:09<00:00, 17.21batch/s]"
     ]
    },
    {
     "name": "stdout",
     "output_type": "stream",
     "text": [
      "[Epoch 18] Train Loss: 0.375069 - Test Loss: 0.451646 - Train Accuracy: 86.97% - Test Accuracy: 85.94%\n"
     ]
    },
    {
     "name": "stderr",
     "output_type": "stream",
     "text": [
      "\n",
      "Epoch 18: 100%|██████████| 782/782 [02:12<00:00,  5.91batch/s]\n",
      "Test 18: 100%|██████████| 157/157 [00:09<00:00, 17.22batch/s]"
     ]
    },
    {
     "name": "stdout",
     "output_type": "stream",
     "text": [
      "[Epoch 19] Train Loss: 0.357209 - Test Loss: 0.448892 - Train Accuracy: 87.70% - Test Accuracy: 86.12%\n"
     ]
    },
    {
     "name": "stderr",
     "output_type": "stream",
     "text": [
      "\n",
      "Epoch 19: 100%|██████████| 782/782 [02:12<00:00,  5.91batch/s]\n",
      "Test 19: 100%|██████████| 157/157 [00:09<00:00, 17.17batch/s]\n"
     ]
    },
    {
     "name": "stdout",
     "output_type": "stream",
     "text": [
      "[Epoch 20] Train Loss: 0.356172 - Test Loss: 0.410966 - Train Accuracy: 87.63% - Test Accuracy: 87.02%\n"
     ]
    },
    {
     "name": "stderr",
     "output_type": "stream",
     "text": [
      "Epoch 20: 100%|██████████| 782/782 [02:12<00:00,  5.91batch/s]\n",
      "Test 20: 100%|██████████| 157/157 [00:09<00:00, 17.29batch/s]\n"
     ]
    },
    {
     "name": "stdout",
     "output_type": "stream",
     "text": [
      "[Epoch 21] Train Loss: 0.335311 - Test Loss: 0.375527 - Train Accuracy: 88.26% - Test Accuracy: 88.04%\n"
     ]
    },
    {
     "name": "stderr",
     "output_type": "stream",
     "text": [
      "Epoch 21: 100%|██████████| 782/782 [02:11<00:00,  5.94batch/s]\n",
      "Test 21: 100%|██████████| 157/157 [00:09<00:00, 17.38batch/s]\n"
     ]
    },
    {
     "name": "stdout",
     "output_type": "stream",
     "text": [
      "[Epoch 22] Train Loss: 0.321634 - Test Loss: 0.383037 - Train Accuracy: 88.90% - Test Accuracy: 88.15%\n"
     ]
    },
    {
     "name": "stderr",
     "output_type": "stream",
     "text": [
      "Epoch 22: 100%|██████████| 782/782 [02:11<00:00,  5.93batch/s]\n",
      "Test 22: 100%|██████████| 157/157 [00:09<00:00, 17.23batch/s]"
     ]
    },
    {
     "name": "stdout",
     "output_type": "stream",
     "text": [
      "[Epoch 23] Train Loss: 0.312840 - Test Loss: 0.433286 - Train Accuracy: 89.08% - Test Accuracy: 86.58%\n"
     ]
    },
    {
     "name": "stderr",
     "output_type": "stream",
     "text": [
      "\n",
      "Epoch 23: 100%|██████████| 782/782 [02:11<00:00,  5.93batch/s]\n",
      "Test 23: 100%|██████████| 157/157 [00:09<00:00, 17.31batch/s]\n"
     ]
    },
    {
     "name": "stdout",
     "output_type": "stream",
     "text": [
      "[Epoch 24] Train Loss: 0.307650 - Test Loss: 0.371985 - Train Accuracy: 89.20% - Test Accuracy: 88.23%\n"
     ]
    },
    {
     "name": "stderr",
     "output_type": "stream",
     "text": [
      "Epoch 24: 100%|██████████| 782/782 [02:11<00:00,  5.94batch/s]\n",
      "Test 24: 100%|██████████| 157/157 [00:09<00:00, 17.30batch/s]\n"
     ]
    },
    {
     "name": "stdout",
     "output_type": "stream",
     "text": [
      "[Epoch 25] Train Loss: 0.290326 - Test Loss: 0.362767 - Train Accuracy: 89.85% - Test Accuracy: 88.94%\n"
     ]
    },
    {
     "name": "stderr",
     "output_type": "stream",
     "text": [
      "Epoch 25: 100%|██████████| 782/782 [02:11<00:00,  5.96batch/s]\n",
      "Test 25: 100%|██████████| 157/157 [00:09<00:00, 17.34batch/s]"
     ]
    },
    {
     "name": "stdout",
     "output_type": "stream",
     "text": [
      "[Epoch 26] Train Loss: 0.281041 - Test Loss: 0.389114 - Train Accuracy: 90.21% - Test Accuracy: 87.89%\n"
     ]
    },
    {
     "name": "stderr",
     "output_type": "stream",
     "text": [
      "\n",
      "Epoch 26: 100%|██████████| 782/782 [02:11<00:00,  5.95batch/s]\n",
      "Test 26: 100%|██████████| 157/157 [00:09<00:00, 17.36batch/s]\n"
     ]
    },
    {
     "name": "stdout",
     "output_type": "stream",
     "text": [
      "[Epoch 27] Train Loss: 0.272903 - Test Loss: 0.337318 - Train Accuracy: 90.39% - Test Accuracy: 89.42%\n"
     ]
    },
    {
     "name": "stderr",
     "output_type": "stream",
     "text": [
      "Epoch 27: 100%|██████████| 782/782 [02:11<00:00,  5.95batch/s]\n",
      "Test 27: 100%|██████████| 157/157 [00:09<00:00, 17.36batch/s]"
     ]
    },
    {
     "name": "stdout",
     "output_type": "stream",
     "text": [
      "[Epoch 28] Train Loss: 0.266284 - Test Loss: 0.406350 - Train Accuracy: 90.64% - Test Accuracy: 88.55%\n"
     ]
    },
    {
     "name": "stderr",
     "output_type": "stream",
     "text": [
      "\n",
      "Epoch 28: 100%|██████████| 782/782 [02:11<00:00,  5.95batch/s]\n",
      "Test 28: 100%|██████████| 157/157 [00:09<00:00, 17.32batch/s]"
     ]
    },
    {
     "name": "stdout",
     "output_type": "stream",
     "text": [
      "[Epoch 29] Train Loss: 0.256939 - Test Loss: 0.430803 - Train Accuracy: 91.05% - Test Accuracy: 87.52%\n"
     ]
    },
    {
     "name": "stderr",
     "output_type": "stream",
     "text": [
      "\n",
      "Epoch 29: 100%|██████████| 782/782 [02:11<00:00,  5.95batch/s]\n",
      "Test 29: 100%|██████████| 157/157 [00:09<00:00, 17.33batch/s]"
     ]
    },
    {
     "name": "stdout",
     "output_type": "stream",
     "text": [
      "[Epoch 30] Train Loss: 0.248954 - Test Loss: 0.391865 - Train Accuracy: 91.26% - Test Accuracy: 88.23%\n"
     ]
    },
    {
     "name": "stderr",
     "output_type": "stream",
     "text": [
      "\n",
      "Epoch 30: 100%|██████████| 782/782 [02:11<00:00,  5.94batch/s]\n",
      "Test 30: 100%|██████████| 157/157 [00:09<00:00, 17.31batch/s]"
     ]
    },
    {
     "name": "stdout",
     "output_type": "stream",
     "text": [
      "[Epoch 31] Train Loss: 0.244284 - Test Loss: 0.358377 - Train Accuracy: 91.46% - Test Accuracy: 89.05%\n"
     ]
    },
    {
     "name": "stderr",
     "output_type": "stream",
     "text": [
      "\n",
      "Epoch 31: 100%|██████████| 782/782 [02:11<00:00,  5.93batch/s]\n",
      "Test 31: 100%|██████████| 157/157 [00:09<00:00, 17.24batch/s]"
     ]
    },
    {
     "name": "stdout",
     "output_type": "stream",
     "text": [
      "[Epoch 32] Train Loss: 0.235264 - Test Loss: 0.445202 - Train Accuracy: 91.76% - Test Accuracy: 87.73%\n"
     ]
    },
    {
     "name": "stderr",
     "output_type": "stream",
     "text": [
      "\n",
      "Epoch 32: 100%|██████████| 782/782 [02:12<00:00,  5.92batch/s]\n",
      "Test 32: 100%|██████████| 157/157 [00:09<00:00, 17.26batch/s]\n"
     ]
    },
    {
     "name": "stdout",
     "output_type": "stream",
     "text": [
      "[Epoch 33] Train Loss: 0.234889 - Test Loss: 0.335003 - Train Accuracy: 91.60% - Test Accuracy: 89.89%\n"
     ]
    },
    {
     "name": "stderr",
     "output_type": "stream",
     "text": [
      "Epoch 33: 100%|██████████| 782/782 [02:12<00:00,  5.92batch/s]\n",
      "Test 33: 100%|██████████| 157/157 [00:09<00:00, 17.28batch/s]\n"
     ]
    },
    {
     "name": "stdout",
     "output_type": "stream",
     "text": [
      "[Epoch 34] Train Loss: 0.221200 - Test Loss: 0.330048 - Train Accuracy: 92.28% - Test Accuracy: 90.18%\n"
     ]
    },
    {
     "name": "stderr",
     "output_type": "stream",
     "text": [
      "Epoch 34: 100%|██████████| 782/782 [02:11<00:00,  5.96batch/s]\n",
      "Test 34: 100%|██████████| 157/157 [00:09<00:00, 17.43batch/s]\n"
     ]
    },
    {
     "name": "stdout",
     "output_type": "stream",
     "text": [
      "[Epoch 35] Train Loss: 0.217505 - Test Loss: 0.334149 - Train Accuracy: 92.50% - Test Accuracy: 90.23%\n"
     ]
    },
    {
     "name": "stderr",
     "output_type": "stream",
     "text": [
      "Epoch 35: 100%|██████████| 782/782 [02:11<00:00,  5.96batch/s]\n",
      "Test 35: 100%|██████████| 157/157 [00:09<00:00, 17.29batch/s]\n"
     ]
    },
    {
     "name": "stdout",
     "output_type": "stream",
     "text": [
      "[Epoch 36] Train Loss: 0.208903 - Test Loss: 0.326749 - Train Accuracy: 92.59% - Test Accuracy: 90.24%\n"
     ]
    },
    {
     "name": "stderr",
     "output_type": "stream",
     "text": [
      "Epoch 36: 100%|██████████| 782/782 [02:11<00:00,  5.93batch/s]\n",
      "Test 36: 100%|██████████| 157/157 [00:09<00:00, 17.24batch/s]"
     ]
    },
    {
     "name": "stdout",
     "output_type": "stream",
     "text": [
      "[Epoch 37] Train Loss: 0.208155 - Test Loss: 0.355683 - Train Accuracy: 92.66% - Test Accuracy: 89.65%\n"
     ]
    },
    {
     "name": "stderr",
     "output_type": "stream",
     "text": [
      "\n",
      "Epoch 37: 100%|██████████| 782/782 [02:11<00:00,  5.93batch/s]\n",
      "Test 37: 100%|██████████| 157/157 [00:09<00:00, 17.24batch/s]"
     ]
    },
    {
     "name": "stdout",
     "output_type": "stream",
     "text": [
      "[Epoch 38] Train Loss: 0.196659 - Test Loss: 0.369065 - Train Accuracy: 93.09% - Test Accuracy: 89.48%\n"
     ]
    },
    {
     "name": "stderr",
     "output_type": "stream",
     "text": [
      "\n",
      "Epoch 38: 100%|██████████| 782/782 [02:11<00:00,  5.93batch/s]\n",
      "Test 38: 100%|██████████| 157/157 [00:09<00:00, 17.26batch/s]"
     ]
    },
    {
     "name": "stdout",
     "output_type": "stream",
     "text": [
      "[Epoch 39] Train Loss: 0.197051 - Test Loss: 0.341463 - Train Accuracy: 93.05% - Test Accuracy: 90.20%\n"
     ]
    },
    {
     "name": "stderr",
     "output_type": "stream",
     "text": [
      "\n",
      "Epoch 39: 100%|██████████| 782/782 [02:11<00:00,  5.93batch/s]\n",
      "Test 39: 100%|██████████| 157/157 [00:09<00:00, 17.31batch/s]\n"
     ]
    },
    {
     "name": "stdout",
     "output_type": "stream",
     "text": [
      "[Epoch 40] Train Loss: 0.193191 - Test Loss: 0.342211 - Train Accuracy: 93.29% - Test Accuracy: 90.33%\n"
     ]
    },
    {
     "name": "stderr",
     "output_type": "stream",
     "text": [
      "Epoch 40: 100%|██████████| 782/782 [02:11<00:00,  5.92batch/s]\n",
      "Test 40: 100%|██████████| 157/157 [00:09<00:00, 17.29batch/s]"
     ]
    },
    {
     "name": "stdout",
     "output_type": "stream",
     "text": [
      "[Epoch 41] Train Loss: 0.188063 - Test Loss: 0.357381 - Train Accuracy: 93.33% - Test Accuracy: 90.24%\n"
     ]
    },
    {
     "name": "stderr",
     "output_type": "stream",
     "text": [
      "\n",
      "Epoch 41: 100%|██████████| 782/782 [02:11<00:00,  5.93batch/s]\n",
      "Test 41: 100%|██████████| 157/157 [00:09<00:00, 17.28batch/s]"
     ]
    },
    {
     "name": "stdout",
     "output_type": "stream",
     "text": [
      "[Epoch 42] Train Loss: 0.181222 - Test Loss: 0.456384 - Train Accuracy: 93.51% - Test Accuracy: 88.02%\n"
     ]
    },
    {
     "name": "stderr",
     "output_type": "stream",
     "text": [
      "\n",
      "Epoch 42: 100%|██████████| 782/782 [02:11<00:00,  5.94batch/s]\n",
      "Test 42: 100%|██████████| 157/157 [00:09<00:00, 17.30batch/s]\n"
     ]
    },
    {
     "name": "stdout",
     "output_type": "stream",
     "text": [
      "[Epoch 43] Train Loss: 0.176625 - Test Loss: 0.350427 - Train Accuracy: 93.74% - Test Accuracy: 90.73%\n"
     ]
    },
    {
     "name": "stderr",
     "output_type": "stream",
     "text": [
      "Epoch 43: 100%|██████████| 782/782 [02:11<00:00,  5.93batch/s]\n",
      "Test 43: 100%|██████████| 157/157 [00:09<00:00, 17.28batch/s]"
     ]
    },
    {
     "name": "stdout",
     "output_type": "stream",
     "text": [
      "[Epoch 44] Train Loss: 0.174924 - Test Loss: 0.385914 - Train Accuracy: 93.82% - Test Accuracy: 90.29%\n"
     ]
    },
    {
     "name": "stderr",
     "output_type": "stream",
     "text": [
      "\n",
      "Epoch 44: 100%|██████████| 782/782 [02:12<00:00,  5.92batch/s]\n",
      "Test 44: 100%|██████████| 157/157 [00:09<00:00, 17.29batch/s]"
     ]
    },
    {
     "name": "stdout",
     "output_type": "stream",
     "text": [
      "[Epoch 45] Train Loss: 0.168745 - Test Loss: 0.424226 - Train Accuracy: 93.97% - Test Accuracy: 89.13%\n"
     ]
    },
    {
     "name": "stderr",
     "output_type": "stream",
     "text": [
      "\n",
      "Epoch 45: 100%|██████████| 782/782 [02:11<00:00,  5.93batch/s]\n",
      "Test 45: 100%|██████████| 157/157 [00:09<00:00, 17.34batch/s]"
     ]
    },
    {
     "name": "stdout",
     "output_type": "stream",
     "text": [
      "[Epoch 46] Train Loss: 0.169724 - Test Loss: 0.370528 - Train Accuracy: 94.08% - Test Accuracy: 89.89%\n"
     ]
    },
    {
     "name": "stderr",
     "output_type": "stream",
     "text": [
      "\n",
      "Epoch 46: 100%|██████████| 782/782 [02:11<00:00,  5.96batch/s]\n",
      "Test 46: 100%|██████████| 157/157 [00:09<00:00, 17.39batch/s]"
     ]
    },
    {
     "name": "stdout",
     "output_type": "stream",
     "text": [
      "[Epoch 47] Train Loss: 0.166160 - Test Loss: 0.364204 - Train Accuracy: 94.08% - Test Accuracy: 90.12%\n"
     ]
    },
    {
     "name": "stderr",
     "output_type": "stream",
     "text": [
      "\n",
      "Epoch 47: 100%|██████████| 782/782 [02:11<00:00,  5.97batch/s]\n",
      "Test 47: 100%|██████████| 157/157 [00:09<00:00, 17.38batch/s]\n"
     ]
    },
    {
     "name": "stdout",
     "output_type": "stream",
     "text": [
      "[Epoch 48] Train Loss: 0.108288 - Test Loss: 0.281461 - Train Accuracy: 96.26% - Test Accuracy: 92.25%\n"
     ]
    },
    {
     "name": "stderr",
     "output_type": "stream",
     "text": [
      "Epoch 48: 100%|██████████| 782/782 [02:11<00:00,  5.97batch/s]\n",
      "Test 48: 100%|██████████| 157/157 [00:09<00:00, 17.38batch/s]\n"
     ]
    },
    {
     "name": "stdout",
     "output_type": "stream",
     "text": [
      "[Epoch 49] Train Loss: 0.088530 - Test Loss: 0.281532 - Train Accuracy: 97.08% - Test Accuracy: 92.51%\n"
     ]
    },
    {
     "name": "stderr",
     "output_type": "stream",
     "text": [
      "Epoch 49: 100%|██████████| 782/782 [02:11<00:00,  5.97batch/s]\n",
      "Test 49: 100%|██████████| 157/157 [00:09<00:00, 17.40batch/s]"
     ]
    },
    {
     "name": "stdout",
     "output_type": "stream",
     "text": [
      "[Epoch 50] Train Loss: 0.085403 - Test Loss: 0.284715 - Train Accuracy: 97.04% - Test Accuracy: 92.45%\n"
     ]
    },
    {
     "name": "stderr",
     "output_type": "stream",
     "text": [
      "\n",
      "Epoch 50: 100%|██████████| 782/782 [02:11<00:00,  5.96batch/s]\n",
      "Test 50: 100%|██████████| 157/157 [00:09<00:00, 17.38batch/s]"
     ]
    },
    {
     "name": "stdout",
     "output_type": "stream",
     "text": [
      "[Epoch 51] Train Loss: 0.078268 - Test Loss: 0.293201 - Train Accuracy: 97.21% - Test Accuracy: 92.35%\n"
     ]
    },
    {
     "name": "stderr",
     "output_type": "stream",
     "text": [
      "\n",
      "Epoch 51: 100%|██████████| 782/782 [02:10<00:00,  5.97batch/s]\n",
      "Test 51: 100%|██████████| 157/157 [00:09<00:00, 17.36batch/s]\n"
     ]
    },
    {
     "name": "stdout",
     "output_type": "stream",
     "text": [
      "[Epoch 52] Train Loss: 0.073063 - Test Loss: 0.286370 - Train Accuracy: 97.54% - Test Accuracy: 92.74%\n"
     ]
    },
    {
     "name": "stderr",
     "output_type": "stream",
     "text": [
      "Epoch 52: 100%|██████████| 782/782 [02:11<00:00,  5.96batch/s]\n",
      "Test 52: 100%|██████████| 157/157 [00:09<00:00, 17.38batch/s]"
     ]
    },
    {
     "name": "stdout",
     "output_type": "stream",
     "text": [
      "[Epoch 53] Train Loss: 0.070520 - Test Loss: 0.281185 - Train Accuracy: 97.61% - Test Accuracy: 92.69%\n"
     ]
    },
    {
     "name": "stderr",
     "output_type": "stream",
     "text": [
      "\n",
      "Epoch 53: 100%|██████████| 782/782 [02:11<00:00,  5.97batch/s]\n",
      "Test 53: 100%|██████████| 157/157 [00:09<00:00, 17.40batch/s]"
     ]
    },
    {
     "name": "stdout",
     "output_type": "stream",
     "text": [
      "[Epoch 54] Train Loss: 0.067143 - Test Loss: 0.297079 - Train Accuracy: 97.74% - Test Accuracy: 92.46%\n"
     ]
    },
    {
     "name": "stderr",
     "output_type": "stream",
     "text": [
      "\n",
      "Epoch 54: 100%|██████████| 782/782 [02:10<00:00,  5.98batch/s]\n",
      "Test 54: 100%|██████████| 157/157 [00:09<00:00, 17.41batch/s]"
     ]
    },
    {
     "name": "stdout",
     "output_type": "stream",
     "text": [
      "[Epoch 55] Train Loss: 0.067973 - Test Loss: 0.295971 - Train Accuracy: 97.62% - Test Accuracy: 92.38%\n"
     ]
    },
    {
     "name": "stderr",
     "output_type": "stream",
     "text": [
      "\n",
      "Epoch 55: 100%|██████████| 782/782 [02:10<00:00,  5.97batch/s]\n",
      "Test 55: 100%|██████████| 157/157 [00:09<00:00, 17.38batch/s]"
     ]
    },
    {
     "name": "stdout",
     "output_type": "stream",
     "text": [
      "[Epoch 56] Train Loss: 0.065192 - Test Loss: 0.305221 - Train Accuracy: 97.72% - Test Accuracy: 92.53%\n"
     ]
    },
    {
     "name": "stderr",
     "output_type": "stream",
     "text": [
      "\n",
      "Epoch 56: 100%|██████████| 782/782 [02:10<00:00,  5.97batch/s]\n",
      "Test 56: 100%|██████████| 157/157 [00:09<00:00, 17.38batch/s]"
     ]
    },
    {
     "name": "stdout",
     "output_type": "stream",
     "text": [
      "[Epoch 57] Train Loss: 0.062972 - Test Loss: 0.295776 - Train Accuracy: 97.83% - Test Accuracy: 92.65%\n"
     ]
    },
    {
     "name": "stderr",
     "output_type": "stream",
     "text": [
      "\n",
      "Epoch 57: 100%|██████████| 782/782 [02:11<00:00,  5.97batch/s]\n",
      "Test 57: 100%|██████████| 157/157 [00:09<00:00, 17.37batch/s]"
     ]
    },
    {
     "name": "stdout",
     "output_type": "stream",
     "text": [
      "[Epoch 58] Train Loss: 0.061179 - Test Loss: 0.309784 - Train Accuracy: 97.91% - Test Accuracy: 92.20%\n"
     ]
    },
    {
     "name": "stderr",
     "output_type": "stream",
     "text": [
      "\n",
      "Epoch 58: 100%|██████████| 782/782 [02:11<00:00,  5.96batch/s]\n",
      "Test 58: 100%|██████████| 157/157 [00:09<00:00, 17.38batch/s]\n"
     ]
    },
    {
     "name": "stdout",
     "output_type": "stream",
     "text": [
      "[Epoch 59] Train Loss: 0.058043 - Test Loss: 0.292705 - Train Accuracy: 97.97% - Test Accuracy: 92.78%\n"
     ]
    },
    {
     "name": "stderr",
     "output_type": "stream",
     "text": [
      "Epoch 59: 100%|██████████| 782/782 [02:11<00:00,  5.96batch/s]\n",
      "Test 59: 100%|██████████| 157/157 [00:09<00:00, 17.38batch/s]"
     ]
    },
    {
     "name": "stdout",
     "output_type": "stream",
     "text": [
      "[Epoch 60] Train Loss: 0.056800 - Test Loss: 0.307227 - Train Accuracy: 97.98% - Test Accuracy: 92.69%\n"
     ]
    },
    {
     "name": "stderr",
     "output_type": "stream",
     "text": [
      "\n",
      "Epoch 60: 100%|██████████| 782/782 [02:11<00:00,  5.93batch/s]\n",
      "Test 60: 100%|██████████| 157/157 [00:09<00:00, 17.38batch/s]"
     ]
    },
    {
     "name": "stdout",
     "output_type": "stream",
     "text": [
      "[Epoch 61] Train Loss: 0.054719 - Test Loss: 0.314078 - Train Accuracy: 98.12% - Test Accuracy: 92.46%\n"
     ]
    },
    {
     "name": "stderr",
     "output_type": "stream",
     "text": [
      "\n",
      "Epoch 61: 100%|██████████| 782/782 [02:10<00:00,  5.97batch/s]\n",
      "Test 61: 100%|██████████| 157/157 [00:09<00:00, 17.39batch/s]\n"
     ]
    },
    {
     "name": "stdout",
     "output_type": "stream",
     "text": [
      "[Epoch 62] Train Loss: 0.054632 - Test Loss: 0.304784 - Train Accuracy: 98.16% - Test Accuracy: 92.84%\n"
     ]
    },
    {
     "name": "stderr",
     "output_type": "stream",
     "text": [
      "Epoch 62: 100%|██████████| 782/782 [02:11<00:00,  5.94batch/s]\n",
      "Test 62: 100%|██████████| 157/157 [00:09<00:00, 17.27batch/s]\n"
     ]
    },
    {
     "name": "stdout",
     "output_type": "stream",
     "text": [
      "[Epoch 63] Train Loss: 0.053487 - Test Loss: 0.302905 - Train Accuracy: 98.11% - Test Accuracy: 92.87%\n"
     ]
    },
    {
     "name": "stderr",
     "output_type": "stream",
     "text": [
      "Epoch 63: 100%|██████████| 782/782 [02:11<00:00,  5.93batch/s]\n",
      "Test 63: 100%|██████████| 157/157 [00:09<00:00, 17.36batch/s]"
     ]
    },
    {
     "name": "stdout",
     "output_type": "stream",
     "text": [
      "[Epoch 64] Train Loss: 0.055113 - Test Loss: 0.314953 - Train Accuracy: 98.03% - Test Accuracy: 92.59%\n"
     ]
    },
    {
     "name": "stderr",
     "output_type": "stream",
     "text": [
      "\n",
      "Epoch 64: 100%|██████████| 782/782 [02:11<00:00,  5.95batch/s]\n",
      "Test 64: 100%|██████████| 157/157 [00:09<00:00, 17.34batch/s]"
     ]
    },
    {
     "name": "stdout",
     "output_type": "stream",
     "text": [
      "[Epoch 65] Train Loss: 0.052132 - Test Loss: 0.303563 - Train Accuracy: 98.25% - Test Accuracy: 92.85%\n"
     ]
    },
    {
     "name": "stderr",
     "output_type": "stream",
     "text": [
      "\n",
      "Epoch 65: 100%|██████████| 782/782 [02:11<00:00,  5.95batch/s]\n",
      "Test 65: 100%|██████████| 157/157 [00:09<00:00, 17.36batch/s]"
     ]
    },
    {
     "name": "stdout",
     "output_type": "stream",
     "text": [
      "[Epoch 66] Train Loss: 0.048914 - Test Loss: 0.314068 - Train Accuracy: 98.32% - Test Accuracy: 92.56%\n"
     ]
    },
    {
     "name": "stderr",
     "output_type": "stream",
     "text": [
      "\n",
      "Epoch 66: 100%|██████████| 782/782 [02:11<00:00,  5.96batch/s]\n",
      "Test 66: 100%|██████████| 157/157 [00:09<00:00, 17.35batch/s]"
     ]
    },
    {
     "name": "stdout",
     "output_type": "stream",
     "text": [
      "[Epoch 67] Train Loss: 0.048570 - Test Loss: 0.316942 - Train Accuracy: 98.38% - Test Accuracy: 92.53%\n"
     ]
    },
    {
     "name": "stderr",
     "output_type": "stream",
     "text": [
      "\n",
      "Epoch 67: 100%|██████████| 782/782 [02:11<00:00,  5.96batch/s]\n",
      "Test 67: 100%|██████████| 157/157 [00:09<00:00, 17.32batch/s]"
     ]
    },
    {
     "name": "stdout",
     "output_type": "stream",
     "text": [
      "[Epoch 68] Train Loss: 0.048505 - Test Loss: 0.309479 - Train Accuracy: 98.41% - Test Accuracy: 92.71%\n"
     ]
    },
    {
     "name": "stderr",
     "output_type": "stream",
     "text": [
      "\n",
      "Epoch 68: 100%|██████████| 782/782 [02:11<00:00,  5.94batch/s]\n",
      "Test 68: 100%|██████████| 157/157 [00:09<00:00, 17.37batch/s]"
     ]
    },
    {
     "name": "stdout",
     "output_type": "stream",
     "text": [
      "[Epoch 69] Train Loss: 0.046357 - Test Loss: 0.308149 - Train Accuracy: 98.45% - Test Accuracy: 92.73%\n"
     ]
    },
    {
     "name": "stderr",
     "output_type": "stream",
     "text": [
      "\n",
      "Epoch 69: 100%|██████████| 782/782 [02:10<00:00,  5.97batch/s]\n",
      "Test 69: 100%|██████████| 157/157 [00:08<00:00, 17.47batch/s]"
     ]
    },
    {
     "name": "stdout",
     "output_type": "stream",
     "text": [
      "[Epoch 70] Train Loss: 0.046564 - Test Loss: 0.307280 - Train Accuracy: 98.47% - Test Accuracy: 92.72%\n"
     ]
    },
    {
     "name": "stderr",
     "output_type": "stream",
     "text": [
      "\n",
      "Epoch 70: 100%|██████████| 782/782 [02:10<00:00,  5.97batch/s]\n",
      "Test 70: 100%|██████████| 157/157 [00:09<00:00, 17.41batch/s]"
     ]
    },
    {
     "name": "stdout",
     "output_type": "stream",
     "text": [
      "[Epoch 71] Train Loss: 0.046410 - Test Loss: 0.305309 - Train Accuracy: 98.41% - Test Accuracy: 92.76%\n"
     ]
    },
    {
     "name": "stderr",
     "output_type": "stream",
     "text": [
      "\n",
      "Epoch 71: 100%|██████████| 782/782 [02:11<00:00,  5.96batch/s]\n",
      "Test 71: 100%|██████████| 157/157 [00:09<00:00, 17.41batch/s]"
     ]
    },
    {
     "name": "stdout",
     "output_type": "stream",
     "text": [
      "[Epoch 72] Train Loss: 0.047241 - Test Loss: 0.304739 - Train Accuracy: 98.43% - Test Accuracy: 92.72%\n"
     ]
    },
    {
     "name": "stderr",
     "output_type": "stream",
     "text": [
      "\n",
      "Epoch 72: 100%|██████████| 782/782 [02:11<00:00,  5.96batch/s]\n",
      "Test 72: 100%|██████████| 157/157 [00:09<00:00, 17.33batch/s]"
     ]
    },
    {
     "name": "stdout",
     "output_type": "stream",
     "text": [
      "[Epoch 73] Train Loss: 0.048543 - Test Loss: 0.303736 - Train Accuracy: 98.39% - Test Accuracy: 92.86%\n"
     ]
    },
    {
     "name": "stderr",
     "output_type": "stream",
     "text": [
      "\n",
      "Epoch 73: 100%|██████████| 782/782 [02:11<00:00,  5.95batch/s]\n",
      "Test 73: 100%|██████████| 157/157 [00:09<00:00, 17.36batch/s]\n"
     ]
    },
    {
     "name": "stdout",
     "output_type": "stream",
     "text": [
      "[Epoch 74] Train Loss: 0.048312 - Test Loss: 0.301854 - Train Accuracy: 98.31% - Test Accuracy: 92.90%\n"
     ]
    },
    {
     "name": "stderr",
     "output_type": "stream",
     "text": [
      "Epoch 74: 100%|██████████| 782/782 [02:11<00:00,  5.96batch/s]\n",
      "Test 74: 100%|██████████| 157/157 [00:09<00:00, 17.34batch/s]"
     ]
    },
    {
     "name": "stdout",
     "output_type": "stream",
     "text": [
      "[Epoch 75] Train Loss: 0.046767 - Test Loss: 0.307707 - Train Accuracy: 98.36% - Test Accuracy: 92.76%\n"
     ]
    },
    {
     "name": "stderr",
     "output_type": "stream",
     "text": [
      "\n",
      "Epoch 75: 100%|██████████| 782/782 [02:11<00:00,  5.96batch/s]\n",
      "Test 75: 100%|██████████| 157/157 [00:09<00:00, 17.34batch/s]"
     ]
    },
    {
     "name": "stdout",
     "output_type": "stream",
     "text": [
      "[Epoch 76] Train Loss: 0.045894 - Test Loss: 0.308867 - Train Accuracy: 98.44% - Test Accuracy: 92.73%\n"
     ]
    },
    {
     "name": "stderr",
     "output_type": "stream",
     "text": [
      "\n",
      "Epoch 76: 100%|██████████| 782/782 [02:11<00:00,  5.96batch/s]\n",
      "Test 76: 100%|██████████| 157/157 [00:09<00:00, 17.38batch/s]"
     ]
    },
    {
     "name": "stdout",
     "output_type": "stream",
     "text": [
      "[Epoch 77] Train Loss: 0.046911 - Test Loss: 0.310471 - Train Accuracy: 98.35% - Test Accuracy: 92.62%\n"
     ]
    },
    {
     "name": "stderr",
     "output_type": "stream",
     "text": [
      "\n",
      "Epoch 77: 100%|██████████| 782/782 [02:11<00:00,  5.93batch/s]\n",
      "Test 77: 100%|██████████| 157/157 [00:09<00:00, 17.28batch/s]"
     ]
    },
    {
     "name": "stdout",
     "output_type": "stream",
     "text": [
      "[Epoch 78] Train Loss: 0.046637 - Test Loss: 0.303589 - Train Accuracy: 98.42% - Test Accuracy: 92.90%\n"
     ]
    },
    {
     "name": "stderr",
     "output_type": "stream",
     "text": [
      "\n",
      "Epoch 78: 100%|██████████| 782/782 [02:11<00:00,  5.94batch/s]\n",
      "Test 78: 100%|██████████| 157/157 [00:09<00:00, 17.37batch/s]"
     ]
    },
    {
     "name": "stdout",
     "output_type": "stream",
     "text": [
      "[Epoch 79] Train Loss: 0.043183 - Test Loss: 0.307175 - Train Accuracy: 98.57% - Test Accuracy: 92.77%\n"
     ]
    },
    {
     "name": "stderr",
     "output_type": "stream",
     "text": [
      "\n",
      "Epoch 79: 100%|██████████| 782/782 [02:11<00:00,  5.97batch/s]\n",
      "Test 79: 100%|██████████| 157/157 [00:09<00:00, 17.36batch/s]"
     ]
    },
    {
     "name": "stdout",
     "output_type": "stream",
     "text": [
      "[Epoch 80] Train Loss: 0.042424 - Test Loss: 0.320146 - Train Accuracy: 98.59% - Test Accuracy: 92.56%\n"
     ]
    },
    {
     "name": "stderr",
     "output_type": "stream",
     "text": [
      "\n",
      "Epoch 80: 100%|██████████| 782/782 [02:11<00:00,  5.96batch/s]\n",
      "Test 80: 100%|██████████| 157/157 [00:09<00:00, 17.38batch/s]"
     ]
    },
    {
     "name": "stdout",
     "output_type": "stream",
     "text": [
      "[Epoch 81] Train Loss: 0.046348 - Test Loss: 0.305048 - Train Accuracy: 98.41% - Test Accuracy: 92.85%\n"
     ]
    },
    {
     "name": "stderr",
     "output_type": "stream",
     "text": [
      "\n",
      "Epoch 81: 100%|██████████| 782/782 [02:11<00:00,  5.95batch/s]\n",
      "Test 81: 100%|██████████| 157/157 [00:09<00:00, 17.37batch/s]"
     ]
    },
    {
     "name": "stdout",
     "output_type": "stream",
     "text": [
      "[Epoch 82] Train Loss: 0.047078 - Test Loss: 0.315339 - Train Accuracy: 98.43% - Test Accuracy: 92.65%\n"
     ]
    },
    {
     "name": "stderr",
     "output_type": "stream",
     "text": [
      "\n",
      "Epoch 82: 100%|██████████| 782/782 [02:11<00:00,  5.96batch/s]\n",
      "Test 82: 100%|██████████| 157/157 [00:09<00:00, 17.40batch/s]"
     ]
    },
    {
     "name": "stdout",
     "output_type": "stream",
     "text": [
      "[Epoch 83] Train Loss: 0.044574 - Test Loss: 0.313473 - Train Accuracy: 98.46% - Test Accuracy: 92.65%\n"
     ]
    },
    {
     "name": "stderr",
     "output_type": "stream",
     "text": [
      "\n",
      "Epoch 83: 100%|██████████| 782/782 [02:11<00:00,  5.95batch/s]\n",
      "Test 83: 100%|██████████| 157/157 [00:09<00:00, 17.35batch/s]\n"
     ]
    },
    {
     "name": "stdout",
     "output_type": "stream",
     "text": [
      "[Epoch 84] Train Loss: 0.045921 - Test Loss: 0.297595 - Train Accuracy: 98.44% - Test Accuracy: 93.04%\n"
     ]
    },
    {
     "name": "stderr",
     "output_type": "stream",
     "text": [
      "Epoch 84: 100%|██████████| 782/782 [02:11<00:00,  5.94batch/s]\n",
      "Test 84: 100%|██████████| 157/157 [00:09<00:00, 17.43batch/s]"
     ]
    },
    {
     "name": "stdout",
     "output_type": "stream",
     "text": [
      "[Epoch 85] Train Loss: 0.045465 - Test Loss: 0.306652 - Train Accuracy: 98.45% - Test Accuracy: 92.77%\n"
     ]
    },
    {
     "name": "stderr",
     "output_type": "stream",
     "text": [
      "\n",
      "Epoch 85: 100%|██████████| 782/782 [02:11<00:00,  5.94batch/s]\n",
      "Test 85: 100%|██████████| 157/157 [00:09<00:00, 17.23batch/s]"
     ]
    },
    {
     "name": "stdout",
     "output_type": "stream",
     "text": [
      "[Epoch 86] Train Loss: 0.044742 - Test Loss: 0.304553 - Train Accuracy: 98.47% - Test Accuracy: 92.88%\n"
     ]
    },
    {
     "name": "stderr",
     "output_type": "stream",
     "text": [
      "\n",
      "Epoch 86: 100%|██████████| 782/782 [02:11<00:00,  5.93batch/s]\n",
      "Test 86: 100%|██████████| 157/157 [00:09<00:00, 17.34batch/s]"
     ]
    },
    {
     "name": "stdout",
     "output_type": "stream",
     "text": [
      "[Epoch 87] Train Loss: 0.042613 - Test Loss: 0.313485 - Train Accuracy: 98.56% - Test Accuracy: 92.60%\n"
     ]
    },
    {
     "name": "stderr",
     "output_type": "stream",
     "text": [
      "\n",
      "Epoch 87: 100%|██████████| 782/782 [02:11<00:00,  5.96batch/s]\n",
      "Test 87: 100%|██████████| 157/157 [00:09<00:00, 17.40batch/s]"
     ]
    },
    {
     "name": "stdout",
     "output_type": "stream",
     "text": [
      "[Epoch 88] Train Loss: 0.043719 - Test Loss: 0.317753 - Train Accuracy: 98.58% - Test Accuracy: 92.62%\n"
     ]
    },
    {
     "name": "stderr",
     "output_type": "stream",
     "text": [
      "\n",
      "Epoch 88: 100%|██████████| 782/782 [02:11<00:00,  5.93batch/s]\n",
      "Test 88: 100%|██████████| 157/157 [00:09<00:00, 17.21batch/s]"
     ]
    },
    {
     "name": "stdout",
     "output_type": "stream",
     "text": [
      "[Epoch 89] Train Loss: 0.043226 - Test Loss: 0.309126 - Train Accuracy: 98.57% - Test Accuracy: 92.67%\n"
     ]
    },
    {
     "name": "stderr",
     "output_type": "stream",
     "text": [
      "\n",
      "Epoch 89: 100%|██████████| 782/782 [02:11<00:00,  5.95batch/s]\n",
      "Test 89: 100%|██████████| 157/157 [00:09<00:00, 17.35batch/s]"
     ]
    },
    {
     "name": "stdout",
     "output_type": "stream",
     "text": [
      "[Epoch 90] Train Loss: 0.043454 - Test Loss: 0.307873 - Train Accuracy: 98.52% - Test Accuracy: 92.70%\n"
     ]
    },
    {
     "name": "stderr",
     "output_type": "stream",
     "text": [
      "\n",
      "Epoch 90: 100%|██████████| 782/782 [02:11<00:00,  5.97batch/s]\n",
      "Test 90: 100%|██████████| 157/157 [00:09<00:00, 17.39batch/s]"
     ]
    },
    {
     "name": "stdout",
     "output_type": "stream",
     "text": [
      "[Epoch 91] Train Loss: 0.042226 - Test Loss: 0.309878 - Train Accuracy: 98.57% - Test Accuracy: 92.76%\n"
     ]
    },
    {
     "name": "stderr",
     "output_type": "stream",
     "text": [
      "\n",
      "Epoch 91: 100%|██████████| 782/782 [02:11<00:00,  5.96batch/s]\n",
      "Test 91: 100%|██████████| 157/157 [00:09<00:00, 17.40batch/s]"
     ]
    },
    {
     "name": "stdout",
     "output_type": "stream",
     "text": [
      "[Epoch 92] Train Loss: 0.042247 - Test Loss: 0.312710 - Train Accuracy: 98.61% - Test Accuracy: 92.64%\n"
     ]
    },
    {
     "name": "stderr",
     "output_type": "stream",
     "text": [
      "\n",
      "Epoch 92: 100%|██████████| 782/782 [02:11<00:00,  5.97batch/s]\n",
      "Test 92: 100%|██████████| 157/157 [00:09<00:00, 17.42batch/s]"
     ]
    },
    {
     "name": "stdout",
     "output_type": "stream",
     "text": [
      "[Epoch 93] Train Loss: 0.043880 - Test Loss: 0.308954 - Train Accuracy: 98.50% - Test Accuracy: 92.66%\n"
     ]
    },
    {
     "name": "stderr",
     "output_type": "stream",
     "text": [
      "\n",
      "Epoch 93: 100%|██████████| 782/782 [02:11<00:00,  5.96batch/s]\n",
      "Test 93: 100%|██████████| 157/157 [00:09<00:00, 17.39batch/s]"
     ]
    },
    {
     "name": "stdout",
     "output_type": "stream",
     "text": [
      "[Epoch 94] Train Loss: 0.044063 - Test Loss: 0.317769 - Train Accuracy: 98.43% - Test Accuracy: 92.55%\n"
     ]
    },
    {
     "name": "stderr",
     "output_type": "stream",
     "text": [
      "\n",
      "Epoch 94: 100%|██████████| 782/782 [02:11<00:00,  5.96batch/s]\n",
      "Test 94: 100%|██████████| 157/157 [00:09<00:00, 17.37batch/s]"
     ]
    },
    {
     "name": "stdout",
     "output_type": "stream",
     "text": [
      "[Epoch 95] Train Loss: 0.042680 - Test Loss: 0.313003 - Train Accuracy: 98.54% - Test Accuracy: 92.69%\n"
     ]
    },
    {
     "name": "stderr",
     "output_type": "stream",
     "text": [
      "\n",
      "Epoch 95: 100%|██████████| 782/782 [02:11<00:00,  5.93batch/s]\n",
      "Test 95: 100%|██████████| 157/157 [00:09<00:00, 17.27batch/s]"
     ]
    },
    {
     "name": "stdout",
     "output_type": "stream",
     "text": [
      "[Epoch 96] Train Loss: 0.041862 - Test Loss: 0.318990 - Train Accuracy: 98.56% - Test Accuracy: 92.45%\n"
     ]
    },
    {
     "name": "stderr",
     "output_type": "stream",
     "text": [
      "\n",
      "Epoch 96: 100%|██████████| 782/782 [02:11<00:00,  5.94batch/s]\n",
      "Test 96: 100%|██████████| 157/157 [00:09<00:00, 17.34batch/s]"
     ]
    },
    {
     "name": "stdout",
     "output_type": "stream",
     "text": [
      "[Epoch 97] Train Loss: 0.043101 - Test Loss: 0.319456 - Train Accuracy: 98.51% - Test Accuracy: 92.64%\n"
     ]
    },
    {
     "name": "stderr",
     "output_type": "stream",
     "text": [
      "\n",
      "Epoch 97: 100%|██████████| 782/782 [02:11<00:00,  5.95batch/s]\n",
      "Test 97: 100%|██████████| 157/157 [00:09<00:00, 17.36batch/s]"
     ]
    },
    {
     "name": "stdout",
     "output_type": "stream",
     "text": [
      "[Epoch 98] Train Loss: 0.040114 - Test Loss: 0.312396 - Train Accuracy: 98.61% - Test Accuracy: 92.70%\n"
     ]
    },
    {
     "name": "stderr",
     "output_type": "stream",
     "text": [
      "\n",
      "Epoch 98: 100%|██████████| 782/782 [02:11<00:00,  5.96batch/s]\n",
      "Test 98: 100%|██████████| 157/157 [00:09<00:00, 17.32batch/s]"
     ]
    },
    {
     "name": "stdout",
     "output_type": "stream",
     "text": [
      "[Epoch 99] Train Loss: 0.042094 - Test Loss: 0.309925 - Train Accuracy: 98.52% - Test Accuracy: 92.67%\n"
     ]
    },
    {
     "name": "stderr",
     "output_type": "stream",
     "text": [
      "\n",
      "Epoch 99: 100%|██████████| 782/782 [02:11<00:00,  5.93batch/s]\n",
      "Test 99: 100%|██████████| 157/157 [00:09<00:00, 17.34batch/s]"
     ]
    },
    {
     "name": "stdout",
     "output_type": "stream",
     "text": [
      "[Epoch 100] Train Loss: 0.043640 - Test Loss: 0.310904 - Train Accuracy: 98.55% - Test Accuracy: 92.67%\n",
      "\n",
      "BEST TEST ACCURACY:  93.04  in epoch  83\n"
     ]
    },
    {
     "name": "stderr",
     "output_type": "stream",
     "text": [
      "\n"
     ]
    }
   ],
   "source": [
    "net.to(device)\n",
    "\n",
    "print(\"\\n---- Start Training ----\")\n",
    "best_accuracy = -1\n",
    "best_epoch = 0\n",
    "for epoch in range(epochs):\n",
    "    train_loss, train_correct = 0, 0\n",
    "    net.train()\n",
    "    with tqdm(iter(train_dataloader), desc=\"Epoch \" + str(epoch), unit=\"batch\") as tepoch:\n",
    "        for batch in tepoch:\n",
    "            images = batch[\"img\"].to(device)\n",
    "            labels = batch[\"label\"].to(device)\n",
    "\n",
    "            optimizer.zero_grad()\n",
    "\n",
    "            outputs = net(images)\n",
    "            loss = criterion(outputs, labels)\n",
    "\n",
    "            loss.backward()\n",
    "            optimizer.step()\n",
    "\n",
    "            labels = torch.argmax(labels, dim=1)\n",
    "            pred = torch.argmax(outputs, dim=1)\n",
    "            train_correct += pred.eq(labels).sum().item()\n",
    "            train_loss += loss.item()\n",
    "\n",
    "    train_loss /= (len(train_dataloader.dataset) / batch_size)\n",
    "\n",
    "    test_loss, test_correct = 0, 0\n",
    "    net.eval()\n",
    "    with torch.no_grad():\n",
    "        with tqdm(iter(test_dataloader), desc=\"Test \" + str(epoch), unit=\"batch\") as tepoch:\n",
    "            for batch in tepoch:\n",
    "                images = batch[\"img\"].to(device)\n",
    "                labels = batch[\"label\"].to(device)\n",
    "\n",
    "                outputs = net(images)\n",
    "                test_loss += criterion(outputs, labels)\n",
    "\n",
    "                labels = torch.argmax(labels, dim=1)\n",
    "                pred = torch.argmax(outputs, dim=1)\n",
    "                test_correct += pred.eq(labels).sum().item()\n",
    "\n",
    "    lr_scheduler.step(test_loss)\n",
    "\n",
    "    test_loss /= (len(test_dataloader.dataset) / batch_size)\n",
    "    test_accuracy = 100. * test_correct / len(test_dataloader.dataset)\n",
    "\n",
    "    print(\"[Epoch {}] Train Loss: {:.6f} - Test Loss: {:.6f} - Train Accuracy: {:.2f}% - Test Accuracy: {:.2f}%\".format(\n",
    "        epoch + 1, train_loss, test_loss, 100. * train_correct / len(train_dataloader.dataset), test_accuracy\n",
    "    ))\n",
    "\n",
    "    if test_accuracy > best_accuracy:\n",
    "        best_accuracy = test_accuracy\n",
    "        best_epoch = epoch\n",
    "\n",
    "        torch.save(net.state_dict(), \"model_densenet_bc_large.pt\")\n",
    "\n",
    "print(\"\\nBEST TEST ACCURACY: \", best_accuracy, \" in epoch \", best_epoch)"
   ]
  },
  {
   "cell_type": "markdown",
   "metadata": {},
   "source": [
    "### **Mejor Modelo**"
   ]
  },
  {
   "cell_type": "code",
   "execution_count": 10,
   "metadata": {
    "execution": {
     "iopub.execute_input": "2025-05-02T03:05:34.168705Z",
     "iopub.status.busy": "2025-05-02T03:05:34.168468Z",
     "iopub.status.idle": "2025-05-02T03:05:43.439072Z",
     "shell.execute_reply": "2025-05-02T03:05:43.438126Z",
     "shell.execute_reply.started": "2025-05-02T03:05:34.168682Z"
    },
    "trusted": true
   },
   "outputs": [
    {
     "name": "stderr",
     "output_type": "stream",
     "text": [
      "/tmp/ipykernel_31/291848848.py:1: FutureWarning: You are using `torch.load` with `weights_only=False` (the current default value), which uses the default pickle module implicitly. It is possible to construct malicious pickle data which will execute arbitrary code during unpickling (See https://github.com/pytorch/pytorch/blob/main/SECURITY.md#untrusted-models for more details). In a future release, the default value for `weights_only` will be flipped to `True`. This limits the functions that could be executed during unpickling. Arbitrary objects will no longer be allowed to be loaded via this mode unless they are explicitly allowlisted by the user via `torch.serialization.add_safe_globals`. We recommend you start setting `weights_only=True` for any use case where you don't have full control of the loaded file. Please open an issue on GitHub for any issues related to this experimental feature.\n",
      "  net.load_state_dict(torch.load(\"model_densenet_bc_large.pt\"))\n",
      "Test 99: 100%|██████████| 157/157 [00:09<00:00, 17.30batch/s]"
     ]
    },
    {
     "name": "stdout",
     "output_type": "stream",
     "text": [
      "Final best acc:  93.04\n"
     ]
    },
    {
     "name": "stderr",
     "output_type": "stream",
     "text": [
      "\n"
     ]
    }
   ],
   "source": [
    "net.load_state_dict(torch.load(\"model_densenet_bc_large.pt\"))\n",
    "\n",
    "test_loss, test_correct = 0, 0\n",
    "net.eval()\n",
    "with torch.no_grad():\n",
    "    with tqdm(iter(test_dataloader), desc=\"Test \" + str(epoch), unit=\"batch\") as tepoch:\n",
    "        for batch in tepoch:\n",
    "\n",
    "            images = batch[\"img\"].to(device)\n",
    "            labels = batch[\"label\"].to(device)\n",
    "\n",
    "            # Forward\n",
    "            outputs = net(images)\n",
    "            test_loss += criterion(outputs, labels)\n",
    "\n",
    "            # one hot -> labels\n",
    "            labels = torch.argmax(labels, dim=1)\n",
    "            pred = torch.argmax(outputs, dim=1)\n",
    "\n",
    "            test_correct += pred.eq(labels).sum().item()\n",
    "\n",
    "    test_loss /= len(test_dataloader.dataset)\n",
    "    test_accuracy = 100. * test_correct / len(test_dataloader.dataset)\n",
    "print(\"Final best acc: \", test_accuracy)"
   ]
  }
 ],
 "metadata": {
  "kaggle": {
   "accelerator": "nvidiaTeslaT4",
   "dataSources": [],
   "dockerImageVersionId": 31011,
   "isGpuEnabled": true,
   "isInternetEnabled": true,
   "language": "python",
   "sourceType": "notebook"
  },
  "kernelspec": {
   "display_name": "Python 3",
   "language": "python",
   "name": "python3"
  },
  "language_info": {
   "codemirror_mode": {
    "name": "ipython",
    "version": 3
   },
   "file_extension": ".py",
   "mimetype": "text/x-python",
   "name": "python",
   "nbconvert_exporter": "python",
   "pygments_lexer": "ipython3",
   "version": "3.11.11"
  }
 },
 "nbformat": 4,
 "nbformat_minor": 4
}
