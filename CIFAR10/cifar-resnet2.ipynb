{
 "cells": [
  {
   "cell_type": "markdown",
   "metadata": {},
   "source": [
    "<div style=\"text-align: right\"><b> Ana Valentina López Chacón </b></div>\n",
    "<div style=\"text-align: right\"><b> Redes Neuronales Artificiales, 2024 - 2025 </b></div>\n",
    "\n",
    "## **Práctica CIFAR: CNNs con Bloques ResNet**"
   ]
  },
  {
   "cell_type": "code",
   "execution_count": 1,
   "metadata": {
    "_cell_guid": "b1076dfc-b9ad-4769-8c92-a6c4dae69d19",
    "_uuid": "8f2839f25d086af736a60e9eeb907d3b93b6e0e5",
    "execution": {
     "iopub.execute_input": "2025-01-26T22:56:02.136371Z",
     "iopub.status.busy": "2025-01-26T22:56:02.135939Z",
     "iopub.status.idle": "2025-01-26T22:56:07.927427Z",
     "shell.execute_reply": "2025-01-26T22:56:07.926522Z",
     "shell.execute_reply.started": "2025-01-26T22:56:02.136337Z"
    },
    "trusted": true
   },
   "outputs": [
    {
     "name": "stdout",
     "output_type": "stream",
     "text": [
      "Torch version:  2.5.1+cu121\n",
      "Device:  cuda\n"
     ]
    }
   ],
   "source": [
    "import torch\n",
    "import torchvision\n",
    "import torch.nn as nn\n",
    "from tqdm import tqdm\n",
    "import multiprocessing\n",
    "import torch.optim as optim\n",
    "import torch.nn.functional as  F\n",
    "from torchvision import transforms\n",
    "from torch.utils.data import Dataset\n",
    "from torch.utils.data import DataLoader\n",
    "\n",
    "print(\"Torch version: \", torch. __version__)\n",
    "device = torch.device(\"cuda\" if torch.cuda.is_available() else \"cpu\")\n",
    "print(\"Device: \", device)"
   ]
  },
  {
   "cell_type": "code",
   "execution_count": 2,
   "metadata": {
    "execution": {
     "iopub.execute_input": "2025-01-26T22:56:07.928936Z",
     "iopub.status.busy": "2025-01-26T22:56:07.928601Z",
     "iopub.status.idle": "2025-01-26T22:56:07.938721Z",
     "shell.execute_reply": "2025-01-26T22:56:07.938036Z",
     "shell.execute_reply.started": "2025-01-26T22:56:07.928916Z"
    },
    "trusted": true
   },
   "outputs": [],
   "source": [
    "seed = 42\n",
    "torch.manual_seed(seed)\n",
    "\n",
    "if torch.cuda.is_available():\n",
    "    torch.cuda.manual_seed(seed)\n",
    "    torch.cuda.manual_seed_all(seed)\n",
    "    torch.backends.cudnn.deterministic = True\n",
    "    torch.backends.cudnn.benchmark = False"
   ]
  },
  {
   "cell_type": "code",
   "execution_count": 3,
   "metadata": {
    "execution": {
     "iopub.execute_input": "2025-01-26T22:56:07.940624Z",
     "iopub.status.busy": "2025-01-26T22:56:07.940396Z",
     "iopub.status.idle": "2025-01-26T22:56:07.968420Z",
     "shell.execute_reply": "2025-01-26T22:56:07.967404Z",
     "shell.execute_reply.started": "2025-01-26T22:56:07.940598Z"
    },
    "trusted": true
   },
   "outputs": [],
   "source": [
    "da_train = transforms.Compose([\n",
    "    transforms.RandomCrop(32, padding=4),\n",
    "    transforms.RandomHorizontalFlip(),\n",
    "    transforms.ColorJitter(brightness=0.2, contrast=0.2, saturation=0.2, hue=0.1),\n",
    "    transforms.RandomAffine(degrees=5, translate=(0.2, 0.2)),\n",
    "    transforms.ToTensor()\n",
    "])\n",
    "\n",
    "da_test = transforms.Compose([\n",
    "    transforms.ToTensor(),\n",
    "])"
   ]
  },
  {
   "cell_type": "markdown",
   "metadata": {},
   "source": [
    "### **Cargar los Datos**"
   ]
  },
  {
   "cell_type": "code",
   "execution_count": 4,
   "metadata": {
    "execution": {
     "iopub.execute_input": "2025-01-26T22:56:07.970118Z",
     "iopub.status.busy": "2025-01-26T22:56:07.969821Z",
     "iopub.status.idle": "2025-01-26T22:56:13.473555Z",
     "shell.execute_reply": "2025-01-26T22:56:13.472662Z",
     "shell.execute_reply.started": "2025-01-26T22:56:07.970097Z"
    },
    "trusted": true
   },
   "outputs": [
    {
     "name": "stdout",
     "output_type": "stream",
     "text": [
      "\n",
      "Loading CIFAR10  train  Dataset...\n",
      "Downloading https://www.cs.toronto.edu/~kriz/cifar-10-python.tar.gz to .data/cifar-10-python.tar.gz\n"
     ]
    },
    {
     "name": "stderr",
     "output_type": "stream",
     "text": [
      "100%|██████████| 170M/170M [00:02<00:00, 83.7MB/s] \n"
     ]
    },
    {
     "name": "stdout",
     "output_type": "stream",
     "text": [
      "Extracting .data/cifar-10-python.tar.gz to .data/\n",
      "\tTotal Len.:  50000 \n",
      " --------------------------------------------------\n",
      "\n",
      "Loading CIFAR10  test  Dataset...\n",
      "Files already downloaded and verified\n",
      "\tTotal Len.:  10000 \n",
      " --------------------------------------------------\n"
     ]
    }
   ],
   "source": [
    "class CIFAR10_dataset(Dataset):\n",
    "\n",
    "    def __init__(self, transform, partition = \"train\"):\n",
    "\n",
    "        print(\"\\nLoading CIFAR10 \", partition, \" Dataset...\")\n",
    "        self.partition = partition\n",
    "        self.transform = transform\n",
    "        if self.partition == \"train\":\n",
    "            self.data = torchvision.datasets.CIFAR10('.data/', \n",
    "                                                     train=True,\n",
    "                                                     download=True)\n",
    "        else:\n",
    "            self.data = torchvision.datasets.CIFAR10('.data/', \n",
    "                                                     train=False,\n",
    "                                                     download=True)\n",
    "        print(\"\\tTotal Len.: \", len(self.data), \"\\n\", 50*\"-\")\n",
    "    \n",
    "    def __len__(self):\n",
    "        return len(self.data)\n",
    "\n",
    "    def __getitem__(self, idx):\n",
    "\n",
    "        # Image\n",
    "        image = self.data[idx][0]\n",
    "        image_tensor = self.transform(image)\n",
    "\n",
    "        # Label\n",
    "        label = torch.tensor(self.data[idx][1])\n",
    "        label = F.one_hot(label, num_classes=10).float()\n",
    "\n",
    "        return {\"img\": image_tensor, \"label\": label}\n",
    "\n",
    "train_dataset = CIFAR10_dataset(da_train, partition=\"train\")\n",
    "test_dataset = CIFAR10_dataset(da_test, partition=\"test\")"
   ]
  },
  {
   "cell_type": "code",
   "execution_count": 5,
   "metadata": {
    "execution": {
     "iopub.execute_input": "2025-01-26T22:56:13.474828Z",
     "iopub.status.busy": "2025-01-26T22:56:13.474510Z",
     "iopub.status.idle": "2025-01-26T22:56:13.480484Z",
     "shell.execute_reply": "2025-01-26T22:56:13.479689Z",
     "shell.execute_reply.started": "2025-01-26T22:56:13.474799Z"
    },
    "trusted": true
   },
   "outputs": [
    {
     "name": "stdout",
     "output_type": "stream",
     "text": [
      "Num workers 3\n"
     ]
    }
   ],
   "source": [
    "batch_size = 100\n",
    "num_workers = multiprocessing.cpu_count()-1\n",
    "print(\"Num workers\", num_workers)\n",
    "train_dataloader = DataLoader(train_dataset, batch_size, shuffle=True, num_workers=num_workers)\n",
    "test_dataloader = DataLoader(test_dataset, batch_size, shuffle=False, num_workers=num_workers)"
   ]
  },
  {
   "cell_type": "markdown",
   "metadata": {},
   "source": [
    "### **Creación de Red**"
   ]
  },
  {
   "cell_type": "code",
   "execution_count": 6,
   "metadata": {
    "execution": {
     "iopub.execute_input": "2025-01-26T22:56:13.481587Z",
     "iopub.status.busy": "2025-01-26T22:56:13.481332Z",
     "iopub.status.idle": "2025-01-26T22:56:13.493979Z",
     "shell.execute_reply": "2025-01-26T22:56:13.493031Z",
     "shell.execute_reply.started": "2025-01-26T22:56:13.481567Z"
    },
    "trusted": true
   },
   "outputs": [],
   "source": [
    "class ConvBlock(nn.Module):\n",
    "    def __init__(self, in_channels, out_channels):\n",
    "        super(ConvBlock, self).__init__()\n",
    "        \n",
    "        self.conv = nn.Conv2d(in_channels, out_channels, kernel_size=3, stride=1, padding=1)\n",
    "        self.bn = nn.BatchNorm2d(out_channels)\n",
    "        self.relu = nn.ReLU()\n",
    "        self.pool = nn.MaxPool2d(kernel_size=2, stride=2)\n",
    "        \n",
    "    def forward(self, x):\n",
    "        \n",
    "        x = self.conv(x)\n",
    "        x = self.bn(x)\n",
    "        x = self.relu(x)\n",
    "        x = self.pool(x)\n",
    "\n",
    "        return x"
   ]
  },
  {
   "cell_type": "code",
   "execution_count": 7,
   "metadata": {
    "execution": {
     "iopub.execute_input": "2025-01-26T22:56:13.495033Z",
     "iopub.status.busy": "2025-01-26T22:56:13.494760Z",
     "iopub.status.idle": "2025-01-26T22:56:13.506882Z",
     "shell.execute_reply": "2025-01-26T22:56:13.505991Z",
     "shell.execute_reply.started": "2025-01-26T22:56:13.495007Z"
    },
    "trusted": true
   },
   "outputs": [],
   "source": [
    "class ResNetBlock(nn.Module):\n",
    "    def __init__(self, in_channels, out_channels):\n",
    "        super(ResNetBlock, self).__init__()\n",
    "\n",
    "        self.conv1 = nn.Conv2d(in_channels, out_channels, kernel_size=3, padding='same')\n",
    "        self.bn1 = nn.BatchNorm2d(out_channels)\n",
    "        \n",
    "        self.conv2 = nn.Conv2d(out_channels, out_channels, kernel_size=3, padding='same')\n",
    "        self.bn2 = nn.BatchNorm2d(out_channels)\n",
    "        \n",
    "        self.conv_shortcut = nn.Conv2d(in_channels, out_channels, kernel_size=1, padding='same')\n",
    "        self.relu = nn.ReLU()\n",
    "\n",
    "    def forward(self, x):\n",
    "        previous_x = x\n",
    "\n",
    "        out = self.conv1(x)\n",
    "        out = self.bn1(out)\n",
    "        out = self.relu(out)\n",
    "\n",
    "        out = self.conv2(out)\n",
    "        out = self.bn2(out)\n",
    "\n",
    "        previous_x = self.conv_shortcut(previous_x)\n",
    "\n",
    "        out += previous_x\n",
    "        out = self.relu(out)\n",
    "\n",
    "        return out"
   ]
  },
  {
   "cell_type": "code",
   "execution_count": 8,
   "metadata": {
    "execution": {
     "iopub.execute_input": "2025-01-26T22:56:13.509645Z",
     "iopub.status.busy": "2025-01-26T22:56:13.509414Z",
     "iopub.status.idle": "2025-01-26T22:56:13.521920Z",
     "shell.execute_reply": "2025-01-26T22:56:13.521202Z",
     "shell.execute_reply.started": "2025-01-26T22:56:13.509626Z"
    },
    "trusted": true
   },
   "outputs": [],
   "source": [
    "class ResNetCNN(nn.Module):\n",
    "    def __init__(self, num_classes=10):\n",
    "        super(ResNetCNN, self).__init__()\n",
    "        \n",
    "        # First, apply ConvBlocks\n",
    "        self.conv_layers = nn.Sequential(\n",
    "            ConvBlock(3, 32),\n",
    "            ConvBlock(32, 64),\n",
    "            ConvBlock(64, 128),\n",
    "        )\n",
    "        \n",
    "        self.resnet_layers = nn.Sequential(\n",
    "            ResNetBlock(128, 256),\n",
    "            ResNetBlock(256, 512),\n",
    "            nn.AvgPool2d(kernel_size=4, stride=4)\n",
    "        )\n",
    "\n",
    "        self.fc1 = nn.Linear(512, 512)\n",
    "        self.fc2 = nn.Linear(512, num_classes)\n",
    "\n",
    "    def forward(self, x):\n",
    "        x = self.conv_layers(x) \n",
    "        x = self.resnet_layers(x)  \n",
    "        x = torch.flatten(x, start_dim=1)  \n",
    "        x = F.relu(self.fc1(x))  \n",
    "        x = self.fc2(x)  \n",
    "        return x\n"
   ]
  },
  {
   "cell_type": "code",
   "execution_count": 9,
   "metadata": {
    "execution": {
     "iopub.execute_input": "2025-01-26T22:56:13.523167Z",
     "iopub.status.busy": "2025-01-26T22:56:13.522876Z",
     "iopub.status.idle": "2025-01-26T22:56:13.607597Z",
     "shell.execute_reply": "2025-01-26T22:56:13.606838Z",
     "shell.execute_reply.started": "2025-01-26T22:56:13.523134Z"
    },
    "trusted": true
   },
   "outputs": [
    {
     "name": "stdout",
     "output_type": "stream",
     "text": [
      "ResNetCNN(\n",
      "  (conv_layers): Sequential(\n",
      "    (0): ConvBlock(\n",
      "      (conv): Conv2d(3, 32, kernel_size=(3, 3), stride=(1, 1), padding=(1, 1))\n",
      "      (bn): BatchNorm2d(32, eps=1e-05, momentum=0.1, affine=True, track_running_stats=True)\n",
      "      (relu): ReLU()\n",
      "      (pool): MaxPool2d(kernel_size=2, stride=2, padding=0, dilation=1, ceil_mode=False)\n",
      "    )\n",
      "    (1): ConvBlock(\n",
      "      (conv): Conv2d(32, 64, kernel_size=(3, 3), stride=(1, 1), padding=(1, 1))\n",
      "      (bn): BatchNorm2d(64, eps=1e-05, momentum=0.1, affine=True, track_running_stats=True)\n",
      "      (relu): ReLU()\n",
      "      (pool): MaxPool2d(kernel_size=2, stride=2, padding=0, dilation=1, ceil_mode=False)\n",
      "    )\n",
      "    (2): ConvBlock(\n",
      "      (conv): Conv2d(64, 128, kernel_size=(3, 3), stride=(1, 1), padding=(1, 1))\n",
      "      (bn): BatchNorm2d(128, eps=1e-05, momentum=0.1, affine=True, track_running_stats=True)\n",
      "      (relu): ReLU()\n",
      "      (pool): MaxPool2d(kernel_size=2, stride=2, padding=0, dilation=1, ceil_mode=False)\n",
      "    )\n",
      "  )\n",
      "  (resnet_layers): Sequential(\n",
      "    (0): ResNetBlock(\n",
      "      (conv1): Conv2d(128, 256, kernel_size=(3, 3), stride=(1, 1), padding=same)\n",
      "      (bn1): BatchNorm2d(256, eps=1e-05, momentum=0.1, affine=True, track_running_stats=True)\n",
      "      (conv2): Conv2d(256, 256, kernel_size=(3, 3), stride=(1, 1), padding=same)\n",
      "      (bn2): BatchNorm2d(256, eps=1e-05, momentum=0.1, affine=True, track_running_stats=True)\n",
      "      (conv_shortcut): Conv2d(128, 256, kernel_size=(1, 1), stride=(1, 1), padding=same)\n",
      "      (relu): ReLU()\n",
      "    )\n",
      "    (1): ResNetBlock(\n",
      "      (conv1): Conv2d(256, 512, kernel_size=(3, 3), stride=(1, 1), padding=same)\n",
      "      (bn1): BatchNorm2d(512, eps=1e-05, momentum=0.1, affine=True, track_running_stats=True)\n",
      "      (conv2): Conv2d(512, 512, kernel_size=(3, 3), stride=(1, 1), padding=same)\n",
      "      (bn2): BatchNorm2d(512, eps=1e-05, momentum=0.1, affine=True, track_running_stats=True)\n",
      "      (conv_shortcut): Conv2d(256, 512, kernel_size=(1, 1), stride=(1, 1), padding=same)\n",
      "      (relu): ReLU()\n",
      "    )\n",
      "    (2): AvgPool2d(kernel_size=4, stride=4, padding=0)\n",
      "  )\n",
      "  (fc1): Linear(in_features=512, out_features=512, bias=True)\n",
      "  (fc2): Linear(in_features=512, out_features=10, bias=True)\n",
      ")\n",
      "Params:  4954378\n"
     ]
    }
   ],
   "source": [
    "num_classes = 10\n",
    "net = ResNetCNN(\n",
    "    num_classes\n",
    "    )\n",
    "print(net)\n",
    "\n",
    "def count_parameters(model):\n",
    "    return sum(p.numel() for p in model.parameters() if p.requires_grad)\n",
    "print(\"Params: \", count_parameters(net))"
   ]
  },
  {
   "cell_type": "code",
   "execution_count": 10,
   "metadata": {
    "execution": {
     "iopub.execute_input": "2025-01-26T22:56:13.608715Z",
     "iopub.status.busy": "2025-01-26T22:56:13.608407Z",
     "iopub.status.idle": "2025-01-26T22:56:13.613151Z",
     "shell.execute_reply": "2025-01-26T22:56:13.612364Z",
     "shell.execute_reply.started": "2025-01-26T22:56:13.608686Z"
    },
    "trusted": true
   },
   "outputs": [],
   "source": [
    "criterion = nn.CrossEntropyLoss()\n",
    "optimizer = optim.SGD(net.parameters(), lr=0.01, weight_decay=1e-6, momentum=0.9)\n",
    "lr_scheduler = optim.lr_scheduler.ReduceLROnPlateau(optimizer, factor=0.1, patience=10, min_lr=0.00001)\n",
    "epochs = 100"
   ]
  },
  {
   "cell_type": "markdown",
   "metadata": {},
   "source": [
    "### **Entrenamiento**"
   ]
  },
  {
   "cell_type": "code",
   "execution_count": 11,
   "metadata": {
    "execution": {
     "iopub.execute_input": "2025-01-26T22:56:13.614483Z",
     "iopub.status.busy": "2025-01-26T22:56:13.614154Z",
     "iopub.status.idle": "2025-01-26T23:39:25.281545Z",
     "shell.execute_reply": "2025-01-26T23:39:25.280481Z",
     "shell.execute_reply.started": "2025-01-26T22:56:13.614452Z"
    },
    "trusted": true
   },
   "outputs": [
    {
     "name": "stdout",
     "output_type": "stream",
     "text": [
      "\n",
      "---- Start Training ----\n"
     ]
    },
    {
     "name": "stderr",
     "output_type": "stream",
     "text": [
      "Epoch 0: 100%|██████████| 500/500 [00:26<00:00, 19.16batch/s]\n",
      "Test 0: 100%|██████████| 100/100 [00:01<00:00, 68.86batch/s]\n"
     ]
    },
    {
     "name": "stdout",
     "output_type": "stream",
     "text": [
      "[Epoch 1] Train Loss: 1.588907 - Test Loss: 1.417226 - Train Accuracy: 41.32% - Test Accuracy: 49.33%\n"
     ]
    },
    {
     "name": "stderr",
     "output_type": "stream",
     "text": [
      "Epoch 1: 100%|██████████| 500/500 [00:24<00:00, 20.51batch/s]\n",
      "Test 1: 100%|██████████| 100/100 [00:01<00:00, 66.32batch/s]\n"
     ]
    },
    {
     "name": "stdout",
     "output_type": "stream",
     "text": [
      "[Epoch 2] Train Loss: 1.220097 - Test Loss: 1.237866 - Train Accuracy: 56.26% - Test Accuracy: 57.99%\n"
     ]
    },
    {
     "name": "stderr",
     "output_type": "stream",
     "text": [
      "Epoch 2: 100%|██████████| 500/500 [00:24<00:00, 20.22batch/s]\n",
      "Test 2: 100%|██████████| 100/100 [00:01<00:00, 68.62batch/s]\n"
     ]
    },
    {
     "name": "stdout",
     "output_type": "stream",
     "text": [
      "[Epoch 3] Train Loss: 1.054548 - Test Loss: 1.147369 - Train Accuracy: 62.64% - Test Accuracy: 61.51%\n"
     ]
    },
    {
     "name": "stderr",
     "output_type": "stream",
     "text": [
      "Epoch 3: 100%|██████████| 500/500 [00:24<00:00, 20.47batch/s]\n",
      "Test 3: 100%|██████████| 100/100 [00:01<00:00, 64.17batch/s]"
     ]
    },
    {
     "name": "stdout",
     "output_type": "stream",
     "text": [
      "[Epoch 4] Train Loss: 0.950566 - Test Loss: 1.304862 - Train Accuracy: 66.49% - Test Accuracy: 58.49%\n"
     ]
    },
    {
     "name": "stderr",
     "output_type": "stream",
     "text": [
      "\n",
      "Epoch 4: 100%|██████████| 500/500 [00:24<00:00, 20.21batch/s]\n",
      "Test 4: 100%|██████████| 100/100 [00:01<00:00, 70.15batch/s]"
     ]
    },
    {
     "name": "stdout",
     "output_type": "stream",
     "text": [
      "[Epoch 5] Train Loss: 0.876199 - Test Loss: 0.985043 - Train Accuracy: 69.07% - Test Accuracy: 66.26%\n"
     ]
    },
    {
     "name": "stderr",
     "output_type": "stream",
     "text": [
      "\n",
      "Epoch 5: 100%|██████████| 500/500 [00:24<00:00, 20.36batch/s]\n",
      "Test 5: 100%|██████████| 100/100 [00:01<00:00, 70.79batch/s]"
     ]
    },
    {
     "name": "stdout",
     "output_type": "stream",
     "text": [
      "[Epoch 6] Train Loss: 0.818570 - Test Loss: 0.869662 - Train Accuracy: 71.21% - Test Accuracy: 69.94%\n"
     ]
    },
    {
     "name": "stderr",
     "output_type": "stream",
     "text": [
      "\n",
      "Epoch 6: 100%|██████████| 500/500 [00:24<00:00, 20.19batch/s]\n",
      "Test 6: 100%|██████████| 100/100 [00:01<00:00, 66.04batch/s]\n"
     ]
    },
    {
     "name": "stdout",
     "output_type": "stream",
     "text": [
      "[Epoch 7] Train Loss: 0.775544 - Test Loss: 0.662678 - Train Accuracy: 72.85% - Test Accuracy: 76.61%\n"
     ]
    },
    {
     "name": "stderr",
     "output_type": "stream",
     "text": [
      "Epoch 7: 100%|██████████| 500/500 [00:24<00:00, 20.62batch/s]\n",
      "Test 7: 100%|██████████| 100/100 [00:01<00:00, 72.35batch/s]"
     ]
    },
    {
     "name": "stdout",
     "output_type": "stream",
     "text": [
      "[Epoch 8] Train Loss: 0.732088 - Test Loss: 0.829890 - Train Accuracy: 74.41% - Test Accuracy: 72.13%\n"
     ]
    },
    {
     "name": "stderr",
     "output_type": "stream",
     "text": [
      "\n",
      "Epoch 8: 100%|██████████| 500/500 [00:24<00:00, 20.64batch/s]\n",
      "Test 8: 100%|██████████| 100/100 [00:01<00:00, 55.71batch/s]"
     ]
    },
    {
     "name": "stdout",
     "output_type": "stream",
     "text": [
      "[Epoch 9] Train Loss: 0.706495 - Test Loss: 0.689586 - Train Accuracy: 75.45% - Test Accuracy: 76.09%\n"
     ]
    },
    {
     "name": "stderr",
     "output_type": "stream",
     "text": [
      "\n",
      "Epoch 9: 100%|██████████| 500/500 [00:24<00:00, 20.34batch/s]\n",
      "Test 9: 100%|██████████| 100/100 [00:01<00:00, 68.97batch/s]"
     ]
    },
    {
     "name": "stdout",
     "output_type": "stream",
     "text": [
      "[Epoch 10] Train Loss: 0.681621 - Test Loss: 0.647062 - Train Accuracy: 76.18% - Test Accuracy: 77.97%\n"
     ]
    },
    {
     "name": "stderr",
     "output_type": "stream",
     "text": [
      "\n",
      "Epoch 10: 100%|██████████| 500/500 [00:24<00:00, 20.15batch/s]\n",
      "Test 10: 100%|██████████| 100/100 [00:01<00:00, 66.58batch/s]"
     ]
    },
    {
     "name": "stdout",
     "output_type": "stream",
     "text": [
      "[Epoch 11] Train Loss: 0.657694 - Test Loss: 0.663779 - Train Accuracy: 77.00% - Test Accuracy: 77.54%\n"
     ]
    },
    {
     "name": "stderr",
     "output_type": "stream",
     "text": [
      "\n",
      "Epoch 11: 100%|██████████| 500/500 [00:24<00:00, 20.23batch/s]\n",
      "Test 11: 100%|██████████| 100/100 [00:01<00:00, 69.62batch/s]"
     ]
    },
    {
     "name": "stdout",
     "output_type": "stream",
     "text": [
      "[Epoch 12] Train Loss: 0.636891 - Test Loss: 0.658903 - Train Accuracy: 77.65% - Test Accuracy: 76.88%\n"
     ]
    },
    {
     "name": "stderr",
     "output_type": "stream",
     "text": [
      "\n",
      "Epoch 12: 100%|██████████| 500/500 [00:24<00:00, 20.31batch/s]\n",
      "Test 12: 100%|██████████| 100/100 [00:01<00:00, 69.43batch/s]"
     ]
    },
    {
     "name": "stdout",
     "output_type": "stream",
     "text": [
      "[Epoch 13] Train Loss: 0.612670 - Test Loss: 0.658695 - Train Accuracy: 78.89% - Test Accuracy: 77.86%\n"
     ]
    },
    {
     "name": "stderr",
     "output_type": "stream",
     "text": [
      "\n",
      "Epoch 13: 100%|██████████| 500/500 [00:24<00:00, 20.14batch/s]\n",
      "Test 13: 100%|██████████| 100/100 [00:01<00:00, 68.55batch/s]\n"
     ]
    },
    {
     "name": "stdout",
     "output_type": "stream",
     "text": [
      "[Epoch 14] Train Loss: 0.593792 - Test Loss: 0.518133 - Train Accuracy: 79.31% - Test Accuracy: 81.90%\n"
     ]
    },
    {
     "name": "stderr",
     "output_type": "stream",
     "text": [
      "Epoch 14: 100%|██████████| 500/500 [00:24<00:00, 20.59batch/s]\n",
      "Test 14: 100%|██████████| 100/100 [00:01<00:00, 72.42batch/s]"
     ]
    },
    {
     "name": "stdout",
     "output_type": "stream",
     "text": [
      "[Epoch 15] Train Loss: 0.584735 - Test Loss: 0.597570 - Train Accuracy: 79.76% - Test Accuracy: 79.14%\n"
     ]
    },
    {
     "name": "stderr",
     "output_type": "stream",
     "text": [
      "\n",
      "Epoch 15: 100%|██████████| 500/500 [00:24<00:00, 20.25batch/s]\n",
      "Test 15: 100%|██████████| 100/100 [00:01<00:00, 73.13batch/s]"
     ]
    },
    {
     "name": "stdout",
     "output_type": "stream",
     "text": [
      "[Epoch 16] Train Loss: 0.567859 - Test Loss: 0.530055 - Train Accuracy: 80.11% - Test Accuracy: 81.95%\n"
     ]
    },
    {
     "name": "stderr",
     "output_type": "stream",
     "text": [
      "\n",
      "Epoch 16: 100%|██████████| 500/500 [00:24<00:00, 20.60batch/s]\n",
      "Test 16: 100%|██████████| 100/100 [00:01<00:00, 66.00batch/s]"
     ]
    },
    {
     "name": "stdout",
     "output_type": "stream",
     "text": [
      "[Epoch 17] Train Loss: 0.544131 - Test Loss: 0.691413 - Train Accuracy: 81.16% - Test Accuracy: 77.05%\n"
     ]
    },
    {
     "name": "stderr",
     "output_type": "stream",
     "text": [
      "\n",
      "Epoch 17: 100%|██████████| 500/500 [00:24<00:00, 20.62batch/s]\n",
      "Test 17: 100%|██████████| 100/100 [00:01<00:00, 72.14batch/s]"
     ]
    },
    {
     "name": "stdout",
     "output_type": "stream",
     "text": [
      "[Epoch 18] Train Loss: 0.540120 - Test Loss: 0.555866 - Train Accuracy: 81.06% - Test Accuracy: 81.07%\n"
     ]
    },
    {
     "name": "stderr",
     "output_type": "stream",
     "text": [
      "\n",
      "Epoch 18: 100%|██████████| 500/500 [00:24<00:00, 20.40batch/s]\n",
      "Test 18: 100%|██████████| 100/100 [00:01<00:00, 72.04batch/s]"
     ]
    },
    {
     "name": "stdout",
     "output_type": "stream",
     "text": [
      "[Epoch 19] Train Loss: 0.526009 - Test Loss: 0.645107 - Train Accuracy: 81.46% - Test Accuracy: 78.25%\n"
     ]
    },
    {
     "name": "stderr",
     "output_type": "stream",
     "text": [
      "\n",
      "Epoch 19: 100%|██████████| 500/500 [00:24<00:00, 20.80batch/s]\n",
      "Test 19: 100%|██████████| 100/100 [00:01<00:00, 70.19batch/s]"
     ]
    },
    {
     "name": "stdout",
     "output_type": "stream",
     "text": [
      "[Epoch 20] Train Loss: 0.508440 - Test Loss: 0.612288 - Train Accuracy: 82.22% - Test Accuracy: 78.58%\n"
     ]
    },
    {
     "name": "stderr",
     "output_type": "stream",
     "text": [
      "\n",
      "Epoch 20: 100%|██████████| 500/500 [00:24<00:00, 20.38batch/s]\n",
      "Test 20: 100%|██████████| 100/100 [00:01<00:00, 71.45batch/s]\n"
     ]
    },
    {
     "name": "stdout",
     "output_type": "stream",
     "text": [
      "[Epoch 21] Train Loss: 0.498094 - Test Loss: 0.509953 - Train Accuracy: 82.57% - Test Accuracy: 82.57%\n"
     ]
    },
    {
     "name": "stderr",
     "output_type": "stream",
     "text": [
      "Epoch 21: 100%|██████████| 500/500 [00:24<00:00, 20.33batch/s]\n",
      "Test 21: 100%|██████████| 100/100 [00:01<00:00, 64.25batch/s]\n"
     ]
    },
    {
     "name": "stdout",
     "output_type": "stream",
     "text": [
      "[Epoch 22] Train Loss: 0.493744 - Test Loss: 0.495292 - Train Accuracy: 82.66% - Test Accuracy: 83.05%\n"
     ]
    },
    {
     "name": "stderr",
     "output_type": "stream",
     "text": [
      "Epoch 22: 100%|██████████| 500/500 [00:24<00:00, 20.10batch/s]\n",
      "Test 22: 100%|██████████| 100/100 [00:01<00:00, 66.08batch/s]"
     ]
    },
    {
     "name": "stdout",
     "output_type": "stream",
     "text": [
      "[Epoch 23] Train Loss: 0.478992 - Test Loss: 0.487351 - Train Accuracy: 83.15% - Test Accuracy: 83.39%\n"
     ]
    },
    {
     "name": "stderr",
     "output_type": "stream",
     "text": [
      "\n",
      "Epoch 23: 100%|██████████| 500/500 [00:24<00:00, 20.06batch/s]\n",
      "Test 23: 100%|██████████| 100/100 [00:01<00:00, 67.30batch/s]"
     ]
    },
    {
     "name": "stdout",
     "output_type": "stream",
     "text": [
      "[Epoch 24] Train Loss: 0.471340 - Test Loss: 0.552627 - Train Accuracy: 83.42% - Test Accuracy: 81.63%\n"
     ]
    },
    {
     "name": "stderr",
     "output_type": "stream",
     "text": [
      "\n",
      "Epoch 24: 100%|██████████| 500/500 [00:24<00:00, 20.29batch/s]\n",
      "Test 24: 100%|██████████| 100/100 [00:01<00:00, 60.17batch/s]"
     ]
    },
    {
     "name": "stdout",
     "output_type": "stream",
     "text": [
      "[Epoch 25] Train Loss: 0.463849 - Test Loss: 0.552566 - Train Accuracy: 83.75% - Test Accuracy: 81.37%\n"
     ]
    },
    {
     "name": "stderr",
     "output_type": "stream",
     "text": [
      "\n",
      "Epoch 25: 100%|██████████| 500/500 [00:24<00:00, 20.37batch/s]\n",
      "Test 25: 100%|██████████| 100/100 [00:01<00:00, 68.05batch/s]"
     ]
    },
    {
     "name": "stdout",
     "output_type": "stream",
     "text": [
      "[Epoch 26] Train Loss: 0.453580 - Test Loss: 0.518929 - Train Accuracy: 83.95% - Test Accuracy: 82.23%\n"
     ]
    },
    {
     "name": "stderr",
     "output_type": "stream",
     "text": [
      "\n",
      "Epoch 26: 100%|██████████| 500/500 [00:24<00:00, 20.43batch/s]\n",
      "Test 26: 100%|██████████| 100/100 [00:01<00:00, 68.78batch/s]\n"
     ]
    },
    {
     "name": "stdout",
     "output_type": "stream",
     "text": [
      "[Epoch 27] Train Loss: 0.443016 - Test Loss: 0.430128 - Train Accuracy: 84.53% - Test Accuracy: 85.61%\n"
     ]
    },
    {
     "name": "stderr",
     "output_type": "stream",
     "text": [
      "Epoch 27: 100%|██████████| 500/500 [00:24<00:00, 20.75batch/s]\n",
      "Test 27: 100%|██████████| 100/100 [00:01<00:00, 71.39batch/s]"
     ]
    },
    {
     "name": "stdout",
     "output_type": "stream",
     "text": [
      "[Epoch 28] Train Loss: 0.437861 - Test Loss: 0.476638 - Train Accuracy: 84.45% - Test Accuracy: 83.59%\n"
     ]
    },
    {
     "name": "stderr",
     "output_type": "stream",
     "text": [
      "\n",
      "Epoch 28: 100%|██████████| 500/500 [00:24<00:00, 20.27batch/s]\n",
      "Test 28: 100%|██████████| 100/100 [00:01<00:00, 69.41batch/s]"
     ]
    },
    {
     "name": "stdout",
     "output_type": "stream",
     "text": [
      "[Epoch 29] Train Loss: 0.428049 - Test Loss: 0.494631 - Train Accuracy: 84.94% - Test Accuracy: 83.55%\n"
     ]
    },
    {
     "name": "stderr",
     "output_type": "stream",
     "text": [
      "\n",
      "Epoch 29: 100%|██████████| 500/500 [00:24<00:00, 20.29batch/s]\n",
      "Test 29: 100%|██████████| 100/100 [00:01<00:00, 63.06batch/s]"
     ]
    },
    {
     "name": "stdout",
     "output_type": "stream",
     "text": [
      "[Epoch 30] Train Loss: 0.425250 - Test Loss: 0.422138 - Train Accuracy: 85.33% - Test Accuracy: 86.04%\n"
     ]
    },
    {
     "name": "stderr",
     "output_type": "stream",
     "text": [
      "\n",
      "Epoch 30: 100%|██████████| 500/500 [00:24<00:00, 20.68batch/s]\n",
      "Test 30: 100%|██████████| 100/100 [00:01<00:00, 71.94batch/s]"
     ]
    },
    {
     "name": "stdout",
     "output_type": "stream",
     "text": [
      "[Epoch 31] Train Loss: 0.413078 - Test Loss: 0.503274 - Train Accuracy: 85.49% - Test Accuracy: 83.38%\n"
     ]
    },
    {
     "name": "stderr",
     "output_type": "stream",
     "text": [
      "\n",
      "Epoch 31: 100%|██████████| 500/500 [00:24<00:00, 20.30batch/s]\n",
      "Test 31: 100%|██████████| 100/100 [00:01<00:00, 73.73batch/s]"
     ]
    },
    {
     "name": "stdout",
     "output_type": "stream",
     "text": [
      "[Epoch 32] Train Loss: 0.405099 - Test Loss: 0.534110 - Train Accuracy: 85.62% - Test Accuracy: 82.68%\n"
     ]
    },
    {
     "name": "stderr",
     "output_type": "stream",
     "text": [
      "\n",
      "Epoch 32: 100%|██████████| 500/500 [00:24<00:00, 20.29batch/s]\n",
      "Test 32: 100%|██████████| 100/100 [00:01<00:00, 68.88batch/s]"
     ]
    },
    {
     "name": "stdout",
     "output_type": "stream",
     "text": [
      "[Epoch 33] Train Loss: 0.397971 - Test Loss: 0.485441 - Train Accuracy: 85.93% - Test Accuracy: 83.63%\n"
     ]
    },
    {
     "name": "stderr",
     "output_type": "stream",
     "text": [
      "\n",
      "Epoch 33: 100%|██████████| 500/500 [00:24<00:00, 20.09batch/s]\n",
      "Test 33: 100%|██████████| 100/100 [00:01<00:00, 70.32batch/s]"
     ]
    },
    {
     "name": "stdout",
     "output_type": "stream",
     "text": [
      "[Epoch 34] Train Loss: 0.387474 - Test Loss: 0.449697 - Train Accuracy: 86.45% - Test Accuracy: 85.12%\n"
     ]
    },
    {
     "name": "stderr",
     "output_type": "stream",
     "text": [
      "\n",
      "Epoch 34: 100%|██████████| 500/500 [00:24<00:00, 20.40batch/s]\n",
      "Test 34: 100%|██████████| 100/100 [00:01<00:00, 68.08batch/s]"
     ]
    },
    {
     "name": "stdout",
     "output_type": "stream",
     "text": [
      "[Epoch 35] Train Loss: 0.382067 - Test Loss: 0.422376 - Train Accuracy: 86.47% - Test Accuracy: 86.10%\n"
     ]
    },
    {
     "name": "stderr",
     "output_type": "stream",
     "text": [
      "\n",
      "Epoch 35: 100%|██████████| 500/500 [00:24<00:00, 20.53batch/s]\n",
      "Test 35: 100%|██████████| 100/100 [00:01<00:00, 68.09batch/s]"
     ]
    },
    {
     "name": "stdout",
     "output_type": "stream",
     "text": [
      "[Epoch 36] Train Loss: 0.381059 - Test Loss: 0.421222 - Train Accuracy: 86.65% - Test Accuracy: 85.80%\n"
     ]
    },
    {
     "name": "stderr",
     "output_type": "stream",
     "text": [
      "\n",
      "Epoch 36: 100%|██████████| 500/500 [00:24<00:00, 20.24batch/s]\n",
      "Test 36: 100%|██████████| 100/100 [00:01<00:00, 70.98batch/s]"
     ]
    },
    {
     "name": "stdout",
     "output_type": "stream",
     "text": [
      "[Epoch 37] Train Loss: 0.372887 - Test Loss: 0.506767 - Train Accuracy: 86.83% - Test Accuracy: 84.22%\n"
     ]
    },
    {
     "name": "stderr",
     "output_type": "stream",
     "text": [
      "\n",
      "Epoch 37: 100%|██████████| 500/500 [00:24<00:00, 20.57batch/s]\n",
      "Test 37: 100%|██████████| 100/100 [00:01<00:00, 67.05batch/s]"
     ]
    },
    {
     "name": "stdout",
     "output_type": "stream",
     "text": [
      "[Epoch 38] Train Loss: 0.364221 - Test Loss: 0.484044 - Train Accuracy: 87.11% - Test Accuracy: 84.24%\n"
     ]
    },
    {
     "name": "stderr",
     "output_type": "stream",
     "text": [
      "\n",
      "Epoch 38: 100%|██████████| 500/500 [00:24<00:00, 20.38batch/s]\n",
      "Test 38: 100%|██████████| 100/100 [00:01<00:00, 71.66batch/s]"
     ]
    },
    {
     "name": "stdout",
     "output_type": "stream",
     "text": [
      "[Epoch 39] Train Loss: 0.363326 - Test Loss: 0.494400 - Train Accuracy: 87.19% - Test Accuracy: 83.28%\n"
     ]
    },
    {
     "name": "stderr",
     "output_type": "stream",
     "text": [
      "\n",
      "Epoch 39: 100%|██████████| 500/500 [00:24<00:00, 20.47batch/s]\n",
      "Test 39: 100%|██████████| 100/100 [00:01<00:00, 66.39batch/s]\n"
     ]
    },
    {
     "name": "stdout",
     "output_type": "stream",
     "text": [
      "[Epoch 40] Train Loss: 0.354005 - Test Loss: 0.416436 - Train Accuracy: 87.55% - Test Accuracy: 86.21%\n"
     ]
    },
    {
     "name": "stderr",
     "output_type": "stream",
     "text": [
      "Epoch 40: 100%|██████████| 500/500 [00:24<00:00, 20.62batch/s]\n",
      "Test 40: 100%|██████████| 100/100 [00:01<00:00, 68.85batch/s]"
     ]
    },
    {
     "name": "stdout",
     "output_type": "stream",
     "text": [
      "[Epoch 41] Train Loss: 0.352928 - Test Loss: 0.450741 - Train Accuracy: 87.70% - Test Accuracy: 85.39%\n"
     ]
    },
    {
     "name": "stderr",
     "output_type": "stream",
     "text": [
      "\n",
      "Epoch 41: 100%|██████████| 500/500 [00:24<00:00, 20.31batch/s]\n",
      "Test 41: 100%|██████████| 100/100 [00:01<00:00, 72.06batch/s]"
     ]
    },
    {
     "name": "stdout",
     "output_type": "stream",
     "text": [
      "[Epoch 42] Train Loss: 0.343806 - Test Loss: 0.417101 - Train Accuracy: 87.83% - Test Accuracy: 86.48%\n"
     ]
    },
    {
     "name": "stderr",
     "output_type": "stream",
     "text": [
      "\n",
      "Epoch 42: 100%|██████████| 500/500 [00:24<00:00, 20.25batch/s]\n",
      "Test 42: 100%|██████████| 100/100 [00:01<00:00, 74.60batch/s]"
     ]
    },
    {
     "name": "stdout",
     "output_type": "stream",
     "text": [
      "[Epoch 43] Train Loss: 0.342210 - Test Loss: 0.452401 - Train Accuracy: 87.83% - Test Accuracy: 85.65%\n"
     ]
    },
    {
     "name": "stderr",
     "output_type": "stream",
     "text": [
      "\n",
      "Epoch 43: 100%|██████████| 500/500 [00:24<00:00, 20.61batch/s]\n",
      "Test 43: 100%|██████████| 100/100 [00:01<00:00, 66.88batch/s]"
     ]
    },
    {
     "name": "stdout",
     "output_type": "stream",
     "text": [
      "[Epoch 44] Train Loss: 0.335796 - Test Loss: 0.439533 - Train Accuracy: 88.01% - Test Accuracy: 85.77%\n"
     ]
    },
    {
     "name": "stderr",
     "output_type": "stream",
     "text": [
      "\n",
      "Epoch 44: 100%|██████████| 500/500 [00:24<00:00, 20.65batch/s]\n",
      "Test 44: 100%|██████████| 100/100 [00:01<00:00, 65.59batch/s]\n"
     ]
    },
    {
     "name": "stdout",
     "output_type": "stream",
     "text": [
      "[Epoch 45] Train Loss: 0.331688 - Test Loss: 0.412874 - Train Accuracy: 88.22% - Test Accuracy: 86.67%\n"
     ]
    },
    {
     "name": "stderr",
     "output_type": "stream",
     "text": [
      "Epoch 45: 100%|██████████| 500/500 [00:23<00:00, 21.03batch/s]\n",
      "Test 45: 100%|██████████| 100/100 [00:01<00:00, 70.66batch/s]"
     ]
    },
    {
     "name": "stdout",
     "output_type": "stream",
     "text": [
      "[Epoch 46] Train Loss: 0.329017 - Test Loss: 0.428123 - Train Accuracy: 88.43% - Test Accuracy: 86.31%\n"
     ]
    },
    {
     "name": "stderr",
     "output_type": "stream",
     "text": [
      "\n",
      "Epoch 46: 100%|██████████| 500/500 [00:24<00:00, 20.37batch/s]\n",
      "Test 46: 100%|██████████| 100/100 [00:01<00:00, 69.59batch/s]"
     ]
    },
    {
     "name": "stdout",
     "output_type": "stream",
     "text": [
      "[Epoch 47] Train Loss: 0.320268 - Test Loss: 0.503404 - Train Accuracy: 88.79% - Test Accuracy: 84.50%\n"
     ]
    },
    {
     "name": "stderr",
     "output_type": "stream",
     "text": [
      "\n",
      "Epoch 47: 100%|██████████| 500/500 [00:24<00:00, 20.69batch/s]\n",
      "Test 47: 100%|██████████| 100/100 [00:01<00:00, 72.81batch/s]"
     ]
    },
    {
     "name": "stdout",
     "output_type": "stream",
     "text": [
      "[Epoch 48] Train Loss: 0.321414 - Test Loss: 0.410495 - Train Accuracy: 88.64% - Test Accuracy: 86.82%\n"
     ]
    },
    {
     "name": "stderr",
     "output_type": "stream",
     "text": [
      "\n",
      "Epoch 48: 100%|██████████| 500/500 [00:23<00:00, 20.95batch/s]\n",
      "Test 48: 100%|██████████| 100/100 [00:01<00:00, 67.77batch/s]"
     ]
    },
    {
     "name": "stdout",
     "output_type": "stream",
     "text": [
      "[Epoch 49] Train Loss: 0.310604 - Test Loss: 0.411985 - Train Accuracy: 89.03% - Test Accuracy: 86.78%\n"
     ]
    },
    {
     "name": "stderr",
     "output_type": "stream",
     "text": [
      "\n",
      "Epoch 49: 100%|██████████| 500/500 [00:24<00:00, 20.79batch/s]\n",
      "Test 49: 100%|██████████| 100/100 [00:01<00:00, 70.27batch/s]"
     ]
    },
    {
     "name": "stdout",
     "output_type": "stream",
     "text": [
      "[Epoch 50] Train Loss: 0.311957 - Test Loss: 0.455591 - Train Accuracy: 89.02% - Test Accuracy: 85.51%\n"
     ]
    },
    {
     "name": "stderr",
     "output_type": "stream",
     "text": [
      "\n",
      "Epoch 50: 100%|██████████| 500/500 [00:24<00:00, 20.83batch/s]\n",
      "Test 50: 100%|██████████| 100/100 [00:01<00:00, 71.84batch/s]"
     ]
    },
    {
     "name": "stdout",
     "output_type": "stream",
     "text": [
      "[Epoch 51] Train Loss: 0.299983 - Test Loss: 0.467600 - Train Accuracy: 89.46% - Test Accuracy: 85.50%\n"
     ]
    },
    {
     "name": "stderr",
     "output_type": "stream",
     "text": [
      "\n",
      "Epoch 51: 100%|██████████| 500/500 [00:23<00:00, 20.87batch/s]\n",
      "Test 51: 100%|██████████| 100/100 [00:01<00:00, 70.93batch/s]"
     ]
    },
    {
     "name": "stdout",
     "output_type": "stream",
     "text": [
      "[Epoch 52] Train Loss: 0.300127 - Test Loss: 0.444640 - Train Accuracy: 89.31% - Test Accuracy: 86.06%\n"
     ]
    },
    {
     "name": "stderr",
     "output_type": "stream",
     "text": [
      "\n",
      "Epoch 52: 100%|██████████| 500/500 [00:23<00:00, 21.07batch/s]\n",
      "Test 52: 100%|██████████| 100/100 [00:01<00:00, 73.76batch/s]"
     ]
    },
    {
     "name": "stdout",
     "output_type": "stream",
     "text": [
      "[Epoch 53] Train Loss: 0.296426 - Test Loss: 0.476513 - Train Accuracy: 89.52% - Test Accuracy: 85.07%\n"
     ]
    },
    {
     "name": "stderr",
     "output_type": "stream",
     "text": [
      "\n",
      "Epoch 53: 100%|██████████| 500/500 [00:24<00:00, 20.54batch/s]\n",
      "Test 53: 100%|██████████| 100/100 [00:01<00:00, 69.04batch/s]"
     ]
    },
    {
     "name": "stdout",
     "output_type": "stream",
     "text": [
      "[Epoch 54] Train Loss: 0.290444 - Test Loss: 0.433948 - Train Accuracy: 89.65% - Test Accuracy: 86.41%\n"
     ]
    },
    {
     "name": "stderr",
     "output_type": "stream",
     "text": [
      "\n",
      "Epoch 54: 100%|██████████| 500/500 [00:24<00:00, 20.81batch/s]\n",
      "Test 54: 100%|██████████| 100/100 [00:01<00:00, 71.39batch/s]"
     ]
    },
    {
     "name": "stdout",
     "output_type": "stream",
     "text": [
      "[Epoch 55] Train Loss: 0.294318 - Test Loss: 0.433501 - Train Accuracy: 89.61% - Test Accuracy: 86.25%\n"
     ]
    },
    {
     "name": "stderr",
     "output_type": "stream",
     "text": [
      "\n",
      "Epoch 55: 100%|██████████| 500/500 [00:24<00:00, 20.83batch/s]\n",
      "Test 55: 100%|██████████| 100/100 [00:01<00:00, 73.30batch/s]"
     ]
    },
    {
     "name": "stdout",
     "output_type": "stream",
     "text": [
      "[Epoch 56] Train Loss: 0.283908 - Test Loss: 0.428514 - Train Accuracy: 89.95% - Test Accuracy: 86.18%\n"
     ]
    },
    {
     "name": "stderr",
     "output_type": "stream",
     "text": [
      "\n",
      "Epoch 56: 100%|██████████| 500/500 [00:24<00:00, 20.55batch/s]\n",
      "Test 56: 100%|██████████| 100/100 [00:01<00:00, 72.15batch/s]"
     ]
    },
    {
     "name": "stdout",
     "output_type": "stream",
     "text": [
      "[Epoch 57] Train Loss: 0.280240 - Test Loss: 0.447390 - Train Accuracy: 90.13% - Test Accuracy: 86.35%\n"
     ]
    },
    {
     "name": "stderr",
     "output_type": "stream",
     "text": [
      "\n",
      "Epoch 57: 100%|██████████| 500/500 [00:24<00:00, 20.47batch/s]\n",
      "Test 57: 100%|██████████| 100/100 [00:01<00:00, 68.60batch/s]\n"
     ]
    },
    {
     "name": "stdout",
     "output_type": "stream",
     "text": [
      "[Epoch 58] Train Loss: 0.282154 - Test Loss: 0.425890 - Train Accuracy: 89.96% - Test Accuracy: 86.94%\n"
     ]
    },
    {
     "name": "stderr",
     "output_type": "stream",
     "text": [
      "Epoch 58: 100%|██████████| 500/500 [00:24<00:00, 20.39batch/s]\n",
      "Test 58: 100%|██████████| 100/100 [00:01<00:00, 69.16batch/s]"
     ]
    },
    {
     "name": "stdout",
     "output_type": "stream",
     "text": [
      "[Epoch 59] Train Loss: 0.275421 - Test Loss: 0.410310 - Train Accuracy: 90.18% - Test Accuracy: 87.34%\n"
     ]
    },
    {
     "name": "stderr",
     "output_type": "stream",
     "text": [
      "\n",
      "Epoch 59: 100%|██████████| 500/500 [00:24<00:00, 20.59batch/s]\n",
      "Test 59: 100%|██████████| 100/100 [00:01<00:00, 70.60batch/s]"
     ]
    },
    {
     "name": "stdout",
     "output_type": "stream",
     "text": [
      "[Epoch 60] Train Loss: 0.266872 - Test Loss: 0.443730 - Train Accuracy: 90.34% - Test Accuracy: 86.50%\n"
     ]
    },
    {
     "name": "stderr",
     "output_type": "stream",
     "text": [
      "\n",
      "Epoch 60: 100%|██████████| 500/500 [00:24<00:00, 20.60batch/s]\n",
      "Test 60: 100%|██████████| 100/100 [00:01<00:00, 67.67batch/s]"
     ]
    },
    {
     "name": "stdout",
     "output_type": "stream",
     "text": [
      "[Epoch 61] Train Loss: 0.264957 - Test Loss: 0.510713 - Train Accuracy: 90.67% - Test Accuracy: 85.38%\n"
     ]
    },
    {
     "name": "stderr",
     "output_type": "stream",
     "text": [
      "\n",
      "Epoch 61: 100%|██████████| 500/500 [00:24<00:00, 20.44batch/s]\n",
      "Test 61: 100%|██████████| 100/100 [00:01<00:00, 71.89batch/s]"
     ]
    },
    {
     "name": "stdout",
     "output_type": "stream",
     "text": [
      "[Epoch 62] Train Loss: 0.260211 - Test Loss: 0.424931 - Train Accuracy: 90.73% - Test Accuracy: 87.33%\n"
     ]
    },
    {
     "name": "stderr",
     "output_type": "stream",
     "text": [
      "\n",
      "Epoch 62: 100%|██████████| 500/500 [00:24<00:00, 20.65batch/s]\n",
      "Test 62: 100%|██████████| 100/100 [00:01<00:00, 72.88batch/s]"
     ]
    },
    {
     "name": "stdout",
     "output_type": "stream",
     "text": [
      "[Epoch 63] Train Loss: 0.263474 - Test Loss: 0.418531 - Train Accuracy: 90.66% - Test Accuracy: 87.49%\n"
     ]
    },
    {
     "name": "stderr",
     "output_type": "stream",
     "text": [
      "\n",
      "Epoch 63: 100%|██████████| 500/500 [00:24<00:00, 20.52batch/s]\n",
      "Test 63: 100%|██████████| 100/100 [00:01<00:00, 70.06batch/s]"
     ]
    },
    {
     "name": "stdout",
     "output_type": "stream",
     "text": [
      "[Epoch 64] Train Loss: 0.253782 - Test Loss: 0.419882 - Train Accuracy: 90.88% - Test Accuracy: 87.41%\n"
     ]
    },
    {
     "name": "stderr",
     "output_type": "stream",
     "text": [
      "\n",
      "Epoch 64: 100%|██████████| 500/500 [00:24<00:00, 20.50batch/s]\n",
      "Test 64: 100%|██████████| 100/100 [00:01<00:00, 69.07batch/s]"
     ]
    },
    {
     "name": "stdout",
     "output_type": "stream",
     "text": [
      "[Epoch 65] Train Loss: 0.253916 - Test Loss: 0.420054 - Train Accuracy: 90.98% - Test Accuracy: 87.45%\n"
     ]
    },
    {
     "name": "stderr",
     "output_type": "stream",
     "text": [
      "\n",
      "Epoch 65: 100%|██████████| 500/500 [00:24<00:00, 20.67batch/s]\n",
      "Test 65: 100%|██████████| 100/100 [00:01<00:00, 70.85batch/s]"
     ]
    },
    {
     "name": "stdout",
     "output_type": "stream",
     "text": [
      "[Epoch 66] Train Loss: 0.253888 - Test Loss: 0.535738 - Train Accuracy: 90.96% - Test Accuracy: 84.84%\n"
     ]
    },
    {
     "name": "stderr",
     "output_type": "stream",
     "text": [
      "\n",
      "Epoch 66: 100%|██████████| 500/500 [00:24<00:00, 20.52batch/s]\n",
      "Test 66: 100%|██████████| 100/100 [00:01<00:00, 70.76batch/s]"
     ]
    },
    {
     "name": "stdout",
     "output_type": "stream",
     "text": [
      "[Epoch 67] Train Loss: 0.249865 - Test Loss: 0.458042 - Train Accuracy: 91.07% - Test Accuracy: 86.13%\n"
     ]
    },
    {
     "name": "stderr",
     "output_type": "stream",
     "text": [
      "\n",
      "Epoch 67: 100%|██████████| 500/500 [00:24<00:00, 20.67batch/s]\n",
      "Test 67: 100%|██████████| 100/100 [00:01<00:00, 67.15batch/s]"
     ]
    },
    {
     "name": "stdout",
     "output_type": "stream",
     "text": [
      "[Epoch 68] Train Loss: 0.244286 - Test Loss: 0.469973 - Train Accuracy: 91.23% - Test Accuracy: 86.54%\n"
     ]
    },
    {
     "name": "stderr",
     "output_type": "stream",
     "text": [
      "\n",
      "Epoch 68: 100%|██████████| 500/500 [00:24<00:00, 20.66batch/s]\n",
      "Test 68: 100%|██████████| 100/100 [00:01<00:00, 72.36batch/s]"
     ]
    },
    {
     "name": "stdout",
     "output_type": "stream",
     "text": [
      "[Epoch 69] Train Loss: 0.244487 - Test Loss: 0.424274 - Train Accuracy: 91.44% - Test Accuracy: 87.65%\n"
     ]
    },
    {
     "name": "stderr",
     "output_type": "stream",
     "text": [
      "\n",
      "Epoch 69: 100%|██████████| 500/500 [00:24<00:00, 20.32batch/s]\n",
      "Test 69: 100%|██████████| 100/100 [00:01<00:00, 71.18batch/s]"
     ]
    },
    {
     "name": "stdout",
     "output_type": "stream",
     "text": [
      "[Epoch 70] Train Loss: 0.239062 - Test Loss: 0.487347 - Train Accuracy: 91.47% - Test Accuracy: 85.99%\n"
     ]
    },
    {
     "name": "stderr",
     "output_type": "stream",
     "text": [
      "\n",
      "Epoch 70: 100%|██████████| 500/500 [00:24<00:00, 20.74batch/s]\n",
      "Test 70: 100%|██████████| 100/100 [00:01<00:00, 68.94batch/s]\n"
     ]
    },
    {
     "name": "stdout",
     "output_type": "stream",
     "text": [
      "[Epoch 71] Train Loss: 0.198008 - Test Loss: 0.370388 - Train Accuracy: 92.96% - Test Accuracy: 89.13%\n"
     ]
    },
    {
     "name": "stderr",
     "output_type": "stream",
     "text": [
      "Epoch 71: 100%|██████████| 500/500 [00:24<00:00, 20.49batch/s]\n",
      "Test 71: 100%|██████████| 100/100 [00:01<00:00, 70.14batch/s]\n"
     ]
    },
    {
     "name": "stdout",
     "output_type": "stream",
     "text": [
      "[Epoch 72] Train Loss: 0.181002 - Test Loss: 0.371850 - Train Accuracy: 93.66% - Test Accuracy: 89.45%\n"
     ]
    },
    {
     "name": "stderr",
     "output_type": "stream",
     "text": [
      "Epoch 72: 100%|██████████| 500/500 [00:24<00:00, 20.48batch/s]\n",
      "Test 72: 100%|██████████| 100/100 [00:01<00:00, 72.26batch/s]"
     ]
    },
    {
     "name": "stdout",
     "output_type": "stream",
     "text": [
      "[Epoch 73] Train Loss: 0.173742 - Test Loss: 0.379029 - Train Accuracy: 93.76% - Test Accuracy: 89.31%\n"
     ]
    },
    {
     "name": "stderr",
     "output_type": "stream",
     "text": [
      "\n",
      "Epoch 73: 100%|██████████| 500/500 [00:23<00:00, 20.86batch/s]\n",
      "Test 73: 100%|██████████| 100/100 [00:01<00:00, 72.84batch/s]"
     ]
    },
    {
     "name": "stdout",
     "output_type": "stream",
     "text": [
      "[Epoch 74] Train Loss: 0.171733 - Test Loss: 0.377242 - Train Accuracy: 93.93% - Test Accuracy: 89.46%\n"
     ]
    },
    {
     "name": "stderr",
     "output_type": "stream",
     "text": [
      "\n",
      "Epoch 74: 100%|██████████| 500/500 [00:24<00:00, 20.46batch/s]\n",
      "Test 74: 100%|██████████| 100/100 [00:01<00:00, 72.96batch/s]"
     ]
    },
    {
     "name": "stdout",
     "output_type": "stream",
     "text": [
      "[Epoch 75] Train Loss: 0.163883 - Test Loss: 0.382764 - Train Accuracy: 94.13% - Test Accuracy: 89.65%\n"
     ]
    },
    {
     "name": "stderr",
     "output_type": "stream",
     "text": [
      "\n",
      "Epoch 75: 100%|██████████| 500/500 [00:24<00:00, 20.80batch/s]\n",
      "Test 75: 100%|██████████| 100/100 [00:01<00:00, 67.62batch/s]"
     ]
    },
    {
     "name": "stdout",
     "output_type": "stream",
     "text": [
      "[Epoch 76] Train Loss: 0.161181 - Test Loss: 0.386953 - Train Accuracy: 94.28% - Test Accuracy: 89.16%\n"
     ]
    },
    {
     "name": "stderr",
     "output_type": "stream",
     "text": [
      "\n",
      "Epoch 76: 100%|██████████| 500/500 [00:24<00:00, 20.68batch/s]\n",
      "Test 76: 100%|██████████| 100/100 [00:01<00:00, 71.78batch/s]"
     ]
    },
    {
     "name": "stdout",
     "output_type": "stream",
     "text": [
      "[Epoch 77] Train Loss: 0.158555 - Test Loss: 0.390281 - Train Accuracy: 94.39% - Test Accuracy: 88.99%\n"
     ]
    },
    {
     "name": "stderr",
     "output_type": "stream",
     "text": [
      "\n",
      "Epoch 77: 100%|██████████| 500/500 [00:23<00:00, 20.91batch/s]\n",
      "Test 77: 100%|██████████| 100/100 [00:01<00:00, 69.55batch/s]"
     ]
    },
    {
     "name": "stdout",
     "output_type": "stream",
     "text": [
      "[Epoch 78] Train Loss: 0.158578 - Test Loss: 0.391322 - Train Accuracy: 94.48% - Test Accuracy: 89.17%\n"
     ]
    },
    {
     "name": "stderr",
     "output_type": "stream",
     "text": [
      "\n",
      "Epoch 78: 100%|██████████| 500/500 [00:24<00:00, 20.71batch/s]\n",
      "Test 78: 100%|██████████| 100/100 [00:01<00:00, 69.86batch/s]"
     ]
    },
    {
     "name": "stdout",
     "output_type": "stream",
     "text": [
      "[Epoch 79] Train Loss: 0.156241 - Test Loss: 0.390810 - Train Accuracy: 94.57% - Test Accuracy: 89.21%\n"
     ]
    },
    {
     "name": "stderr",
     "output_type": "stream",
     "text": [
      "\n",
      "Epoch 79: 100%|██████████| 500/500 [00:24<00:00, 20.54batch/s]\n",
      "Test 79: 100%|██████████| 100/100 [00:01<00:00, 68.97batch/s]"
     ]
    },
    {
     "name": "stdout",
     "output_type": "stream",
     "text": [
      "[Epoch 80] Train Loss: 0.154813 - Test Loss: 0.389081 - Train Accuracy: 94.51% - Test Accuracy: 89.37%\n"
     ]
    },
    {
     "name": "stderr",
     "output_type": "stream",
     "text": [
      "\n",
      "Epoch 80: 100%|██████████| 500/500 [00:23<00:00, 20.84batch/s]\n",
      "Test 80: 100%|██████████| 100/100 [00:01<00:00, 73.23batch/s]"
     ]
    },
    {
     "name": "stdout",
     "output_type": "stream",
     "text": [
      "[Epoch 81] Train Loss: 0.152844 - Test Loss: 0.390831 - Train Accuracy: 94.59% - Test Accuracy: 89.19%\n"
     ]
    },
    {
     "name": "stderr",
     "output_type": "stream",
     "text": [
      "\n",
      "Epoch 81: 100%|██████████| 500/500 [00:24<00:00, 20.59batch/s]\n",
      "Test 81: 100%|██████████| 100/100 [00:01<00:00, 69.81batch/s]"
     ]
    },
    {
     "name": "stdout",
     "output_type": "stream",
     "text": [
      "[Epoch 82] Train Loss: 0.151376 - Test Loss: 0.386142 - Train Accuracy: 94.62% - Test Accuracy: 89.19%\n"
     ]
    },
    {
     "name": "stderr",
     "output_type": "stream",
     "text": [
      "\n",
      "Epoch 82: 100%|██████████| 500/500 [00:24<00:00, 20.65batch/s]\n",
      "Test 82: 100%|██████████| 100/100 [00:01<00:00, 71.03batch/s]"
     ]
    },
    {
     "name": "stdout",
     "output_type": "stream",
     "text": [
      "[Epoch 83] Train Loss: 0.145868 - Test Loss: 0.386939 - Train Accuracy: 94.80% - Test Accuracy: 89.29%\n"
     ]
    },
    {
     "name": "stderr",
     "output_type": "stream",
     "text": [
      "\n",
      "Epoch 83: 100%|██████████| 500/500 [00:24<00:00, 20.79batch/s]\n",
      "Test 83: 100%|██████████| 100/100 [00:01<00:00, 68.37batch/s]"
     ]
    },
    {
     "name": "stdout",
     "output_type": "stream",
     "text": [
      "[Epoch 84] Train Loss: 0.143532 - Test Loss: 0.389779 - Train Accuracy: 95.01% - Test Accuracy: 89.44%\n"
     ]
    },
    {
     "name": "stderr",
     "output_type": "stream",
     "text": [
      "\n",
      "Epoch 84: 100%|██████████| 500/500 [00:24<00:00, 20.54batch/s]\n",
      "Test 84: 100%|██████████| 100/100 [00:01<00:00, 71.21batch/s]"
     ]
    },
    {
     "name": "stdout",
     "output_type": "stream",
     "text": [
      "[Epoch 85] Train Loss: 0.144573 - Test Loss: 0.388338 - Train Accuracy: 94.83% - Test Accuracy: 89.36%\n"
     ]
    },
    {
     "name": "stderr",
     "output_type": "stream",
     "text": [
      "\n",
      "Epoch 85: 100%|██████████| 500/500 [00:23<00:00, 21.07batch/s]\n",
      "Test 85: 100%|██████████| 100/100 [00:01<00:00, 71.49batch/s]"
     ]
    },
    {
     "name": "stdout",
     "output_type": "stream",
     "text": [
      "[Epoch 86] Train Loss: 0.146409 - Test Loss: 0.390615 - Train Accuracy: 94.88% - Test Accuracy: 89.40%\n"
     ]
    },
    {
     "name": "stderr",
     "output_type": "stream",
     "text": [
      "\n",
      "Epoch 86: 100%|██████████| 500/500 [00:24<00:00, 20.63batch/s]\n",
      "Test 86: 100%|██████████| 100/100 [00:01<00:00, 71.25batch/s]"
     ]
    },
    {
     "name": "stdout",
     "output_type": "stream",
     "text": [
      "[Epoch 87] Train Loss: 0.144721 - Test Loss: 0.390736 - Train Accuracy: 94.84% - Test Accuracy: 89.39%\n"
     ]
    },
    {
     "name": "stderr",
     "output_type": "stream",
     "text": [
      "\n",
      "Epoch 87: 100%|██████████| 500/500 [00:24<00:00, 20.63batch/s]\n",
      "Test 87: 100%|██████████| 100/100 [00:01<00:00, 69.32batch/s]"
     ]
    },
    {
     "name": "stdout",
     "output_type": "stream",
     "text": [
      "[Epoch 88] Train Loss: 0.145848 - Test Loss: 0.389816 - Train Accuracy: 94.81% - Test Accuracy: 89.43%\n"
     ]
    },
    {
     "name": "stderr",
     "output_type": "stream",
     "text": [
      "\n",
      "Epoch 88: 100%|██████████| 500/500 [00:23<00:00, 20.85batch/s]\n",
      "Test 88: 100%|██████████| 100/100 [00:01<00:00, 71.45batch/s]"
     ]
    },
    {
     "name": "stdout",
     "output_type": "stream",
     "text": [
      "[Epoch 89] Train Loss: 0.146088 - Test Loss: 0.394568 - Train Accuracy: 94.79% - Test Accuracy: 89.37%\n"
     ]
    },
    {
     "name": "stderr",
     "output_type": "stream",
     "text": [
      "\n",
      "Epoch 89: 100%|██████████| 500/500 [00:23<00:00, 20.91batch/s]\n",
      "Test 89: 100%|██████████| 100/100 [00:01<00:00, 73.92batch/s]"
     ]
    },
    {
     "name": "stdout",
     "output_type": "stream",
     "text": [
      "[Epoch 90] Train Loss: 0.145711 - Test Loss: 0.395673 - Train Accuracy: 94.82% - Test Accuracy: 89.35%\n"
     ]
    },
    {
     "name": "stderr",
     "output_type": "stream",
     "text": [
      "\n",
      "Epoch 90: 100%|██████████| 500/500 [00:23<00:00, 21.07batch/s]\n",
      "Test 90: 100%|██████████| 100/100 [00:01<00:00, 72.18batch/s]"
     ]
    },
    {
     "name": "stdout",
     "output_type": "stream",
     "text": [
      "[Epoch 91] Train Loss: 0.144024 - Test Loss: 0.391145 - Train Accuracy: 94.81% - Test Accuracy: 89.36%\n"
     ]
    },
    {
     "name": "stderr",
     "output_type": "stream",
     "text": [
      "\n",
      "Epoch 91: 100%|██████████| 500/500 [00:24<00:00, 20.81batch/s]\n",
      "Test 91: 100%|██████████| 100/100 [00:01<00:00, 70.21batch/s]"
     ]
    },
    {
     "name": "stdout",
     "output_type": "stream",
     "text": [
      "[Epoch 92] Train Loss: 0.144501 - Test Loss: 0.392357 - Train Accuracy: 94.89% - Test Accuracy: 89.37%\n"
     ]
    },
    {
     "name": "stderr",
     "output_type": "stream",
     "text": [
      "\n",
      "Epoch 92: 100%|██████████| 500/500 [00:24<00:00, 20.54batch/s]\n",
      "Test 92: 100%|██████████| 100/100 [00:01<00:00, 67.62batch/s]"
     ]
    },
    {
     "name": "stdout",
     "output_type": "stream",
     "text": [
      "[Epoch 93] Train Loss: 0.141754 - Test Loss: 0.391562 - Train Accuracy: 95.02% - Test Accuracy: 89.38%\n"
     ]
    },
    {
     "name": "stderr",
     "output_type": "stream",
     "text": [
      "\n",
      "Epoch 93: 100%|██████████| 500/500 [00:23<00:00, 20.99batch/s]\n",
      "Test 93: 100%|██████████| 100/100 [00:01<00:00, 70.02batch/s]"
     ]
    },
    {
     "name": "stdout",
     "output_type": "stream",
     "text": [
      "[Epoch 94] Train Loss: 0.142998 - Test Loss: 0.391851 - Train Accuracy: 94.93% - Test Accuracy: 89.33%\n"
     ]
    },
    {
     "name": "stderr",
     "output_type": "stream",
     "text": [
      "\n",
      "Epoch 94: 100%|██████████| 500/500 [00:24<00:00, 20.69batch/s]\n",
      "Test 94: 100%|██████████| 100/100 [00:01<00:00, 69.98batch/s]"
     ]
    },
    {
     "name": "stdout",
     "output_type": "stream",
     "text": [
      "[Epoch 95] Train Loss: 0.144440 - Test Loss: 0.391578 - Train Accuracy: 94.86% - Test Accuracy: 89.41%\n"
     ]
    },
    {
     "name": "stderr",
     "output_type": "stream",
     "text": [
      "\n",
      "Epoch 95: 100%|██████████| 500/500 [00:24<00:00, 20.77batch/s]\n",
      "Test 95: 100%|██████████| 100/100 [00:01<00:00, 70.73batch/s]"
     ]
    },
    {
     "name": "stdout",
     "output_type": "stream",
     "text": [
      "[Epoch 96] Train Loss: 0.142513 - Test Loss: 0.392695 - Train Accuracy: 94.97% - Test Accuracy: 89.38%\n"
     ]
    },
    {
     "name": "stderr",
     "output_type": "stream",
     "text": [
      "\n",
      "Epoch 96: 100%|██████████| 500/500 [00:24<00:00, 20.65batch/s]\n",
      "Test 96: 100%|██████████| 100/100 [00:01<00:00, 70.17batch/s]"
     ]
    },
    {
     "name": "stdout",
     "output_type": "stream",
     "text": [
      "[Epoch 97] Train Loss: 0.142600 - Test Loss: 0.389913 - Train Accuracy: 94.89% - Test Accuracy: 89.39%\n"
     ]
    },
    {
     "name": "stderr",
     "output_type": "stream",
     "text": [
      "\n",
      "Epoch 97: 100%|██████████| 500/500 [00:24<00:00, 20.53batch/s]\n",
      "Test 97: 100%|██████████| 100/100 [00:01<00:00, 70.85batch/s]"
     ]
    },
    {
     "name": "stdout",
     "output_type": "stream",
     "text": [
      "[Epoch 98] Train Loss: 0.144219 - Test Loss: 0.391778 - Train Accuracy: 94.92% - Test Accuracy: 89.42%\n"
     ]
    },
    {
     "name": "stderr",
     "output_type": "stream",
     "text": [
      "\n",
      "Epoch 98: 100%|██████████| 500/500 [00:23<00:00, 20.92batch/s]\n",
      "Test 98: 100%|██████████| 100/100 [00:01<00:00, 70.45batch/s]"
     ]
    },
    {
     "name": "stdout",
     "output_type": "stream",
     "text": [
      "[Epoch 99] Train Loss: 0.142850 - Test Loss: 0.390521 - Train Accuracy: 94.95% - Test Accuracy: 89.36%\n"
     ]
    },
    {
     "name": "stderr",
     "output_type": "stream",
     "text": [
      "\n",
      "Epoch 99: 100%|██████████| 500/500 [00:24<00:00, 20.82batch/s]\n",
      "Test 99: 100%|██████████| 100/100 [00:01<00:00, 68.00batch/s]"
     ]
    },
    {
     "name": "stdout",
     "output_type": "stream",
     "text": [
      "[Epoch 100] Train Loss: 0.140833 - Test Loss: 0.388343 - Train Accuracy: 94.96% - Test Accuracy: 89.44%\n",
      "\n",
      "BEST TEST ACCURACY:  89.65  in epoch  74\n"
     ]
    },
    {
     "name": "stderr",
     "output_type": "stream",
     "text": [
      "\n"
     ]
    }
   ],
   "source": [
    "net.to(device)\n",
    "\n",
    "print(\"\\n---- Start Training ----\")\n",
    "best_accuracy = -1\n",
    "best_epoch = 0\n",
    "for epoch in range(epochs):\n",
    "\n",
    "    train_loss, train_correct = 0, 0\n",
    "    net.train()\n",
    "    with tqdm(iter(train_dataloader), desc=\"Epoch \" + str(epoch), unit=\"batch\") as tepoch:\n",
    "        for batch in tepoch:\n",
    "            \n",
    "            images = batch[\"img\"].to(device)\n",
    "            labels = batch[\"label\"].to(device)\n",
    "\n",
    "            optimizer.zero_grad()\n",
    "\n",
    "            outputs = net(images)\n",
    "            loss = criterion(outputs, labels)\n",
    "\n",
    "            loss.backward()\n",
    "\n",
    "            optimizer.step()\n",
    "\n",
    "            labels = torch.argmax(labels, dim=1)\n",
    "            pred = torch.argmax(outputs, dim=1)\n",
    "            train_correct += pred.eq(labels).sum().item()\n",
    "\n",
    "            train_loss += loss.item()\n",
    "\n",
    "    train_loss /= (len(train_dataloader.dataset) / batch_size)\n",
    "\n",
    "    test_loss, test_correct = 0, 0\n",
    "    net.eval()\n",
    "    with torch.no_grad():\n",
    "      with tqdm(iter(test_dataloader), desc=\"Test \" + str(epoch), unit=\"batch\") as tepoch:\n",
    "          for batch in tepoch:\n",
    "\n",
    "            images = batch[\"img\"].to(device)\n",
    "            labels = batch[\"label\"].to(device)\n",
    "\n",
    "            outputs = net(images)\n",
    "            test_loss += criterion(outputs, labels)\n",
    "\n",
    "            labels = torch.argmax(labels, dim=1)\n",
    "            pred = torch.argmax(outputs, dim=1)\n",
    "\n",
    "            test_correct += pred.eq(labels).sum().item()\n",
    "\n",
    "    lr_scheduler.step(test_loss)\n",
    "\n",
    "    test_loss /= (len(test_dataloader.dataset) / batch_size)\n",
    "    test_accuracy = 100. * test_correct / len(test_dataloader.dataset)\n",
    "\n",
    "    print(\"[Epoch {}] Train Loss: {:.6f} - Test Loss: {:.6f} - Train Accuracy: {:.2f}% - Test Accuracy: {:.2f}%\".format(\n",
    "        epoch + 1, train_loss, test_loss, 100. * train_correct / len(train_dataloader.dataset), test_accuracy\n",
    "    ))\n",
    "\n",
    "    if test_accuracy > best_accuracy:\n",
    "        best_accuracy = test_accuracy\n",
    "        best_epoch = epoch\n",
    "\n",
    "        torch.save(net.state_dict(), \"best_model_cifar_resnet2.pt\")\n",
    "\n",
    "print(\"\\nBEST TEST ACCURACY: \", best_accuracy, \" in epoch \", best_epoch)"
   ]
  },
  {
   "cell_type": "markdown",
   "metadata": {},
   "source": [
    "### **Mejor Modelo**"
   ]
  },
  {
   "cell_type": "code",
   "execution_count": 12,
   "metadata": {
    "execution": {
     "iopub.execute_input": "2025-01-26T23:39:25.282918Z",
     "iopub.status.busy": "2025-01-26T23:39:25.282609Z",
     "iopub.status.idle": "2025-01-26T23:39:26.791159Z",
     "shell.execute_reply": "2025-01-26T23:39:26.790127Z",
     "shell.execute_reply.started": "2025-01-26T23:39:25.282891Z"
    },
    "trusted": true
   },
   "outputs": [
    {
     "name": "stderr",
     "output_type": "stream",
     "text": [
      "<ipython-input-12-002f7a7f7bde>:1: FutureWarning: You are using `torch.load` with `weights_only=False` (the current default value), which uses the default pickle module implicitly. It is possible to construct malicious pickle data which will execute arbitrary code during unpickling (See https://github.com/pytorch/pytorch/blob/main/SECURITY.md#untrusted-models for more details). In a future release, the default value for `weights_only` will be flipped to `True`. This limits the functions that could be executed during unpickling. Arbitrary objects will no longer be allowed to be loaded via this mode unless they are explicitly allowlisted by the user via `torch.serialization.add_safe_globals`. We recommend you start setting `weights_only=True` for any use case where you don't have full control of the loaded file. Please open an issue on GitHub for any issues related to this experimental feature.\n",
      "  net.load_state_dict(torch.load(\"best_model_cifar_resnet2.pt\"))\n",
      "Test 99: 100%|██████████| 100/100 [00:01<00:00, 70.90batch/s]"
     ]
    },
    {
     "name": "stdout",
     "output_type": "stream",
     "text": [
      "Final best acc:  89.65\n"
     ]
    },
    {
     "name": "stderr",
     "output_type": "stream",
     "text": [
      "\n"
     ]
    }
   ],
   "source": [
    "net.load_state_dict(torch.load(\"best_model_cifar_resnet2.pt\"))\n",
    "\n",
    "test_loss, test_correct = 0, 0\n",
    "net.eval()\n",
    "with torch.no_grad():\n",
    "    with tqdm(iter(test_dataloader), desc=\"Test \" + str(epoch), unit=\"batch\") as tepoch:\n",
    "        for batch in tepoch:\n",
    "\n",
    "            images = batch[\"img\"].to(device)\n",
    "            labels = batch[\"label\"].to(device)\n",
    "\n",
    "            # Forward\n",
    "            outputs = net(images)\n",
    "            test_loss += criterion(outputs, labels)\n",
    "\n",
    "            # one hot -> labels\n",
    "            labels = torch.argmax(labels, dim=1)\n",
    "            pred = torch.argmax(outputs, dim=1)\n",
    "\n",
    "            test_correct += pred.eq(labels).sum().item()\n",
    "\n",
    "    test_loss /= len(test_dataloader.dataset)\n",
    "    test_accuracy = 100. * test_correct / len(test_dataloader.dataset)\n",
    "print(\"Final best acc: \", test_accuracy)"
   ]
  }
 ],
 "metadata": {
  "kaggle": {
   "accelerator": "nvidiaTeslaT4",
   "dataSources": [],
   "dockerImageVersionId": 30840,
   "isGpuEnabled": true,
   "isInternetEnabled": true,
   "language": "python",
   "sourceType": "notebook"
  },
  "kernelspec": {
   "display_name": "Python 3",
   "language": "python",
   "name": "python3"
  },
  "language_info": {
   "codemirror_mode": {
    "name": "ipython",
    "version": 3
   },
   "file_extension": ".py",
   "mimetype": "text/x-python",
   "name": "python",
   "nbconvert_exporter": "python",
   "pygments_lexer": "ipython3",
   "version": "3.10.12"
  }
 },
 "nbformat": 4,
 "nbformat_minor": 4
}
