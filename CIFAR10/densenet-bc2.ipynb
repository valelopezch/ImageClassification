{
 "cells": [
  {
   "cell_type": "markdown",
   "metadata": {},
   "source": [
    "<div style=\"text-align: right\"><b> Ana Valentina López Chacón </b></div>\n",
    "<div style=\"text-align: right\"><b> Visión por Computadora, 2024 - 2025 </b></div>\n",
    "\n",
    "## **Visión por Computadora: Dense Net**"
   ]
  },
  {
   "cell_type": "code",
   "execution_count": 1,
   "metadata": {
    "_cell_guid": "b1076dfc-b9ad-4769-8c92-a6c4dae69d19",
    "_uuid": "8f2839f25d086af736a60e9eeb907d3b93b6e0e5",
    "execution": {
     "iopub.execute_input": "2025-05-01T21:01:21.521079Z",
     "iopub.status.busy": "2025-05-01T21:01:21.520823Z",
     "iopub.status.idle": "2025-05-01T21:01:29.564959Z",
     "shell.execute_reply": "2025-05-01T21:01:29.564263Z",
     "shell.execute_reply.started": "2025-05-01T21:01:21.521057Z"
    },
    "trusted": true
   },
   "outputs": [
    {
     "name": "stdout",
     "output_type": "stream",
     "text": [
      "Torch version:  2.5.1+cu124\n",
      "Device:  cuda\n"
     ]
    }
   ],
   "source": [
    "import torch\n",
    "import torchvision\n",
    "import torch.nn as nn\n",
    "from tqdm import tqdm\n",
    "import multiprocessing\n",
    "import torch.optim as optim\n",
    "import torch.nn.functional as  F\n",
    "from torchvision import transforms\n",
    "from torch.utils.data import Dataset\n",
    "from torch.utils.data import DataLoader\n",
    "from torch.optim.lr_scheduler import StepLR\n",
    "\n",
    "print(\"Torch version: \", torch. __version__)\n",
    "device = torch.device(\"cuda\" if torch.cuda.is_available() else \"cpu\")\n",
    "print(\"Device: \", device)"
   ]
  },
  {
   "cell_type": "code",
   "execution_count": 2,
   "metadata": {
    "execution": {
     "iopub.execute_input": "2025-05-01T21:01:29.566733Z",
     "iopub.status.busy": "2025-05-01T21:01:29.566347Z",
     "iopub.status.idle": "2025-05-01T21:01:29.576412Z",
     "shell.execute_reply": "2025-05-01T21:01:29.575795Z",
     "shell.execute_reply.started": "2025-05-01T21:01:29.566706Z"
    },
    "trusted": true
   },
   "outputs": [],
   "source": [
    "seed = 42\n",
    "torch.manual_seed(seed)\n",
    "\n",
    "if torch.cuda.is_available():\n",
    "    torch.cuda.manual_seed(seed)\n",
    "    torch.cuda.manual_seed_all(seed)\n",
    "    torch.backends.cudnn.deterministic = True\n",
    "    torch.backends.cudnn.benchmark = False"
   ]
  },
  {
   "cell_type": "code",
   "execution_count": 3,
   "metadata": {
    "execution": {
     "iopub.execute_input": "2025-05-01T21:01:29.577391Z",
     "iopub.status.busy": "2025-05-01T21:01:29.577159Z",
     "iopub.status.idle": "2025-05-01T21:01:29.595093Z",
     "shell.execute_reply": "2025-05-01T21:01:29.594530Z",
     "shell.execute_reply.started": "2025-05-01T21:01:29.577370Z"
    },
    "trusted": true
   },
   "outputs": [],
   "source": [
    "da_train = transforms.Compose([\n",
    "    transforms.RandomHorizontalFlip(),\n",
    "    transforms.RandomAffine(degrees=15, translate=(0.2, 0.2), scale=(0.9, 1.1)),\n",
    "    transforms.RandomResizedCrop(size=32, scale=(0.8, 1.0)),\n",
    "    transforms.ToTensor(),\n",
    "])\n",
    "\n",
    "da_test = transforms.Compose([\n",
    "    transforms.ToTensor(),\n",
    "])"
   ]
  },
  {
   "cell_type": "markdown",
   "metadata": {},
   "source": [
    "### **Carga de Datos**"
   ]
  },
  {
   "cell_type": "code",
   "execution_count": 4,
   "metadata": {
    "execution": {
     "iopub.execute_input": "2025-05-01T21:01:29.596050Z",
     "iopub.status.busy": "2025-05-01T21:01:29.595808Z",
     "iopub.status.idle": "2025-05-01T21:01:38.029003Z",
     "shell.execute_reply": "2025-05-01T21:01:38.028385Z",
     "shell.execute_reply.started": "2025-05-01T21:01:29.596034Z"
    },
    "trusted": true
   },
   "outputs": [
    {
     "name": "stdout",
     "output_type": "stream",
     "text": [
      "\n",
      "Loading CIFAR10  train  Dataset...\n",
      "Downloading https://www.cs.toronto.edu/~kriz/cifar-10-python.tar.gz to .data/cifar-10-python.tar.gz\n"
     ]
    },
    {
     "name": "stderr",
     "output_type": "stream",
     "text": [
      "100%|██████████| 170M/170M [00:04<00:00, 35.0MB/s] \n"
     ]
    },
    {
     "name": "stdout",
     "output_type": "stream",
     "text": [
      "Extracting .data/cifar-10-python.tar.gz to .data/\n",
      "\tTotal Len.:  50000 \n",
      " --------------------------------------------------\n",
      "\n",
      "Loading CIFAR10  test  Dataset...\n",
      "Files already downloaded and verified\n",
      "\tTotal Len.:  10000 \n",
      " --------------------------------------------------\n"
     ]
    }
   ],
   "source": [
    "class CIFAR10_dataset(Dataset):\n",
    "\n",
    "    def __init__(self, transform, partition = \"train\"):\n",
    "\n",
    "        print(\"\\nLoading CIFAR10 \", partition, \" Dataset...\")\n",
    "        self.partition = partition\n",
    "        self.transform = transform\n",
    "        if self.partition == \"train\":\n",
    "            self.data = torchvision.datasets.CIFAR10('.data/', \n",
    "                                                     train=True,\n",
    "                                                     download=True)\n",
    "        else:\n",
    "            self.data = torchvision.datasets.CIFAR10('.data/', \n",
    "                                                     train=False,\n",
    "                                                     download=True)\n",
    "        print(\"\\tTotal Len.: \", len(self.data), \"\\n\", 50*\"-\")\n",
    "    \n",
    "    def __len__(self):\n",
    "        return len(self.data)\n",
    "\n",
    "    def __getitem__(self, idx):\n",
    "\n",
    "        # Image\n",
    "        image = self.data[idx][0]\n",
    "        image_tensor = self.transform(image)\n",
    "\n",
    "        # Label\n",
    "        label = torch.tensor(self.data[idx][1])\n",
    "        label = F.one_hot(label, num_classes=10).float()\n",
    "\n",
    "        return {\"img\": image_tensor, \"label\": label}\n",
    "\n",
    "train_dataset = CIFAR10_dataset(da_train, partition=\"train\")\n",
    "test_dataset = CIFAR10_dataset(da_test, partition=\"test\")"
   ]
  },
  {
   "cell_type": "code",
   "execution_count": 5,
   "metadata": {
    "execution": {
     "iopub.execute_input": "2025-05-01T21:01:38.031020Z",
     "iopub.status.busy": "2025-05-01T21:01:38.030802Z",
     "iopub.status.idle": "2025-05-01T21:01:38.035871Z",
     "shell.execute_reply": "2025-05-01T21:01:38.035125Z",
     "shell.execute_reply.started": "2025-05-01T21:01:38.031003Z"
    },
    "trusted": true
   },
   "outputs": [
    {
     "name": "stdout",
     "output_type": "stream",
     "text": [
      "Num workers 3\n"
     ]
    }
   ],
   "source": [
    "batch_size = 64\n",
    "num_workers = multiprocessing.cpu_count()-1\n",
    "print(\"Num workers\", num_workers)\n",
    "train_dataloader = DataLoader(train_dataset, batch_size, shuffle=True, num_workers=num_workers)\n",
    "test_dataloader = DataLoader(test_dataset, batch_size, shuffle=False, num_workers=num_workers)"
   ]
  },
  {
   "cell_type": "markdown",
   "metadata": {},
   "source": [
    "### **Creación de Red**"
   ]
  },
  {
   "cell_type": "code",
   "execution_count": 6,
   "metadata": {
    "execution": {
     "iopub.execute_input": "2025-05-01T21:01:38.037157Z",
     "iopub.status.busy": "2025-05-01T21:01:38.036846Z",
     "iopub.status.idle": "2025-05-01T21:01:38.105282Z",
     "shell.execute_reply": "2025-05-01T21:01:38.104575Z",
     "shell.execute_reply.started": "2025-05-01T21:01:38.037133Z"
    },
    "trusted": true
   },
   "outputs": [],
   "source": [
    "class Bottleneck(nn.Module):\n",
    "    def __init__(self, in_channels, growth_rate):\n",
    "        super().__init__()\n",
    "        inner_channel = 4 * growth_rate\n",
    "        \n",
    "        self.bottle_neck = nn.Sequential(\n",
    "            nn.BatchNorm2d(in_channels),\n",
    "            nn.ReLU(inplace=True),\n",
    "            nn.Conv2d(in_channels, inner_channel, kernel_size=1, bias=False),\n",
    "            nn.BatchNorm2d(inner_channel),\n",
    "            nn.ReLU(inplace=True),\n",
    "            nn.Conv2d(inner_channel, growth_rate, kernel_size=3, padding=1, bias=False)\n",
    "        )\n",
    "\n",
    "    def forward(self, x):\n",
    "        return torch.cat([x, self.bottle_neck(x)], 1)\n",
    "\n",
    "\n",
    "class Transition(nn.Module):\n",
    "    def __init__(self, in_channels, out_channels):\n",
    "        super().__init__()\n",
    "        self.transition_block = nn.Sequential(\n",
    "            nn.BatchNorm2d(in_channels),\n",
    "            nn.Conv2d(in_channels, out_channels, 1, bias=False),\n",
    "            nn.AvgPool2d(2, stride=2)\n",
    "        )\n",
    "\n",
    "    def forward(self, x):\n",
    "        return self.transition_block(x)\n",
    "\n",
    "\n",
    "class DenseNet(nn.Module):\n",
    "    def __init__(self, nblocks, growth_rate=12, reduction=0.5, num_class=10):\n",
    "        super(DenseNet, self).__init__()\n",
    "        self.growth_rate = growth_rate\n",
    "        inner_channels = 2 * growth_rate\n",
    "\n",
    "        self.conv1 = nn.Conv2d(3, inner_channels, kernel_size=3, padding=1, bias=False)\n",
    "\n",
    "        self.features = nn.Sequential()\n",
    "\n",
    "        for index in range(len(nblocks) - 1):\n",
    "            for i in range(nblocks[index]):\n",
    "                self.features.append(Bottleneck(inner_channels, self.growth_rate))\n",
    "                inner_channels += self.growth_rate\n",
    "            \n",
    "            out_channels = int(reduction * inner_channels)\n",
    "            self.features.append(Transition(inner_channels, out_channels))\n",
    "            inner_channels = out_channels\n",
    "\n",
    "        for i in range(nblocks[len(nblocks) - 1]):\n",
    "            self.features.append(Bottleneck(inner_channels, self.growth_rate))\n",
    "            inner_channels += self.growth_rate\n",
    "\n",
    "        self.features.append(nn.BatchNorm2d(inner_channels))\n",
    "        self.features.append(nn.ReLU(inplace=True))\n",
    "        self.avgpool = nn.AdaptiveAvgPool2d((1, 1))\n",
    "        self.linear = nn.Linear(inner_channels, num_class)\n",
    "\n",
    "    def forward(self, x):\n",
    "        x = self.conv1(x)\n",
    "\n",
    "        for layer in self.features:\n",
    "            x = layer(x)\n",
    "\n",
    "        x = self.avgpool(x)\n",
    "        x = x.view(x.size(0), -1)\n",
    "        x = self.linear(x)\n",
    "        return x"
   ]
  },
  {
   "cell_type": "code",
   "execution_count": 7,
   "metadata": {
    "execution": {
     "iopub.execute_input": "2025-05-01T21:01:38.106518Z",
     "iopub.status.busy": "2025-05-01T21:01:38.106291Z",
     "iopub.status.idle": "2025-05-01T21:01:38.210372Z",
     "shell.execute_reply": "2025-05-01T21:01:38.209852Z",
     "shell.execute_reply.started": "2025-05-01T21:01:38.106496Z"
    },
    "trusted": true
   },
   "outputs": [
    {
     "name": "stdout",
     "output_type": "stream",
     "text": [
      "DenseNet(\n",
      "  (conv1): Conv2d(3, 24, kernel_size=(3, 3), stride=(1, 1), padding=(1, 1), bias=False)\n",
      "  (features): Sequential(\n",
      "    (0): Bottleneck(\n",
      "      (bottle_neck): Sequential(\n",
      "        (0): BatchNorm2d(24, eps=1e-05, momentum=0.1, affine=True, track_running_stats=True)\n",
      "        (1): ReLU(inplace=True)\n",
      "        (2): Conv2d(24, 48, kernel_size=(1, 1), stride=(1, 1), bias=False)\n",
      "        (3): BatchNorm2d(48, eps=1e-05, momentum=0.1, affine=True, track_running_stats=True)\n",
      "        (4): ReLU(inplace=True)\n",
      "        (5): Conv2d(48, 12, kernel_size=(3, 3), stride=(1, 1), padding=(1, 1), bias=False)\n",
      "      )\n",
      "    )\n",
      "    (1): Bottleneck(\n",
      "      (bottle_neck): Sequential(\n",
      "        (0): BatchNorm2d(36, eps=1e-05, momentum=0.1, affine=True, track_running_stats=True)\n",
      "        (1): ReLU(inplace=True)\n",
      "        (2): Conv2d(36, 48, kernel_size=(1, 1), stride=(1, 1), bias=False)\n",
      "        (3): BatchNorm2d(48, eps=1e-05, momentum=0.1, affine=True, track_running_stats=True)\n",
      "        (4): ReLU(inplace=True)\n",
      "        (5): Conv2d(48, 12, kernel_size=(3, 3), stride=(1, 1), padding=(1, 1), bias=False)\n",
      "      )\n",
      "    )\n",
      "    (2): Bottleneck(\n",
      "      (bottle_neck): Sequential(\n",
      "        (0): BatchNorm2d(48, eps=1e-05, momentum=0.1, affine=True, track_running_stats=True)\n",
      "        (1): ReLU(inplace=True)\n",
      "        (2): Conv2d(48, 48, kernel_size=(1, 1), stride=(1, 1), bias=False)\n",
      "        (3): BatchNorm2d(48, eps=1e-05, momentum=0.1, affine=True, track_running_stats=True)\n",
      "        (4): ReLU(inplace=True)\n",
      "        (5): Conv2d(48, 12, kernel_size=(3, 3), stride=(1, 1), padding=(1, 1), bias=False)\n",
      "      )\n",
      "    )\n",
      "    (3): Bottleneck(\n",
      "      (bottle_neck): Sequential(\n",
      "        (0): BatchNorm2d(60, eps=1e-05, momentum=0.1, affine=True, track_running_stats=True)\n",
      "        (1): ReLU(inplace=True)\n",
      "        (2): Conv2d(60, 48, kernel_size=(1, 1), stride=(1, 1), bias=False)\n",
      "        (3): BatchNorm2d(48, eps=1e-05, momentum=0.1, affine=True, track_running_stats=True)\n",
      "        (4): ReLU(inplace=True)\n",
      "        (5): Conv2d(48, 12, kernel_size=(3, 3), stride=(1, 1), padding=(1, 1), bias=False)\n",
      "      )\n",
      "    )\n",
      "    (4): Bottleneck(\n",
      "      (bottle_neck): Sequential(\n",
      "        (0): BatchNorm2d(72, eps=1e-05, momentum=0.1, affine=True, track_running_stats=True)\n",
      "        (1): ReLU(inplace=True)\n",
      "        (2): Conv2d(72, 48, kernel_size=(1, 1), stride=(1, 1), bias=False)\n",
      "        (3): BatchNorm2d(48, eps=1e-05, momentum=0.1, affine=True, track_running_stats=True)\n",
      "        (4): ReLU(inplace=True)\n",
      "        (5): Conv2d(48, 12, kernel_size=(3, 3), stride=(1, 1), padding=(1, 1), bias=False)\n",
      "      )\n",
      "    )\n",
      "    (5): Bottleneck(\n",
      "      (bottle_neck): Sequential(\n",
      "        (0): BatchNorm2d(84, eps=1e-05, momentum=0.1, affine=True, track_running_stats=True)\n",
      "        (1): ReLU(inplace=True)\n",
      "        (2): Conv2d(84, 48, kernel_size=(1, 1), stride=(1, 1), bias=False)\n",
      "        (3): BatchNorm2d(48, eps=1e-05, momentum=0.1, affine=True, track_running_stats=True)\n",
      "        (4): ReLU(inplace=True)\n",
      "        (5): Conv2d(48, 12, kernel_size=(3, 3), stride=(1, 1), padding=(1, 1), bias=False)\n",
      "      )\n",
      "    )\n",
      "    (6): Bottleneck(\n",
      "      (bottle_neck): Sequential(\n",
      "        (0): BatchNorm2d(96, eps=1e-05, momentum=0.1, affine=True, track_running_stats=True)\n",
      "        (1): ReLU(inplace=True)\n",
      "        (2): Conv2d(96, 48, kernel_size=(1, 1), stride=(1, 1), bias=False)\n",
      "        (3): BatchNorm2d(48, eps=1e-05, momentum=0.1, affine=True, track_running_stats=True)\n",
      "        (4): ReLU(inplace=True)\n",
      "        (5): Conv2d(48, 12, kernel_size=(3, 3), stride=(1, 1), padding=(1, 1), bias=False)\n",
      "      )\n",
      "    )\n",
      "    (7): Bottleneck(\n",
      "      (bottle_neck): Sequential(\n",
      "        (0): BatchNorm2d(108, eps=1e-05, momentum=0.1, affine=True, track_running_stats=True)\n",
      "        (1): ReLU(inplace=True)\n",
      "        (2): Conv2d(108, 48, kernel_size=(1, 1), stride=(1, 1), bias=False)\n",
      "        (3): BatchNorm2d(48, eps=1e-05, momentum=0.1, affine=True, track_running_stats=True)\n",
      "        (4): ReLU(inplace=True)\n",
      "        (5): Conv2d(48, 12, kernel_size=(3, 3), stride=(1, 1), padding=(1, 1), bias=False)\n",
      "      )\n",
      "    )\n",
      "    (8): Transition(\n",
      "      (transition_block): Sequential(\n",
      "        (0): BatchNorm2d(120, eps=1e-05, momentum=0.1, affine=True, track_running_stats=True)\n",
      "        (1): Conv2d(120, 60, kernel_size=(1, 1), stride=(1, 1), bias=False)\n",
      "        (2): AvgPool2d(kernel_size=2, stride=2, padding=0)\n",
      "      )\n",
      "    )\n",
      "    (9): Bottleneck(\n",
      "      (bottle_neck): Sequential(\n",
      "        (0): BatchNorm2d(60, eps=1e-05, momentum=0.1, affine=True, track_running_stats=True)\n",
      "        (1): ReLU(inplace=True)\n",
      "        (2): Conv2d(60, 48, kernel_size=(1, 1), stride=(1, 1), bias=False)\n",
      "        (3): BatchNorm2d(48, eps=1e-05, momentum=0.1, affine=True, track_running_stats=True)\n",
      "        (4): ReLU(inplace=True)\n",
      "        (5): Conv2d(48, 12, kernel_size=(3, 3), stride=(1, 1), padding=(1, 1), bias=False)\n",
      "      )\n",
      "    )\n",
      "    (10): Bottleneck(\n",
      "      (bottle_neck): Sequential(\n",
      "        (0): BatchNorm2d(72, eps=1e-05, momentum=0.1, affine=True, track_running_stats=True)\n",
      "        (1): ReLU(inplace=True)\n",
      "        (2): Conv2d(72, 48, kernel_size=(1, 1), stride=(1, 1), bias=False)\n",
      "        (3): BatchNorm2d(48, eps=1e-05, momentum=0.1, affine=True, track_running_stats=True)\n",
      "        (4): ReLU(inplace=True)\n",
      "        (5): Conv2d(48, 12, kernel_size=(3, 3), stride=(1, 1), padding=(1, 1), bias=False)\n",
      "      )\n",
      "    )\n",
      "    (11): Bottleneck(\n",
      "      (bottle_neck): Sequential(\n",
      "        (0): BatchNorm2d(84, eps=1e-05, momentum=0.1, affine=True, track_running_stats=True)\n",
      "        (1): ReLU(inplace=True)\n",
      "        (2): Conv2d(84, 48, kernel_size=(1, 1), stride=(1, 1), bias=False)\n",
      "        (3): BatchNorm2d(48, eps=1e-05, momentum=0.1, affine=True, track_running_stats=True)\n",
      "        (4): ReLU(inplace=True)\n",
      "        (5): Conv2d(48, 12, kernel_size=(3, 3), stride=(1, 1), padding=(1, 1), bias=False)\n",
      "      )\n",
      "    )\n",
      "    (12): Bottleneck(\n",
      "      (bottle_neck): Sequential(\n",
      "        (0): BatchNorm2d(96, eps=1e-05, momentum=0.1, affine=True, track_running_stats=True)\n",
      "        (1): ReLU(inplace=True)\n",
      "        (2): Conv2d(96, 48, kernel_size=(1, 1), stride=(1, 1), bias=False)\n",
      "        (3): BatchNorm2d(48, eps=1e-05, momentum=0.1, affine=True, track_running_stats=True)\n",
      "        (4): ReLU(inplace=True)\n",
      "        (5): Conv2d(48, 12, kernel_size=(3, 3), stride=(1, 1), padding=(1, 1), bias=False)\n",
      "      )\n",
      "    )\n",
      "    (13): Bottleneck(\n",
      "      (bottle_neck): Sequential(\n",
      "        (0): BatchNorm2d(108, eps=1e-05, momentum=0.1, affine=True, track_running_stats=True)\n",
      "        (1): ReLU(inplace=True)\n",
      "        (2): Conv2d(108, 48, kernel_size=(1, 1), stride=(1, 1), bias=False)\n",
      "        (3): BatchNorm2d(48, eps=1e-05, momentum=0.1, affine=True, track_running_stats=True)\n",
      "        (4): ReLU(inplace=True)\n",
      "        (5): Conv2d(48, 12, kernel_size=(3, 3), stride=(1, 1), padding=(1, 1), bias=False)\n",
      "      )\n",
      "    )\n",
      "    (14): Bottleneck(\n",
      "      (bottle_neck): Sequential(\n",
      "        (0): BatchNorm2d(120, eps=1e-05, momentum=0.1, affine=True, track_running_stats=True)\n",
      "        (1): ReLU(inplace=True)\n",
      "        (2): Conv2d(120, 48, kernel_size=(1, 1), stride=(1, 1), bias=False)\n",
      "        (3): BatchNorm2d(48, eps=1e-05, momentum=0.1, affine=True, track_running_stats=True)\n",
      "        (4): ReLU(inplace=True)\n",
      "        (5): Conv2d(48, 12, kernel_size=(3, 3), stride=(1, 1), padding=(1, 1), bias=False)\n",
      "      )\n",
      "    )\n",
      "    (15): Bottleneck(\n",
      "      (bottle_neck): Sequential(\n",
      "        (0): BatchNorm2d(132, eps=1e-05, momentum=0.1, affine=True, track_running_stats=True)\n",
      "        (1): ReLU(inplace=True)\n",
      "        (2): Conv2d(132, 48, kernel_size=(1, 1), stride=(1, 1), bias=False)\n",
      "        (3): BatchNorm2d(48, eps=1e-05, momentum=0.1, affine=True, track_running_stats=True)\n",
      "        (4): ReLU(inplace=True)\n",
      "        (5): Conv2d(48, 12, kernel_size=(3, 3), stride=(1, 1), padding=(1, 1), bias=False)\n",
      "      )\n",
      "    )\n",
      "    (16): Bottleneck(\n",
      "      (bottle_neck): Sequential(\n",
      "        (0): BatchNorm2d(144, eps=1e-05, momentum=0.1, affine=True, track_running_stats=True)\n",
      "        (1): ReLU(inplace=True)\n",
      "        (2): Conv2d(144, 48, kernel_size=(1, 1), stride=(1, 1), bias=False)\n",
      "        (3): BatchNorm2d(48, eps=1e-05, momentum=0.1, affine=True, track_running_stats=True)\n",
      "        (4): ReLU(inplace=True)\n",
      "        (5): Conv2d(48, 12, kernel_size=(3, 3), stride=(1, 1), padding=(1, 1), bias=False)\n",
      "      )\n",
      "    )\n",
      "    (17): Bottleneck(\n",
      "      (bottle_neck): Sequential(\n",
      "        (0): BatchNorm2d(156, eps=1e-05, momentum=0.1, affine=True, track_running_stats=True)\n",
      "        (1): ReLU(inplace=True)\n",
      "        (2): Conv2d(156, 48, kernel_size=(1, 1), stride=(1, 1), bias=False)\n",
      "        (3): BatchNorm2d(48, eps=1e-05, momentum=0.1, affine=True, track_running_stats=True)\n",
      "        (4): ReLU(inplace=True)\n",
      "        (5): Conv2d(48, 12, kernel_size=(3, 3), stride=(1, 1), padding=(1, 1), bias=False)\n",
      "      )\n",
      "    )\n",
      "    (18): Bottleneck(\n",
      "      (bottle_neck): Sequential(\n",
      "        (0): BatchNorm2d(168, eps=1e-05, momentum=0.1, affine=True, track_running_stats=True)\n",
      "        (1): ReLU(inplace=True)\n",
      "        (2): Conv2d(168, 48, kernel_size=(1, 1), stride=(1, 1), bias=False)\n",
      "        (3): BatchNorm2d(48, eps=1e-05, momentum=0.1, affine=True, track_running_stats=True)\n",
      "        (4): ReLU(inplace=True)\n",
      "        (5): Conv2d(48, 12, kernel_size=(3, 3), stride=(1, 1), padding=(1, 1), bias=False)\n",
      "      )\n",
      "    )\n",
      "    (19): Bottleneck(\n",
      "      (bottle_neck): Sequential(\n",
      "        (0): BatchNorm2d(180, eps=1e-05, momentum=0.1, affine=True, track_running_stats=True)\n",
      "        (1): ReLU(inplace=True)\n",
      "        (2): Conv2d(180, 48, kernel_size=(1, 1), stride=(1, 1), bias=False)\n",
      "        (3): BatchNorm2d(48, eps=1e-05, momentum=0.1, affine=True, track_running_stats=True)\n",
      "        (4): ReLU(inplace=True)\n",
      "        (5): Conv2d(48, 12, kernel_size=(3, 3), stride=(1, 1), padding=(1, 1), bias=False)\n",
      "      )\n",
      "    )\n",
      "    (20): Bottleneck(\n",
      "      (bottle_neck): Sequential(\n",
      "        (0): BatchNorm2d(192, eps=1e-05, momentum=0.1, affine=True, track_running_stats=True)\n",
      "        (1): ReLU(inplace=True)\n",
      "        (2): Conv2d(192, 48, kernel_size=(1, 1), stride=(1, 1), bias=False)\n",
      "        (3): BatchNorm2d(48, eps=1e-05, momentum=0.1, affine=True, track_running_stats=True)\n",
      "        (4): ReLU(inplace=True)\n",
      "        (5): Conv2d(48, 12, kernel_size=(3, 3), stride=(1, 1), padding=(1, 1), bias=False)\n",
      "      )\n",
      "    )\n",
      "    (21): Transition(\n",
      "      (transition_block): Sequential(\n",
      "        (0): BatchNorm2d(204, eps=1e-05, momentum=0.1, affine=True, track_running_stats=True)\n",
      "        (1): Conv2d(204, 102, kernel_size=(1, 1), stride=(1, 1), bias=False)\n",
      "        (2): AvgPool2d(kernel_size=2, stride=2, padding=0)\n",
      "      )\n",
      "    )\n",
      "    (22): Bottleneck(\n",
      "      (bottle_neck): Sequential(\n",
      "        (0): BatchNorm2d(102, eps=1e-05, momentum=0.1, affine=True, track_running_stats=True)\n",
      "        (1): ReLU(inplace=True)\n",
      "        (2): Conv2d(102, 48, kernel_size=(1, 1), stride=(1, 1), bias=False)\n",
      "        (3): BatchNorm2d(48, eps=1e-05, momentum=0.1, affine=True, track_running_stats=True)\n",
      "        (4): ReLU(inplace=True)\n",
      "        (5): Conv2d(48, 12, kernel_size=(3, 3), stride=(1, 1), padding=(1, 1), bias=False)\n",
      "      )\n",
      "    )\n",
      "    (23): Bottleneck(\n",
      "      (bottle_neck): Sequential(\n",
      "        (0): BatchNorm2d(114, eps=1e-05, momentum=0.1, affine=True, track_running_stats=True)\n",
      "        (1): ReLU(inplace=True)\n",
      "        (2): Conv2d(114, 48, kernel_size=(1, 1), stride=(1, 1), bias=False)\n",
      "        (3): BatchNorm2d(48, eps=1e-05, momentum=0.1, affine=True, track_running_stats=True)\n",
      "        (4): ReLU(inplace=True)\n",
      "        (5): Conv2d(48, 12, kernel_size=(3, 3), stride=(1, 1), padding=(1, 1), bias=False)\n",
      "      )\n",
      "    )\n",
      "    (24): Bottleneck(\n",
      "      (bottle_neck): Sequential(\n",
      "        (0): BatchNorm2d(126, eps=1e-05, momentum=0.1, affine=True, track_running_stats=True)\n",
      "        (1): ReLU(inplace=True)\n",
      "        (2): Conv2d(126, 48, kernel_size=(1, 1), stride=(1, 1), bias=False)\n",
      "        (3): BatchNorm2d(48, eps=1e-05, momentum=0.1, affine=True, track_running_stats=True)\n",
      "        (4): ReLU(inplace=True)\n",
      "        (5): Conv2d(48, 12, kernel_size=(3, 3), stride=(1, 1), padding=(1, 1), bias=False)\n",
      "      )\n",
      "    )\n",
      "    (25): Bottleneck(\n",
      "      (bottle_neck): Sequential(\n",
      "        (0): BatchNorm2d(138, eps=1e-05, momentum=0.1, affine=True, track_running_stats=True)\n",
      "        (1): ReLU(inplace=True)\n",
      "        (2): Conv2d(138, 48, kernel_size=(1, 1), stride=(1, 1), bias=False)\n",
      "        (3): BatchNorm2d(48, eps=1e-05, momentum=0.1, affine=True, track_running_stats=True)\n",
      "        (4): ReLU(inplace=True)\n",
      "        (5): Conv2d(48, 12, kernel_size=(3, 3), stride=(1, 1), padding=(1, 1), bias=False)\n",
      "      )\n",
      "    )\n",
      "    (26): Bottleneck(\n",
      "      (bottle_neck): Sequential(\n",
      "        (0): BatchNorm2d(150, eps=1e-05, momentum=0.1, affine=True, track_running_stats=True)\n",
      "        (1): ReLU(inplace=True)\n",
      "        (2): Conv2d(150, 48, kernel_size=(1, 1), stride=(1, 1), bias=False)\n",
      "        (3): BatchNorm2d(48, eps=1e-05, momentum=0.1, affine=True, track_running_stats=True)\n",
      "        (4): ReLU(inplace=True)\n",
      "        (5): Conv2d(48, 12, kernel_size=(3, 3), stride=(1, 1), padding=(1, 1), bias=False)\n",
      "      )\n",
      "    )\n",
      "    (27): Bottleneck(\n",
      "      (bottle_neck): Sequential(\n",
      "        (0): BatchNorm2d(162, eps=1e-05, momentum=0.1, affine=True, track_running_stats=True)\n",
      "        (1): ReLU(inplace=True)\n",
      "        (2): Conv2d(162, 48, kernel_size=(1, 1), stride=(1, 1), bias=False)\n",
      "        (3): BatchNorm2d(48, eps=1e-05, momentum=0.1, affine=True, track_running_stats=True)\n",
      "        (4): ReLU(inplace=True)\n",
      "        (5): Conv2d(48, 12, kernel_size=(3, 3), stride=(1, 1), padding=(1, 1), bias=False)\n",
      "      )\n",
      "    )\n",
      "    (28): Bottleneck(\n",
      "      (bottle_neck): Sequential(\n",
      "        (0): BatchNorm2d(174, eps=1e-05, momentum=0.1, affine=True, track_running_stats=True)\n",
      "        (1): ReLU(inplace=True)\n",
      "        (2): Conv2d(174, 48, kernel_size=(1, 1), stride=(1, 1), bias=False)\n",
      "        (3): BatchNorm2d(48, eps=1e-05, momentum=0.1, affine=True, track_running_stats=True)\n",
      "        (4): ReLU(inplace=True)\n",
      "        (5): Conv2d(48, 12, kernel_size=(3, 3), stride=(1, 1), padding=(1, 1), bias=False)\n",
      "      )\n",
      "    )\n",
      "    (29): Bottleneck(\n",
      "      (bottle_neck): Sequential(\n",
      "        (0): BatchNorm2d(186, eps=1e-05, momentum=0.1, affine=True, track_running_stats=True)\n",
      "        (1): ReLU(inplace=True)\n",
      "        (2): Conv2d(186, 48, kernel_size=(1, 1), stride=(1, 1), bias=False)\n",
      "        (3): BatchNorm2d(48, eps=1e-05, momentum=0.1, affine=True, track_running_stats=True)\n",
      "        (4): ReLU(inplace=True)\n",
      "        (5): Conv2d(48, 12, kernel_size=(3, 3), stride=(1, 1), padding=(1, 1), bias=False)\n",
      "      )\n",
      "    )\n",
      "    (30): Bottleneck(\n",
      "      (bottle_neck): Sequential(\n",
      "        (0): BatchNorm2d(198, eps=1e-05, momentum=0.1, affine=True, track_running_stats=True)\n",
      "        (1): ReLU(inplace=True)\n",
      "        (2): Conv2d(198, 48, kernel_size=(1, 1), stride=(1, 1), bias=False)\n",
      "        (3): BatchNorm2d(48, eps=1e-05, momentum=0.1, affine=True, track_running_stats=True)\n",
      "        (4): ReLU(inplace=True)\n",
      "        (5): Conv2d(48, 12, kernel_size=(3, 3), stride=(1, 1), padding=(1, 1), bias=False)\n",
      "      )\n",
      "    )\n",
      "    (31): Bottleneck(\n",
      "      (bottle_neck): Sequential(\n",
      "        (0): BatchNorm2d(210, eps=1e-05, momentum=0.1, affine=True, track_running_stats=True)\n",
      "        (1): ReLU(inplace=True)\n",
      "        (2): Conv2d(210, 48, kernel_size=(1, 1), stride=(1, 1), bias=False)\n",
      "        (3): BatchNorm2d(48, eps=1e-05, momentum=0.1, affine=True, track_running_stats=True)\n",
      "        (4): ReLU(inplace=True)\n",
      "        (5): Conv2d(48, 12, kernel_size=(3, 3), stride=(1, 1), padding=(1, 1), bias=False)\n",
      "      )\n",
      "    )\n",
      "    (32): Bottleneck(\n",
      "      (bottle_neck): Sequential(\n",
      "        (0): BatchNorm2d(222, eps=1e-05, momentum=0.1, affine=True, track_running_stats=True)\n",
      "        (1): ReLU(inplace=True)\n",
      "        (2): Conv2d(222, 48, kernel_size=(1, 1), stride=(1, 1), bias=False)\n",
      "        (3): BatchNorm2d(48, eps=1e-05, momentum=0.1, affine=True, track_running_stats=True)\n",
      "        (4): ReLU(inplace=True)\n",
      "        (5): Conv2d(48, 12, kernel_size=(3, 3), stride=(1, 1), padding=(1, 1), bias=False)\n",
      "      )\n",
      "    )\n",
      "    (33): Bottleneck(\n",
      "      (bottle_neck): Sequential(\n",
      "        (0): BatchNorm2d(234, eps=1e-05, momentum=0.1, affine=True, track_running_stats=True)\n",
      "        (1): ReLU(inplace=True)\n",
      "        (2): Conv2d(234, 48, kernel_size=(1, 1), stride=(1, 1), bias=False)\n",
      "        (3): BatchNorm2d(48, eps=1e-05, momentum=0.1, affine=True, track_running_stats=True)\n",
      "        (4): ReLU(inplace=True)\n",
      "        (5): Conv2d(48, 12, kernel_size=(3, 3), stride=(1, 1), padding=(1, 1), bias=False)\n",
      "      )\n",
      "    )\n",
      "    (34): Transition(\n",
      "      (transition_block): Sequential(\n",
      "        (0): BatchNorm2d(246, eps=1e-05, momentum=0.1, affine=True, track_running_stats=True)\n",
      "        (1): Conv2d(246, 123, kernel_size=(1, 1), stride=(1, 1), bias=False)\n",
      "        (2): AvgPool2d(kernel_size=2, stride=2, padding=0)\n",
      "      )\n",
      "    )\n",
      "    (35): Bottleneck(\n",
      "      (bottle_neck): Sequential(\n",
      "        (0): BatchNorm2d(123, eps=1e-05, momentum=0.1, affine=True, track_running_stats=True)\n",
      "        (1): ReLU(inplace=True)\n",
      "        (2): Conv2d(123, 48, kernel_size=(1, 1), stride=(1, 1), bias=False)\n",
      "        (3): BatchNorm2d(48, eps=1e-05, momentum=0.1, affine=True, track_running_stats=True)\n",
      "        (4): ReLU(inplace=True)\n",
      "        (5): Conv2d(48, 12, kernel_size=(3, 3), stride=(1, 1), padding=(1, 1), bias=False)\n",
      "      )\n",
      "    )\n",
      "    (36): Bottleneck(\n",
      "      (bottle_neck): Sequential(\n",
      "        (0): BatchNorm2d(135, eps=1e-05, momentum=0.1, affine=True, track_running_stats=True)\n",
      "        (1): ReLU(inplace=True)\n",
      "        (2): Conv2d(135, 48, kernel_size=(1, 1), stride=(1, 1), bias=False)\n",
      "        (3): BatchNorm2d(48, eps=1e-05, momentum=0.1, affine=True, track_running_stats=True)\n",
      "        (4): ReLU(inplace=True)\n",
      "        (5): Conv2d(48, 12, kernel_size=(3, 3), stride=(1, 1), padding=(1, 1), bias=False)\n",
      "      )\n",
      "    )\n",
      "    (37): Bottleneck(\n",
      "      (bottle_neck): Sequential(\n",
      "        (0): BatchNorm2d(147, eps=1e-05, momentum=0.1, affine=True, track_running_stats=True)\n",
      "        (1): ReLU(inplace=True)\n",
      "        (2): Conv2d(147, 48, kernel_size=(1, 1), stride=(1, 1), bias=False)\n",
      "        (3): BatchNorm2d(48, eps=1e-05, momentum=0.1, affine=True, track_running_stats=True)\n",
      "        (4): ReLU(inplace=True)\n",
      "        (5): Conv2d(48, 12, kernel_size=(3, 3), stride=(1, 1), padding=(1, 1), bias=False)\n",
      "      )\n",
      "    )\n",
      "    (38): Bottleneck(\n",
      "      (bottle_neck): Sequential(\n",
      "        (0): BatchNorm2d(159, eps=1e-05, momentum=0.1, affine=True, track_running_stats=True)\n",
      "        (1): ReLU(inplace=True)\n",
      "        (2): Conv2d(159, 48, kernel_size=(1, 1), stride=(1, 1), bias=False)\n",
      "        (3): BatchNorm2d(48, eps=1e-05, momentum=0.1, affine=True, track_running_stats=True)\n",
      "        (4): ReLU(inplace=True)\n",
      "        (5): Conv2d(48, 12, kernel_size=(3, 3), stride=(1, 1), padding=(1, 1), bias=False)\n",
      "      )\n",
      "    )\n",
      "    (39): Bottleneck(\n",
      "      (bottle_neck): Sequential(\n",
      "        (0): BatchNorm2d(171, eps=1e-05, momentum=0.1, affine=True, track_running_stats=True)\n",
      "        (1): ReLU(inplace=True)\n",
      "        (2): Conv2d(171, 48, kernel_size=(1, 1), stride=(1, 1), bias=False)\n",
      "        (3): BatchNorm2d(48, eps=1e-05, momentum=0.1, affine=True, track_running_stats=True)\n",
      "        (4): ReLU(inplace=True)\n",
      "        (5): Conv2d(48, 12, kernel_size=(3, 3), stride=(1, 1), padding=(1, 1), bias=False)\n",
      "      )\n",
      "    )\n",
      "    (40): Bottleneck(\n",
      "      (bottle_neck): Sequential(\n",
      "        (0): BatchNorm2d(183, eps=1e-05, momentum=0.1, affine=True, track_running_stats=True)\n",
      "        (1): ReLU(inplace=True)\n",
      "        (2): Conv2d(183, 48, kernel_size=(1, 1), stride=(1, 1), bias=False)\n",
      "        (3): BatchNorm2d(48, eps=1e-05, momentum=0.1, affine=True, track_running_stats=True)\n",
      "        (4): ReLU(inplace=True)\n",
      "        (5): Conv2d(48, 12, kernel_size=(3, 3), stride=(1, 1), padding=(1, 1), bias=False)\n",
      "      )\n",
      "    )\n",
      "    (41): Bottleneck(\n",
      "      (bottle_neck): Sequential(\n",
      "        (0): BatchNorm2d(195, eps=1e-05, momentum=0.1, affine=True, track_running_stats=True)\n",
      "        (1): ReLU(inplace=True)\n",
      "        (2): Conv2d(195, 48, kernel_size=(1, 1), stride=(1, 1), bias=False)\n",
      "        (3): BatchNorm2d(48, eps=1e-05, momentum=0.1, affine=True, track_running_stats=True)\n",
      "        (4): ReLU(inplace=True)\n",
      "        (5): Conv2d(48, 12, kernel_size=(3, 3), stride=(1, 1), padding=(1, 1), bias=False)\n",
      "      )\n",
      "    )\n",
      "    (42): Bottleneck(\n",
      "      (bottle_neck): Sequential(\n",
      "        (0): BatchNorm2d(207, eps=1e-05, momentum=0.1, affine=True, track_running_stats=True)\n",
      "        (1): ReLU(inplace=True)\n",
      "        (2): Conv2d(207, 48, kernel_size=(1, 1), stride=(1, 1), bias=False)\n",
      "        (3): BatchNorm2d(48, eps=1e-05, momentum=0.1, affine=True, track_running_stats=True)\n",
      "        (4): ReLU(inplace=True)\n",
      "        (5): Conv2d(48, 12, kernel_size=(3, 3), stride=(1, 1), padding=(1, 1), bias=False)\n",
      "      )\n",
      "    )\n",
      "    (43): BatchNorm2d(219, eps=1e-05, momentum=0.1, affine=True, track_running_stats=True)\n",
      "    (44): ReLU(inplace=True)\n",
      "  )\n",
      "  (avgpool): AdaptiveAvgPool2d(output_size=(1, 1))\n",
      "  (linear): Linear(in_features=219, out_features=10, bias=True)\n",
      ")\n",
      "Params:  542692\n"
     ]
    }
   ],
   "source": [
    "nblocks = [8, 12, 12, 8]  \n",
    "growth_rate = 12\n",
    "net = DenseNet(nblocks, growth_rate)\n",
    "print(net)\n",
    "\n",
    "def count_parameters(model):\n",
    "    return sum(p.numel() for p in model.parameters() if p.requires_grad)\n",
    "print(\"Params: \", count_parameters(net))"
   ]
  },
  {
   "cell_type": "code",
   "execution_count": 8,
   "metadata": {
    "execution": {
     "iopub.execute_input": "2025-05-01T21:01:38.211257Z",
     "iopub.status.busy": "2025-05-01T21:01:38.211023Z",
     "iopub.status.idle": "2025-05-01T21:01:38.216183Z",
     "shell.execute_reply": "2025-05-01T21:01:38.215465Z",
     "shell.execute_reply.started": "2025-05-01T21:01:38.211235Z"
    },
    "trusted": true
   },
   "outputs": [],
   "source": [
    "criterion = nn.CrossEntropyLoss()\n",
    "optimizer = optim.Adam(net.parameters(), lr=0.001, weight_decay=1e-6)\n",
    "lr_scheduler = optim.lr_scheduler.ReduceLROnPlateau(optimizer, factor=0.1, patience=10, min_lr=0.00001)\n",
    "epochs = 100"
   ]
  },
  {
   "cell_type": "markdown",
   "metadata": {},
   "source": [
    "### **Entrenamiento**"
   ]
  },
  {
   "cell_type": "code",
   "execution_count": 9,
   "metadata": {
    "execution": {
     "iopub.execute_input": "2025-05-01T21:01:38.217249Z",
     "iopub.status.busy": "2025-05-01T21:01:38.216956Z",
     "iopub.status.idle": "2025-05-01T23:05:22.293865Z",
     "shell.execute_reply": "2025-05-01T23:05:22.292935Z",
     "shell.execute_reply.started": "2025-05-01T21:01:38.217224Z"
    },
    "trusted": true
   },
   "outputs": [
    {
     "name": "stdout",
     "output_type": "stream",
     "text": [
      "\n",
      "---- Start Training ----\n"
     ]
    },
    {
     "name": "stderr",
     "output_type": "stream",
     "text": [
      "Epoch 0: 100%|██████████| 782/782 [01:07<00:00, 11.61batch/s]\n",
      "Test 0: 100%|██████████| 157/157 [00:04<00:00, 38.50batch/s]\n"
     ]
    },
    {
     "name": "stdout",
     "output_type": "stream",
     "text": [
      "[Epoch 1] Train Loss: 1.542823 - Test Loss: 1.427444 - Train Accuracy: 42.81% - Test Accuracy: 50.87%\n"
     ]
    },
    {
     "name": "stderr",
     "output_type": "stream",
     "text": [
      "Epoch 1: 100%|██████████| 782/782 [01:09<00:00, 11.29batch/s]\n",
      "Test 1: 100%|██████████| 157/157 [00:04<00:00, 36.32batch/s]\n"
     ]
    },
    {
     "name": "stdout",
     "output_type": "stream",
     "text": [
      "[Epoch 2] Train Loss: 1.195515 - Test Loss: 1.219476 - Train Accuracy: 56.99% - Test Accuracy: 58.08%\n"
     ]
    },
    {
     "name": "stderr",
     "output_type": "stream",
     "text": [
      "Epoch 2: 100%|██████████| 782/782 [01:09<00:00, 11.23batch/s]\n",
      "Test 2: 100%|██████████| 157/157 [00:04<00:00, 36.88batch/s]\n"
     ]
    },
    {
     "name": "stdout",
     "output_type": "stream",
     "text": [
      "[Epoch 3] Train Loss: 1.027305 - Test Loss: 1.020524 - Train Accuracy: 63.49% - Test Accuracy: 64.78%\n"
     ]
    },
    {
     "name": "stderr",
     "output_type": "stream",
     "text": [
      "Epoch 3: 100%|██████████| 782/782 [01:09<00:00, 11.20batch/s]\n",
      "Test 3: 100%|██████████| 157/157 [00:04<00:00, 36.94batch/s]\n"
     ]
    },
    {
     "name": "stdout",
     "output_type": "stream",
     "text": [
      "[Epoch 4] Train Loss: 0.917207 - Test Loss: 0.845591 - Train Accuracy: 67.86% - Test Accuracy: 71.65%\n"
     ]
    },
    {
     "name": "stderr",
     "output_type": "stream",
     "text": [
      "Epoch 4: 100%|██████████| 782/782 [01:09<00:00, 11.20batch/s]\n",
      "Test 4: 100%|██████████| 157/157 [00:04<00:00, 36.96batch/s]"
     ]
    },
    {
     "name": "stdout",
     "output_type": "stream",
     "text": [
      "[Epoch 5] Train Loss: 0.824391 - Test Loss: 0.954322 - Train Accuracy: 71.05% - Test Accuracy: 69.69%\n"
     ]
    },
    {
     "name": "stderr",
     "output_type": "stream",
     "text": [
      "\n",
      "Epoch 5: 100%|██████████| 782/782 [01:09<00:00, 11.20batch/s]\n",
      "Test 5: 100%|██████████| 157/157 [00:04<00:00, 36.95batch/s]\n"
     ]
    },
    {
     "name": "stdout",
     "output_type": "stream",
     "text": [
      "[Epoch 6] Train Loss: 0.764121 - Test Loss: 0.735902 - Train Accuracy: 73.38% - Test Accuracy: 75.14%\n"
     ]
    },
    {
     "name": "stderr",
     "output_type": "stream",
     "text": [
      "Epoch 6: 100%|██████████| 782/782 [01:09<00:00, 11.20batch/s]\n",
      "Test 6: 100%|██████████| 157/157 [00:04<00:00, 36.97batch/s]\n"
     ]
    },
    {
     "name": "stdout",
     "output_type": "stream",
     "text": [
      "[Epoch 7] Train Loss: 0.710471 - Test Loss: 0.672974 - Train Accuracy: 75.28% - Test Accuracy: 76.33%\n"
     ]
    },
    {
     "name": "stderr",
     "output_type": "stream",
     "text": [
      "Epoch 7: 100%|██████████| 782/782 [01:10<00:00, 11.15batch/s]\n",
      "Test 7: 100%|██████████| 157/157 [00:04<00:00, 36.95batch/s]"
     ]
    },
    {
     "name": "stdout",
     "output_type": "stream",
     "text": [
      "[Epoch 8] Train Loss: 0.676601 - Test Loss: 0.757392 - Train Accuracy: 76.44% - Test Accuracy: 75.91%\n"
     ]
    },
    {
     "name": "stderr",
     "output_type": "stream",
     "text": [
      "\n",
      "Epoch 8: 100%|██████████| 782/782 [01:09<00:00, 11.19batch/s]\n",
      "Test 8: 100%|██████████| 157/157 [00:04<00:00, 36.88batch/s]\n"
     ]
    },
    {
     "name": "stdout",
     "output_type": "stream",
     "text": [
      "[Epoch 9] Train Loss: 0.639255 - Test Loss: 0.650847 - Train Accuracy: 77.90% - Test Accuracy: 79.03%\n"
     ]
    },
    {
     "name": "stderr",
     "output_type": "stream",
     "text": [
      "Epoch 9: 100%|██████████| 782/782 [01:09<00:00, 11.17batch/s]\n",
      "Test 9: 100%|██████████| 157/157 [00:04<00:00, 36.85batch/s]"
     ]
    },
    {
     "name": "stdout",
     "output_type": "stream",
     "text": [
      "[Epoch 10] Train Loss: 0.604695 - Test Loss: 0.638627 - Train Accuracy: 79.10% - Test Accuracy: 78.96%\n"
     ]
    },
    {
     "name": "stderr",
     "output_type": "stream",
     "text": [
      "\n",
      "Epoch 10: 100%|██████████| 782/782 [01:09<00:00, 11.17batch/s]\n",
      "Test 10: 100%|██████████| 157/157 [00:04<00:00, 37.06batch/s]\n"
     ]
    },
    {
     "name": "stdout",
     "output_type": "stream",
     "text": [
      "[Epoch 11] Train Loss: 0.581478 - Test Loss: 0.565890 - Train Accuracy: 79.68% - Test Accuracy: 81.34%\n"
     ]
    },
    {
     "name": "stderr",
     "output_type": "stream",
     "text": [
      "Epoch 11: 100%|██████████| 782/782 [01:09<00:00, 11.17batch/s]\n",
      "Test 11: 100%|██████████| 157/157 [00:04<00:00, 36.83batch/s]"
     ]
    },
    {
     "name": "stdout",
     "output_type": "stream",
     "text": [
      "[Epoch 12] Train Loss: 0.557156 - Test Loss: 0.586863 - Train Accuracy: 80.70% - Test Accuracy: 80.82%\n"
     ]
    },
    {
     "name": "stderr",
     "output_type": "stream",
     "text": [
      "\n",
      "Epoch 12: 100%|██████████| 782/782 [01:09<00:00, 11.18batch/s]\n",
      "Test 12: 100%|██████████| 157/157 [00:04<00:00, 36.74batch/s]\n"
     ]
    },
    {
     "name": "stdout",
     "output_type": "stream",
     "text": [
      "[Epoch 13] Train Loss: 0.538687 - Test Loss: 0.500983 - Train Accuracy: 81.19% - Test Accuracy: 83.37%\n"
     ]
    },
    {
     "name": "stderr",
     "output_type": "stream",
     "text": [
      "Epoch 13: 100%|██████████| 782/782 [01:09<00:00, 11.21batch/s]\n",
      "Test 13: 100%|██████████| 157/157 [00:04<00:00, 36.78batch/s]"
     ]
    },
    {
     "name": "stdout",
     "output_type": "stream",
     "text": [
      "[Epoch 14] Train Loss: 0.520084 - Test Loss: 0.574727 - Train Accuracy: 81.90% - Test Accuracy: 81.67%\n"
     ]
    },
    {
     "name": "stderr",
     "output_type": "stream",
     "text": [
      "\n",
      "Epoch 14: 100%|██████████| 782/782 [01:09<00:00, 11.22batch/s]\n",
      "Test 14: 100%|██████████| 157/157 [00:04<00:00, 36.87batch/s]\n"
     ]
    },
    {
     "name": "stdout",
     "output_type": "stream",
     "text": [
      "[Epoch 15] Train Loss: 0.502620 - Test Loss: 0.481731 - Train Accuracy: 82.52% - Test Accuracy: 83.97%\n"
     ]
    },
    {
     "name": "stderr",
     "output_type": "stream",
     "text": [
      "Epoch 15: 100%|██████████| 782/782 [01:09<00:00, 11.21batch/s]\n",
      "Test 15: 100%|██████████| 157/157 [00:04<00:00, 36.99batch/s]"
     ]
    },
    {
     "name": "stdout",
     "output_type": "stream",
     "text": [
      "[Epoch 16] Train Loss: 0.482611 - Test Loss: 0.543905 - Train Accuracy: 83.19% - Test Accuracy: 82.69%\n"
     ]
    },
    {
     "name": "stderr",
     "output_type": "stream",
     "text": [
      "\n",
      "Epoch 16: 100%|██████████| 782/782 [01:09<00:00, 11.22batch/s]\n",
      "Test 16: 100%|██████████| 157/157 [00:04<00:00, 36.86batch/s]"
     ]
    },
    {
     "name": "stdout",
     "output_type": "stream",
     "text": [
      "[Epoch 17] Train Loss: 0.471196 - Test Loss: 0.584244 - Train Accuracy: 83.67% - Test Accuracy: 81.75%\n"
     ]
    },
    {
     "name": "stderr",
     "output_type": "stream",
     "text": [
      "\n",
      "Epoch 17: 100%|██████████| 782/782 [01:09<00:00, 11.19batch/s]\n",
      "Test 17: 100%|██████████| 157/157 [00:04<00:00, 36.93batch/s]\n"
     ]
    },
    {
     "name": "stdout",
     "output_type": "stream",
     "text": [
      "[Epoch 18] Train Loss: 0.457404 - Test Loss: 0.503682 - Train Accuracy: 84.18% - Test Accuracy: 84.25%\n"
     ]
    },
    {
     "name": "stderr",
     "output_type": "stream",
     "text": [
      "Epoch 18: 100%|██████████| 782/782 [01:09<00:00, 11.21batch/s]\n",
      "Test 18: 100%|██████████| 157/157 [00:04<00:00, 36.84batch/s]\n"
     ]
    },
    {
     "name": "stdout",
     "output_type": "stream",
     "text": [
      "[Epoch 19] Train Loss: 0.439961 - Test Loss: 0.481418 - Train Accuracy: 84.71% - Test Accuracy: 84.86%\n"
     ]
    },
    {
     "name": "stderr",
     "output_type": "stream",
     "text": [
      "Epoch 19: 100%|██████████| 782/782 [01:09<00:00, 11.21batch/s]\n",
      "Test 19: 100%|██████████| 157/157 [00:04<00:00, 36.99batch/s]\n"
     ]
    },
    {
     "name": "stdout",
     "output_type": "stream",
     "text": [
      "[Epoch 20] Train Loss: 0.432887 - Test Loss: 0.464953 - Train Accuracy: 85.00% - Test Accuracy: 85.57%\n"
     ]
    },
    {
     "name": "stderr",
     "output_type": "stream",
     "text": [
      "Epoch 20: 100%|██████████| 782/782 [01:09<00:00, 11.18batch/s]\n",
      "Test 20: 100%|██████████| 157/157 [00:04<00:00, 36.89batch/s]"
     ]
    },
    {
     "name": "stdout",
     "output_type": "stream",
     "text": [
      "[Epoch 21] Train Loss: 0.423388 - Test Loss: 0.469512 - Train Accuracy: 85.29% - Test Accuracy: 85.10%\n"
     ]
    },
    {
     "name": "stderr",
     "output_type": "stream",
     "text": [
      "\n",
      "Epoch 21: 100%|██████████| 782/782 [01:10<00:00, 11.17batch/s]\n",
      "Test 21: 100%|██████████| 157/157 [00:04<00:00, 36.67batch/s]\n"
     ]
    },
    {
     "name": "stdout",
     "output_type": "stream",
     "text": [
      "[Epoch 22] Train Loss: 0.406908 - Test Loss: 0.455389 - Train Accuracy: 85.89% - Test Accuracy: 85.43%\n"
     ]
    },
    {
     "name": "stderr",
     "output_type": "stream",
     "text": [
      "Epoch 22: 100%|██████████| 782/782 [01:09<00:00, 11.20batch/s]\n",
      "Test 22: 100%|██████████| 157/157 [00:04<00:00, 36.65batch/s]\n"
     ]
    },
    {
     "name": "stdout",
     "output_type": "stream",
     "text": [
      "[Epoch 23] Train Loss: 0.399649 - Test Loss: 0.445739 - Train Accuracy: 86.04% - Test Accuracy: 86.22%\n"
     ]
    },
    {
     "name": "stderr",
     "output_type": "stream",
     "text": [
      "Epoch 23: 100%|██████████| 782/782 [01:09<00:00, 11.18batch/s]\n",
      "Test 23: 100%|██████████| 157/157 [00:04<00:00, 36.90batch/s]"
     ]
    },
    {
     "name": "stdout",
     "output_type": "stream",
     "text": [
      "[Epoch 24] Train Loss: 0.390355 - Test Loss: 0.474307 - Train Accuracy: 86.29% - Test Accuracy: 85.61%\n"
     ]
    },
    {
     "name": "stderr",
     "output_type": "stream",
     "text": [
      "\n",
      "Epoch 24: 100%|██████████| 782/782 [01:09<00:00, 11.18batch/s]\n",
      "Test 24: 100%|██████████| 157/157 [00:04<00:00, 36.94batch/s]\n"
     ]
    },
    {
     "name": "stdout",
     "output_type": "stream",
     "text": [
      "[Epoch 25] Train Loss: 0.382668 - Test Loss: 0.437112 - Train Accuracy: 86.67% - Test Accuracy: 86.29%\n"
     ]
    },
    {
     "name": "stderr",
     "output_type": "stream",
     "text": [
      "Epoch 25: 100%|██████████| 782/782 [01:09<00:00, 11.19batch/s]\n",
      "Test 25: 100%|██████████| 157/157 [00:04<00:00, 36.84batch/s]\n"
     ]
    },
    {
     "name": "stdout",
     "output_type": "stream",
     "text": [
      "[Epoch 26] Train Loss: 0.374084 - Test Loss: 0.408907 - Train Accuracy: 87.02% - Test Accuracy: 86.85%\n"
     ]
    },
    {
     "name": "stderr",
     "output_type": "stream",
     "text": [
      "Epoch 26: 100%|██████████| 782/782 [01:10<00:00, 11.15batch/s]\n",
      "Test 26: 100%|██████████| 157/157 [00:04<00:00, 36.94batch/s]"
     ]
    },
    {
     "name": "stdout",
     "output_type": "stream",
     "text": [
      "[Epoch 27] Train Loss: 0.369190 - Test Loss: 0.442351 - Train Accuracy: 87.13% - Test Accuracy: 86.15%\n"
     ]
    },
    {
     "name": "stderr",
     "output_type": "stream",
     "text": [
      "\n",
      "Epoch 27: 100%|██████████| 782/782 [01:09<00:00, 11.21batch/s]\n",
      "Test 27: 100%|██████████| 157/157 [00:04<00:00, 36.87batch/s]"
     ]
    },
    {
     "name": "stdout",
     "output_type": "stream",
     "text": [
      "[Epoch 28] Train Loss: 0.359585 - Test Loss: 0.427484 - Train Accuracy: 87.39% - Test Accuracy: 86.60%\n"
     ]
    },
    {
     "name": "stderr",
     "output_type": "stream",
     "text": [
      "\n",
      "Epoch 28: 100%|██████████| 782/782 [01:10<00:00, 11.17batch/s]\n",
      "Test 28: 100%|██████████| 157/157 [00:04<00:00, 36.85batch/s]\n"
     ]
    },
    {
     "name": "stdout",
     "output_type": "stream",
     "text": [
      "[Epoch 29] Train Loss: 0.354351 - Test Loss: 0.388177 - Train Accuracy: 87.57% - Test Accuracy: 87.66%\n"
     ]
    },
    {
     "name": "stderr",
     "output_type": "stream",
     "text": [
      "Epoch 29: 100%|██████████| 782/782 [01:10<00:00, 11.16batch/s]\n",
      "Test 29: 100%|██████████| 157/157 [00:04<00:00, 36.82batch/s]"
     ]
    },
    {
     "name": "stdout",
     "output_type": "stream",
     "text": [
      "[Epoch 30] Train Loss: 0.348109 - Test Loss: 0.472832 - Train Accuracy: 87.69% - Test Accuracy: 85.48%\n"
     ]
    },
    {
     "name": "stderr",
     "output_type": "stream",
     "text": [
      "\n",
      "Epoch 30: 100%|██████████| 782/782 [01:09<00:00, 11.19batch/s]\n",
      "Test 30: 100%|██████████| 157/157 [00:04<00:00, 36.95batch/s]\n"
     ]
    },
    {
     "name": "stdout",
     "output_type": "stream",
     "text": [
      "[Epoch 31] Train Loss: 0.339389 - Test Loss: 0.393169 - Train Accuracy: 88.21% - Test Accuracy: 87.98%\n"
     ]
    },
    {
     "name": "stderr",
     "output_type": "stream",
     "text": [
      "Epoch 31: 100%|██████████| 782/782 [01:09<00:00, 11.17batch/s]\n",
      "Test 31: 100%|██████████| 157/157 [00:04<00:00, 36.88batch/s]"
     ]
    },
    {
     "name": "stdout",
     "output_type": "stream",
     "text": [
      "[Epoch 32] Train Loss: 0.336066 - Test Loss: 0.393383 - Train Accuracy: 88.24% - Test Accuracy: 87.32%\n"
     ]
    },
    {
     "name": "stderr",
     "output_type": "stream",
     "text": [
      "\n",
      "Epoch 32: 100%|██████████| 782/782 [01:09<00:00, 11.18batch/s]\n",
      "Test 32: 100%|██████████| 157/157 [00:04<00:00, 36.67batch/s]\n"
     ]
    },
    {
     "name": "stdout",
     "output_type": "stream",
     "text": [
      "[Epoch 33] Train Loss: 0.325998 - Test Loss: 0.369807 - Train Accuracy: 88.64% - Test Accuracy: 88.33%\n"
     ]
    },
    {
     "name": "stderr",
     "output_type": "stream",
     "text": [
      "Epoch 33: 100%|██████████| 782/782 [01:09<00:00, 11.17batch/s]\n",
      "Test 33: 100%|██████████| 157/157 [00:04<00:00, 36.81batch/s]"
     ]
    },
    {
     "name": "stdout",
     "output_type": "stream",
     "text": [
      "[Epoch 34] Train Loss: 0.324840 - Test Loss: 0.410808 - Train Accuracy: 88.59% - Test Accuracy: 87.05%\n"
     ]
    },
    {
     "name": "stderr",
     "output_type": "stream",
     "text": [
      "\n",
      "Epoch 34: 100%|██████████| 782/782 [01:09<00:00, 11.19batch/s]\n",
      "Test 34: 100%|██████████| 157/157 [00:04<00:00, 36.93batch/s]"
     ]
    },
    {
     "name": "stdout",
     "output_type": "stream",
     "text": [
      "[Epoch 35] Train Loss: 0.313801 - Test Loss: 0.426457 - Train Accuracy: 89.00% - Test Accuracy: 87.23%\n"
     ]
    },
    {
     "name": "stderr",
     "output_type": "stream",
     "text": [
      "\n",
      "Epoch 35: 100%|██████████| 782/782 [01:09<00:00, 11.19batch/s]\n",
      "Test 35: 100%|██████████| 157/157 [00:04<00:00, 36.64batch/s]"
     ]
    },
    {
     "name": "stdout",
     "output_type": "stream",
     "text": [
      "[Epoch 36] Train Loss: 0.306971 - Test Loss: 0.414941 - Train Accuracy: 89.28% - Test Accuracy: 87.54%\n"
     ]
    },
    {
     "name": "stderr",
     "output_type": "stream",
     "text": [
      "\n",
      "Epoch 36: 100%|██████████| 782/782 [01:09<00:00, 11.20batch/s]\n",
      "Test 36: 100%|██████████| 157/157 [00:04<00:00, 36.77batch/s]"
     ]
    },
    {
     "name": "stdout",
     "output_type": "stream",
     "text": [
      "[Epoch 37] Train Loss: 0.303048 - Test Loss: 0.419745 - Train Accuracy: 89.27% - Test Accuracy: 86.93%\n"
     ]
    },
    {
     "name": "stderr",
     "output_type": "stream",
     "text": [
      "\n",
      "Epoch 37: 100%|██████████| 782/782 [01:09<00:00, 11.18batch/s]\n",
      "Test 37: 100%|██████████| 157/157 [00:04<00:00, 36.83batch/s]"
     ]
    },
    {
     "name": "stdout",
     "output_type": "stream",
     "text": [
      "[Epoch 38] Train Loss: 0.297738 - Test Loss: 0.484818 - Train Accuracy: 89.63% - Test Accuracy: 85.79%\n"
     ]
    },
    {
     "name": "stderr",
     "output_type": "stream",
     "text": [
      "\n",
      "Epoch 38: 100%|██████████| 782/782 [01:10<00:00, 11.16batch/s]\n",
      "Test 38: 100%|██████████| 157/157 [00:04<00:00, 36.75batch/s]\n"
     ]
    },
    {
     "name": "stdout",
     "output_type": "stream",
     "text": [
      "[Epoch 39] Train Loss: 0.295837 - Test Loss: 0.363480 - Train Accuracy: 89.63% - Test Accuracy: 88.44%\n"
     ]
    },
    {
     "name": "stderr",
     "output_type": "stream",
     "text": [
      "Epoch 39: 100%|██████████| 782/782 [01:10<00:00, 11.16batch/s]\n",
      "Test 39: 100%|██████████| 157/157 [00:04<00:00, 36.94batch/s]\n"
     ]
    },
    {
     "name": "stdout",
     "output_type": "stream",
     "text": [
      "[Epoch 40] Train Loss: 0.286193 - Test Loss: 0.371067 - Train Accuracy: 89.95% - Test Accuracy: 89.00%\n"
     ]
    },
    {
     "name": "stderr",
     "output_type": "stream",
     "text": [
      "Epoch 40: 100%|██████████| 782/782 [01:10<00:00, 11.17batch/s]\n",
      "Test 40: 100%|██████████| 157/157 [00:04<00:00, 36.97batch/s]\n"
     ]
    },
    {
     "name": "stdout",
     "output_type": "stream",
     "text": [
      "[Epoch 41] Train Loss: 0.285773 - Test Loss: 0.345200 - Train Accuracy: 89.94% - Test Accuracy: 89.34%\n"
     ]
    },
    {
     "name": "stderr",
     "output_type": "stream",
     "text": [
      "Epoch 41: 100%|██████████| 782/782 [01:09<00:00, 11.19batch/s]\n",
      "Test 41: 100%|██████████| 157/157 [00:04<00:00, 36.92batch/s]"
     ]
    },
    {
     "name": "stdout",
     "output_type": "stream",
     "text": [
      "[Epoch 42] Train Loss: 0.279422 - Test Loss: 0.393811 - Train Accuracy: 90.20% - Test Accuracy: 87.64%\n"
     ]
    },
    {
     "name": "stderr",
     "output_type": "stream",
     "text": [
      "\n",
      "Epoch 42: 100%|██████████| 782/782 [01:09<00:00, 11.19batch/s]\n",
      "Test 42: 100%|██████████| 157/157 [00:04<00:00, 36.86batch/s]"
     ]
    },
    {
     "name": "stdout",
     "output_type": "stream",
     "text": [
      "[Epoch 43] Train Loss: 0.277289 - Test Loss: 0.397047 - Train Accuracy: 90.21% - Test Accuracy: 88.31%\n"
     ]
    },
    {
     "name": "stderr",
     "output_type": "stream",
     "text": [
      "\n",
      "Epoch 43: 100%|██████████| 782/782 [01:09<00:00, 11.19batch/s]\n",
      "Test 43: 100%|██████████| 157/157 [00:04<00:00, 36.88batch/s]"
     ]
    },
    {
     "name": "stdout",
     "output_type": "stream",
     "text": [
      "[Epoch 44] Train Loss: 0.274184 - Test Loss: 0.411378 - Train Accuracy: 90.38% - Test Accuracy: 87.93%\n"
     ]
    },
    {
     "name": "stderr",
     "output_type": "stream",
     "text": [
      "\n",
      "Epoch 44: 100%|██████████| 782/782 [01:10<00:00, 11.17batch/s]\n",
      "Test 44: 100%|██████████| 157/157 [00:04<00:00, 36.85batch/s]"
     ]
    },
    {
     "name": "stdout",
     "output_type": "stream",
     "text": [
      "[Epoch 45] Train Loss: 0.270300 - Test Loss: 0.372648 - Train Accuracy: 90.47% - Test Accuracy: 88.52%\n"
     ]
    },
    {
     "name": "stderr",
     "output_type": "stream",
     "text": [
      "\n",
      "Epoch 45: 100%|██████████| 782/782 [01:09<00:00, 11.18batch/s]\n",
      "Test 45: 100%|██████████| 157/157 [00:04<00:00, 36.75batch/s]"
     ]
    },
    {
     "name": "stdout",
     "output_type": "stream",
     "text": [
      "[Epoch 46] Train Loss: 0.264878 - Test Loss: 0.377435 - Train Accuracy: 90.63% - Test Accuracy: 88.72%\n"
     ]
    },
    {
     "name": "stderr",
     "output_type": "stream",
     "text": [
      "\n",
      "Epoch 46: 100%|██████████| 782/782 [01:09<00:00, 11.17batch/s]\n",
      "Test 46: 100%|██████████| 157/157 [00:04<00:00, 36.82batch/s]"
     ]
    },
    {
     "name": "stdout",
     "output_type": "stream",
     "text": [
      "[Epoch 47] Train Loss: 0.259188 - Test Loss: 0.358487 - Train Accuracy: 91.01% - Test Accuracy: 89.23%\n"
     ]
    },
    {
     "name": "stderr",
     "output_type": "stream",
     "text": [
      "\n",
      "Epoch 47: 100%|██████████| 782/782 [01:09<00:00, 11.20batch/s]\n",
      "Test 47: 100%|██████████| 157/157 [00:04<00:00, 36.94batch/s]"
     ]
    },
    {
     "name": "stdout",
     "output_type": "stream",
     "text": [
      "[Epoch 48] Train Loss: 0.260588 - Test Loss: 0.396940 - Train Accuracy: 90.84% - Test Accuracy: 88.05%\n"
     ]
    },
    {
     "name": "stderr",
     "output_type": "stream",
     "text": [
      "\n",
      "Epoch 48: 100%|██████████| 782/782 [01:09<00:00, 11.18batch/s]\n",
      "Test 48: 100%|██████████| 157/157 [00:04<00:00, 36.73batch/s]"
     ]
    },
    {
     "name": "stdout",
     "output_type": "stream",
     "text": [
      "[Epoch 49] Train Loss: 0.257039 - Test Loss: 0.360630 - Train Accuracy: 90.96% - Test Accuracy: 88.53%\n"
     ]
    },
    {
     "name": "stderr",
     "output_type": "stream",
     "text": [
      "\n",
      "Epoch 49: 100%|██████████| 782/782 [01:09<00:00, 11.17batch/s]\n",
      "Test 49: 100%|██████████| 157/157 [00:04<00:00, 37.00batch/s]"
     ]
    },
    {
     "name": "stdout",
     "output_type": "stream",
     "text": [
      "[Epoch 50] Train Loss: 0.249631 - Test Loss: 0.370561 - Train Accuracy: 91.31% - Test Accuracy: 88.80%\n"
     ]
    },
    {
     "name": "stderr",
     "output_type": "stream",
     "text": [
      "\n",
      "Epoch 50: 100%|██████████| 782/782 [01:09<00:00, 11.19batch/s]\n",
      "Test 50: 100%|██████████| 157/157 [00:04<00:00, 36.96batch/s]"
     ]
    },
    {
     "name": "stdout",
     "output_type": "stream",
     "text": [
      "[Epoch 51] Train Loss: 0.243038 - Test Loss: 0.373959 - Train Accuracy: 91.30% - Test Accuracy: 88.70%\n"
     ]
    },
    {
     "name": "stderr",
     "output_type": "stream",
     "text": [
      "\n",
      "Epoch 51: 100%|██████████| 782/782 [01:09<00:00, 11.24batch/s]\n",
      "Test 51: 100%|██████████| 157/157 [00:04<00:00, 37.07batch/s]"
     ]
    },
    {
     "name": "stdout",
     "output_type": "stream",
     "text": [
      "[Epoch 52] Train Loss: 0.243697 - Test Loss: 0.375767 - Train Accuracy: 91.33% - Test Accuracy: 88.99%\n"
     ]
    },
    {
     "name": "stderr",
     "output_type": "stream",
     "text": [
      "\n",
      "Epoch 52: 100%|██████████| 782/782 [01:09<00:00, 11.23batch/s]\n",
      "Test 52: 100%|██████████| 157/157 [00:04<00:00, 36.92batch/s]\n"
     ]
    },
    {
     "name": "stdout",
     "output_type": "stream",
     "text": [
      "[Epoch 53] Train Loss: 0.188346 - Test Loss: 0.302938 - Train Accuracy: 93.40% - Test Accuracy: 90.98%\n"
     ]
    },
    {
     "name": "stderr",
     "output_type": "stream",
     "text": [
      "Epoch 53: 100%|██████████| 782/782 [01:09<00:00, 11.21batch/s]\n",
      "Test 53: 100%|██████████| 157/157 [00:04<00:00, 36.96batch/s]"
     ]
    },
    {
     "name": "stdout",
     "output_type": "stream",
     "text": [
      "[Epoch 54] Train Loss: 0.168385 - Test Loss: 0.305122 - Train Accuracy: 94.08% - Test Accuracy: 90.91%\n"
     ]
    },
    {
     "name": "stderr",
     "output_type": "stream",
     "text": [
      "\n",
      "Epoch 54: 100%|██████████| 782/782 [01:09<00:00, 11.22batch/s]\n",
      "Test 54: 100%|██████████| 157/157 [00:04<00:00, 36.89batch/s]"
     ]
    },
    {
     "name": "stdout",
     "output_type": "stream",
     "text": [
      "[Epoch 55] Train Loss: 0.164450 - Test Loss: 0.309518 - Train Accuracy: 94.25% - Test Accuracy: 90.91%\n"
     ]
    },
    {
     "name": "stderr",
     "output_type": "stream",
     "text": [
      "\n",
      "Epoch 55: 100%|██████████| 782/782 [01:09<00:00, 11.22batch/s]\n",
      "Test 55: 100%|██████████| 157/157 [00:04<00:00, 36.81batch/s]\n"
     ]
    },
    {
     "name": "stdout",
     "output_type": "stream",
     "text": [
      "[Epoch 56] Train Loss: 0.158136 - Test Loss: 0.296752 - Train Accuracy: 94.38% - Test Accuracy: 91.27%\n"
     ]
    },
    {
     "name": "stderr",
     "output_type": "stream",
     "text": [
      "Epoch 56: 100%|██████████| 782/782 [01:09<00:00, 11.23batch/s]\n",
      "Test 56: 100%|██████████| 157/157 [00:04<00:00, 37.03batch/s]"
     ]
    },
    {
     "name": "stdout",
     "output_type": "stream",
     "text": [
      "[Epoch 57] Train Loss: 0.155587 - Test Loss: 0.309715 - Train Accuracy: 94.47% - Test Accuracy: 91.06%\n"
     ]
    },
    {
     "name": "stderr",
     "output_type": "stream",
     "text": [
      "\n",
      "Epoch 57: 100%|██████████| 782/782 [01:09<00:00, 11.22batch/s]\n",
      "Test 57: 100%|██████████| 157/157 [00:04<00:00, 36.96batch/s]\n"
     ]
    },
    {
     "name": "stdout",
     "output_type": "stream",
     "text": [
      "[Epoch 58] Train Loss: 0.154148 - Test Loss: 0.289755 - Train Accuracy: 94.67% - Test Accuracy: 91.43%\n"
     ]
    },
    {
     "name": "stderr",
     "output_type": "stream",
     "text": [
      "Epoch 58: 100%|██████████| 782/782 [01:09<00:00, 11.22batch/s]\n",
      "Test 58: 100%|██████████| 157/157 [00:04<00:00, 36.69batch/s]"
     ]
    },
    {
     "name": "stdout",
     "output_type": "stream",
     "text": [
      "[Epoch 59] Train Loss: 0.148701 - Test Loss: 0.300096 - Train Accuracy: 94.83% - Test Accuracy: 91.25%\n"
     ]
    },
    {
     "name": "stderr",
     "output_type": "stream",
     "text": [
      "\n",
      "Epoch 59: 100%|██████████| 782/782 [01:09<00:00, 11.19batch/s]\n",
      "Test 59: 100%|██████████| 157/157 [00:04<00:00, 36.87batch/s]"
     ]
    },
    {
     "name": "stdout",
     "output_type": "stream",
     "text": [
      "[Epoch 60] Train Loss: 0.145599 - Test Loss: 0.299879 - Train Accuracy: 94.92% - Test Accuracy: 91.43%\n"
     ]
    },
    {
     "name": "stderr",
     "output_type": "stream",
     "text": [
      "\n",
      "Epoch 60: 100%|██████████| 782/782 [01:09<00:00, 11.18batch/s]\n",
      "Test 60: 100%|██████████| 157/157 [00:04<00:00, 36.85batch/s]\n"
     ]
    },
    {
     "name": "stdout",
     "output_type": "stream",
     "text": [
      "[Epoch 61] Train Loss: 0.143609 - Test Loss: 0.297767 - Train Accuracy: 94.90% - Test Accuracy: 91.52%\n"
     ]
    },
    {
     "name": "stderr",
     "output_type": "stream",
     "text": [
      "Epoch 61: 100%|██████████| 782/782 [01:09<00:00, 11.19batch/s]\n",
      "Test 61: 100%|██████████| 157/157 [00:04<00:00, 36.75batch/s]\n"
     ]
    },
    {
     "name": "stdout",
     "output_type": "stream",
     "text": [
      "[Epoch 62] Train Loss: 0.138383 - Test Loss: 0.295680 - Train Accuracy: 95.20% - Test Accuracy: 91.40%\n"
     ]
    },
    {
     "name": "stderr",
     "output_type": "stream",
     "text": [
      "Epoch 62: 100%|██████████| 782/782 [01:09<00:00, 11.19batch/s]\n",
      "Test 62: 100%|██████████| 157/157 [00:04<00:00, 36.82batch/s]"
     ]
    },
    {
     "name": "stdout",
     "output_type": "stream",
     "text": [
      "[Epoch 63] Train Loss: 0.138330 - Test Loss: 0.300607 - Train Accuracy: 95.21% - Test Accuracy: 91.44%\n"
     ]
    },
    {
     "name": "stderr",
     "output_type": "stream",
     "text": [
      "\n",
      "Epoch 63: 100%|██████████| 782/782 [01:09<00:00, 11.17batch/s]\n",
      "Test 63: 100%|██████████| 157/157 [00:04<00:00, 36.93batch/s]\n"
     ]
    },
    {
     "name": "stdout",
     "output_type": "stream",
     "text": [
      "[Epoch 64] Train Loss: 0.137735 - Test Loss: 0.302469 - Train Accuracy: 95.26% - Test Accuracy: 91.54%\n"
     ]
    },
    {
     "name": "stderr",
     "output_type": "stream",
     "text": [
      "Epoch 64: 100%|██████████| 782/782 [01:10<00:00, 11.14batch/s]\n",
      "Test 64: 100%|██████████| 157/157 [00:04<00:00, 36.73batch/s]"
     ]
    },
    {
     "name": "stdout",
     "output_type": "stream",
     "text": [
      "[Epoch 65] Train Loss: 0.139160 - Test Loss: 0.294388 - Train Accuracy: 95.16% - Test Accuracy: 91.53%\n"
     ]
    },
    {
     "name": "stderr",
     "output_type": "stream",
     "text": [
      "\n",
      "Epoch 65: 100%|██████████| 782/782 [01:09<00:00, 11.19batch/s]\n",
      "Test 65: 100%|██████████| 157/157 [00:04<00:00, 37.09batch/s]"
     ]
    },
    {
     "name": "stdout",
     "output_type": "stream",
     "text": [
      "[Epoch 66] Train Loss: 0.132768 - Test Loss: 0.302095 - Train Accuracy: 95.27% - Test Accuracy: 91.54%\n"
     ]
    },
    {
     "name": "stderr",
     "output_type": "stream",
     "text": [
      "\n",
      "Epoch 66: 100%|██████████| 782/782 [01:09<00:00, 11.20batch/s]\n",
      "Test 66: 100%|██████████| 157/157 [00:04<00:00, 36.93batch/s]"
     ]
    },
    {
     "name": "stdout",
     "output_type": "stream",
     "text": [
      "[Epoch 67] Train Loss: 0.133231 - Test Loss: 0.309419 - Train Accuracy: 95.33% - Test Accuracy: 91.38%\n"
     ]
    },
    {
     "name": "stderr",
     "output_type": "stream",
     "text": [
      "\n",
      "Epoch 67: 100%|██████████| 782/782 [01:09<00:00, 11.17batch/s]\n",
      "Test 67: 100%|██████████| 157/157 [00:04<00:00, 36.96batch/s]\n"
     ]
    },
    {
     "name": "stdout",
     "output_type": "stream",
     "text": [
      "[Epoch 68] Train Loss: 0.131572 - Test Loss: 0.301898 - Train Accuracy: 95.36% - Test Accuracy: 91.58%\n"
     ]
    },
    {
     "name": "stderr",
     "output_type": "stream",
     "text": [
      "Epoch 68: 100%|██████████| 782/782 [01:09<00:00, 11.23batch/s]\n",
      "Test 68: 100%|██████████| 157/157 [00:04<00:00, 36.92batch/s]"
     ]
    },
    {
     "name": "stdout",
     "output_type": "stream",
     "text": [
      "[Epoch 69] Train Loss: 0.131656 - Test Loss: 0.315475 - Train Accuracy: 95.37% - Test Accuracy: 91.34%\n"
     ]
    },
    {
     "name": "stderr",
     "output_type": "stream",
     "text": [
      "\n",
      "Epoch 69: 100%|██████████| 782/782 [01:09<00:00, 11.21batch/s]\n",
      "Test 69: 100%|██████████| 157/157 [00:04<00:00, 36.98batch/s]\n"
     ]
    },
    {
     "name": "stdout",
     "output_type": "stream",
     "text": [
      "[Epoch 70] Train Loss: 0.125225 - Test Loss: 0.296936 - Train Accuracy: 95.65% - Test Accuracy: 91.70%\n"
     ]
    },
    {
     "name": "stderr",
     "output_type": "stream",
     "text": [
      "Epoch 70: 100%|██████████| 782/782 [01:09<00:00, 11.23batch/s]\n",
      "Test 70: 100%|██████████| 157/157 [00:04<00:00, 36.97batch/s]"
     ]
    },
    {
     "name": "stdout",
     "output_type": "stream",
     "text": [
      "[Epoch 71] Train Loss: 0.125863 - Test Loss: 0.308574 - Train Accuracy: 95.61% - Test Accuracy: 91.56%\n"
     ]
    },
    {
     "name": "stderr",
     "output_type": "stream",
     "text": [
      "\n",
      "Epoch 71: 100%|██████████| 782/782 [01:09<00:00, 11.21batch/s]\n",
      "Test 71: 100%|██████████| 157/157 [00:04<00:00, 36.97batch/s]"
     ]
    },
    {
     "name": "stdout",
     "output_type": "stream",
     "text": [
      "[Epoch 72] Train Loss: 0.127085 - Test Loss: 0.297293 - Train Accuracy: 95.57% - Test Accuracy: 91.70%\n"
     ]
    },
    {
     "name": "stderr",
     "output_type": "stream",
     "text": [
      "\n",
      "Epoch 72: 100%|██████████| 782/782 [01:09<00:00, 11.19batch/s]\n",
      "Test 72: 100%|██████████| 157/157 [00:04<00:00, 36.96batch/s]"
     ]
    },
    {
     "name": "stdout",
     "output_type": "stream",
     "text": [
      "[Epoch 73] Train Loss: 0.126091 - Test Loss: 0.299513 - Train Accuracy: 95.49% - Test Accuracy: 91.52%\n"
     ]
    },
    {
     "name": "stderr",
     "output_type": "stream",
     "text": [
      "\n",
      "Epoch 73: 100%|██████████| 782/782 [01:09<00:00, 11.20batch/s]\n",
      "Test 73: 100%|██████████| 157/157 [00:04<00:00, 36.94batch/s]"
     ]
    },
    {
     "name": "stdout",
     "output_type": "stream",
     "text": [
      "[Epoch 74] Train Loss: 0.123958 - Test Loss: 0.302459 - Train Accuracy: 95.69% - Test Accuracy: 91.60%\n"
     ]
    },
    {
     "name": "stderr",
     "output_type": "stream",
     "text": [
      "\n",
      "Epoch 74: 100%|██████████| 782/782 [01:09<00:00, 11.19batch/s]\n",
      "Test 74: 100%|██████████| 157/157 [00:04<00:00, 36.91batch/s]\n"
     ]
    },
    {
     "name": "stdout",
     "output_type": "stream",
     "text": [
      "[Epoch 75] Train Loss: 0.121953 - Test Loss: 0.293666 - Train Accuracy: 95.65% - Test Accuracy: 91.81%\n"
     ]
    },
    {
     "name": "stderr",
     "output_type": "stream",
     "text": [
      "Epoch 75: 100%|██████████| 782/782 [01:09<00:00, 11.20batch/s]\n",
      "Test 75: 100%|██████████| 157/157 [00:04<00:00, 36.85batch/s]"
     ]
    },
    {
     "name": "stdout",
     "output_type": "stream",
     "text": [
      "[Epoch 76] Train Loss: 0.121028 - Test Loss: 0.300928 - Train Accuracy: 95.71% - Test Accuracy: 91.69%\n"
     ]
    },
    {
     "name": "stderr",
     "output_type": "stream",
     "text": [
      "\n",
      "Epoch 76: 100%|██████████| 782/782 [01:09<00:00, 11.21batch/s]\n",
      "Test 76: 100%|██████████| 157/157 [00:04<00:00, 36.88batch/s]"
     ]
    },
    {
     "name": "stdout",
     "output_type": "stream",
     "text": [
      "[Epoch 77] Train Loss: 0.121708 - Test Loss: 0.310669 - Train Accuracy: 95.68% - Test Accuracy: 91.51%\n"
     ]
    },
    {
     "name": "stderr",
     "output_type": "stream",
     "text": [
      "\n",
      "Epoch 77: 100%|██████████| 782/782 [01:10<00:00, 11.17batch/s]\n",
      "Test 77: 100%|██████████| 157/157 [00:04<00:00, 36.90batch/s]"
     ]
    },
    {
     "name": "stdout",
     "output_type": "stream",
     "text": [
      "[Epoch 78] Train Loss: 0.120446 - Test Loss: 0.302978 - Train Accuracy: 95.73% - Test Accuracy: 91.68%\n"
     ]
    },
    {
     "name": "stderr",
     "output_type": "stream",
     "text": [
      "\n",
      "Epoch 78: 100%|██████████| 782/782 [01:09<00:00, 11.21batch/s]\n",
      "Test 78: 100%|██████████| 157/157 [00:04<00:00, 36.74batch/s]\n"
     ]
    },
    {
     "name": "stdout",
     "output_type": "stream",
     "text": [
      "[Epoch 79] Train Loss: 0.125164 - Test Loss: 0.293190 - Train Accuracy: 95.72% - Test Accuracy: 91.86%\n"
     ]
    },
    {
     "name": "stderr",
     "output_type": "stream",
     "text": [
      "Epoch 79: 100%|██████████| 782/782 [01:09<00:00, 11.19batch/s]\n",
      "Test 79: 100%|██████████| 157/157 [00:04<00:00, 36.74batch/s]\n"
     ]
    },
    {
     "name": "stdout",
     "output_type": "stream",
     "text": [
      "[Epoch 80] Train Loss: 0.122775 - Test Loss: 0.292339 - Train Accuracy: 95.68% - Test Accuracy: 91.94%\n"
     ]
    },
    {
     "name": "stderr",
     "output_type": "stream",
     "text": [
      "Epoch 80: 100%|██████████| 782/782 [01:09<00:00, 11.17batch/s]\n",
      "Test 80: 100%|██████████| 157/157 [00:04<00:00, 36.92batch/s]"
     ]
    },
    {
     "name": "stdout",
     "output_type": "stream",
     "text": [
      "[Epoch 81] Train Loss: 0.124665 - Test Loss: 0.296076 - Train Accuracy: 95.57% - Test Accuracy: 91.74%\n"
     ]
    },
    {
     "name": "stderr",
     "output_type": "stream",
     "text": [
      "\n",
      "Epoch 81: 100%|██████████| 782/782 [01:10<00:00, 11.16batch/s]\n",
      "Test 81: 100%|██████████| 157/157 [00:04<00:00, 36.56batch/s]"
     ]
    },
    {
     "name": "stdout",
     "output_type": "stream",
     "text": [
      "[Epoch 82] Train Loss: 0.123514 - Test Loss: 0.300676 - Train Accuracy: 95.74% - Test Accuracy: 91.63%\n"
     ]
    },
    {
     "name": "stderr",
     "output_type": "stream",
     "text": [
      "\n",
      "Epoch 82: 100%|██████████| 782/782 [01:09<00:00, 11.18batch/s]\n",
      "Test 82: 100%|██████████| 157/157 [00:04<00:00, 36.94batch/s]"
     ]
    },
    {
     "name": "stdout",
     "output_type": "stream",
     "text": [
      "[Epoch 83] Train Loss: 0.119103 - Test Loss: 0.299037 - Train Accuracy: 95.84% - Test Accuracy: 91.74%\n"
     ]
    },
    {
     "name": "stderr",
     "output_type": "stream",
     "text": [
      "\n",
      "Epoch 83: 100%|██████████| 782/782 [01:09<00:00, 11.23batch/s]\n",
      "Test 83: 100%|██████████| 157/157 [00:04<00:00, 36.94batch/s]"
     ]
    },
    {
     "name": "stdout",
     "output_type": "stream",
     "text": [
      "[Epoch 84] Train Loss: 0.123844 - Test Loss: 0.297048 - Train Accuracy: 95.69% - Test Accuracy: 91.72%\n"
     ]
    },
    {
     "name": "stderr",
     "output_type": "stream",
     "text": [
      "\n",
      "Epoch 84: 100%|██████████| 782/782 [01:09<00:00, 11.19batch/s]\n",
      "Test 84: 100%|██████████| 157/157 [00:04<00:00, 36.55batch/s]"
     ]
    },
    {
     "name": "stdout",
     "output_type": "stream",
     "text": [
      "[Epoch 85] Train Loss: 0.121917 - Test Loss: 0.296572 - Train Accuracy: 95.75% - Test Accuracy: 91.88%\n"
     ]
    },
    {
     "name": "stderr",
     "output_type": "stream",
     "text": [
      "\n",
      "Epoch 85: 100%|██████████| 782/782 [01:09<00:00, 11.18batch/s]\n",
      "Test 85: 100%|██████████| 157/157 [00:04<00:00, 36.94batch/s]"
     ]
    },
    {
     "name": "stdout",
     "output_type": "stream",
     "text": [
      "[Epoch 86] Train Loss: 0.121158 - Test Loss: 0.299118 - Train Accuracy: 95.71% - Test Accuracy: 91.81%\n"
     ]
    },
    {
     "name": "stderr",
     "output_type": "stream",
     "text": [
      "\n",
      "Epoch 86: 100%|██████████| 782/782 [01:10<00:00, 11.15batch/s]\n",
      "Test 86: 100%|██████████| 157/157 [00:04<00:00, 36.66batch/s]"
     ]
    },
    {
     "name": "stdout",
     "output_type": "stream",
     "text": [
      "[Epoch 87] Train Loss: 0.123152 - Test Loss: 0.295752 - Train Accuracy: 95.69% - Test Accuracy: 91.87%\n"
     ]
    },
    {
     "name": "stderr",
     "output_type": "stream",
     "text": [
      "\n",
      "Epoch 87: 100%|██████████| 782/782 [01:09<00:00, 11.20batch/s]\n",
      "Test 87: 100%|██████████| 157/157 [00:04<00:00, 36.97batch/s]"
     ]
    },
    {
     "name": "stdout",
     "output_type": "stream",
     "text": [
      "[Epoch 88] Train Loss: 0.120311 - Test Loss: 0.299642 - Train Accuracy: 95.81% - Test Accuracy: 91.71%\n"
     ]
    },
    {
     "name": "stderr",
     "output_type": "stream",
     "text": [
      "\n",
      "Epoch 88: 100%|██████████| 782/782 [01:09<00:00, 11.18batch/s]\n",
      "Test 88: 100%|██████████| 157/157 [00:04<00:00, 36.93batch/s]"
     ]
    },
    {
     "name": "stdout",
     "output_type": "stream",
     "text": [
      "[Epoch 89] Train Loss: 0.122771 - Test Loss: 0.304895 - Train Accuracy: 95.74% - Test Accuracy: 91.62%\n"
     ]
    },
    {
     "name": "stderr",
     "output_type": "stream",
     "text": [
      "\n",
      "Epoch 89: 100%|██████████| 782/782 [01:09<00:00, 11.21batch/s]\n",
      "Test 89: 100%|██████████| 157/157 [00:04<00:00, 36.86batch/s]"
     ]
    },
    {
     "name": "stdout",
     "output_type": "stream",
     "text": [
      "[Epoch 90] Train Loss: 0.119054 - Test Loss: 0.306849 - Train Accuracy: 95.88% - Test Accuracy: 91.54%\n"
     ]
    },
    {
     "name": "stderr",
     "output_type": "stream",
     "text": [
      "\n",
      "Epoch 90: 100%|██████████| 782/782 [01:09<00:00, 11.20batch/s]\n",
      "Test 90: 100%|██████████| 157/157 [00:04<00:00, 36.95batch/s]"
     ]
    },
    {
     "name": "stdout",
     "output_type": "stream",
     "text": [
      "[Epoch 91] Train Loss: 0.121815 - Test Loss: 0.297773 - Train Accuracy: 95.72% - Test Accuracy: 91.85%\n"
     ]
    },
    {
     "name": "stderr",
     "output_type": "stream",
     "text": [
      "\n",
      "Epoch 91: 100%|██████████| 782/782 [01:09<00:00, 11.22batch/s]\n",
      "Test 91: 100%|██████████| 157/157 [00:04<00:00, 36.93batch/s]"
     ]
    },
    {
     "name": "stdout",
     "output_type": "stream",
     "text": [
      "[Epoch 92] Train Loss: 0.118657 - Test Loss: 0.302910 - Train Accuracy: 95.88% - Test Accuracy: 91.70%\n"
     ]
    },
    {
     "name": "stderr",
     "output_type": "stream",
     "text": [
      "\n",
      "Epoch 92: 100%|██████████| 782/782 [01:09<00:00, 11.18batch/s]\n",
      "Test 92: 100%|██████████| 157/157 [00:04<00:00, 36.96batch/s]"
     ]
    },
    {
     "name": "stdout",
     "output_type": "stream",
     "text": [
      "[Epoch 93] Train Loss: 0.119136 - Test Loss: 0.300172 - Train Accuracy: 95.73% - Test Accuracy: 91.76%\n"
     ]
    },
    {
     "name": "stderr",
     "output_type": "stream",
     "text": [
      "\n",
      "Epoch 93: 100%|██████████| 782/782 [01:10<00:00, 11.17batch/s]\n",
      "Test 93: 100%|██████████| 157/157 [00:04<00:00, 36.76batch/s]"
     ]
    },
    {
     "name": "stdout",
     "output_type": "stream",
     "text": [
      "[Epoch 94] Train Loss: 0.117400 - Test Loss: 0.304718 - Train Accuracy: 95.85% - Test Accuracy: 91.67%\n"
     ]
    },
    {
     "name": "stderr",
     "output_type": "stream",
     "text": [
      "\n",
      "Epoch 94: 100%|██████████| 782/782 [01:09<00:00, 11.20batch/s]\n",
      "Test 94: 100%|██████████| 157/157 [00:04<00:00, 36.94batch/s]"
     ]
    },
    {
     "name": "stdout",
     "output_type": "stream",
     "text": [
      "[Epoch 95] Train Loss: 0.121756 - Test Loss: 0.293851 - Train Accuracy: 95.75% - Test Accuracy: 91.94%\n"
     ]
    },
    {
     "name": "stderr",
     "output_type": "stream",
     "text": [
      "\n",
      "Epoch 95: 100%|██████████| 782/782 [01:09<00:00, 11.20batch/s]\n",
      "Test 95: 100%|██████████| 157/157 [00:04<00:00, 36.81batch/s]"
     ]
    },
    {
     "name": "stdout",
     "output_type": "stream",
     "text": [
      "[Epoch 96] Train Loss: 0.121030 - Test Loss: 0.302216 - Train Accuracy: 95.75% - Test Accuracy: 91.60%\n"
     ]
    },
    {
     "name": "stderr",
     "output_type": "stream",
     "text": [
      "\n",
      "Epoch 96: 100%|██████████| 782/782 [01:09<00:00, 11.18batch/s]\n",
      "Test 96: 100%|██████████| 157/157 [00:04<00:00, 36.92batch/s]"
     ]
    },
    {
     "name": "stdout",
     "output_type": "stream",
     "text": [
      "[Epoch 97] Train Loss: 0.121160 - Test Loss: 0.295133 - Train Accuracy: 95.70% - Test Accuracy: 91.88%\n"
     ]
    },
    {
     "name": "stderr",
     "output_type": "stream",
     "text": [
      "\n",
      "Epoch 97: 100%|██████████| 782/782 [01:09<00:00, 11.19batch/s]\n",
      "Test 97: 100%|██████████| 157/157 [00:04<00:00, 36.92batch/s]"
     ]
    },
    {
     "name": "stdout",
     "output_type": "stream",
     "text": [
      "[Epoch 98] Train Loss: 0.115079 - Test Loss: 0.307207 - Train Accuracy: 95.95% - Test Accuracy: 91.58%\n"
     ]
    },
    {
     "name": "stderr",
     "output_type": "stream",
     "text": [
      "\n",
      "Epoch 98: 100%|██████████| 782/782 [01:09<00:00, 11.20batch/s]\n",
      "Test 98: 100%|██████████| 157/157 [00:04<00:00, 36.81batch/s]"
     ]
    },
    {
     "name": "stdout",
     "output_type": "stream",
     "text": [
      "[Epoch 99] Train Loss: 0.118907 - Test Loss: 0.295846 - Train Accuracy: 95.73% - Test Accuracy: 91.82%\n"
     ]
    },
    {
     "name": "stderr",
     "output_type": "stream",
     "text": [
      "\n",
      "Epoch 99: 100%|██████████| 782/782 [01:09<00:00, 11.21batch/s]\n",
      "Test 99: 100%|██████████| 157/157 [00:04<00:00, 37.01batch/s]"
     ]
    },
    {
     "name": "stdout",
     "output_type": "stream",
     "text": [
      "[Epoch 100] Train Loss: 0.115987 - Test Loss: 0.298856 - Train Accuracy: 95.93% - Test Accuracy: 91.85%\n",
      "\n",
      "BEST TEST ACCURACY:  91.94  in epoch  79\n"
     ]
    },
    {
     "name": "stderr",
     "output_type": "stream",
     "text": [
      "\n"
     ]
    }
   ],
   "source": [
    "net.to(device)\n",
    "\n",
    "print(\"\\n---- Start Training ----\")\n",
    "best_accuracy = -1\n",
    "best_epoch = 0\n",
    "for epoch in range(epochs):\n",
    "    train_loss, train_correct = 0, 0\n",
    "    net.train()\n",
    "    with tqdm(iter(train_dataloader), desc=\"Epoch \" + str(epoch), unit=\"batch\") as tepoch:\n",
    "        for batch in tepoch:\n",
    "            images = batch[\"img\"].to(device)\n",
    "            labels = batch[\"label\"].to(device)\n",
    "\n",
    "            optimizer.zero_grad()\n",
    "\n",
    "            outputs = net(images)\n",
    "            loss = criterion(outputs, labels)\n",
    "\n",
    "            loss.backward()\n",
    "            optimizer.step()\n",
    "\n",
    "            labels = torch.argmax(labels, dim=1)\n",
    "            pred = torch.argmax(outputs, dim=1)\n",
    "            train_correct += pred.eq(labels).sum().item()\n",
    "            train_loss += loss.item()\n",
    "\n",
    "    train_loss /= (len(train_dataloader.dataset) / batch_size)\n",
    "\n",
    "    test_loss, test_correct = 0, 0\n",
    "    net.eval()\n",
    "    with torch.no_grad():\n",
    "        with tqdm(iter(test_dataloader), desc=\"Test \" + str(epoch), unit=\"batch\") as tepoch:\n",
    "            for batch in tepoch:\n",
    "                images = batch[\"img\"].to(device)\n",
    "                labels = batch[\"label\"].to(device)\n",
    "\n",
    "                outputs = net(images)\n",
    "                test_loss += criterion(outputs, labels)\n",
    "\n",
    "                labels = torch.argmax(labels, dim=1)\n",
    "                pred = torch.argmax(outputs, dim=1)\n",
    "                test_correct += pred.eq(labels).sum().item()\n",
    "\n",
    "    lr_scheduler.step(test_loss)\n",
    "\n",
    "    test_loss /= (len(test_dataloader.dataset) / batch_size)\n",
    "    test_accuracy = 100. * test_correct / len(test_dataloader.dataset)\n",
    "\n",
    "    print(\"[Epoch {}] Train Loss: {:.6f} - Test Loss: {:.6f} - Train Accuracy: {:.2f}% - Test Accuracy: {:.2f}%\".format(\n",
    "        epoch + 1, train_loss, test_loss, 100. * train_correct / len(train_dataloader.dataset), test_accuracy\n",
    "    ))\n",
    "\n",
    "    if test_accuracy > best_accuracy:\n",
    "        best_accuracy = test_accuracy\n",
    "        best_epoch = epoch\n",
    "\n",
    "        torch.save(net.state_dict(), \"model_densenet_bc_medium.pt\")\n",
    "\n",
    "print(\"\\nBEST TEST ACCURACY: \", best_accuracy, \" in epoch \", best_epoch)"
   ]
  },
  {
   "cell_type": "markdown",
   "metadata": {},
   "source": [
    "### **Mejor Modelo**"
   ]
  },
  {
   "cell_type": "code",
   "execution_count": 10,
   "metadata": {
    "execution": {
     "iopub.execute_input": "2025-05-01T23:05:22.295295Z",
     "iopub.status.busy": "2025-05-01T23:05:22.295058Z",
     "iopub.status.idle": "2025-05-01T23:05:26.687456Z",
     "shell.execute_reply": "2025-05-01T23:05:26.686546Z",
     "shell.execute_reply.started": "2025-05-01T23:05:22.295273Z"
    },
    "trusted": true
   },
   "outputs": [
    {
     "name": "stderr",
     "output_type": "stream",
     "text": [
      "/tmp/ipykernel_31/2554299493.py:1: FutureWarning: You are using `torch.load` with `weights_only=False` (the current default value), which uses the default pickle module implicitly. It is possible to construct malicious pickle data which will execute arbitrary code during unpickling (See https://github.com/pytorch/pytorch/blob/main/SECURITY.md#untrusted-models for more details). In a future release, the default value for `weights_only` will be flipped to `True`. This limits the functions that could be executed during unpickling. Arbitrary objects will no longer be allowed to be loaded via this mode unless they are explicitly allowlisted by the user via `torch.serialization.add_safe_globals`. We recommend you start setting `weights_only=True` for any use case where you don't have full control of the loaded file. Please open an issue on GitHub for any issues related to this experimental feature.\n",
      "  net.load_state_dict(torch.load(\"model_densenet_bc_medium.pt\"))\n",
      "Test 99: 100%|██████████| 157/157 [00:04<00:00, 36.90batch/s]"
     ]
    },
    {
     "name": "stdout",
     "output_type": "stream",
     "text": [
      "Final best acc:  91.94\n"
     ]
    },
    {
     "name": "stderr",
     "output_type": "stream",
     "text": [
      "\n"
     ]
    }
   ],
   "source": [
    "net.load_state_dict(torch.load(\"model_densenet_bc_medium.pt\"))\n",
    "\n",
    "test_loss, test_correct = 0, 0\n",
    "net.eval()\n",
    "with torch.no_grad():\n",
    "    with tqdm(iter(test_dataloader), desc=\"Test \" + str(epoch), unit=\"batch\") as tepoch:\n",
    "        for batch in tepoch:\n",
    "\n",
    "            images = batch[\"img\"].to(device)\n",
    "            labels = batch[\"label\"].to(device)\n",
    "\n",
    "            # Forward\n",
    "            outputs = net(images)\n",
    "            test_loss += criterion(outputs, labels)\n",
    "\n",
    "            # one hot -> labels\n",
    "            labels = torch.argmax(labels, dim=1)\n",
    "            pred = torch.argmax(outputs, dim=1)\n",
    "\n",
    "            test_correct += pred.eq(labels).sum().item()\n",
    "\n",
    "    test_loss /= len(test_dataloader.dataset)\n",
    "    test_accuracy = 100. * test_correct / len(test_dataloader.dataset)\n",
    "print(\"Final best acc: \", test_accuracy)"
   ]
  }
 ],
 "metadata": {
  "kaggle": {
   "accelerator": "nvidiaTeslaT4",
   "dataSources": [],
   "dockerImageVersionId": 31011,
   "isGpuEnabled": true,
   "isInternetEnabled": true,
   "language": "python",
   "sourceType": "notebook"
  },
  "kernelspec": {
   "display_name": "Python 3",
   "language": "python",
   "name": "python3"
  },
  "language_info": {
   "codemirror_mode": {
    "name": "ipython",
    "version": 3
   },
   "file_extension": ".py",
   "mimetype": "text/x-python",
   "name": "python",
   "nbconvert_exporter": "python",
   "pygments_lexer": "ipython3",
   "version": "3.11.11"
  }
 },
 "nbformat": 4,
 "nbformat_minor": 4
}
