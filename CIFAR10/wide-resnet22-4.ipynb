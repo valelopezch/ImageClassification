{
 "cells": [
  {
   "cell_type": "markdown",
   "metadata": {},
   "source": [
    "<div style=\"text-align: right\"><b> Ana Valentina López Chacón </b></div>\n",
    "<div style=\"text-align: right\"><b> Visión por Computadora, 2024 - 2025 </b></div>\n",
    "\n",
    "## **Visión por Computadora: Wide ResNet**"
   ]
  },
  {
   "cell_type": "code",
   "execution_count": 1,
   "metadata": {
    "_cell_guid": "b1076dfc-b9ad-4769-8c92-a6c4dae69d19",
    "_uuid": "8f2839f25d086af736a60e9eeb907d3b93b6e0e5",
    "execution": {
     "iopub.execute_input": "2025-04-13T01:41:24.390036Z",
     "iopub.status.busy": "2025-04-13T01:41:24.389732Z",
     "iopub.status.idle": "2025-04-13T01:41:30.892859Z",
     "shell.execute_reply": "2025-04-13T01:41:30.892094Z",
     "shell.execute_reply.started": "2025-04-13T01:41:24.390008Z"
    },
    "trusted": true
   },
   "outputs": [
    {
     "name": "stdout",
     "output_type": "stream",
     "text": [
      "Torch version:  2.5.1+cu121\n",
      "Device:  cuda\n"
     ]
    }
   ],
   "source": [
    "import torch\n",
    "import torchvision\n",
    "import torch.nn as nn\n",
    "from tqdm import tqdm\n",
    "import multiprocessing\n",
    "import torch.optim as optim\n",
    "import torch.nn.functional as  F\n",
    "from torchvision import transforms\n",
    "from torch.utils.data import Dataset\n",
    "from torch.utils.data import DataLoader\n",
    "\n",
    "print(\"Torch version: \", torch. __version__)\n",
    "device = torch.device(\"cuda\" if torch.cuda.is_available() else \"cpu\")\n",
    "print(\"Device: \", device)"
   ]
  },
  {
   "cell_type": "code",
   "execution_count": 2,
   "metadata": {
    "execution": {
     "iopub.execute_input": "2025-04-13T01:41:30.894443Z",
     "iopub.status.busy": "2025-04-13T01:41:30.894047Z",
     "iopub.status.idle": "2025-04-13T01:41:30.904443Z",
     "shell.execute_reply": "2025-04-13T01:41:30.903826Z",
     "shell.execute_reply.started": "2025-04-13T01:41:30.894419Z"
    },
    "trusted": true
   },
   "outputs": [],
   "source": [
    "seed = 42\n",
    "torch.manual_seed(seed)\n",
    "\n",
    "if torch.cuda.is_available():\n",
    "    torch.cuda.manual_seed(seed)\n",
    "    torch.cuda.manual_seed_all(seed)\n",
    "    torch.backends.cudnn.deterministic = True\n",
    "    torch.backends.cudnn.benchmark = False"
   ]
  },
  {
   "cell_type": "code",
   "execution_count": 3,
   "metadata": {
    "execution": {
     "iopub.execute_input": "2025-04-13T01:41:30.906281Z",
     "iopub.status.busy": "2025-04-13T01:41:30.906073Z",
     "iopub.status.idle": "2025-04-13T01:41:30.912051Z",
     "shell.execute_reply": "2025-04-13T01:41:30.911344Z",
     "shell.execute_reply.started": "2025-04-13T01:41:30.906263Z"
    },
    "trusted": true
   },
   "outputs": [],
   "source": [
    "da_train = transforms.Compose([\n",
    "    transforms.RandomHorizontalFlip(),\n",
    "    transforms.RandomAffine(degrees=15, translate=(0.2, 0.2), scale=(0.9, 1.1)),\n",
    "    transforms.RandomResizedCrop(size=32, scale=(0.8, 1.0)),\n",
    "    transforms.ToTensor(),\n",
    "])\n",
    "\n",
    "da_test = transforms.Compose([\n",
    "    transforms.ToTensor(),\n",
    "])"
   ]
  },
  {
   "cell_type": "markdown",
   "metadata": {},
   "source": [
    "### **Carga de Datos**"
   ]
  },
  {
   "cell_type": "code",
   "execution_count": 4,
   "metadata": {
    "execution": {
     "iopub.execute_input": "2025-04-13T01:41:30.913799Z",
     "iopub.status.busy": "2025-04-13T01:41:30.913477Z",
     "iopub.status.idle": "2025-04-13T01:41:36.484806Z",
     "shell.execute_reply": "2025-04-13T01:41:36.480250Z",
     "shell.execute_reply.started": "2025-04-13T01:41:30.913768Z"
    },
    "trusted": true
   },
   "outputs": [
    {
     "name": "stdout",
     "output_type": "stream",
     "text": [
      "\n",
      "Loading CIFAR10  train  Dataset...\n",
      "Downloading https://www.cs.toronto.edu/~kriz/cifar-10-python.tar.gz to .data/cifar-10-python.tar.gz\n"
     ]
    },
    {
     "name": "stderr",
     "output_type": "stream",
     "text": [
      "100%|██████████| 170M/170M [00:02<00:00, 76.5MB/s] \n"
     ]
    },
    {
     "name": "stdout",
     "output_type": "stream",
     "text": [
      "Extracting .data/cifar-10-python.tar.gz to .data/\n",
      "\tTotal Len.:  50000 \n",
      " --------------------------------------------------\n",
      "\n",
      "Loading CIFAR10  test  Dataset...\n",
      "Files already downloaded and verified\n",
      "\tTotal Len.:  10000 \n",
      " --------------------------------------------------\n"
     ]
    }
   ],
   "source": [
    "class CIFAR10_dataset(Dataset):\n",
    "\n",
    "    def __init__(self, transform, partition = \"train\"):\n",
    "\n",
    "        print(\"\\nLoading CIFAR10 \", partition, \" Dataset...\")\n",
    "        self.partition = partition\n",
    "        self.transform = transform\n",
    "        if self.partition == \"train\":\n",
    "            self.data = torchvision.datasets.CIFAR10('.data/', \n",
    "                                                     train=True,\n",
    "                                                     download=True)\n",
    "        else:\n",
    "            self.data = torchvision.datasets.CIFAR10('.data/', \n",
    "                                                     train=False,\n",
    "                                                     download=True)\n",
    "        print(\"\\tTotal Len.: \", len(self.data), \"\\n\", 50*\"-\")\n",
    "    \n",
    "    def __len__(self):\n",
    "        return len(self.data)\n",
    "\n",
    "    def __getitem__(self, idx):\n",
    "\n",
    "        # Image\n",
    "        image = self.data[idx][0]\n",
    "        image_tensor = self.transform(image)\n",
    "\n",
    "        # Label\n",
    "        label = torch.tensor(self.data[idx][1])\n",
    "        label = F.one_hot(label, num_classes=10).float()\n",
    "\n",
    "        return {\"img\": image_tensor, \"label\": label}\n",
    "\n",
    "train_dataset = CIFAR10_dataset(da_train, partition=\"train\")\n",
    "test_dataset = CIFAR10_dataset(da_test, partition=\"test\")"
   ]
  },
  {
   "cell_type": "code",
   "execution_count": 5,
   "metadata": {
    "execution": {
     "iopub.execute_input": "2025-04-13T01:41:36.485799Z",
     "iopub.status.busy": "2025-04-13T01:41:36.485471Z",
     "iopub.status.idle": "2025-04-13T01:41:36.492332Z",
     "shell.execute_reply": "2025-04-13T01:41:36.491367Z",
     "shell.execute_reply.started": "2025-04-13T01:41:36.485773Z"
    },
    "trusted": true
   },
   "outputs": [
    {
     "name": "stdout",
     "output_type": "stream",
     "text": [
      "Num workers 3\n"
     ]
    }
   ],
   "source": [
    "batch_size = 100\n",
    "num_workers = multiprocessing.cpu_count()-1\n",
    "print(\"Num workers\", num_workers)\n",
    "train_dataloader = DataLoader(train_dataset, batch_size, shuffle=True, num_workers=num_workers)\n",
    "test_dataloader = DataLoader(test_dataset, batch_size, shuffle=False, num_workers=num_workers)"
   ]
  },
  {
   "cell_type": "markdown",
   "metadata": {},
   "source": [
    "### **Creación de Red**"
   ]
  },
  {
   "cell_type": "code",
   "execution_count": 6,
   "metadata": {
    "execution": {
     "iopub.execute_input": "2025-04-13T01:41:36.493444Z",
     "iopub.status.busy": "2025-04-13T01:41:36.493183Z",
     "iopub.status.idle": "2025-04-13T01:41:36.508373Z",
     "shell.execute_reply": "2025-04-13T01:41:36.507371Z",
     "shell.execute_reply.started": "2025-04-13T01:41:36.493412Z"
    },
    "trusted": true
   },
   "outputs": [],
   "source": [
    "class WideResidualBlock(nn.Module):\n",
    "    def __init__(self, in_planes, out_planes, stride):\n",
    "        super(WideResidualBlock, self).__init__()\n",
    "        self.bn1 = nn.BatchNorm2d(in_planes)\n",
    "        self.conv1 = nn.Conv2d(in_planes, out_planes, kernel_size=3, stride=stride, padding=1, bias=False)\n",
    "        self.bn2 = nn.BatchNorm2d(out_planes)\n",
    "        self.conv2 = nn.Conv2d(out_planes, out_planes, kernel_size=3, stride=1, padding=1, bias=False)\n",
    "\n",
    "        self.shortcut = nn.Sequential()\n",
    "        if stride != 1 or in_planes != out_planes:\n",
    "            self.shortcut = nn.Conv2d(in_planes, out_planes, kernel_size=1, stride=stride, bias=False)\n",
    "\n",
    "    def forward(self, x):\n",
    "        out = self.conv1(F.relu(self.bn1(x)))\n",
    "        out = self.conv2(F.relu(self.bn2(out)))\n",
    "        out += self.shortcut(x)\n",
    "        return out"
   ]
  },
  {
   "cell_type": "code",
   "execution_count": 7,
   "metadata": {
    "execution": {
     "iopub.execute_input": "2025-04-13T01:41:36.509908Z",
     "iopub.status.busy": "2025-04-13T01:41:36.509595Z",
     "iopub.status.idle": "2025-04-13T01:41:36.531283Z",
     "shell.execute_reply": "2025-04-13T01:41:36.530334Z",
     "shell.execute_reply.started": "2025-04-13T01:41:36.509878Z"
    },
    "trusted": true
   },
   "outputs": [],
   "source": [
    "class WideResNet(nn.Module):\n",
    "    def __init__(self, depth=28, widen_factor=10, num_classes=10):\n",
    "        super(WideResNet, self).__init__()\n",
    "        self.in_planes = 16\n",
    "\n",
    "        assert (depth - 4) % 6 == 0\n",
    "        n = (depth - 4) // 6\n",
    "\n",
    "        k = widen_factor\n",
    "        nStages = [16, 16 * k, 32 * k, 64 * k]\n",
    "\n",
    "        self.conv1 = nn.Conv2d(3, nStages[0], kernel_size=3, stride=1, padding=1, bias=False)\n",
    "        self.layer1 = self._make_layer(nStages[1], n, stride=1)\n",
    "        self.layer2 = self._make_layer(nStages[2], n, stride=2)\n",
    "        self.layer3 = self._make_layer(nStages[3], n, stride=2)\n",
    "        self.bn1 = nn.BatchNorm2d(nStages[3])\n",
    "        self.linear = nn.Linear(nStages[3], num_classes)\n",
    "\n",
    "    def _make_layer(self, out_planes, num_blocks, stride):\n",
    "        strides = [stride] + [1] * (num_blocks - 1)\n",
    "        layers = []\n",
    "        for stride in strides:\n",
    "            layers.append(WideResidualBlock(self.in_planes, out_planes, stride))\n",
    "            self.in_planes = out_planes\n",
    "        return nn.Sequential(*layers)\n",
    "\n",
    "    def forward(self, x):\n",
    "        out = self.conv1(x)\n",
    "        out = self.layer1(out)\n",
    "        out = self.layer2(out)\n",
    "        out = self.layer3(out)\n",
    "        out = F.relu(self.bn1(out))\n",
    "        out = F.avg_pool2d(out, 8)\n",
    "        out = out.view(out.size(0), -1)\n",
    "        out = self.linear(out)\n",
    "        return out\n"
   ]
  },
  {
   "cell_type": "code",
   "execution_count": 8,
   "metadata": {
    "execution": {
     "iopub.execute_input": "2025-04-13T01:41:36.534479Z",
     "iopub.status.busy": "2025-04-13T01:41:36.534190Z",
     "iopub.status.idle": "2025-04-13T01:41:36.652745Z",
     "shell.execute_reply": "2025-04-13T01:41:36.651912Z",
     "shell.execute_reply.started": "2025-04-13T01:41:36.534454Z"
    },
    "trusted": true
   },
   "outputs": [
    {
     "name": "stdout",
     "output_type": "stream",
     "text": [
      "WideResNet(\n",
      "  (conv1): Conv2d(3, 16, kernel_size=(3, 3), stride=(1, 1), padding=(1, 1), bias=False)\n",
      "  (layer1): Sequential(\n",
      "    (0): WideResidualBlock(\n",
      "      (bn1): BatchNorm2d(16, eps=1e-05, momentum=0.1, affine=True, track_running_stats=True)\n",
      "      (conv1): Conv2d(16, 64, kernel_size=(3, 3), stride=(1, 1), padding=(1, 1), bias=False)\n",
      "      (bn2): BatchNorm2d(64, eps=1e-05, momentum=0.1, affine=True, track_running_stats=True)\n",
      "      (conv2): Conv2d(64, 64, kernel_size=(3, 3), stride=(1, 1), padding=(1, 1), bias=False)\n",
      "      (shortcut): Conv2d(16, 64, kernel_size=(1, 1), stride=(1, 1), bias=False)\n",
      "    )\n",
      "    (1): WideResidualBlock(\n",
      "      (bn1): BatchNorm2d(64, eps=1e-05, momentum=0.1, affine=True, track_running_stats=True)\n",
      "      (conv1): Conv2d(64, 64, kernel_size=(3, 3), stride=(1, 1), padding=(1, 1), bias=False)\n",
      "      (bn2): BatchNorm2d(64, eps=1e-05, momentum=0.1, affine=True, track_running_stats=True)\n",
      "      (conv2): Conv2d(64, 64, kernel_size=(3, 3), stride=(1, 1), padding=(1, 1), bias=False)\n",
      "      (shortcut): Sequential()\n",
      "    )\n",
      "    (2): WideResidualBlock(\n",
      "      (bn1): BatchNorm2d(64, eps=1e-05, momentum=0.1, affine=True, track_running_stats=True)\n",
      "      (conv1): Conv2d(64, 64, kernel_size=(3, 3), stride=(1, 1), padding=(1, 1), bias=False)\n",
      "      (bn2): BatchNorm2d(64, eps=1e-05, momentum=0.1, affine=True, track_running_stats=True)\n",
      "      (conv2): Conv2d(64, 64, kernel_size=(3, 3), stride=(1, 1), padding=(1, 1), bias=False)\n",
      "      (shortcut): Sequential()\n",
      "    )\n",
      "  )\n",
      "  (layer2): Sequential(\n",
      "    (0): WideResidualBlock(\n",
      "      (bn1): BatchNorm2d(64, eps=1e-05, momentum=0.1, affine=True, track_running_stats=True)\n",
      "      (conv1): Conv2d(64, 128, kernel_size=(3, 3), stride=(2, 2), padding=(1, 1), bias=False)\n",
      "      (bn2): BatchNorm2d(128, eps=1e-05, momentum=0.1, affine=True, track_running_stats=True)\n",
      "      (conv2): Conv2d(128, 128, kernel_size=(3, 3), stride=(1, 1), padding=(1, 1), bias=False)\n",
      "      (shortcut): Conv2d(64, 128, kernel_size=(1, 1), stride=(2, 2), bias=False)\n",
      "    )\n",
      "    (1): WideResidualBlock(\n",
      "      (bn1): BatchNorm2d(128, eps=1e-05, momentum=0.1, affine=True, track_running_stats=True)\n",
      "      (conv1): Conv2d(128, 128, kernel_size=(3, 3), stride=(1, 1), padding=(1, 1), bias=False)\n",
      "      (bn2): BatchNorm2d(128, eps=1e-05, momentum=0.1, affine=True, track_running_stats=True)\n",
      "      (conv2): Conv2d(128, 128, kernel_size=(3, 3), stride=(1, 1), padding=(1, 1), bias=False)\n",
      "      (shortcut): Sequential()\n",
      "    )\n",
      "    (2): WideResidualBlock(\n",
      "      (bn1): BatchNorm2d(128, eps=1e-05, momentum=0.1, affine=True, track_running_stats=True)\n",
      "      (conv1): Conv2d(128, 128, kernel_size=(3, 3), stride=(1, 1), padding=(1, 1), bias=False)\n",
      "      (bn2): BatchNorm2d(128, eps=1e-05, momentum=0.1, affine=True, track_running_stats=True)\n",
      "      (conv2): Conv2d(128, 128, kernel_size=(3, 3), stride=(1, 1), padding=(1, 1), bias=False)\n",
      "      (shortcut): Sequential()\n",
      "    )\n",
      "  )\n",
      "  (layer3): Sequential(\n",
      "    (0): WideResidualBlock(\n",
      "      (bn1): BatchNorm2d(128, eps=1e-05, momentum=0.1, affine=True, track_running_stats=True)\n",
      "      (conv1): Conv2d(128, 256, kernel_size=(3, 3), stride=(2, 2), padding=(1, 1), bias=False)\n",
      "      (bn2): BatchNorm2d(256, eps=1e-05, momentum=0.1, affine=True, track_running_stats=True)\n",
      "      (conv2): Conv2d(256, 256, kernel_size=(3, 3), stride=(1, 1), padding=(1, 1), bias=False)\n",
      "      (shortcut): Conv2d(128, 256, kernel_size=(1, 1), stride=(2, 2), bias=False)\n",
      "    )\n",
      "    (1): WideResidualBlock(\n",
      "      (bn1): BatchNorm2d(256, eps=1e-05, momentum=0.1, affine=True, track_running_stats=True)\n",
      "      (conv1): Conv2d(256, 256, kernel_size=(3, 3), stride=(1, 1), padding=(1, 1), bias=False)\n",
      "      (bn2): BatchNorm2d(256, eps=1e-05, momentum=0.1, affine=True, track_running_stats=True)\n",
      "      (conv2): Conv2d(256, 256, kernel_size=(3, 3), stride=(1, 1), padding=(1, 1), bias=False)\n",
      "      (shortcut): Sequential()\n",
      "    )\n",
      "    (2): WideResidualBlock(\n",
      "      (bn1): BatchNorm2d(256, eps=1e-05, momentum=0.1, affine=True, track_running_stats=True)\n",
      "      (conv1): Conv2d(256, 256, kernel_size=(3, 3), stride=(1, 1), padding=(1, 1), bias=False)\n",
      "      (bn2): BatchNorm2d(256, eps=1e-05, momentum=0.1, affine=True, track_running_stats=True)\n",
      "      (conv2): Conv2d(256, 256, kernel_size=(3, 3), stride=(1, 1), padding=(1, 1), bias=False)\n",
      "      (shortcut): Sequential()\n",
      "    )\n",
      "  )\n",
      "  (bn1): BatchNorm2d(256, eps=1e-05, momentum=0.1, affine=True, track_running_stats=True)\n",
      "  (linear): Linear(in_features=256, out_features=10, bias=True)\n",
      ")\n",
      "Params:  4298970\n"
     ]
    }
   ],
   "source": [
    "num_classes = 10\n",
    "net = WideResNet(depth = 22, \n",
    "                 widen_factor = 4, \n",
    "                 num_classes=num_classes)\n",
    "print(net)\n",
    "\n",
    "def count_parameters(model):\n",
    "    return sum(p.numel() for p in model.parameters() if p.requires_grad)\n",
    "print(\"Params: \", count_parameters(net))"
   ]
  },
  {
   "cell_type": "code",
   "execution_count": 9,
   "metadata": {
    "execution": {
     "iopub.execute_input": "2025-04-13T01:41:36.653954Z",
     "iopub.status.busy": "2025-04-13T01:41:36.653759Z",
     "iopub.status.idle": "2025-04-13T01:41:36.658292Z",
     "shell.execute_reply": "2025-04-13T01:41:36.657388Z",
     "shell.execute_reply.started": "2025-04-13T01:41:36.653931Z"
    },
    "trusted": true
   },
   "outputs": [],
   "source": [
    "criterion = nn.CrossEntropyLoss()\n",
    "optimizer = optim.Adam(net.parameters(), lr=0.001, weight_decay=1e-6)\n",
    "lr_scheduler = optim.lr_scheduler.ReduceLROnPlateau(optimizer, factor=0.1, patience=10, min_lr=0.00001)\n",
    "epochs = 100"
   ]
  },
  {
   "cell_type": "markdown",
   "metadata": {},
   "source": [
    "### **Entrenamiento**"
   ]
  },
  {
   "cell_type": "code",
   "execution_count": 10,
   "metadata": {
    "execution": {
     "iopub.execute_input": "2025-04-13T01:41:36.659496Z",
     "iopub.status.busy": "2025-04-13T01:41:36.659223Z",
     "iopub.status.idle": "2025-04-13T03:19:28.869094Z",
     "shell.execute_reply": "2025-04-13T03:19:28.867769Z",
     "shell.execute_reply.started": "2025-04-13T01:41:36.659471Z"
    },
    "trusted": true
   },
   "outputs": [
    {
     "name": "stdout",
     "output_type": "stream",
     "text": [
      "\n",
      "---- Start Training ----\n"
     ]
    },
    {
     "name": "stderr",
     "output_type": "stream",
     "text": [
      "Epoch 0: 100%|██████████| 500/500 [00:53<00:00,  9.43batch/s]\n",
      "Test 0: 100%|██████████| 100/100 [00:02<00:00, 35.96batch/s]\n"
     ]
    },
    {
     "name": "stdout",
     "output_type": "stream",
     "text": [
      "[Epoch 1] Train Loss: 1.611208 - Test Loss: 1.451166 - Train Accuracy: 39.80% - Test Accuracy: 48.03%\n"
     ]
    },
    {
     "name": "stderr",
     "output_type": "stream",
     "text": [
      "Epoch 1: 100%|██████████| 500/500 [00:53<00:00,  9.40batch/s]\n",
      "Test 1: 100%|██████████| 100/100 [00:02<00:00, 35.24batch/s]\n"
     ]
    },
    {
     "name": "stdout",
     "output_type": "stream",
     "text": [
      "[Epoch 2] Train Loss: 1.250865 - Test Loss: 1.397246 - Train Accuracy: 54.69% - Test Accuracy: 55.37%\n"
     ]
    },
    {
     "name": "stderr",
     "output_type": "stream",
     "text": [
      "Epoch 2: 100%|██████████| 500/500 [00:55<00:00,  8.98batch/s]\n",
      "Test 2: 100%|██████████| 100/100 [00:02<00:00, 34.13batch/s]\n"
     ]
    },
    {
     "name": "stdout",
     "output_type": "stream",
     "text": [
      "[Epoch 3] Train Loss: 1.090005 - Test Loss: 1.428190 - Train Accuracy: 61.02% - Test Accuracy: 58.43%\n"
     ]
    },
    {
     "name": "stderr",
     "output_type": "stream",
     "text": [
      "Epoch 3: 100%|██████████| 500/500 [00:55<00:00,  8.99batch/s]\n",
      "Test 3: 100%|██████████| 100/100 [00:02<00:00, 34.47batch/s]\n"
     ]
    },
    {
     "name": "stdout",
     "output_type": "stream",
     "text": [
      "[Epoch 4] Train Loss: 0.960313 - Test Loss: 0.908357 - Train Accuracy: 66.05% - Test Accuracy: 69.24%\n"
     ]
    },
    {
     "name": "stderr",
     "output_type": "stream",
     "text": [
      "Epoch 4: 100%|██████████| 500/500 [00:55<00:00,  8.95batch/s]\n",
      "Test 4: 100%|██████████| 100/100 [00:02<00:00, 34.39batch/s]\n"
     ]
    },
    {
     "name": "stdout",
     "output_type": "stream",
     "text": [
      "[Epoch 5] Train Loss: 0.854691 - Test Loss: 0.846382 - Train Accuracy: 69.82% - Test Accuracy: 72.45%\n"
     ]
    },
    {
     "name": "stderr",
     "output_type": "stream",
     "text": [
      "Epoch 5: 100%|██████████| 500/500 [00:55<00:00,  8.96batch/s]\n",
      "Test 5: 100%|██████████| 100/100 [00:02<00:00, 34.69batch/s]\n"
     ]
    },
    {
     "name": "stdout",
     "output_type": "stream",
     "text": [
      "[Epoch 6] Train Loss: 0.778444 - Test Loss: 0.848745 - Train Accuracy: 72.92% - Test Accuracy: 72.97%\n"
     ]
    },
    {
     "name": "stderr",
     "output_type": "stream",
     "text": [
      "Epoch 6: 100%|██████████| 500/500 [00:55<00:00,  8.98batch/s]\n",
      "Test 6: 100%|██████████| 100/100 [00:02<00:00, 34.54batch/s]\n"
     ]
    },
    {
     "name": "stdout",
     "output_type": "stream",
     "text": [
      "[Epoch 7] Train Loss: 0.712247 - Test Loss: 0.686970 - Train Accuracy: 75.23% - Test Accuracy: 77.29%\n"
     ]
    },
    {
     "name": "stderr",
     "output_type": "stream",
     "text": [
      "Epoch 7: 100%|██████████| 500/500 [00:55<00:00,  8.97batch/s]\n",
      "Test 7: 100%|██████████| 100/100 [00:02<00:00, 34.66batch/s]\n"
     ]
    },
    {
     "name": "stdout",
     "output_type": "stream",
     "text": [
      "[Epoch 8] Train Loss: 0.660547 - Test Loss: 0.644452 - Train Accuracy: 76.99% - Test Accuracy: 78.33%\n"
     ]
    },
    {
     "name": "stderr",
     "output_type": "stream",
     "text": [
      "Epoch 8: 100%|██████████| 500/500 [00:55<00:00,  8.96batch/s]\n",
      "Test 8: 100%|██████████| 100/100 [00:02<00:00, 34.89batch/s]"
     ]
    },
    {
     "name": "stdout",
     "output_type": "stream",
     "text": [
      "[Epoch 9] Train Loss: 0.610493 - Test Loss: 0.739356 - Train Accuracy: 78.70% - Test Accuracy: 75.11%\n"
     ]
    },
    {
     "name": "stderr",
     "output_type": "stream",
     "text": [
      "\n",
      "Epoch 9: 100%|██████████| 500/500 [00:55<00:00,  8.97batch/s]\n",
      "Test 9: 100%|██████████| 100/100 [00:02<00:00, 34.58batch/s]\n"
     ]
    },
    {
     "name": "stdout",
     "output_type": "stream",
     "text": [
      "[Epoch 10] Train Loss: 0.583960 - Test Loss: 0.562701 - Train Accuracy: 79.60% - Test Accuracy: 81.45%\n"
     ]
    },
    {
     "name": "stderr",
     "output_type": "stream",
     "text": [
      "Epoch 10: 100%|██████████| 500/500 [00:55<00:00,  8.97batch/s]\n",
      "Test 10: 100%|██████████| 100/100 [00:02<00:00, 34.58batch/s]\n"
     ]
    },
    {
     "name": "stdout",
     "output_type": "stream",
     "text": [
      "[Epoch 11] Train Loss: 0.549706 - Test Loss: 0.558132 - Train Accuracy: 80.71% - Test Accuracy: 81.62%\n"
     ]
    },
    {
     "name": "stderr",
     "output_type": "stream",
     "text": [
      "Epoch 11: 100%|██████████| 500/500 [00:55<00:00,  8.96batch/s]\n",
      "Test 11: 100%|██████████| 100/100 [00:02<00:00, 33.85batch/s]"
     ]
    },
    {
     "name": "stdout",
     "output_type": "stream",
     "text": [
      "[Epoch 12] Train Loss: 0.519814 - Test Loss: 0.716896 - Train Accuracy: 81.95% - Test Accuracy: 77.74%\n"
     ]
    },
    {
     "name": "stderr",
     "output_type": "stream",
     "text": [
      "\n",
      "Epoch 12: 100%|██████████| 500/500 [00:55<00:00,  8.97batch/s]\n",
      "Test 12: 100%|██████████| 100/100 [00:02<00:00, 34.54batch/s]\n"
     ]
    },
    {
     "name": "stdout",
     "output_type": "stream",
     "text": [
      "[Epoch 13] Train Loss: 0.494763 - Test Loss: 0.548185 - Train Accuracy: 82.69% - Test Accuracy: 82.01%\n"
     ]
    },
    {
     "name": "stderr",
     "output_type": "stream",
     "text": [
      "Epoch 13: 100%|██████████| 500/500 [00:55<00:00,  8.96batch/s]\n",
      "Test 13: 100%|██████████| 100/100 [00:02<00:00, 34.59batch/s]\n"
     ]
    },
    {
     "name": "stdout",
     "output_type": "stream",
     "text": [
      "[Epoch 14] Train Loss: 0.471631 - Test Loss: 0.500695 - Train Accuracy: 83.73% - Test Accuracy: 83.77%\n"
     ]
    },
    {
     "name": "stderr",
     "output_type": "stream",
     "text": [
      "Epoch 14: 100%|██████████| 500/500 [00:55<00:00,  8.97batch/s]\n",
      "Test 14: 100%|██████████| 100/100 [00:02<00:00, 34.58batch/s]\n"
     ]
    },
    {
     "name": "stdout",
     "output_type": "stream",
     "text": [
      "[Epoch 15] Train Loss: 0.453930 - Test Loss: 0.471587 - Train Accuracy: 84.09% - Test Accuracy: 84.21%\n"
     ]
    },
    {
     "name": "stderr",
     "output_type": "stream",
     "text": [
      "Epoch 15: 100%|██████████| 500/500 [00:55<00:00,  8.96batch/s]\n",
      "Test 15: 100%|██████████| 100/100 [00:02<00:00, 34.58batch/s]\n"
     ]
    },
    {
     "name": "stdout",
     "output_type": "stream",
     "text": [
      "[Epoch 16] Train Loss: 0.433828 - Test Loss: 0.458101 - Train Accuracy: 85.02% - Test Accuracy: 85.38%\n"
     ]
    },
    {
     "name": "stderr",
     "output_type": "stream",
     "text": [
      "Epoch 16: 100%|██████████| 500/500 [00:55<00:00,  8.97batch/s]\n",
      "Test 16: 100%|██████████| 100/100 [00:02<00:00, 34.60batch/s]\n"
     ]
    },
    {
     "name": "stdout",
     "output_type": "stream",
     "text": [
      "[Epoch 17] Train Loss: 0.420121 - Test Loss: 0.421466 - Train Accuracy: 85.33% - Test Accuracy: 86.04%\n"
     ]
    },
    {
     "name": "stderr",
     "output_type": "stream",
     "text": [
      "Epoch 17: 100%|██████████| 500/500 [00:55<00:00,  8.97batch/s]\n",
      "Test 17: 100%|██████████| 100/100 [00:02<00:00, 34.42batch/s]\n"
     ]
    },
    {
     "name": "stdout",
     "output_type": "stream",
     "text": [
      "[Epoch 18] Train Loss: 0.407533 - Test Loss: 0.424096 - Train Accuracy: 85.74% - Test Accuracy: 86.49%\n"
     ]
    },
    {
     "name": "stderr",
     "output_type": "stream",
     "text": [
      "Epoch 18: 100%|██████████| 500/500 [00:55<00:00,  8.96batch/s]\n",
      "Test 18: 100%|██████████| 100/100 [00:02<00:00, 34.59batch/s]"
     ]
    },
    {
     "name": "stdout",
     "output_type": "stream",
     "text": [
      "[Epoch 19] Train Loss: 0.385240 - Test Loss: 0.424392 - Train Accuracy: 86.60% - Test Accuracy: 85.94%\n"
     ]
    },
    {
     "name": "stderr",
     "output_type": "stream",
     "text": [
      "\n",
      "Epoch 19: 100%|██████████| 500/500 [00:55<00:00,  8.96batch/s]\n",
      "Test 19: 100%|██████████| 100/100 [00:02<00:00, 34.57batch/s]"
     ]
    },
    {
     "name": "stdout",
     "output_type": "stream",
     "text": [
      "[Epoch 20] Train Loss: 0.373101 - Test Loss: 0.442346 - Train Accuracy: 87.00% - Test Accuracy: 86.29%\n"
     ]
    },
    {
     "name": "stderr",
     "output_type": "stream",
     "text": [
      "\n",
      "Epoch 20: 100%|██████████| 500/500 [00:55<00:00,  8.97batch/s]\n",
      "Test 20: 100%|██████████| 100/100 [00:02<00:00, 34.64batch/s]"
     ]
    },
    {
     "name": "stdout",
     "output_type": "stream",
     "text": [
      "[Epoch 21] Train Loss: 0.366068 - Test Loss: 0.453568 - Train Accuracy: 87.35% - Test Accuracy: 85.41%\n"
     ]
    },
    {
     "name": "stderr",
     "output_type": "stream",
     "text": [
      "\n",
      "Epoch 21: 100%|██████████| 500/500 [00:55<00:00,  8.97batch/s]\n",
      "Test 21: 100%|██████████| 100/100 [00:02<00:00, 34.62batch/s]\n"
     ]
    },
    {
     "name": "stdout",
     "output_type": "stream",
     "text": [
      "[Epoch 22] Train Loss: 0.351038 - Test Loss: 0.364295 - Train Accuracy: 87.79% - Test Accuracy: 88.28%\n"
     ]
    },
    {
     "name": "stderr",
     "output_type": "stream",
     "text": [
      "Epoch 22: 100%|██████████| 500/500 [00:55<00:00,  8.98batch/s]\n",
      "Test 22: 100%|██████████| 100/100 [00:02<00:00, 34.42batch/s]"
     ]
    },
    {
     "name": "stdout",
     "output_type": "stream",
     "text": [
      "[Epoch 23] Train Loss: 0.337947 - Test Loss: 0.442022 - Train Accuracy: 88.05% - Test Accuracy: 86.28%\n"
     ]
    },
    {
     "name": "stderr",
     "output_type": "stream",
     "text": [
      "\n",
      "Epoch 23: 100%|██████████| 500/500 [00:55<00:00,  8.98batch/s]\n",
      "Test 23: 100%|██████████| 100/100 [00:02<00:00, 34.84batch/s]"
     ]
    },
    {
     "name": "stdout",
     "output_type": "stream",
     "text": [
      "[Epoch 24] Train Loss: 0.328626 - Test Loss: 0.415044 - Train Accuracy: 88.53% - Test Accuracy: 87.20%\n"
     ]
    },
    {
     "name": "stderr",
     "output_type": "stream",
     "text": [
      "\n",
      "Epoch 24: 100%|██████████| 500/500 [00:55<00:00,  8.97batch/s]\n",
      "Test 24: 100%|██████████| 100/100 [00:02<00:00, 34.25batch/s]"
     ]
    },
    {
     "name": "stdout",
     "output_type": "stream",
     "text": [
      "[Epoch 25] Train Loss: 0.318297 - Test Loss: 0.435448 - Train Accuracy: 88.88% - Test Accuracy: 86.37%\n"
     ]
    },
    {
     "name": "stderr",
     "output_type": "stream",
     "text": [
      "\n",
      "Epoch 25: 100%|██████████| 500/500 [00:55<00:00,  8.96batch/s]\n",
      "Test 25: 100%|██████████| 100/100 [00:02<00:00, 34.56batch/s]"
     ]
    },
    {
     "name": "stdout",
     "output_type": "stream",
     "text": [
      "[Epoch 26] Train Loss: 0.310077 - Test Loss: 0.394111 - Train Accuracy: 89.24% - Test Accuracy: 87.92%\n"
     ]
    },
    {
     "name": "stderr",
     "output_type": "stream",
     "text": [
      "\n",
      "Epoch 26: 100%|██████████| 500/500 [00:55<00:00,  8.97batch/s]\n",
      "Test 26: 100%|██████████| 100/100 [00:02<00:00, 34.58batch/s]\n"
     ]
    },
    {
     "name": "stdout",
     "output_type": "stream",
     "text": [
      "[Epoch 27] Train Loss: 0.299874 - Test Loss: 0.367655 - Train Accuracy: 89.45% - Test Accuracy: 88.73%\n"
     ]
    },
    {
     "name": "stderr",
     "output_type": "stream",
     "text": [
      "Epoch 27: 100%|██████████| 500/500 [00:55<00:00,  8.96batch/s]\n",
      "Test 27: 100%|██████████| 100/100 [00:02<00:00, 34.82batch/s]"
     ]
    },
    {
     "name": "stdout",
     "output_type": "stream",
     "text": [
      "[Epoch 28] Train Loss: 0.289357 - Test Loss: 0.386678 - Train Accuracy: 89.97% - Test Accuracy: 88.02%\n"
     ]
    },
    {
     "name": "stderr",
     "output_type": "stream",
     "text": [
      "\n",
      "Epoch 28: 100%|██████████| 500/500 [00:55<00:00,  8.97batch/s]\n",
      "Test 28: 100%|██████████| 100/100 [00:02<00:00, 34.58batch/s]"
     ]
    },
    {
     "name": "stdout",
     "output_type": "stream",
     "text": [
      "[Epoch 29] Train Loss: 0.283944 - Test Loss: 0.406523 - Train Accuracy: 90.18% - Test Accuracy: 87.48%\n"
     ]
    },
    {
     "name": "stderr",
     "output_type": "stream",
     "text": [
      "\n",
      "Epoch 29: 100%|██████████| 500/500 [00:55<00:00,  8.98batch/s]\n",
      "Test 29: 100%|██████████| 100/100 [00:02<00:00, 34.60batch/s]"
     ]
    },
    {
     "name": "stdout",
     "output_type": "stream",
     "text": [
      "[Epoch 30] Train Loss: 0.279659 - Test Loss: 0.370652 - Train Accuracy: 90.12% - Test Accuracy: 88.27%\n"
     ]
    },
    {
     "name": "stderr",
     "output_type": "stream",
     "text": [
      "\n",
      "Epoch 30: 100%|██████████| 500/500 [00:55<00:00,  8.98batch/s]\n",
      "Test 30: 100%|██████████| 100/100 [00:02<00:00, 34.58batch/s]\n"
     ]
    },
    {
     "name": "stdout",
     "output_type": "stream",
     "text": [
      "[Epoch 31] Train Loss: 0.268541 - Test Loss: 0.355872 - Train Accuracy: 90.59% - Test Accuracy: 88.91%\n"
     ]
    },
    {
     "name": "stderr",
     "output_type": "stream",
     "text": [
      "Epoch 31: 100%|██████████| 500/500 [00:55<00:00,  8.96batch/s]\n",
      "Test 31: 100%|██████████| 100/100 [00:02<00:00, 34.30batch/s]"
     ]
    },
    {
     "name": "stdout",
     "output_type": "stream",
     "text": [
      "[Epoch 32] Train Loss: 0.261795 - Test Loss: 0.344830 - Train Accuracy: 90.86% - Test Accuracy: 89.30%\n"
     ]
    },
    {
     "name": "stderr",
     "output_type": "stream",
     "text": [
      "\n",
      "Epoch 32: 100%|██████████| 500/500 [00:55<00:00,  8.95batch/s]\n",
      "Test 32: 100%|██████████| 100/100 [00:02<00:00, 34.61batch/s]\n"
     ]
    },
    {
     "name": "stdout",
     "output_type": "stream",
     "text": [
      "[Epoch 33] Train Loss: 0.248377 - Test Loss: 0.351100 - Train Accuracy: 91.34% - Test Accuracy: 89.35%\n"
     ]
    },
    {
     "name": "stderr",
     "output_type": "stream",
     "text": [
      "Epoch 33: 100%|██████████| 500/500 [00:55<00:00,  8.96batch/s]\n",
      "Test 33: 100%|██████████| 100/100 [00:02<00:00, 34.53batch/s]"
     ]
    },
    {
     "name": "stdout",
     "output_type": "stream",
     "text": [
      "[Epoch 34] Train Loss: 0.250640 - Test Loss: 0.431283 - Train Accuracy: 91.22% - Test Accuracy: 87.65%\n"
     ]
    },
    {
     "name": "stderr",
     "output_type": "stream",
     "text": [
      "\n",
      "Epoch 34: 100%|██████████| 500/500 [00:55<00:00,  8.96batch/s]\n",
      "Test 34: 100%|██████████| 100/100 [00:02<00:00, 34.64batch/s]"
     ]
    },
    {
     "name": "stdout",
     "output_type": "stream",
     "text": [
      "[Epoch 35] Train Loss: 0.243879 - Test Loss: 0.375973 - Train Accuracy: 91.46% - Test Accuracy: 88.90%\n"
     ]
    },
    {
     "name": "stderr",
     "output_type": "stream",
     "text": [
      "\n",
      "Epoch 35: 100%|██████████| 500/500 [00:55<00:00,  8.96batch/s]\n",
      "Test 35: 100%|██████████| 100/100 [00:02<00:00, 34.39batch/s]\n"
     ]
    },
    {
     "name": "stdout",
     "output_type": "stream",
     "text": [
      "[Epoch 36] Train Loss: 0.234896 - Test Loss: 0.344400 - Train Accuracy: 91.68% - Test Accuracy: 89.78%\n"
     ]
    },
    {
     "name": "stderr",
     "output_type": "stream",
     "text": [
      "Epoch 36: 100%|██████████| 500/500 [00:55<00:00,  8.97batch/s]\n",
      "Test 36: 100%|██████████| 100/100 [00:02<00:00, 34.39batch/s]"
     ]
    },
    {
     "name": "stdout",
     "output_type": "stream",
     "text": [
      "[Epoch 37] Train Loss: 0.229665 - Test Loss: 0.360518 - Train Accuracy: 91.91% - Test Accuracy: 89.63%\n"
     ]
    },
    {
     "name": "stderr",
     "output_type": "stream",
     "text": [
      "\n",
      "Epoch 37: 100%|██████████| 500/500 [00:55<00:00,  8.97batch/s]\n",
      "Test 37: 100%|██████████| 100/100 [00:02<00:00, 34.21batch/s]"
     ]
    },
    {
     "name": "stdout",
     "output_type": "stream",
     "text": [
      "[Epoch 38] Train Loss: 0.221313 - Test Loss: 0.370556 - Train Accuracy: 92.08% - Test Accuracy: 89.18%\n"
     ]
    },
    {
     "name": "stderr",
     "output_type": "stream",
     "text": [
      "\n",
      "Epoch 38: 100%|██████████| 500/500 [00:55<00:00,  8.99batch/s]\n",
      "Test 38: 100%|██████████| 100/100 [00:02<00:00, 34.67batch/s]"
     ]
    },
    {
     "name": "stdout",
     "output_type": "stream",
     "text": [
      "[Epoch 39] Train Loss: 0.217169 - Test Loss: 0.375466 - Train Accuracy: 92.28% - Test Accuracy: 89.37%\n"
     ]
    },
    {
     "name": "stderr",
     "output_type": "stream",
     "text": [
      "\n",
      "Epoch 39: 100%|██████████| 500/500 [00:55<00:00,  8.96batch/s]\n",
      "Test 39: 100%|██████████| 100/100 [00:02<00:00, 34.58batch/s]"
     ]
    },
    {
     "name": "stdout",
     "output_type": "stream",
     "text": [
      "[Epoch 40] Train Loss: 0.219115 - Test Loss: 0.368207 - Train Accuracy: 92.31% - Test Accuracy: 89.25%\n"
     ]
    },
    {
     "name": "stderr",
     "output_type": "stream",
     "text": [
      "\n",
      "Epoch 40: 100%|██████████| 500/500 [00:55<00:00,  8.98batch/s]\n",
      "Test 40: 100%|██████████| 100/100 [00:02<00:00, 34.70batch/s]\n"
     ]
    },
    {
     "name": "stdout",
     "output_type": "stream",
     "text": [
      "[Epoch 41] Train Loss: 0.210313 - Test Loss: 0.311995 - Train Accuracy: 92.63% - Test Accuracy: 90.52%\n"
     ]
    },
    {
     "name": "stderr",
     "output_type": "stream",
     "text": [
      "Epoch 41: 100%|██████████| 500/500 [00:55<00:00,  8.99batch/s]\n",
      "Test 41: 100%|██████████| 100/100 [00:02<00:00, 34.59batch/s]"
     ]
    },
    {
     "name": "stdout",
     "output_type": "stream",
     "text": [
      "[Epoch 42] Train Loss: 0.205826 - Test Loss: 0.412619 - Train Accuracy: 92.82% - Test Accuracy: 88.34%\n"
     ]
    },
    {
     "name": "stderr",
     "output_type": "stream",
     "text": [
      "\n",
      "Epoch 42: 100%|██████████| 500/500 [00:55<00:00,  8.98batch/s]\n",
      "Test 42: 100%|██████████| 100/100 [00:02<00:00, 34.61batch/s]\n"
     ]
    },
    {
     "name": "stdout",
     "output_type": "stream",
     "text": [
      "[Epoch 43] Train Loss: 0.205588 - Test Loss: 0.322406 - Train Accuracy: 92.72% - Test Accuracy: 90.91%\n"
     ]
    },
    {
     "name": "stderr",
     "output_type": "stream",
     "text": [
      "Epoch 43: 100%|██████████| 500/500 [00:55<00:00,  8.96batch/s]\n",
      "Test 43: 100%|██████████| 100/100 [00:02<00:00, 34.63batch/s]"
     ]
    },
    {
     "name": "stdout",
     "output_type": "stream",
     "text": [
      "[Epoch 44] Train Loss: 0.200290 - Test Loss: 0.400609 - Train Accuracy: 92.96% - Test Accuracy: 89.08%\n"
     ]
    },
    {
     "name": "stderr",
     "output_type": "stream",
     "text": [
      "\n",
      "Epoch 44: 100%|██████████| 500/500 [00:55<00:00,  8.97batch/s]\n",
      "Test 44: 100%|██████████| 100/100 [00:02<00:00, 34.55batch/s]"
     ]
    },
    {
     "name": "stdout",
     "output_type": "stream",
     "text": [
      "[Epoch 45] Train Loss: 0.195125 - Test Loss: 0.323681 - Train Accuracy: 93.01% - Test Accuracy: 90.43%\n"
     ]
    },
    {
     "name": "stderr",
     "output_type": "stream",
     "text": [
      "\n",
      "Epoch 45: 100%|██████████| 500/500 [00:55<00:00,  8.98batch/s]\n",
      "Test 45: 100%|██████████| 100/100 [00:02<00:00, 34.69batch/s]"
     ]
    },
    {
     "name": "stdout",
     "output_type": "stream",
     "text": [
      "[Epoch 46] Train Loss: 0.182955 - Test Loss: 0.363597 - Train Accuracy: 93.41% - Test Accuracy: 90.31%\n"
     ]
    },
    {
     "name": "stderr",
     "output_type": "stream",
     "text": [
      "\n",
      "Epoch 46: 100%|██████████| 500/500 [00:55<00:00,  8.99batch/s]\n",
      "Test 46: 100%|██████████| 100/100 [00:02<00:00, 34.67batch/s]"
     ]
    },
    {
     "name": "stdout",
     "output_type": "stream",
     "text": [
      "[Epoch 47] Train Loss: 0.185640 - Test Loss: 0.443429 - Train Accuracy: 93.38% - Test Accuracy: 88.64%\n"
     ]
    },
    {
     "name": "stderr",
     "output_type": "stream",
     "text": [
      "\n",
      "Epoch 47: 100%|██████████| 500/500 [00:55<00:00,  8.98batch/s]\n",
      "Test 47: 100%|██████████| 100/100 [00:02<00:00, 34.76batch/s]"
     ]
    },
    {
     "name": "stdout",
     "output_type": "stream",
     "text": [
      "[Epoch 48] Train Loss: 0.178282 - Test Loss: 0.329724 - Train Accuracy: 93.77% - Test Accuracy: 90.82%\n"
     ]
    },
    {
     "name": "stderr",
     "output_type": "stream",
     "text": [
      "\n",
      "Epoch 48: 100%|██████████| 500/500 [00:55<00:00,  8.97batch/s]\n",
      "Test 48: 100%|██████████| 100/100 [00:02<00:00, 34.70batch/s]"
     ]
    },
    {
     "name": "stdout",
     "output_type": "stream",
     "text": [
      "[Epoch 49] Train Loss: 0.176639 - Test Loss: 0.370007 - Train Accuracy: 93.81% - Test Accuracy: 89.84%\n"
     ]
    },
    {
     "name": "stderr",
     "output_type": "stream",
     "text": [
      "\n",
      "Epoch 49: 100%|██████████| 500/500 [00:55<00:00,  8.97batch/s]\n",
      "Test 49: 100%|██████████| 100/100 [00:02<00:00, 34.79batch/s]"
     ]
    },
    {
     "name": "stdout",
     "output_type": "stream",
     "text": [
      "[Epoch 50] Train Loss: 0.173273 - Test Loss: 0.348270 - Train Accuracy: 93.83% - Test Accuracy: 90.59%\n"
     ]
    },
    {
     "name": "stderr",
     "output_type": "stream",
     "text": [
      "\n",
      "Epoch 50: 100%|██████████| 500/500 [00:55<00:00,  8.97batch/s]\n",
      "Test 50: 100%|██████████| 100/100 [00:02<00:00, 34.50batch/s]"
     ]
    },
    {
     "name": "stdout",
     "output_type": "stream",
     "text": [
      "[Epoch 51] Train Loss: 0.170965 - Test Loss: 0.345448 - Train Accuracy: 93.95% - Test Accuracy: 90.40%\n"
     ]
    },
    {
     "name": "stderr",
     "output_type": "stream",
     "text": [
      "\n",
      "Epoch 51: 100%|██████████| 500/500 [00:55<00:00,  8.96batch/s]\n",
      "Test 51: 100%|██████████| 100/100 [00:02<00:00, 34.57batch/s]"
     ]
    },
    {
     "name": "stdout",
     "output_type": "stream",
     "text": [
      "[Epoch 52] Train Loss: 0.163792 - Test Loss: 0.356175 - Train Accuracy: 94.20% - Test Accuracy: 90.01%\n"
     ]
    },
    {
     "name": "stderr",
     "output_type": "stream",
     "text": [
      "\n",
      "Epoch 52: 100%|██████████| 500/500 [00:55<00:00,  8.96batch/s]\n",
      "Test 52: 100%|██████████| 100/100 [00:02<00:00, 34.63batch/s]\n"
     ]
    },
    {
     "name": "stdout",
     "output_type": "stream",
     "text": [
      "[Epoch 53] Train Loss: 0.120300 - Test Loss: 0.278434 - Train Accuracy: 95.72% - Test Accuracy: 92.08%\n"
     ]
    },
    {
     "name": "stderr",
     "output_type": "stream",
     "text": [
      "Epoch 53: 100%|██████████| 500/500 [00:55<00:00,  8.96batch/s]\n",
      "Test 53: 100%|██████████| 100/100 [00:02<00:00, 34.58batch/s]\n"
     ]
    },
    {
     "name": "stdout",
     "output_type": "stream",
     "text": [
      "[Epoch 54] Train Loss: 0.100821 - Test Loss: 0.275025 - Train Accuracy: 96.49% - Test Accuracy: 92.56%\n"
     ]
    },
    {
     "name": "stderr",
     "output_type": "stream",
     "text": [
      "Epoch 54: 100%|██████████| 500/500 [00:55<00:00,  8.96batch/s]\n",
      "Test 54: 100%|██████████| 100/100 [00:02<00:00, 34.50batch/s]\n"
     ]
    },
    {
     "name": "stdout",
     "output_type": "stream",
     "text": [
      "[Epoch 55] Train Loss: 0.095379 - Test Loss: 0.263944 - Train Accuracy: 96.70% - Test Accuracy: 92.76%\n"
     ]
    },
    {
     "name": "stderr",
     "output_type": "stream",
     "text": [
      "Epoch 55: 100%|██████████| 500/500 [00:55<00:00,  8.96batch/s]\n",
      "Test 55: 100%|██████████| 100/100 [00:02<00:00, 34.70batch/s]\n"
     ]
    },
    {
     "name": "stdout",
     "output_type": "stream",
     "text": [
      "[Epoch 56] Train Loss: 0.086985 - Test Loss: 0.266036 - Train Accuracy: 97.02% - Test Accuracy: 92.84%\n"
     ]
    },
    {
     "name": "stderr",
     "output_type": "stream",
     "text": [
      "Epoch 56: 100%|██████████| 500/500 [00:55<00:00,  8.98batch/s]\n",
      "Test 56: 100%|██████████| 100/100 [00:02<00:00, 34.84batch/s]"
     ]
    },
    {
     "name": "stdout",
     "output_type": "stream",
     "text": [
      "[Epoch 57] Train Loss: 0.085228 - Test Loss: 0.265418 - Train Accuracy: 97.03% - Test Accuracy: 92.83%\n"
     ]
    },
    {
     "name": "stderr",
     "output_type": "stream",
     "text": [
      "\n",
      "Epoch 57: 100%|██████████| 500/500 [00:55<00:00,  8.99batch/s]\n",
      "Test 57: 100%|██████████| 100/100 [00:02<00:00, 34.47batch/s]\n"
     ]
    },
    {
     "name": "stdout",
     "output_type": "stream",
     "text": [
      "[Epoch 58] Train Loss: 0.081803 - Test Loss: 0.260689 - Train Accuracy: 97.18% - Test Accuracy: 93.02%\n"
     ]
    },
    {
     "name": "stderr",
     "output_type": "stream",
     "text": [
      "Epoch 58: 100%|██████████| 500/500 [00:55<00:00,  8.98batch/s]\n",
      "Test 58: 100%|██████████| 100/100 [00:02<00:00, 34.59batch/s]"
     ]
    },
    {
     "name": "stdout",
     "output_type": "stream",
     "text": [
      "[Epoch 59] Train Loss: 0.078074 - Test Loss: 0.270619 - Train Accuracy: 97.35% - Test Accuracy: 92.96%\n"
     ]
    },
    {
     "name": "stderr",
     "output_type": "stream",
     "text": [
      "\n",
      "Epoch 59: 100%|██████████| 500/500 [00:55<00:00,  8.97batch/s]\n",
      "Test 59: 100%|██████████| 100/100 [00:02<00:00, 34.69batch/s]"
     ]
    },
    {
     "name": "stdout",
     "output_type": "stream",
     "text": [
      "[Epoch 60] Train Loss: 0.077511 - Test Loss: 0.271863 - Train Accuracy: 97.32% - Test Accuracy: 92.92%\n"
     ]
    },
    {
     "name": "stderr",
     "output_type": "stream",
     "text": [
      "\n",
      "Epoch 60: 100%|██████████| 500/500 [00:55<00:00,  8.96batch/s]\n",
      "Test 60: 100%|██████████| 100/100 [00:02<00:00, 34.45batch/s]\n"
     ]
    },
    {
     "name": "stdout",
     "output_type": "stream",
     "text": [
      "[Epoch 61] Train Loss: 0.077197 - Test Loss: 0.272549 - Train Accuracy: 97.36% - Test Accuracy: 93.05%\n"
     ]
    },
    {
     "name": "stderr",
     "output_type": "stream",
     "text": [
      "Epoch 61: 100%|██████████| 500/500 [00:55<00:00,  8.97batch/s]\n",
      "Test 61: 100%|██████████| 100/100 [00:02<00:00, 34.77batch/s]"
     ]
    },
    {
     "name": "stdout",
     "output_type": "stream",
     "text": [
      "[Epoch 62] Train Loss: 0.074014 - Test Loss: 0.278655 - Train Accuracy: 97.41% - Test Accuracy: 92.85%\n"
     ]
    },
    {
     "name": "stderr",
     "output_type": "stream",
     "text": [
      "\n",
      "Epoch 62: 100%|██████████| 500/500 [00:55<00:00,  8.97batch/s]\n",
      "Test 62: 100%|██████████| 100/100 [00:02<00:00, 34.63batch/s]"
     ]
    },
    {
     "name": "stdout",
     "output_type": "stream",
     "text": [
      "[Epoch 63] Train Loss: 0.071337 - Test Loss: 0.273939 - Train Accuracy: 97.57% - Test Accuracy: 93.02%\n"
     ]
    },
    {
     "name": "stderr",
     "output_type": "stream",
     "text": [
      "\n",
      "Epoch 63: 100%|██████████| 500/500 [00:55<00:00,  8.96batch/s]\n",
      "Test 63: 100%|██████████| 100/100 [00:02<00:00, 34.17batch/s]"
     ]
    },
    {
     "name": "stdout",
     "output_type": "stream",
     "text": [
      "[Epoch 64] Train Loss: 0.069579 - Test Loss: 0.274735 - Train Accuracy: 97.59% - Test Accuracy: 92.97%\n"
     ]
    },
    {
     "name": "stderr",
     "output_type": "stream",
     "text": [
      "\n",
      "Epoch 64: 100%|██████████| 500/500 [00:55<00:00,  8.97batch/s]\n",
      "Test 64: 100%|██████████| 100/100 [00:02<00:00, 34.54batch/s]"
     ]
    },
    {
     "name": "stdout",
     "output_type": "stream",
     "text": [
      "[Epoch 65] Train Loss: 0.074324 - Test Loss: 0.279327 - Train Accuracy: 97.41% - Test Accuracy: 92.79%\n"
     ]
    },
    {
     "name": "stderr",
     "output_type": "stream",
     "text": [
      "\n",
      "Epoch 65: 100%|██████████| 500/500 [00:55<00:00,  8.97batch/s]\n",
      "Test 65: 100%|██████████| 100/100 [00:02<00:00, 34.91batch/s]"
     ]
    },
    {
     "name": "stdout",
     "output_type": "stream",
     "text": [
      "[Epoch 66] Train Loss: 0.069900 - Test Loss: 0.279377 - Train Accuracy: 97.54% - Test Accuracy: 93.01%\n"
     ]
    },
    {
     "name": "stderr",
     "output_type": "stream",
     "text": [
      "\n",
      "Epoch 66: 100%|██████████| 500/500 [00:55<00:00,  8.97batch/s]\n",
      "Test 66: 100%|██████████| 100/100 [00:02<00:00, 34.69batch/s]"
     ]
    },
    {
     "name": "stdout",
     "output_type": "stream",
     "text": [
      "[Epoch 67] Train Loss: 0.068212 - Test Loss: 0.276001 - Train Accuracy: 97.61% - Test Accuracy: 92.91%\n"
     ]
    },
    {
     "name": "stderr",
     "output_type": "stream",
     "text": [
      "\n",
      "Epoch 67: 100%|██████████| 500/500 [00:55<00:00,  8.97batch/s]\n",
      "Test 67: 100%|██████████| 100/100 [00:02<00:00, 34.66batch/s]"
     ]
    },
    {
     "name": "stdout",
     "output_type": "stream",
     "text": [
      "[Epoch 68] Train Loss: 0.067021 - Test Loss: 0.280446 - Train Accuracy: 97.68% - Test Accuracy: 92.87%\n"
     ]
    },
    {
     "name": "stderr",
     "output_type": "stream",
     "text": [
      "\n",
      "Epoch 68: 100%|██████████| 500/500 [00:55<00:00,  8.97batch/s]\n",
      "Test 68: 100%|██████████| 100/100 [00:02<00:00, 34.70batch/s]"
     ]
    },
    {
     "name": "stdout",
     "output_type": "stream",
     "text": [
      "[Epoch 69] Train Loss: 0.064080 - Test Loss: 0.290926 - Train Accuracy: 97.82% - Test Accuracy: 92.71%\n"
     ]
    },
    {
     "name": "stderr",
     "output_type": "stream",
     "text": [
      "\n",
      "Epoch 69: 100%|██████████| 500/500 [00:55<00:00,  8.98batch/s]\n",
      "Test 69: 100%|██████████| 100/100 [00:02<00:00, 34.81batch/s]"
     ]
    },
    {
     "name": "stdout",
     "output_type": "stream",
     "text": [
      "[Epoch 70] Train Loss: 0.061896 - Test Loss: 0.279727 - Train Accuracy: 97.90% - Test Accuracy: 92.89%\n"
     ]
    },
    {
     "name": "stderr",
     "output_type": "stream",
     "text": [
      "\n",
      "Epoch 70: 100%|██████████| 500/500 [00:55<00:00,  8.98batch/s]\n",
      "Test 70: 100%|██████████| 100/100 [00:02<00:00, 34.52batch/s]"
     ]
    },
    {
     "name": "stdout",
     "output_type": "stream",
     "text": [
      "[Epoch 71] Train Loss: 0.060398 - Test Loss: 0.283629 - Train Accuracy: 97.92% - Test Accuracy: 92.98%\n"
     ]
    },
    {
     "name": "stderr",
     "output_type": "stream",
     "text": [
      "\n",
      "Epoch 71: 100%|██████████| 500/500 [00:55<00:00,  8.96batch/s]\n",
      "Test 71: 100%|██████████| 100/100 [00:02<00:00, 34.68batch/s]"
     ]
    },
    {
     "name": "stdout",
     "output_type": "stream",
     "text": [
      "[Epoch 72] Train Loss: 0.060730 - Test Loss: 0.286304 - Train Accuracy: 97.94% - Test Accuracy: 92.89%\n"
     ]
    },
    {
     "name": "stderr",
     "output_type": "stream",
     "text": [
      "\n",
      "Epoch 72: 100%|██████████| 500/500 [00:55<00:00,  8.97batch/s]\n",
      "Test 72: 100%|██████████| 100/100 [00:02<00:00, 34.56batch/s]"
     ]
    },
    {
     "name": "stdout",
     "output_type": "stream",
     "text": [
      "[Epoch 73] Train Loss: 0.060733 - Test Loss: 0.274949 - Train Accuracy: 97.92% - Test Accuracy: 93.03%\n"
     ]
    },
    {
     "name": "stderr",
     "output_type": "stream",
     "text": [
      "\n",
      "Epoch 73: 100%|██████████| 500/500 [00:55<00:00,  8.97batch/s]\n",
      "Test 73: 100%|██████████| 100/100 [00:02<00:00, 34.75batch/s]"
     ]
    },
    {
     "name": "stdout",
     "output_type": "stream",
     "text": [
      "[Epoch 74] Train Loss: 0.056990 - Test Loss: 0.279481 - Train Accuracy: 98.08% - Test Accuracy: 92.97%\n"
     ]
    },
    {
     "name": "stderr",
     "output_type": "stream",
     "text": [
      "\n",
      "Epoch 74: 100%|██████████| 500/500 [00:55<00:00,  8.97batch/s]\n",
      "Test 74: 100%|██████████| 100/100 [00:02<00:00, 34.61batch/s]"
     ]
    },
    {
     "name": "stdout",
     "output_type": "stream",
     "text": [
      "[Epoch 75] Train Loss: 0.058629 - Test Loss: 0.279088 - Train Accuracy: 98.02% - Test Accuracy: 93.01%\n"
     ]
    },
    {
     "name": "stderr",
     "output_type": "stream",
     "text": [
      "\n",
      "Epoch 75: 100%|██████████| 500/500 [00:55<00:00,  8.97batch/s]\n",
      "Test 75: 100%|██████████| 100/100 [00:02<00:00, 34.72batch/s]\n"
     ]
    },
    {
     "name": "stdout",
     "output_type": "stream",
     "text": [
      "[Epoch 76] Train Loss: 0.059350 - Test Loss: 0.275306 - Train Accuracy: 97.91% - Test Accuracy: 93.08%\n"
     ]
    },
    {
     "name": "stderr",
     "output_type": "stream",
     "text": [
      "Epoch 76: 100%|██████████| 500/500 [00:55<00:00,  8.96batch/s]\n",
      "Test 76: 100%|██████████| 100/100 [00:02<00:00, 33.97batch/s]"
     ]
    },
    {
     "name": "stdout",
     "output_type": "stream",
     "text": [
      "[Epoch 77] Train Loss: 0.058691 - Test Loss: 0.280164 - Train Accuracy: 97.95% - Test Accuracy: 93.01%\n"
     ]
    },
    {
     "name": "stderr",
     "output_type": "stream",
     "text": [
      "\n",
      "Epoch 77: 100%|██████████| 500/500 [00:55<00:00,  8.97batch/s]\n",
      "Test 77: 100%|██████████| 100/100 [00:02<00:00, 34.69batch/s]\n"
     ]
    },
    {
     "name": "stdout",
     "output_type": "stream",
     "text": [
      "[Epoch 78] Train Loss: 0.057340 - Test Loss: 0.278735 - Train Accuracy: 98.00% - Test Accuracy: 93.12%\n"
     ]
    },
    {
     "name": "stderr",
     "output_type": "stream",
     "text": [
      "Epoch 78: 100%|██████████| 500/500 [00:55<00:00,  8.96batch/s]\n",
      "Test 78: 100%|██████████| 100/100 [00:02<00:00, 34.77batch/s]\n"
     ]
    },
    {
     "name": "stdout",
     "output_type": "stream",
     "text": [
      "[Epoch 79] Train Loss: 0.059227 - Test Loss: 0.274079 - Train Accuracy: 97.89% - Test Accuracy: 93.16%\n"
     ]
    },
    {
     "name": "stderr",
     "output_type": "stream",
     "text": [
      "Epoch 79: 100%|██████████| 500/500 [00:55<00:00,  8.97batch/s]\n",
      "Test 79: 100%|██████████| 100/100 [00:02<00:00, 34.82batch/s]"
     ]
    },
    {
     "name": "stdout",
     "output_type": "stream",
     "text": [
      "[Epoch 80] Train Loss: 0.058121 - Test Loss: 0.277897 - Train Accuracy: 97.99% - Test Accuracy: 93.04%\n"
     ]
    },
    {
     "name": "stderr",
     "output_type": "stream",
     "text": [
      "\n",
      "Epoch 80: 100%|██████████| 500/500 [00:55<00:00,  8.97batch/s]\n",
      "Test 80: 100%|██████████| 100/100 [00:02<00:00, 34.58batch/s]"
     ]
    },
    {
     "name": "stdout",
     "output_type": "stream",
     "text": [
      "[Epoch 81] Train Loss: 0.057385 - Test Loss: 0.277604 - Train Accuracy: 98.00% - Test Accuracy: 92.98%\n"
     ]
    },
    {
     "name": "stderr",
     "output_type": "stream",
     "text": [
      "\n",
      "Epoch 81: 100%|██████████| 500/500 [00:55<00:00,  8.98batch/s]\n",
      "Test 81: 100%|██████████| 100/100 [00:02<00:00, 34.79batch/s]"
     ]
    },
    {
     "name": "stdout",
     "output_type": "stream",
     "text": [
      "[Epoch 82] Train Loss: 0.053989 - Test Loss: 0.280738 - Train Accuracy: 98.12% - Test Accuracy: 93.04%\n"
     ]
    },
    {
     "name": "stderr",
     "output_type": "stream",
     "text": [
      "\n",
      "Epoch 82: 100%|██████████| 500/500 [00:55<00:00,  8.99batch/s]\n",
      "Test 82: 100%|██████████| 100/100 [00:02<00:00, 34.96batch/s]\n"
     ]
    },
    {
     "name": "stdout",
     "output_type": "stream",
     "text": [
      "[Epoch 83] Train Loss: 0.055873 - Test Loss: 0.273647 - Train Accuracy: 98.14% - Test Accuracy: 93.21%\n"
     ]
    },
    {
     "name": "stderr",
     "output_type": "stream",
     "text": [
      "Epoch 83: 100%|██████████| 500/500 [00:55<00:00,  8.97batch/s]\n",
      "Test 83: 100%|██████████| 100/100 [00:02<00:00, 34.50batch/s]\n"
     ]
    },
    {
     "name": "stdout",
     "output_type": "stream",
     "text": [
      "[Epoch 84] Train Loss: 0.056545 - Test Loss: 0.270768 - Train Accuracy: 98.11% - Test Accuracy: 93.31%\n"
     ]
    },
    {
     "name": "stderr",
     "output_type": "stream",
     "text": [
      "Epoch 84: 100%|██████████| 500/500 [00:55<00:00,  8.97batch/s]\n",
      "Test 84: 100%|██████████| 100/100 [00:02<00:00, 34.69batch/s]"
     ]
    },
    {
     "name": "stdout",
     "output_type": "stream",
     "text": [
      "[Epoch 85] Train Loss: 0.056205 - Test Loss: 0.275235 - Train Accuracy: 98.05% - Test Accuracy: 93.12%\n"
     ]
    },
    {
     "name": "stderr",
     "output_type": "stream",
     "text": [
      "\n",
      "Epoch 85: 100%|██████████| 500/500 [00:55<00:00,  8.96batch/s]\n",
      "Test 85: 100%|██████████| 100/100 [00:02<00:00, 34.63batch/s]"
     ]
    },
    {
     "name": "stdout",
     "output_type": "stream",
     "text": [
      "[Epoch 86] Train Loss: 0.055063 - Test Loss: 0.285446 - Train Accuracy: 98.06% - Test Accuracy: 93.00%\n"
     ]
    },
    {
     "name": "stderr",
     "output_type": "stream",
     "text": [
      "\n",
      "Epoch 86: 100%|██████████| 500/500 [00:55<00:00,  8.96batch/s]\n",
      "Test 86: 100%|██████████| 100/100 [00:02<00:00, 34.81batch/s]"
     ]
    },
    {
     "name": "stdout",
     "output_type": "stream",
     "text": [
      "[Epoch 87] Train Loss: 0.056367 - Test Loss: 0.280780 - Train Accuracy: 98.14% - Test Accuracy: 92.98%\n"
     ]
    },
    {
     "name": "stderr",
     "output_type": "stream",
     "text": [
      "\n",
      "Epoch 87: 100%|██████████| 500/500 [00:55<00:00,  8.96batch/s]\n",
      "Test 87: 100%|██████████| 100/100 [00:02<00:00, 34.58batch/s]"
     ]
    },
    {
     "name": "stdout",
     "output_type": "stream",
     "text": [
      "[Epoch 88] Train Loss: 0.056173 - Test Loss: 0.281603 - Train Accuracy: 98.18% - Test Accuracy: 93.05%\n"
     ]
    },
    {
     "name": "stderr",
     "output_type": "stream",
     "text": [
      "\n",
      "Epoch 88: 100%|██████████| 500/500 [00:55<00:00,  8.97batch/s]\n",
      "Test 88: 100%|██████████| 100/100 [00:02<00:00, 34.64batch/s]"
     ]
    },
    {
     "name": "stdout",
     "output_type": "stream",
     "text": [
      "[Epoch 89] Train Loss: 0.054424 - Test Loss: 0.279770 - Train Accuracy: 98.12% - Test Accuracy: 92.95%\n"
     ]
    },
    {
     "name": "stderr",
     "output_type": "stream",
     "text": [
      "\n",
      "Epoch 89: 100%|██████████| 500/500 [00:55<00:00,  8.97batch/s]\n",
      "Test 89: 100%|██████████| 100/100 [00:02<00:00, 34.42batch/s]"
     ]
    },
    {
     "name": "stdout",
     "output_type": "stream",
     "text": [
      "[Epoch 90] Train Loss: 0.055663 - Test Loss: 0.280371 - Train Accuracy: 98.10% - Test Accuracy: 93.20%\n"
     ]
    },
    {
     "name": "stderr",
     "output_type": "stream",
     "text": [
      "\n",
      "Epoch 90: 100%|██████████| 500/500 [00:55<00:00,  8.98batch/s]\n",
      "Test 90: 100%|██████████| 100/100 [00:02<00:00, 34.87batch/s]"
     ]
    },
    {
     "name": "stdout",
     "output_type": "stream",
     "text": [
      "[Epoch 91] Train Loss: 0.055171 - Test Loss: 0.280568 - Train Accuracy: 98.09% - Test Accuracy: 93.15%\n"
     ]
    },
    {
     "name": "stderr",
     "output_type": "stream",
     "text": [
      "\n",
      "Epoch 91: 100%|██████████| 500/500 [00:55<00:00,  8.98batch/s]\n",
      "Test 91: 100%|██████████| 100/100 [00:02<00:00, 34.67batch/s]"
     ]
    },
    {
     "name": "stdout",
     "output_type": "stream",
     "text": [
      "[Epoch 92] Train Loss: 0.059746 - Test Loss: 0.279181 - Train Accuracy: 97.95% - Test Accuracy: 93.18%\n"
     ]
    },
    {
     "name": "stderr",
     "output_type": "stream",
     "text": [
      "\n",
      "Epoch 92: 100%|██████████| 500/500 [00:55<00:00,  8.98batch/s]\n",
      "Test 92: 100%|██████████| 100/100 [00:02<00:00, 34.70batch/s]"
     ]
    },
    {
     "name": "stdout",
     "output_type": "stream",
     "text": [
      "[Epoch 93] Train Loss: 0.056873 - Test Loss: 0.277182 - Train Accuracy: 98.04% - Test Accuracy: 93.07%\n"
     ]
    },
    {
     "name": "stderr",
     "output_type": "stream",
     "text": [
      "\n",
      "Epoch 93: 100%|██████████| 500/500 [00:55<00:00,  8.97batch/s]\n",
      "Test 93: 100%|██████████| 100/100 [00:02<00:00, 34.72batch/s]"
     ]
    },
    {
     "name": "stdout",
     "output_type": "stream",
     "text": [
      "[Epoch 94] Train Loss: 0.053383 - Test Loss: 0.276903 - Train Accuracy: 98.16% - Test Accuracy: 93.18%\n"
     ]
    },
    {
     "name": "stderr",
     "output_type": "stream",
     "text": [
      "\n",
      "Epoch 94: 100%|██████████| 500/500 [00:55<00:00,  8.97batch/s]\n",
      "Test 94: 100%|██████████| 100/100 [00:02<00:00, 34.73batch/s]"
     ]
    },
    {
     "name": "stdout",
     "output_type": "stream",
     "text": [
      "[Epoch 95] Train Loss: 0.057540 - Test Loss: 0.276514 - Train Accuracy: 98.02% - Test Accuracy: 93.16%\n"
     ]
    },
    {
     "name": "stderr",
     "output_type": "stream",
     "text": [
      "\n",
      "Epoch 95: 100%|██████████| 500/500 [00:55<00:00,  8.96batch/s]\n",
      "Test 95: 100%|██████████| 100/100 [00:02<00:00, 34.46batch/s]"
     ]
    },
    {
     "name": "stdout",
     "output_type": "stream",
     "text": [
      "[Epoch 96] Train Loss: 0.055357 - Test Loss: 0.275355 - Train Accuracy: 98.08% - Test Accuracy: 93.18%\n"
     ]
    },
    {
     "name": "stderr",
     "output_type": "stream",
     "text": [
      "\n",
      "Epoch 96: 100%|██████████| 500/500 [00:55<00:00,  8.98batch/s]\n",
      "Test 96: 100%|██████████| 100/100 [00:02<00:00, 34.59batch/s]"
     ]
    },
    {
     "name": "stdout",
     "output_type": "stream",
     "text": [
      "[Epoch 97] Train Loss: 0.054570 - Test Loss: 0.274196 - Train Accuracy: 98.08% - Test Accuracy: 93.21%\n"
     ]
    },
    {
     "name": "stderr",
     "output_type": "stream",
     "text": [
      "\n",
      "Epoch 97: 100%|██████████| 500/500 [00:55<00:00,  9.00batch/s]\n",
      "Test 97: 100%|██████████| 100/100 [00:02<00:00, 34.78batch/s]"
     ]
    },
    {
     "name": "stdout",
     "output_type": "stream",
     "text": [
      "[Epoch 98] Train Loss: 0.053976 - Test Loss: 0.283313 - Train Accuracy: 98.16% - Test Accuracy: 93.06%\n"
     ]
    },
    {
     "name": "stderr",
     "output_type": "stream",
     "text": [
      "\n",
      "Epoch 98: 100%|██████████| 500/500 [00:55<00:00,  8.97batch/s]\n",
      "Test 98: 100%|██████████| 100/100 [00:02<00:00, 34.72batch/s]"
     ]
    },
    {
     "name": "stdout",
     "output_type": "stream",
     "text": [
      "[Epoch 99] Train Loss: 0.052226 - Test Loss: 0.286477 - Train Accuracy: 98.18% - Test Accuracy: 93.08%\n"
     ]
    },
    {
     "name": "stderr",
     "output_type": "stream",
     "text": [
      "\n",
      "Epoch 99: 100%|██████████| 500/500 [00:55<00:00,  8.97batch/s]\n",
      "Test 99: 100%|██████████| 100/100 [00:02<00:00, 34.74batch/s]"
     ]
    },
    {
     "name": "stdout",
     "output_type": "stream",
     "text": [
      "[Epoch 100] Train Loss: 0.056116 - Test Loss: 0.283487 - Train Accuracy: 98.11% - Test Accuracy: 93.09%\n",
      "\n",
      "BEST TEST ACCURACY:  93.31  in epoch  83\n"
     ]
    },
    {
     "name": "stderr",
     "output_type": "stream",
     "text": [
      "\n"
     ]
    }
   ],
   "source": [
    "net.to(device)\n",
    "\n",
    "print(\"\\n---- Start Training ----\")\n",
    "best_accuracy = -1\n",
    "best_epoch = 0\n",
    "for epoch in range(epochs):\n",
    "\n",
    "    train_loss, train_correct = 0, 0\n",
    "    net.train()\n",
    "    with tqdm(iter(train_dataloader), desc=\"Epoch \" + str(epoch), unit=\"batch\") as tepoch:\n",
    "        for batch in tepoch:\n",
    "            \n",
    "            images = batch[\"img\"].to(device)\n",
    "            labels = batch[\"label\"].to(device)\n",
    "\n",
    "            optimizer.zero_grad()\n",
    "\n",
    "            outputs = net(images)\n",
    "            loss = criterion(outputs, labels)\n",
    "\n",
    "            loss.backward()\n",
    "\n",
    "            optimizer.step()\n",
    "\n",
    "            labels = torch.argmax(labels, dim=1)\n",
    "            pred = torch.argmax(outputs, dim=1)\n",
    "            train_correct += pred.eq(labels).sum().item()\n",
    "\n",
    "            train_loss += loss.item()\n",
    "\n",
    "    train_loss /= (len(train_dataloader.dataset) / batch_size)\n",
    "\n",
    "    test_loss, test_correct = 0, 0\n",
    "    net.eval()\n",
    "    with torch.no_grad():\n",
    "      with tqdm(iter(test_dataloader), desc=\"Test \" + str(epoch), unit=\"batch\") as tepoch:\n",
    "          for batch in tepoch:\n",
    "\n",
    "            images = batch[\"img\"].to(device)\n",
    "            labels = batch[\"label\"].to(device)\n",
    "\n",
    "            outputs = net(images)\n",
    "            test_loss += criterion(outputs, labels)\n",
    "\n",
    "            labels = torch.argmax(labels, dim=1)\n",
    "            pred = torch.argmax(outputs, dim=1)\n",
    "\n",
    "            test_correct += pred.eq(labels).sum().item()\n",
    "\n",
    "    lr_scheduler.step(test_loss)\n",
    "\n",
    "    test_loss /= (len(test_dataloader.dataset) / batch_size)\n",
    "    test_accuracy = 100. * test_correct / len(test_dataloader.dataset)\n",
    "\n",
    "    print(\"[Epoch {}] Train Loss: {:.6f} - Test Loss: {:.6f} - Train Accuracy: {:.2f}% - Test Accuracy: {:.2f}%\".format(\n",
    "        epoch + 1, train_loss, test_loss, 100. * train_correct / len(train_dataloader.dataset), test_accuracy\n",
    "    ))\n",
    "\n",
    "    if test_accuracy > best_accuracy:\n",
    "        best_accuracy = test_accuracy\n",
    "        best_epoch = epoch\n",
    "\n",
    "        torch.save(net.state_dict(), \"model_wideresnet.pt\")\n",
    "\n",
    "print(\"\\nBEST TEST ACCURACY: \", best_accuracy, \" in epoch \", best_epoch)"
   ]
  },
  {
   "cell_type": "markdown",
   "metadata": {},
   "source": [
    "### **Mejor Modelo**"
   ]
  },
  {
   "cell_type": "code",
   "execution_count": 11,
   "metadata": {
    "execution": {
     "iopub.execute_input": "2025-04-13T03:19:28.870351Z",
     "iopub.status.busy": "2025-04-13T03:19:28.870110Z",
     "iopub.status.idle": "2025-04-13T03:19:31.846435Z",
     "shell.execute_reply": "2025-04-13T03:19:31.845524Z",
     "shell.execute_reply.started": "2025-04-13T03:19:28.870330Z"
    },
    "trusted": true
   },
   "outputs": [
    {
     "name": "stderr",
     "output_type": "stream",
     "text": [
      "<ipython-input-11-c8eb2858c64d>:1: FutureWarning: You are using `torch.load` with `weights_only=False` (the current default value), which uses the default pickle module implicitly. It is possible to construct malicious pickle data which will execute arbitrary code during unpickling (See https://github.com/pytorch/pytorch/blob/main/SECURITY.md#untrusted-models for more details). In a future release, the default value for `weights_only` will be flipped to `True`. This limits the functions that could be executed during unpickling. Arbitrary objects will no longer be allowed to be loaded via this mode unless they are explicitly allowlisted by the user via `torch.serialization.add_safe_globals`. We recommend you start setting `weights_only=True` for any use case where you don't have full control of the loaded file. Please open an issue on GitHub for any issues related to this experimental feature.\n",
      "  net.load_state_dict(torch.load(\"model_wideresnet.pt\"))\n",
      "Test 99: 100%|██████████| 100/100 [00:02<00:00, 34.87batch/s]"
     ]
    },
    {
     "name": "stdout",
     "output_type": "stream",
     "text": [
      "Final best acc:  93.31\n"
     ]
    },
    {
     "name": "stderr",
     "output_type": "stream",
     "text": [
      "\n"
     ]
    }
   ],
   "source": [
    "net.load_state_dict(torch.load(\"model_wideresnet.pt\"))\n",
    "\n",
    "test_loss, test_correct = 0, 0\n",
    "net.eval()\n",
    "with torch.no_grad():\n",
    "    with tqdm(iter(test_dataloader), desc=\"Test \" + str(epoch), unit=\"batch\") as tepoch:\n",
    "        for batch in tepoch:\n",
    "\n",
    "            images = batch[\"img\"].to(device)\n",
    "            labels = batch[\"label\"].to(device)\n",
    "\n",
    "            # Forward\n",
    "            outputs = net(images)\n",
    "            test_loss += criterion(outputs, labels)\n",
    "\n",
    "            # one hot -> labels\n",
    "            labels = torch.argmax(labels, dim=1)\n",
    "            pred = torch.argmax(outputs, dim=1)\n",
    "\n",
    "            test_correct += pred.eq(labels).sum().item()\n",
    "\n",
    "    test_loss /= len(test_dataloader.dataset)\n",
    "    test_accuracy = 100. * test_correct / len(test_dataloader.dataset)\n",
    "print(\"Final best acc: \", test_accuracy)"
   ]
  }
 ],
 "metadata": {
  "kaggle": {
   "accelerator": "nvidiaTeslaT4",
   "dataSources": [],
   "dockerImageVersionId": 30919,
   "isGpuEnabled": true,
   "isInternetEnabled": true,
   "language": "python",
   "sourceType": "notebook"
  },
  "kernelspec": {
   "display_name": "Python 3",
   "language": "python",
   "name": "python3"
  },
  "language_info": {
   "codemirror_mode": {
    "name": "ipython",
    "version": 3
   },
   "file_extension": ".py",
   "mimetype": "text/x-python",
   "name": "python",
   "nbconvert_exporter": "python",
   "pygments_lexer": "ipython3",
   "version": "3.10.12"
  }
 },
 "nbformat": 4,
 "nbformat_minor": 4
}
