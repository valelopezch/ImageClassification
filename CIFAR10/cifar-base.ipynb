{
 "cells": [
  {
   "cell_type": "markdown",
   "metadata": {},
   "source": [
    "<div style=\"text-align: right\"><b> Ana Valentina López Chacón </b></div>\n",
    "<div style=\"text-align: right\"><b> Redes Neuronales Artificiales, 2024 - 2025 </b></div>\n",
    "\n",
    "## **Práctica CIFAR: CNNs**"
   ]
  },
  {
   "cell_type": "code",
   "execution_count": 1,
   "metadata": {
    "_cell_guid": "b1076dfc-b9ad-4769-8c92-a6c4dae69d19",
    "_uuid": "8f2839f25d086af736a60e9eeb907d3b93b6e0e5",
    "execution": {
     "iopub.execute_input": "2025-02-04T22:38:53.826802Z",
     "iopub.status.busy": "2025-02-04T22:38:53.826522Z",
     "iopub.status.idle": "2025-02-04T22:38:57.795311Z",
     "shell.execute_reply": "2025-02-04T22:38:57.794523Z",
     "shell.execute_reply.started": "2025-02-04T22:38:53.826773Z"
    },
    "trusted": true
   },
   "outputs": [
    {
     "name": "stdout",
     "output_type": "stream",
     "text": [
      "Torch version:  2.4.1+cu121\n",
      "Device:  cuda\n"
     ]
    }
   ],
   "source": [
    "import torch\n",
    "import torchvision\n",
    "import torch.nn as nn\n",
    "from tqdm import tqdm\n",
    "import multiprocessing\n",
    "import torch.optim as optim\n",
    "import torch.nn.functional as  F\n",
    "from torch.utils.data import Dataset\n",
    "from torch.utils.data import DataLoader\n",
    "\n",
    "print(\"Torch version: \", torch. __version__)\n",
    "\n",
    "####################################################################\n",
    "# Set Device\n",
    "####################################################################\n",
    "\n",
    "device = torch.device(\"cuda\" if torch.cuda.is_available() else \"cpu\")\n",
    "print(\"Device: \", device)"
   ]
  },
  {
   "cell_type": "code",
   "execution_count": 2,
   "metadata": {
    "execution": {
     "iopub.execute_input": "2025-02-04T22:38:57.796530Z",
     "iopub.status.busy": "2025-02-04T22:38:57.796076Z",
     "iopub.status.idle": "2025-02-04T22:38:57.806823Z",
     "shell.execute_reply": "2025-02-04T22:38:57.806190Z",
     "shell.execute_reply.started": "2025-02-04T22:38:57.796497Z"
    },
    "trusted": true
   },
   "outputs": [],
   "source": [
    "seed = 42\n",
    "torch.manual_seed(seed)\n",
    "\n",
    "if torch.cuda.is_available():\n",
    "    torch.cuda.manual_seed(seed)\n",
    "    torch.cuda.manual_seed_all(seed)\n",
    "    torch.backends.cudnn.deterministic = True\n",
    "    torch.backends.cudnn.benchmark = False"
   ]
  },
  {
   "cell_type": "markdown",
   "metadata": {},
   "source": [
    "### **Cargar los Datos**"
   ]
  },
  {
   "cell_type": "code",
   "execution_count": 3,
   "metadata": {
    "execution": {
     "iopub.execute_input": "2025-02-04T22:38:57.808332Z",
     "iopub.status.busy": "2025-02-04T22:38:57.808094Z",
     "iopub.status.idle": "2025-02-04T22:39:02.774041Z",
     "shell.execute_reply": "2025-02-04T22:39:02.773342Z",
     "shell.execute_reply.started": "2025-02-04T22:38:57.808309Z"
    },
    "trusted": true
   },
   "outputs": [
    {
     "name": "stdout",
     "output_type": "stream",
     "text": [
      "\n",
      "Loading CIFAR10  train  Dataset...\n",
      "Downloading https://www.cs.toronto.edu/~kriz/cifar-10-python.tar.gz to .data/cifar-10-python.tar.gz\n"
     ]
    },
    {
     "name": "stderr",
     "output_type": "stream",
     "text": [
      "100%|██████████| 170498071/170498071 [00:01<00:00, 106149680.99it/s]\n"
     ]
    },
    {
     "name": "stdout",
     "output_type": "stream",
     "text": [
      "Extracting .data/cifar-10-python.tar.gz to .data/\n",
      "\tTotal Len.:  50000 \n",
      " --------------------------------------------------\n",
      "\n",
      "Loading CIFAR10  test  Dataset...\n",
      "Files already downloaded and verified\n",
      "\tTotal Len.:  10000 \n",
      " --------------------------------------------------\n"
     ]
    }
   ],
   "source": [
    "class CIFAR10_dataset(Dataset):\n",
    "\n",
    "    def __init__(self, partition = \"train\"):\n",
    "\n",
    "        print(\"\\nLoading CIFAR10 \", partition, \" Dataset...\")\n",
    "        self.partition = partition\n",
    "        if self.partition == \"train\":\n",
    "            self.data = torchvision.datasets.CIFAR10('.data/', \n",
    "                                                     train=True,\n",
    "                                                     download=True)\n",
    "        else:\n",
    "            self.data = torchvision.datasets.CIFAR10('.data/', \n",
    "                                                     train=False,\n",
    "                                                     download=True)\n",
    "        print(\"\\tTotal Len.: \", len(self.data), \"\\n\", 50*\"-\")\n",
    "\n",
    "    def from_pil_to_tensor(self, image):\n",
    "        return torchvision.transforms.ToTensor()(image)\n",
    "    \n",
    "    def __len__(self):\n",
    "        return len(self.data)\n",
    "\n",
    "    def __getitem__(self, idx):\n",
    "\n",
    "        # Image\n",
    "        image = self.data[idx][0]\n",
    "        # PIL Image to torch tensor\n",
    "        image_tensor = self.from_pil_to_tensor(image)\n",
    "\n",
    "        # Label\n",
    "        label = torch.tensor(self.data[idx][1])\n",
    "        label = F.one_hot(label, num_classes=10).float()\n",
    "\n",
    "        return {\"img\": image_tensor, \"label\": label}\n",
    "\n",
    "train_dataset = CIFAR10_dataset(partition=\"train\")\n",
    "test_dataset = CIFAR10_dataset(partition=\"test\")"
   ]
  },
  {
   "cell_type": "code",
   "execution_count": 4,
   "metadata": {
    "execution": {
     "iopub.execute_input": "2025-02-04T22:39:02.775335Z",
     "iopub.status.busy": "2025-02-04T22:39:02.775022Z",
     "iopub.status.idle": "2025-02-04T22:39:02.780385Z",
     "shell.execute_reply": "2025-02-04T22:39:02.779546Z",
     "shell.execute_reply.started": "2025-02-04T22:39:02.775308Z"
    },
    "trusted": true
   },
   "outputs": [
    {
     "name": "stdout",
     "output_type": "stream",
     "text": [
      "Num workers 3\n"
     ]
    }
   ],
   "source": [
    "batch_size = 100\n",
    "num_workers = multiprocessing.cpu_count()-1\n",
    "print(\"Num workers\", num_workers)\n",
    "train_dataloader = DataLoader(train_dataset, batch_size, shuffle=True, num_workers=num_workers)\n",
    "test_dataloader = DataLoader(test_dataset, batch_size, shuffle=False, num_workers=num_workers)"
   ]
  },
  {
   "cell_type": "markdown",
   "metadata": {},
   "source": [
    "### **Creación de Red**"
   ]
  },
  {
   "cell_type": "code",
   "execution_count": 5,
   "metadata": {
    "execution": {
     "iopub.execute_input": "2025-02-04T22:39:02.781460Z",
     "iopub.status.busy": "2025-02-04T22:39:02.781224Z",
     "iopub.status.idle": "2025-02-04T22:39:02.800356Z",
     "shell.execute_reply": "2025-02-04T22:39:02.799543Z",
     "shell.execute_reply.started": "2025-02-04T22:39:02.781429Z"
    },
    "trusted": true
   },
   "outputs": [],
   "source": [
    "class SimpleCNN(nn.Module):\n",
    "    def __init__(self, num_classes=10):\n",
    "        super(SimpleCNN, self).__init__()\n",
    "        \n",
    "        self.conv1 = nn.Conv2d(in_channels=3, out_channels=32, kernel_size=3, stride=1, padding=1)\n",
    "        self.conv2 = nn.Conv2d(in_channels=32, out_channels=64, kernel_size=3, stride=1, padding=1)\n",
    "        self.conv3 = nn.Conv2d(in_channels=64, out_channels=128, kernel_size=3, stride=1, padding=1)\n",
    "        self.conv4 = nn.Conv2d(in_channels=128, out_channels=256, kernel_size=3, stride=1, padding=1)\n",
    "        self.conv5 = nn.Conv2d(in_channels=256, out_channels=512, kernel_size=3, stride=1, padding=1)\n",
    "        \n",
    "        self.bn1 = nn.BatchNorm2d(32)\n",
    "        self.bn2 = nn.BatchNorm2d(64)\n",
    "        self.bn3 = nn.BatchNorm2d(128)\n",
    "        self.bn4 = nn.BatchNorm2d(256)\n",
    "        self.bn5 = nn.BatchNorm2d(512)\n",
    "\n",
    "        self.maxpool = nn.MaxPool2d(kernel_size=2, stride=2)\n",
    "        \n",
    "        self.fc1 = nn.Linear(512, 512)\n",
    "        self.fc2 = nn.Linear(512, num_classes)\n",
    "        self.relu = nn.ReLU()\n",
    "\n",
    "    def forward(self, x):\n",
    "        \n",
    "        x = self.relu(self.bn1(self.conv1(x)))\n",
    "        x = self.maxpool(x)\n",
    "        x = self.relu(self.bn2(self.conv2(x)))\n",
    "        x = self.maxpool(x)\n",
    "        x = self.relu(self.bn3(self.conv3(x)))\n",
    "        x = self.maxpool(x)\n",
    "        x = self.relu(self.bn4(self.conv4(x)))\n",
    "        x = self.maxpool(x)\n",
    "        x = self.relu(self.bn5(self.conv5(x)))\n",
    "        x = self.maxpool(x)\n",
    "        \n",
    "        x = torch.flatten(x, start_dim=1)\n",
    "        x = self.relu(self.fc1(x))\n",
    "        x = self.fc2(x)\n",
    "        return x"
   ]
  },
  {
   "cell_type": "code",
   "execution_count": 6,
   "metadata": {
    "execution": {
     "iopub.execute_input": "2025-02-04T22:39:02.801380Z",
     "iopub.status.busy": "2025-02-04T22:39:02.801078Z",
     "iopub.status.idle": "2025-02-04T22:39:02.869290Z",
     "shell.execute_reply": "2025-02-04T22:39:02.868641Z",
     "shell.execute_reply.started": "2025-02-04T22:39:02.801355Z"
    },
    "trusted": true
   },
   "outputs": [
    {
     "name": "stdout",
     "output_type": "stream",
     "text": [
      "SimpleCNN(\n",
      "  (conv1): Conv2d(3, 32, kernel_size=(3, 3), stride=(1, 1), padding=(1, 1))\n",
      "  (conv2): Conv2d(32, 64, kernel_size=(3, 3), stride=(1, 1), padding=(1, 1))\n",
      "  (conv3): Conv2d(64, 128, kernel_size=(3, 3), stride=(1, 1), padding=(1, 1))\n",
      "  (conv4): Conv2d(128, 256, kernel_size=(3, 3), stride=(1, 1), padding=(1, 1))\n",
      "  (conv5): Conv2d(256, 512, kernel_size=(3, 3), stride=(1, 1), padding=(1, 1))\n",
      "  (bn1): BatchNorm2d(32, eps=1e-05, momentum=0.1, affine=True, track_running_stats=True)\n",
      "  (bn2): BatchNorm2d(64, eps=1e-05, momentum=0.1, affine=True, track_running_stats=True)\n",
      "  (bn3): BatchNorm2d(128, eps=1e-05, momentum=0.1, affine=True, track_running_stats=True)\n",
      "  (bn4): BatchNorm2d(256, eps=1e-05, momentum=0.1, affine=True, track_running_stats=True)\n",
      "  (bn5): BatchNorm2d(512, eps=1e-05, momentum=0.1, affine=True, track_running_stats=True)\n",
      "  (maxpool): MaxPool2d(kernel_size=2, stride=2, padding=0, dilation=1, ceil_mode=False)\n",
      "  (fc1): Linear(in_features=512, out_features=512, bias=True)\n",
      "  (fc2): Linear(in_features=512, out_features=10, bias=True)\n",
      "  (relu): ReLU()\n",
      ")\n",
      "Params:  1838346\n"
     ]
    }
   ],
   "source": [
    "num_classes = 10\n",
    "net = SimpleCNN(num_classes)\n",
    "print(net)\n",
    "\n",
    "def count_parameters(model):\n",
    "    return sum(p.numel() for p in model.parameters() if p.requires_grad)\n",
    "print(\"Params: \", count_parameters(net))"
   ]
  },
  {
   "cell_type": "code",
   "execution_count": 7,
   "metadata": {
    "execution": {
     "iopub.execute_input": "2025-02-04T22:39:02.870323Z",
     "iopub.status.busy": "2025-02-04T22:39:02.870009Z",
     "iopub.status.idle": "2025-02-04T22:39:02.874421Z",
     "shell.execute_reply": "2025-02-04T22:39:02.873741Z",
     "shell.execute_reply.started": "2025-02-04T22:39:02.870294Z"
    },
    "trusted": true
   },
   "outputs": [],
   "source": [
    "# Training hyperparameters\n",
    "criterion = nn.CrossEntropyLoss()\n",
    "optimizer = optim.SGD(net.parameters(), lr=0.01, weight_decay=1e-6, momentum=0.9)\n",
    "epochs = 100"
   ]
  },
  {
   "cell_type": "markdown",
   "metadata": {},
   "source": [
    "### **Entrenamiento**"
   ]
  },
  {
   "cell_type": "code",
   "execution_count": 8,
   "metadata": {
    "execution": {
     "iopub.execute_input": "2025-02-04T22:39:02.876725Z",
     "iopub.status.busy": "2025-02-04T22:39:02.876503Z",
     "iopub.status.idle": "2025-02-04T22:52:50.607497Z",
     "shell.execute_reply": "2025-02-04T22:52:50.606375Z",
     "shell.execute_reply.started": "2025-02-04T22:39:02.876706Z"
    },
    "trusted": true
   },
   "outputs": [
    {
     "name": "stdout",
     "output_type": "stream",
     "text": [
      "\n",
      "---- Start Training ----\n"
     ]
    },
    {
     "name": "stderr",
     "output_type": "stream",
     "text": [
      "Epoch 0: 100%|██████████| 500/500 [00:08<00:00, 61.32batch/s]\n",
      "Test 0: 100%|██████████| 100/100 [00:01<00:00, 73.98batch/s]\n"
     ]
    },
    {
     "name": "stdout",
     "output_type": "stream",
     "text": [
      "[Epoch 1] Train Loss: 1.203903 - Test Loss: 1.065593 - Train Accuracy: 56.57% - Test Accuracy: 62.09%\n"
     ]
    },
    {
     "name": "stderr",
     "output_type": "stream",
     "text": [
      "Epoch 1: 100%|██████████| 500/500 [00:06<00:00, 75.35batch/s]\n",
      "Test 1: 100%|██████████| 100/100 [00:01<00:00, 70.58batch/s]"
     ]
    },
    {
     "name": "stdout",
     "output_type": "stream",
     "text": [
      "[Epoch 2] Train Loss: 0.812926 - Test Loss: 0.849225 - Train Accuracy: 71.43% - Test Accuracy: 70.31%\n"
     ]
    },
    {
     "name": "stderr",
     "output_type": "stream",
     "text": [
      "\n",
      "Epoch 2: 100%|██████████| 500/500 [00:06<00:00, 74.72batch/s]\n",
      "Test 2: 100%|██████████| 100/100 [00:01<00:00, 76.89batch/s]\n"
     ]
    },
    {
     "name": "stdout",
     "output_type": "stream",
     "text": [
      "[Epoch 3] Train Loss: 0.650238 - Test Loss: 0.863121 - Train Accuracy: 77.32% - Test Accuracy: 71.45%\n"
     ]
    },
    {
     "name": "stderr",
     "output_type": "stream",
     "text": [
      "Epoch 3: 100%|██████████| 500/500 [00:06<00:00, 71.61batch/s]\n",
      "Test 3: 100%|██████████| 100/100 [00:01<00:00, 72.07batch/s]"
     ]
    },
    {
     "name": "stdout",
     "output_type": "stream",
     "text": [
      "[Epoch 4] Train Loss: 0.541983 - Test Loss: 0.712096 - Train Accuracy: 80.80% - Test Accuracy: 76.34%\n"
     ]
    },
    {
     "name": "stderr",
     "output_type": "stream",
     "text": [
      "\n",
      "Epoch 4: 100%|██████████| 500/500 [00:06<00:00, 74.80batch/s]\n",
      "Test 4: 100%|██████████| 100/100 [00:01<00:00, 77.15batch/s]"
     ]
    },
    {
     "name": "stdout",
     "output_type": "stream",
     "text": [
      "[Epoch 5] Train Loss: 0.449450 - Test Loss: 0.880692 - Train Accuracy: 84.22% - Test Accuracy: 72.02%\n"
     ]
    },
    {
     "name": "stderr",
     "output_type": "stream",
     "text": [
      "\n",
      "Epoch 5: 100%|██████████| 500/500 [00:06<00:00, 75.44batch/s]\n",
      "Test 5: 100%|██████████| 100/100 [00:01<00:00, 77.35batch/s]"
     ]
    },
    {
     "name": "stdout",
     "output_type": "stream",
     "text": [
      "[Epoch 6] Train Loss: 0.385047 - Test Loss: 0.783084 - Train Accuracy: 86.45% - Test Accuracy: 74.55%\n"
     ]
    },
    {
     "name": "stderr",
     "output_type": "stream",
     "text": [
      "\n",
      "Epoch 6: 100%|██████████| 500/500 [00:06<00:00, 75.56batch/s]\n",
      "Test 6: 100%|██████████| 100/100 [00:01<00:00, 76.74batch/s]"
     ]
    },
    {
     "name": "stdout",
     "output_type": "stream",
     "text": [
      "[Epoch 7] Train Loss: 0.307283 - Test Loss: 0.807771 - Train Accuracy: 89.25% - Test Accuracy: 76.00%\n"
     ]
    },
    {
     "name": "stderr",
     "output_type": "stream",
     "text": [
      "\n",
      "Epoch 7: 100%|██████████| 500/500 [00:06<00:00, 71.89batch/s]\n",
      "Test 7: 100%|██████████| 100/100 [00:01<00:00, 73.55batch/s]"
     ]
    },
    {
     "name": "stdout",
     "output_type": "stream",
     "text": [
      "[Epoch 8] Train Loss: 0.258486 - Test Loss: 0.939202 - Train Accuracy: 90.95% - Test Accuracy: 74.40%\n"
     ]
    },
    {
     "name": "stderr",
     "output_type": "stream",
     "text": [
      "\n",
      "Epoch 8: 100%|██████████| 500/500 [00:06<00:00, 75.01batch/s]\n",
      "Test 8: 100%|██████████| 100/100 [00:01<00:00, 77.68batch/s]"
     ]
    },
    {
     "name": "stdout",
     "output_type": "stream",
     "text": [
      "[Epoch 9] Train Loss: 0.203194 - Test Loss: 0.857486 - Train Accuracy: 92.94% - Test Accuracy: 76.73%\n"
     ]
    },
    {
     "name": "stderr",
     "output_type": "stream",
     "text": [
      "\n",
      "Epoch 9: 100%|██████████| 500/500 [00:06<00:00, 74.42batch/s]\n",
      "Test 9: 100%|██████████| 100/100 [00:01<00:00, 76.43batch/s]"
     ]
    },
    {
     "name": "stdout",
     "output_type": "stream",
     "text": [
      "[Epoch 10] Train Loss: 0.168295 - Test Loss: 0.940360 - Train Accuracy: 93.96% - Test Accuracy: 75.14%\n"
     ]
    },
    {
     "name": "stderr",
     "output_type": "stream",
     "text": [
      "\n",
      "Epoch 10: 100%|██████████| 500/500 [00:06<00:00, 74.55batch/s]\n",
      "Test 10: 100%|██████████| 100/100 [00:01<00:00, 78.99batch/s]"
     ]
    },
    {
     "name": "stdout",
     "output_type": "stream",
     "text": [
      "[Epoch 11] Train Loss: 0.146342 - Test Loss: 1.008731 - Train Accuracy: 94.79% - Test Accuracy: 76.21%\n"
     ]
    },
    {
     "name": "stderr",
     "output_type": "stream",
     "text": [
      "\n",
      "Epoch 11: 100%|██████████| 500/500 [00:07<00:00, 70.26batch/s]\n",
      "Test 11: 100%|██████████| 100/100 [00:01<00:00, 75.43batch/s]"
     ]
    },
    {
     "name": "stdout",
     "output_type": "stream",
     "text": [
      "[Epoch 12] Train Loss: 0.115588 - Test Loss: 0.935498 - Train Accuracy: 95.87% - Test Accuracy: 78.48%\n"
     ]
    },
    {
     "name": "stderr",
     "output_type": "stream",
     "text": [
      "\n",
      "Epoch 12: 100%|██████████| 500/500 [00:06<00:00, 75.45batch/s]\n",
      "Test 12: 100%|██████████| 100/100 [00:01<00:00, 72.96batch/s]"
     ]
    },
    {
     "name": "stdout",
     "output_type": "stream",
     "text": [
      "[Epoch 13] Train Loss: 0.102558 - Test Loss: 0.978059 - Train Accuracy: 96.50% - Test Accuracy: 77.85%\n"
     ]
    },
    {
     "name": "stderr",
     "output_type": "stream",
     "text": [
      "\n",
      "Epoch 13: 100%|██████████| 500/500 [00:06<00:00, 75.47batch/s]\n",
      "Test 13: 100%|██████████| 100/100 [00:01<00:00, 78.07batch/s]"
     ]
    },
    {
     "name": "stdout",
     "output_type": "stream",
     "text": [
      "[Epoch 14] Train Loss: 0.084033 - Test Loss: 1.032837 - Train Accuracy: 97.08% - Test Accuracy: 78.06%\n"
     ]
    },
    {
     "name": "stderr",
     "output_type": "stream",
     "text": [
      "\n",
      "Epoch 14: 100%|██████████| 500/500 [00:06<00:00, 74.64batch/s]\n",
      "Test 14: 100%|██████████| 100/100 [00:01<00:00, 78.35batch/s]"
     ]
    },
    {
     "name": "stdout",
     "output_type": "stream",
     "text": [
      "[Epoch 15] Train Loss: 0.067289 - Test Loss: 1.118656 - Train Accuracy: 97.62% - Test Accuracy: 77.41%\n"
     ]
    },
    {
     "name": "stderr",
     "output_type": "stream",
     "text": [
      "\n",
      "Epoch 15: 100%|██████████| 500/500 [00:07<00:00, 70.67batch/s]\n",
      "Test 15: 100%|██████████| 100/100 [00:01<00:00, 77.89batch/s]"
     ]
    },
    {
     "name": "stdout",
     "output_type": "stream",
     "text": [
      "[Epoch 16] Train Loss: 0.066042 - Test Loss: 1.180945 - Train Accuracy: 97.71% - Test Accuracy: 76.72%\n"
     ]
    },
    {
     "name": "stderr",
     "output_type": "stream",
     "text": [
      "\n",
      "Epoch 16: 100%|██████████| 500/500 [00:06<00:00, 74.85batch/s]\n",
      "Test 16: 100%|██████████| 100/100 [00:01<00:00, 78.61batch/s]"
     ]
    },
    {
     "name": "stdout",
     "output_type": "stream",
     "text": [
      "[Epoch 17] Train Loss: 0.054649 - Test Loss: 1.275893 - Train Accuracy: 98.05% - Test Accuracy: 76.13%\n"
     ]
    },
    {
     "name": "stderr",
     "output_type": "stream",
     "text": [
      "\n",
      "Epoch 17: 100%|██████████| 500/500 [00:07<00:00, 69.18batch/s]\n",
      "Test 17: 100%|██████████| 100/100 [00:01<00:00, 69.51batch/s]"
     ]
    },
    {
     "name": "stdout",
     "output_type": "stream",
     "text": [
      "[Epoch 18] Train Loss: 0.047228 - Test Loss: 1.179127 - Train Accuracy: 98.34% - Test Accuracy: 78.09%\n"
     ]
    },
    {
     "name": "stderr",
     "output_type": "stream",
     "text": [
      "\n",
      "Epoch 18: 100%|██████████| 500/500 [00:06<00:00, 72.49batch/s]\n",
      "Test 18: 100%|██████████| 100/100 [00:01<00:00, 69.00batch/s]"
     ]
    },
    {
     "name": "stdout",
     "output_type": "stream",
     "text": [
      "[Epoch 19] Train Loss: 0.038625 - Test Loss: 1.144059 - Train Accuracy: 98.67% - Test Accuracy: 79.27%\n"
     ]
    },
    {
     "name": "stderr",
     "output_type": "stream",
     "text": [
      "\n",
      "Epoch 19: 100%|██████████| 500/500 [00:07<00:00, 70.81batch/s]\n",
      "Test 19: 100%|██████████| 100/100 [00:01<00:00, 73.81batch/s]"
     ]
    },
    {
     "name": "stdout",
     "output_type": "stream",
     "text": [
      "[Epoch 20] Train Loss: 0.032273 - Test Loss: 1.321872 - Train Accuracy: 98.83% - Test Accuracy: 78.33%\n"
     ]
    },
    {
     "name": "stderr",
     "output_type": "stream",
     "text": [
      "\n",
      "Epoch 20: 100%|██████████| 500/500 [00:06<00:00, 74.67batch/s]\n",
      "Test 20: 100%|██████████| 100/100 [00:01<00:00, 78.43batch/s]"
     ]
    },
    {
     "name": "stdout",
     "output_type": "stream",
     "text": [
      "[Epoch 21] Train Loss: 0.037283 - Test Loss: 1.240198 - Train Accuracy: 98.71% - Test Accuracy: 78.71%\n"
     ]
    },
    {
     "name": "stderr",
     "output_type": "stream",
     "text": [
      "\n",
      "Epoch 21: 100%|██████████| 500/500 [00:06<00:00, 73.15batch/s]\n",
      "Test 21: 100%|██████████| 100/100 [00:01<00:00, 78.81batch/s]"
     ]
    },
    {
     "name": "stdout",
     "output_type": "stream",
     "text": [
      "[Epoch 22] Train Loss: 0.031384 - Test Loss: 1.216684 - Train Accuracy: 98.93% - Test Accuracy: 79.37%\n"
     ]
    },
    {
     "name": "stderr",
     "output_type": "stream",
     "text": [
      "\n",
      "Epoch 22: 100%|██████████| 500/500 [00:06<00:00, 74.17batch/s]\n",
      "Test 22: 100%|██████████| 100/100 [00:01<00:00, 77.96batch/s]\n"
     ]
    },
    {
     "name": "stdout",
     "output_type": "stream",
     "text": [
      "[Epoch 23] Train Loss: 0.022309 - Test Loss: 1.213045 - Train Accuracy: 99.21% - Test Accuracy: 79.42%\n"
     ]
    },
    {
     "name": "stderr",
     "output_type": "stream",
     "text": [
      "Epoch 23: 100%|██████████| 500/500 [00:07<00:00, 70.14batch/s]\n",
      "Test 23: 100%|██████████| 100/100 [00:01<00:00, 76.63batch/s]"
     ]
    },
    {
     "name": "stdout",
     "output_type": "stream",
     "text": [
      "[Epoch 24] Train Loss: 0.027728 - Test Loss: 1.119786 - Train Accuracy: 99.05% - Test Accuracy: 80.47%\n"
     ]
    },
    {
     "name": "stderr",
     "output_type": "stream",
     "text": [
      "\n",
      "Epoch 24: 100%|██████████| 500/500 [00:06<00:00, 75.45batch/s]\n",
      "Test 24: 100%|██████████| 100/100 [00:01<00:00, 73.34batch/s]"
     ]
    },
    {
     "name": "stdout",
     "output_type": "stream",
     "text": [
      "[Epoch 25] Train Loss: 0.019528 - Test Loss: 1.227409 - Train Accuracy: 99.33% - Test Accuracy: 79.47%\n"
     ]
    },
    {
     "name": "stderr",
     "output_type": "stream",
     "text": [
      "\n",
      "Epoch 25: 100%|██████████| 500/500 [00:06<00:00, 75.25batch/s]\n",
      "Test 25: 100%|██████████| 100/100 [00:01<00:00, 73.58batch/s]"
     ]
    },
    {
     "name": "stdout",
     "output_type": "stream",
     "text": [
      "[Epoch 26] Train Loss: 0.024480 - Test Loss: 1.288038 - Train Accuracy: 99.15% - Test Accuracy: 79.43%\n"
     ]
    },
    {
     "name": "stderr",
     "output_type": "stream",
     "text": [
      "\n",
      "Epoch 26: 100%|██████████| 500/500 [00:06<00:00, 73.67batch/s]\n",
      "Test 26: 100%|██████████| 100/100 [00:01<00:00, 78.24batch/s]"
     ]
    },
    {
     "name": "stdout",
     "output_type": "stream",
     "text": [
      "[Epoch 27] Train Loss: 0.015431 - Test Loss: 1.233411 - Train Accuracy: 99.48% - Test Accuracy: 80.31%\n"
     ]
    },
    {
     "name": "stderr",
     "output_type": "stream",
     "text": [
      "\n",
      "Epoch 27: 100%|██████████| 500/500 [00:07<00:00, 68.86batch/s]\n",
      "Test 27: 100%|██████████| 100/100 [00:01<00:00, 78.00batch/s]"
     ]
    },
    {
     "name": "stdout",
     "output_type": "stream",
     "text": [
      "[Epoch 28] Train Loss: 0.017739 - Test Loss: 1.313812 - Train Accuracy: 99.39% - Test Accuracy: 79.26%\n"
     ]
    },
    {
     "name": "stderr",
     "output_type": "stream",
     "text": [
      "\n",
      "Epoch 28: 100%|██████████| 500/500 [00:06<00:00, 74.08batch/s]\n",
      "Test 28: 100%|██████████| 100/100 [00:01<00:00, 77.17batch/s]"
     ]
    },
    {
     "name": "stdout",
     "output_type": "stream",
     "text": [
      "[Epoch 29] Train Loss: 0.023275 - Test Loss: 1.340819 - Train Accuracy: 99.18% - Test Accuracy: 78.79%\n"
     ]
    },
    {
     "name": "stderr",
     "output_type": "stream",
     "text": [
      "\n",
      "Epoch 29: 100%|██████████| 500/500 [00:06<00:00, 74.47batch/s]\n",
      "Test 29: 100%|██████████| 100/100 [00:01<00:00, 77.22batch/s]\n"
     ]
    },
    {
     "name": "stdout",
     "output_type": "stream",
     "text": [
      "[Epoch 30] Train Loss: 0.012042 - Test Loss: 1.275710 - Train Accuracy: 99.59% - Test Accuracy: 80.56%\n"
     ]
    },
    {
     "name": "stderr",
     "output_type": "stream",
     "text": [
      "Epoch 30: 100%|██████████| 500/500 [00:06<00:00, 74.36batch/s]\n",
      "Test 30: 100%|██████████| 100/100 [00:01<00:00, 67.20batch/s]"
     ]
    },
    {
     "name": "stdout",
     "output_type": "stream",
     "text": [
      "[Epoch 31] Train Loss: 0.014168 - Test Loss: 1.422898 - Train Accuracy: 99.53% - Test Accuracy: 78.30%\n"
     ]
    },
    {
     "name": "stderr",
     "output_type": "stream",
     "text": [
      "\n",
      "Epoch 31: 100%|██████████| 500/500 [00:06<00:00, 72.22batch/s]\n",
      "Test 31: 100%|██████████| 100/100 [00:01<00:00, 76.81batch/s]"
     ]
    },
    {
     "name": "stdout",
     "output_type": "stream",
     "text": [
      "[Epoch 32] Train Loss: 0.017732 - Test Loss: 1.416260 - Train Accuracy: 99.41% - Test Accuracy: 79.39%\n"
     ]
    },
    {
     "name": "stderr",
     "output_type": "stream",
     "text": [
      "\n",
      "Epoch 32: 100%|██████████| 500/500 [00:06<00:00, 73.18batch/s]\n",
      "Test 32: 100%|██████████| 100/100 [00:01<00:00, 78.57batch/s]"
     ]
    },
    {
     "name": "stdout",
     "output_type": "stream",
     "text": [
      "[Epoch 33] Train Loss: 0.011038 - Test Loss: 1.384430 - Train Accuracy: 99.63% - Test Accuracy: 80.07%\n"
     ]
    },
    {
     "name": "stderr",
     "output_type": "stream",
     "text": [
      "\n",
      "Epoch 33: 100%|██████████| 500/500 [00:06<00:00, 73.65batch/s]\n",
      "Test 33: 100%|██████████| 100/100 [00:01<00:00, 76.58batch/s]"
     ]
    },
    {
     "name": "stdout",
     "output_type": "stream",
     "text": [
      "[Epoch 34] Train Loss: 0.015385 - Test Loss: 1.340635 - Train Accuracy: 99.47% - Test Accuracy: 80.28%\n"
     ]
    },
    {
     "name": "stderr",
     "output_type": "stream",
     "text": [
      "\n",
      "Epoch 34: 100%|██████████| 500/500 [00:06<00:00, 72.58batch/s]\n",
      "Test 34: 100%|██████████| 100/100 [00:01<00:00, 67.09batch/s]"
     ]
    },
    {
     "name": "stdout",
     "output_type": "stream",
     "text": [
      "[Epoch 35] Train Loss: 0.010997 - Test Loss: 1.460771 - Train Accuracy: 99.60% - Test Accuracy: 79.77%\n"
     ]
    },
    {
     "name": "stderr",
     "output_type": "stream",
     "text": [
      "\n",
      "Epoch 35: 100%|██████████| 500/500 [00:06<00:00, 74.05batch/s]\n",
      "Test 35: 100%|██████████| 100/100 [00:01<00:00, 75.54batch/s]\n"
     ]
    },
    {
     "name": "stdout",
     "output_type": "stream",
     "text": [
      "[Epoch 36] Train Loss: 0.010175 - Test Loss: 1.322580 - Train Accuracy: 99.65% - Test Accuracy: 80.65%\n"
     ]
    },
    {
     "name": "stderr",
     "output_type": "stream",
     "text": [
      "Epoch 36: 100%|██████████| 500/500 [00:06<00:00, 74.70batch/s]\n",
      "Test 36: 100%|██████████| 100/100 [00:01<00:00, 73.10batch/s]"
     ]
    },
    {
     "name": "stdout",
     "output_type": "stream",
     "text": [
      "[Epoch 37] Train Loss: 0.009731 - Test Loss: 1.459298 - Train Accuracy: 99.68% - Test Accuracy: 79.40%\n"
     ]
    },
    {
     "name": "stderr",
     "output_type": "stream",
     "text": [
      "\n",
      "Epoch 37: 100%|██████████| 500/500 [00:06<00:00, 74.27batch/s]\n",
      "Test 37: 100%|██████████| 100/100 [00:01<00:00, 76.02batch/s]"
     ]
    },
    {
     "name": "stdout",
     "output_type": "stream",
     "text": [
      "[Epoch 38] Train Loss: 0.017434 - Test Loss: 1.382010 - Train Accuracy: 99.42% - Test Accuracy: 79.76%\n"
     ]
    },
    {
     "name": "stderr",
     "output_type": "stream",
     "text": [
      "\n",
      "Epoch 38: 100%|██████████| 500/500 [00:07<00:00, 70.37batch/s]\n",
      "Test 38: 100%|██████████| 100/100 [00:01<00:00, 73.25batch/s]"
     ]
    },
    {
     "name": "stdout",
     "output_type": "stream",
     "text": [
      "[Epoch 39] Train Loss: 0.016210 - Test Loss: 1.416232 - Train Accuracy: 99.43% - Test Accuracy: 79.09%\n"
     ]
    },
    {
     "name": "stderr",
     "output_type": "stream",
     "text": [
      "\n",
      "Epoch 39: 100%|██████████| 500/500 [00:06<00:00, 73.12batch/s]\n",
      "Test 39: 100%|██████████| 100/100 [00:01<00:00, 76.93batch/s]"
     ]
    },
    {
     "name": "stdout",
     "output_type": "stream",
     "text": [
      "[Epoch 40] Train Loss: 0.010219 - Test Loss: 1.388479 - Train Accuracy: 99.66% - Test Accuracy: 80.18%\n"
     ]
    },
    {
     "name": "stderr",
     "output_type": "stream",
     "text": [
      "\n",
      "Epoch 40: 100%|██████████| 500/500 [00:06<00:00, 73.04batch/s]\n",
      "Test 40: 100%|██████████| 100/100 [00:01<00:00, 74.70batch/s]"
     ]
    },
    {
     "name": "stdout",
     "output_type": "stream",
     "text": [
      "[Epoch 41] Train Loss: 0.005319 - Test Loss: 1.455305 - Train Accuracy: 99.81% - Test Accuracy: 80.15%\n"
     ]
    },
    {
     "name": "stderr",
     "output_type": "stream",
     "text": [
      "\n",
      "Epoch 41: 100%|██████████| 500/500 [00:06<00:00, 73.17batch/s]\n",
      "Test 41: 100%|██████████| 100/100 [00:01<00:00, 73.67batch/s]\n"
     ]
    },
    {
     "name": "stdout",
     "output_type": "stream",
     "text": [
      "[Epoch 42] Train Loss: 0.005438 - Test Loss: 1.451464 - Train Accuracy: 99.80% - Test Accuracy: 80.80%\n"
     ]
    },
    {
     "name": "stderr",
     "output_type": "stream",
     "text": [
      "Epoch 42: 100%|██████████| 500/500 [00:07<00:00, 70.44batch/s]\n",
      "Test 42: 100%|██████████| 100/100 [00:01<00:00, 75.15batch/s]"
     ]
    },
    {
     "name": "stdout",
     "output_type": "stream",
     "text": [
      "[Epoch 43] Train Loss: 0.006707 - Test Loss: 1.490022 - Train Accuracy: 99.77% - Test Accuracy: 79.77%\n"
     ]
    },
    {
     "name": "stderr",
     "output_type": "stream",
     "text": [
      "\n",
      "Epoch 43: 100%|██████████| 500/500 [00:06<00:00, 74.36batch/s]\n",
      "Test 43: 100%|██████████| 100/100 [00:01<00:00, 76.21batch/s]\n"
     ]
    },
    {
     "name": "stdout",
     "output_type": "stream",
     "text": [
      "[Epoch 44] Train Loss: 0.009019 - Test Loss: 1.444597 - Train Accuracy: 99.71% - Test Accuracy: 80.81%\n"
     ]
    },
    {
     "name": "stderr",
     "output_type": "stream",
     "text": [
      "Epoch 44: 100%|██████████| 500/500 [00:06<00:00, 74.45batch/s]\n",
      "Test 44: 100%|██████████| 100/100 [00:01<00:00, 72.95batch/s]"
     ]
    },
    {
     "name": "stdout",
     "output_type": "stream",
     "text": [
      "[Epoch 45] Train Loss: 0.012379 - Test Loss: 1.510857 - Train Accuracy: 99.58% - Test Accuracy: 79.53%\n"
     ]
    },
    {
     "name": "stderr",
     "output_type": "stream",
     "text": [
      "\n",
      "Epoch 45: 100%|██████████| 500/500 [00:06<00:00, 73.99batch/s]\n",
      "Test 45: 100%|██████████| 100/100 [00:01<00:00, 72.86batch/s]"
     ]
    },
    {
     "name": "stdout",
     "output_type": "stream",
     "text": [
      "[Epoch 46] Train Loss: 0.012991 - Test Loss: 1.527269 - Train Accuracy: 99.52% - Test Accuracy: 79.18%\n"
     ]
    },
    {
     "name": "stderr",
     "output_type": "stream",
     "text": [
      "\n",
      "Epoch 46: 100%|██████████| 500/500 [00:07<00:00, 70.19batch/s]\n",
      "Test 46: 100%|██████████| 100/100 [00:01<00:00, 76.68batch/s]"
     ]
    },
    {
     "name": "stdout",
     "output_type": "stream",
     "text": [
      "[Epoch 47] Train Loss: 0.008611 - Test Loss: 1.463549 - Train Accuracy: 99.72% - Test Accuracy: 80.41%\n"
     ]
    },
    {
     "name": "stderr",
     "output_type": "stream",
     "text": [
      "\n",
      "Epoch 47: 100%|██████████| 500/500 [00:06<00:00, 73.97batch/s]\n",
      "Test 47: 100%|██████████| 100/100 [00:01<00:00, 78.37batch/s]"
     ]
    },
    {
     "name": "stdout",
     "output_type": "stream",
     "text": [
      "[Epoch 48] Train Loss: 0.005058 - Test Loss: 1.434659 - Train Accuracy: 99.84% - Test Accuracy: 80.09%\n"
     ]
    },
    {
     "name": "stderr",
     "output_type": "stream",
     "text": [
      "\n",
      "Epoch 48: 100%|██████████| 500/500 [00:06<00:00, 74.18batch/s]\n",
      "Test 48: 100%|██████████| 100/100 [00:01<00:00, 75.54batch/s]"
     ]
    },
    {
     "name": "stdout",
     "output_type": "stream",
     "text": [
      "[Epoch 49] Train Loss: 0.006180 - Test Loss: 1.473510 - Train Accuracy: 99.77% - Test Accuracy: 80.10%\n"
     ]
    },
    {
     "name": "stderr",
     "output_type": "stream",
     "text": [
      "\n",
      "Epoch 49: 100%|██████████| 500/500 [00:06<00:00, 72.49batch/s]\n",
      "Test 49: 100%|██████████| 100/100 [00:01<00:00, 65.97batch/s]"
     ]
    },
    {
     "name": "stdout",
     "output_type": "stream",
     "text": [
      "[Epoch 50] Train Loss: 0.005548 - Test Loss: 1.485208 - Train Accuracy: 99.82% - Test Accuracy: 80.61%\n"
     ]
    },
    {
     "name": "stderr",
     "output_type": "stream",
     "text": [
      "\n",
      "Epoch 50: 100%|██████████| 500/500 [00:07<00:00, 70.20batch/s]\n",
      "Test 50: 100%|██████████| 100/100 [00:01<00:00, 76.88batch/s]"
     ]
    },
    {
     "name": "stdout",
     "output_type": "stream",
     "text": [
      "[Epoch 51] Train Loss: 0.001861 - Test Loss: 1.552870 - Train Accuracy: 99.95% - Test Accuracy: 80.74%\n"
     ]
    },
    {
     "name": "stderr",
     "output_type": "stream",
     "text": [
      "\n",
      "Epoch 51: 100%|██████████| 500/500 [00:07<00:00, 64.05batch/s]\n",
      "Test 51: 100%|██████████| 100/100 [00:01<00:00, 65.49batch/s]"
     ]
    },
    {
     "name": "stdout",
     "output_type": "stream",
     "text": [
      "[Epoch 52] Train Loss: 0.003607 - Test Loss: 1.529957 - Train Accuracy: 99.89% - Test Accuracy: 80.94%\n"
     ]
    },
    {
     "name": "stderr",
     "output_type": "stream",
     "text": [
      "\n",
      "Epoch 52: 100%|██████████| 500/500 [00:07<00:00, 69.94batch/s]\n",
      "Test 52: 100%|██████████| 100/100 [00:01<00:00, 75.63batch/s]"
     ]
    },
    {
     "name": "stdout",
     "output_type": "stream",
     "text": [
      "[Epoch 53] Train Loss: 0.003575 - Test Loss: 1.497045 - Train Accuracy: 99.89% - Test Accuracy: 80.68%\n"
     ]
    },
    {
     "name": "stderr",
     "output_type": "stream",
     "text": [
      "\n",
      "Epoch 53: 100%|██████████| 500/500 [00:06<00:00, 74.03batch/s]\n",
      "Test 53: 100%|██████████| 100/100 [00:01<00:00, 72.32batch/s]"
     ]
    },
    {
     "name": "stdout",
     "output_type": "stream",
     "text": [
      "[Epoch 54] Train Loss: 0.003227 - Test Loss: 1.521836 - Train Accuracy: 99.90% - Test Accuracy: 80.72%\n"
     ]
    },
    {
     "name": "stderr",
     "output_type": "stream",
     "text": [
      "\n",
      "Epoch 54: 100%|██████████| 500/500 [00:06<00:00, 71.50batch/s]\n",
      "Test 54: 100%|██████████| 100/100 [00:01<00:00, 77.39batch/s]"
     ]
    },
    {
     "name": "stdout",
     "output_type": "stream",
     "text": [
      "[Epoch 55] Train Loss: 0.005513 - Test Loss: 1.584851 - Train Accuracy: 99.83% - Test Accuracy: 80.52%\n"
     ]
    },
    {
     "name": "stderr",
     "output_type": "stream",
     "text": [
      "\n",
      "Epoch 55: 100%|██████████| 500/500 [00:06<00:00, 75.04batch/s]\n",
      "Test 55: 100%|██████████| 100/100 [00:01<00:00, 74.52batch/s]"
     ]
    },
    {
     "name": "stdout",
     "output_type": "stream",
     "text": [
      "[Epoch 56] Train Loss: 0.004225 - Test Loss: 1.588269 - Train Accuracy: 99.85% - Test Accuracy: 80.36%\n"
     ]
    },
    {
     "name": "stderr",
     "output_type": "stream",
     "text": [
      "\n",
      "Epoch 56: 100%|██████████| 500/500 [00:06<00:00, 74.35batch/s]\n",
      "Test 56: 100%|██████████| 100/100 [00:01<00:00, 76.21batch/s]"
     ]
    },
    {
     "name": "stdout",
     "output_type": "stream",
     "text": [
      "[Epoch 57] Train Loss: 0.008829 - Test Loss: 1.668916 - Train Accuracy: 99.69% - Test Accuracy: 79.04%\n"
     ]
    },
    {
     "name": "stderr",
     "output_type": "stream",
     "text": [
      "\n",
      "Epoch 57: 100%|██████████| 500/500 [00:06<00:00, 74.70batch/s]\n",
      "Test 57: 100%|██████████| 100/100 [00:01<00:00, 67.00batch/s]"
     ]
    },
    {
     "name": "stdout",
     "output_type": "stream",
     "text": [
      "[Epoch 58] Train Loss: 0.007884 - Test Loss: 1.671282 - Train Accuracy: 99.73% - Test Accuracy: 79.48%\n"
     ]
    },
    {
     "name": "stderr",
     "output_type": "stream",
     "text": [
      "\n",
      "Epoch 58: 100%|██████████| 500/500 [00:06<00:00, 73.70batch/s]\n",
      "Test 58: 100%|██████████| 100/100 [00:01<00:00, 75.02batch/s]"
     ]
    },
    {
     "name": "stdout",
     "output_type": "stream",
     "text": [
      "[Epoch 59] Train Loss: 0.002925 - Test Loss: 1.605511 - Train Accuracy: 99.90% - Test Accuracy: 80.22%\n"
     ]
    },
    {
     "name": "stderr",
     "output_type": "stream",
     "text": [
      "\n",
      "Epoch 59: 100%|██████████| 500/500 [00:06<00:00, 74.58batch/s]\n",
      "Test 59: 100%|██████████| 100/100 [00:01<00:00, 74.87batch/s]"
     ]
    },
    {
     "name": "stdout",
     "output_type": "stream",
     "text": [
      "[Epoch 60] Train Loss: 0.006642 - Test Loss: 1.588977 - Train Accuracy: 99.77% - Test Accuracy: 80.37%\n"
     ]
    },
    {
     "name": "stderr",
     "output_type": "stream",
     "text": [
      "\n",
      "Epoch 60: 100%|██████████| 500/500 [00:06<00:00, 75.12batch/s]\n",
      "Test 60: 100%|██████████| 100/100 [00:01<00:00, 76.45batch/s]"
     ]
    },
    {
     "name": "stdout",
     "output_type": "stream",
     "text": [
      "[Epoch 61] Train Loss: 0.007761 - Test Loss: 1.680865 - Train Accuracy: 99.73% - Test Accuracy: 79.41%\n"
     ]
    },
    {
     "name": "stderr",
     "output_type": "stream",
     "text": [
      "\n",
      "Epoch 61: 100%|██████████| 500/500 [00:06<00:00, 73.33batch/s]\n",
      "Test 61: 100%|██████████| 100/100 [00:01<00:00, 68.15batch/s]"
     ]
    },
    {
     "name": "stdout",
     "output_type": "stream",
     "text": [
      "[Epoch 62] Train Loss: 0.005387 - Test Loss: 1.493160 - Train Accuracy: 99.81% - Test Accuracy: 80.49%\n"
     ]
    },
    {
     "name": "stderr",
     "output_type": "stream",
     "text": [
      "\n",
      "Epoch 62: 100%|██████████| 500/500 [00:06<00:00, 74.72batch/s]\n",
      "Test 62: 100%|██████████| 100/100 [00:01<00:00, 74.25batch/s]"
     ]
    },
    {
     "name": "stdout",
     "output_type": "stream",
     "text": [
      "[Epoch 63] Train Loss: 0.005676 - Test Loss: 1.535401 - Train Accuracy: 99.81% - Test Accuracy: 80.61%\n"
     ]
    },
    {
     "name": "stderr",
     "output_type": "stream",
     "text": [
      "\n",
      "Epoch 63: 100%|██████████| 500/500 [00:06<00:00, 74.29batch/s]\n",
      "Test 63: 100%|██████████| 100/100 [00:01<00:00, 77.21batch/s]"
     ]
    },
    {
     "name": "stdout",
     "output_type": "stream",
     "text": [
      "[Epoch 64] Train Loss: 0.006716 - Test Loss: 1.485901 - Train Accuracy: 99.73% - Test Accuracy: 80.76%\n"
     ]
    },
    {
     "name": "stderr",
     "output_type": "stream",
     "text": [
      "\n",
      "Epoch 64: 100%|██████████| 500/500 [00:06<00:00, 74.92batch/s]\n",
      "Test 64: 100%|██████████| 100/100 [00:01<00:00, 77.68batch/s]"
     ]
    },
    {
     "name": "stdout",
     "output_type": "stream",
     "text": [
      "[Epoch 65] Train Loss: 0.009354 - Test Loss: 1.464700 - Train Accuracy: 99.71% - Test Accuracy: 80.72%\n"
     ]
    },
    {
     "name": "stderr",
     "output_type": "stream",
     "text": [
      "\n",
      "Epoch 65: 100%|██████████| 500/500 [00:06<00:00, 71.53batch/s]\n",
      "Test 65: 100%|██████████| 100/100 [00:01<00:00, 75.29batch/s]"
     ]
    },
    {
     "name": "stdout",
     "output_type": "stream",
     "text": [
      "[Epoch 66] Train Loss: 0.004420 - Test Loss: 1.457153 - Train Accuracy: 99.85% - Test Accuracy: 81.21%\n"
     ]
    },
    {
     "name": "stderr",
     "output_type": "stream",
     "text": [
      "\n",
      "Epoch 66: 100%|██████████| 500/500 [00:06<00:00, 75.34batch/s]\n",
      "Test 66: 100%|██████████| 100/100 [00:01<00:00, 75.29batch/s]"
     ]
    },
    {
     "name": "stdout",
     "output_type": "stream",
     "text": [
      "[Epoch 67] Train Loss: 0.002591 - Test Loss: 1.530966 - Train Accuracy: 99.92% - Test Accuracy: 80.74%\n"
     ]
    },
    {
     "name": "stderr",
     "output_type": "stream",
     "text": [
      "\n",
      "Epoch 67: 100%|██████████| 500/500 [00:06<00:00, 74.86batch/s]\n",
      "Test 67: 100%|██████████| 100/100 [00:01<00:00, 77.90batch/s]"
     ]
    },
    {
     "name": "stdout",
     "output_type": "stream",
     "text": [
      "[Epoch 68] Train Loss: 0.001386 - Test Loss: 1.511389 - Train Accuracy: 99.96% - Test Accuracy: 81.00%\n"
     ]
    },
    {
     "name": "stderr",
     "output_type": "stream",
     "text": [
      "\n",
      "Epoch 68: 100%|██████████| 500/500 [00:06<00:00, 73.54batch/s]\n",
      "Test 68: 100%|██████████| 100/100 [00:01<00:00, 76.75batch/s]"
     ]
    },
    {
     "name": "stdout",
     "output_type": "stream",
     "text": [
      "[Epoch 69] Train Loss: 0.000491 - Test Loss: 1.508658 - Train Accuracy: 99.99% - Test Accuracy: 81.45%\n"
     ]
    },
    {
     "name": "stderr",
     "output_type": "stream",
     "text": [
      "\n",
      "Epoch 69: 100%|██████████| 500/500 [00:07<00:00, 70.47batch/s]\n",
      "Test 69: 100%|██████████| 100/100 [00:01<00:00, 77.75batch/s]"
     ]
    },
    {
     "name": "stdout",
     "output_type": "stream",
     "text": [
      "[Epoch 70] Train Loss: 0.000406 - Test Loss: 1.503036 - Train Accuracy: 99.99% - Test Accuracy: 81.69%\n"
     ]
    },
    {
     "name": "stderr",
     "output_type": "stream",
     "text": [
      "\n",
      "Epoch 70: 100%|██████████| 500/500 [00:06<00:00, 74.86batch/s]\n",
      "Test 70: 100%|██████████| 100/100 [00:01<00:00, 75.42batch/s]"
     ]
    },
    {
     "name": "stdout",
     "output_type": "stream",
     "text": [
      "[Epoch 71] Train Loss: 0.000122 - Test Loss: 1.506476 - Train Accuracy: 100.00% - Test Accuracy: 81.80%\n"
     ]
    },
    {
     "name": "stderr",
     "output_type": "stream",
     "text": [
      "\n",
      "Epoch 71: 100%|██████████| 500/500 [00:06<00:00, 75.35batch/s]\n",
      "Test 71: 100%|██████████| 100/100 [00:01<00:00, 75.25batch/s]"
     ]
    },
    {
     "name": "stdout",
     "output_type": "stream",
     "text": [
      "[Epoch 72] Train Loss: 0.000087 - Test Loss: 1.512635 - Train Accuracy: 100.00% - Test Accuracy: 81.99%\n"
     ]
    },
    {
     "name": "stderr",
     "output_type": "stream",
     "text": [
      "\n",
      "Epoch 72: 100%|██████████| 500/500 [00:06<00:00, 75.30batch/s]\n",
      "Test 72: 100%|██████████| 100/100 [00:01<00:00, 77.04batch/s]\n"
     ]
    },
    {
     "name": "stdout",
     "output_type": "stream",
     "text": [
      "[Epoch 73] Train Loss: 0.000245 - Test Loss: 1.550377 - Train Accuracy: 99.99% - Test Accuracy: 81.59%\n"
     ]
    },
    {
     "name": "stderr",
     "output_type": "stream",
     "text": [
      "Epoch 73: 100%|██████████| 500/500 [00:07<00:00, 71.08batch/s]\n",
      "Test 73: 100%|██████████| 100/100 [00:01<00:00, 76.10batch/s]"
     ]
    },
    {
     "name": "stdout",
     "output_type": "stream",
     "text": [
      "[Epoch 74] Train Loss: 0.000408 - Test Loss: 1.537071 - Train Accuracy: 99.99% - Test Accuracy: 81.70%\n"
     ]
    },
    {
     "name": "stderr",
     "output_type": "stream",
     "text": [
      "\n",
      "Epoch 74: 100%|██████████| 500/500 [00:06<00:00, 74.81batch/s]\n",
      "Test 74: 100%|██████████| 100/100 [00:01<00:00, 77.43batch/s]"
     ]
    },
    {
     "name": "stdout",
     "output_type": "stream",
     "text": [
      "[Epoch 75] Train Loss: 0.000124 - Test Loss: 1.525700 - Train Accuracy: 100.00% - Test Accuracy: 81.96%\n"
     ]
    },
    {
     "name": "stderr",
     "output_type": "stream",
     "text": [
      "\n",
      "Epoch 75: 100%|██████████| 500/500 [00:06<00:00, 74.78batch/s]\n",
      "Test 75: 100%|██████████| 100/100 [00:01<00:00, 74.64batch/s]"
     ]
    },
    {
     "name": "stdout",
     "output_type": "stream",
     "text": [
      "[Epoch 76] Train Loss: 0.000048 - Test Loss: 1.523507 - Train Accuracy: 100.00% - Test Accuracy: 81.87%\n"
     ]
    },
    {
     "name": "stderr",
     "output_type": "stream",
     "text": [
      "\n",
      "Epoch 76: 100%|██████████| 500/500 [00:06<00:00, 74.17batch/s]\n",
      "Test 76: 100%|██████████| 100/100 [00:01<00:00, 78.26batch/s]"
     ]
    },
    {
     "name": "stdout",
     "output_type": "stream",
     "text": [
      "[Epoch 77] Train Loss: 0.000083 - Test Loss: 1.533220 - Train Accuracy: 100.00% - Test Accuracy: 81.77%\n"
     ]
    },
    {
     "name": "stderr",
     "output_type": "stream",
     "text": [
      "\n",
      "Epoch 77: 100%|██████████| 500/500 [00:07<00:00, 71.25batch/s]\n",
      "Test 77: 100%|██████████| 100/100 [00:01<00:00, 74.51batch/s]"
     ]
    },
    {
     "name": "stdout",
     "output_type": "stream",
     "text": [
      "[Epoch 78] Train Loss: 0.000038 - Test Loss: 1.534853 - Train Accuracy: 100.00% - Test Accuracy: 81.87%\n"
     ]
    },
    {
     "name": "stderr",
     "output_type": "stream",
     "text": [
      "\n",
      "Epoch 78: 100%|██████████| 500/500 [00:06<00:00, 75.14batch/s]\n",
      "Test 78: 100%|██████████| 100/100 [00:01<00:00, 76.20batch/s]"
     ]
    },
    {
     "name": "stdout",
     "output_type": "stream",
     "text": [
      "[Epoch 79] Train Loss: 0.000064 - Test Loss: 1.534239 - Train Accuracy: 100.00% - Test Accuracy: 81.81%\n"
     ]
    },
    {
     "name": "stderr",
     "output_type": "stream",
     "text": [
      "\n",
      "Epoch 79: 100%|██████████| 500/500 [00:06<00:00, 74.63batch/s]\n",
      "Test 79: 100%|██████████| 100/100 [00:01<00:00, 74.96batch/s]"
     ]
    },
    {
     "name": "stdout",
     "output_type": "stream",
     "text": [
      "[Epoch 80] Train Loss: 0.000045 - Test Loss: 1.534864 - Train Accuracy: 100.00% - Test Accuracy: 82.00%\n"
     ]
    },
    {
     "name": "stderr",
     "output_type": "stream",
     "text": [
      "\n",
      "Epoch 80: 100%|██████████| 500/500 [00:06<00:00, 75.31batch/s]\n",
      "Test 80: 100%|██████████| 100/100 [00:01<00:00, 78.40batch/s]"
     ]
    },
    {
     "name": "stdout",
     "output_type": "stream",
     "text": [
      "[Epoch 81] Train Loss: 0.000028 - Test Loss: 1.541819 - Train Accuracy: 100.00% - Test Accuracy: 82.00%\n"
     ]
    },
    {
     "name": "stderr",
     "output_type": "stream",
     "text": [
      "\n",
      "Epoch 81: 100%|██████████| 500/500 [00:07<00:00, 70.68batch/s]\n",
      "Test 81: 100%|██████████| 100/100 [00:01<00:00, 77.95batch/s]"
     ]
    },
    {
     "name": "stdout",
     "output_type": "stream",
     "text": [
      "[Epoch 82] Train Loss: 0.000025 - Test Loss: 1.528123 - Train Accuracy: 100.00% - Test Accuracy: 82.11%\n"
     ]
    },
    {
     "name": "stderr",
     "output_type": "stream",
     "text": [
      "\n",
      "Epoch 82: 100%|██████████| 500/500 [00:06<00:00, 75.29batch/s]\n",
      "Test 82: 100%|██████████| 100/100 [00:01<00:00, 77.09batch/s]\n"
     ]
    },
    {
     "name": "stdout",
     "output_type": "stream",
     "text": [
      "[Epoch 83] Train Loss: 0.000024 - Test Loss: 1.541883 - Train Accuracy: 100.00% - Test Accuracy: 82.01%\n"
     ]
    },
    {
     "name": "stderr",
     "output_type": "stream",
     "text": [
      "Epoch 83: 100%|██████████| 500/500 [00:06<00:00, 75.36batch/s]\n",
      "Test 83: 100%|██████████| 100/100 [00:01<00:00, 76.23batch/s]"
     ]
    },
    {
     "name": "stdout",
     "output_type": "stream",
     "text": [
      "[Epoch 84] Train Loss: 0.000022 - Test Loss: 1.532507 - Train Accuracy: 100.00% - Test Accuracy: 81.96%\n"
     ]
    },
    {
     "name": "stderr",
     "output_type": "stream",
     "text": [
      "\n",
      "Epoch 84: 100%|██████████| 500/500 [00:06<00:00, 74.82batch/s]\n",
      "Test 84: 100%|██████████| 100/100 [00:01<00:00, 76.08batch/s]"
     ]
    },
    {
     "name": "stdout",
     "output_type": "stream",
     "text": [
      "[Epoch 85] Train Loss: 0.000027 - Test Loss: 1.540944 - Train Accuracy: 100.00% - Test Accuracy: 81.91%\n"
     ]
    },
    {
     "name": "stderr",
     "output_type": "stream",
     "text": [
      "\n",
      "Epoch 85: 100%|██████████| 500/500 [00:07<00:00, 70.35batch/s]\n",
      "Test 85: 100%|██████████| 100/100 [00:01<00:00, 76.84batch/s]"
     ]
    },
    {
     "name": "stdout",
     "output_type": "stream",
     "text": [
      "[Epoch 86] Train Loss: 0.000021 - Test Loss: 1.549477 - Train Accuracy: 100.00% - Test Accuracy: 82.03%\n"
     ]
    },
    {
     "name": "stderr",
     "output_type": "stream",
     "text": [
      "\n",
      "Epoch 86: 100%|██████████| 500/500 [00:06<00:00, 75.02batch/s]\n",
      "Test 86: 100%|██████████| 100/100 [00:01<00:00, 76.51batch/s]"
     ]
    },
    {
     "name": "stdout",
     "output_type": "stream",
     "text": [
      "[Epoch 87] Train Loss: 0.000018 - Test Loss: 1.548262 - Train Accuracy: 100.00% - Test Accuracy: 81.98%\n"
     ]
    },
    {
     "name": "stderr",
     "output_type": "stream",
     "text": [
      "\n",
      "Epoch 87: 100%|██████████| 500/500 [00:06<00:00, 74.70batch/s]\n",
      "Test 87: 100%|██████████| 100/100 [00:01<00:00, 76.66batch/s]"
     ]
    },
    {
     "name": "stdout",
     "output_type": "stream",
     "text": [
      "[Epoch 88] Train Loss: 0.000015 - Test Loss: 1.550935 - Train Accuracy: 100.00% - Test Accuracy: 81.82%\n"
     ]
    },
    {
     "name": "stderr",
     "output_type": "stream",
     "text": [
      "\n",
      "Epoch 88: 100%|██████████| 500/500 [00:06<00:00, 75.64batch/s]\n",
      "Test 88: 100%|██████████| 100/100 [00:01<00:00, 75.29batch/s]\n"
     ]
    },
    {
     "name": "stdout",
     "output_type": "stream",
     "text": [
      "[Epoch 89] Train Loss: 0.000017 - Test Loss: 1.551815 - Train Accuracy: 100.00% - Test Accuracy: 81.89%\n"
     ]
    },
    {
     "name": "stderr",
     "output_type": "stream",
     "text": [
      "Epoch 89: 100%|██████████| 500/500 [00:07<00:00, 70.97batch/s]\n",
      "Test 89: 100%|██████████| 100/100 [00:01<00:00, 75.88batch/s]"
     ]
    },
    {
     "name": "stdout",
     "output_type": "stream",
     "text": [
      "[Epoch 90] Train Loss: 0.000017 - Test Loss: 1.559209 - Train Accuracy: 100.00% - Test Accuracy: 82.05%\n"
     ]
    },
    {
     "name": "stderr",
     "output_type": "stream",
     "text": [
      "\n",
      "Epoch 90: 100%|██████████| 500/500 [00:06<00:00, 74.61batch/s]\n",
      "Test 90: 100%|██████████| 100/100 [00:01<00:00, 76.22batch/s]"
     ]
    },
    {
     "name": "stdout",
     "output_type": "stream",
     "text": [
      "[Epoch 91] Train Loss: 0.000015 - Test Loss: 1.548769 - Train Accuracy: 100.00% - Test Accuracy: 81.92%\n"
     ]
    },
    {
     "name": "stderr",
     "output_type": "stream",
     "text": [
      "\n",
      "Epoch 91: 100%|██████████| 500/500 [00:06<00:00, 74.47batch/s]\n",
      "Test 91: 100%|██████████| 100/100 [00:01<00:00, 77.84batch/s]"
     ]
    },
    {
     "name": "stdout",
     "output_type": "stream",
     "text": [
      "[Epoch 92] Train Loss: 0.000015 - Test Loss: 1.555650 - Train Accuracy: 100.00% - Test Accuracy: 81.99%\n"
     ]
    },
    {
     "name": "stderr",
     "output_type": "stream",
     "text": [
      "\n",
      "Epoch 92: 100%|██████████| 500/500 [00:06<00:00, 74.23batch/s]\n",
      "Test 92: 100%|██████████| 100/100 [00:01<00:00, 78.17batch/s]"
     ]
    },
    {
     "name": "stdout",
     "output_type": "stream",
     "text": [
      "[Epoch 93] Train Loss: 0.000013 - Test Loss: 1.556646 - Train Accuracy: 100.00% - Test Accuracy: 81.99%\n"
     ]
    },
    {
     "name": "stderr",
     "output_type": "stream",
     "text": [
      "\n",
      "Epoch 93: 100%|██████████| 500/500 [00:07<00:00, 70.24batch/s]\n",
      "Test 93: 100%|██████████| 100/100 [00:01<00:00, 78.68batch/s]"
     ]
    },
    {
     "name": "stdout",
     "output_type": "stream",
     "text": [
      "[Epoch 94] Train Loss: 0.000018 - Test Loss: 1.550590 - Train Accuracy: 100.00% - Test Accuracy: 81.93%\n"
     ]
    },
    {
     "name": "stderr",
     "output_type": "stream",
     "text": [
      "\n",
      "Epoch 94: 100%|██████████| 500/500 [00:06<00:00, 74.87batch/s]\n",
      "Test 94: 100%|██████████| 100/100 [00:01<00:00, 76.44batch/s]"
     ]
    },
    {
     "name": "stdout",
     "output_type": "stream",
     "text": [
      "[Epoch 95] Train Loss: 0.000015 - Test Loss: 1.557889 - Train Accuracy: 100.00% - Test Accuracy: 81.91%\n"
     ]
    },
    {
     "name": "stderr",
     "output_type": "stream",
     "text": [
      "\n",
      "Epoch 95: 100%|██████████| 500/500 [00:06<00:00, 75.01batch/s]\n",
      "Test 95: 100%|██████████| 100/100 [00:01<00:00, 76.90batch/s]"
     ]
    },
    {
     "name": "stdout",
     "output_type": "stream",
     "text": [
      "[Epoch 96] Train Loss: 0.000016 - Test Loss: 1.557778 - Train Accuracy: 100.00% - Test Accuracy: 81.93%\n"
     ]
    },
    {
     "name": "stderr",
     "output_type": "stream",
     "text": [
      "\n",
      "Epoch 96: 100%|██████████| 500/500 [00:06<00:00, 74.69batch/s]\n",
      "Test 96: 100%|██████████| 100/100 [00:01<00:00, 78.85batch/s]"
     ]
    },
    {
     "name": "stdout",
     "output_type": "stream",
     "text": [
      "[Epoch 97] Train Loss: 0.000012 - Test Loss: 1.555179 - Train Accuracy: 100.00% - Test Accuracy: 81.90%\n"
     ]
    },
    {
     "name": "stderr",
     "output_type": "stream",
     "text": [
      "\n",
      "Epoch 97: 100%|██████████| 500/500 [00:07<00:00, 70.63batch/s]\n",
      "Test 97: 100%|██████████| 100/100 [00:01<00:00, 76.79batch/s]"
     ]
    },
    {
     "name": "stdout",
     "output_type": "stream",
     "text": [
      "[Epoch 98] Train Loss: 0.000017 - Test Loss: 1.553419 - Train Accuracy: 100.00% - Test Accuracy: 81.91%\n"
     ]
    },
    {
     "name": "stderr",
     "output_type": "stream",
     "text": [
      "\n",
      "Epoch 98: 100%|██████████| 500/500 [00:06<00:00, 74.65batch/s]\n",
      "Test 98: 100%|██████████| 100/100 [00:01<00:00, 76.85batch/s]"
     ]
    },
    {
     "name": "stdout",
     "output_type": "stream",
     "text": [
      "[Epoch 99] Train Loss: 0.000012 - Test Loss: 1.551530 - Train Accuracy: 100.00% - Test Accuracy: 82.03%\n"
     ]
    },
    {
     "name": "stderr",
     "output_type": "stream",
     "text": [
      "\n",
      "Epoch 99: 100%|██████████| 500/500 [00:06<00:00, 75.13batch/s]\n",
      "Test 99: 100%|██████████| 100/100 [00:01<00:00, 74.90batch/s]"
     ]
    },
    {
     "name": "stdout",
     "output_type": "stream",
     "text": [
      "[Epoch 100] Train Loss: 0.000010 - Test Loss: 1.559950 - Train Accuracy: 100.00% - Test Accuracy: 81.97%\n",
      "\n",
      "BEST TEST ACCURACY:  82.11  in epoch  81  with  17.89  Error\n"
     ]
    },
    {
     "name": "stderr",
     "output_type": "stream",
     "text": [
      "\n"
     ]
    }
   ],
   "source": [
    "net.to(device)\n",
    "\n",
    "print(\"\\n---- Start Training ----\")\n",
    "best_accuracy = -1\n",
    "best_epoch = 0\n",
    "for epoch in range(epochs):\n",
    "    # TRAIN NETWORK\n",
    "    train_loss, train_correct = 0, 0\n",
    "    net.train()\n",
    "    with tqdm(iter(train_dataloader), desc=\"Epoch \" + str(epoch), unit=\"batch\") as tepoch:\n",
    "        for batch in tepoch:\n",
    "            \n",
    "            # Returned values of Dataset Class\n",
    "            images = batch[\"img\"].to(device)\n",
    "            labels = batch[\"label\"].to(device)\n",
    "\n",
    "            # zero the parameter gradients\n",
    "            optimizer.zero_grad()\n",
    "\n",
    "            # Forward\n",
    "            outputs = net(images)\n",
    "            loss = criterion(outputs, labels)\n",
    "\n",
    "            # Calculate gradients\n",
    "            loss.backward()\n",
    "\n",
    "            # Update gradients\n",
    "            optimizer.step()\n",
    "\n",
    "            # one hot -> labels\n",
    "            labels = torch.argmax(labels, dim=1)\n",
    "            pred = torch.argmax(outputs, dim=1)\n",
    "            train_correct += pred.eq(labels).sum().item()\n",
    "\n",
    "            # print statistics\n",
    "            train_loss += loss.item()\n",
    "\n",
    "    train_loss /= (len(train_dataloader.dataset) / batch_size)\n",
    "\n",
    "    # TEST NETWORK\n",
    "    test_loss, test_correct = 0, 0\n",
    "    net.eval()\n",
    "    with torch.no_grad():\n",
    "      with tqdm(iter(test_dataloader), desc=\"Test \" + str(epoch), unit=\"batch\") as tepoch:\n",
    "          for batch in tepoch:\n",
    "\n",
    "            images = batch[\"img\"].to(device)\n",
    "            labels = batch[\"label\"].to(device)\n",
    "\n",
    "            # Forward\n",
    "            outputs = net(images)\n",
    "            test_loss += criterion(outputs, labels)\n",
    "\n",
    "            # one hot -> labels\n",
    "            labels = torch.argmax(labels, dim=1)\n",
    "            pred = torch.argmax(outputs, dim=1)\n",
    "\n",
    "            test_correct += pred.eq(labels).sum().item()\n",
    "\n",
    "    test_loss /= (len(test_dataloader.dataset) / batch_size)\n",
    "    test_accuracy = 100. * test_correct / len(test_dataloader.dataset)\n",
    "\n",
    "    print(\"[Epoch {}] Train Loss: {:.6f} - Test Loss: {:.6f} - Train Accuracy: {:.2f}% - Test Accuracy: {:.2f}%\".format(\n",
    "        epoch + 1, train_loss, test_loss, 100. * train_correct / len(train_dataloader.dataset), test_accuracy\n",
    "    ))\n",
    "\n",
    "    if test_accuracy > best_accuracy:\n",
    "        best_accuracy = test_accuracy\n",
    "        best_epoch = epoch\n",
    "\n",
    "        # Save best weights\n",
    "        torch.save(net.state_dict(), \"best_model_cifar.pt\")\n",
    "\n",
    "print(\"\\nBEST TEST ACCURACY: \", best_accuracy, \" in epoch \", best_epoch, \" with \", 100 - best_accuracy, \" Error\")"
   ]
  },
  {
   "cell_type": "markdown",
   "metadata": {},
   "source": [
    "### **Mejor Modelo**"
   ]
  },
  {
   "cell_type": "code",
   "execution_count": 9,
   "metadata": {
    "execution": {
     "iopub.execute_input": "2025-02-04T22:52:50.609000Z",
     "iopub.status.busy": "2025-02-04T22:52:50.608767Z",
     "iopub.status.idle": "2025-02-04T22:52:51.994781Z",
     "shell.execute_reply": "2025-02-04T22:52:51.993759Z",
     "shell.execute_reply.started": "2025-02-04T22:52:50.608976Z"
    },
    "trusted": true
   },
   "outputs": [
    {
     "name": "stderr",
     "output_type": "stream",
     "text": [
      "<ipython-input-9-1c945193db4b>:1: FutureWarning: You are using `torch.load` with `weights_only=False` (the current default value), which uses the default pickle module implicitly. It is possible to construct malicious pickle data which will execute arbitrary code during unpickling (See https://github.com/pytorch/pytorch/blob/main/SECURITY.md#untrusted-models for more details). In a future release, the default value for `weights_only` will be flipped to `True`. This limits the functions that could be executed during unpickling. Arbitrary objects will no longer be allowed to be loaded via this mode unless they are explicitly allowlisted by the user via `torch.serialization.add_safe_globals`. We recommend you start setting `weights_only=True` for any use case where you don't have full control of the loaded file. Please open an issue on GitHub for any issues related to this experimental feature.\n",
      "  net.load_state_dict(torch.load(\"best_model_cifar.pt\"))\n",
      "Test 99: 100%|██████████| 100/100 [00:01<00:00, 76.41batch/s]"
     ]
    },
    {
     "name": "stdout",
     "output_type": "stream",
     "text": [
      "Final best acc:  82.11\n"
     ]
    },
    {
     "name": "stderr",
     "output_type": "stream",
     "text": [
      "\n"
     ]
    }
   ],
   "source": [
    "net.load_state_dict(torch.load(\"best_model_cifar.pt\"))\n",
    "\n",
    "test_loss, test_correct = 0, 0\n",
    "net.eval()\n",
    "with torch.no_grad():\n",
    "    with tqdm(iter(test_dataloader), desc=\"Test \" + str(epoch), unit=\"batch\") as tepoch:\n",
    "        for batch in tepoch:\n",
    "\n",
    "            images = batch[\"img\"].to(device)\n",
    "            labels = batch[\"label\"].to(device)\n",
    "\n",
    "            # Forward\n",
    "            outputs = net(images)\n",
    "            test_loss += criterion(outputs, labels)\n",
    "\n",
    "            # one hot -> labels\n",
    "            labels = torch.argmax(labels, dim=1)\n",
    "            pred = torch.argmax(outputs, dim=1)\n",
    "\n",
    "            test_correct += pred.eq(labels).sum().item()\n",
    "\n",
    "    test_loss /= len(test_dataloader.dataset)\n",
    "    test_accuracy = 100. * test_correct / len(test_dataloader.dataset)\n",
    "print(\"Final best acc: \", test_accuracy)"
   ]
  }
 ],
 "metadata": {
  "kaggle": {
   "accelerator": "nvidiaTeslaT4",
   "dataSources": [],
   "dockerImageVersionId": 30823,
   "isGpuEnabled": true,
   "isInternetEnabled": true,
   "language": "python",
   "sourceType": "notebook"
  },
  "kernelspec": {
   "display_name": "Python 3",
   "language": "python",
   "name": "python3"
  },
  "language_info": {
   "codemirror_mode": {
    "name": "ipython",
    "version": 3
   },
   "file_extension": ".py",
   "mimetype": "text/x-python",
   "name": "python",
   "nbconvert_exporter": "python",
   "pygments_lexer": "ipython3",
   "version": "3.10.12"
  }
 },
 "nbformat": 4,
 "nbformat_minor": 4
}
