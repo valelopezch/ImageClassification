{
 "cells": [
  {
   "cell_type": "markdown",
   "metadata": {},
   "source": [
    "<div style=\"text-align: right\"><b> Ana Valentina López Chacón </b></div>\n",
    "<div style=\"text-align: right\"><b> Redes Neuronales Artificiales, 2024 - 2025 </b></div>\n",
    "\n",
    "## **Práctica CIFAR: CNNs con Bloques ResNet**"
   ]
  },
  {
   "cell_type": "code",
   "execution_count": 1,
   "metadata": {
    "_cell_guid": "b1076dfc-b9ad-4769-8c92-a6c4dae69d19",
    "_uuid": "8f2839f25d086af736a60e9eeb907d3b93b6e0e5",
    "execution": {
     "iopub.execute_input": "2025-01-27T00:41:32.577766Z",
     "iopub.status.busy": "2025-01-27T00:41:32.577406Z",
     "iopub.status.idle": "2025-01-27T00:41:38.329935Z",
     "shell.execute_reply": "2025-01-27T00:41:38.329162Z",
     "shell.execute_reply.started": "2025-01-27T00:41:32.577736Z"
    },
    "trusted": true
   },
   "outputs": [
    {
     "name": "stdout",
     "output_type": "stream",
     "text": [
      "Torch version:  2.5.1+cu121\n",
      "Device:  cuda\n"
     ]
    }
   ],
   "source": [
    "import torch\n",
    "import torchvision\n",
    "import torch.nn as nn\n",
    "from tqdm import tqdm\n",
    "import multiprocessing\n",
    "import torch.optim as optim\n",
    "import torch.nn.functional as  F\n",
    "from torchvision import transforms\n",
    "from torch.utils.data import Dataset\n",
    "from torch.utils.data import DataLoader\n",
    "\n",
    "print(\"Torch version: \", torch. __version__)\n",
    "device = torch.device(\"cuda\" if torch.cuda.is_available() else \"cpu\")\n",
    "print(\"Device: \", device)"
   ]
  },
  {
   "cell_type": "code",
   "execution_count": 2,
   "metadata": {
    "execution": {
     "iopub.execute_input": "2025-01-27T00:41:38.331416Z",
     "iopub.status.busy": "2025-01-27T00:41:38.331063Z",
     "iopub.status.idle": "2025-01-27T00:41:38.341254Z",
     "shell.execute_reply": "2025-01-27T00:41:38.340466Z",
     "shell.execute_reply.started": "2025-01-27T00:41:38.331394Z"
    },
    "trusted": true
   },
   "outputs": [],
   "source": [
    "seed = 42\n",
    "torch.manual_seed(seed)\n",
    "\n",
    "if torch.cuda.is_available():\n",
    "    torch.cuda.manual_seed(seed)\n",
    "    torch.cuda.manual_seed_all(seed)\n",
    "    torch.backends.cudnn.deterministic = True\n",
    "    torch.backends.cudnn.benchmark = False"
   ]
  },
  {
   "cell_type": "code",
   "execution_count": 3,
   "metadata": {
    "execution": {
     "iopub.execute_input": "2025-01-27T00:41:38.343156Z",
     "iopub.status.busy": "2025-01-27T00:41:38.342849Z",
     "iopub.status.idle": "2025-01-27T00:41:38.350583Z",
     "shell.execute_reply": "2025-01-27T00:41:38.349173Z",
     "shell.execute_reply.started": "2025-01-27T00:41:38.343130Z"
    },
    "trusted": true
   },
   "outputs": [],
   "source": [
    "da_train = transforms.Compose([\n",
    "    transforms.RandomHorizontalFlip(),\n",
    "    transforms.RandomAffine(degrees=15, translate=(0.2, 0.2), scale=(0.9, 1.1)),\n",
    "    transforms.RandomResizedCrop(size=32, scale=(0.8, 1.0)),\n",
    "    transforms.ToTensor(),\n",
    "])\n",
    "\n",
    "da_test = transforms.Compose([\n",
    "    transforms.ToTensor(),\n",
    "])"
   ]
  },
  {
   "cell_type": "markdown",
   "metadata": {},
   "source": [
    "### **Carga de Datos**"
   ]
  },
  {
   "cell_type": "code",
   "execution_count": 4,
   "metadata": {
    "execution": {
     "iopub.execute_input": "2025-01-27T00:41:38.351906Z",
     "iopub.status.busy": "2025-01-27T00:41:38.351620Z",
     "iopub.status.idle": "2025-01-27T00:41:44.030121Z",
     "shell.execute_reply": "2025-01-27T00:41:44.029216Z",
     "shell.execute_reply.started": "2025-01-27T00:41:38.351887Z"
    },
    "trusted": true
   },
   "outputs": [
    {
     "name": "stdout",
     "output_type": "stream",
     "text": [
      "\n",
      "Loading CIFAR10  train  Dataset...\n",
      "Downloading https://www.cs.toronto.edu/~kriz/cifar-10-python.tar.gz to .data/cifar-10-python.tar.gz\n"
     ]
    },
    {
     "name": "stderr",
     "output_type": "stream",
     "text": [
      "100%|██████████| 170M/170M [00:02<00:00, 77.5MB/s] \n"
     ]
    },
    {
     "name": "stdout",
     "output_type": "stream",
     "text": [
      "Extracting .data/cifar-10-python.tar.gz to .data/\n",
      "\tTotal Len.:  50000 \n",
      " --------------------------------------------------\n",
      "\n",
      "Loading CIFAR10  test  Dataset...\n",
      "Files already downloaded and verified\n",
      "\tTotal Len.:  10000 \n",
      " --------------------------------------------------\n"
     ]
    }
   ],
   "source": [
    "class CIFAR10_dataset(Dataset):\n",
    "\n",
    "    def __init__(self, transform, partition = \"train\"):\n",
    "\n",
    "        print(\"\\nLoading CIFAR10 \", partition, \" Dataset...\")\n",
    "        self.partition = partition\n",
    "        self.transform = transform\n",
    "        if self.partition == \"train\":\n",
    "            self.data = torchvision.datasets.CIFAR10('.data/', \n",
    "                                                     train=True,\n",
    "                                                     download=True)\n",
    "        else:\n",
    "            self.data = torchvision.datasets.CIFAR10('.data/', \n",
    "                                                     train=False,\n",
    "                                                     download=True)\n",
    "        print(\"\\tTotal Len.: \", len(self.data), \"\\n\", 50*\"-\")\n",
    "    \n",
    "    def __len__(self):\n",
    "        return len(self.data)\n",
    "\n",
    "    def __getitem__(self, idx):\n",
    "\n",
    "        # Image\n",
    "        image = self.data[idx][0]\n",
    "        image_tensor = self.transform(image)\n",
    "\n",
    "        # Label\n",
    "        label = torch.tensor(self.data[idx][1])\n",
    "        label = F.one_hot(label, num_classes=10).float()\n",
    "\n",
    "        return {\"img\": image_tensor, \"label\": label}\n",
    "\n",
    "train_dataset = CIFAR10_dataset(da_train, partition=\"train\")\n",
    "test_dataset = CIFAR10_dataset(da_test, partition=\"test\")"
   ]
  },
  {
   "cell_type": "code",
   "execution_count": 5,
   "metadata": {
    "execution": {
     "iopub.execute_input": "2025-01-27T00:41:44.031331Z",
     "iopub.status.busy": "2025-01-27T00:41:44.031092Z",
     "iopub.status.idle": "2025-01-27T00:41:44.036234Z",
     "shell.execute_reply": "2025-01-27T00:41:44.035277Z",
     "shell.execute_reply.started": "2025-01-27T00:41:44.031312Z"
    },
    "trusted": true
   },
   "outputs": [
    {
     "name": "stdout",
     "output_type": "stream",
     "text": [
      "Num workers 3\n"
     ]
    }
   ],
   "source": [
    "batch_size = 100\n",
    "num_workers = multiprocessing.cpu_count()-1\n",
    "print(\"Num workers\", num_workers)\n",
    "train_dataloader = DataLoader(train_dataset, batch_size, shuffle=True, num_workers=num_workers)\n",
    "test_dataloader = DataLoader(test_dataset, batch_size, shuffle=False, num_workers=num_workers)"
   ]
  },
  {
   "cell_type": "markdown",
   "metadata": {},
   "source": [
    "### **Creación de Red**"
   ]
  },
  {
   "cell_type": "code",
   "execution_count": 7,
   "metadata": {
    "execution": {
     "iopub.execute_input": "2025-01-27T00:41:44.049869Z",
     "iopub.status.busy": "2025-01-27T00:41:44.049538Z",
     "iopub.status.idle": "2025-01-27T00:41:44.061137Z",
     "shell.execute_reply": "2025-01-27T00:41:44.060206Z",
     "shell.execute_reply.started": "2025-01-27T00:41:44.049841Z"
    },
    "trusted": true
   },
   "outputs": [],
   "source": [
    "class ResNetBlock(nn.Module):\n",
    "    def __init__(self, in_channels, out_channels):\n",
    "        super(ResNetBlock, self).__init__()\n",
    "\n",
    "        self.conv1 = nn.Conv2d(in_channels, out_channels, kernel_size=3, padding='same')\n",
    "        self.bn1 = nn.BatchNorm2d(out_channels)\n",
    "        \n",
    "        self.conv2 = nn.Conv2d(out_channels, out_channels, kernel_size=3, padding='same')\n",
    "        self.bn2 = nn.BatchNorm2d(out_channels)\n",
    "        \n",
    "        self.conv_shortcut = nn.Conv2d(in_channels, out_channels, kernel_size=1, padding='same')\n",
    "        self.relu = nn.LeakyReLU()\n",
    "\n",
    "    def forward(self, x):\n",
    "        previous_x = x\n",
    "\n",
    "        out = self.conv1(x)\n",
    "        out = self.bn1(out)\n",
    "        out = self.relu(out)\n",
    "\n",
    "        out = self.conv2(out)\n",
    "        out = self.bn2(out)\n",
    "\n",
    "        previous_x = self.conv_shortcut(previous_x)\n",
    "\n",
    "        out += previous_x\n",
    "        out = self.relu(out)\n",
    "\n",
    "        return out"
   ]
  },
  {
   "cell_type": "code",
   "execution_count": 8,
   "metadata": {
    "execution": {
     "iopub.execute_input": "2025-01-27T00:41:44.063404Z",
     "iopub.status.busy": "2025-01-27T00:41:44.063169Z",
     "iopub.status.idle": "2025-01-27T00:41:44.075419Z",
     "shell.execute_reply": "2025-01-27T00:41:44.074487Z",
     "shell.execute_reply.started": "2025-01-27T00:41:44.063385Z"
    },
    "trusted": true
   },
   "outputs": [],
   "source": [
    "class ResNetCNN(nn.Module):\n",
    "    def __init__(self, num_classes=10):\n",
    "        super(ResNetCNN, self).__init__()\n",
    "        \n",
    "        self.resnet_layers = nn.Sequential(\n",
    "            ResNetBlock(3, 32),\n",
    "            ResNetBlock(32, 64),\n",
    "            ResNetBlock(64, 128),\n",
    "            nn.MaxPool2d(kernel_size=2, stride=2),\n",
    "            ResNetBlock(128, 256),\n",
    "            nn.MaxPool2d(kernel_size=2, stride=2),\n",
    "            ResNetBlock(256, 512),\n",
    "            nn.AvgPool2d(kernel_size=8, stride=8)\n",
    "        )\n",
    "\n",
    "\n",
    "        self.fc1 = nn.Linear(512, 512)\n",
    "        self.fc2 = nn.Linear(512, num_classes)\n",
    "\n",
    "    def forward(self, x):\n",
    "        # x = self.conv_layers(x)\n",
    "        x = self.resnet_layers(x)  \n",
    "        x = torch.flatten(x, start_dim=1)  \n",
    "        x = F.relu(self.fc1(x))\n",
    "        x = self.fc2(x)  \n",
    "        return x\n"
   ]
  },
  {
   "cell_type": "code",
   "execution_count": 9,
   "metadata": {
    "execution": {
     "iopub.execute_input": "2025-01-27T00:41:44.076989Z",
     "iopub.status.busy": "2025-01-27T00:41:44.076665Z",
     "iopub.status.idle": "2025-01-27T00:41:44.162289Z",
     "shell.execute_reply": "2025-01-27T00:41:44.161666Z",
     "shell.execute_reply.started": "2025-01-27T00:41:44.076956Z"
    },
    "trusted": true
   },
   "outputs": [
    {
     "name": "stdout",
     "output_type": "stream",
     "text": [
      "ResNetCNN(\n",
      "  (resnet_layers): Sequential(\n",
      "    (0): ResNetBlock(\n",
      "      (conv1): Conv2d(3, 32, kernel_size=(3, 3), stride=(1, 1), padding=same)\n",
      "      (bn1): BatchNorm2d(32, eps=1e-05, momentum=0.1, affine=True, track_running_stats=True)\n",
      "      (conv2): Conv2d(32, 32, kernel_size=(3, 3), stride=(1, 1), padding=same)\n",
      "      (bn2): BatchNorm2d(32, eps=1e-05, momentum=0.1, affine=True, track_running_stats=True)\n",
      "      (conv_shortcut): Conv2d(3, 32, kernel_size=(1, 1), stride=(1, 1), padding=same)\n",
      "      (relu): LeakyReLU(negative_slope=0.01)\n",
      "    )\n",
      "    (1): ResNetBlock(\n",
      "      (conv1): Conv2d(32, 64, kernel_size=(3, 3), stride=(1, 1), padding=same)\n",
      "      (bn1): BatchNorm2d(64, eps=1e-05, momentum=0.1, affine=True, track_running_stats=True)\n",
      "      (conv2): Conv2d(64, 64, kernel_size=(3, 3), stride=(1, 1), padding=same)\n",
      "      (bn2): BatchNorm2d(64, eps=1e-05, momentum=0.1, affine=True, track_running_stats=True)\n",
      "      (conv_shortcut): Conv2d(32, 64, kernel_size=(1, 1), stride=(1, 1), padding=same)\n",
      "      (relu): LeakyReLU(negative_slope=0.01)\n",
      "    )\n",
      "    (2): ResNetBlock(\n",
      "      (conv1): Conv2d(64, 128, kernel_size=(3, 3), stride=(1, 1), padding=same)\n",
      "      (bn1): BatchNorm2d(128, eps=1e-05, momentum=0.1, affine=True, track_running_stats=True)\n",
      "      (conv2): Conv2d(128, 128, kernel_size=(3, 3), stride=(1, 1), padding=same)\n",
      "      (bn2): BatchNorm2d(128, eps=1e-05, momentum=0.1, affine=True, track_running_stats=True)\n",
      "      (conv_shortcut): Conv2d(64, 128, kernel_size=(1, 1), stride=(1, 1), padding=same)\n",
      "      (relu): LeakyReLU(negative_slope=0.01)\n",
      "    )\n",
      "    (3): MaxPool2d(kernel_size=2, stride=2, padding=0, dilation=1, ceil_mode=False)\n",
      "    (4): ResNetBlock(\n",
      "      (conv1): Conv2d(128, 256, kernel_size=(3, 3), stride=(1, 1), padding=same)\n",
      "      (bn1): BatchNorm2d(256, eps=1e-05, momentum=0.1, affine=True, track_running_stats=True)\n",
      "      (conv2): Conv2d(256, 256, kernel_size=(3, 3), stride=(1, 1), padding=same)\n",
      "      (bn2): BatchNorm2d(256, eps=1e-05, momentum=0.1, affine=True, track_running_stats=True)\n",
      "      (conv_shortcut): Conv2d(128, 256, kernel_size=(1, 1), stride=(1, 1), padding=same)\n",
      "      (relu): LeakyReLU(negative_slope=0.01)\n",
      "    )\n",
      "    (5): MaxPool2d(kernel_size=2, stride=2, padding=0, dilation=1, ceil_mode=False)\n",
      "    (6): ResNetBlock(\n",
      "      (conv1): Conv2d(256, 512, kernel_size=(3, 3), stride=(1, 1), padding=same)\n",
      "      (bn1): BatchNorm2d(512, eps=1e-05, momentum=0.1, affine=True, track_running_stats=True)\n",
      "      (conv2): Conv2d(512, 512, kernel_size=(3, 3), stride=(1, 1), padding=same)\n",
      "      (bn2): BatchNorm2d(512, eps=1e-05, momentum=0.1, affine=True, track_running_stats=True)\n",
      "      (conv_shortcut): Conv2d(256, 512, kernel_size=(1, 1), stride=(1, 1), padding=same)\n",
      "      (relu): LeakyReLU(negative_slope=0.01)\n",
      "    )\n",
      "    (7): AvgPool2d(kernel_size=8, stride=8, padding=0)\n",
      "  )\n",
      "  (fc1): Linear(in_features=512, out_features=512, bias=True)\n",
      "  (fc2): Linear(in_features=512, out_features=10, bias=True)\n",
      ")\n",
      "Params:  5159146\n"
     ]
    }
   ],
   "source": [
    "num_classes = 10\n",
    "net = ResNetCNN(\n",
    "    num_classes\n",
    "    )\n",
    "print(net)\n",
    "\n",
    "def count_parameters(model):\n",
    "    return sum(p.numel() for p in model.parameters() if p.requires_grad)\n",
    "print(\"Params: \", count_parameters(net))"
   ]
  },
  {
   "cell_type": "code",
   "execution_count": 10,
   "metadata": {
    "execution": {
     "iopub.execute_input": "2025-01-27T00:41:44.163149Z",
     "iopub.status.busy": "2025-01-27T00:41:44.162958Z",
     "iopub.status.idle": "2025-01-27T00:41:44.167446Z",
     "shell.execute_reply": "2025-01-27T00:41:44.166618Z",
     "shell.execute_reply.started": "2025-01-27T00:41:44.163133Z"
    },
    "trusted": true
   },
   "outputs": [],
   "source": [
    "criterion = nn.CrossEntropyLoss()\n",
    "optimizer = optim.Adam(net.parameters(), lr=0.001, weight_decay=1e-6)\n",
    "lr_scheduler = optim.lr_scheduler.ReduceLROnPlateau(optimizer, factor=0.1, patience=10, min_lr=0.00001)\n",
    "epochs = 100"
   ]
  },
  {
   "cell_type": "markdown",
   "metadata": {},
   "source": [
    "### **Entrenamiento**"
   ]
  },
  {
   "cell_type": "code",
   "execution_count": 11,
   "metadata": {
    "execution": {
     "iopub.execute_input": "2025-01-27T00:41:44.168416Z",
     "iopub.status.busy": "2025-01-27T00:41:44.168221Z",
     "iopub.status.idle": "2025-01-27T02:22:58.934928Z",
     "shell.execute_reply": "2025-01-27T02:22:58.933939Z",
     "shell.execute_reply.started": "2025-01-27T00:41:44.168389Z"
    },
    "trusted": true
   },
   "outputs": [
    {
     "name": "stdout",
     "output_type": "stream",
     "text": [
      "\n",
      "---- Start Training ----\n"
     ]
    },
    {
     "name": "stderr",
     "output_type": "stream",
     "text": [
      "Epoch 0: 100%|██████████| 500/500 [00:47<00:00, 10.62batch/s]\n",
      "Test 0: 100%|██████████| 100/100 [00:03<00:00, 30.79batch/s]"
     ]
    },
    {
     "name": "stdout",
     "output_type": "stream",
     "text": [
      "[Epoch 1] Train Loss: 1.594220 - Test Loss: 1.512959 - Train Accuracy: 40.27% - Test Accuracy: 47.38%\n"
     ]
    },
    {
     "name": "stderr",
     "output_type": "stream",
     "text": [
      "\n",
      "Epoch 1: 100%|██████████| 500/500 [00:48<00:00, 10.24batch/s]\n",
      "Test 1: 100%|██████████| 100/100 [00:03<00:00, 28.68batch/s]\n"
     ]
    },
    {
     "name": "stdout",
     "output_type": "stream",
     "text": [
      "[Epoch 2] Train Loss: 1.167629 - Test Loss: 1.019913 - Train Accuracy: 57.91% - Test Accuracy: 64.67%\n"
     ]
    },
    {
     "name": "stderr",
     "output_type": "stream",
     "text": [
      "Epoch 2: 100%|██████████| 500/500 [00:55<00:00,  8.95batch/s]\n",
      "Test 2: 100%|██████████| 100/100 [00:03<00:00, 25.40batch/s]\n"
     ]
    },
    {
     "name": "stdout",
     "output_type": "stream",
     "text": [
      "[Epoch 3] Train Loss: 0.951104 - Test Loss: 0.839328 - Train Accuracy: 66.17% - Test Accuracy: 70.65%\n"
     ]
    },
    {
     "name": "stderr",
     "output_type": "stream",
     "text": [
      "Epoch 3: 100%|██████████| 500/500 [00:55<00:00,  8.99batch/s]\n",
      "Test 3: 100%|██████████| 100/100 [00:03<00:00, 26.13batch/s]"
     ]
    },
    {
     "name": "stdout",
     "output_type": "stream",
     "text": [
      "[Epoch 4] Train Loss: 0.806725 - Test Loss: 0.763783 - Train Accuracy: 71.68% - Test Accuracy: 74.22%\n"
     ]
    },
    {
     "name": "stderr",
     "output_type": "stream",
     "text": [
      "\n",
      "Epoch 4: 100%|██████████| 500/500 [00:56<00:00,  8.80batch/s]\n",
      "Test 4: 100%|██████████| 100/100 [00:03<00:00, 26.13batch/s]"
     ]
    },
    {
     "name": "stdout",
     "output_type": "stream",
     "text": [
      "[Epoch 5] Train Loss: 0.716068 - Test Loss: 0.814910 - Train Accuracy: 74.85% - Test Accuracy: 74.37%\n"
     ]
    },
    {
     "name": "stderr",
     "output_type": "stream",
     "text": [
      "\n",
      "Epoch 5: 100%|██████████| 500/500 [00:56<00:00,  8.85batch/s]\n",
      "Test 5: 100%|██████████| 100/100 [00:03<00:00, 25.72batch/s]\n"
     ]
    },
    {
     "name": "stdout",
     "output_type": "stream",
     "text": [
      "[Epoch 6] Train Loss: 0.648498 - Test Loss: 0.645588 - Train Accuracy: 77.32% - Test Accuracy: 78.56%\n"
     ]
    },
    {
     "name": "stderr",
     "output_type": "stream",
     "text": [
      "Epoch 6: 100%|██████████| 500/500 [00:56<00:00,  8.85batch/s]\n",
      "Test 6: 100%|██████████| 100/100 [00:03<00:00, 25.51batch/s]"
     ]
    },
    {
     "name": "stdout",
     "output_type": "stream",
     "text": [
      "[Epoch 7] Train Loss: 0.592451 - Test Loss: 0.601600 - Train Accuracy: 79.37% - Test Accuracy: 79.93%\n"
     ]
    },
    {
     "name": "stderr",
     "output_type": "stream",
     "text": [
      "\n",
      "Epoch 7: 100%|██████████| 500/500 [00:56<00:00,  8.81batch/s]\n",
      "Test 7: 100%|██████████| 100/100 [00:03<00:00, 26.07batch/s]"
     ]
    },
    {
     "name": "stdout",
     "output_type": "stream",
     "text": [
      "[Epoch 8] Train Loss: 0.545172 - Test Loss: 0.536613 - Train Accuracy: 81.07% - Test Accuracy: 81.82%\n"
     ]
    },
    {
     "name": "stderr",
     "output_type": "stream",
     "text": [
      "\n",
      "Epoch 8: 100%|██████████| 500/500 [00:56<00:00,  8.89batch/s]\n",
      "Test 8: 100%|██████████| 100/100 [00:03<00:00, 26.14batch/s]"
     ]
    },
    {
     "name": "stdout",
     "output_type": "stream",
     "text": [
      "[Epoch 9] Train Loss: 0.519159 - Test Loss: 0.589310 - Train Accuracy: 82.13% - Test Accuracy: 80.53%\n"
     ]
    },
    {
     "name": "stderr",
     "output_type": "stream",
     "text": [
      "\n",
      "Epoch 9: 100%|██████████| 500/500 [00:57<00:00,  8.76batch/s]\n",
      "Test 9: 100%|██████████| 100/100 [00:03<00:00, 25.82batch/s]"
     ]
    },
    {
     "name": "stdout",
     "output_type": "stream",
     "text": [
      "[Epoch 10] Train Loss: 0.479373 - Test Loss: 0.626745 - Train Accuracy: 83.41% - Test Accuracy: 80.20%\n"
     ]
    },
    {
     "name": "stderr",
     "output_type": "stream",
     "text": [
      "\n",
      "Epoch 10: 100%|██████████| 500/500 [00:56<00:00,  8.90batch/s]\n",
      "Test 10: 100%|██████████| 100/100 [00:03<00:00, 25.90batch/s]"
     ]
    },
    {
     "name": "stdout",
     "output_type": "stream",
     "text": [
      "[Epoch 11] Train Loss: 0.450996 - Test Loss: 0.425626 - Train Accuracy: 84.37% - Test Accuracy: 85.54%\n"
     ]
    },
    {
     "name": "stderr",
     "output_type": "stream",
     "text": [
      "\n",
      "Epoch 11: 100%|██████████| 500/500 [00:56<00:00,  8.85batch/s]\n",
      "Test 11: 100%|██████████| 100/100 [00:03<00:00, 25.69batch/s]"
     ]
    },
    {
     "name": "stdout",
     "output_type": "stream",
     "text": [
      "[Epoch 12] Train Loss: 0.428430 - Test Loss: 0.412077 - Train Accuracy: 85.24% - Test Accuracy: 86.21%\n"
     ]
    },
    {
     "name": "stderr",
     "output_type": "stream",
     "text": [
      "\n",
      "Epoch 12: 100%|██████████| 500/500 [00:56<00:00,  8.78batch/s]\n",
      "Test 12: 100%|██████████| 100/100 [00:03<00:00, 25.71batch/s]"
     ]
    },
    {
     "name": "stdout",
     "output_type": "stream",
     "text": [
      "[Epoch 13] Train Loss: 0.404519 - Test Loss: 0.419635 - Train Accuracy: 86.03% - Test Accuracy: 86.09%\n"
     ]
    },
    {
     "name": "stderr",
     "output_type": "stream",
     "text": [
      "\n",
      "Epoch 13: 100%|██████████| 500/500 [00:57<00:00,  8.76batch/s]\n",
      "Test 13: 100%|██████████| 100/100 [00:03<00:00, 25.91batch/s]"
     ]
    },
    {
     "name": "stdout",
     "output_type": "stream",
     "text": [
      "[Epoch 14] Train Loss: 0.379307 - Test Loss: 0.432272 - Train Accuracy: 86.80% - Test Accuracy: 86.17%\n"
     ]
    },
    {
     "name": "stderr",
     "output_type": "stream",
     "text": [
      "\n",
      "Epoch 14: 100%|██████████| 500/500 [00:56<00:00,  8.82batch/s]\n",
      "Test 14: 100%|██████████| 100/100 [00:03<00:00, 26.06batch/s]"
     ]
    },
    {
     "name": "stdout",
     "output_type": "stream",
     "text": [
      "[Epoch 15] Train Loss: 0.366538 - Test Loss: 0.438488 - Train Accuracy: 87.29% - Test Accuracy: 85.53%\n"
     ]
    },
    {
     "name": "stderr",
     "output_type": "stream",
     "text": [
      "\n",
      "Epoch 15: 100%|██████████| 500/500 [00:56<00:00,  8.85batch/s]\n",
      "Test 15: 100%|██████████| 100/100 [00:03<00:00, 25.95batch/s]\n"
     ]
    },
    {
     "name": "stdout",
     "output_type": "stream",
     "text": [
      "[Epoch 16] Train Loss: 0.350029 - Test Loss: 0.416790 - Train Accuracy: 87.92% - Test Accuracy: 86.52%\n"
     ]
    },
    {
     "name": "stderr",
     "output_type": "stream",
     "text": [
      "Epoch 16: 100%|██████████| 500/500 [00:56<00:00,  8.84batch/s]\n",
      "Test 16: 100%|██████████| 100/100 [00:03<00:00, 25.68batch/s]"
     ]
    },
    {
     "name": "stdout",
     "output_type": "stream",
     "text": [
      "[Epoch 17] Train Loss: 0.331007 - Test Loss: 0.451836 - Train Accuracy: 88.46% - Test Accuracy: 85.62%\n"
     ]
    },
    {
     "name": "stderr",
     "output_type": "stream",
     "text": [
      "\n",
      "Epoch 17: 100%|██████████| 500/500 [00:56<00:00,  8.81batch/s]\n",
      "Test 17: 100%|██████████| 100/100 [00:03<00:00, 25.71batch/s]"
     ]
    },
    {
     "name": "stdout",
     "output_type": "stream",
     "text": [
      "[Epoch 18] Train Loss: 0.318531 - Test Loss: 0.394943 - Train Accuracy: 88.97% - Test Accuracy: 87.16%\n"
     ]
    },
    {
     "name": "stderr",
     "output_type": "stream",
     "text": [
      "\n",
      "Epoch 18: 100%|██████████| 500/500 [00:56<00:00,  8.81batch/s]\n",
      "Test 18: 100%|██████████| 100/100 [00:03<00:00, 25.83batch/s]"
     ]
    },
    {
     "name": "stdout",
     "output_type": "stream",
     "text": [
      "[Epoch 19] Train Loss: 0.306120 - Test Loss: 0.424483 - Train Accuracy: 89.26% - Test Accuracy: 86.50%\n"
     ]
    },
    {
     "name": "stderr",
     "output_type": "stream",
     "text": [
      "\n",
      "Epoch 19: 100%|██████████| 500/500 [00:56<00:00,  8.80batch/s]\n",
      "Test 19: 100%|██████████| 100/100 [00:03<00:00, 25.88batch/s]"
     ]
    },
    {
     "name": "stdout",
     "output_type": "stream",
     "text": [
      "[Epoch 20] Train Loss: 0.292837 - Test Loss: 0.360980 - Train Accuracy: 89.59% - Test Accuracy: 88.31%\n"
     ]
    },
    {
     "name": "stderr",
     "output_type": "stream",
     "text": [
      "\n",
      "Epoch 20: 100%|██████████| 500/500 [00:56<00:00,  8.86batch/s]\n",
      "Test 20: 100%|██████████| 100/100 [00:03<00:00, 25.80batch/s]"
     ]
    },
    {
     "name": "stdout",
     "output_type": "stream",
     "text": [
      "[Epoch 21] Train Loss: 0.279699 - Test Loss: 0.422541 - Train Accuracy: 90.07% - Test Accuracy: 87.25%\n"
     ]
    },
    {
     "name": "stderr",
     "output_type": "stream",
     "text": [
      "\n",
      "Epoch 21: 100%|██████████| 500/500 [00:57<00:00,  8.74batch/s]\n",
      "Test 21: 100%|██████████| 100/100 [00:03<00:00, 25.74batch/s]"
     ]
    },
    {
     "name": "stdout",
     "output_type": "stream",
     "text": [
      "[Epoch 22] Train Loss: 0.270183 - Test Loss: 0.388991 - Train Accuracy: 90.54% - Test Accuracy: 87.99%\n"
     ]
    },
    {
     "name": "stderr",
     "output_type": "stream",
     "text": [
      "\n",
      "Epoch 22: 100%|██████████| 500/500 [00:56<00:00,  8.81batch/s]\n",
      "Test 22: 100%|██████████| 100/100 [00:03<00:00, 25.95batch/s]"
     ]
    },
    {
     "name": "stdout",
     "output_type": "stream",
     "text": [
      "[Epoch 23] Train Loss: 0.258415 - Test Loss: 0.385114 - Train Accuracy: 90.88% - Test Accuracy: 88.15%\n"
     ]
    },
    {
     "name": "stderr",
     "output_type": "stream",
     "text": [
      "\n",
      "Epoch 23: 100%|██████████| 500/500 [00:56<00:00,  8.85batch/s]\n",
      "Test 23: 100%|██████████| 100/100 [00:03<00:00, 25.97batch/s]"
     ]
    },
    {
     "name": "stdout",
     "output_type": "stream",
     "text": [
      "[Epoch 24] Train Loss: 0.249521 - Test Loss: 0.364176 - Train Accuracy: 91.24% - Test Accuracy: 88.80%\n"
     ]
    },
    {
     "name": "stderr",
     "output_type": "stream",
     "text": [
      "\n",
      "Epoch 24: 100%|██████████| 500/500 [00:56<00:00,  8.82batch/s]\n",
      "Test 24: 100%|██████████| 100/100 [00:03<00:00, 25.67batch/s]"
     ]
    },
    {
     "name": "stdout",
     "output_type": "stream",
     "text": [
      "[Epoch 25] Train Loss: 0.242238 - Test Loss: 0.388890 - Train Accuracy: 91.55% - Test Accuracy: 88.25%\n"
     ]
    },
    {
     "name": "stderr",
     "output_type": "stream",
     "text": [
      "\n",
      "Epoch 25: 100%|██████████| 500/500 [00:57<00:00,  8.72batch/s]\n",
      "Test 25: 100%|██████████| 100/100 [00:03<00:00, 25.57batch/s]"
     ]
    },
    {
     "name": "stdout",
     "output_type": "stream",
     "text": [
      "[Epoch 26] Train Loss: 0.227829 - Test Loss: 0.389808 - Train Accuracy: 91.90% - Test Accuracy: 88.69%\n"
     ]
    },
    {
     "name": "stderr",
     "output_type": "stream",
     "text": [
      "\n",
      "Epoch 26: 100%|██████████| 500/500 [00:57<00:00,  8.76batch/s]\n",
      "Test 26: 100%|██████████| 100/100 [00:03<00:00, 25.92batch/s]"
     ]
    },
    {
     "name": "stdout",
     "output_type": "stream",
     "text": [
      "[Epoch 27] Train Loss: 0.224271 - Test Loss: 0.419573 - Train Accuracy: 92.23% - Test Accuracy: 88.00%\n"
     ]
    },
    {
     "name": "stderr",
     "output_type": "stream",
     "text": [
      "\n",
      "Epoch 27: 100%|██████████| 500/500 [00:56<00:00,  8.81batch/s]\n",
      "Test 27: 100%|██████████| 100/100 [00:03<00:00, 25.94batch/s]\n"
     ]
    },
    {
     "name": "stdout",
     "output_type": "stream",
     "text": [
      "[Epoch 28] Train Loss: 0.220732 - Test Loss: 0.348644 - Train Accuracy: 92.26% - Test Accuracy: 89.46%\n"
     ]
    },
    {
     "name": "stderr",
     "output_type": "stream",
     "text": [
      "Epoch 28: 100%|██████████| 500/500 [00:56<00:00,  8.82batch/s]\n",
      "Test 28: 100%|██████████| 100/100 [00:03<00:00, 26.02batch/s]"
     ]
    },
    {
     "name": "stdout",
     "output_type": "stream",
     "text": [
      "[Epoch 29] Train Loss: 0.207393 - Test Loss: 0.439481 - Train Accuracy: 92.56% - Test Accuracy: 87.46%\n"
     ]
    },
    {
     "name": "stderr",
     "output_type": "stream",
     "text": [
      "\n",
      "Epoch 29: 100%|██████████| 500/500 [00:56<00:00,  8.81batch/s]\n",
      "Test 29: 100%|██████████| 100/100 [00:03<00:00, 25.72batch/s]"
     ]
    },
    {
     "name": "stdout",
     "output_type": "stream",
     "text": [
      "[Epoch 30] Train Loss: 0.202878 - Test Loss: 0.402041 - Train Accuracy: 92.86% - Test Accuracy: 88.00%\n"
     ]
    },
    {
     "name": "stderr",
     "output_type": "stream",
     "text": [
      "\n",
      "Epoch 30: 100%|██████████| 500/500 [00:56<00:00,  8.77batch/s]\n",
      "Test 30: 100%|██████████| 100/100 [00:03<00:00, 25.73batch/s]"
     ]
    },
    {
     "name": "stdout",
     "output_type": "stream",
     "text": [
      "[Epoch 31] Train Loss: 0.191983 - Test Loss: 0.399131 - Train Accuracy: 93.31% - Test Accuracy: 89.12%\n"
     ]
    },
    {
     "name": "stderr",
     "output_type": "stream",
     "text": [
      "\n",
      "Epoch 31: 100%|██████████| 500/500 [00:57<00:00,  8.75batch/s]\n",
      "Test 31: 100%|██████████| 100/100 [00:03<00:00, 25.59batch/s]"
     ]
    },
    {
     "name": "stdout",
     "output_type": "stream",
     "text": [
      "[Epoch 32] Train Loss: 0.188165 - Test Loss: 0.363464 - Train Accuracy: 93.33% - Test Accuracy: 89.40%\n"
     ]
    },
    {
     "name": "stderr",
     "output_type": "stream",
     "text": [
      "\n",
      "Epoch 32: 100%|██████████| 500/500 [00:57<00:00,  8.72batch/s]\n",
      "Test 32: 100%|██████████| 100/100 [00:03<00:00, 25.66batch/s]"
     ]
    },
    {
     "name": "stdout",
     "output_type": "stream",
     "text": [
      "[Epoch 33] Train Loss: 0.183098 - Test Loss: 0.444364 - Train Accuracy: 93.54% - Test Accuracy: 87.33%\n"
     ]
    },
    {
     "name": "stderr",
     "output_type": "stream",
     "text": [
      "\n",
      "Epoch 33: 100%|██████████| 500/500 [00:56<00:00,  8.79batch/s]\n",
      "Test 33: 100%|██████████| 100/100 [00:03<00:00, 25.62batch/s]"
     ]
    },
    {
     "name": "stdout",
     "output_type": "stream",
     "text": [
      "[Epoch 34] Train Loss: 0.177276 - Test Loss: 0.359602 - Train Accuracy: 93.71% - Test Accuracy: 89.56%\n"
     ]
    },
    {
     "name": "stderr",
     "output_type": "stream",
     "text": [
      "\n",
      "Epoch 34: 100%|██████████| 500/500 [00:56<00:00,  8.83batch/s]\n",
      "Test 34: 100%|██████████| 100/100 [00:03<00:00, 25.78batch/s]"
     ]
    },
    {
     "name": "stdout",
     "output_type": "stream",
     "text": [
      "[Epoch 35] Train Loss: 0.167815 - Test Loss: 0.335312 - Train Accuracy: 94.02% - Test Accuracy: 90.51%\n"
     ]
    },
    {
     "name": "stderr",
     "output_type": "stream",
     "text": [
      "\n",
      "Epoch 35: 100%|██████████| 500/500 [00:56<00:00,  8.83batch/s]\n",
      "Test 35: 100%|██████████| 100/100 [00:03<00:00, 25.85batch/s]"
     ]
    },
    {
     "name": "stdout",
     "output_type": "stream",
     "text": [
      "[Epoch 36] Train Loss: 0.164142 - Test Loss: 0.403947 - Train Accuracy: 94.29% - Test Accuracy: 88.39%\n"
     ]
    },
    {
     "name": "stderr",
     "output_type": "stream",
     "text": [
      "\n",
      "Epoch 36: 100%|██████████| 500/500 [00:56<00:00,  8.85batch/s]\n",
      "Test 36: 100%|██████████| 100/100 [00:03<00:00, 25.94batch/s]"
     ]
    },
    {
     "name": "stdout",
     "output_type": "stream",
     "text": [
      "[Epoch 37] Train Loss: 0.159375 - Test Loss: 0.327109 - Train Accuracy: 94.38% - Test Accuracy: 89.99%\n"
     ]
    },
    {
     "name": "stderr",
     "output_type": "stream",
     "text": [
      "\n",
      "Epoch 37: 100%|██████████| 500/500 [00:56<00:00,  8.83batch/s]\n",
      "Test 37: 100%|██████████| 100/100 [00:03<00:00, 25.74batch/s]"
     ]
    },
    {
     "name": "stdout",
     "output_type": "stream",
     "text": [
      "[Epoch 38] Train Loss: 0.157893 - Test Loss: 0.334932 - Train Accuracy: 94.41% - Test Accuracy: 90.57%\n"
     ]
    },
    {
     "name": "stderr",
     "output_type": "stream",
     "text": [
      "\n",
      "Epoch 38: 100%|██████████| 500/500 [00:57<00:00,  8.77batch/s]\n",
      "Test 38: 100%|██████████| 100/100 [00:03<00:00, 25.63batch/s]"
     ]
    },
    {
     "name": "stdout",
     "output_type": "stream",
     "text": [
      "[Epoch 39] Train Loss: 0.156920 - Test Loss: 0.345845 - Train Accuracy: 94.49% - Test Accuracy: 90.22%\n"
     ]
    },
    {
     "name": "stderr",
     "output_type": "stream",
     "text": [
      "\n",
      "Epoch 39: 100%|██████████| 500/500 [00:57<00:00,  8.74batch/s]\n",
      "Test 39: 100%|██████████| 100/100 [00:03<00:00, 25.70batch/s]"
     ]
    },
    {
     "name": "stdout",
     "output_type": "stream",
     "text": [
      "[Epoch 40] Train Loss: 0.148806 - Test Loss: 0.339987 - Train Accuracy: 94.86% - Test Accuracy: 90.58%\n"
     ]
    },
    {
     "name": "stderr",
     "output_type": "stream",
     "text": [
      "\n",
      "Epoch 40: 100%|██████████| 500/500 [00:57<00:00,  8.75batch/s]\n",
      "Test 40: 100%|██████████| 100/100 [00:03<00:00, 25.57batch/s]"
     ]
    },
    {
     "name": "stdout",
     "output_type": "stream",
     "text": [
      "[Epoch 41] Train Loss: 0.146113 - Test Loss: 0.360208 - Train Accuracy: 94.96% - Test Accuracy: 90.21%\n"
     ]
    },
    {
     "name": "stderr",
     "output_type": "stream",
     "text": [
      "\n",
      "Epoch 41: 100%|██████████| 500/500 [00:57<00:00,  8.73batch/s]\n",
      "Test 41: 100%|██████████| 100/100 [00:03<00:00, 25.79batch/s]"
     ]
    },
    {
     "name": "stdout",
     "output_type": "stream",
     "text": [
      "[Epoch 42] Train Loss: 0.135833 - Test Loss: 0.376218 - Train Accuracy: 95.25% - Test Accuracy: 89.93%\n"
     ]
    },
    {
     "name": "stderr",
     "output_type": "stream",
     "text": [
      "\n",
      "Epoch 42: 100%|██████████| 500/500 [00:56<00:00,  8.79batch/s]\n",
      "Test 42: 100%|██████████| 100/100 [00:03<00:00, 25.88batch/s]"
     ]
    },
    {
     "name": "stdout",
     "output_type": "stream",
     "text": [
      "[Epoch 43] Train Loss: 0.138736 - Test Loss: 0.348101 - Train Accuracy: 95.09% - Test Accuracy: 90.02%\n"
     ]
    },
    {
     "name": "stderr",
     "output_type": "stream",
     "text": [
      "\n",
      "Epoch 43: 100%|██████████| 500/500 [00:56<00:00,  8.82batch/s]\n",
      "Test 43: 100%|██████████| 100/100 [00:03<00:00, 25.83batch/s]"
     ]
    },
    {
     "name": "stdout",
     "output_type": "stream",
     "text": [
      "[Epoch 44] Train Loss: 0.137865 - Test Loss: 0.421256 - Train Accuracy: 95.16% - Test Accuracy: 89.23%\n"
     ]
    },
    {
     "name": "stderr",
     "output_type": "stream",
     "text": [
      "\n",
      "Epoch 44: 100%|██████████| 500/500 [00:56<00:00,  8.82batch/s]\n",
      "Test 44: 100%|██████████| 100/100 [00:03<00:00, 25.86batch/s]"
     ]
    },
    {
     "name": "stdout",
     "output_type": "stream",
     "text": [
      "[Epoch 45] Train Loss: 0.132212 - Test Loss: 0.397111 - Train Accuracy: 95.32% - Test Accuracy: 89.49%\n"
     ]
    },
    {
     "name": "stderr",
     "output_type": "stream",
     "text": [
      "\n",
      "Epoch 45: 100%|██████████| 500/500 [00:56<00:00,  8.81batch/s]\n",
      "Test 45: 100%|██████████| 100/100 [00:03<00:00, 25.70batch/s]"
     ]
    },
    {
     "name": "stdout",
     "output_type": "stream",
     "text": [
      "[Epoch 46] Train Loss: 0.126800 - Test Loss: 0.353391 - Train Accuracy: 95.46% - Test Accuracy: 89.96%\n"
     ]
    },
    {
     "name": "stderr",
     "output_type": "stream",
     "text": [
      "\n",
      "Epoch 46: 100%|██████████| 500/500 [00:56<00:00,  8.78batch/s]\n",
      "Test 46: 100%|██████████| 100/100 [00:03<00:00, 25.79batch/s]"
     ]
    },
    {
     "name": "stdout",
     "output_type": "stream",
     "text": [
      "[Epoch 47] Train Loss: 0.125604 - Test Loss: 0.367166 - Train Accuracy: 95.69% - Test Accuracy: 90.27%\n"
     ]
    },
    {
     "name": "stderr",
     "output_type": "stream",
     "text": [
      "\n",
      "Epoch 47: 100%|██████████| 500/500 [00:57<00:00,  8.77batch/s]\n",
      "Test 47: 100%|██████████| 100/100 [00:03<00:00, 25.72batch/s]"
     ]
    },
    {
     "name": "stdout",
     "output_type": "stream",
     "text": [
      "[Epoch 48] Train Loss: 0.125946 - Test Loss: 0.373318 - Train Accuracy: 95.55% - Test Accuracy: 90.68%\n"
     ]
    },
    {
     "name": "stderr",
     "output_type": "stream",
     "text": [
      "\n",
      "Epoch 48: 100%|██████████| 500/500 [00:57<00:00,  8.74batch/s]\n",
      "Test 48: 100%|██████████| 100/100 [00:03<00:00, 25.69batch/s]"
     ]
    },
    {
     "name": "stdout",
     "output_type": "stream",
     "text": [
      "[Epoch 49] Train Loss: 0.082393 - Test Loss: 0.302939 - Train Accuracy: 97.17% - Test Accuracy: 91.81%\n"
     ]
    },
    {
     "name": "stderr",
     "output_type": "stream",
     "text": [
      "\n",
      "Epoch 49: 100%|██████████| 500/500 [00:57<00:00,  8.75batch/s]\n",
      "Test 49: 100%|██████████| 100/100 [00:03<00:00, 25.51batch/s]"
     ]
    },
    {
     "name": "stdout",
     "output_type": "stream",
     "text": [
      "[Epoch 50] Train Loss: 0.064292 - Test Loss: 0.313869 - Train Accuracy: 97.81% - Test Accuracy: 91.71%\n"
     ]
    },
    {
     "name": "stderr",
     "output_type": "stream",
     "text": [
      "\n",
      "Epoch 50: 100%|██████████| 500/500 [00:57<00:00,  8.72batch/s]\n",
      "Test 50: 100%|██████████| 100/100 [00:03<00:00, 25.63batch/s]"
     ]
    },
    {
     "name": "stdout",
     "output_type": "stream",
     "text": [
      "[Epoch 51] Train Loss: 0.057043 - Test Loss: 0.310925 - Train Accuracy: 98.12% - Test Accuracy: 91.96%\n"
     ]
    },
    {
     "name": "stderr",
     "output_type": "stream",
     "text": [
      "\n",
      "Epoch 51: 100%|██████████| 500/500 [00:56<00:00,  8.78batch/s]\n",
      "Test 51: 100%|██████████| 100/100 [00:03<00:00, 25.86batch/s]"
     ]
    },
    {
     "name": "stdout",
     "output_type": "stream",
     "text": [
      "[Epoch 52] Train Loss: 0.055275 - Test Loss: 0.308151 - Train Accuracy: 98.12% - Test Accuracy: 92.27%\n"
     ]
    },
    {
     "name": "stderr",
     "output_type": "stream",
     "text": [
      "\n",
      "Epoch 52: 100%|██████████| 500/500 [00:56<00:00,  8.81batch/s]\n",
      "Test 52: 100%|██████████| 100/100 [00:03<00:00, 25.96batch/s]"
     ]
    },
    {
     "name": "stdout",
     "output_type": "stream",
     "text": [
      "[Epoch 53] Train Loss: 0.053110 - Test Loss: 0.311471 - Train Accuracy: 98.13% - Test Accuracy: 92.29%\n"
     ]
    },
    {
     "name": "stderr",
     "output_type": "stream",
     "text": [
      "\n",
      "Epoch 53: 100%|██████████| 500/500 [00:56<00:00,  8.83batch/s]\n",
      "Test 53: 100%|██████████| 100/100 [00:03<00:00, 25.73batch/s]"
     ]
    },
    {
     "name": "stdout",
     "output_type": "stream",
     "text": [
      "[Epoch 54] Train Loss: 0.047458 - Test Loss: 0.326194 - Train Accuracy: 98.43% - Test Accuracy: 91.98%\n"
     ]
    },
    {
     "name": "stderr",
     "output_type": "stream",
     "text": [
      "\n",
      "Epoch 54: 100%|██████████| 500/500 [00:56<00:00,  8.79batch/s]\n",
      "Test 54: 100%|██████████| 100/100 [00:03<00:00, 25.73batch/s]"
     ]
    },
    {
     "name": "stdout",
     "output_type": "stream",
     "text": [
      "[Epoch 55] Train Loss: 0.049280 - Test Loss: 0.314334 - Train Accuracy: 98.30% - Test Accuracy: 92.40%\n"
     ]
    },
    {
     "name": "stderr",
     "output_type": "stream",
     "text": [
      "\n",
      "Epoch 55: 100%|██████████| 500/500 [00:57<00:00,  8.75batch/s]\n",
      "Test 55: 100%|██████████| 100/100 [00:03<00:00, 25.57batch/s]"
     ]
    },
    {
     "name": "stdout",
     "output_type": "stream",
     "text": [
      "[Epoch 56] Train Loss: 0.048233 - Test Loss: 0.323093 - Train Accuracy: 98.37% - Test Accuracy: 92.32%\n"
     ]
    },
    {
     "name": "stderr",
     "output_type": "stream",
     "text": [
      "\n",
      "Epoch 56: 100%|██████████| 500/500 [00:57<00:00,  8.73batch/s]\n",
      "Test 56: 100%|██████████| 100/100 [00:03<00:00, 25.64batch/s]"
     ]
    },
    {
     "name": "stdout",
     "output_type": "stream",
     "text": [
      "[Epoch 57] Train Loss: 0.043543 - Test Loss: 0.328444 - Train Accuracy: 98.50% - Test Accuracy: 92.12%\n"
     ]
    },
    {
     "name": "stderr",
     "output_type": "stream",
     "text": [
      "\n",
      "Epoch 57: 100%|██████████| 500/500 [00:57<00:00,  8.74batch/s]\n",
      "Test 57: 100%|██████████| 100/100 [00:03<00:00, 25.51batch/s]"
     ]
    },
    {
     "name": "stdout",
     "output_type": "stream",
     "text": [
      "[Epoch 58] Train Loss: 0.044293 - Test Loss: 0.327326 - Train Accuracy: 98.51% - Test Accuracy: 92.23%\n"
     ]
    },
    {
     "name": "stderr",
     "output_type": "stream",
     "text": [
      "\n",
      "Epoch 58: 100%|██████████| 500/500 [00:57<00:00,  8.73batch/s]\n",
      "Test 58: 100%|██████████| 100/100 [00:03<00:00, 25.65batch/s]"
     ]
    },
    {
     "name": "stdout",
     "output_type": "stream",
     "text": [
      "[Epoch 59] Train Loss: 0.043666 - Test Loss: 0.330431 - Train Accuracy: 98.51% - Test Accuracy: 92.35%\n"
     ]
    },
    {
     "name": "stderr",
     "output_type": "stream",
     "text": [
      "\n",
      "Epoch 59: 100%|██████████| 500/500 [00:57<00:00,  8.76batch/s]\n",
      "Test 59: 100%|██████████| 100/100 [00:03<00:00, 25.87batch/s]"
     ]
    },
    {
     "name": "stdout",
     "output_type": "stream",
     "text": [
      "[Epoch 60] Train Loss: 0.043783 - Test Loss: 0.330336 - Train Accuracy: 98.54% - Test Accuracy: 92.09%\n"
     ]
    },
    {
     "name": "stderr",
     "output_type": "stream",
     "text": [
      "\n",
      "Epoch 60: 100%|██████████| 500/500 [00:56<00:00,  8.81batch/s]\n",
      "Test 60: 100%|██████████| 100/100 [00:03<00:00, 25.93batch/s]"
     ]
    },
    {
     "name": "stdout",
     "output_type": "stream",
     "text": [
      "[Epoch 61] Train Loss: 0.039575 - Test Loss: 0.324666 - Train Accuracy: 98.70% - Test Accuracy: 92.33%\n"
     ]
    },
    {
     "name": "stderr",
     "output_type": "stream",
     "text": [
      "\n",
      "Epoch 61: 100%|██████████| 500/500 [00:56<00:00,  8.84batch/s]\n",
      "Test 61: 100%|██████████| 100/100 [00:03<00:00, 25.97batch/s]"
     ]
    },
    {
     "name": "stdout",
     "output_type": "stream",
     "text": [
      "[Epoch 62] Train Loss: 0.038066 - Test Loss: 0.323241 - Train Accuracy: 98.70% - Test Accuracy: 92.39%\n"
     ]
    },
    {
     "name": "stderr",
     "output_type": "stream",
     "text": [
      "\n",
      "Epoch 62: 100%|██████████| 500/500 [00:56<00:00,  8.81batch/s]\n",
      "Test 62: 100%|██████████| 100/100 [00:03<00:00, 25.67batch/s]"
     ]
    },
    {
     "name": "stdout",
     "output_type": "stream",
     "text": [
      "[Epoch 63] Train Loss: 0.039261 - Test Loss: 0.330137 - Train Accuracy: 98.64% - Test Accuracy: 92.32%\n"
     ]
    },
    {
     "name": "stderr",
     "output_type": "stream",
     "text": [
      "\n",
      "Epoch 63: 100%|██████████| 500/500 [00:57<00:00,  8.77batch/s]\n",
      "Test 63: 100%|██████████| 100/100 [00:03<00:00, 25.59batch/s]"
     ]
    },
    {
     "name": "stdout",
     "output_type": "stream",
     "text": [
      "[Epoch 64] Train Loss: 0.036645 - Test Loss: 0.326233 - Train Accuracy: 98.80% - Test Accuracy: 92.35%\n"
     ]
    },
    {
     "name": "stderr",
     "output_type": "stream",
     "text": [
      "\n",
      "Epoch 64: 100%|██████████| 500/500 [00:57<00:00,  8.74batch/s]\n",
      "Test 64: 100%|██████████| 100/100 [00:03<00:00, 25.68batch/s]"
     ]
    },
    {
     "name": "stdout",
     "output_type": "stream",
     "text": [
      "[Epoch 65] Train Loss: 0.038032 - Test Loss: 0.327261 - Train Accuracy: 98.75% - Test Accuracy: 92.35%\n"
     ]
    },
    {
     "name": "stderr",
     "output_type": "stream",
     "text": [
      "\n",
      "Epoch 65: 100%|██████████| 500/500 [00:57<00:00,  8.73batch/s]\n",
      "Test 65: 100%|██████████| 100/100 [00:03<00:00, 25.71batch/s]\n"
     ]
    },
    {
     "name": "stdout",
     "output_type": "stream",
     "text": [
      "[Epoch 66] Train Loss: 0.040047 - Test Loss: 0.321430 - Train Accuracy: 98.69% - Test Accuracy: 92.41%\n"
     ]
    },
    {
     "name": "stderr",
     "output_type": "stream",
     "text": [
      "Epoch 66: 100%|██████████| 500/500 [00:57<00:00,  8.74batch/s]\n",
      "Test 66: 100%|██████████| 100/100 [00:03<00:00, 25.61batch/s]"
     ]
    },
    {
     "name": "stdout",
     "output_type": "stream",
     "text": [
      "[Epoch 67] Train Loss: 0.038222 - Test Loss: 0.326983 - Train Accuracy: 98.74% - Test Accuracy: 92.32%\n"
     ]
    },
    {
     "name": "stderr",
     "output_type": "stream",
     "text": [
      "\n",
      "Epoch 67: 100%|██████████| 500/500 [00:57<00:00,  8.75batch/s]\n",
      "Test 67: 100%|██████████| 100/100 [00:03<00:00, 25.79batch/s]"
     ]
    },
    {
     "name": "stdout",
     "output_type": "stream",
     "text": [
      "[Epoch 68] Train Loss: 0.037521 - Test Loss: 0.324659 - Train Accuracy: 98.75% - Test Accuracy: 92.39%\n"
     ]
    },
    {
     "name": "stderr",
     "output_type": "stream",
     "text": [
      "\n",
      "Epoch 68: 100%|██████████| 500/500 [00:56<00:00,  8.78batch/s]\n",
      "Test 68: 100%|██████████| 100/100 [00:03<00:00, 25.82batch/s]"
     ]
    },
    {
     "name": "stdout",
     "output_type": "stream",
     "text": [
      "[Epoch 69] Train Loss: 0.037739 - Test Loss: 0.330488 - Train Accuracy: 98.72% - Test Accuracy: 92.26%\n"
     ]
    },
    {
     "name": "stderr",
     "output_type": "stream",
     "text": [
      "\n",
      "Epoch 69: 100%|██████████| 500/500 [00:57<00:00,  8.77batch/s]\n",
      "Test 69: 100%|██████████| 100/100 [00:03<00:00, 25.67batch/s]"
     ]
    },
    {
     "name": "stdout",
     "output_type": "stream",
     "text": [
      "[Epoch 70] Train Loss: 0.038468 - Test Loss: 0.331735 - Train Accuracy: 98.71% - Test Accuracy: 92.37%\n"
     ]
    },
    {
     "name": "stderr",
     "output_type": "stream",
     "text": [
      "\n",
      "Epoch 70: 100%|██████████| 500/500 [00:57<00:00,  8.76batch/s]\n",
      "Test 70: 100%|██████████| 100/100 [00:03<00:00, 25.74batch/s]"
     ]
    },
    {
     "name": "stdout",
     "output_type": "stream",
     "text": [
      "[Epoch 71] Train Loss: 0.036620 - Test Loss: 0.331241 - Train Accuracy: 98.77% - Test Accuracy: 92.34%\n"
     ]
    },
    {
     "name": "stderr",
     "output_type": "stream",
     "text": [
      "\n",
      "Epoch 71: 100%|██████████| 500/500 [00:57<00:00,  8.73batch/s]\n",
      "Test 71: 100%|██████████| 100/100 [00:03<00:00, 25.65batch/s]"
     ]
    },
    {
     "name": "stdout",
     "output_type": "stream",
     "text": [
      "[Epoch 72] Train Loss: 0.038937 - Test Loss: 0.331135 - Train Accuracy: 98.75% - Test Accuracy: 92.35%\n"
     ]
    },
    {
     "name": "stderr",
     "output_type": "stream",
     "text": [
      "\n",
      "Epoch 72: 100%|██████████| 500/500 [00:57<00:00,  8.74batch/s]\n",
      "Test 72: 100%|██████████| 100/100 [00:03<00:00, 25.64batch/s]"
     ]
    },
    {
     "name": "stdout",
     "output_type": "stream",
     "text": [
      "[Epoch 73] Train Loss: 0.037737 - Test Loss: 0.326639 - Train Accuracy: 98.76% - Test Accuracy: 92.41%\n"
     ]
    },
    {
     "name": "stderr",
     "output_type": "stream",
     "text": [
      "\n",
      "Epoch 73: 100%|██████████| 500/500 [00:57<00:00,  8.73batch/s]\n",
      "Test 73: 100%|██████████| 100/100 [00:03<00:00, 25.69batch/s]"
     ]
    },
    {
     "name": "stdout",
     "output_type": "stream",
     "text": [
      "[Epoch 74] Train Loss: 0.035292 - Test Loss: 0.327035 - Train Accuracy: 98.78% - Test Accuracy: 92.39%\n"
     ]
    },
    {
     "name": "stderr",
     "output_type": "stream",
     "text": [
      "\n",
      "Epoch 74: 100%|██████████| 500/500 [00:57<00:00,  8.73batch/s]\n",
      "Test 74: 100%|██████████| 100/100 [00:03<00:00, 25.62batch/s]"
     ]
    },
    {
     "name": "stdout",
     "output_type": "stream",
     "text": [
      "[Epoch 75] Train Loss: 0.034866 - Test Loss: 0.328257 - Train Accuracy: 98.83% - Test Accuracy: 92.38%\n"
     ]
    },
    {
     "name": "stderr",
     "output_type": "stream",
     "text": [
      "\n",
      "Epoch 75: 100%|██████████| 500/500 [00:57<00:00,  8.72batch/s]\n",
      "Test 75: 100%|██████████| 100/100 [00:03<00:00, 25.53batch/s]"
     ]
    },
    {
     "name": "stdout",
     "output_type": "stream",
     "text": [
      "[Epoch 76] Train Loss: 0.036752 - Test Loss: 0.323290 - Train Accuracy: 98.78% - Test Accuracy: 92.60%\n"
     ]
    },
    {
     "name": "stderr",
     "output_type": "stream",
     "text": [
      "\n",
      "Epoch 76: 100%|██████████| 500/500 [00:57<00:00,  8.74batch/s]\n",
      "Test 76: 100%|██████████| 100/100 [00:03<00:00, 25.81batch/s]"
     ]
    },
    {
     "name": "stdout",
     "output_type": "stream",
     "text": [
      "[Epoch 77] Train Loss: 0.033370 - Test Loss: 0.328092 - Train Accuracy: 98.86% - Test Accuracy: 92.36%\n"
     ]
    },
    {
     "name": "stderr",
     "output_type": "stream",
     "text": [
      "\n",
      "Epoch 77: 100%|██████████| 500/500 [00:56<00:00,  8.80batch/s]\n",
      "Test 77: 100%|██████████| 100/100 [00:03<00:00, 25.98batch/s]"
     ]
    },
    {
     "name": "stdout",
     "output_type": "stream",
     "text": [
      "[Epoch 78] Train Loss: 0.033980 - Test Loss: 0.332675 - Train Accuracy: 98.83% - Test Accuracy: 92.39%\n"
     ]
    },
    {
     "name": "stderr",
     "output_type": "stream",
     "text": [
      "\n",
      "Epoch 78: 100%|██████████| 500/500 [00:56<00:00,  8.85batch/s]\n",
      "Test 78: 100%|██████████| 100/100 [00:03<00:00, 25.90batch/s]"
     ]
    },
    {
     "name": "stdout",
     "output_type": "stream",
     "text": [
      "[Epoch 79] Train Loss: 0.036557 - Test Loss: 0.331015 - Train Accuracy: 98.77% - Test Accuracy: 92.40%\n"
     ]
    },
    {
     "name": "stderr",
     "output_type": "stream",
     "text": [
      "\n",
      "Epoch 79: 100%|██████████| 500/500 [00:56<00:00,  8.85batch/s]\n",
      "Test 79: 100%|██████████| 100/100 [00:03<00:00, 25.90batch/s]"
     ]
    },
    {
     "name": "stdout",
     "output_type": "stream",
     "text": [
      "[Epoch 80] Train Loss: 0.036343 - Test Loss: 0.328020 - Train Accuracy: 98.78% - Test Accuracy: 92.60%\n"
     ]
    },
    {
     "name": "stderr",
     "output_type": "stream",
     "text": [
      "\n",
      "Epoch 80: 100%|██████████| 500/500 [00:56<00:00,  8.81batch/s]\n",
      "Test 80: 100%|██████████| 100/100 [00:03<00:00, 25.76batch/s]"
     ]
    },
    {
     "name": "stdout",
     "output_type": "stream",
     "text": [
      "[Epoch 81] Train Loss: 0.033553 - Test Loss: 0.331366 - Train Accuracy: 98.86% - Test Accuracy: 92.36%\n"
     ]
    },
    {
     "name": "stderr",
     "output_type": "stream",
     "text": [
      "\n",
      "Epoch 81: 100%|██████████| 500/500 [00:56<00:00,  8.79batch/s]\n",
      "Test 81: 100%|██████████| 100/100 [00:03<00:00, 25.63batch/s]"
     ]
    },
    {
     "name": "stdout",
     "output_type": "stream",
     "text": [
      "[Epoch 82] Train Loss: 0.034334 - Test Loss: 0.327709 - Train Accuracy: 98.84% - Test Accuracy: 92.64%\n"
     ]
    },
    {
     "name": "stderr",
     "output_type": "stream",
     "text": [
      "\n",
      "Epoch 82: 100%|██████████| 500/500 [00:56<00:00,  8.78batch/s]\n",
      "Test 82: 100%|██████████| 100/100 [00:03<00:00, 25.63batch/s]"
     ]
    },
    {
     "name": "stdout",
     "output_type": "stream",
     "text": [
      "[Epoch 83] Train Loss: 0.033171 - Test Loss: 0.331387 - Train Accuracy: 98.87% - Test Accuracy: 92.51%\n"
     ]
    },
    {
     "name": "stderr",
     "output_type": "stream",
     "text": [
      "\n",
      "Epoch 83: 100%|██████████| 500/500 [00:57<00:00,  8.75batch/s]\n",
      "Test 83: 100%|██████████| 100/100 [00:03<00:00, 25.76batch/s]"
     ]
    },
    {
     "name": "stdout",
     "output_type": "stream",
     "text": [
      "[Epoch 84] Train Loss: 0.033656 - Test Loss: 0.329891 - Train Accuracy: 98.93% - Test Accuracy: 92.37%\n"
     ]
    },
    {
     "name": "stderr",
     "output_type": "stream",
     "text": [
      "\n",
      "Epoch 84: 100%|██████████| 500/500 [00:57<00:00,  8.74batch/s]\n",
      "Test 84: 100%|██████████| 100/100 [00:03<00:00, 25.59batch/s]"
     ]
    },
    {
     "name": "stdout",
     "output_type": "stream",
     "text": [
      "[Epoch 85] Train Loss: 0.034563 - Test Loss: 0.329655 - Train Accuracy: 98.81% - Test Accuracy: 92.50%\n"
     ]
    },
    {
     "name": "stderr",
     "output_type": "stream",
     "text": [
      "\n",
      "Epoch 85: 100%|██████████| 500/500 [00:57<00:00,  8.74batch/s]\n",
      "Test 85: 100%|██████████| 100/100 [00:03<00:00, 25.69batch/s]"
     ]
    },
    {
     "name": "stdout",
     "output_type": "stream",
     "text": [
      "[Epoch 86] Train Loss: 0.033910 - Test Loss: 0.330444 - Train Accuracy: 98.85% - Test Accuracy: 92.49%\n"
     ]
    },
    {
     "name": "stderr",
     "output_type": "stream",
     "text": [
      "\n",
      "Epoch 86: 100%|██████████| 500/500 [00:57<00:00,  8.74batch/s]\n",
      "Test 86: 100%|██████████| 100/100 [00:03<00:00, 25.60batch/s]"
     ]
    },
    {
     "name": "stdout",
     "output_type": "stream",
     "text": [
      "[Epoch 87] Train Loss: 0.034104 - Test Loss: 0.327386 - Train Accuracy: 98.87% - Test Accuracy: 92.56%\n"
     ]
    },
    {
     "name": "stderr",
     "output_type": "stream",
     "text": [
      "\n",
      "Epoch 87: 100%|██████████| 500/500 [00:57<00:00,  8.73batch/s]\n",
      "Test 87: 100%|██████████| 100/100 [00:03<00:00, 25.63batch/s]"
     ]
    },
    {
     "name": "stdout",
     "output_type": "stream",
     "text": [
      "[Epoch 88] Train Loss: 0.033003 - Test Loss: 0.331147 - Train Accuracy: 98.93% - Test Accuracy: 92.38%\n"
     ]
    },
    {
     "name": "stderr",
     "output_type": "stream",
     "text": [
      "\n",
      "Epoch 88: 100%|██████████| 500/500 [00:57<00:00,  8.72batch/s]\n",
      "Test 88: 100%|██████████| 100/100 [00:03<00:00, 25.60batch/s]"
     ]
    },
    {
     "name": "stdout",
     "output_type": "stream",
     "text": [
      "[Epoch 89] Train Loss: 0.034854 - Test Loss: 0.326389 - Train Accuracy: 98.86% - Test Accuracy: 92.51%\n"
     ]
    },
    {
     "name": "stderr",
     "output_type": "stream",
     "text": [
      "\n",
      "Epoch 89: 100%|██████████| 500/500 [00:57<00:00,  8.74batch/s]\n",
      "Test 89: 100%|██████████| 100/100 [00:03<00:00, 25.56batch/s]"
     ]
    },
    {
     "name": "stdout",
     "output_type": "stream",
     "text": [
      "[Epoch 90] Train Loss: 0.034381 - Test Loss: 0.330557 - Train Accuracy: 98.88% - Test Accuracy: 92.50%\n"
     ]
    },
    {
     "name": "stderr",
     "output_type": "stream",
     "text": [
      "\n",
      "Epoch 90: 100%|██████████| 500/500 [00:56<00:00,  8.78batch/s]\n",
      "Test 90: 100%|██████████| 100/100 [00:03<00:00, 25.56batch/s]"
     ]
    },
    {
     "name": "stdout",
     "output_type": "stream",
     "text": [
      "[Epoch 91] Train Loss: 0.034628 - Test Loss: 0.334521 - Train Accuracy: 98.85% - Test Accuracy: 92.46%\n"
     ]
    },
    {
     "name": "stderr",
     "output_type": "stream",
     "text": [
      "\n",
      "Epoch 91: 100%|██████████| 500/500 [00:57<00:00,  8.74batch/s]\n",
      "Test 91: 100%|██████████| 100/100 [00:03<00:00, 25.66batch/s]"
     ]
    },
    {
     "name": "stdout",
     "output_type": "stream",
     "text": [
      "[Epoch 92] Train Loss: 0.033403 - Test Loss: 0.334385 - Train Accuracy: 98.88% - Test Accuracy: 92.45%\n"
     ]
    },
    {
     "name": "stderr",
     "output_type": "stream",
     "text": [
      "\n",
      "Epoch 92: 100%|██████████| 500/500 [00:57<00:00,  8.72batch/s]\n",
      "Test 92: 100%|██████████| 100/100 [00:03<00:00, 25.61batch/s]"
     ]
    },
    {
     "name": "stdout",
     "output_type": "stream",
     "text": [
      "[Epoch 93] Train Loss: 0.034665 - Test Loss: 0.332516 - Train Accuracy: 98.88% - Test Accuracy: 92.46%\n"
     ]
    },
    {
     "name": "stderr",
     "output_type": "stream",
     "text": [
      "\n",
      "Epoch 93: 100%|██████████| 500/500 [00:57<00:00,  8.73batch/s]\n",
      "Test 93: 100%|██████████| 100/100 [00:03<00:00, 25.78batch/s]"
     ]
    },
    {
     "name": "stdout",
     "output_type": "stream",
     "text": [
      "[Epoch 94] Train Loss: 0.033008 - Test Loss: 0.331308 - Train Accuracy: 98.89% - Test Accuracy: 92.52%\n"
     ]
    },
    {
     "name": "stderr",
     "output_type": "stream",
     "text": [
      "\n",
      "Epoch 94: 100%|██████████| 500/500 [00:56<00:00,  8.83batch/s]\n",
      "Test 94: 100%|██████████| 100/100 [00:03<00:00, 26.03batch/s]"
     ]
    },
    {
     "name": "stdout",
     "output_type": "stream",
     "text": [
      "[Epoch 95] Train Loss: 0.033750 - Test Loss: 0.332049 - Train Accuracy: 98.88% - Test Accuracy: 92.53%\n"
     ]
    },
    {
     "name": "stderr",
     "output_type": "stream",
     "text": [
      "\n",
      "Epoch 95: 100%|██████████| 500/500 [00:56<00:00,  8.85batch/s]\n",
      "Test 95: 100%|██████████| 100/100 [00:03<00:00, 25.83batch/s]"
     ]
    },
    {
     "name": "stdout",
     "output_type": "stream",
     "text": [
      "[Epoch 96] Train Loss: 0.033840 - Test Loss: 0.331033 - Train Accuracy: 98.82% - Test Accuracy: 92.56%\n"
     ]
    },
    {
     "name": "stderr",
     "output_type": "stream",
     "text": [
      "\n",
      "Epoch 96: 100%|██████████| 500/500 [00:56<00:00,  8.78batch/s]\n",
      "Test 96: 100%|██████████| 100/100 [00:03<00:00, 25.73batch/s]"
     ]
    },
    {
     "name": "stdout",
     "output_type": "stream",
     "text": [
      "[Epoch 97] Train Loss: 0.031743 - Test Loss: 0.335023 - Train Accuracy: 98.99% - Test Accuracy: 92.40%\n"
     ]
    },
    {
     "name": "stderr",
     "output_type": "stream",
     "text": [
      "\n",
      "Epoch 97: 100%|██████████| 500/500 [00:57<00:00,  8.75batch/s]\n",
      "Test 97: 100%|██████████| 100/100 [00:03<00:00, 25.67batch/s]"
     ]
    },
    {
     "name": "stdout",
     "output_type": "stream",
     "text": [
      "[Epoch 98] Train Loss: 0.031981 - Test Loss: 0.329166 - Train Accuracy: 98.94% - Test Accuracy: 92.54%\n"
     ]
    },
    {
     "name": "stderr",
     "output_type": "stream",
     "text": [
      "\n",
      "Epoch 98: 100%|██████████| 500/500 [00:57<00:00,  8.73batch/s]\n",
      "Test 98: 100%|██████████| 100/100 [00:03<00:00, 25.58batch/s]"
     ]
    },
    {
     "name": "stdout",
     "output_type": "stream",
     "text": [
      "[Epoch 99] Train Loss: 0.032931 - Test Loss: 0.333503 - Train Accuracy: 98.90% - Test Accuracy: 92.50%\n"
     ]
    },
    {
     "name": "stderr",
     "output_type": "stream",
     "text": [
      "\n",
      "Epoch 99: 100%|██████████| 500/500 [00:57<00:00,  8.72batch/s]\n",
      "Test 99: 100%|██████████| 100/100 [00:03<00:00, 25.74batch/s]"
     ]
    },
    {
     "name": "stdout",
     "output_type": "stream",
     "text": [
      "[Epoch 100] Train Loss: 0.032163 - Test Loss: 0.340072 - Train Accuracy: 98.87% - Test Accuracy: 92.44%\n",
      "\n",
      "BEST TEST ACCURACY:  92.64  in epoch  81\n"
     ]
    },
    {
     "name": "stderr",
     "output_type": "stream",
     "text": [
      "\n"
     ]
    }
   ],
   "source": [
    "net.to(device)\n",
    "\n",
    "print(\"\\n---- Start Training ----\")\n",
    "best_accuracy = -1\n",
    "best_epoch = 0\n",
    "for epoch in range(epochs):\n",
    "\n",
    "    train_loss, train_correct = 0, 0\n",
    "    net.train()\n",
    "    with tqdm(iter(train_dataloader), desc=\"Epoch \" + str(epoch), unit=\"batch\") as tepoch:\n",
    "        for batch in tepoch:\n",
    "            \n",
    "            images = batch[\"img\"].to(device)\n",
    "            labels = batch[\"label\"].to(device)\n",
    "\n",
    "            optimizer.zero_grad()\n",
    "\n",
    "            outputs = net(images)\n",
    "            loss = criterion(outputs, labels)\n",
    "\n",
    "            loss.backward()\n",
    "\n",
    "            optimizer.step()\n",
    "\n",
    "            labels = torch.argmax(labels, dim=1)\n",
    "            pred = torch.argmax(outputs, dim=1)\n",
    "            train_correct += pred.eq(labels).sum().item()\n",
    "\n",
    "            train_loss += loss.item()\n",
    "\n",
    "    train_loss /= (len(train_dataloader.dataset) / batch_size)\n",
    "\n",
    "    test_loss, test_correct = 0, 0\n",
    "    net.eval()\n",
    "    with torch.no_grad():\n",
    "      with tqdm(iter(test_dataloader), desc=\"Test \" + str(epoch), unit=\"batch\") as tepoch:\n",
    "          for batch in tepoch:\n",
    "\n",
    "            images = batch[\"img\"].to(device)\n",
    "            labels = batch[\"label\"].to(device)\n",
    "\n",
    "            outputs = net(images)\n",
    "            test_loss += criterion(outputs, labels)\n",
    "\n",
    "            labels = torch.argmax(labels, dim=1)\n",
    "            pred = torch.argmax(outputs, dim=1)\n",
    "\n",
    "            test_correct += pred.eq(labels).sum().item()\n",
    "\n",
    "    lr_scheduler.step(test_loss)\n",
    "\n",
    "    test_loss /= (len(test_dataloader.dataset) / batch_size)\n",
    "    test_accuracy = 100. * test_correct / len(test_dataloader.dataset)\n",
    "\n",
    "    print(\"[Epoch {}] Train Loss: {:.6f} - Test Loss: {:.6f} - Train Accuracy: {:.2f}% - Test Accuracy: {:.2f}%\".format(\n",
    "        epoch + 1, train_loss, test_loss, 100. * train_correct / len(train_dataloader.dataset), test_accuracy\n",
    "    ))\n",
    "\n",
    "    if test_accuracy > best_accuracy:\n",
    "        best_accuracy = test_accuracy\n",
    "        best_epoch = epoch\n",
    "\n",
    "        torch.save(net.state_dict(), \"best_model_cifar_resnet_final.pt\")\n",
    "\n",
    "print(\"\\nBEST TEST ACCURACY: \", best_accuracy, \" in epoch \", best_epoch)"
   ]
  },
  {
   "cell_type": "markdown",
   "metadata": {},
   "source": [
    "### **Mejor Modelo**"
   ]
  },
  {
   "cell_type": "code",
   "execution_count": 12,
   "metadata": {
    "execution": {
     "iopub.execute_input": "2025-01-27T02:22:58.936494Z",
     "iopub.status.busy": "2025-01-27T02:22:58.936182Z",
     "iopub.status.idle": "2025-01-27T02:23:02.930435Z",
     "shell.execute_reply": "2025-01-27T02:23:02.929277Z",
     "shell.execute_reply.started": "2025-01-27T02:22:58.936470Z"
    },
    "trusted": true
   },
   "outputs": [
    {
     "name": "stderr",
     "output_type": "stream",
     "text": [
      "<ipython-input-12-5bfb3f59f9c4>:1: FutureWarning: You are using `torch.load` with `weights_only=False` (the current default value), which uses the default pickle module implicitly. It is possible to construct malicious pickle data which will execute arbitrary code during unpickling (See https://github.com/pytorch/pytorch/blob/main/SECURITY.md#untrusted-models for more details). In a future release, the default value for `weights_only` will be flipped to `True`. This limits the functions that could be executed during unpickling. Arbitrary objects will no longer be allowed to be loaded via this mode unless they are explicitly allowlisted by the user via `torch.serialization.add_safe_globals`. We recommend you start setting `weights_only=True` for any use case where you don't have full control of the loaded file. Please open an issue on GitHub for any issues related to this experimental feature.\n",
      "  net.load_state_dict(torch.load(\"best_model_cifar_resnet_final.pt\"))\n",
      "Test 99: 100%|██████████| 100/100 [00:03<00:00, 25.72batch/s]"
     ]
    },
    {
     "name": "stdout",
     "output_type": "stream",
     "text": [
      "Final best acc:  92.64\n"
     ]
    },
    {
     "name": "stderr",
     "output_type": "stream",
     "text": [
      "\n"
     ]
    }
   ],
   "source": [
    "net.load_state_dict(torch.load(\"best_model_cifar_resnet_final.pt\"))\n",
    "\n",
    "test_loss, test_correct = 0, 0\n",
    "net.eval()\n",
    "with torch.no_grad():\n",
    "    with tqdm(iter(test_dataloader), desc=\"Test \" + str(epoch), unit=\"batch\") as tepoch:\n",
    "        for batch in tepoch:\n",
    "\n",
    "            images = batch[\"img\"].to(device)\n",
    "            labels = batch[\"label\"].to(device)\n",
    "\n",
    "            # Forward\n",
    "            outputs = net(images)\n",
    "            test_loss += criterion(outputs, labels)\n",
    "\n",
    "            # one hot -> labels\n",
    "            labels = torch.argmax(labels, dim=1)\n",
    "            pred = torch.argmax(outputs, dim=1)\n",
    "\n",
    "            test_correct += pred.eq(labels).sum().item()\n",
    "\n",
    "    test_loss /= len(test_dataloader.dataset)\n",
    "    test_accuracy = 100. * test_correct / len(test_dataloader.dataset)\n",
    "print(\"Final best acc: \", test_accuracy)"
   ]
  }
 ],
 "metadata": {
  "kaggle": {
   "accelerator": "nvidiaTeslaT4",
   "dataSources": [],
   "dockerImageVersionId": 30840,
   "isGpuEnabled": true,
   "isInternetEnabled": true,
   "language": "python",
   "sourceType": "notebook"
  },
  "kernelspec": {
   "display_name": "Python 3",
   "language": "python",
   "name": "python3"
  },
  "language_info": {
   "codemirror_mode": {
    "name": "ipython",
    "version": 3
   },
   "file_extension": ".py",
   "mimetype": "text/x-python",
   "name": "python",
   "nbconvert_exporter": "python",
   "pygments_lexer": "ipython3",
   "version": "3.10.12"
  }
 },
 "nbformat": 4,
 "nbformat_minor": 4
}
