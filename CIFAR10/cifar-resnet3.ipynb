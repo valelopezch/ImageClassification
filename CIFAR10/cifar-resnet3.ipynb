{
 "cells": [
  {
   "cell_type": "markdown",
   "metadata": {},
   "source": [
    "<div style=\"text-align: right\"><b> Ana Valentina López Chacón </b></div>\n",
    "<div style=\"text-align: right\"><b> Redes Neuronales Artificiales, 2024 - 2025 </b></div>\n",
    "\n",
    "## **Práctica CIFAR: CNNs con Bloques ResNet**"
   ]
  },
  {
   "cell_type": "code",
   "execution_count": 1,
   "metadata": {
    "_cell_guid": "b1076dfc-b9ad-4769-8c92-a6c4dae69d19",
    "_uuid": "8f2839f25d086af736a60e9eeb907d3b93b6e0e5",
    "execution": {
     "iopub.execute_input": "2025-02-04T23:25:30.223553Z",
     "iopub.status.busy": "2025-02-04T23:25:30.223279Z",
     "iopub.status.idle": "2025-02-04T23:25:35.894522Z",
     "shell.execute_reply": "2025-02-04T23:25:35.893812Z",
     "shell.execute_reply.started": "2025-02-04T23:25:30.223532Z"
    },
    "trusted": true
   },
   "outputs": [
    {
     "name": "stdout",
     "output_type": "stream",
     "text": [
      "Torch version:  2.5.1+cu121\n",
      "Device:  cuda\n"
     ]
    }
   ],
   "source": [
    "import torch\n",
    "import torchvision\n",
    "import torch.nn as nn\n",
    "from tqdm import tqdm\n",
    "import multiprocessing\n",
    "import torch.optim as optim\n",
    "import torch.nn.functional as  F\n",
    "from torchvision import transforms\n",
    "from torch.utils.data import Dataset\n",
    "from torch.utils.data import DataLoader\n",
    "\n",
    "print(\"Torch version: \", torch. __version__)\n",
    "device = torch.device(\"cuda\" if torch.cuda.is_available() else \"cpu\")\n",
    "print(\"Device: \", device)"
   ]
  },
  {
   "cell_type": "code",
   "execution_count": 2,
   "metadata": {
    "execution": {
     "iopub.execute_input": "2025-02-04T23:25:35.896048Z",
     "iopub.status.busy": "2025-02-04T23:25:35.895600Z",
     "iopub.status.idle": "2025-02-04T23:25:35.905458Z",
     "shell.execute_reply": "2025-02-04T23:25:35.904764Z",
     "shell.execute_reply.started": "2025-02-04T23:25:35.896015Z"
    },
    "trusted": true
   },
   "outputs": [],
   "source": [
    "seed = 42\n",
    "torch.manual_seed(seed)\n",
    "\n",
    "if torch.cuda.is_available():\n",
    "    torch.cuda.manual_seed(seed)\n",
    "    torch.cuda.manual_seed_all(seed)\n",
    "    torch.backends.cudnn.deterministic = True\n",
    "    torch.backends.cudnn.benchmark = False"
   ]
  },
  {
   "cell_type": "code",
   "execution_count": 3,
   "metadata": {
    "execution": {
     "iopub.execute_input": "2025-02-04T23:25:35.907511Z",
     "iopub.status.busy": "2025-02-04T23:25:35.907286Z",
     "iopub.status.idle": "2025-02-04T23:25:35.914765Z",
     "shell.execute_reply": "2025-02-04T23:25:35.914098Z",
     "shell.execute_reply.started": "2025-02-04T23:25:35.907491Z"
    },
    "trusted": true
   },
   "outputs": [],
   "source": [
    "da_train = transforms.Compose([\n",
    "    transforms.RandomCrop(32, padding=4),\n",
    "    transforms.RandomHorizontalFlip(),\n",
    "    transforms.ColorJitter(brightness=0.2, contrast=0.2, saturation=0.2, hue=0.1),\n",
    "    transforms.RandomAffine(degrees=5, translate=(0.2, 0.2)),\n",
    "    transforms.ToTensor()\n",
    "])\n",
    "\n",
    "da_test = transforms.Compose([\n",
    "    transforms.ToTensor(),\n",
    "])"
   ]
  },
  {
   "cell_type": "markdown",
   "metadata": {},
   "source": [
    "### **Cargar los Datos**"
   ]
  },
  {
   "cell_type": "code",
   "execution_count": 4,
   "metadata": {
    "execution": {
     "iopub.execute_input": "2025-02-04T23:25:35.916008Z",
     "iopub.status.busy": "2025-02-04T23:25:35.915799Z",
     "iopub.status.idle": "2025-02-04T23:25:42.154925Z",
     "shell.execute_reply": "2025-02-04T23:25:42.154185Z",
     "shell.execute_reply.started": "2025-02-04T23:25:35.915991Z"
    },
    "trusted": true
   },
   "outputs": [
    {
     "name": "stdout",
     "output_type": "stream",
     "text": [
      "\n",
      "Loading CIFAR10  train  Dataset...\n",
      "Downloading https://www.cs.toronto.edu/~kriz/cifar-10-python.tar.gz to .data/cifar-10-python.tar.gz\n"
     ]
    },
    {
     "name": "stderr",
     "output_type": "stream",
     "text": [
      "100%|██████████| 170M/170M [00:02<00:00, 58.4MB/s] \n"
     ]
    },
    {
     "name": "stdout",
     "output_type": "stream",
     "text": [
      "Extracting .data/cifar-10-python.tar.gz to .data/\n",
      "\tTotal Len.:  50000 \n",
      " --------------------------------------------------\n",
      "\n",
      "Loading CIFAR10  test  Dataset...\n",
      "Files already downloaded and verified\n",
      "\tTotal Len.:  10000 \n",
      " --------------------------------------------------\n"
     ]
    }
   ],
   "source": [
    "class CIFAR10_dataset(Dataset):\n",
    "\n",
    "    def __init__(self, transform, partition = \"train\"):\n",
    "\n",
    "        print(\"\\nLoading CIFAR10 \", partition, \" Dataset...\")\n",
    "        self.partition = partition\n",
    "        self.transform = transform\n",
    "        if self.partition == \"train\":\n",
    "            self.data = torchvision.datasets.CIFAR10('.data/', \n",
    "                                                     train=True,\n",
    "                                                     download=True)\n",
    "        else:\n",
    "            self.data = torchvision.datasets.CIFAR10('.data/', \n",
    "                                                     train=False,\n",
    "                                                     download=True)\n",
    "        print(\"\\tTotal Len.: \", len(self.data), \"\\n\", 50*\"-\")\n",
    "    \n",
    "    def __len__(self):\n",
    "        return len(self.data)\n",
    "\n",
    "    def __getitem__(self, idx):\n",
    "\n",
    "        # Image\n",
    "        image = self.data[idx][0]\n",
    "        image_tensor = self.transform(image)\n",
    "\n",
    "        # Label\n",
    "        label = torch.tensor(self.data[idx][1])\n",
    "        label = F.one_hot(label, num_classes=10).float()\n",
    "\n",
    "        return {\"img\": image_tensor, \"label\": label}\n",
    "\n",
    "train_dataset = CIFAR10_dataset(da_train, partition=\"train\")\n",
    "test_dataset = CIFAR10_dataset(da_test, partition=\"test\")"
   ]
  },
  {
   "cell_type": "code",
   "execution_count": 5,
   "metadata": {
    "execution": {
     "iopub.execute_input": "2025-02-04T23:25:42.156016Z",
     "iopub.status.busy": "2025-02-04T23:25:42.155727Z",
     "iopub.status.idle": "2025-02-04T23:25:42.161325Z",
     "shell.execute_reply": "2025-02-04T23:25:42.160539Z",
     "shell.execute_reply.started": "2025-02-04T23:25:42.155982Z"
    },
    "trusted": true
   },
   "outputs": [
    {
     "name": "stdout",
     "output_type": "stream",
     "text": [
      "Num workers 3\n"
     ]
    }
   ],
   "source": [
    "batch_size = 100\n",
    "num_workers = multiprocessing.cpu_count()-1\n",
    "print(\"Num workers\", num_workers)\n",
    "train_dataloader = DataLoader(train_dataset, batch_size, shuffle=True, num_workers=num_workers)\n",
    "test_dataloader = DataLoader(test_dataset, batch_size, shuffle=False, num_workers=num_workers)"
   ]
  },
  {
   "cell_type": "markdown",
   "metadata": {},
   "source": [
    "### **Creación de Red**"
   ]
  },
  {
   "cell_type": "code",
   "execution_count": 6,
   "metadata": {
    "execution": {
     "iopub.execute_input": "2025-02-04T23:25:42.162257Z",
     "iopub.status.busy": "2025-02-04T23:25:42.162002Z",
     "iopub.status.idle": "2025-02-04T23:25:42.176107Z",
     "shell.execute_reply": "2025-02-04T23:25:42.175356Z",
     "shell.execute_reply.started": "2025-02-04T23:25:42.162238Z"
    },
    "trusted": true
   },
   "outputs": [],
   "source": [
    "class ResNetBlock(nn.Module):\n",
    "    def __init__(self, in_channels, out_channels):\n",
    "        super(ResNetBlock, self).__init__()\n",
    "\n",
    "        self.conv1 = nn.Conv2d(in_channels, out_channels, kernel_size=3, padding='same')\n",
    "        self.bn1 = nn.BatchNorm2d(out_channels)\n",
    "        \n",
    "        self.conv2 = nn.Conv2d(out_channels, out_channels, kernel_size=3, padding='same')\n",
    "        self.bn2 = nn.BatchNorm2d(out_channels)\n",
    "        \n",
    "        self.conv_shortcut = nn.Conv2d(in_channels, out_channels, kernel_size=1, padding='same')\n",
    "        self.relu = nn.ReLU()\n",
    "\n",
    "    def forward(self, x):\n",
    "        previous_x = x\n",
    "\n",
    "        out = self.conv1(x)\n",
    "        out = self.bn1(out)\n",
    "        out = self.relu(out)\n",
    "\n",
    "        out = self.conv2(out)\n",
    "        out = self.bn2(out)\n",
    "\n",
    "        previous_x = self.conv_shortcut(previous_x)\n",
    "\n",
    "        out += previous_x\n",
    "        out = self.relu(out)\n",
    "\n",
    "        return out"
   ]
  },
  {
   "cell_type": "code",
   "execution_count": 7,
   "metadata": {
    "execution": {
     "iopub.execute_input": "2025-02-04T23:25:42.177259Z",
     "iopub.status.busy": "2025-02-04T23:25:42.176973Z",
     "iopub.status.idle": "2025-02-04T23:25:42.191849Z",
     "shell.execute_reply": "2025-02-04T23:25:42.190892Z",
     "shell.execute_reply.started": "2025-02-04T23:25:42.177226Z"
    },
    "trusted": true
   },
   "outputs": [],
   "source": [
    "class ResNetCNN(nn.Module):\n",
    "    def __init__(self, num_classes=10):\n",
    "        super(ResNetCNN, self).__init__()\n",
    "        \n",
    "        self.resnet_layers = nn.Sequential(\n",
    "            ResNetBlock(3, 32),\n",
    "            ResNetBlock(32, 64),\n",
    "            ResNetBlock(64, 128),\n",
    "            nn.MaxPool2d(kernel_size=4, stride=4),\n",
    "            ResNetBlock(128, 256),\n",
    "            ResNetBlock(256, 512),\n",
    "            nn.AvgPool2d(kernel_size=8, stride=8)\n",
    "        )\n",
    "\n",
    "        flatten_size = 512\n",
    "\n",
    "        self.fc1 = nn.Linear(flatten_size, 512)\n",
    "        self.fc2 = nn.Linear(512, num_classes)\n",
    "\n",
    "    def forward(self, x):\n",
    "        # x = self.conv_layers(x) \n",
    "        x = self.resnet_layers(x)  \n",
    "        x = torch.flatten(x, start_dim=1)  \n",
    "        x = F.relu(self.fc1(x))  \n",
    "        x = self.fc2(x)  \n",
    "        return x\n"
   ]
  },
  {
   "cell_type": "code",
   "execution_count": 8,
   "metadata": {
    "execution": {
     "iopub.execute_input": "2025-02-04T23:25:42.192799Z",
     "iopub.status.busy": "2025-02-04T23:25:42.192561Z",
     "iopub.status.idle": "2025-02-04T23:25:42.277065Z",
     "shell.execute_reply": "2025-02-04T23:25:42.276318Z",
     "shell.execute_reply.started": "2025-02-04T23:25:42.192779Z"
    },
    "trusted": true
   },
   "outputs": [
    {
     "name": "stdout",
     "output_type": "stream",
     "text": [
      "ResNetCNN(\n",
      "  (resnet_layers): Sequential(\n",
      "    (0): ResNetBlock(\n",
      "      (conv1): Conv2d(3, 32, kernel_size=(3, 3), stride=(1, 1), padding=same)\n",
      "      (bn1): BatchNorm2d(32, eps=1e-05, momentum=0.1, affine=True, track_running_stats=True)\n",
      "      (conv2): Conv2d(32, 32, kernel_size=(3, 3), stride=(1, 1), padding=same)\n",
      "      (bn2): BatchNorm2d(32, eps=1e-05, momentum=0.1, affine=True, track_running_stats=True)\n",
      "      (conv_shortcut): Conv2d(3, 32, kernel_size=(1, 1), stride=(1, 1), padding=same)\n",
      "      (relu): ReLU()\n",
      "    )\n",
      "    (1): ResNetBlock(\n",
      "      (conv1): Conv2d(32, 64, kernel_size=(3, 3), stride=(1, 1), padding=same)\n",
      "      (bn1): BatchNorm2d(64, eps=1e-05, momentum=0.1, affine=True, track_running_stats=True)\n",
      "      (conv2): Conv2d(64, 64, kernel_size=(3, 3), stride=(1, 1), padding=same)\n",
      "      (bn2): BatchNorm2d(64, eps=1e-05, momentum=0.1, affine=True, track_running_stats=True)\n",
      "      (conv_shortcut): Conv2d(32, 64, kernel_size=(1, 1), stride=(1, 1), padding=same)\n",
      "      (relu): ReLU()\n",
      "    )\n",
      "    (2): ResNetBlock(\n",
      "      (conv1): Conv2d(64, 128, kernel_size=(3, 3), stride=(1, 1), padding=same)\n",
      "      (bn1): BatchNorm2d(128, eps=1e-05, momentum=0.1, affine=True, track_running_stats=True)\n",
      "      (conv2): Conv2d(128, 128, kernel_size=(3, 3), stride=(1, 1), padding=same)\n",
      "      (bn2): BatchNorm2d(128, eps=1e-05, momentum=0.1, affine=True, track_running_stats=True)\n",
      "      (conv_shortcut): Conv2d(64, 128, kernel_size=(1, 1), stride=(1, 1), padding=same)\n",
      "      (relu): ReLU()\n",
      "    )\n",
      "    (3): MaxPool2d(kernel_size=4, stride=4, padding=0, dilation=1, ceil_mode=False)\n",
      "    (4): ResNetBlock(\n",
      "      (conv1): Conv2d(128, 256, kernel_size=(3, 3), stride=(1, 1), padding=same)\n",
      "      (bn1): BatchNorm2d(256, eps=1e-05, momentum=0.1, affine=True, track_running_stats=True)\n",
      "      (conv2): Conv2d(256, 256, kernel_size=(3, 3), stride=(1, 1), padding=same)\n",
      "      (bn2): BatchNorm2d(256, eps=1e-05, momentum=0.1, affine=True, track_running_stats=True)\n",
      "      (conv_shortcut): Conv2d(128, 256, kernel_size=(1, 1), stride=(1, 1), padding=same)\n",
      "      (relu): ReLU()\n",
      "    )\n",
      "    (5): ResNetBlock(\n",
      "      (conv1): Conv2d(256, 512, kernel_size=(3, 3), stride=(1, 1), padding=same)\n",
      "      (bn1): BatchNorm2d(512, eps=1e-05, momentum=0.1, affine=True, track_running_stats=True)\n",
      "      (conv2): Conv2d(512, 512, kernel_size=(3, 3), stride=(1, 1), padding=same)\n",
      "      (bn2): BatchNorm2d(512, eps=1e-05, momentum=0.1, affine=True, track_running_stats=True)\n",
      "      (conv_shortcut): Conv2d(256, 512, kernel_size=(1, 1), stride=(1, 1), padding=same)\n",
      "      (relu): ReLU()\n",
      "    )\n",
      "    (6): AvgPool2d(kernel_size=8, stride=8, padding=0)\n",
      "  )\n",
      "  (fc1): Linear(in_features=512, out_features=512, bias=True)\n",
      "  (fc2): Linear(in_features=512, out_features=10, bias=True)\n",
      ")\n",
      "Params:  5159146\n"
     ]
    }
   ],
   "source": [
    "num_classes = 10\n",
    "net = ResNetCNN(\n",
    "    num_classes\n",
    "    )\n",
    "print(net)\n",
    "\n",
    "def count_parameters(model):\n",
    "    return sum(p.numel() for p in model.parameters() if p.requires_grad)\n",
    "print(\"Params: \", count_parameters(net))"
   ]
  },
  {
   "cell_type": "code",
   "execution_count": 9,
   "metadata": {
    "execution": {
     "iopub.execute_input": "2025-02-04T23:25:42.279261Z",
     "iopub.status.busy": "2025-02-04T23:25:42.279062Z",
     "iopub.status.idle": "2025-02-04T23:25:42.283804Z",
     "shell.execute_reply": "2025-02-04T23:25:42.282867Z",
     "shell.execute_reply.started": "2025-02-04T23:25:42.279244Z"
    },
    "trusted": true
   },
   "outputs": [],
   "source": [
    "criterion = nn.CrossEntropyLoss()\n",
    "optimizer = optim.SGD(net.parameters(), lr=0.01, weight_decay=1e-6, momentum=0.9)\n",
    "lr_scheduler = optim.lr_scheduler.ReduceLROnPlateau(optimizer, factor=0.1, patience=10, min_lr=0.00001)\n",
    "epochs = 100"
   ]
  },
  {
   "cell_type": "markdown",
   "metadata": {},
   "source": [
    "### **Entrenamiento**"
   ]
  },
  {
   "cell_type": "code",
   "execution_count": 10,
   "metadata": {
    "execution": {
     "iopub.execute_input": "2025-02-04T23:25:42.285135Z",
     "iopub.status.busy": "2025-02-04T23:25:42.284850Z",
     "iopub.status.idle": "2025-02-05T00:37:43.387488Z",
     "shell.execute_reply": "2025-02-05T00:37:43.386402Z",
     "shell.execute_reply.started": "2025-02-04T23:25:42.285107Z"
    },
    "trusted": true
   },
   "outputs": [
    {
     "name": "stdout",
     "output_type": "stream",
     "text": [
      "\n",
      "---- Start Training ----\n"
     ]
    },
    {
     "name": "stderr",
     "output_type": "stream",
     "text": [
      "Epoch 0: 100%|██████████| 500/500 [00:39<00:00, 12.61batch/s]\n",
      "Test 0: 100%|██████████| 100/100 [00:02<00:00, 35.92batch/s]\n"
     ]
    },
    {
     "name": "stdout",
     "output_type": "stream",
     "text": [
      "[Epoch 1] Train Loss: 1.496805 - Test Loss: 1.787104 - Train Accuracy: 44.75% - Test Accuracy: 49.58%\n"
     ]
    },
    {
     "name": "stderr",
     "output_type": "stream",
     "text": [
      "Epoch 1: 100%|██████████| 500/500 [00:40<00:00, 12.35batch/s]\n",
      "Test 1: 100%|██████████| 100/100 [00:02<00:00, 35.72batch/s]\n"
     ]
    },
    {
     "name": "stdout",
     "output_type": "stream",
     "text": [
      "[Epoch 2] Train Loss: 1.000418 - Test Loss: 1.030508 - Train Accuracy: 64.43% - Test Accuracy: 67.97%\n"
     ]
    },
    {
     "name": "stderr",
     "output_type": "stream",
     "text": [
      "Epoch 2: 100%|██████████| 500/500 [00:40<00:00, 12.43batch/s]\n",
      "Test 2: 100%|██████████| 100/100 [00:02<00:00, 36.30batch/s]\n"
     ]
    },
    {
     "name": "stdout",
     "output_type": "stream",
     "text": [
      "[Epoch 3] Train Loss: 0.818896 - Test Loss: 0.937908 - Train Accuracy: 71.22% - Test Accuracy: 69.24%\n"
     ]
    },
    {
     "name": "stderr",
     "output_type": "stream",
     "text": [
      "Epoch 3: 100%|██████████| 500/500 [00:40<00:00, 12.40batch/s]\n",
      "Test 3: 100%|██████████| 100/100 [00:02<00:00, 35.58batch/s]\n"
     ]
    },
    {
     "name": "stdout",
     "output_type": "stream",
     "text": [
      "[Epoch 4] Train Loss: 0.716788 - Test Loss: 0.855567 - Train Accuracy: 75.00% - Test Accuracy: 71.74%\n"
     ]
    },
    {
     "name": "stderr",
     "output_type": "stream",
     "text": [
      "Epoch 4: 100%|██████████| 500/500 [00:40<00:00, 12.36batch/s]\n",
      "Test 4: 100%|██████████| 100/100 [00:02<00:00, 36.30batch/s]\n"
     ]
    },
    {
     "name": "stdout",
     "output_type": "stream",
     "text": [
      "[Epoch 5] Train Loss: 0.642201 - Test Loss: 0.713574 - Train Accuracy: 77.91% - Test Accuracy: 76.71%\n"
     ]
    },
    {
     "name": "stderr",
     "output_type": "stream",
     "text": [
      "Epoch 5: 100%|██████████| 500/500 [00:40<00:00, 12.45batch/s]\n",
      "Test 5: 100%|██████████| 100/100 [00:02<00:00, 36.33batch/s]\n"
     ]
    },
    {
     "name": "stdout",
     "output_type": "stream",
     "text": [
      "[Epoch 6] Train Loss: 0.582324 - Test Loss: 0.630564 - Train Accuracy: 79.56% - Test Accuracy: 79.30%\n"
     ]
    },
    {
     "name": "stderr",
     "output_type": "stream",
     "text": [
      "Epoch 6: 100%|██████████| 500/500 [00:40<00:00, 12.43batch/s]\n",
      "Test 6: 100%|██████████| 100/100 [00:02<00:00, 35.67batch/s]\n"
     ]
    },
    {
     "name": "stdout",
     "output_type": "stream",
     "text": [
      "[Epoch 7] Train Loss: 0.537572 - Test Loss: 0.603459 - Train Accuracy: 81.35% - Test Accuracy: 79.79%\n"
     ]
    },
    {
     "name": "stderr",
     "output_type": "stream",
     "text": [
      "Epoch 7: 100%|██████████| 500/500 [00:40<00:00, 12.37batch/s]\n",
      "Test 7: 100%|██████████| 100/100 [00:02<00:00, 36.10batch/s]\n"
     ]
    },
    {
     "name": "stdout",
     "output_type": "stream",
     "text": [
      "[Epoch 8] Train Loss: 0.503881 - Test Loss: 0.495586 - Train Accuracy: 82.50% - Test Accuracy: 83.08%\n"
     ]
    },
    {
     "name": "stderr",
     "output_type": "stream",
     "text": [
      "Epoch 8: 100%|██████████| 500/500 [00:40<00:00, 12.39batch/s]\n",
      "Test 8: 100%|██████████| 100/100 [00:02<00:00, 36.26batch/s]\n"
     ]
    },
    {
     "name": "stdout",
     "output_type": "stream",
     "text": [
      "[Epoch 9] Train Loss: 0.475619 - Test Loss: 0.489934 - Train Accuracy: 83.57% - Test Accuracy: 83.53%\n"
     ]
    },
    {
     "name": "stderr",
     "output_type": "stream",
     "text": [
      "Epoch 9: 100%|██████████| 500/500 [00:40<00:00, 12.38batch/s]\n",
      "Test 9: 100%|██████████| 100/100 [00:02<00:00, 36.22batch/s]\n"
     ]
    },
    {
     "name": "stdout",
     "output_type": "stream",
     "text": [
      "[Epoch 10] Train Loss: 0.444592 - Test Loss: 0.493128 - Train Accuracy: 84.50% - Test Accuracy: 84.50%\n"
     ]
    },
    {
     "name": "stderr",
     "output_type": "stream",
     "text": [
      "Epoch 10: 100%|██████████| 500/500 [00:40<00:00, 12.35batch/s]\n",
      "Test 10: 100%|██████████| 100/100 [00:02<00:00, 36.21batch/s]"
     ]
    },
    {
     "name": "stdout",
     "output_type": "stream",
     "text": [
      "[Epoch 11] Train Loss: 0.420612 - Test Loss: 0.494915 - Train Accuracy: 85.46% - Test Accuracy: 84.12%\n"
     ]
    },
    {
     "name": "stderr",
     "output_type": "stream",
     "text": [
      "\n",
      "Epoch 11: 100%|██████████| 500/500 [00:40<00:00, 12.34batch/s]\n",
      "Test 11: 100%|██████████| 100/100 [00:02<00:00, 35.81batch/s]\n"
     ]
    },
    {
     "name": "stdout",
     "output_type": "stream",
     "text": [
      "[Epoch 12] Train Loss: 0.401709 - Test Loss: 0.445613 - Train Accuracy: 86.14% - Test Accuracy: 84.81%\n"
     ]
    },
    {
     "name": "stderr",
     "output_type": "stream",
     "text": [
      "Epoch 12: 100%|██████████| 500/500 [00:40<00:00, 12.31batch/s]\n",
      "Test 12: 100%|██████████| 100/100 [00:02<00:00, 35.31batch/s]"
     ]
    },
    {
     "name": "stdout",
     "output_type": "stream",
     "text": [
      "[Epoch 13] Train Loss: 0.382904 - Test Loss: 0.508455 - Train Accuracy: 86.75% - Test Accuracy: 84.69%\n"
     ]
    },
    {
     "name": "stderr",
     "output_type": "stream",
     "text": [
      "\n",
      "Epoch 13: 100%|██████████| 500/500 [00:40<00:00, 12.31batch/s]\n",
      "Test 13: 100%|██████████| 100/100 [00:02<00:00, 35.81batch/s]\n"
     ]
    },
    {
     "name": "stdout",
     "output_type": "stream",
     "text": [
      "[Epoch 14] Train Loss: 0.363919 - Test Loss: 0.431652 - Train Accuracy: 87.25% - Test Accuracy: 85.68%\n"
     ]
    },
    {
     "name": "stderr",
     "output_type": "stream",
     "text": [
      "Epoch 14: 100%|██████████| 500/500 [00:40<00:00, 12.28batch/s]\n",
      "Test 14: 100%|██████████| 100/100 [00:02<00:00, 35.92batch/s]"
     ]
    },
    {
     "name": "stdout",
     "output_type": "stream",
     "text": [
      "[Epoch 15] Train Loss: 0.347389 - Test Loss: 0.444740 - Train Accuracy: 88.09% - Test Accuracy: 85.37%\n"
     ]
    },
    {
     "name": "stderr",
     "output_type": "stream",
     "text": [
      "\n",
      "Epoch 15: 100%|██████████| 500/500 [00:40<00:00, 12.39batch/s]\n",
      "Test 15: 100%|██████████| 100/100 [00:02<00:00, 36.15batch/s]\n"
     ]
    },
    {
     "name": "stdout",
     "output_type": "stream",
     "text": [
      "[Epoch 16] Train Loss: 0.333936 - Test Loss: 0.415344 - Train Accuracy: 88.34% - Test Accuracy: 86.67%\n"
     ]
    },
    {
     "name": "stderr",
     "output_type": "stream",
     "text": [
      "Epoch 16: 100%|██████████| 500/500 [00:40<00:00, 12.42batch/s]\n",
      "Test 16: 100%|██████████| 100/100 [00:02<00:00, 36.09batch/s]"
     ]
    },
    {
     "name": "stdout",
     "output_type": "stream",
     "text": [
      "[Epoch 17] Train Loss: 0.318538 - Test Loss: 0.421718 - Train Accuracy: 88.90% - Test Accuracy: 86.58%\n"
     ]
    },
    {
     "name": "stderr",
     "output_type": "stream",
     "text": [
      "\n",
      "Epoch 17: 100%|██████████| 500/500 [00:40<00:00, 12.41batch/s]\n",
      "Test 17: 100%|██████████| 100/100 [00:02<00:00, 36.05batch/s]\n"
     ]
    },
    {
     "name": "stdout",
     "output_type": "stream",
     "text": [
      "[Epoch 18] Train Loss: 0.309123 - Test Loss: 0.400918 - Train Accuracy: 89.16% - Test Accuracy: 87.13%\n"
     ]
    },
    {
     "name": "stderr",
     "output_type": "stream",
     "text": [
      "Epoch 18: 100%|██████████| 500/500 [00:40<00:00, 12.40batch/s]\n",
      "Test 18: 100%|██████████| 100/100 [00:02<00:00, 36.09batch/s]"
     ]
    },
    {
     "name": "stdout",
     "output_type": "stream",
     "text": [
      "[Epoch 19] Train Loss: 0.296557 - Test Loss: 0.431526 - Train Accuracy: 89.63% - Test Accuracy: 86.19%\n"
     ]
    },
    {
     "name": "stderr",
     "output_type": "stream",
     "text": [
      "\n",
      "Epoch 19: 100%|██████████| 500/500 [00:40<00:00, 12.37batch/s]\n",
      "Test 19: 100%|██████████| 100/100 [00:02<00:00, 36.14batch/s]"
     ]
    },
    {
     "name": "stdout",
     "output_type": "stream",
     "text": [
      "[Epoch 20] Train Loss: 0.282827 - Test Loss: 0.420988 - Train Accuracy: 90.21% - Test Accuracy: 86.84%\n"
     ]
    },
    {
     "name": "stderr",
     "output_type": "stream",
     "text": [
      "\n",
      "Epoch 20: 100%|██████████| 500/500 [00:40<00:00, 12.31batch/s]\n",
      "Test 20: 100%|██████████| 100/100 [00:02<00:00, 35.33batch/s]\n"
     ]
    },
    {
     "name": "stdout",
     "output_type": "stream",
     "text": [
      "[Epoch 21] Train Loss: 0.269409 - Test Loss: 0.402195 - Train Accuracy: 90.63% - Test Accuracy: 87.44%\n"
     ]
    },
    {
     "name": "stderr",
     "output_type": "stream",
     "text": [
      "Epoch 21: 100%|██████████| 500/500 [00:40<00:00, 12.30batch/s]\n",
      "Test 21: 100%|██████████| 100/100 [00:02<00:00, 35.67batch/s]\n"
     ]
    },
    {
     "name": "stdout",
     "output_type": "stream",
     "text": [
      "[Epoch 22] Train Loss: 0.262996 - Test Loss: 0.366288 - Train Accuracy: 90.81% - Test Accuracy: 88.40%\n"
     ]
    },
    {
     "name": "stderr",
     "output_type": "stream",
     "text": [
      "Epoch 22: 100%|██████████| 500/500 [00:40<00:00, 12.30batch/s]\n",
      "Test 22: 100%|██████████| 100/100 [00:02<00:00, 35.60batch/s]"
     ]
    },
    {
     "name": "stdout",
     "output_type": "stream",
     "text": [
      "[Epoch 23] Train Loss: 0.256652 - Test Loss: 0.402189 - Train Accuracy: 90.96% - Test Accuracy: 87.39%\n"
     ]
    },
    {
     "name": "stderr",
     "output_type": "stream",
     "text": [
      "\n",
      "Epoch 23: 100%|██████████| 500/500 [00:40<00:00, 12.31batch/s]\n",
      "Test 23: 100%|██████████| 100/100 [00:02<00:00, 36.32batch/s]"
     ]
    },
    {
     "name": "stdout",
     "output_type": "stream",
     "text": [
      "[Epoch 24] Train Loss: 0.246914 - Test Loss: 0.372447 - Train Accuracy: 91.30% - Test Accuracy: 88.30%\n"
     ]
    },
    {
     "name": "stderr",
     "output_type": "stream",
     "text": [
      "\n",
      "Epoch 24: 100%|██████████| 500/500 [00:40<00:00, 12.43batch/s]\n",
      "Test 24: 100%|██████████| 100/100 [00:02<00:00, 36.02batch/s]\n"
     ]
    },
    {
     "name": "stdout",
     "output_type": "stream",
     "text": [
      "[Epoch 25] Train Loss: 0.237170 - Test Loss: 0.340396 - Train Accuracy: 91.74% - Test Accuracy: 89.57%\n"
     ]
    },
    {
     "name": "stderr",
     "output_type": "stream",
     "text": [
      "Epoch 25: 100%|██████████| 500/500 [00:40<00:00, 12.42batch/s]\n",
      "Test 25: 100%|██████████| 100/100 [00:02<00:00, 36.36batch/s]"
     ]
    },
    {
     "name": "stdout",
     "output_type": "stream",
     "text": [
      "[Epoch 26] Train Loss: 0.233066 - Test Loss: 0.336184 - Train Accuracy: 91.82% - Test Accuracy: 89.45%\n"
     ]
    },
    {
     "name": "stderr",
     "output_type": "stream",
     "text": [
      "\n",
      "Epoch 26: 100%|██████████| 500/500 [00:40<00:00, 12.39batch/s]\n",
      "Test 26: 100%|██████████| 100/100 [00:02<00:00, 36.06batch/s]"
     ]
    },
    {
     "name": "stdout",
     "output_type": "stream",
     "text": [
      "[Epoch 27] Train Loss: 0.219471 - Test Loss: 0.449779 - Train Accuracy: 92.26% - Test Accuracy: 87.17%\n"
     ]
    },
    {
     "name": "stderr",
     "output_type": "stream",
     "text": [
      "\n",
      "Epoch 27: 100%|██████████| 500/500 [00:40<00:00, 12.38batch/s]\n",
      "Test 27: 100%|██████████| 100/100 [00:02<00:00, 35.88batch/s]"
     ]
    },
    {
     "name": "stdout",
     "output_type": "stream",
     "text": [
      "[Epoch 28] Train Loss: 0.214546 - Test Loss: 0.375936 - Train Accuracy: 92.54% - Test Accuracy: 88.93%\n"
     ]
    },
    {
     "name": "stderr",
     "output_type": "stream",
     "text": [
      "\n",
      "Epoch 28: 100%|██████████| 500/500 [00:40<00:00, 12.30batch/s]\n",
      "Test 28: 100%|██████████| 100/100 [00:02<00:00, 35.91batch/s]"
     ]
    },
    {
     "name": "stdout",
     "output_type": "stream",
     "text": [
      "[Epoch 29] Train Loss: 0.207692 - Test Loss: 0.409986 - Train Accuracy: 92.74% - Test Accuracy: 88.53%\n"
     ]
    },
    {
     "name": "stderr",
     "output_type": "stream",
     "text": [
      "\n",
      "Epoch 29: 100%|██████████| 500/500 [00:40<00:00, 12.30batch/s]\n",
      "Test 29: 100%|██████████| 100/100 [00:02<00:00, 35.96batch/s]"
     ]
    },
    {
     "name": "stdout",
     "output_type": "stream",
     "text": [
      "[Epoch 30] Train Loss: 0.208747 - Test Loss: 0.399792 - Train Accuracy: 92.66% - Test Accuracy: 88.49%\n"
     ]
    },
    {
     "name": "stderr",
     "output_type": "stream",
     "text": [
      "\n",
      "Epoch 30: 100%|██████████| 500/500 [00:40<00:00, 12.36batch/s]\n",
      "Test 30: 100%|██████████| 100/100 [00:02<00:00, 35.96batch/s]"
     ]
    },
    {
     "name": "stdout",
     "output_type": "stream",
     "text": [
      "[Epoch 31] Train Loss: 0.196887 - Test Loss: 0.395541 - Train Accuracy: 93.22% - Test Accuracy: 88.72%\n"
     ]
    },
    {
     "name": "stderr",
     "output_type": "stream",
     "text": [
      "\n",
      "Epoch 31: 100%|██████████| 500/500 [00:40<00:00, 12.38batch/s]\n",
      "Test 31: 100%|██████████| 100/100 [00:02<00:00, 36.05batch/s]"
     ]
    },
    {
     "name": "stdout",
     "output_type": "stream",
     "text": [
      "[Epoch 32] Train Loss: 0.189564 - Test Loss: 0.364818 - Train Accuracy: 93.20% - Test Accuracy: 89.25%\n"
     ]
    },
    {
     "name": "stderr",
     "output_type": "stream",
     "text": [
      "\n",
      "Epoch 32: 100%|██████████| 500/500 [00:40<00:00, 12.33batch/s]\n",
      "Test 32: 100%|██████████| 100/100 [00:02<00:00, 35.99batch/s]"
     ]
    },
    {
     "name": "stdout",
     "output_type": "stream",
     "text": [
      "[Epoch 33] Train Loss: 0.185595 - Test Loss: 0.362801 - Train Accuracy: 93.51% - Test Accuracy: 89.33%\n"
     ]
    },
    {
     "name": "stderr",
     "output_type": "stream",
     "text": [
      "\n",
      "Epoch 33: 100%|██████████| 500/500 [00:40<00:00, 12.39batch/s]\n",
      "Test 33: 100%|██████████| 100/100 [00:02<00:00, 36.24batch/s]\n"
     ]
    },
    {
     "name": "stdout",
     "output_type": "stream",
     "text": [
      "[Epoch 34] Train Loss: 0.173683 - Test Loss: 0.354384 - Train Accuracy: 93.86% - Test Accuracy: 89.85%\n"
     ]
    },
    {
     "name": "stderr",
     "output_type": "stream",
     "text": [
      "Epoch 34: 100%|██████████| 500/500 [00:40<00:00, 12.40batch/s]\n",
      "Test 34: 100%|██████████| 100/100 [00:02<00:00, 35.90batch/s]"
     ]
    },
    {
     "name": "stdout",
     "output_type": "stream",
     "text": [
      "[Epoch 35] Train Loss: 0.175042 - Test Loss: 0.376125 - Train Accuracy: 93.80% - Test Accuracy: 89.52%\n"
     ]
    },
    {
     "name": "stderr",
     "output_type": "stream",
     "text": [
      "\n",
      "Epoch 35: 100%|██████████| 500/500 [00:40<00:00, 12.38batch/s]\n",
      "Test 35: 100%|██████████| 100/100 [00:02<00:00, 36.24batch/s]"
     ]
    },
    {
     "name": "stdout",
     "output_type": "stream",
     "text": [
      "[Epoch 36] Train Loss: 0.170574 - Test Loss: 0.399176 - Train Accuracy: 93.94% - Test Accuracy: 89.22%\n"
     ]
    },
    {
     "name": "stderr",
     "output_type": "stream",
     "text": [
      "\n",
      "Epoch 36: 100%|██████████| 500/500 [00:40<00:00, 12.37batch/s]\n",
      "Test 36: 100%|██████████| 100/100 [00:02<00:00, 35.78batch/s]"
     ]
    },
    {
     "name": "stdout",
     "output_type": "stream",
     "text": [
      "[Epoch 37] Train Loss: 0.166862 - Test Loss: 0.428741 - Train Accuracy: 94.03% - Test Accuracy: 88.74%\n"
     ]
    },
    {
     "name": "stderr",
     "output_type": "stream",
     "text": [
      "\n",
      "Epoch 37: 100%|██████████| 500/500 [00:40<00:00, 12.39batch/s]\n",
      "Test 37: 100%|██████████| 100/100 [00:02<00:00, 36.28batch/s]\n"
     ]
    },
    {
     "name": "stdout",
     "output_type": "stream",
     "text": [
      "[Epoch 38] Train Loss: 0.125258 - Test Loss: 0.300742 - Train Accuracy: 95.60% - Test Accuracy: 91.37%\n"
     ]
    },
    {
     "name": "stderr",
     "output_type": "stream",
     "text": [
      "Epoch 38: 100%|██████████| 500/500 [00:40<00:00, 12.42batch/s]\n",
      "Test 38: 100%|██████████| 100/100 [00:02<00:00, 36.23batch/s]"
     ]
    },
    {
     "name": "stdout",
     "output_type": "stream",
     "text": [
      "[Epoch 39] Train Loss: 0.108302 - Test Loss: 0.304262 - Train Accuracy: 96.27% - Test Accuracy: 91.33%\n"
     ]
    },
    {
     "name": "stderr",
     "output_type": "stream",
     "text": [
      "\n",
      "Epoch 39: 100%|██████████| 500/500 [00:40<00:00, 12.42batch/s]\n",
      "Test 39: 100%|██████████| 100/100 [00:02<00:00, 36.17batch/s]\n"
     ]
    },
    {
     "name": "stdout",
     "output_type": "stream",
     "text": [
      "[Epoch 40] Train Loss: 0.099942 - Test Loss: 0.304539 - Train Accuracy: 96.45% - Test Accuracy: 91.50%\n"
     ]
    },
    {
     "name": "stderr",
     "output_type": "stream",
     "text": [
      "Epoch 40: 100%|██████████| 500/500 [00:40<00:00, 12.46batch/s]\n",
      "Test 40: 100%|██████████| 100/100 [00:02<00:00, 36.26batch/s]"
     ]
    },
    {
     "name": "stdout",
     "output_type": "stream",
     "text": [
      "[Epoch 41] Train Loss: 0.099175 - Test Loss: 0.310401 - Train Accuracy: 96.57% - Test Accuracy: 91.46%\n"
     ]
    },
    {
     "name": "stderr",
     "output_type": "stream",
     "text": [
      "\n",
      "Epoch 41: 100%|██████████| 500/500 [00:40<00:00, 12.48batch/s]\n",
      "Test 41: 100%|██████████| 100/100 [00:02<00:00, 36.37batch/s]\n"
     ]
    },
    {
     "name": "stdout",
     "output_type": "stream",
     "text": [
      "[Epoch 42] Train Loss: 0.094001 - Test Loss: 0.313280 - Train Accuracy: 96.72% - Test Accuracy: 91.54%\n"
     ]
    },
    {
     "name": "stderr",
     "output_type": "stream",
     "text": [
      "Epoch 42: 100%|██████████| 500/500 [00:40<00:00, 12.50batch/s]\n",
      "Test 42: 100%|██████████| 100/100 [00:02<00:00, 36.46batch/s]\n"
     ]
    },
    {
     "name": "stdout",
     "output_type": "stream",
     "text": [
      "[Epoch 43] Train Loss: 0.089602 - Test Loss: 0.317747 - Train Accuracy: 96.90% - Test Accuracy: 91.63%\n"
     ]
    },
    {
     "name": "stderr",
     "output_type": "stream",
     "text": [
      "Epoch 43: 100%|██████████| 500/500 [00:40<00:00, 12.47batch/s]\n",
      "Test 43: 100%|██████████| 100/100 [00:02<00:00, 35.87batch/s]"
     ]
    },
    {
     "name": "stdout",
     "output_type": "stream",
     "text": [
      "[Epoch 44] Train Loss: 0.087241 - Test Loss: 0.322629 - Train Accuracy: 96.94% - Test Accuracy: 91.52%\n"
     ]
    },
    {
     "name": "stderr",
     "output_type": "stream",
     "text": [
      "\n",
      "Epoch 44: 100%|██████████| 500/500 [00:40<00:00, 12.46batch/s]\n",
      "Test 44: 100%|██████████| 100/100 [00:02<00:00, 36.30batch/s]"
     ]
    },
    {
     "name": "stdout",
     "output_type": "stream",
     "text": [
      "[Epoch 45] Train Loss: 0.087346 - Test Loss: 0.329880 - Train Accuracy: 96.98% - Test Accuracy: 91.59%\n"
     ]
    },
    {
     "name": "stderr",
     "output_type": "stream",
     "text": [
      "\n",
      "Epoch 45: 100%|██████████| 500/500 [00:40<00:00, 12.44batch/s]\n",
      "Test 45: 100%|██████████| 100/100 [00:02<00:00, 36.37batch/s]"
     ]
    },
    {
     "name": "stdout",
     "output_type": "stream",
     "text": [
      "[Epoch 46] Train Loss: 0.083103 - Test Loss: 0.324749 - Train Accuracy: 97.19% - Test Accuracy: 91.57%\n"
     ]
    },
    {
     "name": "stderr",
     "output_type": "stream",
     "text": [
      "\n",
      "Epoch 46: 100%|██████████| 500/500 [00:40<00:00, 12.47batch/s]\n",
      "Test 46: 100%|██████████| 100/100 [00:02<00:00, 36.29batch/s]\n"
     ]
    },
    {
     "name": "stdout",
     "output_type": "stream",
     "text": [
      "[Epoch 47] Train Loss: 0.083091 - Test Loss: 0.325801 - Train Accuracy: 97.18% - Test Accuracy: 91.65%\n"
     ]
    },
    {
     "name": "stderr",
     "output_type": "stream",
     "text": [
      "Epoch 47: 100%|██████████| 500/500 [00:40<00:00, 12.43batch/s]\n",
      "Test 47: 100%|██████████| 100/100 [00:02<00:00, 36.33batch/s]"
     ]
    },
    {
     "name": "stdout",
     "output_type": "stream",
     "text": [
      "[Epoch 48] Train Loss: 0.079532 - Test Loss: 0.332321 - Train Accuracy: 97.19% - Test Accuracy: 91.42%\n"
     ]
    },
    {
     "name": "stderr",
     "output_type": "stream",
     "text": [
      "\n",
      "Epoch 48: 100%|██████████| 500/500 [00:40<00:00, 12.46batch/s]\n",
      "Test 48: 100%|██████████| 100/100 [00:02<00:00, 36.05batch/s]"
     ]
    },
    {
     "name": "stdout",
     "output_type": "stream",
     "text": [
      "[Epoch 49] Train Loss: 0.077284 - Test Loss: 0.334438 - Train Accuracy: 97.36% - Test Accuracy: 91.57%\n"
     ]
    },
    {
     "name": "stderr",
     "output_type": "stream",
     "text": [
      "\n",
      "Epoch 49: 100%|██████████| 500/500 [00:40<00:00, 12.45batch/s]\n",
      "Test 49: 100%|██████████| 100/100 [00:02<00:00, 35.97batch/s]"
     ]
    },
    {
     "name": "stdout",
     "output_type": "stream",
     "text": [
      "[Epoch 50] Train Loss: 0.077839 - Test Loss: 0.337456 - Train Accuracy: 97.38% - Test Accuracy: 91.56%\n"
     ]
    },
    {
     "name": "stderr",
     "output_type": "stream",
     "text": [
      "\n",
      "Epoch 50: 100%|██████████| 500/500 [00:40<00:00, 12.47batch/s]\n",
      "Test 50: 100%|██████████| 100/100 [00:02<00:00, 36.32batch/s]\n"
     ]
    },
    {
     "name": "stdout",
     "output_type": "stream",
     "text": [
      "[Epoch 51] Train Loss: 0.073757 - Test Loss: 0.331378 - Train Accuracy: 97.46% - Test Accuracy: 91.72%\n"
     ]
    },
    {
     "name": "stderr",
     "output_type": "stream",
     "text": [
      "Epoch 51: 100%|██████████| 500/500 [00:40<00:00, 12.46batch/s]\n",
      "Test 51: 100%|██████████| 100/100 [00:02<00:00, 35.97batch/s]"
     ]
    },
    {
     "name": "stdout",
     "output_type": "stream",
     "text": [
      "[Epoch 52] Train Loss: 0.075243 - Test Loss: 0.331105 - Train Accuracy: 97.42% - Test Accuracy: 91.65%\n"
     ]
    },
    {
     "name": "stderr",
     "output_type": "stream",
     "text": [
      "\n",
      "Epoch 52: 100%|██████████| 500/500 [00:40<00:00, 12.47batch/s]\n",
      "Test 52: 100%|██████████| 100/100 [00:02<00:00, 36.15batch/s]"
     ]
    },
    {
     "name": "stdout",
     "output_type": "stream",
     "text": [
      "[Epoch 53] Train Loss: 0.075623 - Test Loss: 0.331841 - Train Accuracy: 97.35% - Test Accuracy: 91.63%\n"
     ]
    },
    {
     "name": "stderr",
     "output_type": "stream",
     "text": [
      "\n",
      "Epoch 53: 100%|██████████| 500/500 [00:40<00:00, 12.48batch/s]\n",
      "Test 53: 100%|██████████| 100/100 [00:02<00:00, 36.27batch/s]"
     ]
    },
    {
     "name": "stdout",
     "output_type": "stream",
     "text": [
      "[Epoch 54] Train Loss: 0.074257 - Test Loss: 0.335109 - Train Accuracy: 97.45% - Test Accuracy: 91.58%\n"
     ]
    },
    {
     "name": "stderr",
     "output_type": "stream",
     "text": [
      "\n",
      "Epoch 54: 100%|██████████| 500/500 [00:40<00:00, 12.48batch/s]\n",
      "Test 54: 100%|██████████| 100/100 [00:02<00:00, 35.64batch/s]"
     ]
    },
    {
     "name": "stdout",
     "output_type": "stream",
     "text": [
      "[Epoch 55] Train Loss: 0.077565 - Test Loss: 0.330991 - Train Accuracy: 97.35% - Test Accuracy: 91.72%\n"
     ]
    },
    {
     "name": "stderr",
     "output_type": "stream",
     "text": [
      "\n",
      "Epoch 55: 100%|██████████| 500/500 [00:40<00:00, 12.45batch/s]\n",
      "Test 55: 100%|██████████| 100/100 [00:02<00:00, 36.26batch/s]"
     ]
    },
    {
     "name": "stdout",
     "output_type": "stream",
     "text": [
      "[Epoch 56] Train Loss: 0.073751 - Test Loss: 0.334486 - Train Accuracy: 97.38% - Test Accuracy: 91.61%\n"
     ]
    },
    {
     "name": "stderr",
     "output_type": "stream",
     "text": [
      "\n",
      "Epoch 56: 100%|██████████| 500/500 [00:40<00:00, 12.46batch/s]\n",
      "Test 56: 100%|██████████| 100/100 [00:02<00:00, 36.03batch/s]"
     ]
    },
    {
     "name": "stdout",
     "output_type": "stream",
     "text": [
      "[Epoch 57] Train Loss: 0.073877 - Test Loss: 0.333155 - Train Accuracy: 97.46% - Test Accuracy: 91.59%\n"
     ]
    },
    {
     "name": "stderr",
     "output_type": "stream",
     "text": [
      "\n",
      "Epoch 57: 100%|██████████| 500/500 [00:40<00:00, 12.46batch/s]\n",
      "Test 57: 100%|██████████| 100/100 [00:02<00:00, 35.99batch/s]"
     ]
    },
    {
     "name": "stdout",
     "output_type": "stream",
     "text": [
      "[Epoch 58] Train Loss: 0.073595 - Test Loss: 0.335262 - Train Accuracy: 97.44% - Test Accuracy: 91.53%\n"
     ]
    },
    {
     "name": "stderr",
     "output_type": "stream",
     "text": [
      "\n",
      "Epoch 58: 100%|██████████| 500/500 [00:40<00:00, 12.46batch/s]\n",
      "Test 58: 100%|██████████| 100/100 [00:02<00:00, 36.20batch/s]"
     ]
    },
    {
     "name": "stdout",
     "output_type": "stream",
     "text": [
      "[Epoch 59] Train Loss: 0.072273 - Test Loss: 0.334337 - Train Accuracy: 97.56% - Test Accuracy: 91.63%\n"
     ]
    },
    {
     "name": "stderr",
     "output_type": "stream",
     "text": [
      "\n",
      "Epoch 59: 100%|██████████| 500/500 [00:40<00:00, 12.43batch/s]\n",
      "Test 59: 100%|██████████| 100/100 [00:02<00:00, 36.21batch/s]"
     ]
    },
    {
     "name": "stdout",
     "output_type": "stream",
     "text": [
      "[Epoch 60] Train Loss: 0.072637 - Test Loss: 0.333021 - Train Accuracy: 97.51% - Test Accuracy: 91.63%\n"
     ]
    },
    {
     "name": "stderr",
     "output_type": "stream",
     "text": [
      "\n",
      "Epoch 60: 100%|██████████| 500/500 [00:40<00:00, 12.40batch/s]\n",
      "Test 60: 100%|██████████| 100/100 [00:02<00:00, 36.30batch/s]"
     ]
    },
    {
     "name": "stdout",
     "output_type": "stream",
     "text": [
      "[Epoch 61] Train Loss: 0.069719 - Test Loss: 0.331213 - Train Accuracy: 97.67% - Test Accuracy: 91.56%\n"
     ]
    },
    {
     "name": "stderr",
     "output_type": "stream",
     "text": [
      "\n",
      "Epoch 61: 100%|██████████| 500/500 [00:40<00:00, 12.42batch/s]\n",
      "Test 61: 100%|██████████| 100/100 [00:02<00:00, 36.16batch/s]"
     ]
    },
    {
     "name": "stdout",
     "output_type": "stream",
     "text": [
      "[Epoch 62] Train Loss: 0.072406 - Test Loss: 0.334667 - Train Accuracy: 97.59% - Test Accuracy: 91.68%\n"
     ]
    },
    {
     "name": "stderr",
     "output_type": "stream",
     "text": [
      "\n",
      "Epoch 62: 100%|██████████| 500/500 [00:40<00:00, 12.44batch/s]\n",
      "Test 62: 100%|██████████| 100/100 [00:02<00:00, 36.33batch/s]"
     ]
    },
    {
     "name": "stdout",
     "output_type": "stream",
     "text": [
      "[Epoch 63] Train Loss: 0.071015 - Test Loss: 0.329408 - Train Accuracy: 97.61% - Test Accuracy: 91.66%\n"
     ]
    },
    {
     "name": "stderr",
     "output_type": "stream",
     "text": [
      "\n",
      "Epoch 63: 100%|██████████| 500/500 [00:40<00:00, 12.45batch/s]\n",
      "Test 63: 100%|██████████| 100/100 [00:02<00:00, 35.98batch/s]"
     ]
    },
    {
     "name": "stdout",
     "output_type": "stream",
     "text": [
      "[Epoch 64] Train Loss: 0.071068 - Test Loss: 0.333666 - Train Accuracy: 97.50% - Test Accuracy: 91.55%\n"
     ]
    },
    {
     "name": "stderr",
     "output_type": "stream",
     "text": [
      "\n",
      "Epoch 64: 100%|██████████| 500/500 [00:40<00:00, 12.45batch/s]\n",
      "Test 64: 100%|██████████| 100/100 [00:02<00:00, 36.25batch/s]"
     ]
    },
    {
     "name": "stdout",
     "output_type": "stream",
     "text": [
      "[Epoch 65] Train Loss: 0.073311 - Test Loss: 0.332833 - Train Accuracy: 97.44% - Test Accuracy: 91.58%\n"
     ]
    },
    {
     "name": "stderr",
     "output_type": "stream",
     "text": [
      "\n",
      "Epoch 65: 100%|██████████| 500/500 [00:40<00:00, 12.42batch/s]\n",
      "Test 65: 100%|██████████| 100/100 [00:02<00:00, 36.33batch/s]"
     ]
    },
    {
     "name": "stdout",
     "output_type": "stream",
     "text": [
      "[Epoch 66] Train Loss: 0.072678 - Test Loss: 0.333115 - Train Accuracy: 97.43% - Test Accuracy: 91.66%\n"
     ]
    },
    {
     "name": "stderr",
     "output_type": "stream",
     "text": [
      "\n",
      "Epoch 66: 100%|██████████| 500/500 [00:40<00:00, 12.37batch/s]\n",
      "Test 66: 100%|██████████| 100/100 [00:02<00:00, 35.99batch/s]"
     ]
    },
    {
     "name": "stdout",
     "output_type": "stream",
     "text": [
      "[Epoch 67] Train Loss: 0.073878 - Test Loss: 0.329524 - Train Accuracy: 97.42% - Test Accuracy: 91.55%\n"
     ]
    },
    {
     "name": "stderr",
     "output_type": "stream",
     "text": [
      "\n",
      "Epoch 67: 100%|██████████| 500/500 [00:40<00:00, 12.41batch/s]\n",
      "Test 67: 100%|██████████| 100/100 [00:02<00:00, 36.27batch/s]"
     ]
    },
    {
     "name": "stdout",
     "output_type": "stream",
     "text": [
      "[Epoch 68] Train Loss: 0.072114 - Test Loss: 0.328894 - Train Accuracy: 97.45% - Test Accuracy: 91.63%\n"
     ]
    },
    {
     "name": "stderr",
     "output_type": "stream",
     "text": [
      "\n",
      "Epoch 68: 100%|██████████| 500/500 [00:40<00:00, 12.43batch/s]\n",
      "Test 68: 100%|██████████| 100/100 [00:02<00:00, 36.18batch/s]"
     ]
    },
    {
     "name": "stdout",
     "output_type": "stream",
     "text": [
      "[Epoch 69] Train Loss: 0.072421 - Test Loss: 0.330296 - Train Accuracy: 97.51% - Test Accuracy: 91.67%\n"
     ]
    },
    {
     "name": "stderr",
     "output_type": "stream",
     "text": [
      "\n",
      "Epoch 69: 100%|██████████| 500/500 [00:40<00:00, 12.43batch/s]\n",
      "Test 69: 100%|██████████| 100/100 [00:02<00:00, 36.11batch/s]"
     ]
    },
    {
     "name": "stdout",
     "output_type": "stream",
     "text": [
      "[Epoch 70] Train Loss: 0.070584 - Test Loss: 0.331881 - Train Accuracy: 97.58% - Test Accuracy: 91.62%\n"
     ]
    },
    {
     "name": "stderr",
     "output_type": "stream",
     "text": [
      "\n",
      "Epoch 70: 100%|██████████| 500/500 [00:40<00:00, 12.38batch/s]\n",
      "Test 70: 100%|██████████| 100/100 [00:02<00:00, 36.38batch/s]"
     ]
    },
    {
     "name": "stdout",
     "output_type": "stream",
     "text": [
      "[Epoch 71] Train Loss: 0.072455 - Test Loss: 0.330570 - Train Accuracy: 97.42% - Test Accuracy: 91.68%\n"
     ]
    },
    {
     "name": "stderr",
     "output_type": "stream",
     "text": [
      "\n",
      "Epoch 71: 100%|██████████| 500/500 [00:40<00:00, 12.43batch/s]\n",
      "Test 71: 100%|██████████| 100/100 [00:02<00:00, 35.81batch/s]"
     ]
    },
    {
     "name": "stdout",
     "output_type": "stream",
     "text": [
      "[Epoch 72] Train Loss: 0.074094 - Test Loss: 0.333756 - Train Accuracy: 97.45% - Test Accuracy: 91.62%\n"
     ]
    },
    {
     "name": "stderr",
     "output_type": "stream",
     "text": [
      "\n",
      "Epoch 72: 100%|██████████| 500/500 [00:40<00:00, 12.42batch/s]\n",
      "Test 72: 100%|██████████| 100/100 [00:02<00:00, 36.24batch/s]"
     ]
    },
    {
     "name": "stdout",
     "output_type": "stream",
     "text": [
      "[Epoch 73] Train Loss: 0.073715 - Test Loss: 0.331910 - Train Accuracy: 97.51% - Test Accuracy: 91.63%\n"
     ]
    },
    {
     "name": "stderr",
     "output_type": "stream",
     "text": [
      "\n",
      "Epoch 73: 100%|██████████| 500/500 [00:40<00:00, 12.42batch/s]\n",
      "Test 73: 100%|██████████| 100/100 [00:02<00:00, 36.13batch/s]"
     ]
    },
    {
     "name": "stdout",
     "output_type": "stream",
     "text": [
      "[Epoch 74] Train Loss: 0.072919 - Test Loss: 0.333799 - Train Accuracy: 97.48% - Test Accuracy: 91.58%\n"
     ]
    },
    {
     "name": "stderr",
     "output_type": "stream",
     "text": [
      "\n",
      "Epoch 74: 100%|██████████| 500/500 [00:40<00:00, 12.42batch/s]\n",
      "Test 74: 100%|██████████| 100/100 [00:02<00:00, 35.99batch/s]"
     ]
    },
    {
     "name": "stdout",
     "output_type": "stream",
     "text": [
      "[Epoch 75] Train Loss: 0.072122 - Test Loss: 0.330601 - Train Accuracy: 97.55% - Test Accuracy: 91.70%\n"
     ]
    },
    {
     "name": "stderr",
     "output_type": "stream",
     "text": [
      "\n",
      "Epoch 75: 100%|██████████| 500/500 [00:40<00:00, 12.41batch/s]\n",
      "Test 75: 100%|██████████| 100/100 [00:02<00:00, 36.29batch/s]"
     ]
    },
    {
     "name": "stdout",
     "output_type": "stream",
     "text": [
      "[Epoch 76] Train Loss: 0.071759 - Test Loss: 0.330336 - Train Accuracy: 97.51% - Test Accuracy: 91.65%\n"
     ]
    },
    {
     "name": "stderr",
     "output_type": "stream",
     "text": [
      "\n",
      "Epoch 76: 100%|██████████| 500/500 [00:40<00:00, 12.39batch/s]\n",
      "Test 76: 100%|██████████| 100/100 [00:02<00:00, 35.83batch/s]"
     ]
    },
    {
     "name": "stdout",
     "output_type": "stream",
     "text": [
      "[Epoch 77] Train Loss: 0.072838 - Test Loss: 0.329818 - Train Accuracy: 97.40% - Test Accuracy: 91.58%\n"
     ]
    },
    {
     "name": "stderr",
     "output_type": "stream",
     "text": [
      "\n",
      "Epoch 77: 100%|██████████| 500/500 [00:40<00:00, 12.42batch/s]\n",
      "Test 77: 100%|██████████| 100/100 [00:02<00:00, 36.35batch/s]"
     ]
    },
    {
     "name": "stdout",
     "output_type": "stream",
     "text": [
      "[Epoch 78] Train Loss: 0.073599 - Test Loss: 0.334574 - Train Accuracy: 97.51% - Test Accuracy: 91.59%\n"
     ]
    },
    {
     "name": "stderr",
     "output_type": "stream",
     "text": [
      "\n",
      "Epoch 78: 100%|██████████| 500/500 [00:40<00:00, 12.41batch/s]\n",
      "Test 78: 100%|██████████| 100/100 [00:02<00:00, 35.71batch/s]"
     ]
    },
    {
     "name": "stdout",
     "output_type": "stream",
     "text": [
      "[Epoch 79] Train Loss: 0.071336 - Test Loss: 0.329789 - Train Accuracy: 97.53% - Test Accuracy: 91.68%\n"
     ]
    },
    {
     "name": "stderr",
     "output_type": "stream",
     "text": [
      "\n",
      "Epoch 79: 100%|██████████| 500/500 [00:40<00:00, 12.39batch/s]\n",
      "Test 79: 100%|██████████| 100/100 [00:02<00:00, 36.17batch/s]"
     ]
    },
    {
     "name": "stdout",
     "output_type": "stream",
     "text": [
      "[Epoch 80] Train Loss: 0.071028 - Test Loss: 0.330936 - Train Accuracy: 97.48% - Test Accuracy: 91.68%\n"
     ]
    },
    {
     "name": "stderr",
     "output_type": "stream",
     "text": [
      "\n",
      "Epoch 80: 100%|██████████| 500/500 [00:40<00:00, 12.39batch/s]\n",
      "Test 80: 100%|██████████| 100/100 [00:02<00:00, 36.37batch/s]"
     ]
    },
    {
     "name": "stdout",
     "output_type": "stream",
     "text": [
      "[Epoch 81] Train Loss: 0.071240 - Test Loss: 0.330368 - Train Accuracy: 97.64% - Test Accuracy: 91.65%\n"
     ]
    },
    {
     "name": "stderr",
     "output_type": "stream",
     "text": [
      "\n",
      "Epoch 81: 100%|██████████| 500/500 [00:40<00:00, 12.42batch/s]\n",
      "Test 81: 100%|██████████| 100/100 [00:02<00:00, 35.99batch/s]"
     ]
    },
    {
     "name": "stdout",
     "output_type": "stream",
     "text": [
      "[Epoch 82] Train Loss: 0.071373 - Test Loss: 0.333344 - Train Accuracy: 97.57% - Test Accuracy: 91.61%\n"
     ]
    },
    {
     "name": "stderr",
     "output_type": "stream",
     "text": [
      "\n",
      "Epoch 82: 100%|██████████| 500/500 [00:40<00:00, 12.42batch/s]\n",
      "Test 82: 100%|██████████| 100/100 [00:02<00:00, 36.32batch/s]"
     ]
    },
    {
     "name": "stdout",
     "output_type": "stream",
     "text": [
      "[Epoch 83] Train Loss: 0.071351 - Test Loss: 0.331099 - Train Accuracy: 97.54% - Test Accuracy: 91.65%\n"
     ]
    },
    {
     "name": "stderr",
     "output_type": "stream",
     "text": [
      "\n",
      "Epoch 83: 100%|██████████| 500/500 [00:40<00:00, 12.40batch/s]\n",
      "Test 83: 100%|██████████| 100/100 [00:02<00:00, 35.95batch/s]"
     ]
    },
    {
     "name": "stdout",
     "output_type": "stream",
     "text": [
      "[Epoch 84] Train Loss: 0.070760 - Test Loss: 0.331935 - Train Accuracy: 97.58% - Test Accuracy: 91.63%\n"
     ]
    },
    {
     "name": "stderr",
     "output_type": "stream",
     "text": [
      "\n",
      "Epoch 84: 100%|██████████| 500/500 [00:40<00:00, 12.42batch/s]\n",
      "Test 84: 100%|██████████| 100/100 [00:02<00:00, 35.44batch/s]"
     ]
    },
    {
     "name": "stdout",
     "output_type": "stream",
     "text": [
      "[Epoch 85] Train Loss: 0.071381 - Test Loss: 0.330914 - Train Accuracy: 97.56% - Test Accuracy: 91.66%\n"
     ]
    },
    {
     "name": "stderr",
     "output_type": "stream",
     "text": [
      "\n",
      "Epoch 85: 100%|██████████| 500/500 [00:40<00:00, 12.40batch/s]\n",
      "Test 85: 100%|██████████| 100/100 [00:02<00:00, 36.03batch/s]"
     ]
    },
    {
     "name": "stdout",
     "output_type": "stream",
     "text": [
      "[Epoch 86] Train Loss: 0.071971 - Test Loss: 0.330734 - Train Accuracy: 97.61% - Test Accuracy: 91.65%\n"
     ]
    },
    {
     "name": "stderr",
     "output_type": "stream",
     "text": [
      "\n",
      "Epoch 86: 100%|██████████| 500/500 [00:40<00:00, 12.39batch/s]\n",
      "Test 86: 100%|██████████| 100/100 [00:02<00:00, 35.91batch/s]"
     ]
    },
    {
     "name": "stdout",
     "output_type": "stream",
     "text": [
      "[Epoch 87] Train Loss: 0.071805 - Test Loss: 0.333651 - Train Accuracy: 97.45% - Test Accuracy: 91.69%\n"
     ]
    },
    {
     "name": "stderr",
     "output_type": "stream",
     "text": [
      "\n",
      "Epoch 87: 100%|██████████| 500/500 [00:40<00:00, 12.41batch/s]\n",
      "Test 87: 100%|██████████| 100/100 [00:02<00:00, 35.99batch/s]"
     ]
    },
    {
     "name": "stdout",
     "output_type": "stream",
     "text": [
      "[Epoch 88] Train Loss: 0.072414 - Test Loss: 0.329644 - Train Accuracy: 97.48% - Test Accuracy: 91.66%\n"
     ]
    },
    {
     "name": "stderr",
     "output_type": "stream",
     "text": [
      "\n",
      "Epoch 88: 100%|██████████| 500/500 [00:40<00:00, 12.38batch/s]\n",
      "Test 88: 100%|██████████| 100/100 [00:02<00:00, 36.14batch/s]"
     ]
    },
    {
     "name": "stdout",
     "output_type": "stream",
     "text": [
      "[Epoch 89] Train Loss: 0.072392 - Test Loss: 0.329594 - Train Accuracy: 97.49% - Test Accuracy: 91.63%\n"
     ]
    },
    {
     "name": "stderr",
     "output_type": "stream",
     "text": [
      "\n",
      "Epoch 89: 100%|██████████| 500/500 [00:40<00:00, 12.41batch/s]\n",
      "Test 89: 100%|██████████| 100/100 [00:02<00:00, 35.51batch/s]"
     ]
    },
    {
     "name": "stdout",
     "output_type": "stream",
     "text": [
      "[Epoch 90] Train Loss: 0.070557 - Test Loss: 0.330159 - Train Accuracy: 97.55% - Test Accuracy: 91.68%\n"
     ]
    },
    {
     "name": "stderr",
     "output_type": "stream",
     "text": [
      "\n",
      "Epoch 90: 100%|██████████| 500/500 [00:40<00:00, 12.35batch/s]\n",
      "Test 90: 100%|██████████| 100/100 [00:02<00:00, 35.95batch/s]"
     ]
    },
    {
     "name": "stdout",
     "output_type": "stream",
     "text": [
      "[Epoch 91] Train Loss: 0.072667 - Test Loss: 0.330766 - Train Accuracy: 97.44% - Test Accuracy: 91.65%\n"
     ]
    },
    {
     "name": "stderr",
     "output_type": "stream",
     "text": [
      "\n",
      "Epoch 91: 100%|██████████| 500/500 [00:40<00:00, 12.39batch/s]\n",
      "Test 91: 100%|██████████| 100/100 [00:02<00:00, 36.12batch/s]"
     ]
    },
    {
     "name": "stdout",
     "output_type": "stream",
     "text": [
      "[Epoch 92] Train Loss: 0.070687 - Test Loss: 0.333132 - Train Accuracy: 97.54% - Test Accuracy: 91.62%\n"
     ]
    },
    {
     "name": "stderr",
     "output_type": "stream",
     "text": [
      "\n",
      "Epoch 92: 100%|██████████| 500/500 [00:40<00:00, 12.39batch/s]\n",
      "Test 92: 100%|██████████| 100/100 [00:02<00:00, 36.10batch/s]"
     ]
    },
    {
     "name": "stdout",
     "output_type": "stream",
     "text": [
      "[Epoch 93] Train Loss: 0.072142 - Test Loss: 0.330224 - Train Accuracy: 97.46% - Test Accuracy: 91.62%\n"
     ]
    },
    {
     "name": "stderr",
     "output_type": "stream",
     "text": [
      "\n",
      "Epoch 93: 100%|██████████| 500/500 [00:40<00:00, 12.39batch/s]\n",
      "Test 93: 100%|██████████| 100/100 [00:02<00:00, 35.95batch/s]"
     ]
    },
    {
     "name": "stdout",
     "output_type": "stream",
     "text": [
      "[Epoch 94] Train Loss: 0.069571 - Test Loss: 0.330766 - Train Accuracy: 97.70% - Test Accuracy: 91.61%\n"
     ]
    },
    {
     "name": "stderr",
     "output_type": "stream",
     "text": [
      "\n",
      "Epoch 94: 100%|██████████| 500/500 [00:40<00:00, 12.40batch/s]\n",
      "Test 94: 100%|██████████| 100/100 [00:02<00:00, 35.71batch/s]"
     ]
    },
    {
     "name": "stdout",
     "output_type": "stream",
     "text": [
      "[Epoch 95] Train Loss: 0.071188 - Test Loss: 0.333072 - Train Accuracy: 97.59% - Test Accuracy: 91.66%\n"
     ]
    },
    {
     "name": "stderr",
     "output_type": "stream",
     "text": [
      "\n",
      "Epoch 95: 100%|██████████| 500/500 [00:40<00:00, 12.46batch/s]\n",
      "Test 95: 100%|██████████| 100/100 [00:02<00:00, 36.13batch/s]"
     ]
    },
    {
     "name": "stdout",
     "output_type": "stream",
     "text": [
      "[Epoch 96] Train Loss: 0.074151 - Test Loss: 0.332090 - Train Accuracy: 97.45% - Test Accuracy: 91.70%\n"
     ]
    },
    {
     "name": "stderr",
     "output_type": "stream",
     "text": [
      "\n",
      "Epoch 96: 100%|██████████| 500/500 [00:40<00:00, 12.40batch/s]\n",
      "Test 96: 100%|██████████| 100/100 [00:02<00:00, 35.89batch/s]"
     ]
    },
    {
     "name": "stdout",
     "output_type": "stream",
     "text": [
      "[Epoch 97] Train Loss: 0.073761 - Test Loss: 0.331200 - Train Accuracy: 97.52% - Test Accuracy: 91.61%\n"
     ]
    },
    {
     "name": "stderr",
     "output_type": "stream",
     "text": [
      "\n",
      "Epoch 97: 100%|██████████| 500/500 [00:40<00:00, 12.38batch/s]\n",
      "Test 97: 100%|██████████| 100/100 [00:02<00:00, 35.35batch/s]"
     ]
    },
    {
     "name": "stdout",
     "output_type": "stream",
     "text": [
      "[Epoch 98] Train Loss: 0.070887 - Test Loss: 0.331671 - Train Accuracy: 97.56% - Test Accuracy: 91.61%\n"
     ]
    },
    {
     "name": "stderr",
     "output_type": "stream",
     "text": [
      "\n",
      "Epoch 98: 100%|██████████| 500/500 [00:40<00:00, 12.47batch/s]\n",
      "Test 98: 100%|██████████| 100/100 [00:02<00:00, 36.47batch/s]"
     ]
    },
    {
     "name": "stdout",
     "output_type": "stream",
     "text": [
      "[Epoch 99] Train Loss: 0.072397 - Test Loss: 0.329361 - Train Accuracy: 97.51% - Test Accuracy: 91.58%\n"
     ]
    },
    {
     "name": "stderr",
     "output_type": "stream",
     "text": [
      "\n",
      "Epoch 99: 100%|██████████| 500/500 [00:40<00:00, 12.40batch/s]\n",
      "Test 99: 100%|██████████| 100/100 [00:02<00:00, 35.76batch/s]\n"
     ]
    },
    {
     "name": "stdout",
     "output_type": "stream",
     "text": [
      "[Epoch 100] Train Loss: 0.070907 - Test Loss: 0.332334 - Train Accuracy: 97.55% - Test Accuracy: 91.74%\n",
      "\n",
      "BEST TEST ACCURACY:  91.74  in epoch  99\n"
     ]
    }
   ],
   "source": [
    "net.to(device)\n",
    "\n",
    "print(\"\\n---- Start Training ----\")\n",
    "best_accuracy = -1\n",
    "best_epoch = 0\n",
    "for epoch in range(epochs):\n",
    "\n",
    "    train_loss, train_correct = 0, 0\n",
    "    net.train()\n",
    "    with tqdm(iter(train_dataloader), desc=\"Epoch \" + str(epoch), unit=\"batch\") as tepoch:\n",
    "        for batch in tepoch:\n",
    "            \n",
    "            images = batch[\"img\"].to(device)\n",
    "            labels = batch[\"label\"].to(device)\n",
    "\n",
    "            optimizer.zero_grad()\n",
    "\n",
    "            outputs = net(images)\n",
    "            loss = criterion(outputs, labels)\n",
    "\n",
    "            loss.backward()\n",
    "\n",
    "            optimizer.step()\n",
    "\n",
    "            labels = torch.argmax(labels, dim=1)\n",
    "            pred = torch.argmax(outputs, dim=1)\n",
    "            train_correct += pred.eq(labels).sum().item()\n",
    "\n",
    "            train_loss += loss.item()\n",
    "\n",
    "    train_loss /= (len(train_dataloader.dataset) / batch_size)\n",
    "\n",
    "    test_loss, test_correct = 0, 0\n",
    "    net.eval()\n",
    "    with torch.no_grad():\n",
    "      with tqdm(iter(test_dataloader), desc=\"Test \" + str(epoch), unit=\"batch\") as tepoch:\n",
    "          for batch in tepoch:\n",
    "\n",
    "            images = batch[\"img\"].to(device)\n",
    "            labels = batch[\"label\"].to(device)\n",
    "\n",
    "            outputs = net(images)\n",
    "            test_loss += criterion(outputs, labels)\n",
    "\n",
    "            labels = torch.argmax(labels, dim=1)\n",
    "            pred = torch.argmax(outputs, dim=1)\n",
    "\n",
    "            test_correct += pred.eq(labels).sum().item()\n",
    "\n",
    "    lr_scheduler.step(test_loss)\n",
    "\n",
    "    test_loss /= (len(test_dataloader.dataset) / batch_size)\n",
    "    test_accuracy = 100. * test_correct / len(test_dataloader.dataset)\n",
    "\n",
    "    print(\"[Epoch {}] Train Loss: {:.6f} - Test Loss: {:.6f} - Train Accuracy: {:.2f}% - Test Accuracy: {:.2f}%\".format(\n",
    "        epoch + 1, train_loss, test_loss, 100. * train_correct / len(train_dataloader.dataset), test_accuracy\n",
    "    ))\n",
    "\n",
    "    if test_accuracy > best_accuracy:\n",
    "        best_accuracy = test_accuracy\n",
    "        best_epoch = epoch\n",
    "\n",
    "        torch.save(net.state_dict(), \"best_model_cifar_resnet3.pt\")\n",
    "\n",
    "print(\"\\nBEST TEST ACCURACY: \", best_accuracy, \" in epoch \", best_epoch)"
   ]
  },
  {
   "cell_type": "markdown",
   "metadata": {},
   "source": [
    "### **Mejor Modelo**"
   ]
  },
  {
   "cell_type": "code",
   "execution_count": 11,
   "metadata": {
    "execution": {
     "iopub.execute_input": "2025-02-05T00:37:43.389162Z",
     "iopub.status.busy": "2025-02-05T00:37:43.388811Z",
     "iopub.status.idle": "2025-02-05T00:37:46.302608Z",
     "shell.execute_reply": "2025-02-05T00:37:46.301627Z",
     "shell.execute_reply.started": "2025-02-05T00:37:43.389123Z"
    },
    "trusted": true
   },
   "outputs": [
    {
     "name": "stderr",
     "output_type": "stream",
     "text": [
      "<ipython-input-11-002f7a7f7bde>:1: FutureWarning: You are using `torch.load` with `weights_only=False` (the current default value), which uses the default pickle module implicitly. It is possible to construct malicious pickle data which will execute arbitrary code during unpickling (See https://github.com/pytorch/pytorch/blob/main/SECURITY.md#untrusted-models for more details). In a future release, the default value for `weights_only` will be flipped to `True`. This limits the functions that could be executed during unpickling. Arbitrary objects will no longer be allowed to be loaded via this mode unless they are explicitly allowlisted by the user via `torch.serialization.add_safe_globals`. We recommend you start setting `weights_only=True` for any use case where you don't have full control of the loaded file. Please open an issue on GitHub for any issues related to this experimental feature.\n",
      "  net.load_state_dict(torch.load(\"best_model_cifar_resnet2.pt\"))\n",
      "Test 99: 100%|██████████| 100/100 [00:02<00:00, 35.50batch/s]"
     ]
    },
    {
     "name": "stdout",
     "output_type": "stream",
     "text": [
      "Final best acc:  91.74\n"
     ]
    },
    {
     "name": "stderr",
     "output_type": "stream",
     "text": [
      "\n"
     ]
    }
   ],
   "source": [
    "net.load_state_dict(torch.load(\"best_model_cifar_resnet3.pt\"))\n",
    "\n",
    "test_loss, test_correct = 0, 0\n",
    "net.eval()\n",
    "with torch.no_grad():\n",
    "    with tqdm(iter(test_dataloader), desc=\"Test \" + str(epoch), unit=\"batch\") as tepoch:\n",
    "        for batch in tepoch:\n",
    "\n",
    "            images = batch[\"img\"].to(device)\n",
    "            labels = batch[\"label\"].to(device)\n",
    "\n",
    "            # Forward\n",
    "            outputs = net(images)\n",
    "            test_loss += criterion(outputs, labels)\n",
    "\n",
    "            # one hot -> labels\n",
    "            labels = torch.argmax(labels, dim=1)\n",
    "            pred = torch.argmax(outputs, dim=1)\n",
    "\n",
    "            test_correct += pred.eq(labels).sum().item()\n",
    "\n",
    "    test_loss /= len(test_dataloader.dataset)\n",
    "    test_accuracy = 100. * test_correct / len(test_dataloader.dataset)\n",
    "print(\"Final best acc: \", test_accuracy)"
   ]
  }
 ],
 "metadata": {
  "kaggle": {
   "accelerator": "nvidiaTeslaT4",
   "dataSources": [],
   "dockerImageVersionId": 30840,
   "isGpuEnabled": true,
   "isInternetEnabled": true,
   "language": "python",
   "sourceType": "notebook"
  },
  "kernelspec": {
   "display_name": "Python 3",
   "language": "python",
   "name": "python3"
  },
  "language_info": {
   "codemirror_mode": {
    "name": "ipython",
    "version": 3
   },
   "file_extension": ".py",
   "mimetype": "text/x-python",
   "name": "python",
   "nbconvert_exporter": "python",
   "pygments_lexer": "ipython3",
   "version": "3.10.12"
  }
 },
 "nbformat": 4,
 "nbformat_minor": 4
}
