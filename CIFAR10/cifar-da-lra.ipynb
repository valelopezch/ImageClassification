{
 "cells": [
  {
   "cell_type": "markdown",
   "metadata": {},
   "source": [
    "<div style=\"text-align: right\"><b> Ana Valentina López Chacón </b></div>\n",
    "<div style=\"text-align: right\"><b> Redes Neuronales Artificiales, 2024 - 2025 </b></div>\n",
    "\n",
    "## **Práctica CIFAR: CNNs con Data Augmentation y Learning Rate Annealing**"
   ]
  },
  {
   "cell_type": "code",
   "execution_count": 1,
   "metadata": {
    "_cell_guid": "b1076dfc-b9ad-4769-8c92-a6c4dae69d19",
    "_uuid": "8f2839f25d086af736a60e9eeb907d3b93b6e0e5",
    "execution": {
     "iopub.execute_input": "2025-01-15T14:44:04.380133Z",
     "iopub.status.busy": "2025-01-15T14:44:04.379752Z",
     "iopub.status.idle": "2025-01-15T14:44:09.906874Z",
     "shell.execute_reply": "2025-01-15T14:44:09.906033Z",
     "shell.execute_reply.started": "2025-01-15T14:44:04.380102Z"
    },
    "trusted": true
   },
   "outputs": [
    {
     "name": "stdout",
     "output_type": "stream",
     "text": [
      "Torch version:  2.5.1+cu121\n",
      "Device:  cuda\n"
     ]
    }
   ],
   "source": [
    "import torch\n",
    "import torchvision\n",
    "import torch.nn as nn\n",
    "from tqdm import tqdm\n",
    "import multiprocessing\n",
    "import torch.optim as optim\n",
    "import torch.nn.functional as  F\n",
    "from torchvision import transforms\n",
    "from torch.utils.data import Dataset\n",
    "from torch.utils.data import DataLoader\n",
    "\n",
    "print(\"Torch version: \", torch. __version__)\n",
    "device = torch.device(\"cuda\" if torch.cuda.is_available() else \"cpu\")\n",
    "print(\"Device: \", device)"
   ]
  },
  {
   "cell_type": "code",
   "execution_count": 2,
   "metadata": {
    "execution": {
     "iopub.execute_input": "2025-01-15T14:44:27.628088Z",
     "iopub.status.busy": "2025-01-15T14:44:27.627657Z",
     "iopub.status.idle": "2025-01-15T14:44:27.637070Z",
     "shell.execute_reply": "2025-01-15T14:44:27.636232Z",
     "shell.execute_reply.started": "2025-01-15T14:44:27.628061Z"
    },
    "trusted": true
   },
   "outputs": [],
   "source": [
    "seed = 42\n",
    "torch.manual_seed(seed)\n",
    "\n",
    "if torch.cuda.is_available():\n",
    "    torch.cuda.manual_seed(seed)\n",
    "    torch.cuda.manual_seed_all(seed)\n",
    "    torch.backends.cudnn.deterministic = True\n",
    "    torch.backends.cudnn.benchmark = False"
   ]
  },
  {
   "cell_type": "code",
   "execution_count": 3,
   "metadata": {
    "execution": {
     "iopub.execute_input": "2025-01-15T14:44:30.023878Z",
     "iopub.status.busy": "2025-01-15T14:44:30.023577Z",
     "iopub.status.idle": "2025-01-15T14:44:30.027973Z",
     "shell.execute_reply": "2025-01-15T14:44:30.027128Z",
     "shell.execute_reply.started": "2025-01-15T14:44:30.023853Z"
    },
    "trusted": true
   },
   "outputs": [],
   "source": [
    "da_train = transforms.Compose([\n",
    "    transforms.RandomHorizontalFlip(),\n",
    "    transforms.RandomAffine(degrees=5, translate=(0.2, 0.2)),\n",
    "    transforms.ToTensor(),\n",
    "])\n",
    "\n",
    "da_test = transforms.Compose([\n",
    "    transforms.ToTensor(),\n",
    "])"
   ]
  },
  {
   "cell_type": "markdown",
   "metadata": {},
   "source": [
    "### **Cargar los Datos**"
   ]
  },
  {
   "cell_type": "code",
   "execution_count": 4,
   "metadata": {
    "execution": {
     "iopub.execute_input": "2025-01-15T14:44:32.696631Z",
     "iopub.status.busy": "2025-01-15T14:44:32.696354Z",
     "iopub.status.idle": "2025-01-15T14:44:39.056952Z",
     "shell.execute_reply": "2025-01-15T14:44:39.056247Z",
     "shell.execute_reply.started": "2025-01-15T14:44:32.696611Z"
    },
    "trusted": true
   },
   "outputs": [
    {
     "name": "stdout",
     "output_type": "stream",
     "text": [
      "\n",
      "Loading CIFAR10  train  Dataset...\n",
      "Downloading https://www.cs.toronto.edu/~kriz/cifar-10-python.tar.gz to .data/cifar-10-python.tar.gz\n"
     ]
    },
    {
     "name": "stderr",
     "output_type": "stream",
     "text": [
      "100%|██████████| 170M/170M [00:03<00:00, 56.3MB/s] \n"
     ]
    },
    {
     "name": "stdout",
     "output_type": "stream",
     "text": [
      "Extracting .data/cifar-10-python.tar.gz to .data/\n",
      "\tTotal Len.:  50000 \n",
      " --------------------------------------------------\n",
      "\n",
      "Loading CIFAR10  test  Dataset...\n",
      "Files already downloaded and verified\n",
      "\tTotal Len.:  10000 \n",
      " --------------------------------------------------\n"
     ]
    }
   ],
   "source": [
    "class CIFAR10_dataset(Dataset):\n",
    "\n",
    "    def __init__(self, transform, partition = \"train\"):\n",
    "\n",
    "        print(\"\\nLoading CIFAR10 \", partition, \" Dataset...\")\n",
    "        self.partition = partition\n",
    "        self.transform = transform\n",
    "        if self.partition == \"train\":\n",
    "            self.data = torchvision.datasets.CIFAR10('.data/', \n",
    "                                                     train=True,\n",
    "                                                     download=True)\n",
    "        else:\n",
    "            self.data = torchvision.datasets.CIFAR10('.data/', \n",
    "                                                     train=False,\n",
    "                                                     download=True)\n",
    "        print(\"\\tTotal Len.: \", len(self.data), \"\\n\", 50*\"-\")\n",
    "    \n",
    "    def __len__(self):\n",
    "        return len(self.data)\n",
    "\n",
    "    def __getitem__(self, idx):\n",
    "\n",
    "        # Image\n",
    "        image = self.data[idx][0]\n",
    "        image_tensor = self.transform(image)\n",
    "\n",
    "        # Label\n",
    "        label = torch.tensor(self.data[idx][1])\n",
    "        label = F.one_hot(label, num_classes=10).float()\n",
    "\n",
    "        return {\"img\": image_tensor, \"label\": label}\n",
    "\n",
    "train_dataset = CIFAR10_dataset(da_train, partition=\"train\")\n",
    "test_dataset = CIFAR10_dataset(da_test, partition=\"test\")"
   ]
  },
  {
   "cell_type": "code",
   "execution_count": 5,
   "metadata": {
    "execution": {
     "iopub.execute_input": "2025-01-15T14:44:39.058016Z",
     "iopub.status.busy": "2025-01-15T14:44:39.057774Z",
     "iopub.status.idle": "2025-01-15T14:44:39.063250Z",
     "shell.execute_reply": "2025-01-15T14:44:39.062455Z",
     "shell.execute_reply.started": "2025-01-15T14:44:39.057996Z"
    },
    "trusted": true
   },
   "outputs": [
    {
     "name": "stdout",
     "output_type": "stream",
     "text": [
      "Num workers 3\n"
     ]
    }
   ],
   "source": [
    "batch_size = 100\n",
    "num_workers = multiprocessing.cpu_count()-1\n",
    "print(\"Num workers\", num_workers)\n",
    "train_dataloader = DataLoader(train_dataset, batch_size, shuffle=True, num_workers=num_workers)\n",
    "test_dataloader = DataLoader(test_dataset, batch_size, shuffle=False, num_workers=num_workers)"
   ]
  },
  {
   "cell_type": "markdown",
   "metadata": {},
   "source": [
    "### **Creación de Red**"
   ]
  },
  {
   "cell_type": "code",
   "execution_count": 6,
   "metadata": {
    "execution": {
     "iopub.execute_input": "2025-01-15T14:44:44.379996Z",
     "iopub.status.busy": "2025-01-15T14:44:44.379654Z",
     "iopub.status.idle": "2025-01-15T14:44:44.385341Z",
     "shell.execute_reply": "2025-01-15T14:44:44.384459Z",
     "shell.execute_reply.started": "2025-01-15T14:44:44.379953Z"
    },
    "trusted": true
   },
   "outputs": [],
   "source": [
    "class ConvBlock(nn.Module):\n",
    "    def __init__(self, in_channels, out_channels):\n",
    "        super(ConvBlock, self).__init__()\n",
    "        \n",
    "        self.conv = nn.Conv2d(in_channels, out_channels, kernel_size=3, stride=1, padding=1)\n",
    "        self.bn = nn.BatchNorm2d(out_channels)\n",
    "        self.relu = nn.ReLU()\n",
    "        self.pool = nn.MaxPool2d(kernel_size=2, stride=2)\n",
    "        \n",
    "    def forward(self, x):\n",
    "        \n",
    "        x = self.conv(x)\n",
    "        x = self.bn(x)\n",
    "        x = self.relu(x)\n",
    "        x = self.pool(x)\n",
    "\n",
    "        return x"
   ]
  },
  {
   "cell_type": "code",
   "execution_count": 7,
   "metadata": {
    "execution": {
     "iopub.execute_input": "2025-01-15T14:44:52.061383Z",
     "iopub.status.busy": "2025-01-15T14:44:52.061050Z",
     "iopub.status.idle": "2025-01-15T14:44:52.067054Z",
     "shell.execute_reply": "2025-01-15T14:44:52.066047Z",
     "shell.execute_reply.started": "2025-01-15T14:44:52.061355Z"
    },
    "trusted": true
   },
   "outputs": [],
   "source": [
    "class SimpleCNN(nn.Module):\n",
    "    def __init__(self, num_classes=10):\n",
    "        super(SimpleCNN, self).__init__()\n",
    "        \n",
    "        self.conv_layers = nn.Sequential(\n",
    "                ConvBlock(3, 32),\n",
    "                ConvBlock(32, 64),\n",
    "                ConvBlock(64, 128),\n",
    "                ConvBlock(128, 256),\n",
    "                ConvBlock(256, 512)\n",
    "            )\n",
    "        \n",
    "        self.fc1 = nn.Linear(512, 512)\n",
    "        self.fc2 = nn.Linear(512, num_classes)\n",
    "\n",
    "        self.relu = nn.ReLU()\n",
    "\n",
    "    def forward(self, x):\n",
    "        for layer in self.conv_layers:\n",
    "            x = layer(x)\n",
    "\n",
    "        x = torch.flatten(x, start_dim=1)\n",
    "        x = F.relu(self.fc1(x))\n",
    "        x = self.fc2(x)\n",
    "\n",
    "        return x"
   ]
  },
  {
   "cell_type": "code",
   "execution_count": 8,
   "metadata": {
    "execution": {
     "iopub.execute_input": "2025-01-15T14:44:55.390621Z",
     "iopub.status.busy": "2025-01-15T14:44:55.390350Z",
     "iopub.status.idle": "2025-01-15T14:44:55.446346Z",
     "shell.execute_reply": "2025-01-15T14:44:55.445507Z",
     "shell.execute_reply.started": "2025-01-15T14:44:55.390601Z"
    },
    "trusted": true
   },
   "outputs": [
    {
     "name": "stdout",
     "output_type": "stream",
     "text": [
      "SimpleCNN(\n",
      "  (conv_layers): Sequential(\n",
      "    (0): ConvBlock(\n",
      "      (conv): Conv2d(3, 32, kernel_size=(3, 3), stride=(1, 1), padding=(1, 1))\n",
      "      (bn): BatchNorm2d(32, eps=1e-05, momentum=0.1, affine=True, track_running_stats=True)\n",
      "      (relu): ReLU()\n",
      "      (pool): MaxPool2d(kernel_size=2, stride=2, padding=0, dilation=1, ceil_mode=False)\n",
      "    )\n",
      "    (1): ConvBlock(\n",
      "      (conv): Conv2d(32, 64, kernel_size=(3, 3), stride=(1, 1), padding=(1, 1))\n",
      "      (bn): BatchNorm2d(64, eps=1e-05, momentum=0.1, affine=True, track_running_stats=True)\n",
      "      (relu): ReLU()\n",
      "      (pool): MaxPool2d(kernel_size=2, stride=2, padding=0, dilation=1, ceil_mode=False)\n",
      "    )\n",
      "    (2): ConvBlock(\n",
      "      (conv): Conv2d(64, 128, kernel_size=(3, 3), stride=(1, 1), padding=(1, 1))\n",
      "      (bn): BatchNorm2d(128, eps=1e-05, momentum=0.1, affine=True, track_running_stats=True)\n",
      "      (relu): ReLU()\n",
      "      (pool): MaxPool2d(kernel_size=2, stride=2, padding=0, dilation=1, ceil_mode=False)\n",
      "    )\n",
      "    (3): ConvBlock(\n",
      "      (conv): Conv2d(128, 256, kernel_size=(3, 3), stride=(1, 1), padding=(1, 1))\n",
      "      (bn): BatchNorm2d(256, eps=1e-05, momentum=0.1, affine=True, track_running_stats=True)\n",
      "      (relu): ReLU()\n",
      "      (pool): MaxPool2d(kernel_size=2, stride=2, padding=0, dilation=1, ceil_mode=False)\n",
      "    )\n",
      "    (4): ConvBlock(\n",
      "      (conv): Conv2d(256, 512, kernel_size=(3, 3), stride=(1, 1), padding=(1, 1))\n",
      "      (bn): BatchNorm2d(512, eps=1e-05, momentum=0.1, affine=True, track_running_stats=True)\n",
      "      (relu): ReLU()\n",
      "      (pool): MaxPool2d(kernel_size=2, stride=2, padding=0, dilation=1, ceil_mode=False)\n",
      "    )\n",
      "  )\n",
      "  (fc1): Linear(in_features=512, out_features=512, bias=True)\n",
      "  (fc2): Linear(in_features=512, out_features=10, bias=True)\n",
      "  (relu): ReLU()\n",
      ")\n",
      "Params:  1838346\n"
     ]
    }
   ],
   "source": [
    "num_classes = 10\n",
    "net = SimpleCNN(\n",
    "    num_classes\n",
    "    )\n",
    "print(net)\n",
    "\n",
    "def count_parameters(model):\n",
    "    return sum(p.numel() for p in model.parameters() if p.requires_grad)\n",
    "print(\"Params: \", count_parameters(net))"
   ]
  },
  {
   "cell_type": "code",
   "execution_count": 9,
   "metadata": {
    "execution": {
     "iopub.execute_input": "2025-01-15T14:44:59.951660Z",
     "iopub.status.busy": "2025-01-15T14:44:59.951208Z",
     "iopub.status.idle": "2025-01-15T14:44:59.957217Z",
     "shell.execute_reply": "2025-01-15T14:44:59.956301Z",
     "shell.execute_reply.started": "2025-01-15T14:44:59.951624Z"
    },
    "trusted": true
   },
   "outputs": [],
   "source": [
    "criterion = nn.CrossEntropyLoss()\n",
    "optimizer = optim.SGD(net.parameters(), lr=0.01, weight_decay=1e-6, momentum=0.9)\n",
    "lr_scheduler = optim.lr_scheduler.ReduceLROnPlateau(optimizer, factor=0.1, patience=10, min_lr=0.00001)\n",
    "epochs = 100"
   ]
  },
  {
   "cell_type": "markdown",
   "metadata": {},
   "source": [
    "### **Entrenamiento**"
   ]
  },
  {
   "cell_type": "code",
   "execution_count": 10,
   "metadata": {
    "execution": {
     "iopub.execute_input": "2025-01-15T14:45:06.817238Z",
     "iopub.status.busy": "2025-01-15T14:45:06.816896Z",
     "iopub.status.idle": "2025-01-15T15:04:53.630908Z",
     "shell.execute_reply": "2025-01-15T15:04:53.630053Z",
     "shell.execute_reply.started": "2025-01-15T14:45:06.817212Z"
    },
    "trusted": true
   },
   "outputs": [
    {
     "name": "stdout",
     "output_type": "stream",
     "text": [
      "\n",
      "---- Start Training ----\n"
     ]
    },
    {
     "name": "stderr",
     "output_type": "stream",
     "text": [
      "Epoch 0: 100%|██████████| 500/500 [00:11<00:00, 44.56batch/s]\n",
      "Test 0: 100%|██████████| 100/100 [00:01<00:00, 75.92batch/s]"
     ]
    },
    {
     "name": "stdout",
     "output_type": "stream",
     "text": [
      "[Epoch 1] Train Loss: 1.442802 - Test Loss: 1.203230 - Train Accuracy: 47.14% - Test Accuracy: 57.57%\n"
     ]
    },
    {
     "name": "stderr",
     "output_type": "stream",
     "text": [
      "\n",
      "Epoch 1: 100%|██████████| 500/500 [00:10<00:00, 47.95batch/s]\n",
      "Test 1: 100%|██████████| 100/100 [00:01<00:00, 73.30batch/s]"
     ]
    },
    {
     "name": "stdout",
     "output_type": "stream",
     "text": [
      "[Epoch 2] Train Loss: 1.094136 - Test Loss: 1.047148 - Train Accuracy: 60.50% - Test Accuracy: 62.44%\n"
     ]
    },
    {
     "name": "stderr",
     "output_type": "stream",
     "text": [
      "\n",
      "Epoch 2: 100%|██████████| 500/500 [00:10<00:00, 48.75batch/s]\n",
      "Test 2: 100%|██████████| 100/100 [00:01<00:00, 73.01batch/s]"
     ]
    },
    {
     "name": "stdout",
     "output_type": "stream",
     "text": [
      "[Epoch 3] Train Loss: 0.945435 - Test Loss: 1.143016 - Train Accuracy: 66.41% - Test Accuracy: 61.43%\n"
     ]
    },
    {
     "name": "stderr",
     "output_type": "stream",
     "text": [
      "\n",
      "Epoch 3: 100%|██████████| 500/500 [00:10<00:00, 48.41batch/s]\n",
      "Test 3: 100%|██████████| 100/100 [00:01<00:00, 68.33batch/s]\n"
     ]
    },
    {
     "name": "stdout",
     "output_type": "stream",
     "text": [
      "[Epoch 4] Train Loss: 0.861382 - Test Loss: 0.970533 - Train Accuracy: 69.53% - Test Accuracy: 66.67%\n"
     ]
    },
    {
     "name": "stderr",
     "output_type": "stream",
     "text": [
      "Epoch 4: 100%|██████████| 500/500 [00:10<00:00, 46.94batch/s]\n",
      "Test 4: 100%|██████████| 100/100 [00:01<00:00, 73.40batch/s]"
     ]
    },
    {
     "name": "stdout",
     "output_type": "stream",
     "text": [
      "[Epoch 5] Train Loss: 0.799627 - Test Loss: 1.793427 - Train Accuracy: 71.90% - Test Accuracy: 52.80%\n"
     ]
    },
    {
     "name": "stderr",
     "output_type": "stream",
     "text": [
      "\n",
      "Epoch 5: 100%|██████████| 500/500 [00:10<00:00, 48.64batch/s]\n",
      "Test 5: 100%|██████████| 100/100 [00:01<00:00, 74.71batch/s]"
     ]
    },
    {
     "name": "stdout",
     "output_type": "stream",
     "text": [
      "[Epoch 6] Train Loss: 0.754806 - Test Loss: 0.821270 - Train Accuracy: 73.41% - Test Accuracy: 71.60%\n"
     ]
    },
    {
     "name": "stderr",
     "output_type": "stream",
     "text": [
      "\n",
      "Epoch 6: 100%|██████████| 500/500 [00:10<00:00, 49.19batch/s]\n",
      "Test 6: 100%|██████████| 100/100 [00:01<00:00, 73.15batch/s]"
     ]
    },
    {
     "name": "stdout",
     "output_type": "stream",
     "text": [
      "[Epoch 7] Train Loss: 0.708534 - Test Loss: 0.769185 - Train Accuracy: 75.16% - Test Accuracy: 74.14%\n"
     ]
    },
    {
     "name": "stderr",
     "output_type": "stream",
     "text": [
      "\n",
      "Epoch 7: 100%|██████████| 500/500 [00:10<00:00, 47.23batch/s]\n",
      "Test 7: 100%|██████████| 100/100 [00:01<00:00, 73.05batch/s]"
     ]
    },
    {
     "name": "stdout",
     "output_type": "stream",
     "text": [
      "[Epoch 8] Train Loss: 0.676529 - Test Loss: 0.805167 - Train Accuracy: 76.16% - Test Accuracy: 72.54%\n"
     ]
    },
    {
     "name": "stderr",
     "output_type": "stream",
     "text": [
      "\n",
      "Epoch 8: 100%|██████████| 500/500 [00:10<00:00, 49.13batch/s]\n",
      "Test 8: 100%|██████████| 100/100 [00:01<00:00, 74.01batch/s]\n"
     ]
    },
    {
     "name": "stdout",
     "output_type": "stream",
     "text": [
      "[Epoch 9] Train Loss: 0.643944 - Test Loss: 0.763445 - Train Accuracy: 77.30% - Test Accuracy: 74.21%\n"
     ]
    },
    {
     "name": "stderr",
     "output_type": "stream",
     "text": [
      "Epoch 9: 100%|██████████| 500/500 [00:10<00:00, 48.84batch/s]\n",
      "Test 9: 100%|██████████| 100/100 [00:01<00:00, 67.20batch/s]"
     ]
    },
    {
     "name": "stdout",
     "output_type": "stream",
     "text": [
      "[Epoch 10] Train Loss: 0.619499 - Test Loss: 0.819948 - Train Accuracy: 78.23% - Test Accuracy: 71.18%\n"
     ]
    },
    {
     "name": "stderr",
     "output_type": "stream",
     "text": [
      "\n",
      "Epoch 10: 100%|██████████| 500/500 [00:10<00:00, 48.30batch/s]\n",
      "Test 10: 100%|██████████| 100/100 [00:01<00:00, 75.41batch/s]"
     ]
    },
    {
     "name": "stdout",
     "output_type": "stream",
     "text": [
      "[Epoch 11] Train Loss: 0.597546 - Test Loss: 0.597838 - Train Accuracy: 78.89% - Test Accuracy: 79.55%\n"
     ]
    },
    {
     "name": "stderr",
     "output_type": "stream",
     "text": [
      "\n",
      "Epoch 11: 100%|██████████| 500/500 [00:10<00:00, 48.90batch/s]\n",
      "Test 11: 100%|██████████| 100/100 [00:01<00:00, 74.29batch/s]"
     ]
    },
    {
     "name": "stdout",
     "output_type": "stream",
     "text": [
      "[Epoch 12] Train Loss: 0.579368 - Test Loss: 0.640232 - Train Accuracy: 79.62% - Test Accuracy: 78.21%\n"
     ]
    },
    {
     "name": "stderr",
     "output_type": "stream",
     "text": [
      "\n",
      "Epoch 12: 100%|██████████| 500/500 [00:10<00:00, 47.19batch/s]\n",
      "Test 12: 100%|██████████| 100/100 [00:01<00:00, 74.75batch/s]"
     ]
    },
    {
     "name": "stdout",
     "output_type": "stream",
     "text": [
      "[Epoch 13] Train Loss: 0.558219 - Test Loss: 0.560309 - Train Accuracy: 80.46% - Test Accuracy: 80.98%\n"
     ]
    },
    {
     "name": "stderr",
     "output_type": "stream",
     "text": [
      "\n",
      "Epoch 13: 100%|██████████| 500/500 [00:10<00:00, 49.58batch/s]\n",
      "Test 13: 100%|██████████| 100/100 [00:01<00:00, 75.37batch/s]"
     ]
    },
    {
     "name": "stdout",
     "output_type": "stream",
     "text": [
      "[Epoch 14] Train Loss: 0.545058 - Test Loss: 0.616318 - Train Accuracy: 80.87% - Test Accuracy: 78.88%\n"
     ]
    },
    {
     "name": "stderr",
     "output_type": "stream",
     "text": [
      "\n",
      "Epoch 14: 100%|██████████| 500/500 [00:10<00:00, 48.44batch/s]\n",
      "Test 14: 100%|██████████| 100/100 [00:01<00:00, 71.51batch/s]"
     ]
    },
    {
     "name": "stdout",
     "output_type": "stream",
     "text": [
      "[Epoch 15] Train Loss: 0.530222 - Test Loss: 0.771321 - Train Accuracy: 81.48% - Test Accuracy: 74.16%\n"
     ]
    },
    {
     "name": "stderr",
     "output_type": "stream",
     "text": [
      "\n",
      "Epoch 15: 100%|██████████| 500/500 [00:10<00:00, 47.28batch/s]\n",
      "Test 15: 100%|██████████| 100/100 [00:01<00:00, 70.87batch/s]"
     ]
    },
    {
     "name": "stdout",
     "output_type": "stream",
     "text": [
      "[Epoch 16] Train Loss: 0.513272 - Test Loss: 0.556945 - Train Accuracy: 81.91% - Test Accuracy: 81.33%\n"
     ]
    },
    {
     "name": "stderr",
     "output_type": "stream",
     "text": [
      "\n",
      "Epoch 16: 100%|██████████| 500/500 [00:10<00:00, 48.58batch/s]\n",
      "Test 16: 100%|██████████| 100/100 [00:01<00:00, 76.06batch/s]"
     ]
    },
    {
     "name": "stdout",
     "output_type": "stream",
     "text": [
      "[Epoch 17] Train Loss: 0.505760 - Test Loss: 0.565186 - Train Accuracy: 82.31% - Test Accuracy: 80.78%\n"
     ]
    },
    {
     "name": "stderr",
     "output_type": "stream",
     "text": [
      "\n",
      "Epoch 17: 100%|██████████| 500/500 [00:10<00:00, 48.67batch/s]\n",
      "Test 17: 100%|██████████| 100/100 [00:01<00:00, 73.96batch/s]"
     ]
    },
    {
     "name": "stdout",
     "output_type": "stream",
     "text": [
      "[Epoch 18] Train Loss: 0.492932 - Test Loss: 0.584655 - Train Accuracy: 82.76% - Test Accuracy: 80.25%\n"
     ]
    },
    {
     "name": "stderr",
     "output_type": "stream",
     "text": [
      "\n",
      "Epoch 18: 100%|██████████| 500/500 [00:10<00:00, 46.89batch/s]\n",
      "Test 18: 100%|██████████| 100/100 [00:01<00:00, 74.91batch/s]"
     ]
    },
    {
     "name": "stdout",
     "output_type": "stream",
     "text": [
      "[Epoch 19] Train Loss: 0.477684 - Test Loss: 0.564657 - Train Accuracy: 83.21% - Test Accuracy: 81.38%\n"
     ]
    },
    {
     "name": "stderr",
     "output_type": "stream",
     "text": [
      "\n",
      "Epoch 19: 100%|██████████| 500/500 [00:10<00:00, 49.11batch/s]\n",
      "Test 19: 100%|██████████| 100/100 [00:01<00:00, 69.56batch/s]"
     ]
    },
    {
     "name": "stdout",
     "output_type": "stream",
     "text": [
      "[Epoch 20] Train Loss: 0.471441 - Test Loss: 0.618006 - Train Accuracy: 83.66% - Test Accuracy: 78.95%\n"
     ]
    },
    {
     "name": "stderr",
     "output_type": "stream",
     "text": [
      "\n",
      "Epoch 20: 100%|██████████| 500/500 [00:10<00:00, 48.54batch/s]\n",
      "Test 20: 100%|██████████| 100/100 [00:01<00:00, 65.36batch/s]"
     ]
    },
    {
     "name": "stdout",
     "output_type": "stream",
     "text": [
      "[Epoch 21] Train Loss: 0.461994 - Test Loss: 0.670682 - Train Accuracy: 83.78% - Test Accuracy: 78.71%\n"
     ]
    },
    {
     "name": "stderr",
     "output_type": "stream",
     "text": [
      "\n",
      "Epoch 21: 100%|██████████| 500/500 [00:10<00:00, 48.85batch/s]\n",
      "Test 21: 100%|██████████| 100/100 [00:01<00:00, 74.41batch/s]"
     ]
    },
    {
     "name": "stdout",
     "output_type": "stream",
     "text": [
      "[Epoch 22] Train Loss: 0.452084 - Test Loss: 0.564167 - Train Accuracy: 84.09% - Test Accuracy: 80.64%\n"
     ]
    },
    {
     "name": "stderr",
     "output_type": "stream",
     "text": [
      "\n",
      "Epoch 22: 100%|██████████| 500/500 [00:10<00:00, 48.63batch/s]\n",
      "Test 22: 100%|██████████| 100/100 [00:01<00:00, 74.66batch/s]"
     ]
    },
    {
     "name": "stdout",
     "output_type": "stream",
     "text": [
      "[Epoch 23] Train Loss: 0.437822 - Test Loss: 0.526394 - Train Accuracy: 84.67% - Test Accuracy: 82.63%\n"
     ]
    },
    {
     "name": "stderr",
     "output_type": "stream",
     "text": [
      "\n",
      "Epoch 23: 100%|██████████| 500/500 [00:10<00:00, 46.83batch/s]\n",
      "Test 23: 100%|██████████| 100/100 [00:01<00:00, 73.02batch/s]"
     ]
    },
    {
     "name": "stdout",
     "output_type": "stream",
     "text": [
      "[Epoch 24] Train Loss: 0.433033 - Test Loss: 0.460493 - Train Accuracy: 84.71% - Test Accuracy: 84.29%\n"
     ]
    },
    {
     "name": "stderr",
     "output_type": "stream",
     "text": [
      "\n",
      "Epoch 24: 100%|██████████| 500/500 [00:10<00:00, 48.55batch/s]\n",
      "Test 24: 100%|██████████| 100/100 [00:01<00:00, 75.05batch/s]"
     ]
    },
    {
     "name": "stdout",
     "output_type": "stream",
     "text": [
      "[Epoch 25] Train Loss: 0.418881 - Test Loss: 0.583136 - Train Accuracy: 85.38% - Test Accuracy: 81.18%\n"
     ]
    },
    {
     "name": "stderr",
     "output_type": "stream",
     "text": [
      "\n",
      "Epoch 25: 100%|██████████| 500/500 [00:10<00:00, 48.74batch/s]\n",
      "Test 25: 100%|██████████| 100/100 [00:01<00:00, 72.31batch/s]"
     ]
    },
    {
     "name": "stdout",
     "output_type": "stream",
     "text": [
      "[Epoch 26] Train Loss: 0.413447 - Test Loss: 0.487196 - Train Accuracy: 85.50% - Test Accuracy: 83.58%\n"
     ]
    },
    {
     "name": "stderr",
     "output_type": "stream",
     "text": [
      "\n",
      "Epoch 26: 100%|██████████| 500/500 [00:10<00:00, 48.17batch/s]\n",
      "Test 26: 100%|██████████| 100/100 [00:01<00:00, 74.81batch/s]"
     ]
    },
    {
     "name": "stdout",
     "output_type": "stream",
     "text": [
      "[Epoch 27] Train Loss: 0.406681 - Test Loss: 0.534758 - Train Accuracy: 85.64% - Test Accuracy: 82.35%\n"
     ]
    },
    {
     "name": "stderr",
     "output_type": "stream",
     "text": [
      "\n",
      "Epoch 27: 100%|██████████| 500/500 [00:10<00:00, 49.02batch/s]\n",
      "Test 27: 100%|██████████| 100/100 [00:01<00:00, 71.27batch/s]"
     ]
    },
    {
     "name": "stdout",
     "output_type": "stream",
     "text": [
      "[Epoch 28] Train Loss: 0.399239 - Test Loss: 0.548171 - Train Accuracy: 85.90% - Test Accuracy: 82.29%\n"
     ]
    },
    {
     "name": "stderr",
     "output_type": "stream",
     "text": [
      "\n",
      "Epoch 28: 100%|██████████| 500/500 [00:10<00:00, 49.20batch/s]\n",
      "Test 28: 100%|██████████| 100/100 [00:01<00:00, 73.38batch/s]"
     ]
    },
    {
     "name": "stdout",
     "output_type": "stream",
     "text": [
      "[Epoch 29] Train Loss: 0.389655 - Test Loss: 0.514807 - Train Accuracy: 86.21% - Test Accuracy: 82.78%\n"
     ]
    },
    {
     "name": "stderr",
     "output_type": "stream",
     "text": [
      "\n",
      "Epoch 29: 100%|██████████| 500/500 [00:10<00:00, 47.48batch/s]\n",
      "Test 29: 100%|██████████| 100/100 [00:01<00:00, 73.24batch/s]"
     ]
    },
    {
     "name": "stdout",
     "output_type": "stream",
     "text": [
      "[Epoch 30] Train Loss: 0.379760 - Test Loss: 0.562456 - Train Accuracy: 86.51% - Test Accuracy: 81.64%\n"
     ]
    },
    {
     "name": "stderr",
     "output_type": "stream",
     "text": [
      "\n",
      "Epoch 30: 100%|██████████| 500/500 [00:10<00:00, 49.04batch/s]\n",
      "Test 30: 100%|██████████| 100/100 [00:01<00:00, 72.30batch/s]"
     ]
    },
    {
     "name": "stdout",
     "output_type": "stream",
     "text": [
      "[Epoch 31] Train Loss: 0.374575 - Test Loss: 0.509242 - Train Accuracy: 86.92% - Test Accuracy: 83.03%\n"
     ]
    },
    {
     "name": "stderr",
     "output_type": "stream",
     "text": [
      "\n",
      "Epoch 31: 100%|██████████| 500/500 [00:10<00:00, 47.00batch/s]\n",
      "Test 31: 100%|██████████| 100/100 [00:01<00:00, 73.96batch/s]"
     ]
    },
    {
     "name": "stdout",
     "output_type": "stream",
     "text": [
      "[Epoch 32] Train Loss: 0.366115 - Test Loss: 0.498874 - Train Accuracy: 87.16% - Test Accuracy: 83.73%\n"
     ]
    },
    {
     "name": "stderr",
     "output_type": "stream",
     "text": [
      "\n",
      "Epoch 32: 100%|██████████| 500/500 [00:10<00:00, 48.78batch/s]\n",
      "Test 32: 100%|██████████| 100/100 [00:01<00:00, 73.31batch/s]"
     ]
    },
    {
     "name": "stdout",
     "output_type": "stream",
     "text": [
      "[Epoch 33] Train Loss: 0.362274 - Test Loss: 0.489512 - Train Accuracy: 87.14% - Test Accuracy: 83.96%\n"
     ]
    },
    {
     "name": "stderr",
     "output_type": "stream",
     "text": [
      "\n",
      "Epoch 33: 100%|██████████| 500/500 [00:10<00:00, 48.48batch/s]\n",
      "Test 33: 100%|██████████| 100/100 [00:01<00:00, 74.92batch/s]"
     ]
    },
    {
     "name": "stdout",
     "output_type": "stream",
     "text": [
      "[Epoch 34] Train Loss: 0.354306 - Test Loss: 0.546447 - Train Accuracy: 87.71% - Test Accuracy: 82.32%\n"
     ]
    },
    {
     "name": "stderr",
     "output_type": "stream",
     "text": [
      "\n",
      "Epoch 34: 100%|██████████| 500/500 [00:10<00:00, 47.35batch/s]\n",
      "Test 34: 100%|██████████| 100/100 [00:01<00:00, 74.53batch/s]"
     ]
    },
    {
     "name": "stdout",
     "output_type": "stream",
     "text": [
      "[Epoch 35] Train Loss: 0.350532 - Test Loss: 0.548290 - Train Accuracy: 87.63% - Test Accuracy: 82.88%\n"
     ]
    },
    {
     "name": "stderr",
     "output_type": "stream",
     "text": [
      "\n",
      "Epoch 35: 100%|██████████| 500/500 [00:10<00:00, 48.85batch/s]\n",
      "Test 35: 100%|██████████| 100/100 [00:01<00:00, 73.24batch/s]"
     ]
    },
    {
     "name": "stdout",
     "output_type": "stream",
     "text": [
      "[Epoch 36] Train Loss: 0.292520 - Test Loss: 0.400776 - Train Accuracy: 89.72% - Test Accuracy: 86.97%\n"
     ]
    },
    {
     "name": "stderr",
     "output_type": "stream",
     "text": [
      "\n",
      "Epoch 36: 100%|██████████| 500/500 [00:10<00:00, 48.42batch/s]\n",
      "Test 36: 100%|██████████| 100/100 [00:01<00:00, 70.96batch/s]"
     ]
    },
    {
     "name": "stdout",
     "output_type": "stream",
     "text": [
      "[Epoch 37] Train Loss: 0.274099 - Test Loss: 0.402028 - Train Accuracy: 90.36% - Test Accuracy: 86.90%\n"
     ]
    },
    {
     "name": "stderr",
     "output_type": "stream",
     "text": [
      "\n",
      "Epoch 37: 100%|██████████| 500/500 [00:10<00:00, 47.24batch/s]\n",
      "Test 37: 100%|██████████| 100/100 [00:01<00:00, 72.14batch/s]"
     ]
    },
    {
     "name": "stdout",
     "output_type": "stream",
     "text": [
      "[Epoch 38] Train Loss: 0.267744 - Test Loss: 0.398248 - Train Accuracy: 90.54% - Test Accuracy: 87.01%\n"
     ]
    },
    {
     "name": "stderr",
     "output_type": "stream",
     "text": [
      "\n",
      "Epoch 38: 100%|██████████| 500/500 [00:10<00:00, 48.51batch/s]\n",
      "Test 38: 100%|██████████| 100/100 [00:01<00:00, 72.19batch/s]"
     ]
    },
    {
     "name": "stdout",
     "output_type": "stream",
     "text": [
      "[Epoch 39] Train Loss: 0.258139 - Test Loss: 0.404091 - Train Accuracy: 90.85% - Test Accuracy: 86.89%\n"
     ]
    },
    {
     "name": "stderr",
     "output_type": "stream",
     "text": [
      "\n",
      "Epoch 39: 100%|██████████| 500/500 [00:10<00:00, 47.80batch/s]\n",
      "Test 39: 100%|██████████| 100/100 [00:01<00:00, 66.02batch/s]\n"
     ]
    },
    {
     "name": "stdout",
     "output_type": "stream",
     "text": [
      "[Epoch 40] Train Loss: 0.257243 - Test Loss: 0.397201 - Train Accuracy: 90.95% - Test Accuracy: 87.22%\n"
     ]
    },
    {
     "name": "stderr",
     "output_type": "stream",
     "text": [
      "Epoch 40: 100%|██████████| 500/500 [00:10<00:00, 48.45batch/s]\n",
      "Test 40: 100%|██████████| 100/100 [00:01<00:00, 72.96batch/s]"
     ]
    },
    {
     "name": "stdout",
     "output_type": "stream",
     "text": [
      "[Epoch 41] Train Loss: 0.252870 - Test Loss: 0.400927 - Train Accuracy: 90.97% - Test Accuracy: 86.97%\n"
     ]
    },
    {
     "name": "stderr",
     "output_type": "stream",
     "text": [
      "\n",
      "Epoch 41: 100%|██████████| 500/500 [00:10<00:00, 48.89batch/s]\n",
      "Test 41: 100%|██████████| 100/100 [00:01<00:00, 72.32batch/s]\n"
     ]
    },
    {
     "name": "stdout",
     "output_type": "stream",
     "text": [
      "[Epoch 42] Train Loss: 0.251368 - Test Loss: 0.399090 - Train Accuracy: 91.10% - Test Accuracy: 87.33%\n"
     ]
    },
    {
     "name": "stderr",
     "output_type": "stream",
     "text": [
      "Epoch 42: 100%|██████████| 500/500 [00:10<00:00, 47.80batch/s]\n",
      "Test 42: 100%|██████████| 100/100 [00:01<00:00, 70.98batch/s]"
     ]
    },
    {
     "name": "stdout",
     "output_type": "stream",
     "text": [
      "[Epoch 43] Train Loss: 0.247184 - Test Loss: 0.403115 - Train Accuracy: 91.26% - Test Accuracy: 87.04%\n"
     ]
    },
    {
     "name": "stderr",
     "output_type": "stream",
     "text": [
      "\n",
      "Epoch 43: 100%|██████████| 500/500 [00:10<00:00, 48.48batch/s]\n",
      "Test 43: 100%|██████████| 100/100 [00:01<00:00, 74.70batch/s]"
     ]
    },
    {
     "name": "stdout",
     "output_type": "stream",
     "text": [
      "[Epoch 44] Train Loss: 0.246216 - Test Loss: 0.398195 - Train Accuracy: 91.33% - Test Accuracy: 87.08%\n"
     ]
    },
    {
     "name": "stderr",
     "output_type": "stream",
     "text": [
      "\n",
      "Epoch 44: 100%|██████████| 500/500 [00:10<00:00, 48.53batch/s]\n",
      "Test 44: 100%|██████████| 100/100 [00:01<00:00, 73.08batch/s]"
     ]
    },
    {
     "name": "stdout",
     "output_type": "stream",
     "text": [
      "[Epoch 45] Train Loss: 0.243680 - Test Loss: 0.401928 - Train Accuracy: 91.38% - Test Accuracy: 87.08%\n"
     ]
    },
    {
     "name": "stderr",
     "output_type": "stream",
     "text": [
      "\n",
      "Epoch 45: 100%|██████████| 500/500 [00:10<00:00, 46.48batch/s]\n",
      "Test 45: 100%|██████████| 100/100 [00:01<00:00, 73.31batch/s]"
     ]
    },
    {
     "name": "stdout",
     "output_type": "stream",
     "text": [
      "[Epoch 46] Train Loss: 0.247438 - Test Loss: 0.400016 - Train Accuracy: 91.23% - Test Accuracy: 87.17%\n"
     ]
    },
    {
     "name": "stderr",
     "output_type": "stream",
     "text": [
      "\n",
      "Epoch 46: 100%|██████████| 500/500 [00:10<00:00, 48.42batch/s]\n",
      "Test 46: 100%|██████████| 100/100 [00:01<00:00, 69.97batch/s]"
     ]
    },
    {
     "name": "stdout",
     "output_type": "stream",
     "text": [
      "[Epoch 47] Train Loss: 0.240739 - Test Loss: 0.399016 - Train Accuracy: 91.54% - Test Accuracy: 87.23%\n"
     ]
    },
    {
     "name": "stderr",
     "output_type": "stream",
     "text": [
      "\n",
      "Epoch 47: 100%|██████████| 500/500 [00:10<00:00, 48.54batch/s]\n",
      "Test 47: 100%|██████████| 100/100 [00:01<00:00, 67.90batch/s]"
     ]
    },
    {
     "name": "stdout",
     "output_type": "stream",
     "text": [
      "[Epoch 48] Train Loss: 0.238467 - Test Loss: 0.400351 - Train Accuracy: 91.67% - Test Accuracy: 87.16%\n"
     ]
    },
    {
     "name": "stderr",
     "output_type": "stream",
     "text": [
      "\n",
      "Epoch 48: 100%|██████████| 500/500 [00:10<00:00, 46.84batch/s]\n",
      "Test 48: 100%|██████████| 100/100 [00:01<00:00, 70.25batch/s]"
     ]
    },
    {
     "name": "stdout",
     "output_type": "stream",
     "text": [
      "[Epoch 49] Train Loss: 0.238217 - Test Loss: 0.404330 - Train Accuracy: 91.49% - Test Accuracy: 87.19%\n"
     ]
    },
    {
     "name": "stderr",
     "output_type": "stream",
     "text": [
      "\n",
      "Epoch 49: 100%|██████████| 500/500 [00:10<00:00, 49.02batch/s]\n",
      "Test 49: 100%|██████████| 100/100 [00:01<00:00, 73.82batch/s]"
     ]
    },
    {
     "name": "stdout",
     "output_type": "stream",
     "text": [
      "[Epoch 50] Train Loss: 0.236689 - Test Loss: 0.398324 - Train Accuracy: 91.50% - Test Accuracy: 87.36%\n"
     ]
    },
    {
     "name": "stderr",
     "output_type": "stream",
     "text": [
      "\n",
      "Epoch 50: 100%|██████████| 500/500 [00:10<00:00, 46.84batch/s]\n",
      "Test 50: 100%|██████████| 100/100 [00:01<00:00, 72.85batch/s]"
     ]
    },
    {
     "name": "stdout",
     "output_type": "stream",
     "text": [
      "[Epoch 51] Train Loss: 0.236602 - Test Loss: 0.400527 - Train Accuracy: 91.61% - Test Accuracy: 87.13%\n"
     ]
    },
    {
     "name": "stderr",
     "output_type": "stream",
     "text": [
      "\n",
      "Epoch 51: 100%|██████████| 500/500 [00:10<00:00, 48.43batch/s]\n",
      "Test 51: 100%|██████████| 100/100 [00:01<00:00, 72.56batch/s]"
     ]
    },
    {
     "name": "stdout",
     "output_type": "stream",
     "text": [
      "[Epoch 52] Train Loss: 0.226571 - Test Loss: 0.398220 - Train Accuracy: 92.04% - Test Accuracy: 87.30%\n"
     ]
    },
    {
     "name": "stderr",
     "output_type": "stream",
     "text": [
      "\n",
      "Epoch 52: 100%|██████████| 500/500 [00:10<00:00, 48.19batch/s]\n",
      "Test 52: 100%|██████████| 100/100 [00:01<00:00, 71.69batch/s]\n"
     ]
    },
    {
     "name": "stdout",
     "output_type": "stream",
     "text": [
      "[Epoch 53] Train Loss: 0.226737 - Test Loss: 0.398930 - Train Accuracy: 92.05% - Test Accuracy: 87.38%\n"
     ]
    },
    {
     "name": "stderr",
     "output_type": "stream",
     "text": [
      "Epoch 53: 100%|██████████| 500/500 [00:10<00:00, 47.23batch/s]\n",
      "Test 53: 100%|██████████| 100/100 [00:01<00:00, 71.73batch/s]\n"
     ]
    },
    {
     "name": "stdout",
     "output_type": "stream",
     "text": [
      "[Epoch 54] Train Loss: 0.225210 - Test Loss: 0.397683 - Train Accuracy: 92.03% - Test Accuracy: 87.43%\n"
     ]
    },
    {
     "name": "stderr",
     "output_type": "stream",
     "text": [
      "Epoch 54: 100%|██████████| 500/500 [00:10<00:00, 47.96batch/s]\n",
      "Test 54: 100%|██████████| 100/100 [00:01<00:00, 70.93batch/s]"
     ]
    },
    {
     "name": "stdout",
     "output_type": "stream",
     "text": [
      "[Epoch 55] Train Loss: 0.225323 - Test Loss: 0.397651 - Train Accuracy: 92.16% - Test Accuracy: 87.24%\n"
     ]
    },
    {
     "name": "stderr",
     "output_type": "stream",
     "text": [
      "\n",
      "Epoch 55: 100%|██████████| 500/500 [00:10<00:00, 48.88batch/s]\n",
      "Test 55: 100%|██████████| 100/100 [00:01<00:00, 73.32batch/s]"
     ]
    },
    {
     "name": "stdout",
     "output_type": "stream",
     "text": [
      "[Epoch 56] Train Loss: 0.224877 - Test Loss: 0.399286 - Train Accuracy: 92.09% - Test Accuracy: 87.29%\n"
     ]
    },
    {
     "name": "stderr",
     "output_type": "stream",
     "text": [
      "\n",
      "Epoch 56: 100%|██████████| 500/500 [00:10<00:00, 47.10batch/s]\n",
      "Test 56: 100%|██████████| 100/100 [00:01<00:00, 72.05batch/s]"
     ]
    },
    {
     "name": "stdout",
     "output_type": "stream",
     "text": [
      "[Epoch 57] Train Loss: 0.227159 - Test Loss: 0.399750 - Train Accuracy: 91.92% - Test Accuracy: 87.43%\n"
     ]
    },
    {
     "name": "stderr",
     "output_type": "stream",
     "text": [
      "\n",
      "Epoch 57: 100%|██████████| 500/500 [00:10<00:00, 48.88batch/s]\n",
      "Test 57: 100%|██████████| 100/100 [00:01<00:00, 72.39batch/s]"
     ]
    },
    {
     "name": "stdout",
     "output_type": "stream",
     "text": [
      "[Epoch 58] Train Loss: 0.222031 - Test Loss: 0.398545 - Train Accuracy: 92.22% - Test Accuracy: 87.21%\n"
     ]
    },
    {
     "name": "stderr",
     "output_type": "stream",
     "text": [
      "\n",
      "Epoch 58: 100%|██████████| 500/500 [00:10<00:00, 47.54batch/s]\n",
      "Test 58: 100%|██████████| 100/100 [00:01<00:00, 74.39batch/s]"
     ]
    },
    {
     "name": "stdout",
     "output_type": "stream",
     "text": [
      "[Epoch 59] Train Loss: 0.222516 - Test Loss: 0.398638 - Train Accuracy: 91.95% - Test Accuracy: 87.34%\n"
     ]
    },
    {
     "name": "stderr",
     "output_type": "stream",
     "text": [
      "\n",
      "Epoch 59: 100%|██████████| 500/500 [00:10<00:00, 48.47batch/s]\n",
      "Test 59: 100%|██████████| 100/100 [00:01<00:00, 73.54batch/s]"
     ]
    },
    {
     "name": "stdout",
     "output_type": "stream",
     "text": [
      "[Epoch 60] Train Loss: 0.223366 - Test Loss: 0.398246 - Train Accuracy: 92.14% - Test Accuracy: 87.34%\n"
     ]
    },
    {
     "name": "stderr",
     "output_type": "stream",
     "text": [
      "\n",
      "Epoch 60: 100%|██████████| 500/500 [00:10<00:00, 48.27batch/s]\n",
      "Test 60: 100%|██████████| 100/100 [00:01<00:00, 73.90batch/s]"
     ]
    },
    {
     "name": "stdout",
     "output_type": "stream",
     "text": [
      "[Epoch 61] Train Loss: 0.220196 - Test Loss: 0.396596 - Train Accuracy: 92.21% - Test Accuracy: 87.37%\n"
     ]
    },
    {
     "name": "stderr",
     "output_type": "stream",
     "text": [
      "\n",
      "Epoch 61: 100%|██████████| 500/500 [00:10<00:00, 47.76batch/s]\n",
      "Test 61: 100%|██████████| 100/100 [00:01<00:00, 70.82batch/s]"
     ]
    },
    {
     "name": "stdout",
     "output_type": "stream",
     "text": [
      "[Epoch 62] Train Loss: 0.223519 - Test Loss: 0.399826 - Train Accuracy: 92.07% - Test Accuracy: 87.42%\n"
     ]
    },
    {
     "name": "stderr",
     "output_type": "stream",
     "text": [
      "\n",
      "Epoch 62: 100%|██████████| 500/500 [00:10<00:00, 48.20batch/s]\n",
      "Test 62: 100%|██████████| 100/100 [00:01<00:00, 74.02batch/s]"
     ]
    },
    {
     "name": "stdout",
     "output_type": "stream",
     "text": [
      "[Epoch 63] Train Loss: 0.223137 - Test Loss: 0.398293 - Train Accuracy: 92.16% - Test Accuracy: 87.37%\n"
     ]
    },
    {
     "name": "stderr",
     "output_type": "stream",
     "text": [
      "\n",
      "Epoch 63: 100%|██████████| 500/500 [00:10<00:00, 48.12batch/s]\n",
      "Test 63: 100%|██████████| 100/100 [00:01<00:00, 72.86batch/s]\n"
     ]
    },
    {
     "name": "stdout",
     "output_type": "stream",
     "text": [
      "[Epoch 64] Train Loss: 0.223425 - Test Loss: 0.400218 - Train Accuracy: 92.08% - Test Accuracy: 87.46%\n"
     ]
    },
    {
     "name": "stderr",
     "output_type": "stream",
     "text": [
      "Epoch 64: 100%|██████████| 500/500 [00:10<00:00, 47.46batch/s]\n",
      "Test 64: 100%|██████████| 100/100 [00:01<00:00, 73.28batch/s]"
     ]
    },
    {
     "name": "stdout",
     "output_type": "stream",
     "text": [
      "[Epoch 65] Train Loss: 0.222631 - Test Loss: 0.397458 - Train Accuracy: 92.05% - Test Accuracy: 87.44%\n"
     ]
    },
    {
     "name": "stderr",
     "output_type": "stream",
     "text": [
      "\n",
      "Epoch 65: 100%|██████████| 500/500 [00:10<00:00, 48.29batch/s]\n",
      "Test 65: 100%|██████████| 100/100 [00:01<00:00, 71.84batch/s]"
     ]
    },
    {
     "name": "stdout",
     "output_type": "stream",
     "text": [
      "[Epoch 66] Train Loss: 0.224401 - Test Loss: 0.399520 - Train Accuracy: 92.15% - Test Accuracy: 87.35%\n"
     ]
    },
    {
     "name": "stderr",
     "output_type": "stream",
     "text": [
      "\n",
      "Epoch 66: 100%|██████████| 500/500 [00:10<00:00, 48.20batch/s]\n",
      "Test 66: 100%|██████████| 100/100 [00:01<00:00, 62.89batch/s]"
     ]
    },
    {
     "name": "stdout",
     "output_type": "stream",
     "text": [
      "[Epoch 67] Train Loss: 0.220364 - Test Loss: 0.399491 - Train Accuracy: 92.17% - Test Accuracy: 87.52%\n"
     ]
    },
    {
     "name": "stderr",
     "output_type": "stream",
     "text": [
      "\n",
      "Epoch 67: 100%|██████████| 500/500 [00:10<00:00, 48.29batch/s]\n",
      "Test 67: 100%|██████████| 100/100 [00:01<00:00, 74.44batch/s]"
     ]
    },
    {
     "name": "stdout",
     "output_type": "stream",
     "text": [
      "[Epoch 68] Train Loss: 0.223290 - Test Loss: 0.397039 - Train Accuracy: 92.12% - Test Accuracy: 87.52%\n"
     ]
    },
    {
     "name": "stderr",
     "output_type": "stream",
     "text": [
      "\n",
      "Epoch 68: 100%|██████████| 500/500 [00:10<00:00, 48.27batch/s]\n",
      "Test 68: 100%|██████████| 100/100 [00:01<00:00, 72.78batch/s]"
     ]
    },
    {
     "name": "stdout",
     "output_type": "stream",
     "text": [
      "[Epoch 69] Train Loss: 0.222666 - Test Loss: 0.399269 - Train Accuracy: 92.14% - Test Accuracy: 87.53%\n"
     ]
    },
    {
     "name": "stderr",
     "output_type": "stream",
     "text": [
      "\n",
      "Epoch 69: 100%|██████████| 500/500 [00:10<00:00, 47.12batch/s]\n",
      "Test 69: 100%|██████████| 100/100 [00:01<00:00, 73.48batch/s]"
     ]
    },
    {
     "name": "stdout",
     "output_type": "stream",
     "text": [
      "[Epoch 70] Train Loss: 0.223020 - Test Loss: 0.397605 - Train Accuracy: 92.01% - Test Accuracy: 87.57%\n"
     ]
    },
    {
     "name": "stderr",
     "output_type": "stream",
     "text": [
      "\n",
      "Epoch 70: 100%|██████████| 500/500 [00:10<00:00, 48.76batch/s]\n",
      "Test 70: 100%|██████████| 100/100 [00:01<00:00, 70.63batch/s]"
     ]
    },
    {
     "name": "stdout",
     "output_type": "stream",
     "text": [
      "[Epoch 71] Train Loss: 0.221807 - Test Loss: 0.398827 - Train Accuracy: 92.15% - Test Accuracy: 87.33%\n"
     ]
    },
    {
     "name": "stderr",
     "output_type": "stream",
     "text": [
      "\n",
      "Epoch 71: 100%|██████████| 500/500 [00:10<00:00, 48.72batch/s]\n",
      "Test 71: 100%|██████████| 100/100 [00:01<00:00, 73.81batch/s]"
     ]
    },
    {
     "name": "stdout",
     "output_type": "stream",
     "text": [
      "[Epoch 72] Train Loss: 0.220880 - Test Loss: 0.399811 - Train Accuracy: 92.15% - Test Accuracy: 87.49%\n"
     ]
    },
    {
     "name": "stderr",
     "output_type": "stream",
     "text": [
      "\n",
      "Epoch 72: 100%|██████████| 500/500 [00:10<00:00, 47.28batch/s]\n",
      "Test 72: 100%|██████████| 100/100 [00:01<00:00, 73.82batch/s]"
     ]
    },
    {
     "name": "stdout",
     "output_type": "stream",
     "text": [
      "[Epoch 73] Train Loss: 0.220369 - Test Loss: 0.399813 - Train Accuracy: 92.19% - Test Accuracy: 87.41%\n"
     ]
    },
    {
     "name": "stderr",
     "output_type": "stream",
     "text": [
      "\n",
      "Epoch 73: 100%|██████████| 500/500 [00:10<00:00, 48.25batch/s]\n",
      "Test 73: 100%|██████████| 100/100 [00:01<00:00, 75.40batch/s]"
     ]
    },
    {
     "name": "stdout",
     "output_type": "stream",
     "text": [
      "[Epoch 74] Train Loss: 0.220284 - Test Loss: 0.399968 - Train Accuracy: 92.23% - Test Accuracy: 87.47%\n"
     ]
    },
    {
     "name": "stderr",
     "output_type": "stream",
     "text": [
      "\n",
      "Epoch 74: 100%|██████████| 500/500 [00:10<00:00, 48.63batch/s]\n",
      "Test 74: 100%|██████████| 100/100 [00:01<00:00, 72.93batch/s]"
     ]
    },
    {
     "name": "stdout",
     "output_type": "stream",
     "text": [
      "[Epoch 75] Train Loss: 0.219639 - Test Loss: 0.400857 - Train Accuracy: 92.38% - Test Accuracy: 87.35%\n"
     ]
    },
    {
     "name": "stderr",
     "output_type": "stream",
     "text": [
      "\n",
      "Epoch 75: 100%|██████████| 500/500 [00:10<00:00, 47.68batch/s]\n",
      "Test 75: 100%|██████████| 100/100 [00:01<00:00, 74.76batch/s]"
     ]
    },
    {
     "name": "stdout",
     "output_type": "stream",
     "text": [
      "[Epoch 76] Train Loss: 0.218737 - Test Loss: 0.397525 - Train Accuracy: 92.17% - Test Accuracy: 87.50%\n"
     ]
    },
    {
     "name": "stderr",
     "output_type": "stream",
     "text": [
      "\n",
      "Epoch 76: 100%|██████████| 500/500 [00:10<00:00, 48.72batch/s]\n",
      "Test 76: 100%|██████████| 100/100 [00:01<00:00, 73.37batch/s]"
     ]
    },
    {
     "name": "stdout",
     "output_type": "stream",
     "text": [
      "[Epoch 77] Train Loss: 0.219127 - Test Loss: 0.398433 - Train Accuracy: 92.16% - Test Accuracy: 87.43%\n"
     ]
    },
    {
     "name": "stderr",
     "output_type": "stream",
     "text": [
      "\n",
      "Epoch 77: 100%|██████████| 500/500 [00:10<00:00, 47.30batch/s]\n",
      "Test 77: 100%|██████████| 100/100 [00:01<00:00, 70.49batch/s]"
     ]
    },
    {
     "name": "stdout",
     "output_type": "stream",
     "text": [
      "[Epoch 78] Train Loss: 0.223609 - Test Loss: 0.400169 - Train Accuracy: 92.02% - Test Accuracy: 87.41%\n"
     ]
    },
    {
     "name": "stderr",
     "output_type": "stream",
     "text": [
      "\n",
      "Epoch 78: 100%|██████████| 500/500 [00:10<00:00, 49.77batch/s]\n",
      "Test 78: 100%|██████████| 100/100 [00:01<00:00, 74.72batch/s]"
     ]
    },
    {
     "name": "stdout",
     "output_type": "stream",
     "text": [
      "[Epoch 79] Train Loss: 0.221394 - Test Loss: 0.397803 - Train Accuracy: 92.19% - Test Accuracy: 87.41%\n"
     ]
    },
    {
     "name": "stderr",
     "output_type": "stream",
     "text": [
      "\n",
      "Epoch 79: 100%|██████████| 500/500 [00:10<00:00, 48.96batch/s]\n",
      "Test 79: 100%|██████████| 100/100 [00:01<00:00, 73.64batch/s]"
     ]
    },
    {
     "name": "stdout",
     "output_type": "stream",
     "text": [
      "[Epoch 80] Train Loss: 0.223727 - Test Loss: 0.399451 - Train Accuracy: 92.14% - Test Accuracy: 87.44%\n"
     ]
    },
    {
     "name": "stderr",
     "output_type": "stream",
     "text": [
      "\n",
      "Epoch 80: 100%|██████████| 500/500 [00:10<00:00, 47.25batch/s]\n",
      "Test 80: 100%|██████████| 100/100 [00:01<00:00, 73.30batch/s]"
     ]
    },
    {
     "name": "stdout",
     "output_type": "stream",
     "text": [
      "[Epoch 81] Train Loss: 0.221374 - Test Loss: 0.399522 - Train Accuracy: 92.18% - Test Accuracy: 87.45%\n"
     ]
    },
    {
     "name": "stderr",
     "output_type": "stream",
     "text": [
      "\n",
      "Epoch 81: 100%|██████████| 500/500 [00:10<00:00, 49.07batch/s]\n",
      "Test 81: 100%|██████████| 100/100 [00:01<00:00, 73.42batch/s]"
     ]
    },
    {
     "name": "stdout",
     "output_type": "stream",
     "text": [
      "[Epoch 82] Train Loss: 0.220790 - Test Loss: 0.399126 - Train Accuracy: 92.11% - Test Accuracy: 87.49%\n"
     ]
    },
    {
     "name": "stderr",
     "output_type": "stream",
     "text": [
      "\n",
      "Epoch 82: 100%|██████████| 500/500 [00:10<00:00, 49.24batch/s]\n",
      "Test 82: 100%|██████████| 100/100 [00:01<00:00, 77.54batch/s]"
     ]
    },
    {
     "name": "stdout",
     "output_type": "stream",
     "text": [
      "[Epoch 83] Train Loss: 0.223257 - Test Loss: 0.400246 - Train Accuracy: 92.05% - Test Accuracy: 87.49%\n"
     ]
    },
    {
     "name": "stderr",
     "output_type": "stream",
     "text": [
      "\n",
      "Epoch 83: 100%|██████████| 500/500 [00:10<00:00, 47.99batch/s]\n",
      "Test 83: 100%|██████████| 100/100 [00:01<00:00, 72.73batch/s]"
     ]
    },
    {
     "name": "stdout",
     "output_type": "stream",
     "text": [
      "[Epoch 84] Train Loss: 0.222174 - Test Loss: 0.398270 - Train Accuracy: 92.13% - Test Accuracy: 87.53%\n"
     ]
    },
    {
     "name": "stderr",
     "output_type": "stream",
     "text": [
      "\n",
      "Epoch 84: 100%|██████████| 500/500 [00:10<00:00, 48.39batch/s]\n",
      "Test 84: 100%|██████████| 100/100 [00:01<00:00, 72.70batch/s]"
     ]
    },
    {
     "name": "stdout",
     "output_type": "stream",
     "text": [
      "[Epoch 85] Train Loss: 0.221817 - Test Loss: 0.398983 - Train Accuracy: 92.13% - Test Accuracy: 87.51%\n"
     ]
    },
    {
     "name": "stderr",
     "output_type": "stream",
     "text": [
      "\n",
      "Epoch 85: 100%|██████████| 500/500 [00:10<00:00, 48.72batch/s]\n",
      "Test 85: 100%|██████████| 100/100 [00:01<00:00, 64.45batch/s]"
     ]
    },
    {
     "name": "stdout",
     "output_type": "stream",
     "text": [
      "[Epoch 86] Train Loss: 0.218541 - Test Loss: 0.399952 - Train Accuracy: 92.27% - Test Accuracy: 87.45%\n"
     ]
    },
    {
     "name": "stderr",
     "output_type": "stream",
     "text": [
      "\n",
      "Epoch 86: 100%|██████████| 500/500 [00:10<00:00, 48.49batch/s]\n",
      "Test 86: 100%|██████████| 100/100 [00:01<00:00, 72.87batch/s]"
     ]
    },
    {
     "name": "stdout",
     "output_type": "stream",
     "text": [
      "[Epoch 87] Train Loss: 0.218662 - Test Loss: 0.399289 - Train Accuracy: 92.33% - Test Accuracy: 87.47%\n"
     ]
    },
    {
     "name": "stderr",
     "output_type": "stream",
     "text": [
      "\n",
      "Epoch 87: 100%|██████████| 500/500 [00:10<00:00, 48.88batch/s]\n",
      "Test 87: 100%|██████████| 100/100 [00:01<00:00, 75.22batch/s]"
     ]
    },
    {
     "name": "stdout",
     "output_type": "stream",
     "text": [
      "[Epoch 88] Train Loss: 0.218543 - Test Loss: 0.399783 - Train Accuracy: 92.29% - Test Accuracy: 87.45%\n"
     ]
    },
    {
     "name": "stderr",
     "output_type": "stream",
     "text": [
      "\n",
      "Epoch 88: 100%|██████████| 500/500 [00:10<00:00, 47.90batch/s]\n",
      "Test 88: 100%|██████████| 100/100 [00:01<00:00, 73.90batch/s]"
     ]
    },
    {
     "name": "stdout",
     "output_type": "stream",
     "text": [
      "[Epoch 89] Train Loss: 0.219114 - Test Loss: 0.397637 - Train Accuracy: 92.35% - Test Accuracy: 87.56%\n"
     ]
    },
    {
     "name": "stderr",
     "output_type": "stream",
     "text": [
      "\n",
      "Epoch 89: 100%|██████████| 500/500 [00:10<00:00, 49.08batch/s]\n",
      "Test 89: 100%|██████████| 100/100 [00:01<00:00, 73.86batch/s]"
     ]
    },
    {
     "name": "stdout",
     "output_type": "stream",
     "text": [
      "[Epoch 90] Train Loss: 0.219990 - Test Loss: 0.400663 - Train Accuracy: 92.17% - Test Accuracy: 87.46%\n"
     ]
    },
    {
     "name": "stderr",
     "output_type": "stream",
     "text": [
      "\n",
      "Epoch 90: 100%|██████████| 500/500 [00:10<00:00, 48.56batch/s]\n",
      "Test 90: 100%|██████████| 100/100 [00:01<00:00, 73.26batch/s]"
     ]
    },
    {
     "name": "stdout",
     "output_type": "stream",
     "text": [
      "[Epoch 91] Train Loss: 0.220868 - Test Loss: 0.398077 - Train Accuracy: 92.16% - Test Accuracy: 87.50%\n"
     ]
    },
    {
     "name": "stderr",
     "output_type": "stream",
     "text": [
      "\n",
      "Epoch 91: 100%|██████████| 500/500 [00:10<00:00, 47.85batch/s]\n",
      "Test 91: 100%|██████████| 100/100 [00:01<00:00, 73.16batch/s]"
     ]
    },
    {
     "name": "stdout",
     "output_type": "stream",
     "text": [
      "[Epoch 92] Train Loss: 0.222747 - Test Loss: 0.398978 - Train Accuracy: 92.12% - Test Accuracy: 87.45%\n"
     ]
    },
    {
     "name": "stderr",
     "output_type": "stream",
     "text": [
      "\n",
      "Epoch 92: 100%|██████████| 500/500 [00:10<00:00, 49.40batch/s]\n",
      "Test 92: 100%|██████████| 100/100 [00:01<00:00, 75.49batch/s]"
     ]
    },
    {
     "name": "stdout",
     "output_type": "stream",
     "text": [
      "[Epoch 93] Train Loss: 0.215124 - Test Loss: 0.400583 - Train Accuracy: 92.46% - Test Accuracy: 87.51%\n"
     ]
    },
    {
     "name": "stderr",
     "output_type": "stream",
     "text": [
      "\n",
      "Epoch 93: 100%|██████████| 500/500 [00:10<00:00, 49.47batch/s]\n",
      "Test 93: 100%|██████████| 100/100 [00:01<00:00, 73.05batch/s]"
     ]
    },
    {
     "name": "stdout",
     "output_type": "stream",
     "text": [
      "[Epoch 94] Train Loss: 0.221720 - Test Loss: 0.398355 - Train Accuracy: 92.12% - Test Accuracy: 87.55%\n"
     ]
    },
    {
     "name": "stderr",
     "output_type": "stream",
     "text": [
      "\n",
      "Epoch 94: 100%|██████████| 500/500 [00:10<00:00, 47.71batch/s]\n",
      "Test 94: 100%|██████████| 100/100 [00:01<00:00, 73.19batch/s]"
     ]
    },
    {
     "name": "stdout",
     "output_type": "stream",
     "text": [
      "[Epoch 95] Train Loss: 0.219789 - Test Loss: 0.397687 - Train Accuracy: 92.28% - Test Accuracy: 87.49%\n"
     ]
    },
    {
     "name": "stderr",
     "output_type": "stream",
     "text": [
      "\n",
      "Epoch 95: 100%|██████████| 500/500 [00:10<00:00, 49.83batch/s]\n",
      "Test 95: 100%|██████████| 100/100 [00:01<00:00, 74.91batch/s]"
     ]
    },
    {
     "name": "stdout",
     "output_type": "stream",
     "text": [
      "[Epoch 96] Train Loss: 0.220467 - Test Loss: 0.398559 - Train Accuracy: 92.18% - Test Accuracy: 87.49%\n"
     ]
    },
    {
     "name": "stderr",
     "output_type": "stream",
     "text": [
      "\n",
      "Epoch 96: 100%|██████████| 500/500 [00:10<00:00, 48.97batch/s]\n",
      "Test 96: 100%|██████████| 100/100 [00:01<00:00, 65.74batch/s]"
     ]
    },
    {
     "name": "stdout",
     "output_type": "stream",
     "text": [
      "[Epoch 97] Train Loss: 0.221273 - Test Loss: 0.398398 - Train Accuracy: 92.14% - Test Accuracy: 87.55%\n"
     ]
    },
    {
     "name": "stderr",
     "output_type": "stream",
     "text": [
      "\n",
      "Epoch 97: 100%|██████████| 500/500 [00:10<00:00, 49.21batch/s]\n",
      "Test 97: 100%|██████████| 100/100 [00:01<00:00, 74.68batch/s]"
     ]
    },
    {
     "name": "stdout",
     "output_type": "stream",
     "text": [
      "[Epoch 98] Train Loss: 0.217211 - Test Loss: 0.400337 - Train Accuracy: 92.28% - Test Accuracy: 87.47%\n"
     ]
    },
    {
     "name": "stderr",
     "output_type": "stream",
     "text": [
      "\n",
      "Epoch 98: 100%|██████████| 500/500 [00:10<00:00, 49.38batch/s]\n",
      "Test 98: 100%|██████████| 100/100 [00:01<00:00, 75.35batch/s]"
     ]
    },
    {
     "name": "stdout",
     "output_type": "stream",
     "text": [
      "[Epoch 99] Train Loss: 0.221365 - Test Loss: 0.398040 - Train Accuracy: 92.17% - Test Accuracy: 87.53%\n"
     ]
    },
    {
     "name": "stderr",
     "output_type": "stream",
     "text": [
      "\n",
      "Epoch 99: 100%|██████████| 500/500 [00:10<00:00, 47.72batch/s]\n",
      "Test 99: 100%|██████████| 100/100 [00:01<00:00, 70.75batch/s]"
     ]
    },
    {
     "name": "stdout",
     "output_type": "stream",
     "text": [
      "[Epoch 100] Train Loss: 0.220283 - Test Loss: 0.397624 - Train Accuracy: 92.15% - Test Accuracy: 87.48%\n",
      "\n",
      "BEST TEST ACCURACY:  87.57  in epoch  69\n"
     ]
    },
    {
     "name": "stderr",
     "output_type": "stream",
     "text": [
      "\n"
     ]
    }
   ],
   "source": [
    "net.to(device)\n",
    "\n",
    "print(\"\\n---- Start Training ----\")\n",
    "best_accuracy = -1\n",
    "best_epoch = 0\n",
    "for epoch in range(epochs):\n",
    "\n",
    "\n",
    "    # TRAIN NETWORK\n",
    "    train_loss, train_correct = 0, 0\n",
    "    net.train()\n",
    "    with tqdm(iter(train_dataloader), desc=\"Epoch \" + str(epoch), unit=\"batch\") as tepoch:\n",
    "        for batch in tepoch:\n",
    "            \n",
    "            # Returned values of Dataset Class\n",
    "            images = batch[\"img\"].to(device)\n",
    "            labels = batch[\"label\"].to(device)\n",
    "\n",
    "            # zero the parameter gradients\n",
    "            optimizer.zero_grad()\n",
    "\n",
    "            # Forward\n",
    "            outputs = net(images)\n",
    "            loss = criterion(outputs, labels)\n",
    "\n",
    "            # Calculate gradients\n",
    "            loss.backward()\n",
    "\n",
    "            # Update gradients\n",
    "            optimizer.step()\n",
    "\n",
    "            # one hot -> labels\n",
    "            labels = torch.argmax(labels, dim=1)\n",
    "            pred = torch.argmax(outputs, dim=1)\n",
    "            train_correct += pred.eq(labels).sum().item()\n",
    "\n",
    "            # print statistics\n",
    "            train_loss += loss.item()\n",
    "\n",
    "    train_loss /= (len(train_dataloader.dataset) / batch_size)\n",
    "\n",
    "    # TEST NETWORK\n",
    "    test_loss, test_correct = 0, 0\n",
    "    net.eval()\n",
    "    with torch.no_grad():\n",
    "      with tqdm(iter(test_dataloader), desc=\"Test \" + str(epoch), unit=\"batch\") as tepoch:\n",
    "          for batch in tepoch:\n",
    "\n",
    "            images = batch[\"img\"].to(device)\n",
    "            labels = batch[\"label\"].to(device)\n",
    "\n",
    "            # Forward\n",
    "            outputs = net(images)\n",
    "            test_loss += criterion(outputs, labels)\n",
    "\n",
    "            # one hot -> labels\n",
    "            labels = torch.argmax(labels, dim=1)\n",
    "            pred = torch.argmax(outputs, dim=1)\n",
    "\n",
    "            test_correct += pred.eq(labels).sum().item()\n",
    "\n",
    "    lr_scheduler.step(test_loss)\n",
    "\n",
    "    test_loss /= (len(test_dataloader.dataset) / batch_size)\n",
    "    test_accuracy = 100. * test_correct / len(test_dataloader.dataset)\n",
    "\n",
    "    print(\"[Epoch {}] Train Loss: {:.6f} - Test Loss: {:.6f} - Train Accuracy: {:.2f}% - Test Accuracy: {:.2f}%\".format(\n",
    "        epoch + 1, train_loss, test_loss, 100. * train_correct / len(train_dataloader.dataset), test_accuracy\n",
    "    ))\n",
    "\n",
    "    if test_accuracy > best_accuracy:\n",
    "        best_accuracy = test_accuracy\n",
    "        best_epoch = epoch\n",
    "\n",
    "        # Save best weights\n",
    "        torch.save(net.state_dict(), \"best_model_cifar_da_lra.pt\")\n",
    "\n",
    "print(\"\\nBEST TEST ACCURACY: \", best_accuracy, \" in epoch \", best_epoch)"
   ]
  },
  {
   "cell_type": "markdown",
   "metadata": {},
   "source": [
    "### **Mejor Modelo**"
   ]
  },
  {
   "cell_type": "code",
   "execution_count": 11,
   "metadata": {
    "execution": {
     "iopub.execute_input": "2025-01-15T15:05:03.107834Z",
     "iopub.status.busy": "2025-01-15T15:05:03.107537Z",
     "iopub.status.idle": "2025-01-15T15:05:04.627979Z",
     "shell.execute_reply": "2025-01-15T15:05:04.626095Z",
     "shell.execute_reply.started": "2025-01-15T15:05:03.107807Z"
    },
    "trusted": true
   },
   "outputs": [
    {
     "name": "stderr",
     "output_type": "stream",
     "text": [
      "<ipython-input-11-2aee849cebcb>:1: FutureWarning: You are using `torch.load` with `weights_only=False` (the current default value), which uses the default pickle module implicitly. It is possible to construct malicious pickle data which will execute arbitrary code during unpickling (See https://github.com/pytorch/pytorch/blob/main/SECURITY.md#untrusted-models for more details). In a future release, the default value for `weights_only` will be flipped to `True`. This limits the functions that could be executed during unpickling. Arbitrary objects will no longer be allowed to be loaded via this mode unless they are explicitly allowlisted by the user via `torch.serialization.add_safe_globals`. We recommend you start setting `weights_only=True` for any use case where you don't have full control of the loaded file. Please open an issue on GitHub for any issues related to this experimental feature.\n",
      "  net.load_state_dict(torch.load(\"best_model_cifar_da_lra.pt\"))\n",
      "Test 99: 100%|██████████| 100/100 [00:01<00:00, 69.22batch/s]"
     ]
    },
    {
     "name": "stdout",
     "output_type": "stream",
     "text": [
      "Final best acc:  87.57\n"
     ]
    },
    {
     "name": "stderr",
     "output_type": "stream",
     "text": [
      "\n"
     ]
    }
   ],
   "source": [
    "net.load_state_dict(torch.load(\"best_model_cifar_da_lra.pt\"))\n",
    "\n",
    "test_loss, test_correct = 0, 0\n",
    "net.eval()\n",
    "with torch.no_grad():\n",
    "    with tqdm(iter(test_dataloader), desc=\"Test \" + str(epoch), unit=\"batch\") as tepoch:\n",
    "        for batch in tepoch:\n",
    "\n",
    "            images = batch[\"img\"].to(device)\n",
    "            labels = batch[\"label\"].to(device)\n",
    "\n",
    "            # Forward\n",
    "            outputs = net(images)\n",
    "            test_loss += criterion(outputs, labels)\n",
    "\n",
    "            # one hot -> labels\n",
    "            labels = torch.argmax(labels, dim=1)\n",
    "            pred = torch.argmax(outputs, dim=1)\n",
    "\n",
    "            test_correct += pred.eq(labels).sum().item()\n",
    "\n",
    "    test_loss /= len(test_dataloader.dataset)\n",
    "    test_accuracy = 100. * test_correct / len(test_dataloader.dataset)\n",
    "print(\"Final best acc: \", test_accuracy)"
   ]
  }
 ],
 "metadata": {
  "kaggle": {
   "accelerator": "nvidiaTeslaT4",
   "dataSources": [],
   "dockerImageVersionId": 30840,
   "isGpuEnabled": true,
   "isInternetEnabled": true,
   "language": "python",
   "sourceType": "notebook"
  },
  "kernelspec": {
   "display_name": "Python 3",
   "language": "python",
   "name": "python3"
  },
  "language_info": {
   "codemirror_mode": {
    "name": "ipython",
    "version": 3
   },
   "file_extension": ".py",
   "mimetype": "text/x-python",
   "name": "python",
   "nbconvert_exporter": "python",
   "pygments_lexer": "ipython3",
   "version": "3.10.12"
  }
 },
 "nbformat": 4,
 "nbformat_minor": 4
}
